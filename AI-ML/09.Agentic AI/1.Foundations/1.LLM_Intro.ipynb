{
 "cells": [
  {
   "cell_type": "markdown",
   "metadata": {},
   "source": [
    "# Welcome to the start of your adventure in Agentic AI"
   ]
  },
  {
   "cell_type": "markdown",
   "metadata": {},
   "source": [
    "<table style=\"margin: 0; text-align: left; width:100%\">\n",
    "    <tr>\n",
    "        <td style=\"width: 150px; height: 150px; vertical-align: middle;\">\n",
    "            <img src=\"../assets/stop.png\" width=\"150\" height=\"150\" style=\"display: block;\" />\n",
    "        </td>\n",
    "        <td>\n",
    "            <h2 style=\"color:#ff7800;\">Are you ready for action??</h2>\n",
    "            <span style=\"color:#ff7800;\">Have you completed all the setup steps in the <a href=\"../setup/\">setup</a> folder?<br/>\n",
    "            Have you checked out the guides in the <a href=\"../guides/01_intro.ipynb\">guides</a> folder?<br/>\n",
    "            Well in that case, you're ready!!\n",
    "            </span>\n",
    "        </td>\n",
    "    </tr>\n",
    "</table>"
   ]
  },
  {
   "cell_type": "markdown",
   "metadata": {},
   "source": [
    "<table style=\"margin: 0; text-align: left; width:100%\">\n",
    "    <tr>\n",
    "        <td style=\"width: 150px; height: 150px; vertical-align: middle;\">\n",
    "            <img src=\"../assets/tools.png\" width=\"150\" height=\"150\" style=\"display: block;\" />\n",
    "        </td>\n",
    "        <td>\n",
    "            <h2 style=\"color:#00bfff;\">This code is a live resource - keep an eye out for my updates</h2>\n",
    "            <span style=\"color:#00bfff;\">I push updates regularly. As people ask questions or have problems, I add more examples and improve explanations. As a result, the code below might not be identical to the videos, as I've added more steps and better comments. Consider this like an interactive book that accompanies the lectures.<br/><br/>\n",
    "            I try to send emails regularly with important updates related to the course. You can find this in the 'Announcements' section of Udemy in the left sidebar. You can also choose to receive my emails via your Notification Settings in Udemy. I'm respectful of your inbox and always try to add value with my emails!\n",
    "            </span>\n",
    "        </td>\n",
    "    </tr>\n",
    "</table>"
   ]
  },
  {
   "cell_type": "markdown",
   "metadata": {},
   "source": [
    "### And please do remember to contact me if I can help\n",
    "\n",
    "And I love to connect: https://www.linkedin.com/in/eddonner/\n",
    "\n",
    "\n",
    "### New to Notebooks like this one? Head over to the guides folder!\n",
    "\n",
    "Just to check you've already added the Python and Jupyter extensions to Cursor, if not already installed:\n",
    "- Open extensions (View >> extensions)\n",
    "- Search for python, and when the results show, click on the ms-python one, and Install it if not already installed\n",
    "- Search for jupyter, and when the results show, click on the Microsoft one, and Install it if not already installed  \n",
    "Then View >> Explorer to bring back the File Explorer.\n",
    "\n",
    "And then:\n",
    "1. Click where it says \"Select Kernel\" near the top right, and select the option called `.venv (Python 3.12.9)` or similar, which should be the first choice or the most prominent choice. You may need to choose \"Python Environments\" first.\n",
    "2. Click in each \"cell\" below, starting with the cell immediately below this text, and press Shift+Enter to run\n",
    "3. Enjoy!\n",
    "\n",
    "After you click \"Select Kernel\", if there is no option like `.venv (Python 3.12.9)` then please do the following:  \n",
    "1. On Mac: From the Cursor menu, choose Settings >> VS Code Settings (NOTE: be sure to select `VSCode Settings` not `Cursor Settings`);  \n",
    "On Windows PC: From the File menu, choose Preferences >> VS Code Settings(NOTE: be sure to select `VSCode Settings` not `Cursor Settings`)  \n",
    "2. In the Settings search bar, type \"venv\"  \n",
    "3. In the field \"Path to folder with a list of Virtual Environments\" put the path to the project root, like C:\\Users\\username\\projects\\agents (on a Windows PC) or /Users/username/projects/agents (on Mac or Linux).  \n",
    "And then try again.\n",
    "\n",
    "Having problems with missing Python versions in that list? Have you ever used Anaconda before? It might be interferring. Quit Cursor, bring up a new command line, and make sure that your Anaconda environment is deactivated:    \n",
    "`conda deactivate`  \n",
    "And if you still have any problems with conda and python versions, it's possible that you will need to run this too:  \n",
    "`conda config --set auto_activate_base false`  \n",
    "and then from within the Agents directory, you should be able to run `uv python list` and see the Python 3.12 version."
   ]
  },
  {
   "cell_type": "code",
   "execution_count": 2,
   "metadata": {},
   "outputs": [],
   "source": [
    "# And now - the all important import statement\n",
    "# If you get an import error - head over to troubleshooting guide\n",
    "\n",
    "from ollama import chat"
   ]
  },
  {
   "cell_type": "code",
   "execution_count": 3,
   "metadata": {},
   "outputs": [],
   "source": [
    "# Create a list of messages in the familiar OpenAI format\n",
    "\n",
    "messages = [{\"role\": \"user\", \"content\": \"What is 2+2?\"}]"
   ]
  },
  {
   "cell_type": "code",
   "execution_count": 5,
   "metadata": {},
   "outputs": [
    {
     "name": "stdout",
     "output_type": "stream",
     "text": [
      "Two plus two equals four.\n"
     ]
    }
   ],
   "source": [
    "# And now call it! Any problems, head to the troubleshooting guide\n",
    "# This uses GPT 4.1 nano, the incredibly cheap model\n",
    "\n",
    "response = chat(\n",
    "    model=\"llama3.2:1b\",\n",
    "    messages=messages\n",
    ")\n",
    "\n",
    "print(response.message.content)\n"
   ]
  },
  {
   "cell_type": "code",
   "execution_count": 6,
   "metadata": {},
   "outputs": [],
   "source": [
    "# And now - let's ask for a question:\n",
    "\n",
    "question = \"Please propose a hard, challenging question to assess someone's IQ. Respond only with the question.\"\n",
    "messages = [{\"role\": \"user\", \"content\": question}]\n"
   ]
  },
  {
   "cell_type": "code",
   "execution_count": 7,
   "metadata": {},
   "outputs": [
    {
     "name": "stdout",
     "output_type": "stream",
     "text": [
      "What is the mathematical representation of the phrase \"the set of all sets that contain all elements of another set\" in terms of subset relations?\n"
     ]
    }
   ],
   "source": [
    "# ask it - this uses GPT 4.1 mini, still cheap but more powerful than nano\n",
    "\n",
    "response = chat(\n",
    "    model=\"llama3.2:1b\",\n",
    "    messages=messages\n",
    ")\n",
    "\n",
    "question = response.message.content\n",
    "\n",
    "print(question)\n"
   ]
  },
  {
   "cell_type": "code",
   "execution_count": 8,
   "metadata": {},
   "outputs": [],
   "source": [
    "# form a new messages list\n",
    "messages = [{\"role\": \"user\", \"content\": question}]\n"
   ]
  },
  {
   "cell_type": "code",
   "execution_count": 10,
   "metadata": {},
   "outputs": [
    {
     "name": "stdout",
     "output_type": "stream",
     "text": [
      "The phrase you're referring to can be represented mathematically using a recursive relation. Let's denote a set as X.\n",
      "\n",
      "We can define the set of all sets that contain all elements of another set, denoted as S(X), using the following recursive formula:\n",
      "\n",
      "S(X) = {A ∪ B | A ∈ X, B ∈ X}\n",
      "\n",
      "where A and B are subsets of X.\n",
      "\n",
      "To understand this representation, let's break it down step by step:\n",
      "\n",
      "* For a single element x ∈ X, we can consider all possible subsets of X containing x: {x}, {x, y} (if y is also in X), {x, y, z} (if z is also in X), and so on.\n",
      "* When we have multiple elements x, y ∈ X, the set S(X) contains all possible combinations of these pairs: ({x}, {y}), ({x}, {y}, {z}), ..., ({x}, {y}, ... , {z}) with z being any element not in the sets (since it's not included).\n",
      "* Using this recursive approach, we can see that for a set X to be in S(X), every subset of X must also be in S(X).\n",
      "\n",
      "This is exactly how the mathematical representation of \"the set of all sets that contain all elements of another set\" looks like using subset relations.\n"
     ]
    }
   ],
   "source": [
    "# Ask it again\n",
    "\n",
    "response = chat(\n",
    "    model=\"llama3.2:1b\",\n",
    "    messages=messages\n",
    ")\n",
    "\n",
    "answer = response.message.content\n",
    "print(answer)\n"
   ]
  },
  {
   "cell_type": "code",
   "execution_count": 11,
   "metadata": {},
   "outputs": [
    {
     "data": {
      "text/markdown": [
       "The phrase you're referring to can be represented mathematically using a recursive relation. Let's denote a set as X.\n",
       "\n",
       "We can define the set of all sets that contain all elements of another set, denoted as S(X), using the following recursive formula:\n",
       "\n",
       "S(X) = {A ∪ B | A ∈ X, B ∈ X}\n",
       "\n",
       "where A and B are subsets of X.\n",
       "\n",
       "To understand this representation, let's break it down step by step:\n",
       "\n",
       "* For a single element x ∈ X, we can consider all possible subsets of X containing x: {x}, {x, y} (if y is also in X), {x, y, z} (if z is also in X), and so on.\n",
       "* When we have multiple elements x, y ∈ X, the set S(X) contains all possible combinations of these pairs: ({x}, {y}), ({x}, {y}, {z}), ..., ({x}, {y}, ... , {z}) with z being any element not in the sets (since it's not included).\n",
       "* Using this recursive approach, we can see that for a set X to be in S(X), every subset of X must also be in S(X).\n",
       "\n",
       "This is exactly how the mathematical representation of \"the set of all sets that contain all elements of another set\" looks like using subset relations."
      ],
      "text/plain": [
       "<IPython.core.display.Markdown object>"
      ]
     },
     "metadata": {},
     "output_type": "display_data"
    }
   ],
   "source": [
    "from IPython.display import Markdown, display\n",
    "\n",
    "display(Markdown(answer))\n",
    "\n"
   ]
  },
  {
   "cell_type": "markdown",
   "metadata": {},
   "source": [
    "# Congratulations!\n",
    "\n",
    "That was a small, simple step in the direction of Agentic AI, with your new environment!\n",
    "\n",
    "Next time things get more interesting..."
   ]
  },
  {
   "cell_type": "markdown",
   "metadata": {},
   "source": [
    "<table style=\"margin: 0; text-align: left; width:100%\">\n",
    "    <tr>\n",
    "        <td style=\"width: 150px; height: 150px; vertical-align: middle;\">\n",
    "            <img src=\"../assets/exercise.png\" width=\"150\" height=\"150\" style=\"display: block;\" />\n",
    "        </td>\n",
    "        <td>\n",
    "            <h2 style=\"color:#ff7800;\">Exercise</h2>\n",
    "            <span style=\"color:#ff7800;\">Now try this commercial application:<br/>\n",
    "            First ask the LLM to pick a business area that might be worth exploring for an Agentic AI opportunity.<br/>\n",
    "            Then ask the LLM to present a pain-point in that industry - something challenging that might be ripe for an Agentic solution.<br/>\n",
    "            Finally have 3 third LLM call propose the Agentic AI solution.\n",
    "            </span>\n",
    "        </td>\n",
    "    </tr>\n",
    "</table>"
   ]
  },
  {
   "cell_type": "code",
   "execution_count": 15,
   "metadata": {},
   "outputs": [
    {
     "data": {
      "text/markdown": [
       "One potential business idea for an Agnostic AI opportunity is:\n",
       "\n",
       "**AI-powered Personalized Education Platform**\n",
       "\n",
       "This platform would use machine learning algorithms to analyze individual students' learning styles, strengths, and weaknesses, providing tailored educational content and recommendations for improvement. The platform could leverage various data sources, including student records, educational institutions, and external data sources (e.g., academic research papers)."
      ],
      "text/plain": [
       "<IPython.core.display.Markdown object>"
      ]
     },
     "metadata": {},
     "output_type": "display_data"
    }
   ],
   "source": [
    "# First create the messages:\n",
    "question = \"Recommend a bussiness idea which might be worth exploring for an Agentic AI Opportunity. Answer only with the idea.\"\n",
    "\n",
    "messages = [{\"role\": \"user\", \"content\": question}]\n",
    "\n",
    "# Then make the first call:\n",
    "\n",
    "response = chat(\n",
    "    model=\"llama3.2:1b\",\n",
    "    messages=messages\n",
    ")\n",
    "\n",
    "# Then read the business idea:\n",
    "\n",
    "business_idea = response.message.content\n",
    "display(Markdown(business_idea))\n",
    "# And repeat!"
   ]
  },
  {
   "cell_type": "code",
   "execution_count": 16,
   "metadata": {},
   "outputs": [
    {
     "data": {
      "text/markdown": [
       "Here are some potential pain points in an education platform:\n",
       "\n",
       "1. **Lack of Personalization**: Many students and teachers feel that the current educational platforms lack personalization, making it difficult to tailor content and experiences to individual needs and learning styles.\n",
       "2. **Inefficient Communication**: Poor communication between teachers, parents, and administrators can lead to confusion, miscommunication, and frustration in the education system.\n",
       "3. **Limited Accessibility**: Many students with disabilities or special needs struggle to access educational materials and resources due to lack of accommodations or assistive technologies.\n",
       "4. **Resource Management**: Teachers often have limited time and resources to manage their classrooms, leading to burnout and decreased effectiveness in the classroom.\n",
       "5. **Assessment and Feedback**: The current assessment methods can be ineffective, taking away from teaching time and creating a culture of fear rather than support and encouragement.\n",
       "6. **Inadequate Support for Different Learning Styles**: Many students struggle with traditional learning styles, requiring additional support and accommodations to access educational resources effectively.\n",
       "7. **Lack of Engagement and Motivation**: Students may feel disconnected from the learning process or lack motivation, leading to disengagement and low academic performance.\n",
       "8. **Data-Driven Decision Making**: Educators often struggle to interpret data and make informed decisions about curriculum design, teaching methods, and resource allocation.\n",
       "9. **Teacher Burnout**: Teachers face high levels of stress, pressure to meet standards, and limited time off, leading to burnout and decreased job satisfaction.\n",
       "10. **Limited Access to Emerging Technologies**: Students may not have access to the latest technologies or resources that can enhance their learning experience, such as virtual reality, artificial intelligence, or augmented reality.\n",
       "11. **Parent-Teacher Communication**: Lack of effective communication between parents and teachers can lead to missed opportunities for collaboration, support, and understanding.\n",
       "12. **Standardized Testing and Assessment**: The current testing system can be overly burdensome, leading to teacher stress and decreased morale, while also not accurately reflecting student learning outcomes.\n",
       "13. **Inadequate Online Safety and Security**: Students may face online threats, such as cyberbullying or exploitation, that can impact their well-being and academic success.\n",
       "14. **Limited Accessibility for Low-Income Students**: Students from low-income backgrounds may struggle to access educational resources due to financial constraints or lack of transportation.\n",
       "15. **Teacher Training and Support**: Teachers often require additional training and support to effectively teach students with diverse needs, but this is not always available or accessible.\n",
       "\n",
       "These pain points highlight areas where an education platform can make a positive impact by addressing the underlying challenges and providing more effective solutions for teachers, students, and parents."
      ],
      "text/plain": [
       "<IPython.core.display.Markdown object>"
      ]
     },
     "metadata": {},
     "output_type": "display_data"
    }
   ],
   "source": [
    "question = \"What are the pain points in Education Platform\"\n",
    "\n",
    "messages = [{\"role\": \"user\", \"content\": question}]\n",
    "\n",
    "# Then make the first call:\n",
    "\n",
    "response = chat(\n",
    "    model=\"llama3.2:1b\",\n",
    "    messages=messages\n",
    ")\n",
    "\n",
    "# Then read the business idea:\n",
    "\n",
    "pain_points = response.message.content\n",
    "display(Markdown(pain_points))"
   ]
  },
  {
   "cell_type": "code",
   "execution_count": 17,
   "metadata": {},
   "outputs": [
    {
     "data": {
      "text/markdown": [
       "An AI-powered solution can significantly address these pain points in several ways:\n",
       "\n",
       "**Personalization**\n",
       "\n",
       "1. **Content recommendation engine**: Develop a personalized content recommendation engine that suggests relevant learning materials based on individual student needs and learning styles.\n",
       "2. **Adaptive assessment**: Use machine learning algorithms to adapt assessment methods to each student's performance, providing immediate feedback and insights for improvement.\n",
       "\n",
       "**Inefficient Communication**\n",
       "\n",
       "1. **Chatbots and virtual assistants**: Implement chatbots or virtual assistants to facilitate communication between teachers, parents, and administrators, reducing misunderstandings and miscommunications.\n",
       "2. **Collaborative tools**: Develop collaborative tools that enable seamless communication among educators, such as shared calendars, task lists, and messaging systems.\n",
       "\n",
       "**Limited Accessibility**\n",
       "\n",
       "1. **Assistive technologies**: Integrate assistive technologies, like text-to-speech software, speech-to-text software, or adaptive keyboards, to enhance accessibility for students with disabilities.\n",
       "2. **Accessibility features**: Incorporate accessibility features into the platform, such as clear font sizes, high contrast modes, and closed captions for multimedia content.\n",
       "\n",
       "**Resource Management**\n",
       "\n",
       "1. **Timely resource allocation**: Use AI-powered resource allocation tools to predict and manage teacher workload, ensuring timely delivery of resources and support.\n",
       "2. **Task automation**: Automate routine tasks, freeing up instructors' time for more complex and personalized teaching activities.\n",
       "\n",
       "**Assessment and Feedback**\n",
       "\n",
       "1. **Automated grading**: Implement AI-driven grading systems that provide instant feedback on assignments, quizzes, and exams.\n",
       "2. **Personalized learning pathways**: Develop adaptive learning paths that adjust to each student's progress, providing targeted support and guidance.\n",
       "\n",
       "**Inadequate Support for Different Learning Styles**\n",
       "\n",
       "1. **Learning objectives assessment**: Use machine learning algorithms to assess students' learning objectives and provide recommendations for improvement.\n",
       "2. **Content categorization**: Categorize content into different learning styles (e.g., visual, auditory, kinesthetic) and recommend relevant resources accordingly.\n",
       "\n",
       "**Lack of Engagement and Motivation**\n",
       "\n",
       "1. **Gamification features**: Incorporate gamification elements, such as rewards, badges, or leaderboards, to increase student engagement and motivation.\n",
       "2. **Personalized motivational messages**: Use AI-powered messaging systems to send tailored motivational messages based on students' performance and progress.\n",
       "\n",
       "**Data-Driven Decision Making**\n",
       "\n",
       "1. **Data analytics platform**: Develop a data analytics platform that provides educators with actionable insights into student performance, resource allocation, and teacher effectiveness.\n",
       "2. **AI-driven recommendations**: Use machine learning algorithms to provide AI-driven recommendations for improving teaching practices and resource allocation.\n",
       "\n",
       "**Teacher Burnout**\n",
       "\n",
       "1. **Burnout prevention tools**: Incorporate burnout prevention tools, such as stress tracking features or mindfulness exercises, to help teachers manage their workload and reduce burnout.\n",
       "2. **Teacher support network**: Establish a peer-to-peer mentorship program that connects experienced teachers with newer educators, providing guidance and support.\n",
       "\n",
       "**Limited Access to Emerging Technologies**\n",
       "\n",
       "1. **Curated tech resources**: Develop a curated list of emerging technologies that are accessible to all students, with clear instructions on how to use them.\n",
       "2. **STEM education integration**: Incorporate STEM education into the platform, making it easy for students to explore and learn about these subjects.\n",
       "\n",
       "**Parent-Teacher Communication**\n",
       "\n",
       "1. **Real-time messaging**: Use AI-powered messaging systems to facilitate real-time communication between parents and teachers.\n",
       "2. **Learning journal**: Develop a learning journal that allows parents to track their child's progress and receive regular updates from the teacher.\n",
       "\n",
       "**Standardized Testing and Assessment**\n",
       "\n",
       "1. **Adaptive assessment tools**: Implement adaptive assessment tools that adjust to each student's performance, providing immediate feedback and insights for improvement.\n",
       "2. **Blended assessments**: Develop blended assessments that combine multiple formats (e.g., written, oral, project-based) to provide a more comprehensive picture of student learning.\n",
       "\n",
       "**Inadequate Online Safety and Security**\n",
       "\n",
       "1. **AI-powered security features**: Incorporate AI-powered security features, such as threat detection and response systems, to protect students from online threats.\n",
       "2. **Data encryption**: Use end-to-end data encryption to safeguard sensitive student information.\n",
       "\n",
       "By addressing these pain points through the use of AI-powered solutions, an education platform can provide a more effective, personalized, and engaging experience for teachers, students, and parents, ultimately leading to improved academic outcomes and a more positive educational experience."
      ],
      "text/plain": [
       "<IPython.core.display.Markdown object>"
      ]
     },
     "metadata": {},
     "output_type": "display_data"
    }
   ],
   "source": [
    "question = f\"How can an AI Agent be a solution for following pain points in Education platform? {pain_points}\"\n",
    "\n",
    "messages = [{\"role\": \"user\", \"content\": question}]\n",
    "\n",
    "# Then make the first call:\n",
    "\n",
    "response = chat(\n",
    "    model=\"llama3.2:1b\",\n",
    "    messages=messages\n",
    ")\n",
    "\n",
    "# Then read the business idea:\n",
    "\n",
    "solutions = response.message.content\n",
    "display(Markdown(solutions))"
   ]
  },
  {
   "cell_type": "markdown",
   "metadata": {},
   "source": []
  }
 ],
 "metadata": {
  "kernelspec": {
   "display_name": ".venv",
   "language": "python",
   "name": "python3"
  },
  "language_info": {
   "codemirror_mode": {
    "name": "ipython",
    "version": 3
   },
   "file_extension": ".py",
   "mimetype": "text/x-python",
   "name": "python",
   "nbconvert_exporter": "python",
   "pygments_lexer": "ipython3",
   "version": "3.12.9"
  }
 },
 "nbformat": 4,
 "nbformat_minor": 2
}
