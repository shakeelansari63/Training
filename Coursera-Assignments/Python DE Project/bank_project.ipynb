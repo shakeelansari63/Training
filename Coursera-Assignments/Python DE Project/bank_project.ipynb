{
 "cells": [
  {
   "cell_type": "code",
   "execution_count": 1,
   "id": "3806ea7e-cd75-4c31-9d4e-2e039b78d8c4",
   "metadata": {},
   "outputs": [],
   "source": [
    "from bs4 import BeautifulSoup\n",
    "import requests\n",
    "import pandas as pd\n",
    "import numpy as np\n",
    "import sqlite3\n",
    "from datetime import datetime "
   ]
  },
  {
   "cell_type": "code",
   "execution_count": 2,
   "id": "6807c776-9eb2-4360-92b6-171c4cc80019",
   "metadata": {},
   "outputs": [],
   "source": [
    "url = 'https://web.archive.org/web/20230908091635/https://en.wikipedia.org/wiki/List_of_largest_banks'\n",
    "table_attribs = [\"Name\", \"MC_USD_Billion\"]\n",
    "final_table_attributes = [\"Name\", \"MC_USD_Billion\", \"MC_GBP_Billion\", \"MC_EUR_Billion\", \"MC_INR_Billion\"]\n",
    "db_name = 'Banks.db'\n",
    "table_name = 'Largest_banks'\n",
    "csv_path = './Largest_banks_data.csv'"
   ]
  },
  {
   "cell_type": "code",
   "execution_count": 3,
   "id": "c713e02b-a2f4-4219-81cd-a9347008e399",
   "metadata": {},
   "outputs": [],
   "source": [
    "def log_progress(message):\n",
    "    timestamp_format = '%Y-%h-%d-%H:%M:%S' \n",
    "    now = datetime.now() \n",
    "    timestamp = now.strftime(timestamp_format) \n",
    "    with open(\"./code_log.txt\",\"a\") as f: \n",
    "        f.write(timestamp + ' : ' + message + '\\n') "
   ]
  },
  {
   "cell_type": "code",
   "execution_count": 38,
   "id": "459fc52b-7964-4162-b3ae-183ab11ed310",
   "metadata": {},
   "outputs": [],
   "source": [
    "def extract(url, table_attribs):\n",
    "    page = requests.get(url).text\n",
    "    data = BeautifulSoup(page,'html.parser')\n",
    "    df = pd.DataFrame(columns=table_attribs)\n",
    "    tables = data.find_all('tbody')\n",
    "    rows = tables[0].find_all('tr')\n",
    "    for row in rows:\n",
    "        col = row.find_all('td')\n",
    "        if len(col)!=0:\n",
    "            data_dict = {\"Name\": col[1].find_all('a')[-1].contents[0],\n",
    "                            \"MC_USD_Billion\": col[2].contents[0].strip('\\n')}\n",
    "            df1 = pd.DataFrame(data_dict, index=[0])\n",
    "            df = pd.concat([df,df1], ignore_index=True)\n",
    "    return df"
   ]
  },
  {
   "cell_type": "code",
   "execution_count": 39,
   "id": "5ea6af39-3847-4def-8d67-e440a5e562c6",
   "metadata": {},
   "outputs": [],
   "source": [
    "def transform(df, csv_path):\n",
    "    exchange_rate = pd.read_csv(csv_path, index_col=0)['Rate'].to_dict()\n",
    "    df['MC_GBP_Billion'] = [np.round(float(x)*exchange_rate['GBP'],2) for x in df['MC_USD_Billion']]\n",
    "    df['MC_EUR_Billion'] = [np.round(float(x)*exchange_rate['EUR'],2) for x in df['MC_USD_Billion']]\n",
    "    df['MC_INR_Billion'] = [np.round(float(x)*exchange_rate['INR'],2) for x in df['MC_USD_Billion']]\n",
    "    return df"
   ]
  },
  {
   "cell_type": "code",
   "execution_count": 41,
   "id": "f93dec79-e633-405f-bacd-aa4cbdeb74b1",
   "metadata": {},
   "outputs": [],
   "source": [
    "def load_to_csv(df, output_path):\n",
    "    df.to_csv(csv_path, index=False)"
   ]
  },
  {
   "cell_type": "code",
   "execution_count": 42,
   "id": "c9634c6e-2e4b-42cd-9a43-64ffe234a114",
   "metadata": {},
   "outputs": [],
   "source": [
    "def load_to_db(df, sql_connection, table_name):\n",
    "    df.to_sql(table_name, sql_connection, if_exists='replace', index=False)"
   ]
  },
  {
   "cell_type": "code",
   "execution_count": 46,
   "id": "394bca0f-57f5-41b2-8dd0-960180836b5d",
   "metadata": {},
   "outputs": [],
   "source": [
    "def run_query(query_statement, sql_connection):\n",
    "    print(query_statement)\n",
    "    query_output = pd.read_sql(query_statement, sql_connection)\n",
    "    print(query_output)"
   ]
  },
  {
   "cell_type": "code",
   "execution_count": 52,
   "id": "bfe05028-af46-4588-a61a-6358697617e0",
   "metadata": {},
   "outputs": [
    {
     "name": "stdout",
     "output_type": "stream",
     "text": [
      "SELECT * FROM Largest_banks\n",
      "                                      Name MC_USD_Billion  MC_GBP_Billion  \\\n",
      "0                           JPMorgan Chase         432.92          346.34   \n",
      "1                          Bank of America         231.52          185.22   \n",
      "2  Industrial and Commercial Bank of China         194.56          155.65   \n",
      "3               Agricultural Bank of China         160.68          128.54   \n",
      "4                                HDFC Bank         157.91          126.33   \n",
      "5                              Wells Fargo         155.87          124.70   \n",
      "6                        HSBC Holdings PLC         148.90          119.12   \n",
      "7                           Morgan Stanley         140.83          112.66   \n",
      "8                  China Construction Bank         139.82          111.86   \n",
      "9                            Bank of China         136.81          109.45   \n",
      "\n",
      "   MC_EUR_Billion  MC_INR_Billion  \n",
      "0          402.62        35910.71  \n",
      "1          215.31        19204.58  \n",
      "2          180.94        16138.75  \n",
      "3          149.43        13328.41  \n",
      "4          146.86        13098.63  \n",
      "5          144.96        12929.42  \n",
      "6          138.48        12351.26  \n",
      "7          130.97        11681.85  \n",
      "8          130.03        11598.07  \n",
      "9          127.23        11348.39  \n",
      "-------------------------------------\n",
      "SELECT AVG(MC_GBP_Billion) FROM Largest_banks\n",
      "   AVG(MC_GBP_Billion)\n",
      "0              151.987\n",
      "-------------------------------------\n",
      "SELECT Name from Largest_banks LIMIT 5\n",
      "                                      Name\n",
      "0                           JPMorgan Chase\n",
      "1                          Bank of America\n",
      "2  Industrial and Commercial Bank of China\n",
      "3               Agricultural Bank of China\n",
      "4                                HDFC Bank\n",
      "-------------------------------------\n"
     ]
    }
   ],
   "source": [
    "# Extract\n",
    "log_progress('Preliminaries complete. Initiating ETL process')\n",
    "\n",
    "df = extract(url, table_attribs)\n",
    "log_progress('Data extraction complete. Initiating Transformation process')\n",
    "\n",
    "df = transform(df, 'exchange_rate.csv')\n",
    "log_progress('Data transformation complete. Initiating loading process')\n",
    "\n",
    "load_to_csv(df, csv_path)\n",
    "log_progress('Data saved to CSV file')\n",
    "\n",
    "sql_connection = sqlite3.connect(db_name)\n",
    "load_to_db(df, sql_connection, table_name)\n",
    "log_progress('Data loaded to Database as table. Running the query')\n",
    "\n",
    "query1 = \"SELECT * FROM Largest_banks\"\n",
    "run_query(query1, sql_connection)\n",
    "print('-------------------------------------')\n",
    "query2 = \"SELECT AVG(MC_GBP_Billion) FROM Largest_banks\"\n",
    "run_query(query2, sql_connection)\n",
    "print('-------------------------------------')\n",
    "query3 = \"SELECT Name from Largest_banks LIMIT 5\"\n",
    "run_query(query3, sql_connection)\n",
    "print('-------------------------------------')\n",
    "\n",
    "log_progress('Process Complete.')\n",
    "\n",
    "sql_connection.close()"
   ]
  }
 ],
 "metadata": {
  "kernelspec": {
   "display_name": "Python 3 (ipykernel)",
   "language": "python",
   "name": "python3"
  },
  "language_info": {
   "codemirror_mode": {
    "name": "ipython",
    "version": 3
   },
   "file_extension": ".py",
   "mimetype": "text/x-python",
   "name": "python",
   "nbconvert_exporter": "python",
   "pygments_lexer": "ipython3",
   "version": "3.9.19"
  }
 },
 "nbformat": 4,
 "nbformat_minor": 5
}
