{
 "cells": [
  {
   "cell_type": "markdown",
   "id": "8732a3cf-168a-431e-8299-a39381ad240e",
   "metadata": {},
   "source": [
    "## Simple Interaction from Ollama Model using langchain"
   ]
  },
  {
   "cell_type": "code",
   "execution_count": 9,
   "id": "cdbacf54-9d24-427f-ab30-df3f764c0fe5",
   "metadata": {},
   "outputs": [
    {
     "name": "stdout",
     "output_type": "stream",
     "text": [
      "To lose weight within 3 months, start by creating a balanced diet, including plenty of fruits, vegetables, lean proteins, and whole grains. Balance this with regular physical activity such as walking for at least 30 minutes daily or engaging in light resistance training (e.g., bodyweight squats, push-ups). Aim to eat a healthy snack every few hours between meals, avoiding unhealthy temptations. Monitor your progress and adjust your plan based on your initial weight loss goals and ongoing health improvements.\n"
     ]
    }
   ],
   "source": [
    "from langchain_ollama.chat_models import ChatOllama\n",
    "from langchain.schema import AIMessage, SystemMessage, HumanMessage\n",
    "\n",
    "# Create chat ollama class to interact with ollama models\n",
    "llm = ChatOllama(\n",
    "    base_url = 'http://localhost:11434',\n",
    "    model = 'qwen2.5:0.5b'\n",
    ")\n",
    "\n",
    "# Set Messages\n",
    "messages = [\n",
    "    SystemMessage(\"\"\"You are a health expert. \n",
    "        Answer user's questions on health related topics. \n",
    "        Respond in maximum 3 sentences and keep your answer concise.\n",
    "    \"\"\"),\n",
    "    HumanMessage(\"How to loose weight in 3 months?\")\n",
    "]\n",
    "\n",
    "# Print Output\n",
    "print(llm.invoke(messages).content)"
   ]
  }
 ],
 "metadata": {
  "kernelspec": {
   "display_name": "Python 3 (ipykernel)",
   "language": "python",
   "name": "python3"
  },
  "language_info": {
   "codemirror_mode": {
    "name": "ipython",
    "version": 3
   },
   "file_extension": ".py",
   "mimetype": "text/x-python",
   "name": "python",
   "nbconvert_exporter": "python",
   "pygments_lexer": "ipython3",
   "version": "3.12.9"
  }
 },
 "nbformat": 4,
 "nbformat_minor": 5
}
