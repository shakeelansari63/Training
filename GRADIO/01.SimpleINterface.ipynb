{
 "cells": [
  {
   "cell_type": "code",
   "execution_count": null,
   "id": "83ce7ea6-a6d2-4fad-acc0-7dd2cdb385ba",
   "metadata": {},
   "outputs": [],
   "source": [
    "## Install Some Basic Libs\n",
    "!pip install gradio openai"
   ]
  },
  {
   "cell_type": "code",
   "execution_count": null,
   "id": "6f418512-1cca-4631-b13b-bdffc06c511b",
   "metadata": {},
   "outputs": [],
   "source": [
    "import gradio as gr\n",
    "\n",
    "def shout(text: str):\n",
    "    return text.upper()\n",
    "\n",
    "gr.Interface(fn=shout, inputs=\"textbox\", outputs=\"textbox\", flagging_mode=\"never\").launch()"
   ]
  }
 ],
 "metadata": {
  "kernelspec": {
   "display_name": ".venv",
   "language": "python",
   "name": "python3"
  },
  "language_info": {
   "codemirror_mode": {
    "name": "ipython",
    "version": 3
   },
   "file_extension": ".py",
   "mimetype": "text/x-python",
   "name": "python",
   "nbconvert_exporter": "python",
   "pygments_lexer": "ipython3",
   "version": "3.13.7"
  }
 },
 "nbformat": 4,
 "nbformat_minor": 5
}
