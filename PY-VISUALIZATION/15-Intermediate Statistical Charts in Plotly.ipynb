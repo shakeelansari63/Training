{
 "cells": [
  {
   "cell_type": "markdown",
   "id": "c078a8f6-ad3e-4361-a7b1-8ee92ff412a1",
   "metadata": {},
   "source": [
    "# Intermedaite charts\n",
    "We will see following charts here\n",
    " - Bubble Chart\n",
    " - Bubble Map\n",
    " - Heatmap\n",
    " - Timeseries\n",
    " - Candlestick\n",
    " - SVG Paths and Shapes\n",
    " - Funner Chart"
   ]
  },
  {
   "cell_type": "code",
   "execution_count": null,
   "id": "1c8a671c-3610-4212-a350-9c4db3c165ae",
   "metadata": {},
   "outputs": [],
   "source": []
  }
 ],
 "metadata": {
  "kernelspec": {
   "display_name": "Python 3 (ipykernel)",
   "language": "python",
   "name": "python3"
  },
  "language_info": {
   "codemirror_mode": {
    "name": "ipython",
    "version": 3
   },
   "file_extension": ".py",
   "mimetype": "text/x-python",
   "name": "python",
   "nbconvert_exporter": "python",
   "pygments_lexer": "ipython3",
   "version": "3.9.19"
  }
 },
 "nbformat": 4,
 "nbformat_minor": 5
}
