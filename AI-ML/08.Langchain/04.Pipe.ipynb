{
 "cells": [
  {
   "cell_type": "markdown",
   "id": "a72f0341-58c4-4691-a78f-235213deb091",
   "metadata": {},
   "source": [
    "## Pipes"
   ]
  },
  {
   "cell_type": "markdown",
   "id": "ba8645fd-26c0-408e-8e6a-6da961ff7ba3",
   "metadata": {},
   "source": [
    "Using LLM chain has been deprecated in new versions of Langchain. And Using pipes is recommended way to use chains.  \n",
    "With Pipes, we can chain any number of components so that output of first component goes to input if next"
   ]
  },
  {
   "cell_type": "markdown",
   "id": "24055154-632c-4382-8f5d-8d5c995a1ba1",
   "metadata": {},
   "source": [
    "### Setup LLM"
   ]
  },
  {
   "cell_type": "code",
   "execution_count": 1,
   "id": "a70d96d7-3dbf-453b-b3f6-6cfa73e8fd7f",
   "metadata": {},
   "outputs": [],
   "source": [
    "from langchain_ollama.chat_models import ChatOllama\n",
    "\n",
    "# Create chat ollama class to interact with ollama models\n",
    "llm = ChatOllama(\n",
    "    base_url = 'http://localhost:11434',\n",
    "    model = 'qwen2.5:0.5b'\n",
    ")"
   ]
  },
  {
   "cell_type": "markdown",
   "id": "950cd7d4-dbd4-418d-8d9f-94c09d3eb793",
   "metadata": {},
   "source": [
    "### Setup Prompt"
   ]
  },
  {
   "cell_type": "code",
   "execution_count": 2,
   "id": "e642524b-f141-456b-9472-4b74ff951f66",
   "metadata": {},
   "outputs": [],
   "source": [
    "from langchain.prompts import PromptTemplate\n",
    "\n",
    "# This is simple Prompt template\n",
    "prompt = PromptTemplate(template = \"\"\"You are a super helpful health expert AI assistant. You can answer questions on health related topic.\n",
    "                                    Answer the health related questions.\n",
    "                                    If the question is not related to health, tell user that you can't answer this question.\n",
    "                                    Keep the answer concise and maximum 2 sentences.\n",
    "                                    Question: {question}\n",
    "                                    Answer: \"\"\",\n",
    "                       input_variables=['question'])"
   ]
  },
  {
   "cell_type": "markdown",
   "id": "44dee41d-4412-4652-8c2e-9768a40ab3ad",
   "metadata": {},
   "source": [
    "### Chain using Pipe"
   ]
  },
  {
   "cell_type": "markdown",
   "id": "047d66c3-431d-43be-a981-283da85d031b",
   "metadata": {},
   "source": [
    "Now we can quickly create a chain using pipe method on Prompt and LLM"
   ]
  },
  {
   "cell_type": "code",
   "execution_count": 4,
   "id": "f53e30d3-08ea-47db-86c5-1aa67c1d442d",
   "metadata": {},
   "outputs": [
    {
     "name": "stdin",
     "output_type": "stream",
     "text": [
      "Ask Question on Health:  What is paracetamol?\n"
     ]
    },
    {
     "name": "stdout",
     "output_type": "stream",
     "text": [
      "Paracetamol is a pain reliever, fever reducer, and anti-inflammatory medication.\n"
     ]
    }
   ],
   "source": [
    "# Lets get StrOutput parser to extract string output from LLM response and chain it after llm\n",
    "from langchain_core.output_parsers import StrOutputParser\n",
    "chain = prompt.pipe(llm).pipe(StrOutputParser())\n",
    "\n",
    "# Invoke Chain\n",
    "question = input(\"Ask Question on Health: \").strip().strip('\\n')\n",
    "answer = chain.invoke({'question': question})\n",
    "print(answer)"
   ]
  },
  {
   "cell_type": "code",
   "execution_count": 5,
   "id": "0fe6900f-4ee1-4254-bcfa-4c06ce547cd4",
   "metadata": {},
   "outputs": [
    {
     "name": "stdin",
     "output_type": "stream",
     "text": [
      "Ask Question on Health:  What is diclofenac?\n"
     ]
    },
    {
     "name": "stdout",
     "output_type": "stream",
     "text": [
      "Diclofenac is a nonsteroidal anti-inflammatory drug (NSAID) used for treating arthritis pain and inflammation.\n"
     ]
    }
   ],
   "source": [
    "### Chains can also be piped using Langchain's Pipe operator\n",
    "chain = prompt | llm | StrOutputParser()\n",
    "\n",
    "# Invoke Chain\n",
    "question = input(\"Ask Question on Health: \").strip().strip('\\n')\n",
    "answer = chain.invoke({'question': question})\n",
    "print(answer)"
   ]
  },
  {
   "cell_type": "markdown",
   "id": "184acb10-0e52-40c2-9be3-0c46068263ab",
   "metadata": {},
   "source": [
    "### Chaining Chains"
   ]
  },
  {
   "cell_type": "markdown",
   "id": "5e74a422-4bac-41a7-a99a-3cf47760d815",
   "metadata": {},
   "source": [
    "Langchain also allow chaining the chains using pipe operator to make one Big chain"
   ]
  },
  {
   "cell_type": "code",
   "execution_count": 13,
   "id": "8610975a-c71a-460e-b9bf-62cd64a2c07b",
   "metadata": {},
   "outputs": [
    {
     "name": "stdin",
     "output_type": "stream",
     "text": [
      "Enter your symptoms:  Pain in arms\n"
     ]
    },
    {
     "name": "stdout",
     "output_type": "stream",
     "text": [
      "Painkiller\n"
     ]
    }
   ],
   "source": [
    "prompt1 = PromptTemplate(\n",
    "    template=\"\"\"Your are a medicine expert with knowledge about different type of medicines. \n",
    "                Users will provide some sysmptoms and your have to provide medicine recommendations for the symptoms. \n",
    "                Your answer should contain only name of medicine. \n",
    "                Here are Some Examples - \n",
    "                \n",
    "                User: Body pain and fever\n",
    "                AI: Paracetamol\n",
    "                \n",
    "                User: High acidity\n",
    "                AI: Pantaprazole\n",
    "                \n",
    "                Now recommend medicine for following symptoms- \n",
    "                User: {symptoms}\n",
    "                AI: \"\"\",\n",
    "    input_variables = ['symptoms']\n",
    ")\n",
    "\n",
    "chain1 = prompt1 | llm | StrOutputParser()\n",
    "\n",
    "symptoms = input(\"Enter your symptoms: \").strip().strip('\\n')\n",
    "recommendation = chain1.invoke({'symptoms': symptoms})\n",
    "print(recommendation)"
   ]
  },
  {
   "cell_type": "code",
   "execution_count": 17,
   "id": "7c34d4c8-d4dd-4eb7-8844-590c80d8a4da",
   "metadata": {},
   "outputs": [
    {
     "name": "stdin",
     "output_type": "stream",
     "text": [
      "Enter the mediocine name:  diclofenac\n"
     ]
    },
    {
     "name": "stdout",
     "output_type": "stream",
     "text": [
      "I apologize for any confusion, but I can't determine the user's input with confidence. The provided information is incorrect. The most common side effect of diclofenac is gastrointestinal discomfort such as nausea and diarrhea.\n",
      "\n",
      "However, if you provide me with the actual medicine name, I can assist in determining its known side effects. Please let me know which medicine you're referring to, and I'll be happy to provide you with accurate information about its side effects.\n"
     ]
    }
   ],
   "source": [
    "prompt2 = PromptTemplate(\n",
    "    template=\"\"\"Your are a medicine expert with knowledge about different type of medicines and their side effects. \n",
    "                Users will provide medicine name and You need to provide side-effects of those medicines.\n",
    "                Here are Some Examples - \n",
    "                \n",
    "                User: Paracetamol\n",
    "                AI: drowsiness, fatigue, rashes, and itching\n",
    "                \n",
    "                User: Pantaprazole\n",
    "                AI: headaches and diarrhea\n",
    "                \n",
    "                Now provide the side effects of following medicines- \n",
    "                User: {medicine}\n",
    "                AI: \"\"\",\n",
    "    input_variables = ['medicine']\n",
    ")\n",
    "\n",
    "chain2 = prompt2 | llm | StrOutputParser()\n",
    "\n",
    "medicine = input(\"Enter the mediocine name: \").strip().strip('\\n')\n",
    "side_effects = chain2.invoke({'medicine': medicine})\n",
    "print(side_effects)"
   ]
  },
  {
   "cell_type": "code",
   "execution_count": 20,
   "id": "609a25bb-ee44-4c14-a742-39ae1a0b6c1a",
   "metadata": {},
   "outputs": [
    {
     "name": "stdin",
     "output_type": "stream",
     "text": [
      "Enter your symptoms:  headache\n"
     ]
    },
    {
     "name": "stdout",
     "output_type": "stream",
     "text": [
      "Based on your examples, here are the side effects associated with ibuprofen:\n",
      "\n",
      "1. Drowsiness - This is a common side effect of ibuprofen.\n",
      "2. Fatigue - It can also cause tiredness and dizziness.\n",
      "3. Rashes and itching - Some people may experience such symptoms after taking ibuprofen.\n",
      "4. Headaches - While not typical, it's possible for some individuals to develop headaches when taking ibuprofen.\n",
      "5. Diarrhea - This is another side effect that many people report after consuming ibuprofen.\n",
      "6. Stomach upset - It can lead to stomach pain and discomfort.\n",
      "\n",
      "These are just a few examples of the potential side effects of ibuprofen. Always consult with a healthcare professional before taking any new medication, especially if you're sensitive to it or have underlying health conditions.\n"
     ]
    }
   ],
   "source": [
    "### Lets chain the 2 chains\n",
    "chain3 = {'medicine': chain1} | chain2\n",
    "symptoms = input(\"Enter your symptoms: \").strip().strip('\\n')\n",
    "side_effects = chain3.invoke({'symptoms': symptoms})\n",
    "print(side_effects)"
   ]
  }
 ],
 "metadata": {
  "kernelspec": {
   "display_name": "Python 3 (ipykernel)",
   "language": "python",
   "name": "python3"
  },
  "language_info": {
   "codemirror_mode": {
    "name": "ipython",
    "version": 3
   },
   "file_extension": ".py",
   "mimetype": "text/x-python",
   "name": "python",
   "nbconvert_exporter": "python",
   "pygments_lexer": "ipython3",
   "version": "3.12.9"
  }
 },
 "nbformat": 4,
 "nbformat_minor": 5
}
