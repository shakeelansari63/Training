{
 "cells": [
  {
   "cell_type": "markdown",
   "id": "97baa9cc-5967-428d-847b-28d857fac525",
   "metadata": {},
   "source": [
    "## Memory to LLM Model"
   ]
  },
  {
   "cell_type": "markdown",
   "id": "a2d1052a-a7fa-4e2e-8042-63204d4cfd57",
   "metadata": {},
   "source": [
    "##### Memory classes provide memory with chat context in LLM chain\n",
    "There are different types of Memory classes   \n",
    " - **ConversationBufferMemory**: Provided complete chat history in LLM Chain\n",
    " - **ConversationBufferWindowMemory**: Provide last few messages as chat history. Reduces the token sent to LLM\n",
    " - **COnversationSummaryMemory**: Provides chat summary instead of complete history.\n",
    " - **Runnables with History**: These are in new ways to use chat history with Runnables / LCEL"
   ]
  },
  {
   "cell_type": "code",
   "execution_count": 1,
   "id": "b6e9ad5e-4c56-4811-8fb3-3d8edec86c47",
   "metadata": {},
   "outputs": [],
   "source": [
    "#### Create LLM Model\n",
    "from langchain_ollama.chat_models import ChatOllama\n",
    "\n",
    "llm = ChatOllama(\n",
    "    base_url = 'http://localhost:11434',\n",
    "    model = 'qwen2.5:0.5b'\n",
    ")"
   ]
  },
  {
   "cell_type": "markdown",
   "id": "ff0af88f-efc4-421c-87d1-1fbac29c5ae2",
   "metadata": {},
   "source": [
    "### Conversation Buffer Memory"
   ]
  },
  {
   "cell_type": "code",
   "execution_count": 5,
   "id": "32c5b007-e4cd-4ea3-be65-80dc26c32989",
   "metadata": {},
   "outputs": [
    {
     "name": "stdin",
     "output_type": "stream",
     "text": [
      "Ask your question?  which country is biggest exporter of coffee?\n"
     ]
    },
    {
     "name": "stdout",
     "output_type": "stream",
     "text": [
      "{'question': 'which country is biggest exporter of coffee?', 'history': [HumanMessage(content='which country is biggest exporter of coffee?', additional_kwargs={}, response_metadata={}), AIMessage(content=\"The largest exporter of coffee globally is the Democratic Republic of Congo (DRC), followed by Ethiopia. However, it's important to note that the exact figure can vary depending on the source and year. The World Coffee Organization provides statistics for global coffee exports, indicating that the DRC contributes significantly to world coffee production.\", additional_kwargs={}, response_metadata={})], 'text': \"The largest exporter of coffee globally is the Democratic Republic of Congo (DRC), followed by Ethiopia. However, it's important to note that the exact figure can vary depending on the source and year. The World Coffee Organization provides statistics for global coffee exports, indicating that the DRC contributes significantly to world coffee production.\"}\n",
      "\n"
     ]
    },
    {
     "name": "stdin",
     "output_type": "stream",
     "text": [
      "Ask your question?  What is their GDP?\n"
     ]
    },
    {
     "name": "stdout",
     "output_type": "stream",
     "text": [
      "{'question': 'What is their GDP?', 'history': [HumanMessage(content='which country is biggest exporter of coffee?', additional_kwargs={}, response_metadata={}), AIMessage(content=\"The largest exporter of coffee globally is the Democratic Republic of Congo (DRC), followed by Ethiopia. However, it's important to note that the exact figure can vary depending on the source and year. The World Coffee Organization provides statistics for global coffee exports, indicating that the DRC contributes significantly to world coffee production.\", additional_kwargs={}, response_metadata={}), HumanMessage(content='What is their GDP?', additional_kwargs={}, response_metadata={}), AIMessage(content=\"The GDP (Gross Domestic Product) of the Democratic Republic of Congo (DRC) is estimated at around $51 billion as per the World Bank's estimation. This figure excludes exports, which are typically higher due to factors like trade barriers and economic growth.\", additional_kwargs={}, response_metadata={})], 'text': \"The GDP (Gross Domestic Product) of the Democratic Republic of Congo (DRC) is estimated at around $51 billion as per the World Bank's estimation. This figure excludes exports, which are typically higher due to factors like trade barriers and economic growth.\"}\n",
      "\n"
     ]
    },
    {
     "name": "stdin",
     "output_type": "stream",
     "text": [
      "Ask your question?  bye\n"
     ]
    },
    {
     "name": "stdout",
     "output_type": "stream",
     "text": [
      "Bye !!\n"
     ]
    }
   ],
   "source": [
    "from langchain_core.prompts import (\n",
    "    SystemMessagePromptTemplate,\n",
    "    HumanMessagePromptTemplate,\n",
    "    ChatPromptTemplate,\n",
    "    MessagesPlaceholder,\n",
    ")\n",
    "from langchain.memory import ConversationBufferMemory\n",
    "from langchain.chains import LLMChain\n",
    "from langchain_core.output_parsers import StrOutputParser\n",
    "\n",
    "# Create a memory\n",
    "memory = ConversationBufferMemory(return_messages = True)\n",
    "\n",
    "# Create Prompt Template\n",
    "prompt = ChatPromptTemplate.from_messages(\n",
    "    [\n",
    "        SystemMessagePromptTemplate.from_template(\"You are a question answer AI model having conversation with human\"),\n",
    "        MessagesPlaceholder(variable_name=\"history\"),\n",
    "        HumanMessagePromptTemplate.from_template(\"{question}\"),\n",
    "    ]\n",
    ")\n",
    "\n",
    "# Create a chain\n",
    "chain = LLMChain(llm=llm, prompt=prompt, memory=memory, output_parser=StrOutputParser())\n",
    "\n",
    "# Lets have conversation\n",
    "while True:\n",
    "    question = input(\"Ask your question? \").strip().strip('\\n')\n",
    "    if question.lower() == 'bye' or question.lower() == 'quit' or question.lower() == 'exit':\n",
    "        print(\"Bye !!\")\n",
    "        break\n",
    "\n",
    "    answer = chain.invoke({\"question\": question})\n",
    "    print(answer)\n",
    "    print(\"\")"
   ]
  },
  {
   "cell_type": "markdown",
   "id": "3c1ff9d8-38e5-4ee3-99d1-0d8e89c7ba1e",
   "metadata": {},
   "source": [
    "#### Since there is lot of boilerplate we have to do here, there is a specialised chain created to avoid boilerplate code in prompt"
   ]
  },
  {
   "cell_type": "code",
   "execution_count": 8,
   "id": "d52be752-be03-4334-beda-5d5c30caaaef",
   "metadata": {},
   "outputs": [
    {
     "name": "stdin",
     "output_type": "stream",
     "text": [
      "Ask your question?  which country is biggest exporter of cotton?\n"
     ]
    },
    {
     "name": "stdout",
     "output_type": "stream",
     "text": [
      "{'input': 'which country is biggest exporter of cotton?', 'history': [HumanMessage(content='which country is biggest exporter of cotton?', additional_kwargs={}, response_metadata={}), AIMessage(content='The United States is the largest exporter of cotton among known countries.', additional_kwargs={}, response_metadata={})], 'response': 'The United States is the largest exporter of cotton among known countries.'}\n",
      "\n"
     ]
    },
    {
     "name": "stdin",
     "output_type": "stream",
     "text": [
      "Ask your question?  What is value of cotton export of this country?\n"
     ]
    },
    {
     "name": "stdout",
     "output_type": "stream",
     "text": [
      "{'input': 'What is value of cotton export of this country?', 'history': [HumanMessage(content='which country is biggest exporter of cotton?', additional_kwargs={}, response_metadata={}), AIMessage(content='The United States is the largest exporter of cotton among known countries.', additional_kwargs={}, response_metadata={}), HumanMessage(content='What is value of cotton export of this country?', additional_kwargs={}, response_metadata={}), AIMessage(content=\"Value of cotton exports to this country is [specific amount or figure]. I don't have access to real-time data, but based on general information, the United States is often considered one of the largest exporters of cotton. The total value of cotton exports from the US to other countries can vary and depends on various factors such as market conditions, global demand patterns, and specific contracts signed by both sides. For the most accurate and up-to-date figures, it would be best to check official government statistics or recent trade reports.\", additional_kwargs={}, response_metadata={})], 'response': \"Value of cotton exports to this country is [specific amount or figure]. I don't have access to real-time data, but based on general information, the United States is often considered one of the largest exporters of cotton. The total value of cotton exports from the US to other countries can vary and depends on various factors such as market conditions, global demand patterns, and specific contracts signed by both sides. For the most accurate and up-to-date figures, it would be best to check official government statistics or recent trade reports.\"}\n",
      "\n"
     ]
    },
    {
     "name": "stdin",
     "output_type": "stream",
     "text": [
      "Ask your question?  bye\n"
     ]
    },
    {
     "name": "stdout",
     "output_type": "stream",
     "text": [
      "Bye !!\n"
     ]
    }
   ],
   "source": [
    "from langchain.memory import ConversationBufferMemory\n",
    "from langchain.chains import ConversationChain\n",
    "\n",
    "# Create a memory\n",
    "memory = ConversationBufferMemory(return_messages = True)\n",
    "\n",
    "# Create a chain\n",
    "chain = ConversationChain(llm=llm, memory=memory, output_parser=StrOutputParser())\n",
    "\n",
    "# Lets have conversation\n",
    "while True:\n",
    "    question = input(\"Ask your question? \").strip().strip('\\n')\n",
    "    if question.lower() == 'bye' or question.lower() == 'quit' or question.lower() == 'exit':\n",
    "        print(\"Bye !!\")\n",
    "        break\n",
    "\n",
    "    answer = chain.invoke({\"input\": question})\n",
    "    print(answer)\n",
    "    print(\"\")"
   ]
  },
  {
   "cell_type": "code",
   "execution_count": null,
   "id": "8c155dee-05e0-425d-bb15-3c5b45fb516a",
   "metadata": {},
   "outputs": [],
   "source": []
  }
 ],
 "metadata": {
  "kernelspec": {
   "display_name": "Python 3 (ipykernel)",
   "language": "python",
   "name": "python3"
  },
  "language_info": {
   "codemirror_mode": {
    "name": "ipython",
    "version": 3
   },
   "file_extension": ".py",
   "mimetype": "text/x-python",
   "name": "python",
   "nbconvert_exporter": "python",
   "pygments_lexer": "ipython3",
   "version": "3.12.9"
  }
 },
 "nbformat": 4,
 "nbformat_minor": 5
}
