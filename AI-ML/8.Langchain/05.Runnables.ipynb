{
 "cells": [
  {
   "cell_type": "markdown",
   "id": "21fd0b18-2081-4808-8c6b-ced70f2017b7",
   "metadata": {},
   "source": [
    "## Runnables"
   ]
  },
  {
   "cell_type": "markdown",
   "id": "bd7a2020-a309-47da-bbb4-f7f536832a14",
   "metadata": {},
   "source": [
    "There are many Runnable classes for simplifying the tasks in Langchain chains  \n",
    " - **RunnablePassthrogh**: Return Input as output as is\n",
    " - **RunnbaleLambda**: Run a function and return result of function. Lambda functions can be used here.\n",
    " - **RunnableParallel**: Run multiple chains/runnables in parallel"
   ]
  },
  {
   "cell_type": "markdown",
   "id": "51bdb409-b412-4b67-9557-a0976d744abf",
   "metadata": {},
   "source": [
    "#### Lets Create 2 LLMs which we will use for testing"
   ]
  },
  {
   "cell_type": "code",
   "execution_count": 1,
   "id": "08c2194c-a0ff-41f2-a4ec-5a42f07c7778",
   "metadata": {},
   "outputs": [],
   "source": [
    "from langchain_ollama.chat_models import ChatOllama\n",
    "\n",
    "llm1 = ChatOllama(\n",
    "    base_url = 'http://localhost:11434',\n",
    "    model = 'qwen2.5:0.5b'\n",
    ")\n",
    "\n",
    "llm2 = ChatOllama(\n",
    "    base_url = 'http://localhost:11434',\n",
    "    model = 'llama3.2:1b'\n",
    ")"
   ]
  },
  {
   "cell_type": "markdown",
   "id": "697ff762-4bcf-460f-8772-62083297934b",
   "metadata": {},
   "source": [
    "#### Runnable Passthrough"
   ]
  },
  {
   "cell_type": "code",
   "execution_count": 2,
   "id": "3393a91f-c717-4a5e-b73e-eb778912169d",
   "metadata": {},
   "outputs": [
    {
     "name": "stdout",
     "output_type": "stream",
     "text": [
      "Hello\n"
     ]
    }
   ],
   "source": [
    "from langchain_core.runnables import RunnablePassthrough\n",
    "r1 = RunnablePassthrough()\n",
    "print(r1.invoke(\"Hello\"))"
   ]
  },
  {
   "cell_type": "markdown",
   "id": "52cf5b9d-0b48-45cb-8919-8f843135690e",
   "metadata": {},
   "source": [
    "#### Runnable Lambda"
   ]
  },
  {
   "cell_type": "code",
   "execution_count": 3,
   "id": "b0ff4b7c-c60c-43aa-b91f-90dd0f939b3f",
   "metadata": {},
   "outputs": [
    {
     "name": "stdout",
     "output_type": "stream",
     "text": [
      "Hello Sam\n"
     ]
    }
   ],
   "source": [
    "from langchain_core.runnables import RunnableLambda\n",
    "\n",
    "# Create some function\n",
    "def some_func(input: str) -> str:\n",
    "    return f\"Hello {input}\"\n",
    "\n",
    "r2 = RunnableLambda(some_func)\n",
    "print(r2.invoke(\"Sam\"))"
   ]
  },
  {
   "cell_type": "markdown",
   "id": "771e26f9-9456-4690-b3bf-8bbd860c7258",
   "metadata": {},
   "source": [
    "#### Runnable Parallel"
   ]
  },
  {
   "cell_type": "code",
   "execution_count": 4,
   "id": "d81f8bef-9fce-4302-ae66-d4b79a5fc0b5",
   "metadata": {},
   "outputs": [
    {
     "name": "stdout",
     "output_type": "stream",
     "text": [
      "{'out1': 'John', 'out2': 'Hello John'}\n"
     ]
    }
   ],
   "source": [
    "from langchain_core.runnables import RunnableParallel\n",
    "\n",
    "r3 = RunnableParallel(out1=r1, out2=r2)\n",
    "print(r3.invoke(\"John\"))"
   ]
  },
  {
   "cell_type": "markdown",
   "id": "be364bc3-bd3d-42e3-8dc6-ce6cfe3cf207",
   "metadata": {},
   "source": [
    "#### Lets try to make some useful app from these learned runnables\n",
    "We will give 1 topic to 2 LLMs and ask them to explain the topic to a 10 year old child.  \n",
    "And then We will, evaluate which explanation is better using one of the LLM model"
   ]
  },
  {
   "cell_type": "markdown",
   "id": "5fe3d2df-65cb-48ed-84e1-51c90f5b3585",
   "metadata": {},
   "source": [
    "#### Prompt"
   ]
  },
  {
   "cell_type": "code",
   "execution_count": 5,
   "id": "c8b870d5-58fd-4f01-bce8-e049ac033bce",
   "metadata": {},
   "outputs": [],
   "source": [
    "from langchain.prompts import PromptTemplate\n",
    "prompt = PromptTemplate(\n",
    "    template=\"\"\"\n",
    "    User will give a topic, your task is to explain the topic to a 10 year old child. \n",
    "    The explanation must not contain complex sentence structure as it may confuse the kid. \n",
    "    Generate explanation in simple words with few examples to explain the topic clearly. \n",
    "\n",
    "    Topic: {topic}\n",
    "    \"\"\",\n",
    "    input_variables = ['topic']\n",
    ")"
   ]
  },
  {
   "cell_type": "markdown",
   "id": "b1d7d7b9-a651-4873-b1cd-f2f553fbfad8",
   "metadata": {},
   "source": [
    "#### First Chain from 1st LLM to generate explanation"
   ]
  },
  {
   "cell_type": "code",
   "execution_count": 6,
   "id": "16d7d034-1d5d-41a7-8fa0-c83b7608f6d4",
   "metadata": {},
   "outputs": [
    {
     "data": {
      "text/plain": [
       "\"Gravity is like a strong invisible tug-of-war between your toys on Earth. It's how all our things move through space and time, just like when you pull on a toy car or play with a big ball! Imagine you're playing with your toys and you push them, they keep moving around the room instead of staying put. That's gravity in action!\\n\\nIf we pretend it was a really big playground called the sun, gravity is the force that makes all our balls move through space, just like how a soccer ball rolls down a hill or when you bounce on your football. It's also what keeps planets around the sun and helps us climb up to the sun in the sky!\\n\\nIn our galaxy, where we live, we have lots of gravity. Imagine it as a giant hug that all our friends are holding together - they move around each other and don't stop moving! It's a bit like how you're always going to be close to your mom or dad, but not everywhere.\\n\\nGravity is special because it can help us do cool things too. Think about the big Lego tower we made with blocks on Earth. Gravity makes sure that all our toys are pushed down and don't float away! And guess what? It's also important for cars to work properly when you're driving in space!\\n\\nSo remember, gravity is the invisible force that helps us move around, stay safe, and even make amazing things like toy rockets and giant buildings.\""
      ]
     },
     "execution_count": 6,
     "metadata": {},
     "output_type": "execute_result"
    }
   ],
   "source": [
    "from langchain_core.output_parsers import StrOutputParser\n",
    "ch1 = prompt | llm1 | StrOutputParser()\n",
    "\n",
    "# Test\n",
    "ch1.invoke({\"topic\": \"Gravity\"})"
   ]
  },
  {
   "cell_type": "markdown",
   "id": "a10036ab-059d-4792-9508-ee4bcf042e8c",
   "metadata": {},
   "source": [
    "#### Second chain from other LLM model to generate explanation"
   ]
  },
  {
   "cell_type": "code",
   "execution_count": 7,
   "id": "d8a7a099-53ab-43ac-a953-acff1f757c1d",
   "metadata": {},
   "outputs": [
    {
     "data": {
      "text/plain": [
       "\"Gravity is like a magic string that pulls everything towards each other!\\n\\nYou know how you're pulling on a ball and it goes down low? That's because of gravity. It's like when you throw a ball up in the air, it comes back down to your hands. Gravity is like a big hug from the Earth.\\n\\nImagine you have a ball, and you roll it across the floor. Where does it go first? To your hands! And then to your feet! That's because gravity is pulling everything towards each other. It's not letting us go up in the air; it's just making sure we stay on the ground.\\n\\nBut why do things fall down instead of staying up in the air? Well, that's also due to gravity. The Earth wants to keep everything close, so it pulls them down with its magic string. That's why you don't float off into space when you're standing still!\""
      ]
     },
     "execution_count": 7,
     "metadata": {},
     "output_type": "execute_result"
    }
   ],
   "source": [
    "ch2 = prompt | llm2 | StrOutputParser()\n",
    "\n",
    "# Test\n",
    "ch2.invoke({\"topic\": \"Gravity\"})"
   ]
  },
  {
   "cell_type": "markdown",
   "id": "fdbd08ed-499b-49a6-8aec-3eef9d3b8c16",
   "metadata": {},
   "source": [
    "#### So both the Explanations work, lets try to evaluate which explanation if better"
   ]
  },
  {
   "cell_type": "code",
   "execution_count": 8,
   "id": "230e1781-3715-49aa-ae4c-1b334c27ca9a",
   "metadata": {},
   "outputs": [],
   "source": [
    "eval_prompt = PromptTemplate(\n",
    "    template=\"\"\"\n",
    "    You are an evaluator who will evaluate the 2 explanations provided by 2 LLM models and tell which explanation is better and why. \n",
    "    There is a topic for which 2 LLM models have generated an explanation for 10 year old kid. Evaluate both the explanations and \n",
    "    in response tell which explanation is better suitable for 10 year old kid and why.\n",
    "    -------------------------------------------------\n",
    "    Topic: {topic}\n",
    "    -------------------------------------------------\n",
    "    Explanation 1: {explanation_1}\n",
    "    -------------------------------------------------\n",
    "    Explanation 2: {explanation_2}\n",
    "    -------------------------------------------------\n",
    "    Evaluation:\n",
    "    \"\"\",\n",
    "    input_variables = ['topic', 'explanation_1', 'explanation_2']\n",
    ")"
   ]
  },
  {
   "cell_type": "code",
   "execution_count": 9,
   "id": "3c0674e7-f574-4fb2-8e97-a82f11823835",
   "metadata": {},
   "outputs": [
    {
     "name": "stdout",
     "output_type": "stream",
     "text": [
      "I'll evaluate both explanations provided by two LLM models and identify which one is better suitable for a 10-year-old kid.\n",
      "\n",
      "**Explanation 1**\n",
      "\n",
      "* Strengths: This explanation uses relatable examples (e.g., dropping a ball, using hands instead of the apples) to illustrate the concept of gravity.\n",
      "* Weaknesses: The language is somewhat simplistic and lacks precision. For instance, \"gravity is like an invisible force\" might be confusing for a 10-year-old to understand.\n",
      "\n",
      "**Explanation 2**\n",
      "\n",
      "* Strengths:\n",
      "\t+ Uses simple and clear language that's easy to understand.\n",
      "\t+ Provides concrete examples (e.g., the balls, tug-of-war) to help illustrate the concept of gravity.\n",
      "\t+ Avoids using overly complex or vague terms (e.g., \"invisible force\").\n",
      "* Weaknesses: The explanation might be a bit too basic for some 10-year-olds. It also doesn't provide any new or interesting insights into the topic.\n",
      "\n",
      "**Evaluation**\n",
      "\n",
      "Considering these points, I think **Explanation 2** is better suitable for a 10-year-old kid. Here's why:\n",
      "\n",
      "1. Simplification: Explanation 2 uses simple language that's easier to understand and relate to.\n",
      "2. Examples: The two examples provided are concrete and help illustrate the concept of gravity in a clear way.\n",
      "3. Clarity: The explanation avoids using overly complex or vague terms, making it more accessible to a younger audience.\n",
      "\n",
      "Explanation 1 tries to simplify things too much by saying \"gravity is like an invisible force.\" While this might be true for some kids, it's not as effective at engaging and explaining the concept in a way that's easy to understand.\n",
      "\n",
      "Overall, Explanation 2 provides a clear, concise, and relatable explanation of gravity that should be suitable for a 10-year-old kid.\n"
     ]
    }
   ],
   "source": [
    "eval_chain = RunnableParallel(explanation_1=ch1, explanation_2=ch2, topic=RunnablePassthrough()) | eval_prompt | llm2 | StrOutputParser()\n",
    "ev = eval_chain.invoke({\"topic\": \"Gravity\"})\n",
    "print(ev)"
   ]
  },
  {
   "cell_type": "markdown",
   "id": "d70e6b90-0840-491f-9811-be0b70d0d9a8",
   "metadata": {},
   "source": [
    "#### The Evaluation is Good, But can't see what explanation was geenrated by Each LLM Model.\n",
    "In order provide send the Output of Models, we can use RunParallel, Send output of LLMs as passthrough in Parallel with Evaluations"
   ]
  },
  {
   "cell_type": "code",
   "execution_count": 10,
   "id": "6fba1e3a-f3a3-4413-8db8-9bf66000a961",
   "metadata": {},
   "outputs": [
    {
     "name": "stdout",
     "output_type": "stream",
     "text": [
      "Explanation 1:  Okay, little one! Let's talk about something really cool - gravity! Imagine you're playing with a big box of building blocks. Now, if I put some smaller boxes on top of those big blocks, where would that make the whole stack fall down? It would land at the bottom right in our world.\n",
      "\n",
      "Gravity is like a giant invisible hand pulling everything towards the center. It's not always easy to understand! You can't see it unless you're standing near an object or someone telling you about gravity. But when you're outside, you might notice it while playing with toys or riding bikes!\n",
      "\n",
      "Let's imagine you're at home and suddenly feel a soft weight on your feet. That's gravity! You know how you get taller as you grow up? Gravity keeps us in the air because of this big invisible hand.\n",
      "\n",
      "So, remember: gravity is always there, making things move and falling down to help you stay safe. Isn't that cool?\n",
      "\n",
      "Is there anything else you'd like me to explain about gravity, little one?\n",
      "\n",
      "Explanation 2:  Gravity is something that pulls us towards the ground when we're standing or sitting on the floor.\n",
      "\n",
      "Imagine you have a ball, and you throw it up in the air. What happens? It comes back down, right? That's because of gravity. The Earth is like a big ball, and it wants to keep everything close to it. So, the Earth pulls on the ball with its gravity.\n",
      "\n",
      "Now, let's say your friend has a toy car that goes really fast when you push it hard. But if you drop it, it doesn't just float away into space. It keeps going straight until something stops it, like the ground. That's because of the same thing – gravity.\n",
      "\n",
      "Gravity is like a strong hug from the Earth. It pulls everything towards itself, and that's why we don't float off into space when we're standing or sitting on the ground.\n",
      "\n",
      "Final Evaluation:  I'll evaluate both explanations to determine which one is better suitable for a 10-year-old kid.\n",
      "\n",
      "**Evaluation Criteria:**\n",
      "\n",
      "1. **Clarity**: How clearly does the explanation explain the concept of gravity?\n",
      "2. **Use of Analogies**: Does the explanation use effective analogies that help simplify the complex concept of gravity?\n",
      "3. **Level of Understanding**: Does the explanation make it easy for a 10-year-old kid to grasp the concept?\n",
      "\n",
      "**Explanation 1:**\n",
      "\n",
      "* Clarity: 7/10 - The explanation is clear, but some sentences are quite long and convoluted.\n",
      "* Use of Analogies: 9/10 - The analogy about building blocks is excellent, and the comparison of gravity as an invisible hand is also effective.\n",
      "* Level of Understanding: 8/10 - The explanation assumes prior knowledge of basic physics concepts, which might be challenging for a 10-year-old kid to understand.\n",
      "\n",
      "**Explanation 2:**\n",
      "\n",
      "* Clarity: 5/10 - Some sentences are very short and lack clarity, making it difficult to follow the explanation.\n",
      "* Use of Analogies: 6/10 - The analogy about throwing a ball in the air is not as effective as some other explanations, and the comparison of gravity as a strong hug from the Earth is a bit vague.\n",
      "* Level of Understanding: 5/10 - This explanation assumes prior knowledge of basic physics concepts and does not provide many visual aids or relatable examples.\n",
      "\n",
      "**Conclusion:**\n",
      "\n",
      "Based on the evaluation criteria, **Explanation 2** is better suitable for a 10-year-old kid. While it still requires some effort to understand, this explanation provides more clarity and analogies that help simplify the concept of gravity. The use of relatable comparisons (e.g., throwing a ball in the air) also makes it easier for a child to grasp.\n",
      "\n",
      "Explanation 1 might be better suited for older children or kids with stronger physics backgrounds, as some sentences may require additional explanation or clarification. However, even this explanation could benefit from more analogies and visual aids to help young children understand gravity better.\n"
     ]
    }
   ],
   "source": [
    "eval_chain_logic = eval_prompt | llm2 | StrOutputParser()\n",
    "\n",
    "eval_chain2 = RunnableParallel(explanation_1=ch1, explanation_2=ch2, topic=RunnablePassthrough()) | \\\n",
    "                RunnableParallel(evaluation=eval_chain_logic, inputs=RunnablePassthrough())\n",
    "\n",
    "ev2 = eval_chain2.invoke({\"topic\": \"Gravity\"})\n",
    "\n",
    "print(\"Explanation 1: \", ev2[\"inputs\"][\"explanation_1\"], end=\"\\n\\n\")\n",
    "print(\"Explanation 2: \", ev2[\"inputs\"][\"explanation_2\"], end=\"\\n\\n\")\n",
    "print(\"Final Evaluation: \", ev2[\"evaluation\"])"
   ]
  },
  {
   "cell_type": "markdown",
   "id": "0d0126a7-db70-4ec9-95b2-f29a0312b690",
   "metadata": {},
   "source": [
    "#### Great but there is just 1 problem. Since input is passed through, it becomes 1 dictionary.\n",
    "Lets try to extract the keys from inputs into different keys using Lambda"
   ]
  },
  {
   "cell_type": "code",
   "execution_count": 12,
   "id": "89e35815-c052-4413-bd16-9492b6ce941d",
   "metadata": {},
   "outputs": [
    {
     "name": "stdout",
     "output_type": "stream",
     "text": [
      "Explanation 1:  Gravity is like an invisible force that pulls things together, much like how a strong wind can blow a leaf away.\n",
      "For example, if you dropped a ball from the top of the house, it would fall towards the ground because of gravity. Similarly, when we jump up high in the air, our bodies get heavier and it helps us keep going.\n",
      "\n",
      "Explanation 2:  Gravity is something that keeps us on the ground and holds things close together.\n",
      "\n",
      "You know how you can throw a ball up in the air, and it comes back down? That's because of gravity. It's like a magic string that pulls everything towards each other.\n",
      "\n",
      "Imagine you have a big magnet, and you put it near some paper clips. The magnet will pull all the paper clips towards itself. Gravity is kind of like that, but with planets instead of magnets.\n",
      "\n",
      "The Earth has too much mass (that means it has many particles stuck together), so gravity pulls everything towards it really strongly. That's why we don't float off into space when we're standing on the ground.\n",
      "\n",
      "Final Evaluation:  I'll evaluate both explanations and provide my feedback on which one is better suitable for a 10-year-old kid.\n",
      "\n",
      "**Evaluation:**\n",
      "\n",
      "Explanation 1:\n",
      "\n",
      "* The explanation uses an analogy to help explain the concept of gravity, making it more relatable and accessible to young children.\n",
      "* It provides specific examples that illustrate the effect of gravity (e.g., dropping a ball from the top of the house).\n",
      "* However, some of the language used is still quite complex and technical (\"invisible force,\" \"strong wind can blow a leaf away\").\n",
      "\n",
      "Explanation 2:\n",
      "\n",
      "* The explanation uses an analogy to help explain gravity, but it's not as clear or concise as Explanation 1.\n",
      "* It provides more basic examples (e.g., throwing a ball up in the air) that might be harder for younger children to understand.\n",
      "* However, the language used is still somewhat technical and scientific-sounding (\"magic string,\" \"big magnet\").\n",
      "\n",
      "**Which explanation is better suitable for a 10-year-old kid?**\n",
      "\n",
      "Based on my evaluation, I think Explanation 1 is more suitable for a 10-year-old kid. Here's why:\n",
      "\n",
      "* Explanation 1 uses simpler language and examples that are easier to understand.\n",
      "* It provides concrete demonstrations (e.g., dropping a ball from the top of the house) that help kids visualize the concept of gravity.\n",
      "* The analogy is clear and relatable, making it more likely to resonate with young children.\n",
      "\n",
      "In contrast, Explanation 2 uses more technical language and examples that might be harder for younger children to follow. While it's still a good explanation, it may require some extra effort from parents or teachers to help their child understand the concepts behind it.\n",
      "\n",
      "Overall, I think Explanation 1 is a better choice because it provides a clearer and more accessible explanation of gravity that's suitable for 10-year-olds.\n"
     ]
    }
   ],
   "source": [
    "eval_chain_logic = eval_prompt | llm2 | StrOutputParser()\n",
    "\n",
    "eval_chain2 = RunnableParallel(explanation_1=ch1, explanation_2=ch2, topic=RunnablePassthrough()) | \\\n",
    "                RunnableParallel(evaluation=eval_chain_logic, \n",
    "                                 explanation_1=RunnablePassthrough() | RunnableLambda(lambda x: x['explanation_1']),\n",
    "                                 explanation_2=RunnablePassthrough() | RunnableLambda(lambda x: x['explanation_2']),\n",
    "                                )\n",
    "\n",
    "ev2 = eval_chain2.invoke({\"topic\": \"Gravity\"})\n",
    "\n",
    "# So now we can access all keys directly\n",
    "print(\"Explanation 1: \", ev2[\"explanation_1\"], end=\"\\n\\n\")\n",
    "print(\"Explanation 2: \", ev2[\"explanation_2\"], end=\"\\n\\n\")\n",
    "print(\"Final Evaluation: \", ev2[\"evaluation\"])"
   ]
  },
  {
   "cell_type": "code",
   "execution_count": null,
   "id": "aafda186-ee1c-4e42-a64d-6d465740076f",
   "metadata": {},
   "outputs": [],
   "source": []
  }
 ],
 "metadata": {
  "kernelspec": {
   "display_name": "Python 3 (ipykernel)",
   "language": "python",
   "name": "python3"
  },
  "language_info": {
   "codemirror_mode": {
    "name": "ipython",
    "version": 3
   },
   "file_extension": ".py",
   "mimetype": "text/x-python",
   "name": "python",
   "nbconvert_exporter": "python",
   "pygments_lexer": "ipython3",
   "version": "3.12.9"
  }
 },
 "nbformat": 4,
 "nbformat_minor": 5
}
