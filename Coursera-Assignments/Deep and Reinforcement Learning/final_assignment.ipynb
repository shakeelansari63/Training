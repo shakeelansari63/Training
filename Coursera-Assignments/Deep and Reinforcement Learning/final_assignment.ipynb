{
 "cells": [
  {
   "cell_type": "markdown",
   "metadata": {},
   "source": [
    "# Deep Learning"
   ]
  },
  {
   "cell_type": "markdown",
   "metadata": {},
   "source": [
    "## Objective\n",
    "To develop a highly accurate and efficient image classification model capable of reliably distinguishing between images of cats and dogs, providing a reliable and user-friendly tool for image categorization."
   ]
  },
  {
   "cell_type": "markdown",
   "metadata": {},
   "source": [
    "## Data Definition\n",
    "We have few images for Dogs and cats in PetImages directory which will be used to train the model and then we will use some test data to evaluate our model\n",
    "### Size\n",
    "We have about 1500 Dog image and 1500 Cat images\n",
    "### Colors\n",
    "The images are RGB color, so there will be 3 color channles\n",
    "### Labels\n",
    "**Classes:** Two classes: \"cat\" and \"dog\"\n",
    "**Annotation:** Binary labels (0 for cat, 1 for dog) associated with each image"
   ]
  },
  {
   "cell_type": "markdown",
   "metadata": {},
   "source": [
    "### Deep Learning Models to use\n",
    "#### Convolutional Neural Networks (CNNs)\n",
    "Specialized for image and video data.\n",
    "#### Recurrent Neural Networks (RNNs): \n",
    "Designed for sequential data like text and time series.\n",
    "#### Fully Connected Networks (FCNs): \n",
    "General-purpose neural networks that can be used for various tasks, including image classification.\n",
    "#### Autoencoders: \n",
    "Unsupervised learning models used for dimensionality reduction and feature extraction.\n",
    "\n",
    "### Why CNNs are Better for Image Classification:\n",
    "#### Spatial Invariance: \n",
    "CNNs are inherently designed to handle spatial relationships in images. The convolutional layers allow the model to learn and recognize patterns regardless of their location within the image.\n",
    "#### Feature Extraction: \n",
    "CNNs can automatically learn hierarchical features from images, starting with simple low-level features (e.g., edges and lines) and progressing to more complex high-level features (e.g., objects and scenes). This eliminates the need for manual feature engineering.\n",
    "#### Weight Sharing: \n",
    "CNNs use weight sharing, which reduces the number of parameters and helps prevent overfitting.\n",
    "#### Pooling Layers: \n",
    "Pooling layers in CNNs help reduce the dimensionality of the feature maps, making the model more computationally efficient and reducing the risk of overfitting.\n",
    "#### Success in Real-World Applications: \n",
    "CNNs have achieved state-of-the-art performance on a wide range of image classification tasks, including object detection, image segmentation, and medical image analysis."
   ]
  },
  {
   "cell_type": "markdown",
   "metadata": {},
   "source": [
    "#### Import Required libraries"
   ]
  },
  {
   "cell_type": "code",
   "execution_count": 48,
   "metadata": {
    "colab": {},
    "colab_type": "code",
    "id": "dn-6c02VmqiN"
   },
   "outputs": [],
   "source": [
    "import os\n",
    "import random\n",
    "import tensorflow as tf\n",
    "import shutil\n",
    "from tensorflow.keras.optimizers import RMSprop\n",
    "from tensorflow.keras.preprocessing.image import load_img, img_to_array, ImageDataGenerator\n",
    "from tensorflow.keras.applications.vgg16 import preprocess_input\n",
    "from shutil import copyfile\n",
    "import numpy as np\n",
    "from os import getcwd"
   ]
  },
  {
   "cell_type": "markdown",
   "metadata": {},
   "source": [
    "#### Set working paths"
   ]
  },
  {
   "cell_type": "code",
   "execution_count": 13,
   "metadata": {},
   "outputs": [],
   "source": [
    "CAT_SRC = f'{os.getcwd()}/PetImages/Cat/'\n",
    "DOG_SRC = f'{os.getcwd()}/PetImages/Dog/'\n",
    "TRAIN_DIR = f'{os.getcwd()}/PetImages/Train/'\n",
    "TEST_DIR = f'{os.getcwd()}/PetImages/Test/'\n",
    "CAT_TRAIN = f'{TRAIN_DIR}Cat/'\n",
    "CAT_TEST = f'{TEST_DIR}Cat/'\n",
    "DOG_TRAIN = f'{TRAIN_DIR}Dog/'\n",
    "DOG_TEST = f'{TEST_DIR}Dog/'"
   ]
  },
  {
   "cell_type": "markdown",
   "metadata": {
    "colab": {},
    "colab_type": "code",
    "id": "3sd9dQWa23aj"
   },
   "source": [
    "#### See Available Images"
   ]
  },
  {
   "cell_type": "code",
   "execution_count": 14,
   "metadata": {
    "colab": {},
    "colab_type": "code",
    "id": "gi3yD62a6X3S"
   },
   "outputs": [
    {
     "name": "stdout",
     "output_type": "stream",
     "text": [
      "1500\n",
      "1500\n"
     ]
    }
   ],
   "source": [
    "print(len(os.listdir(CAT_SRC)))\n",
    "print(len(os.listdir(DOG_SRC)))"
   ]
  },
  {
   "cell_type": "markdown",
   "metadata": {},
   "source": [
    "#### Lets create some directories to spliting test and train images"
   ]
  },
  {
   "cell_type": "code",
   "execution_count": 15,
   "metadata": {
    "colab": {},
    "colab_type": "code",
    "id": "F-QkLjxpmyK2"
   },
   "outputs": [],
   "source": [
    "\n",
    "try:\n",
    "    os.mkdir(TRAIN_DIR)\n",
    "    os.mkdir(TEST_DIR)\n",
    "    os.mkdir(CAT_TRAIN)\n",
    "    os.mkdir(CAT_TEST)\n",
    "    os.mkdir(DOG_TRAIN)\n",
    "    os.mkdir(DOG_TEST)\n",
    "except OSError as e:\n",
    "    print(e)"
   ]
  },
  {
   "cell_type": "markdown",
   "metadata": {},
   "source": [
    "#### Split the images"
   ]
  },
  {
   "cell_type": "code",
   "execution_count": 16,
   "metadata": {
    "colab": {},
    "colab_type": "code",
    "id": "zvSODo0f9LaU"
   },
   "outputs": [],
   "source": [
    "def split_data(src, train, test, size):\n",
    "    all_files = []\n",
    "    \n",
    "    for file_name in os.listdir(src):\n",
    "        file_path = src + file_name\n",
    "\n",
    "        if os.path.getsize(file_path):\n",
    "            all_files.append(file_name)\n",
    "        else:\n",
    "            print('{} is zero length, so ignoring'.format(file_name))\n",
    "    \n",
    "    n_files = len(all_files)\n",
    "    split_point = int(n_files * size)\n",
    "    \n",
    "    shuffled = random.sample(all_files, n_files)\n",
    "    \n",
    "    train_set = shuffled[:split_point]\n",
    "    test_set = shuffled[split_point:]\n",
    "    \n",
    "    for file_name in train_set:\n",
    "        copyfile(src + file_name, train + file_name)\n",
    "        \n",
    "    for file_name in test_set:\n",
    "        copyfile(src + file_name, test + file_name)\n",
    "\n",
    "split_size = .9\n",
    "split_data(CAT_SRC, CAT_TRAIN, CAT_TEST, split_size)\n",
    "split_data(DOG_SRC, DOG_TRAIN, DOG_TEST, split_size)"
   ]
  },
  {
   "cell_type": "markdown",
   "metadata": {},
   "source": [
    "#### See split counts"
   ]
  },
  {
   "cell_type": "code",
   "execution_count": 17,
   "metadata": {
    "colab": {},
    "colab_type": "code",
    "id": "luthalB76ufC"
   },
   "outputs": [
    {
     "name": "stdout",
     "output_type": "stream",
     "text": [
      "1350\n",
      "150\n",
      "1350\n",
      "150\n"
     ]
    }
   ],
   "source": [
    "print(len(os.listdir(CAT_TRAIN)))\n",
    "print(len(os.listdir(CAT_TEST)))\n",
    "print(len(os.listdir(DOG_TRAIN)))\n",
    "print(len(os.listdir(DOG_TEST)))"
   ]
  },
  {
   "cell_type": "markdown",
   "metadata": {},
   "source": [
    "#### Define Model to classify images"
   ]
  },
  {
   "cell_type": "code",
   "execution_count": 12,
   "metadata": {
    "colab": {},
    "colab_type": "code",
    "id": "-BQrav4anTmj"
   },
   "outputs": [],
   "source": [
    "model = tf.keras.models.Sequential([\n",
    "    tf.keras.layers.Conv2D(32, (3,3), input_shape=(150, 150, 3), activation='relu'),\n",
    "    tf.keras.layers.MaxPooling2D(2,2),\n",
    "    tf.keras.layers.Conv2D(64, (3,3), activation='relu'),\n",
    "    tf.keras.layers.MaxPooling2D(2,2),\n",
    "    tf.keras.layers.Conv2D(128, (3, 3), activation='relu'),\n",
    "    tf.keras.layers.MaxPooling2D(2,2),\n",
    "    tf.keras.layers.Flatten(),\n",
    "    tf.keras.layers.Dense(512, activation='relu'),\n",
    "    tf.keras.layers.Dense(128, activation='relu'),\n",
    "    tf.keras.layers.Dense(1, activation='sigmoid')\n",
    "])\n",
    "\n",
    "model.compile(optimizer=RMSprop(learning_rate=0.001), loss='binary_crossentropy', metrics=['acc'])"
   ]
  },
  {
   "cell_type": "code",
   "execution_count": 18,
   "metadata": {
    "colab": {},
    "colab_type": "code",
    "id": "mlNjoJ5D61N6"
   },
   "outputs": [
    {
     "name": "stdout",
     "output_type": "stream",
     "text": [
      "Found 2700 images belonging to 2 classes.\n",
      "Found 300 images belonging to 2 classes.\n"
     ]
    }
   ],
   "source": [
    "train_datagen = ImageDataGenerator(\n",
    "    rescale=1 / 255,\n",
    "    rotation_range=40,\n",
    "    width_shift_range=.2,\n",
    "    height_shift_range=.2,\n",
    "    shear_range=.2,\n",
    "    zoom_range=.2,\n",
    "    horizontal_flip=True,\n",
    "    fill_mode='nearest'\n",
    ")\n",
    "\n",
    "train_generator = train_datagen.flow_from_directory(\n",
    "    TRAIN_DIR,\n",
    "    batch_size=10,\n",
    "    class_mode='binary',\n",
    "    target_size=(150, 150)\n",
    ")\n",
    "\n",
    "validation_datagen = ImageDataGenerator(rescale=1 / 255)\n",
    "\n",
    "validation_generator = validation_datagen.flow_from_directory(\n",
    "    TEST_DIR,\n",
    "    batch_size=64,\n",
    "    class_mode='binary',\n",
    "    target_size=(150, 150)\n",
    ")"
   ]
  },
  {
   "cell_type": "markdown",
   "metadata": {},
   "source": [
    "#### Fit Data Generator"
   ]
  },
  {
   "cell_type": "code",
   "execution_count": 20,
   "metadata": {
    "colab": {},
    "colab_type": "code",
    "id": "KyS4n53w7DxC"
   },
   "outputs": [
    {
     "name": "stdout",
     "output_type": "stream",
     "text": [
      "Epoch 1/2\n"
     ]
    },
    {
     "name": "stderr",
     "output_type": "stream",
     "text": [
      "/home/freak/Freak/Trainings/Coursera-Assignments/.venv/lib/python3.9/site-packages/keras/src/trainers/data_adapters/py_dataset_adapter.py:122: UserWarning: Your `PyDataset` class should call `super().__init__(**kwargs)` in its constructor. `**kwargs` can include `workers`, `use_multiprocessing`, `max_queue_size`. Do not pass these arguments to `fit()`, as they will be ignored.\n",
      "  self._warn_if_super_not_called()\n"
     ]
    },
    {
     "name": "stdout",
     "output_type": "stream",
     "text": [
      "\u001b[1m270/270\u001b[0m \u001b[32m━━━━━━━━━━━━━━━━━━━━\u001b[0m\u001b[37m\u001b[0m \u001b[1m64s\u001b[0m 235ms/step - acc: 0.4981 - loss: 0.7089 - val_acc: 0.5667 - val_loss: 0.6907\n",
      "Epoch 2/2\n",
      "\u001b[1m270/270\u001b[0m \u001b[32m━━━━━━━━━━━━━━━━━━━━\u001b[0m\u001b[37m\u001b[0m \u001b[1m64s\u001b[0m 235ms/step - acc: 0.5423 - loss: 0.6911 - val_acc: 0.5600 - val_loss: 0.6836\n"
     ]
    }
   ],
   "source": [
    "history = model.fit(train_generator,\n",
    "                      epochs=2,\n",
    "                      verbose=1,\n",
    "                      validation_data=validation_generator)"
   ]
  },
  {
   "cell_type": "markdown",
   "metadata": {},
   "source": [
    "#### Plot loss and Accuracy of Model"
   ]
  },
  {
   "cell_type": "code",
   "execution_count": 22,
   "metadata": {
    "colab": {},
    "colab_type": "code",
    "id": "MWZrJN4-65RC"
   },
   "outputs": [
    {
     "data": {
      "text/plain": [
       "Text(0.5, 1.0, 'Training and validation loss')"
      ]
     },
     "execution_count": 22,
     "metadata": {},
     "output_type": "execute_result"
    },
    {
     "data": {
      "image/png": "[encoded data removed]",
      "text/plain": [
       "<Figure size 640x480 with 1 Axes>"
      ]
     },
     "metadata": {},
     "output_type": "display_data"
    },
    {
     "data": {
      "image/png": "[encoded data removed]",
      "text/plain": [
       "<Figure size 640x480 with 1 Axes>"
      ]
     },
     "metadata": {},
     "output_type": "display_data"
    }
   ],
   "source": [
    "import matplotlib.image  as mpimg\n",
    "import matplotlib.pyplot as plt\n",
    "\n",
    "acc=history.history['acc']\n",
    "val_acc=history.history['val_acc']\n",
    "loss=history.history['loss']\n",
    "val_loss=history.history['val_loss']\n",
    "\n",
    "epochs=range(len(acc)) # Get number of epochs\n",
    "\n",
    "#------------------------------------------------\n",
    "# Plot training and validation accuracy per epoch\n",
    "#------------------------------------------------\n",
    "plt.plot(epochs, acc, 'r', \"Training Accuracy\")\n",
    "plt.plot(epochs, val_acc, 'b', \"Validation Accuracy\")\n",
    "plt.title('Training and validation accuracy')\n",
    "plt.figure()\n",
    "\n",
    "#------------------------------------------------\n",
    "# Plot training and validation loss per epoch\n",
    "#------------------------------------------------\n",
    "plt.plot(epochs, loss, 'r', \"Training Loss\")\n",
    "plt.plot(epochs, val_loss, 'b', \"Validation Loss\")\n",
    "\n",
    "\n",
    "plt.title('Training and validation loss')"
   ]
  },
  {
   "cell_type": "markdown",
   "metadata": {},
   "source": [
    "#### Lets try to predict using the model"
   ]
  },
  {
   "cell_type": "code",
   "execution_count": 53,
   "metadata": {},
   "outputs": [
    {
     "name": "stdout",
     "output_type": "stream",
     "text": [
      "cat.68.jpg\n"
     ]
    }
   ],
   "source": [
    "image = random.choice(os.listdir(CAT_TEST))\n",
    "image_path = f'{CAT_TEST}/{image}'\n",
    "print(image)"
   ]
  },
  {
   "cell_type": "code",
   "execution_count": 54,
   "metadata": {},
   "outputs": [
    {
     "name": "stdout",
     "output_type": "stream",
     "text": [
      "\u001b[1m1/1\u001b[0m \u001b[32m━━━━━━━━━━━━━━━━━━━━\u001b[0m\u001b[37m\u001b[0m \u001b[1m0s\u001b[0m 14ms/step\n"
     ]
    },
    {
     "data": {
      "text/plain": [
       "[array([0.], dtype=float32)]"
      ]
     },
     "execution_count": 54,
     "metadata": {},
     "output_type": "execute_result"
    }
   ],
   "source": [
    "my_image = load_img(image_path, target_size=(150, 150))\n",
    "\n",
    "#preprocess the image\n",
    "my_image = img_to_array(my_image)\n",
    "my_image = my_image.reshape((1, my_image.shape[0], my_image.shape[1], my_image.shape[2]))\n",
    "my_image = preprocess_input(my_image)\n",
    "\n",
    "#make the prediction\n",
    "prediction = model.predict(my_image)\n",
    "[np.round(x) for x in prediction]"
   ]
  },
  {
   "cell_type": "code",
   "execution_count": 50,
   "metadata": {},
   "outputs": [
    {
     "name": "stdout",
     "output_type": "stream",
     "text": [
      "dog.407.jpg\n"
     ]
    }
   ],
   "source": [
    "image = random.choice(os.listdir(DOG_TEST))\n",
    "image_path = f'{DOG_TEST}/{image}'\n",
    "print(image)"
   ]
  },
  {
   "cell_type": "code",
   "execution_count": 52,
   "metadata": {},
   "outputs": [
    {
     "name": "stdout",
     "output_type": "stream",
     "text": [
      "\u001b[1m1/1\u001b[0m \u001b[32m━━━━━━━━━━━━━━━━━━━━\u001b[0m\u001b[37m\u001b[0m \u001b[1m0s\u001b[0m 13ms/step\n"
     ]
    },
    {
     "data": {
      "text/plain": [
       "[array([1.], dtype=float32)]"
      ]
     },
     "execution_count": 52,
     "metadata": {},
     "output_type": "execute_result"
    }
   ],
   "source": [
    "my_image = load_img(image_path, target_size=(150, 150))\n",
    "\n",
    "#preprocess the image\n",
    "my_image = img_to_array(my_image)\n",
    "my_image = my_image.reshape((1, my_image.shape[0], my_image.shape[1], my_image.shape[2]))\n",
    "my_image = preprocess_input(my_image)\n",
    "\n",
    "#make the prediction\n",
    "model.predict(my_image)\n",
    "[np.round(x) for x in prediction]"
   ]
  },
  {
   "cell_type": "markdown",
   "metadata": {},
   "source": [
    "##### So as we can see our Model is able to recognize Cats and Dogs"
   ]
  },
  {
   "cell_type": "markdown",
   "metadata": {},
   "source": [
    "## Key observations\n",
    "### Model Performance\n",
    "The model is currently achieving an accuracy of 54.23% on the training set and 56.00% on the validation set. This indicates that the model is performing slightly better on the validation set compared to the training set, suggesting a potential for overfitting.\n",
    "\n",
    "### Loss\n",
    "The loss values for both the training and validation sets are relatively high (0.6911 and 0.6836, respectively). This suggests that the model is still struggling to learn the underlying patterns in the data.\n",
    "\n",
    "### Convergence\n",
    "After only 2 epochs, it's too early to determine whether the model has converged. More epochs are needed to assess the model's final performance and convergence behavior.\n",
    "\n",
    "## Potential Next Steps\n",
    "### Increase Epochs\n",
    "Train the model for more epochs to allow it to learn more complex patterns and potentially improve accuracy.\n",
    "\n",
    "### Adjust Hyperparameters\n",
    "Experiment with different hyperparameters (e.g., learning rate, batch size, regularization) to see if they can improve the model's performance.\n",
    "### Data Augmentation\n",
    "Apply data augmentation techniques (e.g., rotation, flipping, cropping) to increase the diversity of the training data and reduce overfitting.\n",
    "### Network Architecture\n",
    "Consider modifying the network architecture (e.g., adding layers, changing filter sizes) to improve its ability to learn relevant features.\n",
    "### Feature Engineering\n",
    "Explore feature engineering techniques to extract more informative features from the images, potentially improving model performance."
   ]
  }
 ],
 "metadata": {
  "accelerator": "GPU",
  "colab": {
   "collapsed_sections": [],
   "name": "Exercise 5 - Question.ipynb",
   "provenance": []
  },
  "coursera": {
   "course_slug": "convolutional-neural-networks-tensorflow",
   "graded_item_id": "laIUG",
   "launcher_item_id": "jjQWM"
  },
  "kernelspec": {
   "display_name": "Python 3 (ipykernel)",
   "language": "python",
   "name": "python3"
  },
  "language_info": {
   "codemirror_mode": {
    "name": "ipython",
    "version": 3
   },
   "file_extension": ".py",
   "mimetype": "text/x-python",
   "name": "python",
   "nbconvert_exporter": "python",
   "pygments_lexer": "ipython3",
   "version": "3.9.19"
  }
 },
 "nbformat": 4,
 "nbformat_minor": 4
}
