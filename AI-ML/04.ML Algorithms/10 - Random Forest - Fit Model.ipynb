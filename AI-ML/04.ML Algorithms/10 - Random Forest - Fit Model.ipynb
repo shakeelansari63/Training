{
 "cells": [
  {
   "cell_type": "markdown",
   "metadata": {},
   "source": [
    "## Random Forest: Fit and evaluate a model\n",
    "\n",
    "Using the Titanic dataset from [this](https://www.kaggle.com/c/titanic/overview) Kaggle competition.\n",
    "\n",
    "In this section, we will fit and evaluate a simple Random Forest model."
   ]
  },
  {
   "cell_type": "markdown",
   "metadata": {},
   "source": [
    "### Read in Data"
   ]
  },
  {
   "cell_type": "code",
   "execution_count": 1,
   "metadata": {},
   "outputs": [],
   "source": [
    "import pandas as pd\n",
    "from sklearn.ensemble import RandomForestClassifier\n",
    "from sklearn.model_selection import GridSearchCV\n",
    "import warnings\n",
    "warnings.filterwarnings('ignore', category=FutureWarning)\n",
    "warnings.filterwarnings('ignore', category=DeprecationWarning)\n",
    "\n",
    "tr_features = pd.read_csv('tmp/train_features.csv')\n",
    "tr_labels = pd.read_csv('tmp/train_labels.csv')"
   ]
  },
  {
   "cell_type": "markdown",
   "metadata": {},
   "source": [
    "### Hyperparameter tuning\n",
    "\n",
    "![RF](img/rf.png)"
   ]
  },
  {
   "cell_type": "code",
   "execution_count": 2,
   "metadata": {},
   "outputs": [],
   "source": [
    "def print_results(results):\n",
    "    print('BEST PARAMS: {}\\n'.format(results.best_params_))\n",
    "\n",
    "    means = results.cv_results_['mean_test_score']\n",
    "    stds = results.cv_results_['std_test_score']\n",
    "    for mean, std, params in zip(means, stds, results.cv_results_['params']):\n",
    "        print('{} (+/-{}) for {}'.format(round(mean, 3), round(std * 2, 3), params))"
   ]
  },
  {
   "cell_type": "code",
   "execution_count": 4,
   "metadata": {},
   "outputs": [
    {
     "name": "stdout",
     "output_type": "stream",
     "text": [
      "BEST PARAMS: {'max_depth': 4, 'n_estimators': 5}\n",
      "\n",
      "0.774 (+/-0.173) for {'max_depth': 2, 'n_estimators': 5}\n",
      "0.785 (+/-0.105) for {'max_depth': 2, 'n_estimators': 10}\n",
      "0.785 (+/-0.114) for {'max_depth': 2, 'n_estimators': 50}\n",
      "0.794 (+/-0.115) for {'max_depth': 2, 'n_estimators': 100}\n",
      "0.802 (+/-0.11) for {'max_depth': 2, 'n_estimators': 250}\n",
      "0.833 (+/-0.099) for {'max_depth': 4, 'n_estimators': 5}\n",
      "0.811 (+/-0.058) for {'max_depth': 4, 'n_estimators': 10}\n",
      "0.832 (+/-0.096) for {'max_depth': 4, 'n_estimators': 50}\n",
      "0.82 (+/-0.123) for {'max_depth': 4, 'n_estimators': 100}\n",
      "0.824 (+/-0.106) for {'max_depth': 4, 'n_estimators': 250}\n",
      "0.83 (+/-0.074) for {'max_depth': 8, 'n_estimators': 5}\n",
      "0.794 (+/-0.079) for {'max_depth': 8, 'n_estimators': 10}\n",
      "0.815 (+/-0.08) for {'max_depth': 8, 'n_estimators': 50}\n",
      "0.822 (+/-0.064) for {'max_depth': 8, 'n_estimators': 100}\n",
      "0.82 (+/-0.061) for {'max_depth': 8, 'n_estimators': 250}\n",
      "0.796 (+/-0.051) for {'max_depth': 16, 'n_estimators': 5}\n",
      "0.826 (+/-0.037) for {'max_depth': 16, 'n_estimators': 10}\n",
      "0.813 (+/-0.038) for {'max_depth': 16, 'n_estimators': 50}\n",
      "0.803 (+/-0.039) for {'max_depth': 16, 'n_estimators': 100}\n",
      "0.811 (+/-0.029) for {'max_depth': 16, 'n_estimators': 250}\n",
      "0.792 (+/-0.035) for {'max_depth': 32, 'n_estimators': 5}\n",
      "0.818 (+/-0.044) for {'max_depth': 32, 'n_estimators': 10}\n",
      "0.813 (+/-0.027) for {'max_depth': 32, 'n_estimators': 50}\n",
      "0.811 (+/-0.029) for {'max_depth': 32, 'n_estimators': 100}\n",
      "0.815 (+/-0.035) for {'max_depth': 32, 'n_estimators': 250}\n",
      "0.79 (+/-0.075) for {'max_depth': None, 'n_estimators': 5}\n",
      "0.818 (+/-0.019) for {'max_depth': None, 'n_estimators': 10}\n",
      "0.817 (+/-0.027) for {'max_depth': None, 'n_estimators': 50}\n",
      "0.809 (+/-0.036) for {'max_depth': None, 'n_estimators': 100}\n",
      "0.809 (+/-0.032) for {'max_depth': None, 'n_estimators': 250}\n"
     ]
    }
   ],
   "source": [
    "## Create Random Forest Classifier\n",
    "rf = RandomForestClassifier()\n",
    "\n",
    "## Define Hyperparameters\n",
    "parameters = {\n",
    "    'n_estimators': [5, 10, 50, 100, 250],\n",
    "    'max_depth': [2, 4, 8, 16, 32, None]\n",
    "}\n",
    "\n",
    "## Create 5 Fold Grid Search Cross Validation\n",
    "cv = GridSearchCV(rf, parameters, cv = 5)\n",
    "\n",
    "## Fit to train data\n",
    "cv.fit(tr_features, tr_labels.values.ravel())\n",
    "\n",
    "## Get results\n",
    "print_results(cv)"
   ]
  },
  {
   "cell_type": "code",
   "execution_count": 5,
   "metadata": {},
   "outputs": [
    {
     "name": "stdout",
     "output_type": "stream",
     "text": [
      "RandomForestClassifier(bootstrap=True, ccp_alpha=0.0, class_weight=None,\n",
      "                       criterion='gini', max_depth=4, max_features='auto',\n",
      "                       max_leaf_nodes=None, max_samples=None,\n",
      "                       min_impurity_decrease=0.0, min_impurity_split=None,\n",
      "                       min_samples_leaf=1, min_samples_split=2,\n",
      "                       min_weight_fraction_leaf=0.0, n_estimators=5,\n",
      "                       n_jobs=None, oob_score=False, random_state=None,\n",
      "                       verbose=0, warm_start=False)\n"
     ]
    }
   ],
   "source": [
    "## See the best estimator\n",
    "print(cv.best_estimator_)"
   ]
  },
  {
   "cell_type": "markdown",
   "metadata": {},
   "source": [
    "### Write out pickled model"
   ]
  },
  {
   "cell_type": "code",
   "execution_count": 7,
   "metadata": {},
   "outputs": [
    {
     "data": {
      "text/plain": [
       "['joblib/RF_Model.pkl']"
      ]
     },
     "execution_count": 7,
     "metadata": {},
     "output_type": "execute_result"
    }
   ],
   "source": [
    "import joblib\n",
    "joblib.dump(cv.best_estimator_, 'joblib/RF_Model.pkl')"
   ]
  }
 ],
 "metadata": {
  "kernelspec": {
   "display_name": "Python 3",
   "language": "python",
   "name": "python3"
  },
  "language_info": {
   "codemirror_mode": {
    "name": "ipython",
    "version": 3
   },
   "file_extension": ".py",
   "mimetype": "text/x-python",
   "name": "python",
   "nbconvert_exporter": "python",
   "pygments_lexer": "ipython3",
   "version": "3.8.2"
  }
 },
 "nbformat": 4,
 "nbformat_minor": 2
}
