{
 "cells": [
  {
   "cell_type": "markdown",
   "id": "85341893-cfdd-49cf-bfe3-c98fbf987bbc",
   "metadata": {},
   "source": [
    "## Linear Regression with multiple variables\n",
    "### Formula\n",
    "![Multiple Variable Linear regression](img/multi-variate-linear-regression.png)"
   ]
  },
  {
   "cell_type": "code",
   "execution_count": 1,
   "id": "16faa93d-585c-4555-9d76-a68197013da2",
   "metadata": {},
   "outputs": [
    {
     "data": {
      "text/html": [
       "<div>\n",
       "<style scoped>\n",
       "    .dataframe tbody tr th:only-of-type {\n",
       "        vertical-align: middle;\n",
       "    }\n",
       "\n",
       "    .dataframe tbody tr th {\n",
       "        vertical-align: top;\n",
       "    }\n",
       "\n",
       "    .dataframe thead th {\n",
       "        text-align: right;\n",
       "    }\n",
       "</style>\n",
       "<table border=\"1\" class=\"dataframe\">\n",
       "  <thead>\n",
       "    <tr style=\"text-align: right;\">\n",
       "      <th></th>\n",
       "      <th>area</th>\n",
       "      <th>rooms</th>\n",
       "      <th>age</th>\n",
       "      <th>price</th>\n",
       "    </tr>\n",
       "  </thead>\n",
       "  <tbody>\n",
       "    <tr>\n",
       "      <th>0</th>\n",
       "      <td>2600</td>\n",
       "      <td>2.0</td>\n",
       "      <td>5</td>\n",
       "      <td>550000</td>\n",
       "    </tr>\n",
       "    <tr>\n",
       "      <th>1</th>\n",
       "      <td>3000</td>\n",
       "      <td>3.0</td>\n",
       "      <td>11</td>\n",
       "      <td>525000</td>\n",
       "    </tr>\n",
       "    <tr>\n",
       "      <th>2</th>\n",
       "      <td>3200</td>\n",
       "      <td>4.0</td>\n",
       "      <td>2</td>\n",
       "      <td>610000</td>\n",
       "    </tr>\n",
       "    <tr>\n",
       "      <th>3</th>\n",
       "      <td>3600</td>\n",
       "      <td>NaN</td>\n",
       "      <td>1</td>\n",
       "      <td>680000</td>\n",
       "    </tr>\n",
       "    <tr>\n",
       "      <th>4</th>\n",
       "      <td>4000</td>\n",
       "      <td>4.0</td>\n",
       "      <td>3</td>\n",
       "      <td>725000</td>\n",
       "    </tr>\n",
       "    <tr>\n",
       "      <th>5</th>\n",
       "      <td>5000</td>\n",
       "      <td>6.0</td>\n",
       "      <td>8</td>\n",
       "      <td>713000</td>\n",
       "    </tr>\n",
       "    <tr>\n",
       "      <th>6</th>\n",
       "      <td>5500</td>\n",
       "      <td>2.0</td>\n",
       "      <td>2</td>\n",
       "      <td>810000</td>\n",
       "    </tr>\n",
       "    <tr>\n",
       "      <th>7</th>\n",
       "      <td>6000</td>\n",
       "      <td>3.0</td>\n",
       "      <td>7</td>\n",
       "      <td>910000</td>\n",
       "    </tr>\n",
       "    <tr>\n",
       "      <th>8</th>\n",
       "      <td>6200</td>\n",
       "      <td>4.0</td>\n",
       "      <td>4</td>\n",
       "      <td>970000</td>\n",
       "    </tr>\n",
       "    <tr>\n",
       "      <th>9</th>\n",
       "      <td>7000</td>\n",
       "      <td>1.0</td>\n",
       "      <td>4</td>\n",
       "      <td>900000</td>\n",
       "    </tr>\n",
       "    <tr>\n",
       "      <th>10</th>\n",
       "      <td>7200</td>\n",
       "      <td>NaN</td>\n",
       "      <td>10</td>\n",
       "      <td>1100000</td>\n",
       "    </tr>\n",
       "    <tr>\n",
       "      <th>11</th>\n",
       "      <td>7600</td>\n",
       "      <td>5.0</td>\n",
       "      <td>2</td>\n",
       "      <td>1290000</td>\n",
       "    </tr>\n",
       "    <tr>\n",
       "      <th>12</th>\n",
       "      <td>8000</td>\n",
       "      <td>3.0</td>\n",
       "      <td>6</td>\n",
       "      <td>1120000</td>\n",
       "    </tr>\n",
       "  </tbody>\n",
       "</table>\n",
       "</div>"
      ],
      "text/plain": [
       "    area  rooms  age    price\n",
       "0   2600    2.0    5   550000\n",
       "1   3000    3.0   11   525000\n",
       "2   3200    4.0    2   610000\n",
       "3   3600    NaN    1   680000\n",
       "4   4000    4.0    3   725000\n",
       "5   5000    6.0    8   713000\n",
       "6   5500    2.0    2   810000\n",
       "7   6000    3.0    7   910000\n",
       "8   6200    4.0    4   970000\n",
       "9   7000    1.0    4   900000\n",
       "10  7200    NaN   10  1100000\n",
       "11  7600    5.0    2  1290000\n",
       "12  8000    3.0    6  1120000"
      ]
     },
     "execution_count": 1,
     "metadata": {},
     "output_type": "execute_result"
    }
   ],
   "source": [
    "### Import data \n",
    "import pandas as pd\n",
    "\n",
    "data = pd.read_csv(\"homeprices-multiple-variable.csv\")\n",
    "data"
   ]
  },
  {
   "cell_type": "markdown",
   "id": "94fa7f9c-f8c8-4812-9738-4667cb915f7e",
   "metadata": {},
   "source": [
    "## Lets find any missing values in variables"
   ]
  },
  {
   "cell_type": "code",
   "execution_count": 2,
   "id": "11be6bfe-a389-46aa-a1d2-ba054f6ea7dd",
   "metadata": {},
   "outputs": [
    {
     "data": {
      "text/plain": [
       "area     0\n",
       "rooms    2\n",
       "age      0\n",
       "price    0\n",
       "dtype: int64"
      ]
     },
     "execution_count": 2,
     "metadata": {},
     "output_type": "execute_result"
    }
   ],
   "source": [
    "data.isnull().sum()"
   ]
  },
  {
   "cell_type": "markdown",
   "id": "1ed2641e-6711-4f4a-9983-0ee2fa288625",
   "metadata": {},
   "source": [
    "## We will fill the missing value with median of that field. Lets find the median and take floor of it so that we get only integer value"
   ]
  },
  {
   "cell_type": "code",
   "execution_count": 3,
   "id": "3c71cff1-5cac-475c-b890-c0231f5d0412",
   "metadata": {},
   "outputs": [
    {
     "name": "stdout",
     "output_type": "stream",
     "text": [
      "Median value for rooms is, 3\n"
     ]
    }
   ],
   "source": [
    "import math\n",
    "median = math.floor(data.rooms.median())\n",
    "print(\"Median value for rooms is,\", median)"
   ]
  },
  {
   "cell_type": "code",
   "execution_count": 4,
   "id": "382dabdf-3767-44f2-9b99-2f9c61f8855f",
   "metadata": {},
   "outputs": [
    {
     "data": {
      "text/html": [
       "<div>\n",
       "<style scoped>\n",
       "    .dataframe tbody tr th:only-of-type {\n",
       "        vertical-align: middle;\n",
       "    }\n",
       "\n",
       "    .dataframe tbody tr th {\n",
       "        vertical-align: top;\n",
       "    }\n",
       "\n",
       "    .dataframe thead th {\n",
       "        text-align: right;\n",
       "    }\n",
       "</style>\n",
       "<table border=\"1\" class=\"dataframe\">\n",
       "  <thead>\n",
       "    <tr style=\"text-align: right;\">\n",
       "      <th></th>\n",
       "      <th>area</th>\n",
       "      <th>rooms</th>\n",
       "      <th>age</th>\n",
       "      <th>price</th>\n",
       "    </tr>\n",
       "  </thead>\n",
       "  <tbody>\n",
       "    <tr>\n",
       "      <th>0</th>\n",
       "      <td>2600</td>\n",
       "      <td>2.0</td>\n",
       "      <td>5</td>\n",
       "      <td>550000</td>\n",
       "    </tr>\n",
       "    <tr>\n",
       "      <th>1</th>\n",
       "      <td>3000</td>\n",
       "      <td>3.0</td>\n",
       "      <td>11</td>\n",
       "      <td>525000</td>\n",
       "    </tr>\n",
       "    <tr>\n",
       "      <th>2</th>\n",
       "      <td>3200</td>\n",
       "      <td>4.0</td>\n",
       "      <td>2</td>\n",
       "      <td>610000</td>\n",
       "    </tr>\n",
       "    <tr>\n",
       "      <th>3</th>\n",
       "      <td>3600</td>\n",
       "      <td>3.0</td>\n",
       "      <td>1</td>\n",
       "      <td>680000</td>\n",
       "    </tr>\n",
       "    <tr>\n",
       "      <th>4</th>\n",
       "      <td>4000</td>\n",
       "      <td>4.0</td>\n",
       "      <td>3</td>\n",
       "      <td>725000</td>\n",
       "    </tr>\n",
       "    <tr>\n",
       "      <th>5</th>\n",
       "      <td>5000</td>\n",
       "      <td>6.0</td>\n",
       "      <td>8</td>\n",
       "      <td>713000</td>\n",
       "    </tr>\n",
       "    <tr>\n",
       "      <th>6</th>\n",
       "      <td>5500</td>\n",
       "      <td>2.0</td>\n",
       "      <td>2</td>\n",
       "      <td>810000</td>\n",
       "    </tr>\n",
       "    <tr>\n",
       "      <th>7</th>\n",
       "      <td>6000</td>\n",
       "      <td>3.0</td>\n",
       "      <td>7</td>\n",
       "      <td>910000</td>\n",
       "    </tr>\n",
       "    <tr>\n",
       "      <th>8</th>\n",
       "      <td>6200</td>\n",
       "      <td>4.0</td>\n",
       "      <td>4</td>\n",
       "      <td>970000</td>\n",
       "    </tr>\n",
       "    <tr>\n",
       "      <th>9</th>\n",
       "      <td>7000</td>\n",
       "      <td>1.0</td>\n",
       "      <td>4</td>\n",
       "      <td>900000</td>\n",
       "    </tr>\n",
       "    <tr>\n",
       "      <th>10</th>\n",
       "      <td>7200</td>\n",
       "      <td>3.0</td>\n",
       "      <td>10</td>\n",
       "      <td>1100000</td>\n",
       "    </tr>\n",
       "    <tr>\n",
       "      <th>11</th>\n",
       "      <td>7600</td>\n",
       "      <td>5.0</td>\n",
       "      <td>2</td>\n",
       "      <td>1290000</td>\n",
       "    </tr>\n",
       "    <tr>\n",
       "      <th>12</th>\n",
       "      <td>8000</td>\n",
       "      <td>3.0</td>\n",
       "      <td>6</td>\n",
       "      <td>1120000</td>\n",
       "    </tr>\n",
       "  </tbody>\n",
       "</table>\n",
       "</div>"
      ],
      "text/plain": [
       "    area  rooms  age    price\n",
       "0   2600    2.0    5   550000\n",
       "1   3000    3.0   11   525000\n",
       "2   3200    4.0    2   610000\n",
       "3   3600    3.0    1   680000\n",
       "4   4000    4.0    3   725000\n",
       "5   5000    6.0    8   713000\n",
       "6   5500    2.0    2   810000\n",
       "7   6000    3.0    7   910000\n",
       "8   6200    4.0    4   970000\n",
       "9   7000    1.0    4   900000\n",
       "10  7200    3.0   10  1100000\n",
       "11  7600    5.0    2  1290000\n",
       "12  8000    3.0    6  1120000"
      ]
     },
     "execution_count": 4,
     "metadata": {},
     "output_type": "execute_result"
    }
   ],
   "source": [
    "data.rooms = data.rooms.fillna(median)\n",
    "data"
   ]
  },
  {
   "cell_type": "markdown",
   "id": "9a32e3ad-1373-43be-9c55-67d0b93f84b8",
   "metadata": {},
   "source": [
    "## Lets now do a train test split"
   ]
  },
  {
   "cell_type": "code",
   "execution_count": 5,
   "id": "35a6fca5-f073-457b-bc85-f99bef28cc3e",
   "metadata": {},
   "outputs": [],
   "source": [
    "from sklearn.model_selection import train_test_split\n",
    "\n",
    "train_features, test_features, train_labels, test_labels = train_test_split(data[['area','rooms','age']], data.price, test_size=0.2)"
   ]
  },
  {
   "cell_type": "markdown",
   "id": "6244796f-0bd8-4694-8610-9846363403f7",
   "metadata": {},
   "source": [
    "## Now lets create Regressing Models"
   ]
  },
  {
   "cell_type": "code",
   "execution_count": 6,
   "id": "d35a1f55-9baa-4c51-9516-a4520a09cfed",
   "metadata": {},
   "outputs": [
    {
     "data": {
      "text/html": [
       "<style>#sk-container-id-1 {color: black;background-color: white;}#sk-container-id-1 pre{padding: 0;}#sk-container-id-1 div.sk-toggleable {background-color: white;}#sk-container-id-1 label.sk-toggleable__label {cursor: pointer;display: block;width: 100%;margin-bottom: 0;padding: 0.3em;box-sizing: border-box;text-align: center;}#sk-container-id-1 label.sk-toggleable__label-arrow:before {content: \"▸\";float: left;margin-right: 0.25em;color: #696969;}#sk-container-id-1 label.sk-toggleable__label-arrow:hover:before {color: black;}#sk-container-id-1 div.sk-estimator:hover label.sk-toggleable__label-arrow:before {color: black;}#sk-container-id-1 div.sk-toggleable__content {max-height: 0;max-width: 0;overflow: hidden;text-align: left;background-color: #f0f8ff;}#sk-container-id-1 div.sk-toggleable__content pre {margin: 0.2em;color: black;border-radius: 0.25em;background-color: #f0f8ff;}#sk-container-id-1 input.sk-toggleable__control:checked~div.sk-toggleable__content {max-height: 200px;max-width: 100%;overflow: auto;}#sk-container-id-1 input.sk-toggleable__control:checked~label.sk-toggleable__label-arrow:before {content: \"▾\";}#sk-container-id-1 div.sk-estimator input.sk-toggleable__control:checked~label.sk-toggleable__label {background-color: #d4ebff;}#sk-container-id-1 div.sk-label input.sk-toggleable__control:checked~label.sk-toggleable__label {background-color: #d4ebff;}#sk-container-id-1 input.sk-hidden--visually {border: 0;clip: rect(1px 1px 1px 1px);clip: rect(1px, 1px, 1px, 1px);height: 1px;margin: -1px;overflow: hidden;padding: 0;position: absolute;width: 1px;}#sk-container-id-1 div.sk-estimator {font-family: monospace;background-color: #f0f8ff;border: 1px dotted black;border-radius: 0.25em;box-sizing: border-box;margin-bottom: 0.5em;}#sk-container-id-1 div.sk-estimator:hover {background-color: #d4ebff;}#sk-container-id-1 div.sk-parallel-item::after {content: \"\";width: 100%;border-bottom: 1px solid gray;flex-grow: 1;}#sk-container-id-1 div.sk-label:hover label.sk-toggleable__label {background-color: #d4ebff;}#sk-container-id-1 div.sk-serial::before {content: \"\";position: absolute;border-left: 1px solid gray;box-sizing: border-box;top: 0;bottom: 0;left: 50%;z-index: 0;}#sk-container-id-1 div.sk-serial {display: flex;flex-direction: column;align-items: center;background-color: white;padding-right: 0.2em;padding-left: 0.2em;position: relative;}#sk-container-id-1 div.sk-item {position: relative;z-index: 1;}#sk-container-id-1 div.sk-parallel {display: flex;align-items: stretch;justify-content: center;background-color: white;position: relative;}#sk-container-id-1 div.sk-item::before, #sk-container-id-1 div.sk-parallel-item::before {content: \"\";position: absolute;border-left: 1px solid gray;box-sizing: border-box;top: 0;bottom: 0;left: 50%;z-index: -1;}#sk-container-id-1 div.sk-parallel-item {display: flex;flex-direction: column;z-index: 1;position: relative;background-color: white;}#sk-container-id-1 div.sk-parallel-item:first-child::after {align-self: flex-end;width: 50%;}#sk-container-id-1 div.sk-parallel-item:last-child::after {align-self: flex-start;width: 50%;}#sk-container-id-1 div.sk-parallel-item:only-child::after {width: 0;}#sk-container-id-1 div.sk-dashed-wrapped {border: 1px dashed gray;margin: 0 0.4em 0.5em 0.4em;box-sizing: border-box;padding-bottom: 0.4em;background-color: white;}#sk-container-id-1 div.sk-label label {font-family: monospace;font-weight: bold;display: inline-block;line-height: 1.2em;}#sk-container-id-1 div.sk-label-container {text-align: center;}#sk-container-id-1 div.sk-container {/* jupyter's `normalize.less` sets `[hidden] { display: none; }` but bootstrap.min.css set `[hidden] { display: none !important; }` so we also need the `!important` here to be able to override the default hidden behavior on the sphinx rendered scikit-learn.org. See: https://github.com/scikit-learn/scikit-learn/issues/21755 */display: inline-block !important;position: relative;}#sk-container-id-1 div.sk-text-repr-fallback {display: none;}</style><div id=\"sk-container-id-1\" class=\"sk-top-container\"><div class=\"sk-text-repr-fallback\"><pre>LinearRegression()</pre><b>In a Jupyter environment, please rerun this cell to show the HTML representation or trust the notebook. <br />On GitHub, the HTML representation is unable to render, please try loading this page with nbviewer.org.</b></div><div class=\"sk-container\" hidden><div class=\"sk-item\"><div class=\"sk-estimator sk-toggleable\"><input class=\"sk-toggleable__control sk-hidden--visually\" id=\"sk-estimator-id-1\" type=\"checkbox\" checked><label for=\"sk-estimator-id-1\" class=\"sk-toggleable__label sk-toggleable__label-arrow\">LinearRegression</label><div class=\"sk-toggleable__content\"><pre>LinearRegression()</pre></div></div></div></div></div>"
      ],
      "text/plain": [
       "LinearRegression()"
      ]
     },
     "execution_count": 6,
     "metadata": {},
     "output_type": "execute_result"
    }
   ],
   "source": [
    "from sklearn.linear_model import LinearRegression\n",
    "\n",
    "reg = LinearRegression()\n",
    "reg.fit(train_features, train_labels)"
   ]
  },
  {
   "cell_type": "markdown",
   "id": "0930e304-41eb-44bb-88ef-19d6211976e4",
   "metadata": {},
   "source": [
    "## Lets test the model on test set"
   ]
  },
  {
   "cell_type": "code",
   "execution_count": 7,
   "id": "1a86c39f-4347-4f96-91d6-7745a0481664",
   "metadata": {},
   "outputs": [
    {
     "name": "stdout",
     "output_type": "stream",
     "text": [
      "[(489236.9984559085, 525000), (661507.4034517666, 680000), (628122.5302571132, 610000)]\n"
     ]
    }
   ],
   "source": [
    "prediction = reg.predict(test_features)\n",
    "print(list(zip(prediction, test_labels)))"
   ]
  },
  {
   "cell_type": "markdown",
   "id": "8fea3efd-f9c6-40ba-b882-e5e6e2a1e712",
   "metadata": {},
   "source": [
    "## And we can see the predictions are quite close"
   ]
  },
  {
   "cell_type": "markdown",
   "id": "9c721a33-e359-46d2-93af-c8e8ea2ac7e3",
   "metadata": {},
   "source": [
    "## Now lets store the model to a pickle file and later we will load it and run test again"
   ]
  },
  {
   "cell_type": "code",
   "execution_count": 8,
   "id": "ffb92e38-a3e9-49d5-8ba6-b6df5af4f7a7",
   "metadata": {},
   "outputs": [
    {
     "data": {
      "text/plain": [
       "['joblib/MVLinearRegression.pkl']"
      ]
     },
     "execution_count": 8,
     "metadata": {},
     "output_type": "execute_result"
    }
   ],
   "source": [
    "import joblib\n",
    "joblib.dump(reg, 'joblib/MVLinearRegression.pkl')"
   ]
  },
  {
   "cell_type": "markdown",
   "id": "8a476746-0c27-471c-ac61-f7d3d7de8af9",
   "metadata": {},
   "source": [
    "#### Now load and run Test again"
   ]
  },
  {
   "cell_type": "code",
   "execution_count": 9,
   "id": "c90f1ac7-04c9-4313-ac18-814d04e0a995",
   "metadata": {},
   "outputs": [
    {
     "name": "stdout",
     "output_type": "stream",
     "text": [
      "[(489236.9984559085, 525000), (661507.4034517666, 680000), (628122.5302571132, 610000)]\n"
     ]
    }
   ],
   "source": [
    "reg2 = joblib.load('joblib/MVLinearRegression.pkl')\n",
    "prediction = reg2.predict(test_features)\n",
    "print(list(zip(prediction, test_labels)))"
   ]
  },
  {
   "cell_type": "code",
   "execution_count": null,
   "id": "423a88bc-1c91-4b07-8c7e-7ac90611c22b",
   "metadata": {},
   "outputs": [],
   "source": []
  }
 ],
 "metadata": {
  "kernelspec": {
   "display_name": "Python 3 (ipykernel)",
   "language": "python",
   "name": "python3"
  },
  "language_info": {
   "codemirror_mode": {
    "name": "ipython",
    "version": 3
   },
   "file_extension": ".py",
   "mimetype": "text/x-python",
   "name": "python",
   "nbconvert_exporter": "python",
   "pygments_lexer": "ipython3",
   "version": "3.10.10"
  }
 },
 "nbformat": 4,
 "nbformat_minor": 5
}
