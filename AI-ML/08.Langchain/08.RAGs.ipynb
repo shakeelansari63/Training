{
 "cells": [
  {
   "cell_type": "markdown",
   "id": "8a568d56-785b-48fd-9c89-53005205d6b4",
   "metadata": {},
   "source": [
    "# RAG"
   ]
  },
  {
   "cell_type": "markdown",
   "id": "6396c051-e2b4-4a35-8d50-7889bee42699",
   "metadata": {},
   "source": [
    "### Document Loading"
   ]
  },
  {
   "cell_type": "markdown",
   "id": "e12d109a-64ff-436b-a635-626764d65972",
   "metadata": {},
   "source": [
    "#### Text"
   ]
  },
  {
   "cell_type": "code",
   "execution_count": 1,
   "id": "1b8705e1-1655-459d-8a22-e5d56b8bab37",
   "metadata": {},
   "outputs": [
    {
     "data": {
      "text/plain": [
       "[Document(metadata={'source': './RAGFiles/LangchainRetrieval.txt'}, page_content=\"Retrieval\\nMany LLM applications require user-specific data that is not part of the model's training set. The primary way of accomplishing this is through Retrieval Augmented Generation (RAG). In this process, external data is retrieved and then passed to the LLM when doing the generation step.\\n\\nLangChain provides all the building blocks for RAG applications - from simple to complex. This section of the documentation covers everything related to the retrieval step - e.g. the fetching of the data. Although this sounds simple, it can be subtly complex. This encompasses several key modules.\\n\\nIllustrative diagram showing the data connection process with steps: Source, Load, Transform, Embed, Store, and Retrieve.\\n\\nDocument loaders\\nDocument loaders load documents from many different sources. LangChain provides over 100 different document loaders as well as integrations with other major providers in the space, like AirByte and Unstructured. LangChain provides integrations to load all types of documents (HTML, PDF, code) from all types of locations (private S3 buckets, public websites).\\n\\nText Splitting\\nA key part of retrieval is fetching only the relevant parts of documents. This involves several transformation steps to prepare the documents for retrieval. One of the primary ones here is splitting (or chunking) a large document into smaller chunks. LangChain provides several transformation algorithms for doing this, as well as logic optimized for specific document types (code, markdown, etc).\\n\\nText embedding models\\nAnother key part of retrieval is creating embeddings for documents. Embeddings capture the semantic meaning of the text, allowing you to quickly and efficiently find other pieces of a text that are similar. LangChain provides integrations with over 25 different embedding providers and methods, from open-source to proprietary API, allowing you to choose the one best suited for your needs. LangChain provides a standard interface, allowing you to easily swap between models.\\n\\nVector stores\\nWith the rise of embeddings, there has emerged a need for databases to support efficient storage and searching of these embeddings. LangChain provides integrations with over 50 different vectorstores, from open-source local ones to cloud-hosted proprietary ones, allowing you to choose the one best suited for your needs. LangChain exposes a standard interface, allowing you to easily swap between vector stores.\\n\\nRetrievers\\nOnce the data is in the database, you still need to retrieve it. LangChain supports many different retrieval algorithms and is one of the places where we add the most value. LangChain supports basic methods that are easy to get started - namely simple semantic search. However, we have also added a collection of algorithms on top of this to increase performance. These include:\\n\\nParent Document Retriever: This allows you to create multiple embeddings per parent document, allowing you to look up smaller chunks but return larger context.\\nSelf Query Retriever: User questions often contain a reference to something that isn't just semantic but rather expresses some logic that can best be represented as a metadata filter. Self-query allows you to parse out the semantic part of a query from other metadata filters present in the query.\\nEnsemble Retriever: Sometimes you may want to retrieve documents from multiple different sources, or using multiple different algorithms. The ensemble retriever allows you to easily do this.\\nAnd more!\\nIndexing\\nThe LangChain Indexing API syncs your data from any source into a vector store, helping you:\\n\\nAvoid writing duplicated content into the vector store\\nAvoid re-writing unchanged content\\nAvoid re-computing embeddings over unchanged content\\nAll of which should save you time and money, as well as improve your vector search results.\")]"
      ]
     },
     "execution_count": 1,
     "metadata": {},
     "output_type": "execute_result"
    }
   ],
   "source": [
    "from langchain_community.document_loaders import TextLoader\n",
    "\n",
    "loader = TextLoader(\"./RAGFiles/LangchainRetrieval.txt\")\n",
    "loader.load()"
   ]
  },
  {
   "cell_type": "markdown",
   "id": "ae1ea4ca-8711-416d-9d15-c0605aec1865",
   "metadata": {},
   "source": [
    "#### PDF Loading\n",
    "For loading PDF you will need pypdf2"
   ]
  },
  {
   "cell_type": "code",
   "execution_count": null,
   "id": "e14597eb-71a9-48f5-a5a8-feb480a114bd",
   "metadata": {},
   "outputs": [],
   "source": [
    "!uv pip install pypdf"
   ]
  },
  {
   "cell_type": "code",
   "execution_count": 10,
   "id": "79a8db04-ad4b-4383-bf08-b2d7e17a26b1",
   "metadata": {},
   "outputs": [],
   "source": [
    "from langchain_community.document_loaders import PyPDFLoader\n",
    "\n",
    "loader = PyPDFLoader(\"./RAGFiles/Excel_Course_Document.pdf\")\n",
    "pages = loader.load_and_split()"
   ]
  },
  {
   "cell_type": "code",
   "execution_count": 11,
   "id": "95d299c8-5b5d-4ead-a597-f85d447560f3",
   "metadata": {},
   "outputs": [
    {
     "data": {
      "text/plain": [
       "Document(metadata={'producer': 'Skia/PDF m119 Google Docs Renderer', 'creator': 'PyPDF', 'creationdate': '', 'title': 'Excel Course Document', 'source': './RAGFiles/Excel_Course_Document.pdf', 'total_pages': 8, 'page': 1, 'page_label': '2'}, page_content=\"Whatyou'll learn\\n● ABeginner'sGuidetoMicrosoftExcel-MicrosoftExcel,LearnExcel,Spreadsheets,Formulas,Shortcuts,Macros● KnowledgeofalltheessentialExcelformulas● BecomeproﬁcientinExceldatatoolslikeSorting,Filtering,DatavalidationsandDataimporting● MasterExcel'smostpopularlookupfunctionssuchasVlookup,Hlookup,IndexandMatch● HarnessfullpotentialofExcelbycreatingPivottableswithslicers● MakegreatpresentationsusingtheConditionalandTableformattingoptions● VisuallyenchantviewersusingBarcharts,ScatterPlots,Histogramsetc.● IncreaseyourefﬁciencybylearninghowtocreateanduseimportantExcelshortcuts● ExplorefunandexcitingusecasesofExcel\\nRequirements\\nYouwillneedaPCwithanyversionofExcelinstalledinit\\nWhothiscourseisfor\\nAnyonecurioustomasterExcelfrombeginnertoAdvancedinashortspanoftime\\n1\")"
      ]
     },
     "execution_count": 11,
     "metadata": {},
     "output_type": "execute_result"
    }
   ],
   "source": [
    "pages[1]"
   ]
  },
  {
   "cell_type": "markdown",
   "id": "375b080d-f1f7-412c-83f1-e6690254bcd8",
   "metadata": {},
   "source": [
    "#### Loading Directory of Files\n",
    "`unstructured` package is needed for loaidng from directory"
   ]
  },
  {
   "cell_type": "code",
   "execution_count": null,
   "id": "19b303f0-c5cc-49e7-a8ba-0006a7dfd617",
   "metadata": {},
   "outputs": [],
   "source": [
    "!uv pip install unstructured"
   ]
  },
  {
   "cell_type": "code",
   "execution_count": 15,
   "id": "584eabd4-c516-4698-8a4e-de7ecaed2f85",
   "metadata": {},
   "outputs": [],
   "source": [
    "from langchain_community.document_loaders import DirectoryLoader\n",
    "\n",
    "loader = DirectoryLoader('./RAGFiles/', glob=\"**/*.txt\")"
   ]
  },
  {
   "cell_type": "code",
   "execution_count": 16,
   "id": "a951ffd6-f571-47a7-95d2-3c872244fcde",
   "metadata": {},
   "outputs": [],
   "source": [
    "docs = loader.load()"
   ]
  },
  {
   "cell_type": "code",
   "execution_count": 17,
   "id": "8acad356-c6e8-49e7-be62-88d0c9f5c1b8",
   "metadata": {},
   "outputs": [
    {
     "data": {
      "text/plain": [
       "4"
      ]
     },
     "execution_count": 17,
     "metadata": {},
     "output_type": "execute_result"
    }
   ],
   "source": [
    "len(docs)"
   ]
  },
  {
   "cell_type": "code",
   "execution_count": 18,
   "id": "6c1a028c-c4df-48d4-ba3d-2be1256853d7",
   "metadata": {},
   "outputs": [
    {
     "data": {
      "text/plain": [
       "Document(metadata={'source': 'RAGFiles/LangchainRetrieval.txt'}, page_content=\"Retrieval Many LLM applications require user-specific data that is not part of the model's training set. The primary way of accomplishing this is through Retrieval Augmented Generation (RAG). In this process, external data is retrieved and then passed to the LLM when doing the generation step.\\n\\nLangChain provides all the building blocks for RAG applications - from simple to complex. This section of the documentation covers everything related to the retrieval step - e.g. the fetching of the data. Although this sounds simple, it can be subtly complex. This encompasses several key modules.\\n\\nIllustrative diagram showing the data connection process with steps: Source, Load, Transform, Embed, Store, and Retrieve.\\n\\nDocument loaders Document loaders load documents from many different sources. LangChain provides over 100 different document loaders as well as integrations with other major providers in the space, like AirByte and Unstructured. LangChain provides integrations to load all types of documents (HTML, PDF, code) from all types of locations (private S3 buckets, public websites).\\n\\nText Splitting A key part of retrieval is fetching only the relevant parts of documents. This involves several transformation steps to prepare the documents for retrieval. One of the primary ones here is splitting (or chunking) a large document into smaller chunks. LangChain provides several transformation algorithms for doing this, as well as logic optimized for specific document types (code, markdown, etc).\\n\\nText embedding models Another key part of retrieval is creating embeddings for documents. Embeddings capture the semantic meaning of the text, allowing you to quickly and efficiently find other pieces of a text that are similar. LangChain provides integrations with over 25 different embedding providers and methods, from open-source to proprietary API, allowing you to choose the one best suited for your needs. LangChain provides a standard interface, allowing you to easily swap between models.\\n\\nVector stores With the rise of embeddings, there has emerged a need for databases to support efficient storage and searching of these embeddings. LangChain provides integrations with over 50 different vectorstores, from open-source local ones to cloud-hosted proprietary ones, allowing you to choose the one best suited for your needs. LangChain exposes a standard interface, allowing you to easily swap between vector stores.\\n\\nRetrievers Once the data is in the database, you still need to retrieve it. LangChain supports many different retrieval algorithms and is one of the places where we add the most value. LangChain supports basic methods that are easy to get started - namely simple semantic search. However, we have also added a collection of algorithms on top of this to increase performance. These include:\\n\\nParent Document Retriever: This allows you to create multiple embeddings per parent document, allowing you to look up smaller chunks but return larger context. Self Query Retriever: User questions often contain a reference to something that isn't just semantic but rather expresses some logic that can best be represented as a metadata filter. Self-query allows you to parse out the semantic part of a query from other metadata filters present in the query. Ensemble Retriever: Sometimes you may want to retrieve documents from multiple different sources, or using multiple different algorithms. The ensemble retriever allows you to easily do this. And more! Indexing The LangChain Indexing API syncs your data from any source into a vector store, helping you:\\n\\nAvoid writing duplicated content into the vector store Avoid re-writing unchanged content Avoid re-computing embeddings over unchanged content All of which should save you time and money, as well as improve your vector search results.\")"
      ]
     },
     "execution_count": 18,
     "metadata": {},
     "output_type": "execute_result"
    }
   ],
   "source": [
    "docs[1]"
   ]
  },
  {
   "cell_type": "code",
   "execution_count": 20,
   "id": "bf36957b-b218-477d-b86a-cae0b2b3a289",
   "metadata": {},
   "outputs": [
    {
     "name": "stderr",
     "output_type": "stream",
     "text": [
      "100%|██████████████████████████████████████████████████████████████████████████████████████████████| 4/4 [00:00<00:00, 76.79it/s]\n"
     ]
    }
   ],
   "source": [
    "loader = DirectoryLoader('./RAGFiles/', glob=\"**/*.txt\", show_progress=True)\n",
    "docs = loader.load()"
   ]
  },
  {
   "cell_type": "markdown",
   "id": "32c23356-161b-452a-9fc7-9776a4cc8732",
   "metadata": {},
   "source": [
    "#### Loaidng CSV File"
   ]
  },
  {
   "cell_type": "code",
   "execution_count": 23,
   "id": "86dcd7a1-2447-4d4d-ade8-230e8510e25e",
   "metadata": {},
   "outputs": [],
   "source": [
    "from langchain_community.document_loaders.csv_loader import CSVLoader\n",
    "\n",
    "\n",
    "loader = CSVLoader(file_path='./RAGFiles/Movie_collection_dataset.csv')\n",
    "data = loader.load()"
   ]
  },
  {
   "cell_type": "code",
   "execution_count": 24,
   "id": "f7afff35-175c-4fd0-b44e-1bcde50476d4",
   "metadata": {
    "scrolled": true
   },
   "outputs": [
    {
     "name": "stdout",
     "output_type": "stream",
     "text": [
      "[Document(metadata={'source': './RAGFiles/Movie_collection_dataset.csv', 'row': 0}, page_content='Collection: 48000\\nMarketin_expense: 20.1264\\nBudget: 36524.125\\nLead_ Actor_Rating: 7.825\\nLead_Actress_rating: 8.095\\nTrailer_views: 527367\\nGenre: Thriller\\nNum_multiplex: 494\\n3D_available: YES'), Document(metadata={'source': './RAGFiles/Movie_collection_dataset.csv', 'row': 1}, page_content='Collection: 43200\\nMarketin_expense: 20.5462\\nBudget: 35668.655\\nLead_ Actor_Rating: 7.505\\nLead_Actress_rating: 7.65\\nTrailer_views: 494055\\nGenre: Drama\\nNum_multiplex: 462\\n3D_available: NO'), Document(metadata={'source': './RAGFiles/Movie_collection_dataset.csv', 'row': 2}, page_content='Collection: 69400\\nMarketin_expense: 20.5458\\nBudget: 39912.675\\nLead_ Actor_Rating: 7.485\\nLead_Actress_rating: 7.57\\nTrailer_views: 547051\\nGenre: Comedy\\nNum_multiplex: 458\\n3D_available: NO'), Document(metadata={'source': './RAGFiles/Movie_collection_dataset.csv', 'row': 3}, page_content='Collection: 66800\\nMarketin_expense: 20.6474\\nBudget: 38873.89\\nLead_ Actor_Rating: 6.895\\nLead_Actress_rating: 7.035\\nTrailer_views: 516279\\nGenre: Drama\\nNum_multiplex: 472\\n3D_available: YES'), Document(metadata={'source': './RAGFiles/Movie_collection_dataset.csv', 'row': 4}, page_content='Collection: 72400\\nMarketin_expense: 21.381\\nBudget: 39701.585\\nLead_ Actor_Rating: 6.92\\nLead_Actress_rating: 7.07\\nTrailer_views: 531448\\nGenre: Drama\\nNum_multiplex: 395\\n3D_available: NO'), Document(metadata={'source': './RAGFiles/Movie_collection_dataset.csv', 'row': 5}, page_content='Collection: 57400\\nMarketin_expense: 20.597\\nBudget: 35718.65\\nLead_ Actor_Rating: 6.89\\nLead_Actress_rating: 7.1\\nTrailer_views: 498425\\nGenre: Comedy\\nNum_multiplex: 460\\n3D_available: YES'), Document(metadata={'source': './RAGFiles/Movie_collection_dataset.csv', 'row': 6}, page_content='Collection: 45800\\nMarketin_expense: 21.7658\\nBudget: 33396.66\\nLead_ Actor_Rating: 7.065\\nLead_Actress_rating: 7.265\\nTrailer_views: 459241\\nGenre: Thriller\\nNum_multiplex: 522\\n3D_available: YES'), Document(metadata={'source': './RAGFiles/Movie_collection_dataset.csv', 'row': 7}, page_content='Collection: 44200\\nMarketin_expense: 22.891\\nBudget: 34285.46\\nLead_ Actor_Rating: 6.98\\nLead_Actress_rating: 7.075\\nTrailer_views: 400821\\nGenre: Drama\\nNum_multiplex: 571\\n3D_available: NO'), Document(metadata={'source': './RAGFiles/Movie_collection_dataset.csv', 'row': 8}, page_content='Collection: 33000\\nMarketin_expense: 24.2248\\nBudget: 31280.205\\nLead_ Actor_Rating: 6.91\\nLead_Actress_rating: 7.075\\nTrailer_views: 295168\\nGenre: Comedy\\nNum_multiplex: 564\\n3D_available: YES'), Document(metadata={'source': './RAGFiles/Movie_collection_dataset.csv', 'row': 9}, page_content='Collection: 37800\\nMarketin_expense: 23.4008\\nBudget: 33352.22\\nLead_ Actor_Rating: 6.665\\nLead_Actress_rating: 6.725\\nTrailer_views: 412012\\nGenre: Thriller\\nNum_multiplex: 508\\n3D_available: YES'), Document(metadata={'source': './RAGFiles/Movie_collection_dataset.csv', 'row': 10}, page_content='Collection: 30000\\nMarketin_expense: 24.4978\\nBudget: 35424.235\\nLead_ Actor_Rating: 6.675\\nLead_Actress_rating: 6.845\\nTrailer_views: 369595\\nGenre: Drama\\nNum_multiplex: 578\\n3D_available: NO'), Document(metadata={'source': './RAGFiles/Movie_collection_dataset.csv', 'row': 11}, page_content='Collection: 37800\\nMarketin_expense: 22.3494\\nBudget: 33379.995\\nLead_ Actor_Rating: 6.865\\nLead_Actress_rating: 7.035\\nTrailer_views: 451646\\nGenre: Action\\nNum_multiplex: 553\\n3D_available: NO'), Document(metadata={'source': './RAGFiles/Movie_collection_dataset.csv', 'row': 12}, page_content='Collection: 43400\\nMarketin_expense: 21.8756\\nBudget: 32713.395\\nLead_ Actor_Rating: 7.12\\nLead_Actress_rating: 7.43\\nTrailer_views: 407557\\nGenre: Action\\nNum_multiplex: 575\\n3D_available: YES'), Document(metadata={'source': './RAGFiles/Movie_collection_dataset.csv', 'row': 13}, page_content='Collection: 40800\\nMarketin_expense: 32.5952\\nBudget: 33046.695\\nLead_ Actor_Rating: 7.64\\nLead_Actress_rating: 7.705\\nTrailer_views: 472490\\nGenre: Comedy\\nNum_multiplex: 535\\n3D_available: YES'), Document(metadata={'source': './RAGFiles/Movie_collection_dataset.csv', 'row': 14}, page_content='Collection: 36400\\nMarketin_expense: 32.7592\\nBudget: 33863.28\\nLead_ Actor_Rating: 7.7\\nLead_Actress_rating: 7.9\\nTrailer_views: 495311\\nGenre: Comedy\\nNum_multiplex: 599\\n3D_available: NO'), Document(metadata={'source': './RAGFiles/Movie_collection_dataset.csv', 'row': 15}, page_content='Collection: 39800\\nMarketin_expense: 32.5478\\nBudget: 32407.87\\nLead_ Actor_Rating: 7.7\\nLead_Actress_rating: 7.825\\nTrailer_views: 497626\\nGenre: Thriller\\nNum_multiplex: 598\\n3D_available: YES'), Document(metadata={'source': './RAGFiles/Movie_collection_dataset.csv', 'row': 16}, page_content='Collection: 46200\\nMarketin_expense: 41.0786\\nBudget: 32968.925\\nLead_ Actor_Rating: 7.67\\nLead_Actress_rating: 7.805\\nTrailer_views: 532331\\nGenre: Comedy\\nNum_multiplex: 547\\n3D_available: NO'), Document(metadata={'source': './RAGFiles/Movie_collection_dataset.csv', 'row': 17}, page_content='Collection: 35000\\nMarketin_expense: 35.684\\nBudget: 33274.45\\nLead_ Actor_Rating: 7.72\\nLead_Actress_rating: 7.925\\nTrailer_views: 431225\\nGenre: Drama\\nNum_multiplex: 548\\n3D_available: NO'), Document(metadata={'source': './RAGFiles/Movie_collection_dataset.csv', 'row': 18}, page_content='Collection: 40400\\nMarketin_expense: 36.0542\\nBudget: 30308.08\\nLead_ Actor_Rating: 8.1\\nLead_Actress_rating: 8.24\\nTrailer_views: 448317\\nGenre: Action\\nNum_multiplex: 543\\n3D_available: YES'), Document(metadata={'source': './RAGFiles/Movie_collection_dataset.csv', 'row': 19}, page_content='Collection: 36400\\nMarketin_expense: 34.516\\nBudget: 31813.485\\nLead_ Actor_Rating: 8.01\\nLead_Actress_rating: 8.175\\nTrailer_views: 463328\\nGenre: Action\\nNum_multiplex: 578\\n3D_available: NO'), Document(metadata={'source': './RAGFiles/Movie_collection_dataset.csv', 'row': 20}, page_content='Collection: 27200\\nMarketin_expense: 45.0358\\nBudget: 30941.35\\nLead_ Actor_Rating: 8.035\\nLead_Actress_rating: 8.205\\nTrailer_views: 371051\\nGenre: Action\\nNum_multiplex: 484\\n3D_available: YES'), Document(metadata={'source': './RAGFiles/Movie_collection_dataset.csv', 'row': 21}, page_content='Collection: 39200\\nMarketin_expense: 37.0408\\nBudget: 33135.575\\nLead_ Actor_Rating: 7.945\\nLead_Actress_rating: 8.14\\nTrailer_views: 457361\\nGenre: Comedy\\nNum_multiplex: 541\\n3D_available: YES'), Document(metadata={'source': './RAGFiles/Movie_collection_dataset.csv', 'row': 22}, page_content='Collection: 30400\\nMarketin_expense: 44.6494\\nBudget: 34118.81\\nLead_ Actor_Rating: 7.91\\nLead_Actress_rating: 8.01\\nTrailer_views: 387496\\nGenre: Thriller\\nNum_multiplex: 575\\n3D_available: YES'), Document(metadata={'source': './RAGFiles/Movie_collection_dataset.csv', 'row': 23}, page_content='Collection: 29000\\nMarketin_expense: 39.7686\\nBudget: 32291.215\\nLead_ Actor_Rating: 7.825\\nLead_Actress_rating: 8.01\\nTrailer_views: 365213\\nGenre: Drama\\nNum_multiplex: 527\\n3D_available: YES'), Document(metadata={'source': './RAGFiles/Movie_collection_dataset.csv', 'row': 24}, page_content='Collection: 31200\\nMarketin_expense: 35.0052\\nBudget: 32907.82\\nLead_ Actor_Rating: 7.655\\nLead_Actress_rating: 7.965\\nTrailer_views: 414145\\nGenre: Drama\\nNum_multiplex: 502\\n3D_available: YES'), Document(metadata={'source': './RAGFiles/Movie_collection_dataset.csv', 'row': 25}, page_content='Collection: 27800\\nMarketin_expense: 36.8108\\nBudget: 31102.445\\nLead_ Actor_Rating: 7.655\\nLead_Actress_rating: 7.835\\nTrailer_views: 422375\\nGenre: Thriller\\nNum_multiplex: 516\\n3D_available: YES'), Document(metadata={'source': './RAGFiles/Movie_collection_dataset.csv', 'row': 26}, page_content='Collection: 33200\\nMarketin_expense: 33.4382\\nBudget: 32291.215\\nLead_ Actor_Rating: 7.53\\nLead_Actress_rating: 7.705\\nTrailer_views: 436807\\nGenre: Drama\\nNum_multiplex: 476\\n3D_available: NO'), Document(metadata={'source': './RAGFiles/Movie_collection_dataset.csv', 'row': 27}, page_content='Collection: 29600\\nMarketin_expense: 39.1154\\nBudget: 33591.085\\nLead_ Actor_Rating: 7.75\\nLead_Actress_rating: 7.8\\nTrailer_views: 406866\\nGenre: Drama\\nNum_multiplex: 488\\n3D_available: YES'), Document(metadata={'source': './RAGFiles/Movie_collection_dataset.csv', 'row': 28}, page_content='Collection: 36800\\nMarketin_expense: 35.4598\\nBudget: 36079.725\\nLead_ Actor_Rating: 7.715\\nLead_Actress_rating: 7.825\\nTrailer_views: 455480\\nGenre: Thriller\\nNum_multiplex: 544\\n3D_available: YES'), Document(metadata={'source': './RAGFiles/Movie_collection_dataset.csv', 'row': 29}, page_content='Collection: 42000\\nMarketin_expense: 40.049\\nBudget: 37074.07\\nLead_ Actor_Rating: 7.735\\nLead_Actress_rating: 8.03\\nTrailer_views: 466851\\nGenre: Thriller\\nNum_multiplex: 488\\n3D_available: NO'), Document(metadata={'source': './RAGFiles/Movie_collection_dataset.csv', 'row': 30}, page_content='Collection: 25400\\nMarketin_expense: 42.6162\\nBudget: 31735.715\\nLead_ Actor_Rating: 7.74\\nLead_Actress_rating: 7.91\\nTrailer_views: 350102\\nGenre: Drama\\nNum_multiplex: 586\\n3D_available: NO'), Document(metadata={'source': './RAGFiles/Movie_collection_dataset.csv', 'row': 31}, page_content='Collection: 29000\\nMarketin_expense: 47.0944\\nBudget: 33729.96\\nLead_ Actor_Rating: 7.805\\nLead_Actress_rating: 7.97\\nTrailer_views: 436306\\nGenre: Comedy\\nNum_multiplex: 523\\n3D_available: YES'), Document(metadata={'source': './RAGFiles/Movie_collection_dataset.csv', 'row': 32}, page_content='Collection: 26400\\nMarketin_expense: 47.7598\\nBudget: 33052.25\\nLead_ Actor_Rating: 7.995\\nLead_Actress_rating: 8.07\\nTrailer_views: 299587\\nGenre: Thriller\\nNum_multiplex: 533\\n3D_available: NO'), Document(metadata={'source': './RAGFiles/Movie_collection_dataset.csv', 'row': 33}, page_content='Collection: 26200\\nMarketin_expense: 43.0344\\nBudget: 31669.055\\nLead_ Actor_Rating: 8.1\\nLead_Actress_rating: 8.165\\nTrailer_views: 394967\\nGenre: Comedy\\nNum_multiplex: 571\\n3D_available: YES'), Document(metadata={'source': './RAGFiles/Movie_collection_dataset.csv', 'row': 34}, page_content='Collection: 27000\\nMarketin_expense: 52.2564\\nBudget: 33863.28\\nLead_ Actor_Rating: 7.965\\nLead_Actress_rating: 8.17\\nTrailer_views: 377048\\nGenre: Comedy\\nNum_multiplex: 497\\n3D_available: YES'), Document(metadata={'source': './RAGFiles/Movie_collection_dataset.csv', 'row': 35}, page_content='Collection: 37800\\nMarketin_expense: 21.2834\\nBudget: 32957.815\\nLead_ Actor_Rating: 8.155\\nLead_Actress_rating: 8.365\\nTrailer_views: 475977\\nGenre: Thriller\\nNum_multiplex: 530\\n3D_available: YES'), Document(metadata={'source': './RAGFiles/Movie_collection_dataset.csv', 'row': 36}, page_content='Collection: 40000\\nMarketin_expense: 21.9488\\nBudget: 32446.755\\nLead_ Actor_Rating: 8.305\\nLead_Actress_rating: 8.36\\nTrailer_views: 474433\\nGenre: Comedy\\nNum_multiplex: 454\\n3D_available: NO'), Document(metadata={'source': './RAGFiles/Movie_collection_dataset.csv', 'row': 37}, page_content='Collection: 42000\\nMarketin_expense: 21.6028\\nBudget: 32496.75\\nLead_ Actor_Rating: 8.01\\nLead_Actress_rating: 8.125\\nTrailer_views: 482433\\nGenre: Thriller\\nNum_multiplex: 510\\n3D_available: YES'), Document(metadata={'source': './RAGFiles/Movie_collection_dataset.csv', 'row': 38}, page_content='Collection: 48400\\nMarketin_expense: 23.501\\nBudget: 33141.13\\nLead_ Actor_Rating: 7.925\\nLead_Actress_rating: 8.17\\nTrailer_views: 498052\\nGenre: Thriller\\nNum_multiplex: 484\\n3D_available: YES'), Document(metadata={'source': './RAGFiles/Movie_collection_dataset.csv', 'row': 39}, page_content='Collection: 61600\\nMarketin_expense: 20.5526\\nBudget: 36635.225\\nLead_ Actor_Rating: 7.175\\nLead_Actress_rating: 7.325\\nTrailer_views: 553070\\nGenre: Thriller\\nNum_multiplex: 451\\n3D_available: YES'), Document(metadata={'source': './RAGFiles/Movie_collection_dataset.csv', 'row': 40}, page_content='Collection: 69800\\nMarketin_expense: 20.6718\\nBudget: 39018.32\\nLead_ Actor_Rating: 7.185\\nLead_Actress_rating: 7.345\\nTrailer_views: 567784\\nGenre: Thriller\\nNum_multiplex: 428\\n3D_available: YES'), Document(metadata={'source': './RAGFiles/Movie_collection_dataset.csv', 'row': 41}, page_content='Collection: 53200\\nMarketin_expense: 22.5488\\nBudget: 37607.35\\nLead_ Actor_Rating: 7.115\\nLead_Actress_rating: 7.14\\nTrailer_views: 512492\\nGenre: Action\\nNum_multiplex: 495\\n3D_available: NO'), Document(metadata={'source': './RAGFiles/Movie_collection_dataset.csv', 'row': 42}, page_content='Collection: 50600\\nMarketin_expense: 22.83\\nBudget: 34268.795\\nLead_ Actor_Rating: 7.035\\nLead_Actress_rating: 7.27\\nTrailer_views: 526836\\nGenre: Thriller\\nNum_multiplex: 419\\n3D_available: NO'), Document(metadata={'source': './RAGFiles/Movie_collection_dataset.csv', 'row': 43}, page_content='Collection: 49400\\nMarketin_expense: 23.1872\\nBudget: 34502.105\\nLead_ Actor_Rating: 6.98\\nLead_Actress_rating: 7.17\\nTrailer_views: 473146\\nGenre: Thriller\\nNum_multiplex: 449\\n3D_available: YES'), Document(metadata={'source': './RAGFiles/Movie_collection_dataset.csv', 'row': 44}, page_content='Collection: 42400\\nMarketin_expense: 22.4538\\nBudget: 33713.295\\nLead_ Actor_Rating: 7.095\\nLead_Actress_rating: 7.245\\nTrailer_views: 471960\\nGenre: Thriller\\nNum_multiplex: 400\\n3D_available: NO'), Document(metadata={'source': './RAGFiles/Movie_collection_dataset.csv', 'row': 45}, page_content='Collection: 38600\\nMarketin_expense: 23.4284\\nBudget: 31563.51\\nLead_ Actor_Rating: 7.385\\nLead_Actress_rating: 7.525\\nTrailer_views: 470466\\nGenre: Thriller\\nNum_multiplex: 445\\n3D_available: NO'), Document(metadata={'source': './RAGFiles/Movie_collection_dataset.csv', 'row': 46}, page_content='Collection: 40000\\nMarketin_expense: 23.7672\\nBudget: 32141.23\\nLead_ Actor_Rating: 7.375\\nLead_Actress_rating: 7.5\\nTrailer_views: 445250\\nGenre: Drama\\nNum_multiplex: 455\\n3D_available: YES'), Document(metadata={'source': './RAGFiles/Movie_collection_dataset.csv', 'row': 47}, page_content='Collection: 33200\\nMarketin_expense: 24.5854\\nBudget: 33496.65\\nLead_ Actor_Rating: 7.085\\nLead_Actress_rating: 7.18\\nTrailer_views: 374797\\nGenre: Thriller\\nNum_multiplex: 526\\n3D_available: YES'), Document(metadata={'source': './RAGFiles/Movie_collection_dataset.csv', 'row': 48}, page_content='Collection: 28800\\nMarketin_expense: 25.0774\\nBudget: 29991.445\\nLead_ Actor_Rating: 7.01\\nLead_Actress_rating: 7.16\\nTrailer_views: 264112\\nGenre: Comedy\\nNum_multiplex: 427\\n3D_available: NO'), Document(metadata={'source': './RAGFiles/Movie_collection_dataset.csv', 'row': 49}, page_content='Collection: 38800\\nMarketin_expense: 24.3954\\nBudget: 31119.11\\nLead_ Actor_Rating: 6.945\\nLead_Actress_rating: 7.05\\nTrailer_views: 422013\\nGenre: Action\\nNum_multiplex: 507\\n3D_available: NO'), Document(metadata={'source': './RAGFiles/Movie_collection_dataset.csv', 'row': 50}, page_content='Collection: 39400\\nMarketin_expense: 21.7746\\nBudget: 33124.465\\nLead_ Actor_Rating: 6.46\\nLead_Actress_rating: 6.725\\nTrailer_views: 442225\\nGenre: Thriller\\nNum_multiplex: 404\\n3D_available: YES'), Document(metadata={'source': './RAGFiles/Movie_collection_dataset.csv', 'row': 51}, page_content='Collection: 41000\\nMarketin_expense: 20.8674\\nBudget: 33968.825\\nLead_ Actor_Rating: 6.48\\nLead_Actress_rating: 6.63\\nTrailer_views: 502413\\nGenre: Drama\\nNum_multiplex: 473\\n3D_available: YES'), Document(metadata={'source': './RAGFiles/Movie_collection_dataset.csv', 'row': 52}, page_content='Collection: 50000\\nMarketin_expense: 21.072\\nBudget: 36168.605\\nLead_ Actor_Rating: 6.49\\nLead_Actress_rating: 6.62\\nTrailer_views: 504792\\nGenre: Thriller\\nNum_multiplex: 462\\n3D_available: NO'), Document(metadata={'source': './RAGFiles/Movie_collection_dataset.csv', 'row': 53}, page_content='Collection: 46800\\nMarketin_expense: 20.9962\\nBudget: 33318.89\\nLead_ Actor_Rating: 6.555\\nLead_Actress_rating: 6.74\\nTrailer_views: 496877\\nGenre: Thriller\\nNum_multiplex: 416\\n3D_available: NO'), Document(metadata={'source': './RAGFiles/Movie_collection_dataset.csv', 'row': 54}, page_content='Collection: 37800\\nMarketin_expense: 20.272\\nBudget: 32707.84\\nLead_ Actor_Rating: 6.3\\nLead_Actress_rating: 6.365\\nTrailer_views: 410055\\nGenre: Comedy\\nNum_multiplex: 387\\n3D_available: YES'), Document(metadata={'source': './RAGFiles/Movie_collection_dataset.csv', 'row': 55}, page_content='Collection: 70800\\nMarketin_expense: 20.2622\\nBudget: 40268.195\\nLead_ Actor_Rating: 5.55\\nLead_Actress_rating: 5.795\\nTrailer_views: 512329\\nGenre: Thriller\\nNum_multiplex: 480\\n3D_available: YES'), Document(metadata={'source': './RAGFiles/Movie_collection_dataset.csv', 'row': 56}, page_content='Collection: 49400\\nMarketin_expense: 20.411\\nBudget: 35457.565\\nLead_ Actor_Rating: 5.34\\nLead_Actress_rating: 5.535\\nTrailer_views: 539589\\nGenre: Drama\\nNum_multiplex: 383\\n3D_available: YES'), Document(metadata={'source': './RAGFiles/Movie_collection_dataset.csv', 'row': 57}, page_content='Collection: 63200\\nMarketin_expense: 20.2864\\nBudget: 37862.88\\nLead_ Actor_Rating: 5.685\\nLead_Actress_rating: 5.86\\nTrailer_views: 512129\\nGenre: Drama\\nNum_multiplex: 426\\n3D_available: YES'), Document(metadata={'source': './RAGFiles/Movie_collection_dataset.csv', 'row': 58}, page_content='Collection: 46600\\nMarketin_expense: 23.089\\nBudget: 34135.475\\nLead_ Actor_Rating: 6.01\\nLead_Actress_rating: 6.115\\nTrailer_views: 480067\\nGenre: Comedy\\nNum_multiplex: 438\\n3D_available: NO'), Document(metadata={'source': './RAGFiles/Movie_collection_dataset.csv', 'row': 59}, page_content='Collection: 39200\\nMarketin_expense: 22.0656\\nBudget: 32924.485\\nLead_ Actor_Rating: 6.37\\nLead_Actress_rating: 6.66\\nTrailer_views: 467075\\nGenre: Comedy\\nNum_multiplex: 460\\n3D_available: YES'), Document(metadata={'source': './RAGFiles/Movie_collection_dataset.csv', 'row': 60}, page_content='Collection: 37400\\nMarketin_expense: 22.9864\\nBudget: 31891.255\\nLead_ Actor_Rating: 6.335\\nLead_Actress_rating: 6.42\\nTrailer_views: 465689\\nGenre: Thriller\\nNum_multiplex: 439\\n3D_available: NO'), Document(metadata={'source': './RAGFiles/Movie_collection_dataset.csv', 'row': 61}, page_content='Collection: 32000\\nMarketin_expense: 23.4342\\nBudget: 33141.13\\nLead_ Actor_Rating: 6.58\\nLead_Actress_rating: 6.665\\nTrailer_views: 430178\\nGenre: Thriller\\nNum_multiplex: 387\\n3D_available: NO'), Document(metadata={'source': './RAGFiles/Movie_collection_dataset.csv', 'row': 62}, page_content='Collection: 44400\\nMarketin_expense: 22.2054\\nBudget: 35863.08\\nLead_ Actor_Rating: 6.225\\nLead_Actress_rating: 6.46\\nTrailer_views: 525189\\nGenre: Comedy\\nNum_multiplex: 434\\n3D_available: YES'), Document(metadata={'source': './RAGFiles/Movie_collection_dataset.csv', 'row': 63}, page_content='Collection: 50000\\nMarketin_expense: 22.53\\nBudget: 37562.91\\nLead_ Actor_Rating: 5.885\\nLead_Actress_rating: 6.155\\nTrailer_views: 469499\\nGenre: Action\\nNum_multiplex: 470\\n3D_available: YES'), Document(metadata={'source': './RAGFiles/Movie_collection_dataset.csv', 'row': 64}, page_content='Collection: 66000\\nMarketin_expense: 20.3902\\nBudget: 39462.72\\nLead_ Actor_Rating: 5.28\\nLead_Actress_rating: 5.455\\nTrailer_views: 477265\\nGenre: Action\\nNum_multiplex: 390\\n3D_available: YES'), Document(metadata={'source': './RAGFiles/Movie_collection_dataset.csv', 'row': 65}, page_content='Collection: 47000\\nMarketin_expense: 20.7168\\nBudget: 34940.95\\nLead_ Actor_Rating: 6.69\\nLead_Actress_rating: 6.785\\nTrailer_views: 545499\\nGenre: Thriller\\nNum_multiplex: 375\\n3D_available: NO'), Document(metadata={'source': './RAGFiles/Movie_collection_dataset.csv', 'row': 66}, page_content='Collection: 38800\\nMarketin_expense: 20.8758\\nBudget: 32146.785\\nLead_ Actor_Rating: 6.65\\nLead_Actress_rating: 6.78\\nTrailer_views: 465605\\nGenre: Action\\nNum_multiplex: 479\\n3D_available: NO'), Document(metadata={'source': './RAGFiles/Movie_collection_dataset.csv', 'row': 67}, page_content='Collection: 44000\\nMarketin_expense: 21.1578\\nBudget: 32652.29\\nLead_ Actor_Rating: 6.68\\nLead_Actress_rating: 6.8\\nTrailer_views: 493569\\nGenre: Thriller\\nNum_multiplex: 406\\n3D_available: YES'), Document(metadata={'source': './RAGFiles/Movie_collection_dataset.csv', 'row': 68}, page_content='Collection: 34800\\nMarketin_expense: 22.7108\\nBudget: 31074.67\\nLead_ Actor_Rating: 6.745\\nLead_Actress_rating: 6.915\\nTrailer_views: 461313\\nGenre: Thriller\\nNum_multiplex: 485\\n3D_available: NO'), Document(metadata={'source': './RAGFiles/Movie_collection_dataset.csv', 'row': 69}, page_content='Collection: 41800\\nMarketin_expense: 22.5632\\nBudget: 32691.175\\nLead_ Actor_Rating: 6.725\\nLead_Actress_rating: 6.805\\nTrailer_views: 499656\\nGenre: Drama\\nNum_multiplex: 384\\n3D_available: NO'), Document(metadata={'source': './RAGFiles/Movie_collection_dataset.csv', 'row': 70}, page_content='Collection: 48400\\nMarketin_expense: 21.7652\\nBudget: 35646.435\\nLead_ Actor_Rating: 7.24\\nLead_Actress_rating: 7.465\\nTrailer_views: 501152\\nGenre: Thriller\\nNum_multiplex: 410\\n3D_available: YES'), Document(metadata={'source': './RAGFiles/Movie_collection_dataset.csv', 'row': 71}, page_content='Collection: 43400\\nMarketin_expense: 23.1752\\nBudget: 33113.355\\nLead_ Actor_Rating: 7.28\\nLead_Actress_rating: 7.4\\nTrailer_views: 491978\\nGenre: Action\\nNum_multiplex: 400\\n3D_available: NO'), Document(metadata={'source': './RAGFiles/Movie_collection_dataset.csv', 'row': 72}, page_content='Collection: 45600\\nMarketin_expense: 21.8328\\nBudget: 33691.075\\nLead_ Actor_Rating: 7.27\\nLead_Actress_rating: 7.52\\nTrailer_views: 500290\\nGenre: Thriller\\nNum_multiplex: 361\\n3D_available: NO'), Document(metadata={'source': './RAGFiles/Movie_collection_dataset.csv', 'row': 73}, page_content='Collection: 46800\\nMarketin_expense: 23.9078\\nBudget: 34690.975\\nLead_ Actor_Rating: 7.32\\nLead_Actress_rating: 7.385\\nTrailer_views: 493124\\nGenre: Drama\\nNum_multiplex: 434\\n3D_available: YES'), Document(metadata={'source': './RAGFiles/Movie_collection_dataset.csv', 'row': 74}, page_content='Collection: 48200\\nMarketin_expense: 21.5792\\nBudget: 34846.515\\nLead_ Actor_Rating: 7.73\\nLead_Actress_rating: 8.025\\nTrailer_views: 488560\\nGenre: Thriller\\nNum_multiplex: 389\\n3D_available: NO'), Document(metadata={'source': './RAGFiles/Movie_collection_dataset.csv', 'row': 75}, page_content='Collection: 42800\\nMarketin_expense: 21.9024\\nBudget: 34918.73\\nLead_ Actor_Rating: 7.585\\nLead_Actress_rating: 7.75\\nTrailer_views: 496661\\nGenre: Comedy\\nNum_multiplex: 382\\n3D_available: NO'), Document(metadata={'source': './RAGFiles/Movie_collection_dataset.csv', 'row': 76}, page_content='Collection: 40000\\nMarketin_expense: 22.0306\\nBudget: 34879.845\\nLead_ Actor_Rating: 7.835\\nLead_Actress_rating: 8.14\\nTrailer_views: 478283\\nGenre: Comedy\\nNum_multiplex: 453\\n3D_available: NO'), Document(metadata={'source': './RAGFiles/Movie_collection_dataset.csv', 'row': 77}, page_content='Collection: 41600\\nMarketin_expense: 21.7414\\nBudget: 34107.7\\nLead_ Actor_Rating: 7.84\\nLead_Actress_rating: 7.97\\nTrailer_views: 490040\\nGenre: Thriller\\nNum_multiplex: 419\\n3D_available: YES'), Document(metadata={'source': './RAGFiles/Movie_collection_dataset.csv', 'row': 78}, page_content='Collection: 42400\\nMarketin_expense: 21.1292\\nBudget: 34618.76\\nLead_ Actor_Rating: 7.33\\nLead_Actress_rating: 7.5\\nTrailer_views: 447528\\nGenre: Drama\\nNum_multiplex: 377\\n3D_available: YES'), Document(metadata={'source': './RAGFiles/Movie_collection_dataset.csv', 'row': 79}, page_content='Collection: 40600\\nMarketin_expense: 21.6774\\nBudget: 32630.07\\nLead_ Actor_Rating: 7.735\\nLead_Actress_rating: 7.885\\nTrailer_views: 467670\\nGenre: Action\\nNum_multiplex: 472\\n3D_available: NO'), Document(metadata={'source': './RAGFiles/Movie_collection_dataset.csv', 'row': 80}, page_content='Collection: 56000\\nMarketin_expense: 20.8226\\nBudget: 37368.485\\nLead_ Actor_Rating: 7.25\\nLead_Actress_rating: 7.36\\nTrailer_views: 499995\\nGenre: Drama\\nNum_multiplex: 374\\n3D_available: YES'), Document(metadata={'source': './RAGFiles/Movie_collection_dataset.csv', 'row': 81}, page_content='Collection: 47800\\nMarketin_expense: 20.8924\\nBudget: 36768.545\\nLead_ Actor_Rating: 7.145\\nLead_Actress_rating: 7.445\\nTrailer_views: 510436\\nGenre: Drama\\nNum_multiplex: 501\\n3D_available: YES'), Document(metadata={'source': './RAGFiles/Movie_collection_dataset.csv', 'row': 82}, page_content='Collection: 49600\\nMarketin_expense: 20.7318\\nBudget: 35007.61\\nLead_ Actor_Rating: 7.235\\nLead_Actress_rating: 7.405\\nTrailer_views: 492574\\nGenre: Thriller\\nNum_multiplex: 469\\n3D_available: NO'), Document(metadata={'source': './RAGFiles/Movie_collection_dataset.csv', 'row': 83}, page_content='Collection: 45800\\nMarketin_expense: 20.7102\\nBudget: 34257.685\\nLead_ Actor_Rating: 7.24\\nLead_Actress_rating: 7.41\\nTrailer_views: 485743\\nGenre: Drama\\nNum_multiplex: 405\\n3D_available: YES'), Document(metadata={'source': './RAGFiles/Movie_collection_dataset.csv', 'row': 84}, page_content='Collection: 47800\\nMarketin_expense: 21.0118\\nBudget: 35490.895\\nLead_ Actor_Rating: 7.515\\nLead_Actress_rating: 7.645\\nTrailer_views: 454277\\nGenre: Drama\\nNum_multiplex: 422\\n3D_available: NO'), Document(metadata={'source': './RAGFiles/Movie_collection_dataset.csv', 'row': 85}, page_content='Collection: 53200\\nMarketin_expense: 21.147\\nBudget: 36829.65\\nLead_ Actor_Rating: 7.625\\nLead_Actress_rating: 7.925\\nTrailer_views: 495454\\nGenre: Thriller\\nNum_multiplex: 521\\n3D_available: NO'), Document(metadata={'source': './RAGFiles/Movie_collection_dataset.csv', 'row': 86}, page_content='Collection: 45000\\nMarketin_expense: 21.0376\\nBudget: 33413.325\\nLead_ Actor_Rating: 7.69\\nLead_Actress_rating: 7.92\\nTrailer_views: 436753\\nGenre: Thriller\\nNum_multiplex: 472\\n3D_available: YES'), Document(metadata={'source': './RAGFiles/Movie_collection_dataset.csv', 'row': 87}, page_content='Collection: 44400\\nMarketin_expense: 21.4302\\nBudget: 34002.155\\nLead_ Actor_Rating: 8.035\\nLead_Actress_rating: 8.13\\nTrailer_views: 489563\\nGenre: Comedy\\nNum_multiplex: 510\\n3D_available: YES'), Document(metadata={'source': './RAGFiles/Movie_collection_dataset.csv', 'row': 88}, page_content='Collection: 47200\\nMarketin_expense: 21.132\\nBudget: 38923.885\\nLead_ Actor_Rating: 8.25\\nLead_Actress_rating: 8.455\\nTrailer_views: 509357\\nGenre: Thriller\\nNum_multiplex: 456\\n3D_available: NO'), Document(metadata={'source': './RAGFiles/Movie_collection_dataset.csv', 'row': 89}, page_content='Collection: 57400\\nMarketin_expense: 21.0604\\nBudget: 39323.845\\nLead_ Actor_Rating: 8.17\\nLead_Actress_rating: 8.31\\nTrailer_views: 515362\\nGenre: Comedy\\nNum_multiplex: 478\\n3D_available: YES'), Document(metadata={'source': './RAGFiles/Movie_collection_dataset.csv', 'row': 90}, page_content='Collection: 45200\\nMarketin_expense: 20.9368\\nBudget: 35646.435\\nLead_ Actor_Rating: 8.43\\nLead_Actress_rating: 8.535\\nTrailer_views: 503147\\nGenre: Drama\\nNum_multiplex: 424\\n3D_available: YES'), Document(metadata={'source': './RAGFiles/Movie_collection_dataset.csv', 'row': 91}, page_content='Collection: 44000\\nMarketin_expense: 20.7864\\nBudget: 35579.775\\nLead_ Actor_Rating: 8.42\\nLead_Actress_rating: 8.525\\nTrailer_views: 496193\\nGenre: Thriller\\nNum_multiplex: 451\\n3D_available: NO'), Document(metadata={'source': './RAGFiles/Movie_collection_dataset.csv', 'row': 92}, page_content='Collection: 45800\\nMarketin_expense: 20.8406\\nBudget: 35785.31\\nLead_ Actor_Rating: 8.02\\nLead_Actress_rating: 8.295\\nTrailer_views: 489837\\nGenre: Drama\\nNum_multiplex: 518\\n3D_available: NO'), Document(metadata={'source': './RAGFiles/Movie_collection_dataset.csv', 'row': 93}, page_content='Collection: 50000\\nMarketin_expense: 20.575\\nBudget: 34502.105\\nLead_ Actor_Rating: 8.04\\nLead_Actress_rating: 8.225\\nTrailer_views: 508101\\nGenre: Action\\nNum_multiplex: 492\\n3D_available: NO'), Document(metadata={'source': './RAGFiles/Movie_collection_dataset.csv', 'row': 94}, page_content='Collection: 41200\\nMarketin_expense: 20.8588\\nBudget: 34713.195\\nLead_ Actor_Rating: 8.095\\nLead_Actress_rating: 8.33\\nTrailer_views: 468556\\nGenre: Action\\nNum_multiplex: 465\\n3D_available: NO'), Document(metadata={'source': './RAGFiles/Movie_collection_dataset.csv', 'row': 95}, page_content='Collection: 56800\\nMarketin_expense: 22.4408\\nBudget: 36801.875\\nLead_ Actor_Rating: 8.215\\nLead_Actress_rating: 8.385\\nTrailer_views: 489220\\nGenre: Thriller\\nNum_multiplex: 467\\n3D_available: NO'), Document(metadata={'source': './RAGFiles/Movie_collection_dataset.csv', 'row': 96}, page_content='Collection: 42800\\nMarketin_expense: 22.3008\\nBudget: 34235.465\\nLead_ Actor_Rating: 8.21\\nLead_Actress_rating: 8.325\\nTrailer_views: 467769\\nGenre: Thriller\\nNum_multiplex: 463\\n3D_available: NO'), Document(metadata={'source': './RAGFiles/Movie_collection_dataset.csv', 'row': 97}, page_content='Collection: 77400\\nMarketin_expense: 22.4166\\nBudget: 44823.295\\nLead_ Actor_Rating: 8.15\\nLead_Actress_rating: 8.34\\nTrailer_views: 543618\\nGenre: Thriller\\nNum_multiplex: 413\\n3D_available: YES'), Document(metadata={'source': './RAGFiles/Movie_collection_dataset.csv', 'row': 98}, page_content='Collection: 87600\\nMarketin_expense: 21.6374\\nBudget: 43440.1\\nLead_ Actor_Rating: 8.23\\nLead_Actress_rating: 8.29\\nTrailer_views: 544945\\nGenre: Action\\nNum_multiplex: 512\\n3D_available: YES'), Document(metadata={'source': './RAGFiles/Movie_collection_dataset.csv', 'row': 99}, page_content='Collection: 66400\\nMarketin_expense: 21.372\\nBudget: 41195.88\\nLead_ Actor_Rating: 8.085\\nLead_Actress_rating: 8.32\\nTrailer_views: 484613\\nGenre: Thriller\\nNum_multiplex: 510\\n3D_available: NO'), Document(metadata={'source': './RAGFiles/Movie_collection_dataset.csv', 'row': 100}, page_content='Collection: 55000\\nMarketin_expense: 22.9732\\nBudget: 37368.485\\nLead_ Actor_Rating: 8.45\\nLead_Actress_rating: 8.66\\nTrailer_views: 471052\\nGenre: Drama\\nNum_multiplex: 470\\n3D_available: YES'), Document(metadata={'source': './RAGFiles/Movie_collection_dataset.csv', 'row': 101}, page_content='Collection: 53000\\nMarketin_expense: 22.2864\\nBudget: 37668.455\\nLead_ Actor_Rating: 8.425\\nLead_Actress_rating: 8.63\\nTrailer_views: 491484\\nGenre: Thriller\\nNum_multiplex: 445\\n3D_available: YES'), Document(metadata={'source': './RAGFiles/Movie_collection_dataset.csv', 'row': 102}, page_content='Collection: 37200\\nMarketin_expense: 24.5752\\nBudget: 35579.775\\nLead_ Actor_Rating: 8.485\\nLead_Actress_rating: 8.725\\nTrailer_views: 457364\\nGenre: Action\\nNum_multiplex: 544\\n3D_available: NO'), Document(metadata={'source': './RAGFiles/Movie_collection_dataset.csv', 'row': 103}, page_content='Collection: 38600\\nMarketin_expense: 24.2322\\nBudget: 34091.035\\nLead_ Actor_Rating: 8.515\\nLead_Actress_rating: 8.79\\nTrailer_views: 443252\\nGenre: Comedy\\nNum_multiplex: 555\\n3D_available: YES'), Document(metadata={'source': './RAGFiles/Movie_collection_dataset.csv', 'row': 104}, page_content='Collection: 40200\\nMarketin_expense: 22.792\\nBudget: 34257.685\\nLead_ Actor_Rating: 8.685\\nLead_Actress_rating: 8.875\\nTrailer_views: 432081\\nGenre: Comedy\\nNum_multiplex: 458\\n3D_available: YES'), Document(metadata={'source': './RAGFiles/Movie_collection_dataset.csv', 'row': 105}, page_content='Collection: 39000\\nMarketin_expense: 22.6524\\nBudget: 32502.305\\nLead_ Actor_Rating: 8.905\\nLead_Actress_rating: 9.025\\nTrailer_views: 430817\\nGenre: Comedy\\nNum_multiplex: 515\\n3D_available: YES'), Document(metadata={'source': './RAGFiles/Movie_collection_dataset.csv', 'row': 106}, page_content='Collection: 39000\\nMarketin_expense: 23.424\\nBudget: 32418.98\\nLead_ Actor_Rating: 8.815\\nLead_Actress_rating: 8.965\\nTrailer_views: 405008\\nGenre: Drama\\nNum_multiplex: 482\\n3D_available: YES'), Document(metadata={'source': './RAGFiles/Movie_collection_dataset.csv', 'row': 107}, page_content='Collection: 40800\\nMarketin_expense: 22.6234\\nBudget: 34035.485\\nLead_ Actor_Rating: 8.825\\nLead_Actress_rating: 9.025\\nTrailer_views: 442160\\nGenre: Action\\nNum_multiplex: 517\\n3D_available: YES'), Document(metadata={'source': './RAGFiles/Movie_collection_dataset.csv', 'row': 108}, page_content='Collection: 39600\\nMarketin_expense: 22.5604\\nBudget: 35963.07\\nLead_ Actor_Rating: 8.64\\nLead_Actress_rating: 8.91\\nTrailer_views: 473768\\nGenre: Action\\nNum_multiplex: 502\\n3D_available: NO'), Document(metadata={'source': './RAGFiles/Movie_collection_dataset.csv', 'row': 109}, page_content='Collection: 38800\\nMarketin_expense: 25.2726\\nBudget: 34602.095\\nLead_ Actor_Rating: 8.715\\nLead_Actress_rating: 8.86\\nTrailer_views: 437611\\nGenre: Comedy\\nNum_multiplex: 555\\n3D_available: YES'), Document(metadata={'source': './RAGFiles/Movie_collection_dataset.csv', 'row': 110}, page_content='Collection: 43400\\nMarketin_expense: 22.1586\\nBudget: 34413.225\\nLead_ Actor_Rating: 8.475\\nLead_Actress_rating: 8.7\\nTrailer_views: 423752\\nGenre: Comedy\\nNum_multiplex: 453\\n3D_available: YES'), Document(metadata={'source': './RAGFiles/Movie_collection_dataset.csv', 'row': 111}, page_content='Collection: 45600\\nMarketin_expense: 22.0168\\nBudget: 37301.825\\nLead_ Actor_Rating: 8.595\\nLead_Actress_rating: 8.685\\nTrailer_views: 495560\\nGenre: Thriller\\nNum_multiplex: 544\\n3D_available: YES'), Document(metadata={'source': './RAGFiles/Movie_collection_dataset.csv', 'row': 112}, page_content='Collection: 37600\\nMarketin_expense: 22.4658\\nBudget: 32846.715\\nLead_ Actor_Rating: 8.725\\nLead_Actress_rating: 8.885\\nTrailer_views: 394329\\nGenre: Thriller\\nNum_multiplex: 577\\n3D_available: YES'), Document(metadata={'source': './RAGFiles/Movie_collection_dataset.csv', 'row': 113}, page_content='Collection: 37400\\nMarketin_expense: 24.4424\\nBudget: 33841.06\\nLead_ Actor_Rating: 8.705\\nLead_Actress_rating: 8.875\\nTrailer_views: 405200\\nGenre: Thriller\\nNum_multiplex: 604\\n3D_available: YES'), Document(metadata={'source': './RAGFiles/Movie_collection_dataset.csv', 'row': 114}, page_content='Collection: 37000\\nMarketin_expense: 22.8462\\nBudget: 34740.97\\nLead_ Actor_Rating: 8.73\\nLead_Actress_rating: 8.93\\nTrailer_views: 446050\\nGenre: Action\\nNum_multiplex: 570\\n3D_available: NO'), Document(metadata={'source': './RAGFiles/Movie_collection_dataset.csv', 'row': 115}, page_content='Collection: 36600\\nMarketin_expense: 23.4268\\nBudget: 32930.04\\nLead_ Actor_Rating: 8.72\\nLead_Actress_rating: 8.795\\nTrailer_views: 415458\\nGenre: Comedy\\nNum_multiplex: 539\\n3D_available: NO'), Document(metadata={'source': './RAGFiles/Movie_collection_dataset.csv', 'row': 116}, page_content='Collection: 42400\\nMarketin_expense: 22.6316\\nBudget: 34307.68\\nLead_ Actor_Rating: 8.535\\nLead_Actress_rating: 8.645\\nTrailer_views: 432696\\nGenre: Comedy\\nNum_multiplex: 528\\n3D_available: NO'), Document(metadata={'source': './RAGFiles/Movie_collection_dataset.csv', 'row': 117}, page_content='Collection: 38400\\nMarketin_expense: 23.0196\\nBudget: 33446.655\\nLead_ Actor_Rating: 8.615\\nLead_Actress_rating: 8.755\\nTrailer_views: 454755\\nGenre: Action\\nNum_multiplex: 609\\n3D_available: NO'), Document(metadata={'source': './RAGFiles/Movie_collection_dataset.csv', 'row': 118}, page_content='Collection: 40800\\nMarketin_expense: 22.6116\\nBudget: 32618.96\\nLead_ Actor_Rating: 8.6\\nLead_Actress_rating: 8.865\\nTrailer_views: 410730\\nGenre: Thriller\\nNum_multiplex: 566\\n3D_available: YES'), Document(metadata={'source': './RAGFiles/Movie_collection_dataset.csv', 'row': 119}, page_content='Collection: 38600\\nMarketin_expense: 22.8952\\nBudget: 31835.705\\nLead_ Actor_Rating: 8.52\\nLead_Actress_rating: 8.74\\nTrailer_views: 463019\\nGenre: Thriller\\nNum_multiplex: 530\\n3D_available: YES'), Document(metadata={'source': './RAGFiles/Movie_collection_dataset.csv', 'row': 120}, page_content='Collection: 44000\\nMarketin_expense: 21.3798\\nBudget: 32607.85\\nLead_ Actor_Rating: 8.8\\nLead_Actress_rating: 8.92\\nTrailer_views: 455844\\nGenre: Thriller\\nNum_multiplex: 570\\n3D_available: YES'), Document(metadata={'source': './RAGFiles/Movie_collection_dataset.csv', 'row': 121}, page_content='Collection: 40600\\nMarketin_expense: 21.433\\nBudget: 33352.22\\nLead_ Actor_Rating: 8.78\\nLead_Actress_rating: 9.02\\nTrailer_views: 454602\\nGenre: Action\\nNum_multiplex: 568\\n3D_available: YES'), Document(metadata={'source': './RAGFiles/Movie_collection_dataset.csv', 'row': 122}, page_content='Collection: 41000\\nMarketin_expense: 21.8598\\nBudget: 33113.355\\nLead_ Actor_Rating: 8.83\\nLead_Actress_rating: 9.075\\nTrailer_views: 388265\\nGenre: Comedy\\nNum_multiplex: 608\\n3D_available: YES'), Document(metadata={'source': './RAGFiles/Movie_collection_dataset.csv', 'row': 123}, page_content='Collection: 34600\\nMarketin_expense: 23.0076\\nBudget: 32530.08\\nLead_ Actor_Rating: 8.89\\nLead_Actress_rating: 9.09\\nTrailer_views: 334417\\nGenre: Drama\\nNum_multiplex: 524\\n3D_available: YES'), Document(metadata={'source': './RAGFiles/Movie_collection_dataset.csv', 'row': 124}, page_content='Collection: 37600\\nMarketin_expense: 21.9698\\nBudget: 32657.845\\nLead_ Actor_Rating: 8.895\\nLead_Actress_rating: 9.13\\nTrailer_views: 395312\\nGenre: Thriller\\nNum_multiplex: 622\\n3D_available: NO'), Document(metadata={'source': './RAGFiles/Movie_collection_dataset.csv', 'row': 125}, page_content='Collection: 42800\\nMarketin_expense: 23.3804\\nBudget: 33252.23\\nLead_ Actor_Rating: 8.935\\nLead_Actress_rating: 9.075\\nTrailer_views: 443766\\nGenre: Drama\\nNum_multiplex: 608\\n3D_available: YES'), Document(metadata={'source': './RAGFiles/Movie_collection_dataset.csv', 'row': 126}, page_content='Collection: 31400\\nMarketin_expense: 27.747\\nBudget: 31180.215\\nLead_ Actor_Rating: 9.035\\nLead_Actress_rating: 9.24\\nTrailer_views: 303828\\nGenre: Drama\\nNum_multiplex: 635\\n3D_available: NO'), Document(metadata={'source': './RAGFiles/Movie_collection_dataset.csv', 'row': 127}, page_content='Collection: 32400\\nMarketin_expense: 25.183\\nBudget: 31624.615\\nLead_ Actor_Rating: 8.955\\nLead_Actress_rating: 9.135\\nTrailer_views: 391198\\nGenre: Comedy\\nNum_multiplex: 567\\n3D_available: YES'), Document(metadata={'source': './RAGFiles/Movie_collection_dataset.csv', 'row': 128}, page_content='Collection: 36000\\nMarketin_expense: 26.5086\\nBudget: 35724.205\\nLead_ Actor_Rating: 9.02\\nLead_Actress_rating: 9.195\\nTrailer_views: 444896\\nGenre: Comedy\\nNum_multiplex: 564\\n3D_available: NO'), Document(metadata={'source': './RAGFiles/Movie_collection_dataset.csv', 'row': 129}, page_content='Collection: 28600\\nMarketin_expense: 37.625\\nBudget: 31313.535\\nLead_ Actor_Rating: 8.85\\nLead_Actress_rating: 9.06\\nTrailer_views: 406685\\nGenre: Drama\\nNum_multiplex: 581\\n3D_available: YES'), Document(metadata={'source': './RAGFiles/Movie_collection_dataset.csv', 'row': 130}, page_content='Collection: 38400\\nMarketin_expense: 26.8012\\nBudget: 35874.19\\nLead_ Actor_Rating: 8.815\\nLead_Actress_rating: 9.035\\nTrailer_views: 466796\\nGenre: Comedy\\nNum_multiplex: 663\\n3D_available: YES'), Document(metadata={'source': './RAGFiles/Movie_collection_dataset.csv', 'row': 131}, page_content='Collection: 39200\\nMarketin_expense: 43.8588\\nBudget: 35140.93\\nLead_ Actor_Rating: 8.73\\nLead_Actress_rating: 8.985\\nTrailer_views: 438063\\nGenre: Comedy\\nNum_multiplex: 559\\n3D_available: YES'), Document(metadata={'source': './RAGFiles/Movie_collection_dataset.csv', 'row': 132}, page_content='Collection: 46000\\nMarketin_expense: 31.801\\nBudget: 35396.46\\nLead_ Actor_Rating: 8.795\\nLead_Actress_rating: 8.92\\nTrailer_views: 456491\\nGenre: Action\\nNum_multiplex: 550\\n3D_available: YES'), Document(metadata={'source': './RAGFiles/Movie_collection_dataset.csv', 'row': 133}, page_content='Collection: 36800\\nMarketin_expense: 26.5964\\nBudget: 32341.21\\nLead_ Actor_Rating: 8.635\\nLead_Actress_rating: 8.79\\nTrailer_views: 426316\\nGenre: Action\\nNum_multiplex: 617\\n3D_available: YES'), Document(metadata={'source': './RAGFiles/Movie_collection_dataset.csv', 'row': 134}, page_content='Collection: 31200\\nMarketin_expense: 39.5234\\nBudget: 31980.135\\nLead_ Actor_Rating: 8.825\\nLead_Actress_rating: 8.86\\nTrailer_views: 402396\\nGenre: Action\\nNum_multiplex: 646\\n3D_available: NO'), Document(metadata={'source': './RAGFiles/Movie_collection_dataset.csv', 'row': 135}, page_content='Collection: 36200\\nMarketin_expense: 31.1556\\nBudget: 35190.925\\nLead_ Actor_Rating: 8.89\\nLead_Actress_rating: 8.965\\nTrailer_views: 411162\\nGenre: Thriller\\nNum_multiplex: 663\\n3D_available: YES'), Document(metadata={'source': './RAGFiles/Movie_collection_dataset.csv', 'row': 136}, page_content='Collection: 34800\\nMarketin_expense: 26.4528\\nBudget: 33007.81\\nLead_ Actor_Rating: 8.87\\nLead_Actress_rating: 9.08\\nTrailer_views: 394365\\nGenre: Thriller\\nNum_multiplex: 622\\n3D_available: NO'), Document(metadata={'source': './RAGFiles/Movie_collection_dataset.csv', 'row': 137}, page_content='Collection: 34200\\nMarketin_expense: 27.0466\\nBudget: 35851.97\\nLead_ Actor_Rating: 8.925\\nLead_Actress_rating: 9.235\\nTrailer_views: 442884\\nGenre: Comedy\\nNum_multiplex: 674\\n3D_available: YES'), Document(metadata={'source': './RAGFiles/Movie_collection_dataset.csv', 'row': 138}, page_content='Collection: 26600\\nMarketin_expense: 24.996\\nBudget: 32535.635\\nLead_ Actor_Rating: 9.055\\nLead_Actress_rating: 9.295\\nTrailer_views: 380380\\nGenre: Thriller\\nNum_multiplex: 593\\n3D_available: NO'), Document(metadata={'source': './RAGFiles/Movie_collection_dataset.csv', 'row': 139}, page_content='Collection: 35600\\nMarketin_expense: 30.8904\\nBudget: 34168.805\\nLead_ Actor_Rating: 9.045\\nLead_Actress_rating: 9.205\\nTrailer_views: 411330\\nGenre: Drama\\nNum_multiplex: 592\\n3D_available: YES'), Document(metadata={'source': './RAGFiles/Movie_collection_dataset.csv', 'row': 140}, page_content='Collection: 28000\\nMarketin_expense: 25.818\\nBudget: 34296.57\\nLead_ Actor_Rating: 9.07\\nLead_Actress_rating: 9.23\\nTrailer_views: 354960\\nGenre: Drama\\nNum_multiplex: 570\\n3D_available: NO'), Document(metadata={'source': './RAGFiles/Movie_collection_dataset.csv', 'row': 141}, page_content='Collection: 28800\\nMarketin_expense: 52.5728\\nBudget: 27880.545\\nLead_ Actor_Rating: 9.185\\nLead_Actress_rating: 9.34\\nTrailer_views: 233100\\nGenre: Comedy\\nNum_multiplex: 561\\n3D_available: YES'), Document(metadata={'source': './RAGFiles/Movie_collection_dataset.csv', 'row': 142}, page_content='Collection: 26800\\nMarketin_expense: 86.421\\nBudget: 30013.665\\nLead_ Actor_Rating: 9.33\\nLead_Actress_rating: 9.48\\nTrailer_views: 329378\\nGenre: Thriller\\nNum_multiplex: 807\\n3D_available: YES'), Document(metadata={'source': './RAGFiles/Movie_collection_dataset.csv', 'row': 143}, page_content='Collection: 31200\\nMarketin_expense: 101.948\\nBudget: 30374.74\\nLead_ Actor_Rating: 9.18\\nLead_Actress_rating: 9.4\\nTrailer_views: 308802\\nGenre: Comedy\\nNum_multiplex: 793\\n3D_available: YES'), Document(metadata={'source': './RAGFiles/Movie_collection_dataset.csv', 'row': 144}, page_content='Collection: 23600\\nMarketin_expense: 75.5948\\nBudget: 27236.165\\nLead_ Actor_Rating: 9.26\\nLead_Actress_rating: 9.46\\nTrailer_views: 294970\\nGenre: Thriller\\nNum_multiplex: 795\\n3D_available: YES'), Document(metadata={'source': './RAGFiles/Movie_collection_dataset.csv', 'row': 145}, page_content='Collection: 27600\\nMarketin_expense: 67.5868\\nBudget: 34052.15\\nLead_ Actor_Rating: 9.155\\nLead_Actress_rating: 9.37\\nTrailer_views: 305675\\nGenre: Thriller\\nNum_multiplex: 846\\n3D_available: YES'), Document(metadata={'source': './RAGFiles/Movie_collection_dataset.csv', 'row': 146}, page_content='Collection: 31200\\nMarketin_expense: 63.101\\nBudget: 31263.54\\nLead_ Actor_Rating: 9.09\\nLead_Actress_rating: 9.255\\nTrailer_views: 399297\\nGenre: Thriller\\nNum_multiplex: 760\\n3D_available: YES'), Document(metadata={'source': './RAGFiles/Movie_collection_dataset.csv', 'row': 147}, page_content='Collection: 29200\\nMarketin_expense: 67.3724\\nBudget: 27363.93\\nLead_ Actor_Rating: 9.115\\nLead_Actress_rating: 9.32\\nTrailer_views: 286266\\nGenre: Comedy\\nNum_multiplex: 800\\n3D_available: NO'), Document(metadata={'source': './RAGFiles/Movie_collection_dataset.csv', 'row': 148}, page_content='Collection: 35600\\nMarketin_expense: 66.6198\\nBudget: 28808.23\\nLead_ Actor_Rating: 9.21\\nLead_Actress_rating: 9.385\\nTrailer_views: 309356\\nGenre: Drama\\nNum_multiplex: 838\\n3D_available: NO'), Document(metadata={'source': './RAGFiles/Movie_collection_dataset.csv', 'row': 149}, page_content='Collection: 30800\\nMarketin_expense: 74.6794\\nBudget: 31091.335\\nLead_ Actor_Rating: 9.12\\nLead_Actress_rating: 9.39\\nTrailer_views: 347105\\nGenre: Comedy\\nNum_multiplex: 759\\n3D_available: NO'), Document(metadata={'source': './RAGFiles/Movie_collection_dataset.csv', 'row': 150}, page_content='Collection: 43000\\nMarketin_expense: 53.132\\nBudget: 34007.71\\nLead_ Actor_Rating: 9.175\\nLead_Actress_rating: 9.24\\nTrailer_views: 428936\\nGenre: Thriller\\nNum_multiplex: 831\\n3D_available: NO'), Document(metadata={'source': './RAGFiles/Movie_collection_dataset.csv', 'row': 151}, page_content='Collection: 39200\\nMarketin_expense: 49.9264\\nBudget: 30019.22\\nLead_ Actor_Rating: 9.07\\nLead_Actress_rating: 9.27\\nTrailer_views: 466687\\nGenre: Thriller\\nNum_multiplex: 754\\n3D_available: NO'), Document(metadata={'source': './RAGFiles/Movie_collection_dataset.csv', 'row': 152}, page_content='Collection: 30600\\nMarketin_expense: 42.5316\\nBudget: 27841.66\\nLead_ Actor_Rating: 9.09\\nLead_Actress_rating: 9.22\\nTrailer_views: 455196\\nGenre: Comedy\\nNum_multiplex: 851\\n3D_available: YES'), Document(metadata={'source': './RAGFiles/Movie_collection_dataset.csv', 'row': 153}, page_content='Collection: 38800\\nMarketin_expense: 62.9836\\nBudget: 31713.495\\nLead_ Actor_Rating: 9.11\\nLead_Actress_rating: 9.32\\nTrailer_views: 411772\\nGenre: Comedy\\nNum_multiplex: 840\\n3D_available: NO'), Document(metadata={'source': './RAGFiles/Movie_collection_dataset.csv', 'row': 154}, page_content='Collection: 34000\\nMarketin_expense: 48.277\\nBudget: 34046.595\\nLead_ Actor_Rating: 9.115\\nLead_Actress_rating: 9.265\\nTrailer_views: 440004\\nGenre: Action\\nNum_multiplex: 806\\n3D_available: NO'), Document(metadata={'source': './RAGFiles/Movie_collection_dataset.csv', 'row': 155}, page_content='Collection: 31200\\nMarketin_expense: 90.7002\\nBudget: 34174.36\\nLead_ Actor_Rating: 9.06\\nLead_Actress_rating: 9.275\\nTrailer_views: 432078\\nGenre: Thriller\\nNum_multiplex: 868\\n3D_available: NO'), Document(metadata={'source': './RAGFiles/Movie_collection_dataset.csv', 'row': 156}, page_content='Collection: 26200\\nMarketin_expense: 68.9336\\nBudget: 29285.96\\nLead_ Actor_Rating: 9.005\\nLead_Actress_rating: 9.145\\nTrailer_views: 426057\\nGenre: Thriller\\nNum_multiplex: 749\\n3D_available: NO'), Document(metadata={'source': './RAGFiles/Movie_collection_dataset.csv', 'row': 157}, page_content='Collection: 82600\\nMarketin_expense: 44.4716\\nBudget: 38568.365\\nLead_ Actor_Rating: 9.005\\nLead_Actress_rating: 9.12\\nTrailer_views: 501350\\nGenre: Comedy\\nNum_multiplex: 549\\n3D_available: YES'), Document(metadata={'source': './RAGFiles/Movie_collection_dataset.csv', 'row': 158}, page_content='Collection: 48600\\nMarketin_expense: 46.8568\\nBudget: 33696.63\\nLead_ Actor_Rating: 9.02\\nLead_Actress_rating: 9.23\\nTrailer_views: 483363\\nGenre: Thriller\\nNum_multiplex: 556\\n3D_available: NO'), Document(metadata={'source': './RAGFiles/Movie_collection_dataset.csv', 'row': 159}, page_content='Collection: 46600\\nMarketin_expense: 48.5004\\nBudget: 36163.05\\nLead_ Actor_Rating: 9.08\\nLead_Actress_rating: 9.155\\nTrailer_views: 475753\\nGenre: Drama\\nNum_multiplex: 765\\n3D_available: YES'), Document(metadata={'source': './RAGFiles/Movie_collection_dataset.csv', 'row': 160}, page_content='Collection: 54000\\nMarketin_expense: 45.4692\\nBudget: 34718.75\\nLead_ Actor_Rating: 9.07\\nLead_Actress_rating: 9.24\\nTrailer_views: 540041\\nGenre: Drama\\nNum_multiplex: 519\\n3D_available: YES'), Document(metadata={'source': './RAGFiles/Movie_collection_dataset.csv', 'row': 161}, page_content='Collection: 100000\\nMarketin_expense: 49.2672\\nBudget: 41601.395\\nLead_ Actor_Rating: 8.915\\nLead_Actress_rating: 9.055\\nTrailer_views: 539697\\nGenre: Comedy\\nNum_multiplex: 539\\n3D_available: YES'), Document(metadata={'source': './RAGFiles/Movie_collection_dataset.csv', 'row': 162}, page_content='Collection: 100000\\nMarketin_expense: 56.6754\\nBudget: 43340.11\\nLead_ Actor_Rating: 8.87\\nLead_Actress_rating: 9.12\\nTrailer_views: 531084\\nGenre: Drama\\nNum_multiplex: 557\\n3D_available: YES'), Document(metadata={'source': './RAGFiles/Movie_collection_dataset.csv', 'row': 163}, page_content='Collection: 100000\\nMarketin_expense: 50.3804\\nBudget: 46523.125\\nLead_ Actor_Rating: 8.87\\nLead_Actress_rating: 9.03\\nTrailer_views: 561132\\nGenre: Thriller\\nNum_multiplex: 603\\n3D_available: YES'), Document(metadata={'source': './RAGFiles/Movie_collection_dataset.csv', 'row': 164}, page_content='Collection: 45400\\nMarketin_expense: 64.8472\\nBudget: 32518.97\\nLead_ Actor_Rating: 8.645\\nLead_Actress_rating: 8.805\\nTrailer_views: 467883\\nGenre: Drama\\nNum_multiplex: 659\\n3D_available: YES'), Document(metadata={'source': './RAGFiles/Movie_collection_dataset.csv', 'row': 165}, page_content='Collection: 50000\\nMarketin_expense: 78.48\\nBudget: 33891.055\\nLead_ Actor_Rating: 8.815\\nLead_Actress_rating: 8.86\\nTrailer_views: 471586\\nGenre: Thriller\\nNum_multiplex: 533\\n3D_available: YES'), Document(metadata={'source': './RAGFiles/Movie_collection_dataset.csv', 'row': 166}, page_content='Collection: 100000\\nMarketin_expense: 60.2038\\nBudget: 44045.595\\nLead_ Actor_Rating: 8.945\\nLead_Actress_rating: 9.045\\nTrailer_views: 517904\\nGenre: Thriller\\nNum_multiplex: 522\\n3D_available: YES'), Document(metadata={'source': './RAGFiles/Movie_collection_dataset.csv', 'row': 167}, page_content='Collection: 47600\\nMarketin_expense: 56.0056\\nBudget: 32646.735\\nLead_ Actor_Rating: 8.655\\nLead_Actress_rating: 8.895\\nTrailer_views: 468741\\nGenre: Drama\\nNum_multiplex: 549\\n3D_available: YES'), Document(metadata={'source': './RAGFiles/Movie_collection_dataset.csv', 'row': 168}, page_content='Collection: 47600\\nMarketin_expense: 66.008\\nBudget: 35102.045\\nLead_ Actor_Rating: 8.855\\nLead_Actress_rating: 8.98\\nTrailer_views: 473988\\nGenre: Comedy\\nNum_multiplex: 663\\n3D_available: NO'), Document(metadata={'source': './RAGFiles/Movie_collection_dataset.csv', 'row': 169}, page_content='Collection: 44600\\nMarketin_expense: 68.9906\\nBudget: 35563.11\\nLead_ Actor_Rating: 8.85\\nLead_Actress_rating: 8.94\\nTrailer_views: 449755\\nGenre: Action\\nNum_multiplex: 536\\n3D_available: NO'), Document(metadata={'source': './RAGFiles/Movie_collection_dataset.csv', 'row': 170}, page_content='Collection: 34800\\nMarketin_expense: 44.1484\\nBudget: 32635.625\\nLead_ Actor_Rating: 8.65\\nLead_Actress_rating: 8.79\\nTrailer_views: 438703\\nGenre: Drama\\nNum_multiplex: 606\\n3D_available: NO'), Document(metadata={'source': './RAGFiles/Movie_collection_dataset.csv', 'row': 171}, page_content='Collection: 38200\\nMarketin_expense: 66.278\\nBudget: 32663.4\\nLead_ Actor_Rating: 8.69\\nLead_Actress_rating: 8.82\\nTrailer_views: 470298\\nGenre: Thriller\\nNum_multiplex: 575\\n3D_available: NO'), Document(metadata={'source': './RAGFiles/Movie_collection_dataset.csv', 'row': 172}, page_content='Collection: 46200\\nMarketin_expense: 22.7828\\nBudget: 30952.46\\nLead_ Actor_Rating: 8.65\\nLead_Actress_rating: 8.73\\nTrailer_views: 415584\\nGenre: Thriller\\nNum_multiplex: 530\\n3D_available: NO'), Document(metadata={'source': './RAGFiles/Movie_collection_dataset.csv', 'row': 173}, page_content='Collection: 47200\\nMarketin_expense: 21.8356\\nBudget: 35640.88\\nLead_ Actor_Rating: 8.57\\nLead_Actress_rating: 8.715\\nTrailer_views: 467457\\nGenre: Comedy\\nNum_multiplex: 540\\n3D_available: YES'), Document(metadata={'source': './RAGFiles/Movie_collection_dataset.csv', 'row': 174}, page_content='Collection: 45200\\nMarketin_expense: 21.6894\\nBudget: 32546.745\\nLead_ Actor_Rating: 8.58\\nLead_Actress_rating: 8.65\\nTrailer_views: 480435\\nGenre: Thriller\\nNum_multiplex: 530\\n3D_available: YES'), Document(metadata={'source': './RAGFiles/Movie_collection_dataset.csv', 'row': 175}, page_content='Collection: 58800\\nMarketin_expense: 21.3328\\nBudget: 36363.03\\nLead_ Actor_Rating: 8.39\\nLead_Actress_rating: 8.545\\nTrailer_views: 500067\\nGenre: Comedy\\nNum_multiplex: 509\\n3D_available: YES'), Document(metadata={'source': './RAGFiles/Movie_collection_dataset.csv', 'row': 176}, page_content='Collection: 46400\\nMarketin_expense: 21.4044\\nBudget: 33441.1\\nLead_ Actor_Rating: 8.125\\nLead_Actress_rating: 8.295\\nTrailer_views: 491916\\nGenre: Drama\\nNum_multiplex: 520\\n3D_available: YES'), Document(metadata={'source': './RAGFiles/Movie_collection_dataset.csv', 'row': 177}, page_content='Collection: 49200\\nMarketin_expense: 21.085\\nBudget: 35079.825\\nLead_ Actor_Rating: 8.325\\nLead_Actress_rating: 8.36\\nTrailer_views: 487150\\nGenre: Drama\\nNum_multiplex: 474\\n3D_available: YES'), Document(metadata={'source': './RAGFiles/Movie_collection_dataset.csv', 'row': 178}, page_content='Collection: 59800\\nMarketin_expense: 21.3284\\nBudget: 38107.3\\nLead_ Actor_Rating: 8.405\\nLead_Actress_rating: 8.625\\nTrailer_views: 513390\\nGenre: Comedy\\nNum_multiplex: 548\\n3D_available: NO'), Document(metadata={'source': './RAGFiles/Movie_collection_dataset.csv', 'row': 179}, page_content='Collection: 74400\\nMarketin_expense: 21.156\\nBudget: 38773.9\\nLead_ Actor_Rating: 8.445\\nLead_Actress_rating: 8.725\\nTrailer_views: 505742\\nGenre: Drama\\nNum_multiplex: 456\\n3D_available: NO'), Document(metadata={'source': './RAGFiles/Movie_collection_dataset.csv', 'row': 180}, page_content='Collection: 79600\\nMarketin_expense: 21.3176\\nBudget: 43134.575\\nLead_ Actor_Rating: 8.51\\nLead_Actress_rating: 8.67\\nTrailer_views: 515276\\nGenre: Action\\nNum_multiplex: 466\\n3D_available: YES'), Document(metadata={'source': './RAGFiles/Movie_collection_dataset.csv', 'row': 181}, page_content='Collection: 72400\\nMarketin_expense: 21.3776\\nBudget: 34129.92\\nLead_ Actor_Rating: 8.655\\nLead_Actress_rating: 8.805\\nTrailer_views: 461876\\nGenre: Thriller\\nNum_multiplex: 561\\n3D_available: YES'), Document(metadata={'source': './RAGFiles/Movie_collection_dataset.csv', 'row': 182}, page_content='Collection: 75800\\nMarketin_expense: 21.8206\\nBudget: 39746.025\\nLead_ Actor_Rating: 8.64\\nLead_Actress_rating: 8.675\\nTrailer_views: 549262\\nGenre: Thriller\\nNum_multiplex: 430\\n3D_available: YES'), Document(metadata={'source': './RAGFiles/Movie_collection_dataset.csv', 'row': 183}, page_content='Collection: 65000\\nMarketin_expense: 22.0016\\nBudget: 36457.465\\nLead_ Actor_Rating: 8.48\\nLead_Actress_rating: 8.665\\nTrailer_views: 493498\\nGenre: Drama\\nNum_multiplex: 451\\n3D_available: YES'), Document(metadata={'source': './RAGFiles/Movie_collection_dataset.csv', 'row': 184}, page_content='Collection: 52800\\nMarketin_expense: 21.6616\\nBudget: 31130.22\\nLead_ Actor_Rating: 8.47\\nLead_Actress_rating: 8.58\\nTrailer_views: 440780\\nGenre: Drama\\nNum_multiplex: 467\\n3D_available: YES'), Document(metadata={'source': './RAGFiles/Movie_collection_dataset.csv', 'row': 185}, page_content='Collection: 59200\\nMarketin_expense: 21.2094\\nBudget: 34179.915\\nLead_ Actor_Rating: 8.285\\nLead_Actress_rating: 8.475\\nTrailer_views: 463628\\nGenre: Drama\\nNum_multiplex: 466\\n3D_available: YES'), Document(metadata={'source': './RAGFiles/Movie_collection_dataset.csv', 'row': 186}, page_content='Collection: 100000\\nMarketin_expense: 21.1204\\nBudget: 43501.205\\nLead_ Actor_Rating: 8.275\\nLead_Actress_rating: 8.405\\nTrailer_views: 511949\\nGenre: Drama\\nNum_multiplex: 458\\n3D_available: YES'), Document(metadata={'source': './RAGFiles/Movie_collection_dataset.csv', 'row': 187}, page_content='Collection: 64000\\nMarketin_expense: 21.575\\nBudget: 37674.01\\nLead_ Actor_Rating: 8.095\\nLead_Actress_rating: 8.15\\nTrailer_views: 480787\\nGenre: Thriller\\nNum_multiplex: 423\\n3D_available: YES'), Document(metadata={'source': './RAGFiles/Movie_collection_dataset.csv', 'row': 188}, page_content='Collection: 59600\\nMarketin_expense: 22.5158\\nBudget: 36418.58\\nLead_ Actor_Rating: 7.69\\nLead_Actress_rating: 7.86\\nTrailer_views: 537380\\nGenre: Thriller\\nNum_multiplex: 460\\n3D_available: YES'), Document(metadata={'source': './RAGFiles/Movie_collection_dataset.csv', 'row': 189}, page_content='Collection: 69800\\nMarketin_expense: 21.674\\nBudget: 39912.675\\nLead_ Actor_Rating: 7.585\\nLead_Actress_rating: 7.785\\nTrailer_views: 520707\\nGenre: Thriller\\nNum_multiplex: 464\\n3D_available: NO'), Document(metadata={'source': './RAGFiles/Movie_collection_dataset.csv', 'row': 190}, page_content='Collection: 66000\\nMarketin_expense: 21.8136\\nBudget: 38612.805\\nLead_ Actor_Rating: 6.73\\nLead_Actress_rating: 6.82\\nTrailer_views: 512163\\nGenre: Comedy\\nNum_multiplex: 510\\n3D_available: NO'), Document(metadata={'source': './RAGFiles/Movie_collection_dataset.csv', 'row': 191}, page_content='Collection: 61000\\nMarketin_expense: 21.3822\\nBudget: 37435.145\\nLead_ Actor_Rating: 6.645\\nLead_Actress_rating: 6.79\\nTrailer_views: 507193\\nGenre: Comedy\\nNum_multiplex: 384\\n3D_available: NO'), Document(metadata={'source': './RAGFiles/Movie_collection_dataset.csv', 'row': 192}, page_content='Collection: 72800\\nMarketin_expense: 21.7328\\nBudget: 39873.79\\nLead_ Actor_Rating: 6.62\\nLead_Actress_rating: 6.83\\nTrailer_views: 515199\\nGenre: Drama\\nNum_multiplex: 448\\n3D_available: YES'), Document(metadata={'source': './RAGFiles/Movie_collection_dataset.csv', 'row': 193}, page_content='Collection: 62200\\nMarketin_expense: 20.4374\\nBudget: 37774\\nLead_ Actor_Rating: 6.77\\nLead_Actress_rating: 6.935\\nTrailer_views: 503965\\nGenre: Thriller\\nNum_multiplex: 412\\n3D_available: NO'), Document(metadata={'source': './RAGFiles/Movie_collection_dataset.csv', 'row': 194}, page_content='Collection: 58200\\nMarketin_expense: 20.2878\\nBudget: 36685.22\\nLead_ Actor_Rating: 6.745\\nLead_Actress_rating: 6.985\\nTrailer_views: 525053\\nGenre: Thriller\\nNum_multiplex: 489\\n3D_available: NO'), Document(metadata={'source': './RAGFiles/Movie_collection_dataset.csv', 'row': 195}, page_content='Collection: 100000\\nMarketin_expense: 20.2762\\nBudget: 43745.625\\nLead_ Actor_Rating: 7.095\\nLead_Actress_rating: 7.235\\nTrailer_views: 546519\\nGenre: Thriller\\nNum_multiplex: 430\\n3D_available: YES'), Document(metadata={'source': './RAGFiles/Movie_collection_dataset.csv', 'row': 196}, page_content='Collection: 66600\\nMarketin_expense: 20.8022\\nBudget: 40479.285\\nLead_ Actor_Rating: 6.21\\nLead_Actress_rating: 6.4\\nTrailer_views: 549247\\nGenre: Action\\nNum_multiplex: 367\\n3D_available: YES'), Document(metadata={'source': './RAGFiles/Movie_collection_dataset.csv', 'row': 197}, page_content='Collection: 60600\\nMarketin_expense: 20.9332\\nBudget: 39479.385\\nLead_ Actor_Rating: 6.18\\nLead_Actress_rating: 6.49\\nTrailer_views: 511537\\nGenre: Action\\nNum_multiplex: 401\\n3D_available: YES'), Document(metadata={'source': './RAGFiles/Movie_collection_dataset.csv', 'row': 198}, page_content='Collection: 69200\\nMarketin_expense: 20.7536\\nBudget: 40407.07\\nLead_ Actor_Rating: 6.235\\nLead_Actress_rating: 6.39\\nTrailer_views: 519868\\nGenre: Drama\\nNum_multiplex: 412\\n3D_available: NO'), Document(metadata={'source': './RAGFiles/Movie_collection_dataset.csv', 'row': 199}, page_content='Collection: 69800\\nMarketin_expense: 20.63\\nBudget: 38746.125\\nLead_ Actor_Rating: 6.015\\nLead_Actress_rating: 6.24\\nTrailer_views: 536549\\nGenre: Comedy\\nNum_multiplex: 413\\n3D_available: YES'), Document(metadata={'source': './RAGFiles/Movie_collection_dataset.csv', 'row': 200}, page_content='Collection: 65800\\nMarketin_expense: 20.3556\\nBudget: 39634.925\\nLead_ Actor_Rating: 6.105\\nLead_Actress_rating: 6.185\\nTrailer_views: 535003\\nGenre: Drama\\nNum_multiplex: 465\\n3D_available: NO'), Document(metadata={'source': './RAGFiles/Movie_collection_dataset.csv', 'row': 201}, page_content='Collection: 48200\\nMarketin_expense: 20.689\\nBudget: 34229.91\\nLead_ Actor_Rating: 6.8\\nLead_Actress_rating: 6.965\\nTrailer_views: 501886\\nGenre: Thriller\\nNum_multiplex: 415\\n3D_available: YES'), Document(metadata={'source': './RAGFiles/Movie_collection_dataset.csv', 'row': 202}, page_content='Collection: 84600\\nMarketin_expense: 20.4354\\nBudget: 42273.55\\nLead_ Actor_Rating: 6.825\\nLead_Actress_rating: 6.955\\nTrailer_views: 554735\\nGenre: Action\\nNum_multiplex: 459\\n3D_available: NO'), Document(metadata={'source': './RAGFiles/Movie_collection_dataset.csv', 'row': 203}, page_content='Collection: 97000\\nMarketin_expense: 20.702\\nBudget: 43623.415\\nLead_ Actor_Rating: 7.315\\nLead_Actress_rating: 7.485\\nTrailer_views: 546954\\nGenre: Comedy\\nNum_multiplex: 410\\n3D_available: NO'), Document(metadata={'source': './RAGFiles/Movie_collection_dataset.csv', 'row': 204}, page_content='Collection: 100000\\nMarketin_expense: 20.4018\\nBudget: 44628.87\\nLead_ Actor_Rating: 7.295\\nLead_Actress_rating: 7.6\\nTrailer_views: 517393\\nGenre: Thriller\\nNum_multiplex: 442\\n3D_available: YES'), Document(metadata={'source': './RAGFiles/Movie_collection_dataset.csv', 'row': 205}, page_content='Collection: 45200\\nMarketin_expense: 22.7284\\nBudget: 32724.505\\nLead_ Actor_Rating: 7.88\\nLead_Actress_rating: 8.19\\nTrailer_views: 456271\\nGenre: Thriller\\nNum_multiplex: 563\\n3D_available: YES'), Document(metadata={'source': './RAGFiles/Movie_collection_dataset.csv', 'row': 206}, page_content='Collection: 48800\\nMarketin_expense: 24.5938\\nBudget: 35140.93\\nLead_ Actor_Rating: 7.685\\nLead_Actress_rating: 7.88\\nTrailer_views: 444948\\nGenre: Thriller\\nNum_multiplex: 511\\n3D_available: YES'), Document(metadata={'source': './RAGFiles/Movie_collection_dataset.csv', 'row': 207}, page_content='Collection: 45000\\nMarketin_expense: 25.0398\\nBudget: 32124.565\\nLead_ Actor_Rating: 7.68\\nLead_Actress_rating: 7.875\\nTrailer_views: 378970\\nGenre: Comedy\\nNum_multiplex: 519\\n3D_available: YES'), Document(metadata={'source': './RAGFiles/Movie_collection_dataset.csv', 'row': 208}, page_content='Collection: 48800\\nMarketin_expense: 22.7174\\nBudget: 33685.52\\nLead_ Actor_Rating: 7.85\\nLead_Actress_rating: 8.005\\nTrailer_views: 418851\\nGenre: Comedy\\nNum_multiplex: 447\\n3D_available: YES'), Document(metadata={'source': './RAGFiles/Movie_collection_dataset.csv', 'row': 209}, page_content='Collection: 40000\\nMarketin_expense: 28.7142\\nBudget: 29685.92\\nLead_ Actor_Rating: 8.025\\nLead_Actress_rating: 8.07\\nTrailer_views: 367698\\nGenre: Comedy\\nNum_multiplex: 562\\n3D_available: NO'), Document(metadata={'source': './RAGFiles/Movie_collection_dataset.csv', 'row': 210}, page_content='Collection: 43400\\nMarketin_expense: 23.4892\\nBudget: 33107.8\\nLead_ Actor_Rating: 8.045\\nLead_Actress_rating: 8.185\\nTrailer_views: 402133\\nGenre: Comedy\\nNum_multiplex: 446\\n3D_available: YES'), Document(metadata={'source': './RAGFiles/Movie_collection_dataset.csv', 'row': 211}, page_content='Collection: 38600\\nMarketin_expense: 27.5156\\nBudget: 30019.22\\nLead_ Actor_Rating: 8.005\\nLead_Actress_rating: 8.295\\nTrailer_views: 347413\\nGenre: Thriller\\nNum_multiplex: 489\\n3D_available: NO'), Document(metadata={'source': './RAGFiles/Movie_collection_dataset.csv', 'row': 212}, page_content='Collection: 44800\\nMarketin_expense: 24.3438\\nBudget: 32257.885\\nLead_ Actor_Rating: 8.17\\nLead_Actress_rating: 8.21\\nTrailer_views: 414813\\nGenre: Thriller\\nNum_multiplex: 527\\n3D_available: YES'), Document(metadata={'source': './RAGFiles/Movie_collection_dataset.csv', 'row': 213}, page_content='Collection: 56200\\nMarketin_expense: 22.8104\\nBudget: 35413.125\\nLead_ Actor_Rating: 7.945\\nLead_Actress_rating: 8.04\\nTrailer_views: 504226\\nGenre: Comedy\\nNum_multiplex: 441\\n3D_available: YES'), Document(metadata={'source': './RAGFiles/Movie_collection_dataset.csv', 'row': 214}, page_content='Collection: 47400\\nMarketin_expense: 25.791\\nBudget: 30063.66\\nLead_ Actor_Rating: 8.16\\nLead_Actress_rating: 8.26\\nTrailer_views: 298989\\nGenre: Comedy\\nNum_multiplex: 562\\n3D_available: YES'), Document(metadata={'source': './RAGFiles/Movie_collection_dataset.csv', 'row': 215}, page_content='Collection: 50000\\nMarketin_expense: 23.9604\\nBudget: 34341.01\\nLead_ Actor_Rating: 7.925\\nLead_Actress_rating: 8.095\\nTrailer_views: 456943\\nGenre: Drama\\nNum_multiplex: 480\\n3D_available: YES'), Document(metadata={'source': './RAGFiles/Movie_collection_dataset.csv', 'row': 216}, page_content='Collection: 46600\\nMarketin_expense: 20.912\\nBudget: 32707.84\\nLead_ Actor_Rating: 8.28\\nLead_Actress_rating: 8.515\\nTrailer_views: 429010\\nGenre: Action\\nNum_multiplex: 617\\n3D_available: YES'), Document(metadata={'source': './RAGFiles/Movie_collection_dataset.csv', 'row': 217}, page_content='Collection: 57400\\nMarketin_expense: 21.4026\\nBudget: 36896.31\\nLead_ Actor_Rating: 8.24\\nLead_Actress_rating: 8.405\\nTrailer_views: 461695\\nGenre: Comedy\\nNum_multiplex: 487\\n3D_available: NO'), Document(metadata={'source': './RAGFiles/Movie_collection_dataset.csv', 'row': 218}, page_content='Collection: 43000\\nMarketin_expense: 22.2138\\nBudget: 33057.805\\nLead_ Actor_Rating: 8.54\\nLead_Actress_rating: 8.56\\nTrailer_views: 411880\\nGenre: Comedy\\nNum_multiplex: 481\\n3D_available: YES'), Document(metadata={'source': './RAGFiles/Movie_collection_dataset.csv', 'row': 219}, page_content='Collection: 46000\\nMarketin_expense: 22.285\\nBudget: 35402.015\\nLead_ Actor_Rating: 8.175\\nLead_Actress_rating: 8.375\\nTrailer_views: 451935\\nGenre: Comedy\\nNum_multiplex: 561\\n3D_available: YES'), Document(metadata={'source': './RAGFiles/Movie_collection_dataset.csv', 'row': 220}, page_content='Collection: 53400\\nMarketin_expense: 27.1618\\nBudget: 38612.805\\nLead_ Actor_Rating: 8.485\\nLead_Actress_rating: 8.64\\nTrailer_views: 480270\\nGenre: Thriller\\nNum_multiplex: 536\\n3D_available: NO'), Document(metadata={'source': './RAGFiles/Movie_collection_dataset.csv', 'row': 221}, page_content='Collection: 43400\\nMarketin_expense: 28.1542\\nBudget: 34241.02\\nLead_ Actor_Rating: 8.345\\nLead_Actress_rating: 8.48\\nTrailer_views: 369907\\nGenre: Comedy\\nNum_multiplex: 574\\n3D_available: YES'), Document(metadata={'source': './RAGFiles/Movie_collection_dataset.csv', 'row': 222}, page_content='Collection: 55000\\nMarketin_expense: 32.4712\\nBudget: 38212.845\\nLead_ Actor_Rating: 8.295\\nLead_Actress_rating: 8.395\\nTrailer_views: 470809\\nGenre: Action\\nNum_multiplex: 469\\n3D_available: YES'), Document(metadata={'source': './RAGFiles/Movie_collection_dataset.csv', 'row': 223}, page_content='Collection: 60200\\nMarketin_expense: 32.294\\nBudget: 36762.99\\nLead_ Actor_Rating: 8.25\\nLead_Actress_rating: 8.4\\nTrailer_views: 489836\\nGenre: Thriller\\nNum_multiplex: 491\\n3D_available: YES'), Document(metadata={'source': './RAGFiles/Movie_collection_dataset.csv', 'row': 224}, page_content='Collection: 89600\\nMarketin_expense: 26.3066\\nBudget: 45917.63\\nLead_ Actor_Rating: 8.52\\nLead_Actress_rating: 8.635\\nTrailer_views: 549160\\nGenre: Drama\\nNum_multiplex: 570\\n3D_available: YES'), Document(metadata={'source': './RAGFiles/Movie_collection_dataset.csv', 'row': 225}, page_content='Collection: 100000\\nMarketin_expense: 30.5386\\nBudget: 48467.375\\nLead_ Actor_Rating: 8.435\\nLead_Actress_rating: 8.695\\nTrailer_views: 521198\\nGenre: Thriller\\nNum_multiplex: 570\\n3D_available: YES'), Document(metadata={'source': './RAGFiles/Movie_collection_dataset.csv', 'row': 226}, page_content='Collection: 75200\\nMarketin_expense: 27.6428\\nBudget: 44662.2\\nLead_ Actor_Rating: 8.255\\nLead_Actress_rating: 8.52\\nTrailer_views: 560909\\nGenre: Action\\nNum_multiplex: 532\\n3D_available: YES'), Document(metadata={'source': './RAGFiles/Movie_collection_dataset.csv', 'row': 227}, page_content='Collection: 63200\\nMarketin_expense: 28.2476\\nBudget: 39790.465\\nLead_ Actor_Rating: 8.345\\nLead_Actress_rating: 8.44\\nTrailer_views: 506523\\nGenre: Thriller\\nNum_multiplex: 541\\n3D_available: NO'), Document(metadata={'source': './RAGFiles/Movie_collection_dataset.csv', 'row': 228}, page_content='Collection: 93400\\nMarketin_expense: 25.9638\\nBudget: 42695.73\\nLead_ Actor_Rating: 8.225\\nLead_Actress_rating: 8.35\\nTrailer_views: 547397\\nGenre: Drama\\nNum_multiplex: 550\\n3D_available: YES'), Document(metadata={'source': './RAGFiles/Movie_collection_dataset.csv', 'row': 229}, page_content='Collection: 63000\\nMarketin_expense: 28.8356\\nBudget: 36396.36\\nLead_ Actor_Rating: 8.22\\nLead_Actress_rating: 8.36\\nTrailer_views: 561219\\nGenre: Comedy\\nNum_multiplex: 444\\n3D_available: YES'), Document(metadata={'source': './RAGFiles/Movie_collection_dataset.csv', 'row': 230}, page_content='Collection: 48600\\nMarketin_expense: 30.74\\nBudget: 33224.455\\nLead_ Actor_Rating: 8.015\\nLead_Actress_rating: 8.31\\nTrailer_views: 480986\\nGenre: Comedy\\nNum_multiplex: 467\\n3D_available: NO'), Document(metadata={'source': './RAGFiles/Movie_collection_dataset.csv', 'row': 231}, page_content='Collection: 63400\\nMarketin_expense: 29.2592\\nBudget: 41173.66\\nLead_ Actor_Rating: 8.06\\nLead_Actress_rating: 8.33\\nTrailer_views: 540602\\nGenre: Comedy\\nNum_multiplex: 540\\n3D_available: YES'), Document(metadata={'source': './RAGFiles/Movie_collection_dataset.csv', 'row': 232}, page_content='Collection: 83400\\nMarketin_expense: 31.5058\\nBudget: 46312.035\\nLead_ Actor_Rating: 7.97\\nLead_Actress_rating: 8.09\\nTrailer_views: 545730\\nGenre: Thriller\\nNum_multiplex: 574\\n3D_available: YES'), Document(metadata={'source': './RAGFiles/Movie_collection_dataset.csv', 'row': 233}, page_content='Collection: 96600\\nMarketin_expense: 26.6294\\nBudget: 45812.085\\nLead_ Actor_Rating: 8.09\\nLead_Actress_rating: 8.255\\nTrailer_views: 529841\\nGenre: Comedy\\nNum_multiplex: 504\\n3D_available: YES'), Document(metadata={'source': './RAGFiles/Movie_collection_dataset.csv', 'row': 234}, page_content='Collection: 58000\\nMarketin_expense: 28.9582\\nBudget: 37362.93\\nLead_ Actor_Rating: 8.165\\nLead_Actress_rating: 8.31\\nTrailer_views: 514773\\nGenre: Thriller\\nNum_multiplex: 441\\n3D_available: YES'), Document(metadata={'source': './RAGFiles/Movie_collection_dataset.csv', 'row': 235}, page_content='Collection: 48000\\nMarketin_expense: 26.609\\nBudget: 33807.73\\nLead_ Actor_Rating: 8.045\\nLead_Actress_rating: 8.305\\nTrailer_views: 471552\\nGenre: Comedy\\nNum_multiplex: 525\\n3D_available: YES'), Document(metadata={'source': './RAGFiles/Movie_collection_dataset.csv', 'row': 236}, page_content='Collection: 50200\\nMarketin_expense: 30.4116\\nBudget: 36835.205\\nLead_ Actor_Rating: 7.77\\nLead_Actress_rating: 8.05\\nTrailer_views: 502128\\nGenre: Action\\nNum_multiplex: 464\\n3D_available: YES'), Document(metadata={'source': './RAGFiles/Movie_collection_dataset.csv', 'row': 237}, page_content='Collection: 63000\\nMarketin_expense: 30.2366\\nBudget: 40873.69\\nLead_ Actor_Rating: 7.88\\nLead_Actress_rating: 8.09\\nTrailer_views: 533135\\nGenre: Thriller\\nNum_multiplex: 562\\n3D_available: YES'), Document(metadata={'source': './RAGFiles/Movie_collection_dataset.csv', 'row': 238}, page_content='Collection: 47400\\nMarketin_expense: 21.6488\\nBudget: 36001.955\\nLead_ Actor_Rating: 6.87\\nLead_Actress_rating: 6.94\\nTrailer_views: 523902\\nGenre: Action\\nNum_multiplex: 491\\n3D_available: YES'), Document(metadata={'source': './RAGFiles/Movie_collection_dataset.csv', 'row': 239}, page_content='Collection: 46600\\nMarketin_expense: 21.8504\\nBudget: 36696.33\\nLead_ Actor_Rating: 6.875\\nLead_Actress_rating: 6.945\\nTrailer_views: 507617\\nGenre: Action\\nNum_multiplex: 413\\n3D_available: NO'), Document(metadata={'source': './RAGFiles/Movie_collection_dataset.csv', 'row': 240}, page_content='Collection: 54000\\nMarketin_expense: 22.2658\\nBudget: 38312.835\\nLead_ Actor_Rating: 6.755\\nLead_Actress_rating: 6.935\\nTrailer_views: 470107\\nGenre: Comedy\\nNum_multiplex: 387\\n3D_available: YES'), Document(metadata={'source': './RAGFiles/Movie_collection_dataset.csv', 'row': 241}, page_content='Collection: 40200\\nMarketin_expense: 22.1224\\nBudget: 33857.725\\nLead_ Actor_Rating: 6.785\\nLead_Actress_rating: 6.96\\nTrailer_views: 462958\\nGenre: Comedy\\nNum_multiplex: 397\\n3D_available: NO'), Document(metadata={'source': './RAGFiles/Movie_collection_dataset.csv', 'row': 242}, page_content='Collection: 44400\\nMarketin_expense: 22.058\\nBudget: 35318.69\\nLead_ Actor_Rating: 6.445\\nLead_Actress_rating: 6.595\\nTrailer_views: 479264\\nGenre: Thriller\\nNum_multiplex: 412\\n3D_available: YES'), Document(metadata={'source': './RAGFiles/Movie_collection_dataset.csv', 'row': 243}, page_content='Collection: 47400\\nMarketin_expense: 22.5514\\nBudget: 35513.115\\nLead_ Actor_Rating: 6.47\\nLead_Actress_rating: 6.515\\nTrailer_views: 537248\\nGenre: Thriller\\nNum_multiplex: 481\\n3D_available: YES'), Document(metadata={'source': './RAGFiles/Movie_collection_dataset.csv', 'row': 244}, page_content='Collection: 35200\\nMarketin_expense: 24.1216\\nBudget: 31069.115\\nLead_ Actor_Rating: 5.925\\nLead_Actress_rating: 6.19\\nTrailer_views: 458708\\nGenre: Comedy\\nNum_multiplex: 412\\n3D_available: NO'), Document(metadata={'source': './RAGFiles/Movie_collection_dataset.csv', 'row': 245}, page_content='Collection: 37000\\nMarketin_expense: 23.8266\\nBudget: 31135.775\\nLead_ Actor_Rating: 5.86\\nLead_Actress_rating: 6.085\\nTrailer_views: 405929\\nGenre: Comedy\\nNum_multiplex: 438\\n3D_available: YES'), Document(metadata={'source': './RAGFiles/Movie_collection_dataset.csv', 'row': 246}, page_content='Collection: 48600\\nMarketin_expense: 26.7966\\nBudget: 33929.94\\nLead_ Actor_Rating: 5.815\\nLead_Actress_rating: 6.11\\nTrailer_views: 465288\\nGenre: Comedy\\nNum_multiplex: 489\\n3D_available: YES'), Document(metadata={'source': './RAGFiles/Movie_collection_dataset.csv', 'row': 247}, page_content='Collection: 41000\\nMarketin_expense: 23.9314\\nBudget: 34585.43\\nLead_ Actor_Rating: 5.915\\nLead_Actress_rating: 6.005\\nTrailer_views: 484343\\nGenre: Thriller\\nNum_multiplex: 466\\n3D_available: NO'), Document(metadata={'source': './RAGFiles/Movie_collection_dataset.csv', 'row': 248}, page_content='Collection: 49000\\nMarketin_expense: 23.2878\\nBudget: 35735.315\\nLead_ Actor_Rating: 5.975\\nLead_Actress_rating: 6.13\\nTrailer_views: 504043\\nGenre: Thriller\\nNum_multiplex: 494\\n3D_available: YES'), Document(metadata={'source': './RAGFiles/Movie_collection_dataset.csv', 'row': 249}, page_content='Collection: 52400\\nMarketin_expense: 23.8146\\nBudget: 37318.49\\nLead_ Actor_Rating: 5.96\\nLead_Actress_rating: 6.2\\nTrailer_views: 531248\\nGenre: Comedy\\nNum_multiplex: 443\\n3D_available: YES'), Document(metadata={'source': './RAGFiles/Movie_collection_dataset.csv', 'row': 250}, page_content='Collection: 48800\\nMarketin_expense: 22.806\\nBudget: 36035.285\\nLead_ Actor_Rating: 6.25\\nLead_Actress_rating: 6.34\\nTrailer_views: 522769\\nGenre: Thriller\\nNum_multiplex: 389\\n3D_available: YES'), Document(metadata={'source': './RAGFiles/Movie_collection_dataset.csv', 'row': 251}, page_content='Collection: 49600\\nMarketin_expense: 24.2818\\nBudget: 35763.09\\nLead_ Actor_Rating: 6.285\\nLead_Actress_rating: 6.41\\nTrailer_views: 548870\\nGenre: Drama\\nNum_multiplex: 469\\n3D_available: NO'), Document(metadata={'source': './RAGFiles/Movie_collection_dataset.csv', 'row': 252}, page_content='Collection: 59200\\nMarketin_expense: 21.6442\\nBudget: 38646.135\\nLead_ Actor_Rating: 5.41\\nLead_Actress_rating: 5.575\\nTrailer_views: 534094\\nGenre: Action\\nNum_multiplex: 396\\n3D_available: NO'), Document(metadata={'source': './RAGFiles/Movie_collection_dataset.csv', 'row': 253}, page_content='Collection: 85600\\nMarketin_expense: 27.3788\\nBudget: 45878.745\\nLead_ Actor_Rating: 5.485\\nLead_Actress_rating: 5.555\\nTrailer_views: 518247\\nGenre: Thriller\\nNum_multiplex: 509\\n3D_available: NO'), Document(metadata={'source': './RAGFiles/Movie_collection_dataset.csv', 'row': 254}, page_content='Collection: 43800\\nMarketin_expense: 20.9638\\nBudget: 33929.94\\nLead_ Actor_Rating: 5.305\\nLead_Actress_rating: 5.495\\nTrailer_views: 528690\\nGenre: Thriller\\nNum_multiplex: 370\\n3D_available: NO'), Document(metadata={'source': './RAGFiles/Movie_collection_dataset.csv', 'row': 255}, page_content='Collection: 41800\\nMarketin_expense: 20.7096\\nBudget: 32641.18\\nLead_ Actor_Rating: 5.385\\nLead_Actress_rating: 5.445\\nTrailer_views: 459998\\nGenre: Comedy\\nNum_multiplex: 438\\n3D_available: NO'), Document(metadata={'source': './RAGFiles/Movie_collection_dataset.csv', 'row': 256}, page_content='Collection: 88000\\nMarketin_expense: 20.3076\\nBudget: 41406.97\\nLead_ Actor_Rating: 6.67\\nLead_Actress_rating: 6.985\\nTrailer_views: 524356\\nGenre: Thriller\\nNum_multiplex: 422\\n3D_available: NO'), Document(metadata={'source': './RAGFiles/Movie_collection_dataset.csv', 'row': 257}, page_content='Collection: 100000\\nMarketin_expense: 32.2308\\nBudget: 48350.72\\nLead_ Actor_Rating: 8.955\\nLead_Actress_rating: 9.235\\nTrailer_views: 530690\\nGenre: Thriller\\nNum_multiplex: 552\\n3D_available: YES'), Document(metadata={'source': './RAGFiles/Movie_collection_dataset.csv', 'row': 258}, page_content='Collection: 72000\\nMarketin_expense: 33.2702\\nBudget: 40734.815\\nLead_ Actor_Rating: 8.9\\nLead_Actress_rating: 9.13\\nTrailer_views: 477252\\nGenre: Thriller\\nNum_multiplex: 601\\n3D_available: YES'), Document(metadata={'source': './RAGFiles/Movie_collection_dataset.csv', 'row': 259}, page_content='Collection: 60200\\nMarketin_expense: 33.133\\nBudget: 38007.31\\nLead_ Actor_Rating: 8.9\\nLead_Actress_rating: 9.09\\nTrailer_views: 483741\\nGenre: Thriller\\nNum_multiplex: 599\\n3D_available: YES'), Document(metadata={'source': './RAGFiles/Movie_collection_dataset.csv', 'row': 260}, page_content='Collection: 67600\\nMarketin_expense: 30.8022\\nBudget: 40012.665\\nLead_ Actor_Rating: 8.94\\nLead_Actress_rating: 9.025\\nTrailer_views: 483080\\nGenre: Drama\\nNum_multiplex: 681\\n3D_available: YES'), Document(metadata={'source': './RAGFiles/Movie_collection_dataset.csv', 'row': 261}, page_content='Collection: 86200\\nMarketin_expense: 30.6824\\nBudget: 41773.6\\nLead_ Actor_Rating: 8.8\\nLead_Actress_rating: 9\\nTrailer_views: 526451\\nGenre: Action\\nNum_multiplex: 651\\n3D_available: YES'), Document(metadata={'source': './RAGFiles/Movie_collection_dataset.csv', 'row': 262}, page_content='Collection: 97600\\nMarketin_expense: 30.4028\\nBudget: 46650.89\\nLead_ Actor_Rating: 8.725\\nLead_Actress_rating: 8.98\\nTrailer_views: 511151\\nGenre: Thriller\\nNum_multiplex: 552\\n3D_available: YES'), Document(metadata={'source': './RAGFiles/Movie_collection_dataset.csv', 'row': 263}, page_content='Collection: 62000\\nMarketin_expense: 36.5052\\nBudget: 40701.485\\nLead_ Actor_Rating: 8.795\\nLead_Actress_rating: 8.99\\nTrailer_views: 450060\\nGenre: Comedy\\nNum_multiplex: 555\\n3D_available: YES'), Document(metadata={'source': './RAGFiles/Movie_collection_dataset.csv', 'row': 264}, page_content='Collection: 73000\\nMarketin_expense: 31.0014\\nBudget: 40029.33\\nLead_ Actor_Rating: 9.02\\nLead_Actress_rating: 9.045\\nTrailer_views: 503379\\nGenre: Thriller\\nNum_multiplex: 588\\n3D_available: YES'), Document(metadata={'source': './RAGFiles/Movie_collection_dataset.csv', 'row': 265}, page_content='Collection: 45600\\nMarketin_expense: 35.2324\\nBudget: 30885.8\\nLead_ Actor_Rating: 8.95\\nLead_Actress_rating: 9.015\\nTrailer_views: 458883\\nGenre: Comedy\\nNum_multiplex: 589\\n3D_available: NO'), Document(metadata={'source': './RAGFiles/Movie_collection_dataset.csv', 'row': 266}, page_content='Collection: 61400\\nMarketin_expense: 35.714\\nBudget: 38962.77\\nLead_ Actor_Rating: 8.89\\nLead_Actress_rating: 9.07\\nTrailer_views: 440617\\nGenre: Thriller\\nNum_multiplex: 578\\n3D_available: NO'), Document(metadata={'source': './RAGFiles/Movie_collection_dataset.csv', 'row': 267}, page_content='Collection: 100000\\nMarketin_expense: 31.5668\\nBudget: 46089.835\\nLead_ Actor_Rating: 8.7\\nLead_Actress_rating: 8.935\\nTrailer_views: 495431\\nGenre: Comedy\\nNum_multiplex: 633\\n3D_available: YES'), Document(metadata={'source': './RAGFiles/Movie_collection_dataset.csv', 'row': 268}, page_content='Collection: 87000\\nMarketin_expense: 30.81\\nBudget: 41495.85\\nLead_ Actor_Rating: 8.415\\nLead_Actress_rating: 8.69\\nTrailer_views: 558567\\nGenre: Drama\\nNum_multiplex: 504\\n3D_available: NO'), Document(metadata={'source': './RAGFiles/Movie_collection_dataset.csv', 'row': 269}, page_content='Collection: 41400\\nMarketin_expense: 21.813\\nBudget: 32885.6\\nLead_ Actor_Rating: 7.89\\nLead_Actress_rating: 8.185\\nTrailer_views: 442828\\nGenre: Action\\nNum_multiplex: 524\\n3D_available: NO'), Document(metadata={'source': './RAGFiles/Movie_collection_dataset.csv', 'row': 270}, page_content='Collection: 42200\\nMarketin_expense: 25.9832\\nBudget: 32530.08\\nLead_ Actor_Rating: 7.67\\nLead_Actress_rating: 7.895\\nTrailer_views: 448615\\nGenre: Comedy\\nNum_multiplex: 466\\n3D_available: YES'), Document(metadata={'source': './RAGFiles/Movie_collection_dataset.csv', 'row': 271}, page_content='Collection: 50400\\nMarketin_expense: 23.2422\\nBudget: 34663.2\\nLead_ Actor_Rating: 7.72\\nLead_Actress_rating: 7.815\\nTrailer_views: 527157\\nGenre: Thriller\\nNum_multiplex: 434\\n3D_available: NO'), Document(metadata={'source': './RAGFiles/Movie_collection_dataset.csv', 'row': 272}, page_content='Collection: 48800\\nMarketin_expense: 22.292\\nBudget: 36318.59\\nLead_ Actor_Rating: 7.995\\nLead_Actress_rating: 8.185\\nTrailer_views: 502420\\nGenre: Thriller\\nNum_multiplex: 440\\n3D_available: YES'), Document(metadata={'source': './RAGFiles/Movie_collection_dataset.csv', 'row': 273}, page_content='Collection: 70400\\nMarketin_expense: 24.4376\\nBudget: 42723.505\\nLead_ Actor_Rating: 7.735\\nLead_Actress_rating: 7.95\\nTrailer_views: 522502\\nGenre: Thriller\\nNum_multiplex: 425\\n3D_available: YES'), Document(metadata={'source': './RAGFiles/Movie_collection_dataset.csv', 'row': 274}, page_content='Collection: 64800\\nMarketin_expense: 21.1288\\nBudget: 37540.69\\nLead_ Actor_Rating: 7.9\\nLead_Actress_rating: 8.01\\nTrailer_views: 510207\\nGenre: Thriller\\nNum_multiplex: 426\\n3D_available: NO'), Document(metadata={'source': './RAGFiles/Movie_collection_dataset.csv', 'row': 275}, page_content='Collection: 64000\\nMarketin_expense: 21.9208\\nBudget: 38073.97\\nLead_ Actor_Rating: 7.86\\nLead_Actress_rating: 7.95\\nTrailer_views: 532339\\nGenre: Thriller\\nNum_multiplex: 385\\n3D_available: YES'), Document(metadata={'source': './RAGFiles/Movie_collection_dataset.csv', 'row': 276}, page_content='Collection: 66400\\nMarketin_expense: 22.0938\\nBudget: 40368.185\\nLead_ Actor_Rating: 7.53\\nLead_Actress_rating: 7.66\\nTrailer_views: 490028\\nGenre: Drama\\nNum_multiplex: 424\\n3D_available: NO'), Document(metadata={'source': './RAGFiles/Movie_collection_dataset.csv', 'row': 277}, page_content='Collection: 66200\\nMarketin_expense: 21.2254\\nBudget: 37918.43\\nLead_ Actor_Rating: 7.43\\nLead_Actress_rating: 7.58\\nTrailer_views: 516911\\nGenre: Thriller\\nNum_multiplex: 417\\n3D_available: NO'), Document(metadata={'source': './RAGFiles/Movie_collection_dataset.csv', 'row': 278}, page_content='Collection: 58200\\nMarketin_expense: 21.5956\\nBudget: 36007.51\\nLead_ Actor_Rating: 7.89\\nLead_Actress_rating: 7.96\\nTrailer_views: 504442\\nGenre: Thriller\\nNum_multiplex: 478\\n3D_available: YES'), Document(metadata={'source': './RAGFiles/Movie_collection_dataset.csv', 'row': 279}, page_content='Collection: 70200\\nMarketin_expense: 24.2076\\nBudget: 37840.66\\nLead_ Actor_Rating: 7.825\\nLead_Actress_rating: 8.04\\nTrailer_views: 504458\\nGenre: Drama\\nNum_multiplex: 513\\n3D_available: NO'), Document(metadata={'source': './RAGFiles/Movie_collection_dataset.csv', 'row': 280}, page_content='Collection: 90800\\nMarketin_expense: 20.7156\\nBudget: 43440.1\\nLead_ Actor_Rating: 7.51\\nLead_Actress_rating: 7.665\\nTrailer_views: 538611\\nGenre: Comedy\\nNum_multiplex: 420\\n3D_available: NO'), Document(metadata={'source': './RAGFiles/Movie_collection_dataset.csv', 'row': 281}, page_content='Collection: 70800\\nMarketin_expense: 20.741\\nBudget: 38707.24\\nLead_ Actor_Rating: 7.225\\nLead_Actress_rating: 7.54\\nTrailer_views: 546620\\nGenre: Comedy\\nNum_multiplex: 422\\n3D_available: YES'), Document(metadata={'source': './RAGFiles/Movie_collection_dataset.csv', 'row': 282}, page_content='Collection: 92000\\nMarketin_expense: 21.2258\\nBudget: 42467.975\\nLead_ Actor_Rating: 7.27\\nLead_Actress_rating: 7.53\\nTrailer_views: 524593\\nGenre: Drama\\nNum_multiplex: 512\\n3D_available: YES'), Document(metadata={'source': './RAGFiles/Movie_collection_dataset.csv', 'row': 283}, page_content='Collection: 100000\\nMarketin_expense: 20.3002\\nBudget: 44012.265\\nLead_ Actor_Rating: 6.925\\nLead_Actress_rating: 7.08\\nTrailer_views: 564706\\nGenre: Drama\\nNum_multiplex: 489\\n3D_available: YES'), Document(metadata={'source': './RAGFiles/Movie_collection_dataset.csv', 'row': 284}, page_content='Collection: 64400\\nMarketin_expense: 20.1812\\nBudget: 39373.84\\nLead_ Actor_Rating: 6.28\\nLead_Actress_rating: 6.5\\nTrailer_views: 489220\\nGenre: Action\\nNum_multiplex: 424\\n3D_available: YES'), Document(metadata={'source': './RAGFiles/Movie_collection_dataset.csv', 'row': 285}, page_content='Collection: 44000\\nMarketin_expense: 20.2192\\nBudget: 35846.415\\nLead_ Actor_Rating: 6.335\\nLead_Actress_rating: 6.445\\nTrailer_views: 511643\\nGenre: Comedy\\nNum_multiplex: 347\\n3D_available: YES'), Document(metadata={'source': './RAGFiles/Movie_collection_dataset.csv', 'row': 286}, page_content='Collection: 40200\\nMarketin_expense: 20.393\\nBudget: 34607.65\\nLead_ Actor_Rating: 5.395\\nLead_Actress_rating: 5.54\\nTrailer_views: 449001\\nGenre: Comedy\\nNum_multiplex: 333\\n3D_available: YES'), Document(metadata={'source': './RAGFiles/Movie_collection_dataset.csv', 'row': 287}, page_content='Collection: 46400\\nMarketin_expense: 20.7742\\nBudget: 34490.995\\nLead_ Actor_Rating: 6.275\\nLead_Actress_rating: 6.4\\nTrailer_views: 514434\\nGenre: Drama\\nNum_multiplex: 433\\n3D_available: YES'), Document(metadata={'source': './RAGFiles/Movie_collection_dataset.csv', 'row': 288}, page_content='Collection: 44600\\nMarketin_expense: 20.918\\nBudget: 35079.825\\nLead_ Actor_Rating: 6.185\\nLead_Actress_rating: 6.48\\nTrailer_views: 498744\\nGenre: Thriller\\nNum_multiplex: 349\\n3D_available: NO'), Document(metadata={'source': './RAGFiles/Movie_collection_dataset.csv', 'row': 289}, page_content='Collection: 49600\\nMarketin_expense: 20.8594\\nBudget: 36468.575\\nLead_ Actor_Rating: 6.335\\nLead_Actress_rating: 6.505\\nTrailer_views: 459056\\nGenre: Comedy\\nNum_multiplex: 411\\n3D_available: NO'), Document(metadata={'source': './RAGFiles/Movie_collection_dataset.csv', 'row': 290}, page_content='Collection: 57000\\nMarketin_expense: 20.7004\\nBudget: 38112.855\\nLead_ Actor_Rating: 7.39\\nLead_Actress_rating: 7.59\\nTrailer_views: 566644\\nGenre: Thriller\\nNum_multiplex: 397\\n3D_available: YES'), Document(metadata={'source': './RAGFiles/Movie_collection_dataset.csv', 'row': 291}, page_content='Collection: 74600\\nMarketin_expense: 21.5772\\nBudget: 39707.14\\nLead_ Actor_Rating: 7.44\\nLead_Actress_rating: 7.515\\nTrailer_views: 542840\\nGenre: Comedy\\nNum_multiplex: 475\\n3D_available: YES'), Document(metadata={'source': './RAGFiles/Movie_collection_dataset.csv', 'row': 292}, page_content='Collection: 55800\\nMarketin_expense: 20.723\\nBudget: 36829.65\\nLead_ Actor_Rating: 7.375\\nLead_Actress_rating: 7.48\\nTrailer_views: 529498\\nGenre: Thriller\\nNum_multiplex: 390\\n3D_available: NO'), Document(metadata={'source': './RAGFiles/Movie_collection_dataset.csv', 'row': 293}, page_content='Collection: 47800\\nMarketin_expense: 21.653\\nBudget: 34035.485\\nLead_ Actor_Rating: 7.12\\nLead_Actress_rating: 7.305\\nTrailer_views: 486691\\nGenre: Thriller\\nNum_multiplex: 485\\n3D_available: YES'), Document(metadata={'source': './RAGFiles/Movie_collection_dataset.csv', 'row': 294}, page_content='Collection: 43400\\nMarketin_expense: 21.6398\\nBudget: 33379.995\\nLead_ Actor_Rating: 7.23\\nLead_Actress_rating: 7.265\\nTrailer_views: 481269\\nGenre: Drama\\nNum_multiplex: 386\\n3D_available: NO'), Document(metadata={'source': './RAGFiles/Movie_collection_dataset.csv', 'row': 295}, page_content='Collection: 57200\\nMarketin_expense: 22.5864\\nBudget: 37096.29\\nLead_ Actor_Rating: 6.9\\nLead_Actress_rating: 7.135\\nTrailer_views: 534560\\nGenre: Thriller\\nNum_multiplex: 421\\n3D_available: YES'), Document(metadata={'source': './RAGFiles/Movie_collection_dataset.csv', 'row': 296}, page_content='Collection: 54200\\nMarketin_expense: 21.0744\\nBudget: 36379.695\\nLead_ Actor_Rating: 6.89\\nLead_Actress_rating: 7.125\\nTrailer_views: 479856\\nGenre: Comedy\\nNum_multiplex: 454\\n3D_available: NO'), Document(metadata={'source': './RAGFiles/Movie_collection_dataset.csv', 'row': 297}, page_content='Collection: 40600\\nMarketin_expense: 22.8206\\nBudget: 32163.45\\nLead_ Actor_Rating: 6.72\\nLead_Actress_rating: 6.85\\nTrailer_views: 405787\\nGenre: Comedy\\nNum_multiplex: 521\\n3D_available: YES'), Document(metadata={'source': './RAGFiles/Movie_collection_dataset.csv', 'row': 298}, page_content='Collection: 45000\\nMarketin_expense: 21.2932\\nBudget: 35246.475\\nLead_ Actor_Rating: 6\\nLead_Actress_rating: 6.165\\nTrailer_views: 517172\\nGenre: Drama\\nNum_multiplex: 369\\n3D_available: NO'), Document(metadata={'source': './RAGFiles/Movie_collection_dataset.csv', 'row': 299}, page_content='Collection: 58000\\nMarketin_expense: 21.1122\\nBudget: 39112.755\\nLead_ Actor_Rating: 6.08\\nLead_Actress_rating: 6.095\\nTrailer_views: 524749\\nGenre: Drama\\nNum_multiplex: 414\\n3D_available: YES'), Document(metadata={'source': './RAGFiles/Movie_collection_dataset.csv', 'row': 300}, page_content='Collection: 49600\\nMarketin_expense: 20.8834\\nBudget: 38168.405\\nLead_ Actor_Rating: 5.955\\nLead_Actress_rating: 6.16\\nTrailer_views: 503113\\nGenre: Thriller\\nNum_multiplex: 429\\n3D_available: YES'), Document(metadata={'source': './RAGFiles/Movie_collection_dataset.csv', 'row': 301}, page_content='Collection: 44000\\nMarketin_expense: 20.7074\\nBudget: 36607.45\\nLead_ Actor_Rating: 7.185\\nLead_Actress_rating: 7.4\\nTrailer_views: 456975\\nGenre: Thriller\\nNum_multiplex: 372\\n3D_available: YES'), Document(metadata={'source': './RAGFiles/Movie_collection_dataset.csv', 'row': 302}, page_content='Collection: 52800\\nMarketin_expense: 21.8532\\nBudget: 36079.725\\nLead_ Actor_Rating: 7.1\\nLead_Actress_rating: 7.4\\nTrailer_views: 495797\\nGenre: Action\\nNum_multiplex: 373\\n3D_available: YES'), Document(metadata={'source': './RAGFiles/Movie_collection_dataset.csv', 'row': 303}, page_content='Collection: 66200\\nMarketin_expense: 22\\nBudget: 38785.01\\nLead_ Actor_Rating: 7.095\\nLead_Actress_rating: 7.32\\nTrailer_views: 546989\\nGenre: Comedy\\nNum_multiplex: 511\\n3D_available: NO'), Document(metadata={'source': './RAGFiles/Movie_collection_dataset.csv', 'row': 304}, page_content='Collection: 72200\\nMarketin_expense: 21.103\\nBudget: 40195.98\\nLead_ Actor_Rating: 7.95\\nLead_Actress_rating: 8.02\\nTrailer_views: 525924\\nGenre: Thriller\\nNum_multiplex: 524\\n3D_available: NO'), Document(metadata={'source': './RAGFiles/Movie_collection_dataset.csv', 'row': 305}, page_content='Collection: 56800\\nMarketin_expense: 21.0958\\nBudget: 36751.88\\nLead_ Actor_Rating: 8.185\\nLead_Actress_rating: 8.475\\nTrailer_views: 462490\\nGenre: Comedy\\nNum_multiplex: 454\\n3D_available: NO'), Document(metadata={'source': './RAGFiles/Movie_collection_dataset.csv', 'row': 306}, page_content='Collection: 66800\\nMarketin_expense: 21.5006\\nBudget: 41218.1\\nLead_ Actor_Rating: 8.345\\nLead_Actress_rating: 8.54\\nTrailer_views: 497990\\nGenre: Thriller\\nNum_multiplex: 506\\n3D_available: YES'), Document(metadata={'source': './RAGFiles/Movie_collection_dataset.csv', 'row': 307}, page_content='Collection: 56400\\nMarketin_expense: 20.9864\\nBudget: 38046.195\\nLead_ Actor_Rating: 8.36\\nLead_Actress_rating: 8.555\\nTrailer_views: 490857\\nGenre: Action\\nNum_multiplex: 470\\n3D_available: YES'), Document(metadata={'source': './RAGFiles/Movie_collection_dataset.csv', 'row': 308}, page_content='Collection: 45600\\nMarketin_expense: 29.8596\\nBudget: 36857.425\\nLead_ Actor_Rating: 8.215\\nLead_Actress_rating: 8.38\\nTrailer_views: 539571\\nGenre: Thriller\\nNum_multiplex: 581\\n3D_available: NO'), Document(metadata={'source': './RAGFiles/Movie_collection_dataset.csv', 'row': 309}, page_content='Collection: 40600\\nMarketin_expense: 26.988\\nBudget: 33174.46\\nLead_ Actor_Rating: 8.3\\nLead_Actress_rating: 8.545\\nTrailer_views: 491345\\nGenre: Comedy\\nNum_multiplex: 568\\n3D_available: YES'), Document(metadata={'source': './RAGFiles/Movie_collection_dataset.csv', 'row': 310}, page_content='Collection: 32200\\nMarketin_expense: 72.7096\\nBudget: 27625.015\\nLead_ Actor_Rating: 8.685\\nLead_Actress_rating: 8.86\\nTrailer_views: 447032\\nGenre: Thriller\\nNum_multiplex: 562\\n3D_available: NO'), Document(metadata={'source': './RAGFiles/Movie_collection_dataset.csv', 'row': 311}, page_content='Collection: 44200\\nMarketin_expense: 35.8082\\nBudget: 34007.71\\nLead_ Actor_Rating: 8.555\\nLead_Actress_rating: 8.83\\nTrailer_views: 501252\\nGenre: Thriller\\nNum_multiplex: 558\\n3D_available: YES'), Document(metadata={'source': './RAGFiles/Movie_collection_dataset.csv', 'row': 312}, page_content='Collection: 38800\\nMarketin_expense: 25.2338\\nBudget: 33457.765\\nLead_ Actor_Rating: 8.5\\nLead_Actress_rating: 8.665\\nTrailer_views: 475124\\nGenre: Comedy\\nNum_multiplex: 535\\n3D_available: YES'), Document(metadata={'source': './RAGFiles/Movie_collection_dataset.csv', 'row': 313}, page_content='Collection: 43200\\nMarketin_expense: 25.3876\\nBudget: 34807.63\\nLead_ Actor_Rating: 8.31\\nLead_Actress_rating: 8.51\\nTrailer_views: 474736\\nGenre: Comedy\\nNum_multiplex: 543\\n3D_available: YES'), Document(metadata={'source': './RAGFiles/Movie_collection_dataset.csv', 'row': 314}, page_content='Collection: 47600\\nMarketin_expense: 27.384\\nBudget: 36479.685\\nLead_ Actor_Rating: 8.04\\nLead_Actress_rating: 8.345\\nTrailer_views: 483058\\nGenre: Drama\\nNum_multiplex: 544\\n3D_available: YES'), Document(metadata={'source': './RAGFiles/Movie_collection_dataset.csv', 'row': 315}, page_content='Collection: 32400\\nMarketin_expense: 25.0712\\nBudget: 31691.275\\nLead_ Actor_Rating: 7.99\\nLead_Actress_rating: 8.1\\nTrailer_views: 482381\\nGenre: Thriller\\nNum_multiplex: 559\\n3D_available: NO'), Document(metadata={'source': './RAGFiles/Movie_collection_dataset.csv', 'row': 316}, page_content='Collection: 35600\\nMarketin_expense: 26.3654\\nBudget: 32852.27\\nLead_ Actor_Rating: 7.9\\nLead_Actress_rating: 8.09\\nTrailer_views: 387823\\nGenre: Thriller\\nNum_multiplex: 520\\n3D_available: NO'), Document(metadata={'source': './RAGFiles/Movie_collection_dataset.csv', 'row': 317}, page_content='Collection: 39600\\nMarketin_expense: 24.9044\\nBudget: 32119.01\\nLead_ Actor_Rating: 7.935\\nLead_Actress_rating: 8.03\\nTrailer_views: 401740\\nGenre: Thriller\\nNum_multiplex: 471\\n3D_available: NO'), Document(metadata={'source': './RAGFiles/Movie_collection_dataset.csv', 'row': 318}, page_content='Collection: 46200\\nMarketin_expense: 28.0404\\nBudget: 35452.01\\nLead_ Actor_Rating: 8.1\\nLead_Actress_rating: 8.325\\nTrailer_views: 478332\\nGenre: Comedy\\nNum_multiplex: 515\\n3D_available: NO'), Document(metadata={'source': './RAGFiles/Movie_collection_dataset.csv', 'row': 319}, page_content='Collection: 42000\\nMarketin_expense: 29.5094\\nBudget: 33957.715\\nLead_ Actor_Rating: 7.965\\nLead_Actress_rating: 8.07\\nTrailer_views: 471282\\nGenre: Action\\nNum_multiplex: 542\\n3D_available: NO'), Document(metadata={'source': './RAGFiles/Movie_collection_dataset.csv', 'row': 320}, page_content='Collection: 47600\\nMarketin_expense: 23.352\\nBudget: 35696.43\\nLead_ Actor_Rating: 7.63\\nLead_Actress_rating: 7.84\\nTrailer_views: 510893\\nGenre: Thriller\\nNum_multiplex: 554\\n3D_available: YES'), Document(metadata={'source': './RAGFiles/Movie_collection_dataset.csv', 'row': 321}, page_content='Collection: 46200\\nMarketin_expense: 23.6318\\nBudget: 35418.68\\nLead_ Actor_Rating: 7.575\\nLead_Actress_rating: 7.81\\nTrailer_views: 484440\\nGenre: Drama\\nNum_multiplex: 470\\n3D_available: YES'), Document(metadata={'source': './RAGFiles/Movie_collection_dataset.csv', 'row': 322}, page_content='Collection: 40800\\nMarketin_expense: 27.0228\\nBudget: 33557.755\\nLead_ Actor_Rating: 7.535\\nLead_Actress_rating: 7.785\\nTrailer_views: 491464\\nGenre: Comedy\\nNum_multiplex: 457\\n3D_available: NO'), Document(metadata={'source': './RAGFiles/Movie_collection_dataset.csv', 'row': 323}, page_content='Collection: 37000\\nMarketin_expense: 25.6784\\nBudget: 31707.94\\nLead_ Actor_Rating: 7.545\\nLead_Actress_rating: 7.7\\nTrailer_views: 446743\\nGenre: Comedy\\nNum_multiplex: 501\\n3D_available: YES'), Document(metadata={'source': './RAGFiles/Movie_collection_dataset.csv', 'row': 324}, page_content='Collection: 50000\\nMarketin_expense: 26.8218\\nBudget: 35635.325\\nLead_ Actor_Rating: 7.5\\nLead_Actress_rating: 7.75\\nTrailer_views: 528887\\nGenre: Thriller\\nNum_multiplex: 474\\n3D_available: NO'), Document(metadata={'source': './RAGFiles/Movie_collection_dataset.csv', 'row': 325}, page_content='Collection: 49200\\nMarketin_expense: 23.8372\\nBudget: 35724.205\\nLead_ Actor_Rating: 7.245\\nLead_Actress_rating: 7.45\\nTrailer_views: 533713\\nGenre: Comedy\\nNum_multiplex: 454\\n3D_available: NO'), Document(metadata={'source': './RAGFiles/Movie_collection_dataset.csv', 'row': 326}, page_content='Collection: 46000\\nMarketin_expense: 26.0694\\nBudget: 35063.16\\nLead_ Actor_Rating: 7.265\\nLead_Actress_rating: 7.455\\nTrailer_views: 509852\\nGenre: Thriller\\nNum_multiplex: 485\\n3D_available: YES'), Document(metadata={'source': './RAGFiles/Movie_collection_dataset.csv', 'row': 327}, page_content='Collection: 44400\\nMarketin_expense: 24.8206\\nBudget: 33791.065\\nLead_ Actor_Rating: 7.205\\nLead_Actress_rating: 7.31\\nTrailer_views: 448684\\nGenre: Comedy\\nNum_multiplex: 509\\n3D_available: NO'), Document(metadata={'source': './RAGFiles/Movie_collection_dataset.csv', 'row': 328}, page_content='Collection: 38600\\nMarketin_expense: 21.3234\\nBudget: 32596.74\\nLead_ Actor_Rating: 7.29\\nLead_Actress_rating: 7.47\\nTrailer_views: 483140\\nGenre: Drama\\nNum_multiplex: 395\\n3D_available: YES'), Document(metadata={'source': './RAGFiles/Movie_collection_dataset.csv', 'row': 329}, page_content='Collection: 45200\\nMarketin_expense: 21.3448\\nBudget: 35179.815\\nLead_ Actor_Rating: 7.32\\nLead_Actress_rating: 7.46\\nTrailer_views: 483051\\nGenre: Comedy\\nNum_multiplex: 452\\n3D_available: NO'), Document(metadata={'source': './RAGFiles/Movie_collection_dataset.csv', 'row': 330}, page_content='Collection: 39600\\nMarketin_expense: 20.9088\\nBudget: 34129.92\\nLead_ Actor_Rating: 6.99\\nLead_Actress_rating: 7.225\\nTrailer_views: 465165\\nGenre: Thriller\\nNum_multiplex: 431\\n3D_available: NO'), Document(metadata={'source': './RAGFiles/Movie_collection_dataset.csv', 'row': 331}, page_content='Collection: 34200\\nMarketin_expense: 21.0046\\nBudget: 31696.83\\nLead_ Actor_Rating: 6.665\\nLead_Actress_rating: 6.72\\nTrailer_views: 450203\\nGenre: Drama\\nNum_multiplex: 522\\n3D_available: NO'), Document(metadata={'source': './RAGFiles/Movie_collection_dataset.csv', 'row': 332}, page_content='Collection: 38800\\nMarketin_expense: 20.6932\\nBudget: 33502.205\\nLead_ Actor_Rating: 6.525\\nLead_Actress_rating: 6.71\\nTrailer_views: 480695\\nGenre: Comedy\\nNum_multiplex: 518\\n3D_available: YES'), Document(metadata={'source': './RAGFiles/Movie_collection_dataset.csv', 'row': 333}, page_content='Collection: 44400\\nMarketin_expense: 21.0166\\nBudget: 35085.38\\nLead_ Actor_Rating: 6.62\\nLead_Actress_rating: 6.9\\nTrailer_views: 536791\\nGenre: Comedy\\nNum_multiplex: 499\\n3D_available: NO'), Document(metadata={'source': './RAGFiles/Movie_collection_dataset.csv', 'row': 334}, page_content='Collection: 41400\\nMarketin_expense: 20.7476\\nBudget: 35052.05\\nLead_ Actor_Rating: 6.74\\nLead_Actress_rating: 6.83\\nTrailer_views: 505077\\nGenre: Action\\nNum_multiplex: 555\\n3D_available: YES'), Document(metadata={'source': './RAGFiles/Movie_collection_dataset.csv', 'row': 335}, page_content='Collection: 42200\\nMarketin_expense: 20.7922\\nBudget: 33535.535\\nLead_ Actor_Rating: 6.87\\nLead_Actress_rating: 7.15\\nTrailer_views: 477685\\nGenre: Comedy\\nNum_multiplex: 506\\n3D_available: YES'), Document(metadata={'source': './RAGFiles/Movie_collection_dataset.csv', 'row': 336}, page_content='Collection: 39000\\nMarketin_expense: 20.6854\\nBudget: 32602.295\\nLead_ Actor_Rating: 7.25\\nLead_Actress_rating: 7.545\\nTrailer_views: 483878\\nGenre: Thriller\\nNum_multiplex: 447\\n3D_available: NO'), Document(metadata={'source': './RAGFiles/Movie_collection_dataset.csv', 'row': 337}, page_content='Collection: 37000\\nMarketin_expense: 20.6082\\nBudget: 32746.725\\nLead_ Actor_Rating: 7.07\\nLead_Actress_rating: 7.255\\nTrailer_views: 452920\\nGenre: Thriller\\nNum_multiplex: 567\\n3D_available: YES'), Document(metadata={'source': './RAGFiles/Movie_collection_dataset.csv', 'row': 338}, page_content='Collection: 41200\\nMarketin_expense: 20.6612\\nBudget: 33657.745\\nLead_ Actor_Rating: 7.545\\nLead_Actress_rating: 7.74\\nTrailer_views: 466294\\nGenre: Thriller\\nNum_multiplex: 535\\n3D_available: YES'), Document(metadata={'source': './RAGFiles/Movie_collection_dataset.csv', 'row': 339}, page_content='Collection: 38000\\nMarketin_expense: 21.0994\\nBudget: 33246.675\\nLead_ Actor_Rating: 7.555\\nLead_Actress_rating: 7.68\\nTrailer_views: 457316\\nGenre: Drama\\nNum_multiplex: 477\\n3D_available: NO'), Document(metadata={'source': './RAGFiles/Movie_collection_dataset.csv', 'row': 340}, page_content='Collection: 37400\\nMarketin_expense: 21.2302\\nBudget: 33152.24\\nLead_ Actor_Rating: 7.47\\nLead_Actress_rating: 7.62\\nTrailer_views: 459687\\nGenre: Comedy\\nNum_multiplex: 534\\n3D_available: YES'), Document(metadata={'source': './RAGFiles/Movie_collection_dataset.csv', 'row': 341}, page_content='Collection: 65400\\nMarketin_expense: 20.2602\\nBudget: 40223.755\\nLead_ Actor_Rating: 6.34\\nLead_Actress_rating: 6.52\\nTrailer_views: 516919\\nGenre: Comedy\\nNum_multiplex: 525\\n3D_available: YES'), Document(metadata={'source': './RAGFiles/Movie_collection_dataset.csv', 'row': 342}, page_content='Collection: 33000\\nMarketin_expense: 20.4996\\nBudget: 36329.7\\nLead_ Actor_Rating: 6.77\\nLead_Actress_rating: 6.895\\nTrailer_views: 494604\\nGenre: Thriller\\nNum_multiplex: 566\\n3D_available: YES'), Document(metadata={'source': './RAGFiles/Movie_collection_dataset.csv', 'row': 343}, page_content='Collection: 47800\\nMarketin_expense: 20.5086\\nBudget: 37196.28\\nLead_ Actor_Rating: 6.985\\nLead_Actress_rating: 7.19\\nTrailer_views: 480187\\nGenre: Action\\nNum_multiplex: 479\\n3D_available: YES'), Document(metadata={'source': './RAGFiles/Movie_collection_dataset.csv', 'row': 344}, page_content='Collection: 62400\\nMarketin_expense: 20.6098\\nBudget: 38185.07\\nLead_ Actor_Rating: 6.645\\nLead_Actress_rating: 6.91\\nTrailer_views: 534902\\nGenre: Thriller\\nNum_multiplex: 464\\n3D_available: NO'), Document(metadata={'source': './RAGFiles/Movie_collection_dataset.csv', 'row': 345}, page_content='Collection: 35000\\nMarketin_expense: 20.6226\\nBudget: 33407.77\\nLead_ Actor_Rating: 5.88\\nLead_Actress_rating: 6.045\\nTrailer_views: 494404\\nGenre: Drama\\nNum_multiplex: 507\\n3D_available: YES'), Document(metadata={'source': './RAGFiles/Movie_collection_dataset.csv', 'row': 346}, page_content='Collection: 34400\\nMarketin_expense: 21.2324\\nBudget: 32763.39\\nLead_ Actor_Rating: 5.965\\nLead_Actress_rating: 6.075\\nTrailer_views: 459385\\nGenre: Thriller\\nNum_multiplex: 441\\n3D_available: NO'), Document(metadata={'source': './RAGFiles/Movie_collection_dataset.csv', 'row': 347}, page_content='Collection: 46200\\nMarketin_expense: 20.374\\nBudget: 36196.38\\nLead_ Actor_Rating: 5.565\\nLead_Actress_rating: 5.855\\nTrailer_views: 485496\\nGenre: Drama\\nNum_multiplex: 385\\n3D_available: YES'), Document(metadata={'source': './RAGFiles/Movie_collection_dataset.csv', 'row': 348}, page_content='Collection: 49000\\nMarketin_expense: 20.3002\\nBudget: 36857.425\\nLead_ Actor_Rating: 5.69\\nLead_Actress_rating: 5.91\\nTrailer_views: 507911\\nGenre: Comedy\\nNum_multiplex: 490\\n3D_available: YES'), Document(metadata={'source': './RAGFiles/Movie_collection_dataset.csv', 'row': 349}, page_content='Collection: 53200\\nMarketin_expense: 20.5798\\nBudget: 38546.145\\nLead_ Actor_Rating: 5.56\\nLead_Actress_rating: 5.73\\nTrailer_views: 495540\\nGenre: Comedy\\nNum_multiplex: 393\\n3D_available: YES'), Document(metadata={'source': './RAGFiles/Movie_collection_dataset.csv', 'row': 350}, page_content='Collection: 45800\\nMarketin_expense: 21.2422\\nBudget: 36051.95\\nLead_ Actor_Rating: 5.5\\nLead_Actress_rating: 5.685\\nTrailer_views: 530639\\nGenre: Thriller\\nNum_multiplex: 389\\n3D_available: NO'), Document(metadata={'source': './RAGFiles/Movie_collection_dataset.csv', 'row': 351}, page_content='Collection: 48200\\nMarketin_expense: 21.59\\nBudget: 36546.345\\nLead_ Actor_Rating: 4.51\\nLead_Actress_rating: 4.785\\nTrailer_views: 528366\\nGenre: Thriller\\nNum_multiplex: 363\\n3D_available: YES'), Document(metadata={'source': './RAGFiles/Movie_collection_dataset.csv', 'row': 352}, page_content='Collection: 37200\\nMarketin_expense: 21.4488\\nBudget: 32685.62\\nLead_ Actor_Rating: 4.585\\nLead_Actress_rating: 4.725\\nTrailer_views: 500120\\nGenre: Thriller\\nNum_multiplex: 397\\n3D_available: YES'), Document(metadata={'source': './RAGFiles/Movie_collection_dataset.csv', 'row': 353}, page_content='Collection: 60200\\nMarketin_expense: 20.3418\\nBudget: 37374.04\\nLead_ Actor_Rating: 3.84\\nLead_Actress_rating: 4.035\\nTrailer_views: 502830\\nGenre: Drama\\nNum_multiplex: 474\\n3D_available: YES'), Document(metadata={'source': './RAGFiles/Movie_collection_dataset.csv', 'row': 354}, page_content='Collection: 36400\\nMarketin_expense: 20.8602\\nBudget: 31457.965\\nLead_ Actor_Rating: 4.62\\nLead_Actress_rating: 4.815\\nTrailer_views: 484954\\nGenre: Comedy\\nNum_multiplex: 470\\n3D_available: NO'), Document(metadata={'source': './RAGFiles/Movie_collection_dataset.csv', 'row': 355}, page_content='Collection: 41200\\nMarketin_expense: 22.1318\\nBudget: 32974.48\\nLead_ Actor_Rating: 4.59\\nLead_Actress_rating: 4.75\\nTrailer_views: 503151\\nGenre: Thriller\\nNum_multiplex: 444\\n3D_available: NO'), Document(metadata={'source': './RAGFiles/Movie_collection_dataset.csv', 'row': 356}, page_content='Collection: 35600\\nMarketin_expense: 199.6592\\nBudget: 34507.66\\nLead_ Actor_Rating: 8.92\\nLead_Actress_rating: 9.095\\nTrailer_views: 399154\\nGenre: Comedy\\nNum_multiplex: 773\\n3D_available: NO'), Document(metadata={'source': './RAGFiles/Movie_collection_dataset.csv', 'row': 357}, page_content='Collection: 43400\\nMarketin_expense: 96.994\\nBudget: 35524.225\\nLead_ Actor_Rating: 8.585\\nLead_Actress_rating: 8.775\\nTrailer_views: 465805\\nGenre: Drama\\nNum_multiplex: 756\\n3D_available: NO'), Document(metadata={'source': './RAGFiles/Movie_collection_dataset.csv', 'row': 358}, page_content='Collection: 45400\\nMarketin_expense: 124.0354\\nBudget: 34035.485\\nLead_ Actor_Rating: 8.52\\nLead_Actress_rating: 8.8\\nTrailer_views: 473168\\nGenre: Action\\nNum_multiplex: 767\\n3D_available: NO'), Document(metadata={'source': './RAGFiles/Movie_collection_dataset.csv', 'row': 359}, page_content='Collection: 45200\\nMarketin_expense: 105.2262\\nBudget: 33952.16\\nLead_ Actor_Rating: 8.61\\nLead_Actress_rating: 8.81\\nTrailer_views: 437945\\nGenre: Drama\\nNum_multiplex: 743\\n3D_available: NO'), Document(metadata={'source': './RAGFiles/Movie_collection_dataset.csv', 'row': 360}, page_content='Collection: 50000\\nMarketin_expense: 110.8384\\nBudget: 35540.89\\nLead_ Actor_Rating: 8.635\\nLead_Actress_rating: 8.79\\nTrailer_views: 486963\\nGenre: Comedy\\nNum_multiplex: 673\\n3D_available: NO'), Document(metadata={'source': './RAGFiles/Movie_collection_dataset.csv', 'row': 361}, page_content='Collection: 39800\\nMarketin_expense: 96.7368\\nBudget: 34724.305\\nLead_ Actor_Rating: 8.71\\nLead_Actress_rating: 9.01\\nTrailer_views: 456314\\nGenre: Thriller\\nNum_multiplex: 733\\n3D_available: YES'), Document(metadata={'source': './RAGFiles/Movie_collection_dataset.csv', 'row': 362}, page_content='Collection: 41600\\nMarketin_expense: 93.5644\\nBudget: 29785.91\\nLead_ Actor_Rating: 8.865\\nLead_Actress_rating: 9.1\\nTrailer_views: 450482\\nGenre: Drama\\nNum_multiplex: 700\\n3D_available: NO'), Document(metadata={'source': './RAGFiles/Movie_collection_dataset.csv', 'row': 363}, page_content='Collection: 33600\\nMarketin_expense: 104.4478\\nBudget: 32235.665\\nLead_ Actor_Rating: 9.01\\nLead_Actress_rating: 9.15\\nTrailer_views: 439085\\nGenre: Action\\nNum_multiplex: 803\\n3D_available: YES'), Document(metadata={'source': './RAGFiles/Movie_collection_dataset.csv', 'row': 364}, page_content='Collection: 43800\\nMarketin_expense: 89.4856\\nBudget: 48772.9\\nLead_ Actor_Rating: 9.015\\nLead_Actress_rating: 9.145\\nTrailer_views: 493047\\nGenre: Thriller\\nNum_multiplex: 622\\n3D_available: NO'), Document(metadata={'source': './RAGFiles/Movie_collection_dataset.csv', 'row': 365}, page_content='Collection: 55000\\nMarketin_expense: 111.1174\\nBudget: 19781.355\\nLead_ Actor_Rating: 9.185\\nLead_Actress_rating: 9.225\\nTrailer_views: 527849\\nGenre: Thriller\\nNum_multiplex: 680\\n3D_available: YES'), Document(metadata={'source': './RAGFiles/Movie_collection_dataset.csv', 'row': 366}, page_content='Collection: 43800\\nMarketin_expense: 93.939\\nBudget: 27569.465\\nLead_ Actor_Rating: 8.96\\nLead_Actress_rating: 9.225\\nTrailer_views: 417956\\nGenre: Drama\\nNum_multiplex: 757\\n3D_available: NO'), Document(metadata={'source': './RAGFiles/Movie_collection_dataset.csv', 'row': 367}, page_content='Collection: 46200\\nMarketin_expense: 290.444\\nBudget: 21458.965\\nLead_ Actor_Rating: 9.235\\nLead_Actress_rating: 9.305\\nTrailer_views: 466467\\nGenre: Drama\\nNum_multiplex: 559\\n3D_available: NO'), Document(metadata={'source': './RAGFiles/Movie_collection_dataset.csv', 'row': 368}, page_content='Collection: 100000\\nMarketin_expense: 117.9644\\nBudget: 27608.35\\nLead_ Actor_Rating: 9.265\\nLead_Actress_rating: 9.445\\nTrailer_views: 549584\\nGenre: Thriller\\nNum_multiplex: 624\\n3D_available: NO'), Document(metadata={'source': './RAGFiles/Movie_collection_dataset.csv', 'row': 369}, page_content='Collection: 100000\\nMarketin_expense: 133.3996\\nBudget: 37124.065\\nLead_ Actor_Rating: 9.225\\nLead_Actress_rating: 9.36\\nTrailer_views: 513408\\nGenre: Thriller\\nNum_multiplex: 675\\n3D_available: YES'), Document(metadata={'source': './RAGFiles/Movie_collection_dataset.csv', 'row': 370}, page_content='Collection: 100000\\nMarketin_expense: 150.7752\\nBudget: 38973.88\\nLead_ Actor_Rating: 9.3\\nLead_Actress_rating: 9.54\\nTrailer_views: 523799\\nGenre: Comedy\\nNum_multiplex: 593\\n3D_available: YES'), Document(metadata={'source': './RAGFiles/Movie_collection_dataset.csv', 'row': 371}, page_content='Collection: 100000\\nMarketin_expense: 204.646\\nBudget: 34529.88\\nLead_ Actor_Rating: 9.31\\nLead_Actress_rating: 9.525\\nTrailer_views: 454281\\nGenre: Comedy\\nNum_multiplex: 609\\n3D_available: YES'), Document(metadata={'source': './RAGFiles/Movie_collection_dataset.csv', 'row': 372}, page_content='Collection: 100000\\nMarketin_expense: 185.345\\nBudget: 32635.625\\nLead_ Actor_Rating: 9.435\\nLead_Actress_rating: 9.495\\nTrailer_views: 464886\\nGenre: Comedy\\nNum_multiplex: 645\\n3D_available: YES'), Document(metadata={'source': './RAGFiles/Movie_collection_dataset.csv', 'row': 373}, page_content='Collection: 27600\\nMarketin_expense: 242.162\\nBudget: 27252.83\\nLead_ Actor_Rating: 9.26\\nLead_Actress_rating: 9.505\\nTrailer_views: 237541\\nGenre: Comedy\\nNum_multiplex: 611\\n3D_available: YES'), Document(metadata={'source': './RAGFiles/Movie_collection_dataset.csv', 'row': 374}, page_content='Collection: 27600\\nMarketin_expense: 389.964\\nBudget: 22986.59\\nLead_ Actor_Rating: 9.27\\nLead_Actress_rating: 9.48\\nTrailer_views: 215432\\nGenre: Drama\\nNum_multiplex: 712\\n3D_available: NO'), Document(metadata={'source': './RAGFiles/Movie_collection_dataset.csv', 'row': 375}, page_content='Collection: 30000\\nMarketin_expense: 412.182\\nBudget: 40623.715\\nLead_ Actor_Rating: 9.19\\nLead_Actress_rating: 9.345\\nTrailer_views: 440970\\nGenre: Comedy\\nNum_multiplex: 625\\n3D_available: NO'), Document(metadata={'source': './RAGFiles/Movie_collection_dataset.csv', 'row': 376}, page_content='Collection: 27800\\nMarketin_expense: 325.76\\nBudget: 36935.195\\nLead_ Actor_Rating: 9.175\\nLead_Actress_rating: 9.445\\nTrailer_views: 362344\\nGenre: Comedy\\nNum_multiplex: 705\\n3D_available: YES'), Document(metadata={'source': './RAGFiles/Movie_collection_dataset.csv', 'row': 377}, page_content='Collection: 26600\\nMarketin_expense: 216.4698\\nBudget: 37740.67\\nLead_ Actor_Rating: 9.215\\nLead_Actress_rating: 9.465\\nTrailer_views: 349344\\nGenre: Comedy\\nNum_multiplex: 691\\n3D_available: YES'), Document(metadata={'source': './RAGFiles/Movie_collection_dataset.csv', 'row': 378}, page_content='Collection: 26200\\nMarketin_expense: 492.964\\nBudget: 35440.9\\nLead_ Actor_Rating: 9.24\\nLead_Actress_rating: 9.39\\nTrailer_views: 359760\\nGenre: Drama\\nNum_multiplex: 632\\n3D_available: YES'), Document(metadata={'source': './RAGFiles/Movie_collection_dataset.csv', 'row': 379}, page_content='Collection: 20400\\nMarketin_expense: 377.334\\nBudget: 34568.765\\nLead_ Actor_Rating: 9.26\\nLead_Actress_rating: 9.435\\nTrailer_views: 353650\\nGenre: Action\\nNum_multiplex: 581\\n3D_available: NO'), Document(metadata={'source': './RAGFiles/Movie_collection_dataset.csv', 'row': 380}, page_content='Collection: 20800\\nMarketin_expense: 1799.524\\nBudget: 38707.24\\nLead_ Actor_Rating: 9.17\\nLead_Actress_rating: 9.43\\nTrailer_views: 417588\\nGenre: Comedy\\nNum_multiplex: 666\\n3D_available: YES'), Document(metadata={'source': './RAGFiles/Movie_collection_dataset.csv', 'row': 381}, page_content='Collection: 21800\\nMarketin_expense: 337.488\\nBudget: 36357.475\\nLead_ Actor_Rating: 9.11\\nLead_Actress_rating: 9.35\\nTrailer_views: 382857\\nGenre: Action\\nNum_multiplex: 582\\n3D_available: NO'), Document(metadata={'source': './RAGFiles/Movie_collection_dataset.csv', 'row': 382}, page_content='Collection: 22600\\nMarketin_expense: 203.7404\\nBudget: 30752.48\\nLead_ Actor_Rating: 9.05\\nLead_Actress_rating: 9.225\\nTrailer_views: 362581\\nGenre: Thriller\\nNum_multiplex: 607\\n3D_available: YES'), Document(metadata={'source': './RAGFiles/Movie_collection_dataset.csv', 'row': 383}, page_content='Collection: 24600\\nMarketin_expense: 179.8496\\nBudget: 30663.6\\nLead_ Actor_Rating: 9.145\\nLead_Actress_rating: 9.335\\nTrailer_views: 339764\\nGenre: Drama\\nNum_multiplex: 702\\n3D_available: NO'), Document(metadata={'source': './RAGFiles/Movie_collection_dataset.csv', 'row': 384}, page_content='Collection: 17600\\nMarketin_expense: 421.698\\nBudget: 24264.24\\nLead_ Actor_Rating: 9.25\\nLead_Actress_rating: 9.33\\nTrailer_views: 269764\\nGenre: Thriller\\nNum_multiplex: 626\\n3D_available: NO'), Document(metadata={'source': './RAGFiles/Movie_collection_dataset.csv', 'row': 385}, page_content='Collection: 14400\\nMarketin_expense: 356.236\\nBudget: 29313.735\\nLead_ Actor_Rating: 9.27\\nLead_Actress_rating: 9.385\\nTrailer_views: 267965\\nGenre: Action\\nNum_multiplex: 600\\n3D_available: NO'), Document(metadata={'source': './RAGFiles/Movie_collection_dataset.csv', 'row': 386}, page_content='Collection: 21000\\nMarketin_expense: 507.876\\nBudget: 25841.86\\nLead_ Actor_Rating: 9.145\\nLead_Actress_rating: 9.32\\nTrailer_views: 291349\\nGenre: Thriller\\nNum_multiplex: 597\\n3D_available: YES'), Document(metadata={'source': './RAGFiles/Movie_collection_dataset.csv', 'row': 387}, page_content='Collection: 14800\\nMarketin_expense: 471.942\\nBudget: 27775\\nLead_ Actor_Rating: 9.105\\nLead_Actress_rating: 9.26\\nTrailer_views: 276179\\nGenre: Action\\nNum_multiplex: 617\\n3D_available: NO'), Document(metadata={'source': './RAGFiles/Movie_collection_dataset.csv', 'row': 388}, page_content='Collection: 20400\\nMarketin_expense: 306.674\\nBudget: 27108.4\\nLead_ Actor_Rating: 9.115\\nLead_Actress_rating: 9.315\\nTrailer_views: 278464\\nGenre: Drama\\nNum_multiplex: 711\\n3D_available: NO'), Document(metadata={'source': './RAGFiles/Movie_collection_dataset.csv', 'row': 389}, page_content='Collection: 23000\\nMarketin_expense: 183.0348\\nBudget: 29941.45\\nLead_ Actor_Rating: 9\\nLead_Actress_rating: 9.25\\nTrailer_views: 369811\\nGenre: Action\\nNum_multiplex: 616\\n3D_available: NO'), Document(metadata={'source': './RAGFiles/Movie_collection_dataset.csv', 'row': 390}, page_content='Collection: 30200\\nMarketin_expense: 159.243\\nBudget: 31735.715\\nLead_ Actor_Rating: 8.9\\nLead_Actress_rating: 9.145\\nTrailer_views: 416162\\nGenre: Thriller\\nNum_multiplex: 711\\n3D_available: YES'), Document(metadata={'source': './RAGFiles/Movie_collection_dataset.csv', 'row': 391}, page_content='Collection: 46400\\nMarketin_expense: 125.861\\nBudget: 33613.305\\nLead_ Actor_Rating: 8.915\\nLead_Actress_rating: 9.045\\nTrailer_views: 412194\\nGenre: Thriller\\nNum_multiplex: 619\\n3D_available: YES'), Document(metadata={'source': './RAGFiles/Movie_collection_dataset.csv', 'row': 392}, page_content='Collection: 19400\\nMarketin_expense: 251.558\\nBudget: 27974.98\\nLead_ Actor_Rating: 9.01\\nLead_Actress_rating: 9.125\\nTrailer_views: 317358\\nGenre: Comedy\\nNum_multiplex: 686\\n3D_available: NO'), Document(metadata={'source': './RAGFiles/Movie_collection_dataset.csv', 'row': 393}, page_content='Collection: 27600\\nMarketin_expense: 192.8952\\nBudget: 34402.115\\nLead_ Actor_Rating: 9.055\\nLead_Actress_rating: 9.17\\nTrailer_views: 437541\\nGenre: Thriller\\nNum_multiplex: 628\\n3D_available: NO'), Document(metadata={'source': './RAGFiles/Movie_collection_dataset.csv', 'row': 394}, page_content='Collection: 25400\\nMarketin_expense: 287.196\\nBudget: 32702.285\\nLead_ Actor_Rating: 9.005\\nLead_Actress_rating: 9.23\\nTrailer_views: 420044\\nGenre: Comedy\\nNum_multiplex: 654\\n3D_available: NO'), Document(metadata={'source': './RAGFiles/Movie_collection_dataset.csv', 'row': 395}, page_content='Collection: 26200\\nMarketin_expense: 194.335\\nBudget: 35946.405\\nLead_ Actor_Rating: 8.98\\nLead_Actress_rating: 9.26\\nTrailer_views: 424127\\nGenre: Action\\nNum_multiplex: 712\\n3D_available: NO'), Document(metadata={'source': './RAGFiles/Movie_collection_dataset.csv', 'row': 396}, page_content='Collection: 25000\\nMarketin_expense: 137.441\\nBudget: 35579.775\\nLead_ Actor_Rating: 9.115\\nLead_Actress_rating: 9.18\\nTrailer_views: 390048\\nGenre: Thriller\\nNum_multiplex: 685\\n3D_available: YES'), Document(metadata={'source': './RAGFiles/Movie_collection_dataset.csv', 'row': 397}, page_content='Collection: 17000\\nMarketin_expense: 173.4404\\nBudget: 31924.585\\nLead_ Actor_Rating: 9.135\\nLead_Actress_rating: 9.23\\nTrailer_views: 384688\\nGenre: Comedy\\nNum_multiplex: 663\\n3D_available: NO'), Document(metadata={'source': './RAGFiles/Movie_collection_dataset.csv', 'row': 398}, page_content='Collection: 10000\\nMarketin_expense: 787.036\\nBudget: 30291.415\\nLead_ Actor_Rating: 9.215\\nLead_Actress_rating: 9.37\\nTrailer_views: 291101\\nGenre: Drama\\nNum_multiplex: 653\\n3D_available: NO'), Document(metadata={'source': './RAGFiles/Movie_collection_dataset.csv', 'row': 399}, page_content='Collection: 12600\\nMarketin_expense: 218.331\\nBudget: 32507.86\\nLead_ Actor_Rating: 9.15\\nLead_Actress_rating: 9.38\\nTrailer_views: 270691\\nGenre: Thriller\\nNum_multiplex: 613\\n3D_available: NO')]\n"
     ]
    }
   ],
   "source": [
    "print(data)"
   ]
  },
  {
   "cell_type": "code",
   "execution_count": 26,
   "id": "3a932b0b-a17c-45b4-8932-84cb4b113c19",
   "metadata": {},
   "outputs": [],
   "source": [
    "loader = CSVLoader(file_path='./RAGFiles/Movie_collection_dataset.csv', csv_args={\n",
    "    'delimiter': ',',\n",
    "    'quotechar': '\"',\n",
    "    'fieldnames': ['Genre', 'Budget', 'Actor_rating']\n",
    "})\n",
    "\n",
    "data = loader.load()"
   ]
  },
  {
   "cell_type": "markdown",
   "id": "0dd1ad9d-790e-4251-bdf9-40f11de8fce6",
   "metadata": {},
   "source": [
    "### Splitting the document - Chunking"
   ]
  },
  {
   "cell_type": "markdown",
   "id": "182581d5-82b0-4b6f-9406-35a7a586f337",
   "metadata": {},
   "source": [
    "#### Recursively split by character"
   ]
  },
  {
   "cell_type": "code",
   "execution_count": null,
   "id": "aa7ecc60-68cd-4515-8a9e-117a1b50c0b6",
   "metadata": {},
   "outputs": [],
   "source": [
    "!uv pip install langchain-text-splitters"
   ]
  },
  {
   "cell_type": "code",
   "execution_count": 30,
   "id": "ccd2ce9d-4171-41bc-9367-eb0e3d0318f1",
   "metadata": {},
   "outputs": [],
   "source": [
    "from langchain_community.document_loaders import TextLoader\n",
    "\n",
    "loader = TextLoader(\"./RAGFiles/LangchainRetrieval.txt\")\n",
    "text = loader.load()"
   ]
  },
  {
   "cell_type": "code",
   "execution_count": 31,
   "id": "c25ce210-172b-46bb-9c48-1c0b19effaa2",
   "metadata": {
    "scrolled": true
   },
   "outputs": [
    {
     "data": {
      "text/plain": [
       "[Document(metadata={'source': './RAGFiles/LangchainRetrieval.txt'}, page_content=\"Retrieval\\nMany LLM applications require user-specific data that is not part of the model's training set. The primary way of accomplishing this is through Retrieval Augmented Generation (RAG). In this process, external data is retrieved and then passed to the LLM when doing the generation step.\\n\\nLangChain provides all the building blocks for RAG applications - from simple to complex. This section of the documentation covers everything related to the retrieval step - e.g. the fetching of the data. Although this sounds simple, it can be subtly complex. This encompasses several key modules.\\n\\nIllustrative diagram showing the data connection process with steps: Source, Load, Transform, Embed, Store, and Retrieve.\\n\\nDocument loaders\\nDocument loaders load documents from many different sources. LangChain provides over 100 different document loaders as well as integrations with other major providers in the space, like AirByte and Unstructured. LangChain provides integrations to load all types of documents (HTML, PDF, code) from all types of locations (private S3 buckets, public websites).\\n\\nText Splitting\\nA key part of retrieval is fetching only the relevant parts of documents. This involves several transformation steps to prepare the documents for retrieval. One of the primary ones here is splitting (or chunking) a large document into smaller chunks. LangChain provides several transformation algorithms for doing this, as well as logic optimized for specific document types (code, markdown, etc).\\n\\nText embedding models\\nAnother key part of retrieval is creating embeddings for documents. Embeddings capture the semantic meaning of the text, allowing you to quickly and efficiently find other pieces of a text that are similar. LangChain provides integrations with over 25 different embedding providers and methods, from open-source to proprietary API, allowing you to choose the one best suited for your needs. LangChain provides a standard interface, allowing you to easily swap between models.\\n\\nVector stores\\nWith the rise of embeddings, there has emerged a need for databases to support efficient storage and searching of these embeddings. LangChain provides integrations with over 50 different vectorstores, from open-source local ones to cloud-hosted proprietary ones, allowing you to choose the one best suited for your needs. LangChain exposes a standard interface, allowing you to easily swap between vector stores.\\n\\nRetrievers\\nOnce the data is in the database, you still need to retrieve it. LangChain supports many different retrieval algorithms and is one of the places where we add the most value. LangChain supports basic methods that are easy to get started - namely simple semantic search. However, we have also added a collection of algorithms on top of this to increase performance. These include:\\n\\nParent Document Retriever: This allows you to create multiple embeddings per parent document, allowing you to look up smaller chunks but return larger context.\\nSelf Query Retriever: User questions often contain a reference to something that isn't just semantic but rather expresses some logic that can best be represented as a metadata filter. Self-query allows you to parse out the semantic part of a query from other metadata filters present in the query.\\nEnsemble Retriever: Sometimes you may want to retrieve documents from multiple different sources, or using multiple different algorithms. The ensemble retriever allows you to easily do this.\\nAnd more!\\nIndexing\\nThe LangChain Indexing API syncs your data from any source into a vector store, helping you:\\n\\nAvoid writing duplicated content into the vector store\\nAvoid re-writing unchanged content\\nAvoid re-computing embeddings over unchanged content\\nAll of which should save you time and money, as well as improve your vector search results.\")]"
      ]
     },
     "execution_count": 31,
     "metadata": {},
     "output_type": "execute_result"
    }
   ],
   "source": [
    "text"
   ]
  },
  {
   "cell_type": "markdown",
   "id": "34251b38-4371-4db8-8143-1a49bda78ff3",
   "metadata": {},
   "source": [
    "**Now lets try to splot this document into parts for easy management**"
   ]
  },
  {
   "cell_type": "code",
   "execution_count": 32,
   "id": "59acd628-eac9-4e52-a58a-592b35042d93",
   "metadata": {},
   "outputs": [],
   "source": [
    "from langchain_text_splitters import RecursiveCharacterTextSplitter\n",
    "\n",
    "text_splitter = RecursiveCharacterTextSplitter(\n",
    "    chunk_size=200,\n",
    "    chunk_overlap=20,\n",
    "    length_function=len,\n",
    ")"
   ]
  },
  {
   "cell_type": "code",
   "execution_count": 33,
   "id": "e409f225-180a-48fa-baca-51e459d008fa",
   "metadata": {},
   "outputs": [
    {
     "name": "stdout",
     "output_type": "stream",
     "text": [
      "page_content='Retrieval' metadata={'source': './RAGFiles/LangchainRetrieval.txt'}\n",
      "page_content='Many LLM applications require user-specific data that is not part of the model's training set. The primary way of accomplishing this is through Retrieval Augmented Generation (RAG). In this process,' metadata={'source': './RAGFiles/LangchainRetrieval.txt'}\n",
      "page_content='In this process, external data is retrieved and then passed to the LLM when doing the generation step.' metadata={'source': './RAGFiles/LangchainRetrieval.txt'}\n"
     ]
    }
   ],
   "source": [
    "texts = text_splitter.split_documents(text)\n",
    "print(texts[0])\n",
    "print(texts[1])\n",
    "print(texts[2])"
   ]
  },
  {
   "cell_type": "markdown",
   "id": "aa436b24-013d-4667-ac7f-adbc8c928039",
   "metadata": {},
   "source": [
    "### Embedding"
   ]
  },
  {
   "cell_type": "markdown",
   "id": "e4ae1826-1327-4752-a129-e451656a88a5",
   "metadata": {},
   "source": [
    "#### Embedding\n",
    "We are going to use Ollama `all-minilm` embedding model for embedding the documents"
   ]
  },
  {
   "cell_type": "code",
   "execution_count": null,
   "id": "9fdd15aa-dd99-4d99-9e42-1e52e6f4786b",
   "metadata": {},
   "outputs": [],
   "source": [
    "!uv pip install -U langchain-ollama"
   ]
  },
  {
   "cell_type": "code",
   "execution_count": 2,
   "id": "04268061-4c5c-463c-a56d-9bb39844b80a",
   "metadata": {},
   "outputs": [],
   "source": [
    "from langchain_ollama.embeddings import OllamaEmbeddings\n",
    "embeddings_model = OllamaEmbeddings(model=\"all-minilm\", base_url = 'http://localhost:11434',)"
   ]
  },
  {
   "cell_type": "code",
   "execution_count": 6,
   "id": "f10b8c85-369e-4033-a476-0c9835369fe0",
   "metadata": {},
   "outputs": [
    {
     "data": {
      "text/plain": [
       "(4, 384)"
      ]
     },
     "execution_count": 6,
     "metadata": {},
     "output_type": "execute_result"
    }
   ],
   "source": [
    "# Lets try to generate embeddings for some sample texts\n",
    "embeddings = embeddings_model.embed_documents(\n",
    "    [\n",
    "        \"Hi\",\n",
    "        \"What's up!\",\n",
    "        \"Learning LangChain\",\n",
    "        \"You should learn it from Start-Tech Academy\"\n",
    "    ]\n",
    ")\n",
    "len(embeddings), len(embeddings[0])"
   ]
  },
  {
   "cell_type": "code",
   "execution_count": 7,
   "id": "be170b98-19ec-4539-9221-7598256e1320",
   "metadata": {
    "scrolled": true
   },
   "outputs": [
    {
     "data": {
      "text/plain": [
       "[-0.09052501,\n",
       " 0.04040882,\n",
       " 0.023812361,\n",
       " 0.05894962,\n",
       " -0.022979809,\n",
       " -0.047248665,\n",
       " 0.045013472,\n",
       " 0.015817596,\n",
       " -0.048258033,\n",
       " -0.037713077,\n",
       " -0.019081255,\n",
       " 0.021408616,\n",
       " -0.0047364486,\n",
       " -0.043372754,\n",
       " 0.06001875,\n",
       " 0.0591188,\n",
       " -0.027947573,\n",
       " -0.05916007,\n",
       " -0.12443087,\n",
       " -0.035721906,\n",
       " -0.006241241,\n",
       " 0.032463346,\n",
       " -0.037928227,\n",
       " 0.024765002,\n",
       " -0.04265622,\n",
       " -0.04248118,\n",
       " 0.04591171,\n",
       " 0.098640464,\n",
       " -0.050003096,\n",
       " -0.035199627,\n",
       " 0.07089405,\n",
       " 0.03303076,\n",
       " 0.02658049,\n",
       " 0.0002342745,\n",
       " 0.0037552768,\n",
       " 0.030471213,\n",
       " -0.078262694,\n",
       " -0.12030923,\n",
       " 0.018163208,\n",
       " 0.02267945,\n",
       " -0.0017624528,\n",
       " -0.023479862,\n",
       " 0.003023576,\n",
       " 0.024255471,\n",
       " 0.044092495,\n",
       " -0.039990067,\n",
       " 0.020245856,\n",
       " 0.01095916,\n",
       " 0.028747993,\n",
       " 0.012303512,\n",
       " -0.0913725,\n",
       " -0.06810243,\n",
       " 0.006091563,\n",
       " -0.012554665,\n",
       " 0.092805825,\n",
       " 0.027888702,\n",
       " -0.031197315,\n",
       " -0.025163416,\n",
       " 0.07829983,\n",
       " -0.073466815,\n",
       " -0.06698586,\n",
       " 0.01381016,\n",
       " -0.14288008,\n",
       " 0.008689508,\n",
       " 0.020703785,\n",
       " 0.0002464315,\n",
       " -0.059241712,\n",
       " -0.06532808,\n",
       " -0.03800207,\n",
       " -0.061940506,\n",
       " -0.0025277443,\n",
       " -0.0042134235,\n",
       " -0.041365765,\n",
       " -0.049543176,\n",
       " 0.022418357,\n",
       " -0.035754874,\n",
       " 0.040444154,\n",
       " 0.048881423,\n",
       " 0.052154083,\n",
       " 0.031629667,\n",
       " 0.030097231,\n",
       " -0.038053475,\n",
       " -0.016405385,\n",
       " -0.006772189,\n",
       " -0.008833204,\n",
       " -0.03807624,\n",
       " 0.023786921,\n",
       " -0.008509945,\n",
       " -0.05135335,\n",
       " 0.010329898,\n",
       " -0.10649022,\n",
       " 0.054020546,\n",
       " 0.030337105,\n",
       " -0.03541264,\n",
       " -0.07703052,\n",
       " -0.061175756,\n",
       " 0.07784923,\n",
       " 0.0011533262,\n",
       " -0.12365708,\n",
       " 0.27905995,\n",
       " 0.047980066,\n",
       " 0.052175336,\n",
       " 0.042225678,\n",
       " 0.102110885,\n",
       " -0.021267742,\n",
       " 0.053200316,\n",
       " -0.05268702,\n",
       " 0.077454716,\n",
       " -0.0059941825,\n",
       " 0.022263415,\n",
       " 0.025631428,\n",
       " -0.0016971099,\n",
       " -0.027851144,\n",
       " -0.019149473,\n",
       " 0.054949187,\n",
       " 0.07068431,\n",
       " -0.0033402706,\n",
       " 0.0074651684,\n",
       " 0.025861904,\n",
       " -0.07096162,\n",
       " -0.02475462,\n",
       " -0.053759515,\n",
       " 0.03369518,\n",
       " -0.044978574,\n",
       " -0.019805394,\n",
       " -0.024110166,\n",
       " 0.003077893,\n",
       " -4.4028178e-33,\n",
       " 0.071377985,\n",
       " -0.024730878,\n",
       " 0.04346983,\n",
       " 0.08483129,\n",
       " -0.046339102,\n",
       " -0.03412414,\n",
       " -0.02291,\n",
       " -0.05000306,\n",
       " 0.0020207993,\n",
       " 0.0052620936,\n",
       " 0.007856286,\n",
       " 0.0057683075,\n",
       " -0.04023921,\n",
       " -0.0023480633,\n",
       " -0.025770014,\n",
       " 0.03143897,\n",
       " 0.04922518,\n",
       " 0.05968353,\n",
       " 0.036276158,\n",
       " 0.03585214,\n",
       " -0.07941932,\n",
       " -0.03189114,\n",
       " 0.020409279,\n",
       " 0.05398653,\n",
       " 0.034084603,\n",
       " -0.026656214,\n",
       " 0.005066589,\n",
       " -0.1375737,\n",
       " 0.053663645,\n",
       " 0.06248124,\n",
       " 0.046549942,\n",
       " 0.008349552,\n",
       " -0.0010994376,\n",
       " 0.015910238,\n",
       " -0.014779931,\n",
       " -0.010539437,\n",
       " 0.013913772,\n",
       " -0.051059555,\n",
       " -0.051149584,\n",
       " 0.01814842,\n",
       " -0.02594968,\n",
       " 0.04099752,\n",
       " 0.061854918,\n",
       " -0.04086354,\n",
       " 0.02037917,\n",
       " 0.043348197,\n",
       " 0.015070411,\n",
       " 0.02214926,\n",
       " 0.0058856383,\n",
       " 0.03383953,\n",
       " -0.058265388,\n",
       " 0.004097619,\n",
       " -0.13896354,\n",
       " 0.004128924,\n",
       " -0.0055329446,\n",
       " -0.04342979,\n",
       " -0.0058599976,\n",
       " -0.074626304,\n",
       " 0.08355725,\n",
       " 0.04030116,\n",
       " 0.03137211,\n",
       " 0.0768579,\n",
       " -0.027487569,\n",
       " 0.018396793,\n",
       " -0.15343273,\n",
       " -0.034811925,\n",
       " 0.049462184,\n",
       " -0.034659132,\n",
       " 0.11443523,\n",
       " -0.020597143,\n",
       " -0.043837517,\n",
       " -0.012461992,\n",
       " 0.0076659727,\n",
       " 0.048251122,\n",
       " -0.035090495,\n",
       " 0.036823962,\n",
       " 0.061425574,\n",
       " 0.017028553,\n",
       " 0.019438319,\n",
       " -0.015067165,\n",
       " -0.0042611226,\n",
       " 0.04594973,\n",
       " -0.008321077,\n",
       " 0.015786504,\n",
       " 0.05948269,\n",
       " -0.009239783,\n",
       " -0.015025585,\n",
       " -0.067816205,\n",
       " -0.07335025,\n",
       " -0.03967268,\n",
       " -0.07602945,\n",
       " 0.022760691,\n",
       " 0.08006823,\n",
       " -0.021876441,\n",
       " 0.016865576,\n",
       " 3.857697e-33,\n",
       " 0.096426174,\n",
       " 0.06165424,\n",
       " -0.057908412,\n",
       " -0.014142125,\n",
       " -0.018891672,\n",
       " -0.014215459,\n",
       " -0.0023698325,\n",
       " 0.0897637,\n",
       " -0.083749294,\n",
       " -0.022719238,\n",
       " 0.068329096,\n",
       " -0.030256465,\n",
       " 0.06807011,\n",
       " 0.017399902,\n",
       " 0.044845045,\n",
       " 0.025788648,\n",
       " 0.0922214,\n",
       " 0.04748705,\n",
       " -0.07283755,\n",
       " 0.004135955,\n",
       " -0.032681365,\n",
       " -0.034244478,\n",
       " -0.09298296,\n",
       " -0.062306408,\n",
       " -0.007891933,\n",
       " 0.0049512414,\n",
       " 0.015243618,\n",
       " 0.06861512,\n",
       " -0.059417114,\n",
       " -0.026012763,\n",
       " 0.07015065,\n",
       " -0.009730799,\n",
       " 0.0115129715,\n",
       " 0.052148174,\n",
       " 0.001709496,\n",
       " 0.104155295,\n",
       " 0.01219829,\n",
       " -0.07347222,\n",
       " 0.03349116,\n",
       " -0.09790036,\n",
       " -0.045830067,\n",
       " 0.027920296,\n",
       " -0.019850409,\n",
       " 0.09237523,\n",
       " -0.0122871,\n",
       " -0.039869763,\n",
       " 0.0050358945,\n",
       " 0.041358307,\n",
       " -0.08409327,\n",
       " 0.010115142,\n",
       " -0.08322097,\n",
       " -0.028193923,\n",
       " 0.042390864,\n",
       " 0.0040514283,\n",
       " -0.04561891,\n",
       " 0.054426048,\n",
       " 0.012996227,\n",
       " 0.059331127,\n",
       " 0.031611957,\n",
       " 0.013325137,\n",
       " 0.0134500945,\n",
       " 0.05416154,\n",
       " 0.008309985,\n",
       " 0.08840863,\n",
       " 0.024812702,\n",
       " 0.03483985,\n",
       " -0.015817953,\n",
       " -0.009314047,\n",
       " -0.030416919,\n",
       " -0.05375066,\n",
       " 0.042594768,\n",
       " -0.0094995,\n",
       " 0.035369627,\n",
       " 0.02612417,\n",
       " -0.016049761,\n",
       " -0.022844179,\n",
       " 0.011302639,\n",
       " 0.034830034,\n",
       " -2.1337373e-06,\n",
       " 0.061500218,\n",
       " 0.02605429,\n",
       " -0.003479302,\n",
       " -0.026837438,\n",
       " 0.043669365,\n",
       " 0.01971508,\n",
       " 0.014077213,\n",
       " 0.041310612,\n",
       " 0.031229503,\n",
       " -0.0029578847,\n",
       " -0.055898223,\n",
       " 0.00788183,\n",
       " 0.07965249,\n",
       " 0.07016079,\n",
       " -0.05317727,\n",
       " 0.008714746,\n",
       " -1.4477157e-08,\n",
       " 0.030021222,\n",
       " -0.037350208,\n",
       " 0.063587,\n",
       " 0.09192499,\n",
       " 0.053503137,\n",
       " 0.0586901,\n",
       " -0.029198337,\n",
       " -0.014481318,\n",
       " -0.03186319,\n",
       " 0.04160964,\n",
       " 0.055982802,\n",
       " 0.03474418,\n",
       " -0.038865507,\n",
       " -0.052551813,\n",
       " 0.053621285,\n",
       " -0.023047868,\n",
       " -0.029588966,\n",
       " 0.04339246,\n",
       " -0.057153106,\n",
       " -0.13768204,\n",
       " 0.036725327,\n",
       " 0.025174227,\n",
       " 0.0023033852,\n",
       " -0.03224571,\n",
       " 0.007008453,\n",
       " -0.06353646,\n",
       " -0.03562694,\n",
       " -0.0017621266,\n",
       " 0.011615927,\n",
       " -0.061486166,\n",
       " -0.013392706,\n",
       " 0.18384966,\n",
       " -0.0076860334,\n",
       " -0.015760688,\n",
       " 0.02967247,\n",
       " -0.022259507,\n",
       " -0.009826823,\n",
       " -0.011969232,\n",
       " 0.062287953,\n",
       " -0.02505318,\n",
       " -0.0420569,\n",
       " -0.05631584,\n",
       " -0.041385192,\n",
       " -0.032406047,\n",
       " -0.015762322,\n",
       " 0.0464202,\n",
       " 0.0010696547,\n",
       " -0.054248217,\n",
       " 0.036491215,\n",
       " -0.06634223,\n",
       " -0.04339888,\n",
       " -0.0228895,\n",
       " 0.054851,\n",
       " 0.073133476,\n",
       " 0.029914828,\n",
       " 0.06170934,\n",
       " 0.016306048,\n",
       " 0.012287405,\n",
       " -0.0054654153,\n",
       " -0.008560103,\n",
       " 0.15087259,\n",
       " 0.06801701,\n",
       " 0.017895194,\n",
       " 0.011383186]"
      ]
     },
     "execution_count": 7,
     "metadata": {},
     "output_type": "execute_result"
    }
   ],
   "source": [
    "# ANd this is how an embedidng vector looks\n",
    "embeddings[0]"
   ]
  },
  {
   "cell_type": "code",
   "execution_count": 9,
   "id": "5e9a3407-ac17-4446-be0d-8de82fd6a2ae",
   "metadata": {},
   "outputs": [
    {
     "data": {
      "text/plain": [
       "[-0.08780007, 0.123271614, -0.01809491, 0.07764353, -0.0016213083]"
      ]
     },
     "execution_count": 9,
     "metadata": {},
     "output_type": "execute_result"
    }
   ],
   "source": [
    "# More smaple\n",
    "embedded_query = embeddings_model.embed_query(\"What was the name mentioned in the conversation?\")\n",
    "embedded_query[:5]"
   ]
  },
  {
   "cell_type": "markdown",
   "id": "7b1850b6-fa9f-4ff3-b11d-7690a06c981b",
   "metadata": {},
   "source": [
    "### Vector Storage"
   ]
  },
  {
   "cell_type": "markdown",
   "id": "824ec9b1-ea77-4470-b7ad-9f879fe30f5f",
   "metadata": {},
   "source": [
    "#### Chroma\n",
    "We will use chroma DB to store the embeddings"
   ]
  },
  {
   "cell_type": "code",
   "execution_count": null,
   "id": "7222c1a0-00bb-4205-8846-eb21d2d2dfd3",
   "metadata": {},
   "outputs": [],
   "source": [
    "!uv pip install langchain-chroma"
   ]
  },
  {
   "cell_type": "code",
   "execution_count": 14,
   "id": "09b089e5-4e32-454a-bdf6-11de44a84997",
   "metadata": {},
   "outputs": [
    {
     "name": "stderr",
     "output_type": "stream",
     "text": [
      "Created a chunk of size 760, which is longer than the specified 500\n"
     ]
    }
   ],
   "source": [
    "from langchain_community.document_loaders import TextLoader\n",
    "from langchain_text_splitters import CharacterTextSplitter\n",
    "from langchain_chroma import Chroma\n",
    "\n",
    "# Load the document, split it into chunks, embed each chunk and load it into the vector store.\n",
    "raw_documents = TextLoader(\"./RAGFiles/LangchainRetrieval.txt\").load()\n",
    "text_splitter = CharacterTextSplitter(chunk_size=500, chunk_overlap=20)\n",
    "documents = text_splitter.split_documents(raw_documents)\n",
    "db = Chroma.from_documents(documents, embeddings_model)"
   ]
  },
  {
   "cell_type": "markdown",
   "id": "05cc1a33-4769-42b4-8349-90637eda9474",
   "metadata": {},
   "source": [
    "**Let us see if documents search is working in vector DB**"
   ]
  },
  {
   "cell_type": "code",
   "execution_count": 16,
   "id": "39d13428-7e14-406e-8687-bea9f1db4c30",
   "metadata": {},
   "outputs": [
    {
     "name": "stdout",
     "output_type": "stream",
     "text": [
      "Document loaders\n",
      "Document loaders load documents from many different sources. LangChain provides over 100 different document loaders as well as integrations with other major providers in the space, like AirByte and Unstructured. LangChain provides integrations to load all types of documents (HTML, PDF, code) from all types of locations (private S3 buckets, public websites).\n"
     ]
    }
   ],
   "source": [
    "query = \"What is text embedding and how does langchain help in doing it\"\n",
    "docs = db.similarity_search(query)\n",
    "print(docs[1].page_content)"
   ]
  },
  {
   "cell_type": "markdown",
   "id": "5b158d59-64eb-4f6e-a50b-01c52e9b6306",
   "metadata": {},
   "source": [
    "**If the query is already embedded, we can simply get vector search**"
   ]
  },
  {
   "cell_type": "code",
   "execution_count": 20,
   "id": "f26fd860-5217-4a26-8c22-c47a85366119",
   "metadata": {},
   "outputs": [
    {
     "name": "stdout",
     "output_type": "stream",
     "text": [
      "Text embedding models\n",
      "Another key part of retrieval is creating embeddings for documents. Embeddings capture the semantic meaning of the text, allowing you to quickly and efficiently find other pieces of a text that are similar. LangChain provides integrations with over 25 different embedding providers and methods, from open-source to proprietary API, allowing you to choose the one best suited for your needs. LangChain provides a standard interface, allowing you to easily swap between models.\n"
     ]
    }
   ],
   "source": [
    "embedding_vector = embeddings_model.embed_query(query)\n",
    "docs = db.similarity_search_by_vector(embedding_vector)\n",
    "print(docs[0].page_content)"
   ]
  },
  {
   "cell_type": "markdown",
   "id": "4f803e3b-fe59-4e89-b95e-f48c2ede6396",
   "metadata": {},
   "source": [
    "## Retrievers\n",
    "Retrievers are combination of Embedding and Vector DB to facilitate document retriever"
   ]
  },
  {
   "cell_type": "code",
   "execution_count": 23,
   "id": "1797ceb1-ae6e-4e0a-ad01-211883f65fb9",
   "metadata": {},
   "outputs": [],
   "source": [
    "from langchain_community.document_loaders import TextLoader\n",
    "from langchain_text_splitters import RecursiveCharacterTextSplitter\n",
    "from langchain_chroma import Chroma\n",
    "\n",
    "# Load the document, split it into chunks, embed each chunk and load it into the vector store.\n",
    "raw_documents = TextLoader(\"./RAGFiles/LangchainRetrieval.txt\").load()\n",
    "text_splitter = RecursiveCharacterTextSplitter(chunk_size=300, chunk_overlap=20)\n",
    "documents = text_splitter.split_documents(raw_documents)\n",
    "db = Chroma.from_documents(documents, embeddings_model)"
   ]
  },
  {
   "cell_type": "code",
   "execution_count": 24,
   "id": "3d0ceddb-5e0d-427b-a253-cbc84d2b3636",
   "metadata": {},
   "outputs": [],
   "source": [
    "retriever = db.as_retriever()"
   ]
  },
  {
   "cell_type": "code",
   "execution_count": 25,
   "id": "ff7e8121-9b70-415f-ab25-832dc6f8556c",
   "metadata": {},
   "outputs": [],
   "source": [
    "# And like langchain runnables, we can invoke Retriever\n",
    "docs = retriever.invoke(\"What is text embedding and how does langchain help in doing it\")"
   ]
  },
  {
   "cell_type": "code",
   "execution_count": 26,
   "id": "097e8db3-dd52-4488-a41b-631e46adf4bf",
   "metadata": {},
   "outputs": [
    {
     "data": {
      "text/plain": [
       "4"
      ]
     },
     "execution_count": 26,
     "metadata": {},
     "output_type": "execute_result"
    }
   ],
   "source": [
    "len(docs)"
   ]
  },
  {
   "cell_type": "markdown",
   "id": "d1546c60-ce18-42be-af3c-56e4b423d006",
   "metadata": {},
   "source": [
    "### Final RAG"
   ]
  },
  {
   "cell_type": "code",
   "execution_count": 29,
   "id": "45b15797-c60b-44a3-9df9-5501de95695b",
   "metadata": {},
   "outputs": [
    {
     "data": {
      "text/plain": [
       "\"Text embedding refers to capturing the semantic meaning of a piece of text using an algorithm or model that identifies and quantifies the relationships between words. It allows for the quick identification and retrieval of similar texts, making it useful for summarization, document classification, and other natural language processing tasks.\\n\\nLangChain helps in doing this by providing integrations with various embedding providers, such as OpenAI's Autoencoders, Google Cloud's AutoML, and many others from Amazon Web Services (AWS) and Microsoft Azure. These integrations allow users to load and apply the models to their data, enabling them to quickly find similar documents.\""
      ]
     },
     "execution_count": 29,
     "metadata": {},
     "output_type": "execute_result"
    }
   ],
   "source": [
    "# This is final RAG which combines all elements together in a chain\n",
    "from langchain_ollama.chat_models import ChatOllama\n",
    "from langchain_core.prompts import ChatPromptTemplate\n",
    "from langchain_core.output_parsers import StrOutputParser\n",
    "from langchain_core.runnables import RunnablePassthrough\n",
    "\n",
    "template = \"\"\"Answer the question based only on the following context:\n",
    "\n",
    "{context}\n",
    "\n",
    "Question: {question}\n",
    "\"\"\"\n",
    "prompt = ChatPromptTemplate.from_template(template)\n",
    "llm = ChatOllama(\n",
    "    base_url = 'http://localhost:11434',\n",
    "    model = 'qwen2.5:0.5b'\n",
    ")\n",
    "\n",
    "\n",
    "def format_docs(docs):\n",
    "    return \"\\n\\n\".join([d.page_content for d in docs])\n",
    "\n",
    "\n",
    "chain = (\n",
    "    {\"context\": retriever | format_docs, \"question\": RunnablePassthrough()}\n",
    "    | prompt\n",
    "    | llm\n",
    "    | StrOutputParser()\n",
    ")\n",
    "\n",
    "chain.invoke(\"What is text embedding and how does langchain help in doing it\")\n"
   ]
  }
 ],
 "metadata": {
  "kernelspec": {
   "display_name": "Python 3 (ipykernel)",
   "language": "python",
   "name": "python3"
  },
  "language_info": {
   "codemirror_mode": {
    "name": "ipython",
    "version": 3
   },
   "file_extension": ".py",
   "mimetype": "text/x-python",
   "name": "python",
   "nbconvert_exporter": "python",
   "pygments_lexer": "ipython3",
   "version": "3.12.9"
  }
 },
 "nbformat": 4,
 "nbformat_minor": 5
}
