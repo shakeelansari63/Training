{
 "cells": [
  {
   "cell_type": "markdown",
   "id": "264d38cf-0f5c-4072-b8fa-ab0bb0f4a758",
   "metadata": {},
   "source": [
    "# 1D Tensor"
   ]
  },
  {
   "cell_type": "code",
   "execution_count": null,
   "id": "2254365d-f64f-4900-9b8b-5c9ccc5ae196",
   "metadata": {},
   "outputs": [],
   "source": [
    "!pip install torch torchvision"
   ]
  },
  {
   "cell_type": "markdown",
   "id": "19882bc2-6cf7-4617-8e0a-c7a8f05efce1",
   "metadata": {},
   "source": [
    "## Preparation"
   ]
  },
  {
   "cell_type": "code",
   "execution_count": 3,
   "id": "b55e66c8-1a93-4d0c-b2fb-bbc9493ebf14",
   "metadata": {},
   "outputs": [],
   "source": [
    "# These are the libraries will be used for this lab.\n",
    "\n",
    "import torch \n",
    "import numpy as np \n",
    "import pandas as pd\n",
    "\n",
    "import matplotlib.pyplot as plt\n",
    "%matplotlib inline  "
   ]
  },
  {
   "cell_type": "markdown",
   "id": "e9fdad5c-aa3d-4b78-a927-d77f6ad03104",
   "metadata": {},
   "source": [
    "Check PyTorch version:\n"
   ]
  },
  {
   "cell_type": "code",
   "execution_count": 4,
   "id": "c2caf367-d8a9-40ca-b450-185eeac7ed45",
   "metadata": {
    "tags": []
   },
   "outputs": [
    {
     "data": {
      "text/plain": [
       "'2.5.1+cu124'"
      ]
     },
     "execution_count": 4,
     "metadata": {},
     "output_type": "execute_result"
    }
   ],
   "source": [
    "torch.__version__"
   ]
  },
  {
   "cell_type": "markdown",
   "id": "ffa93adc-1e0b-4716-9a7b-73b7330ca99a",
   "metadata": {},
   "source": [
    "This is the function for plotting diagrams. You will use this function to plot the vectors in Coordinate system.\n"
   ]
  },
  {
   "cell_type": "code",
   "execution_count": 5,
   "id": "e6bd003b-0c21-4725-9b24-ee7ae3d5119a",
   "metadata": {
    "tags": []
   },
   "outputs": [],
   "source": [
    "# Plot vecotrs, please keep the parameters in the same length\n",
    "# @param: Vectors = [{\"vector\": vector variable, \"name\": name of vector, \"color\": color of the vector on diagram}]\n",
    "    \n",
    "def plotVec(vectors):\n",
    "    ax = plt.axes()\n",
    "    \n",
    "    # For loop to draw the vectors\n",
    "    for vec in vectors:\n",
    "        ax.arrow(0, 0, *vec[\"vector\"], head_width = 0.05,color = vec[\"color\"], head_length = 0.1)\n",
    "        plt.text(*(vec[\"vector\"] + 0.1), vec[\"name\"])\n",
    "    \n",
    "    plt.ylim(-2,2)\n",
    "    plt.xlim(-2,2)"
   ]
  },
  {
   "cell_type": "markdown",
   "id": "c84e8e52-dae1-4735-81fa-b6ada10cabab",
   "metadata": {},
   "source": [
    "<!--Empty Space for separating topics-->\n"
   ]
  },
  {
   "cell_type": "markdown",
   "id": "2b7ac946-e5cc-45cc-8392-b5e1c2180259",
   "metadata": {},
   "source": [
    "<h2 id=\"Types_Shape\">Types and Shape</h2>\n"
   ]
  },
  {
   "cell_type": "markdown",
   "id": "3f97b879-36ed-408b-82f0-d293b05dedb3",
   "metadata": {},
   "source": [
    "You can find the type of the following list of integers <i>[0, 1, 2, 3, 4]</i> by applying the constructor <code>torch.tensor()</code>:\n"
   ]
  },
  {
   "cell_type": "code",
   "execution_count": 6,
   "id": "52624eb4-6f11-4f74-9f35-d38ef758b2ef",
   "metadata": {
    "tags": []
   },
   "outputs": [
    {
     "name": "stdout",
     "output_type": "stream",
     "text": [
      "The dtype of tensor object after converting it to tensor:  torch.int64\n",
      "The type of tensor object after converting it to tensor:  torch.LongTensor\n"
     ]
    }
   ],
   "source": [
    "# Convert a integer list with length 5 to a tensor\n",
    "\n",
    "ints_to_tensor = torch.tensor([0, 1, 2, 3, 4])\n",
    "print(\"The dtype of tensor object after converting it to tensor: \", ints_to_tensor.dtype)\n",
    "print(\"The type of tensor object after converting it to tensor: \", ints_to_tensor.type())"
   ]
  },
  {
   "cell_type": "markdown",
   "id": "05ca53c7-e439-447b-a15c-f44b4b00d2b8",
   "metadata": {},
   "source": [
    "As a result, the integer list has been converted to a long tensor.\n"
   ]
  },
  {
   "cell_type": "markdown",
   "id": "fb9d7905-d273-43dc-8e9b-7ca96c1f0338",
   "metadata": {},
   "source": [
    "The Python type is still <code>torch.Tensor</code>:\n"
   ]
  },
  {
   "cell_type": "code",
   "execution_count": 7,
   "id": "d10c4e1f-5287-426c-ae1c-2fec7241f8e3",
   "metadata": {
    "tags": []
   },
   "outputs": [
    {
     "data": {
      "text/plain": [
       "torch.Tensor"
      ]
     },
     "execution_count": 7,
     "metadata": {},
     "output_type": "execute_result"
    }
   ],
   "source": [
    "type(ints_to_tensor)"
   ]
  },
  {
   "cell_type": "markdown",
   "id": "ae3d8cd5-6e13-4779-896d-9b0690f1d037",
   "metadata": {},
   "source": [
    "<!--Empty Space for separate topics-->\n"
   ]
  },
  {
   "cell_type": "markdown",
   "id": "36d444be-d7bc-4d08-86a5-7aa9430a7e49",
   "metadata": {},
   "source": [
    "You can find the type of this float list <i>[0.0, 1.0, 2.0, 3.0, 4.0]</i> by applying the method <code>torch.tensor()</code>:\n"
   ]
  },
  {
   "cell_type": "code",
   "execution_count": 8,
   "id": "301e30c9-af5a-4dfb-b5e0-59e2fc4c2687",
   "metadata": {
    "tags": []
   },
   "outputs": [
    {
     "name": "stdout",
     "output_type": "stream",
     "text": [
      "The dtype of tensor object after converting it to tensor:  torch.float32\n",
      "The type of tensor object after converting it to tensor:  torch.FloatTensor\n"
     ]
    }
   ],
   "source": [
    "# Convert a float list with length 5 to a tensor\n",
    "\n",
    "floats_to_tensor = torch.tensor([0.0, 1.0, 2.0, 3.0, 4.0])\n",
    "print(\"The dtype of tensor object after converting it to tensor: \", floats_to_tensor.dtype)\n",
    "print(\"The type of tensor object after converting it to tensor: \", floats_to_tensor.type())"
   ]
  },
  {
   "cell_type": "markdown",
   "id": "2916d3d5-657e-47ed-b621-3294c049d493",
   "metadata": {},
   "source": [
    "The float list is converted to a float tensor.\n"
   ]
  },
  {
   "cell_type": "code",
   "execution_count": 9,
   "id": "6c19e0a2-b8be-4986-a78c-45697a379374",
   "metadata": {
    "tags": []
   },
   "outputs": [
    {
     "name": "stderr",
     "output_type": "stream",
     "text": [
      "/tmp/ipykernel_314297/4127359589.py:3: DeprecationWarning: an integer is required (got type float).  Implicit conversion to integers using __int__ is deprecated, and may be removed in a future version of Python.\n",
      "  floats_int_tensor=torch.tensor(list_floats,dtype=torch.int64)\n"
     ]
    }
   ],
   "source": [
    "list_floats=[0.0, 1.0, 2.0, 3.0, 4.0]\n",
    "\n",
    "floats_int_tensor=torch.tensor(list_floats,dtype=torch.int64)"
   ]
  },
  {
   "cell_type": "code",
   "execution_count": 10,
   "id": "1d14fdae-e634-4dcc-971b-f41431579e73",
   "metadata": {
    "tags": []
   },
   "outputs": [
    {
     "name": "stdout",
     "output_type": "stream",
     "text": [
      "The dtype of tensor object is:  torch.int64\n",
      "The type of tensor object is:  torch.LongTensor\n"
     ]
    }
   ],
   "source": [
    "print(\"The dtype of tensor object is: \", floats_int_tensor.dtype)\n",
    "print(\"The type of tensor object is: \", floats_int_tensor.type())"
   ]
  },
  {
   "cell_type": "markdown",
   "id": "833e2d2f-aba3-4049-93b0-e3bd456aee9c",
   "metadata": {},
   "source": [
    "<b>Note: The elements in the list that will be converted to tensor must have the same type.</b>\n"
   ]
  },
  {
   "cell_type": "markdown",
   "id": "ed5fff41-97da-42b6-b9a0-1bcabe5dde77",
   "metadata": {},
   "source": [
    "<!--Empty Space for separating topics-->\n"
   ]
  },
  {
   "cell_type": "markdown",
   "id": "80f06b13-56ca-4aa2-ad91-d6b1e61d4772",
   "metadata": {},
   "source": [
    "From the previous examples, you see that <code>torch.tensor()</code> converts the list to the tensor type, which is similar to the original list type. However, what if you want to convert the list to a certain tensor type? <code>torch</code> contains the methods required to do this conversion. The following code  converts an integer list to float tensor:\n"
   ]
  },
  {
   "cell_type": "code",
   "execution_count": 11,
   "id": "1f7a594e-7fb4-4dc9-bfa2-4dbec081c3af",
   "metadata": {
    "tags": []
   },
   "outputs": [
    {
     "name": "stdout",
     "output_type": "stream",
     "text": [
      "The type of the new_float_tensor: torch.FloatTensor\n"
     ]
    }
   ],
   "source": [
    "# Convert a integer list with length 5 to float tensor\n",
    "\n",
    "new_float_tensor = torch.FloatTensor([0, 1, 2, 3, 4])\n",
    "new_float_tensor.type()\n",
    "print(\"The type of the new_float_tensor:\", new_float_tensor.type())"
   ]
  },
  {
   "cell_type": "code",
   "execution_count": 12,
   "id": "3b9c529c-3d51-41fe-a859-025472c2169b",
   "metadata": {
    "tags": []
   },
   "outputs": [],
   "source": [
    "new_float_tensor = torch.FloatTensor([0, 1, 2, 3, 4])"
   ]
  },
  {
   "cell_type": "markdown",
   "id": "40759eb6-56f1-4a0c-9cb3-4725554bc6b1",
   "metadata": {},
   "source": [
    "<!--Empty Space for separating topics-->\n"
   ]
  },
  {
   "cell_type": "markdown",
   "id": "d52307dd-4260-4d47-ac53-0ba27a3bd787",
   "metadata": {},
   "source": [
    "You can also convert an existing tensor object (<code><i>tensor_obj</i></code>) to another tensor type. Convert the integer tensor to a float tensor:\n"
   ]
  },
  {
   "cell_type": "code",
   "execution_count": 13,
   "id": "181aa935-ba2f-4fc5-9445-41c0ae7ee432",
   "metadata": {
    "tags": []
   },
   "outputs": [
    {
     "name": "stdout",
     "output_type": "stream",
     "text": [
      "The type of the new_float_tensor: torch.FloatTensor\n"
     ]
    }
   ],
   "source": [
    "# Another method to convert the integer list to float tensor\n",
    "\n",
    "old_int_tensor = torch.tensor([0, 1, 2, 3, 4])\n",
    "new_float_tensor = old_int_tensor.type(torch.FloatTensor)\n",
    "print(\"The type of the new_float_tensor:\", new_float_tensor.type())"
   ]
  },
  {
   "cell_type": "markdown",
   "id": "02c95780-68f0-4f80-a0cb-5da8ff901ca1",
   "metadata": {},
   "source": [
    "<!--Empty Space for separating topics-->\n"
   ]
  },
  {
   "cell_type": "markdown",
   "id": "ac9d4a09-488b-4548-aa0e-675c959aa31c",
   "metadata": {},
   "source": [
    "The <code><i>tensor_obj</i>.size()</code> helps you to find out the size of the <code><i>tensor_obj</i></code>.\n",
    "The <code><i>tensor_obj</i>.ndimension()</code> shows the dimension of the tensor object.\n"
   ]
  },
  {
   "cell_type": "code",
   "execution_count": 14,
   "id": "f543e411-8321-4068-89e5-57ea1f8f4607",
   "metadata": {
    "tags": []
   },
   "outputs": [
    {
     "name": "stdout",
     "output_type": "stream",
     "text": [
      "The size of the new_float_tensor:  torch.Size([5])\n",
      "The dimension of the new_float_tensor:  1\n"
     ]
    }
   ],
   "source": [
    "# Introduce the tensor_obj.size() & tensor_ndimension.size() methods\n",
    "\n",
    "print(\"The size of the new_float_tensor: \", new_float_tensor.size())\n",
    "print(\"The dimension of the new_float_tensor: \",new_float_tensor.ndimension())"
   ]
  },
  {
   "cell_type": "markdown",
   "id": "47ea689f-42ea-4a2d-b56e-0436ec747337",
   "metadata": {},
   "source": [
    "<!--Empty Space for separating topics-->\n"
   ]
  },
  {
   "cell_type": "markdown",
   "id": "8e2dbefd-b29a-416b-91ec-f301bd85c9a0",
   "metadata": {},
   "source": [
    "The <code><i>tensor_obj</i>.view(<i>row, column</i>)</code> is used for reshaping a tensor object.<br>\n"
   ]
  },
  {
   "cell_type": "markdown",
   "id": "01a63cac-2b74-4247-8683-c376b5d2aa62",
   "metadata": {},
   "source": [
    "What if you have a tensor object with <code>torch.Size([5])</code> as a <code>new_float_tensor</code> as shown in the previous example?<br>\n",
    "After you execute <code>new_float_tensor.view(5, 1)</code>, the size of <code>new_float_tensor</code> will be <code>torch.Size([5, 1])</code>.<br>\n",
    "This means that the tensor object <code>new_float_tensor</code> has been reshaped from a one-dimensional  tensor object with 5 elements to a two-dimensional tensor object with 5 rows and 1 column.\n"
   ]
  },
  {
   "cell_type": "code",
   "execution_count": 15,
   "id": "b7d39a41-2caf-42c6-8e01-0d9f38c71f84",
   "metadata": {
    "tags": []
   },
   "outputs": [
    {
     "name": "stdout",
     "output_type": "stream",
     "text": [
      "Original Size:  torch.Size([5])\n",
      "Size after view method torch.Size([5, 1])\n"
     ]
    }
   ],
   "source": [
    "# Introduce the tensor_obj.view(row, column) method\n",
    "\n",
    "twoD_float_tensor = new_float_tensor.view(5, 1)\n",
    "print(\"Original Size: \", new_float_tensor.size())\n",
    "print(\"Size after view method\", twoD_float_tensor.size())"
   ]
  },
  {
   "cell_type": "markdown",
   "id": "6619fdc2-ba4e-435d-ab8e-cccbd959a427",
   "metadata": {},
   "source": [
    "Note that the original size is 5. The tensor after reshaping becomes a 5X1 tensor analog to a column vector.\n"
   ]
  },
  {
   "cell_type": "markdown",
   "id": "f02b438b-1af9-4f4d-8457-07441f3960c1",
   "metadata": {},
   "source": [
    "<b>Note: The number of elements in a tensor must remain constant after applying view.</b>\n"
   ]
  },
  {
   "cell_type": "markdown",
   "id": "5bd188d2-8aa9-458e-b111-5b32c667b3d7",
   "metadata": {},
   "source": [
    "<!--Empty Space for separating topics-->\n"
   ]
  },
  {
   "cell_type": "markdown",
   "id": "0c02a1ff-7411-44c2-94d6-24513f04464a",
   "metadata": {},
   "source": [
    "What if you have a tensor with dynamic size but you want to reshape it? You can use <b>-1</b> to do just that.\n"
   ]
  },
  {
   "cell_type": "code",
   "execution_count": 16,
   "id": "dde6b273-7855-4e45-bad3-fba636c6efa4",
   "metadata": {},
   "outputs": [
    {
     "name": "stdout",
     "output_type": "stream",
     "text": [
      "Original Size:  torch.Size([5])\n",
      "Size after view method torch.Size([5, 1])\n"
     ]
    }
   ],
   "source": [
    "# Introduce the use of -1 in tensor_obj.view(row, column) method\n",
    "\n",
    "twoD_float_tensor = new_float_tensor.view(-1, 1)\n",
    "print(\"Original Size: \", new_float_tensor.size())\n",
    "print(\"Size after view method\", twoD_float_tensor.size())"
   ]
  },
  {
   "cell_type": "markdown",
   "id": "b9c5f483-beb8-4fd9-bac7-a3bbc850fe50",
   "metadata": {},
   "source": [
    "You get the same result as the previous example. The <b>-1</b> can represent any size. However, be careful because you can set only one argument as <b>-1</b>.\n"
   ]
  },
  {
   "cell_type": "markdown",
   "id": "6c1cc631-ad70-46b4-b48d-df5feb4a340d",
   "metadata": {},
   "source": [
    "<!--Empty Space for separating topics-->\n"
   ]
  },
  {
   "cell_type": "markdown",
   "id": "94daad5d-18ec-4b5a-9f45-8c6a5360f622",
   "metadata": {},
   "source": [
    "You can also convert a <b>numpy</b> array to a <b>tensor</b>, for example: \n"
   ]
  },
  {
   "cell_type": "code",
   "execution_count": 17,
   "id": "3345a9ff-5c13-4aac-aacb-af51503dde06",
   "metadata": {},
   "outputs": [
    {
     "name": "stdout",
     "output_type": "stream",
     "text": [
      "The dtype of new tensor:  torch.float64\n",
      "The type of new tensor:  torch.DoubleTensor\n"
     ]
    }
   ],
   "source": [
    "# Convert a numpy array to a tensor\n",
    "\n",
    "numpy_array = np.array([0.0, 1.0, 2.0, 3.0, 4.0])\n",
    "new_tensor = torch.from_numpy(numpy_array)\n",
    "\n",
    "print(\"The dtype of new tensor: \", new_tensor.dtype)\n",
    "print(\"The type of new tensor: \", new_tensor.type())"
   ]
  },
  {
   "cell_type": "markdown",
   "id": "4c1fc92d-7d2f-44ff-9252-a077874dc168",
   "metadata": {},
   "source": [
    "<!--Empty Space for separating topics-->\n"
   ]
  },
  {
   "cell_type": "markdown",
   "id": "bc4caa43-1956-4a76-b534-0d39ae8330f0",
   "metadata": {},
   "source": [
    "Converting a <b>tensor</b> to a <b>numpy</b> is also supported in PyTorch. The syntax is shown below:\n"
   ]
  },
  {
   "cell_type": "code",
   "execution_count": 18,
   "id": "9c8d5d37-7004-4fd6-b487-d07debb5b6a9",
   "metadata": {},
   "outputs": [
    {
     "name": "stdout",
     "output_type": "stream",
     "text": [
      "The numpy array from tensor:  [0. 1. 2. 3. 4.]\n",
      "The dtype of numpy array:  float64\n"
     ]
    }
   ],
   "source": [
    "# Convert a tensor to a numpy array\n",
    "\n",
    "back_to_numpy = new_tensor.numpy()\n",
    "print(\"The numpy array from tensor: \", back_to_numpy)\n",
    "print(\"The dtype of numpy array: \", back_to_numpy.dtype)"
   ]
  },
  {
   "cell_type": "markdown",
   "id": "1a7019c0-20da-4c3a-9ec8-167c952b9b36",
   "metadata": {},
   "source": [
    "<code>back_to_numpy</code> and <code>new_tensor</code> still point to <code>numpy_array</code>. As a result if we change <code>numpy_array</code> both <code>back_to_numpy</code> and <code>new_tensor</code> will change. For example if we set all the elements in <code>numpy_array</code> to zeros, <code>back_to_numpy</code> and <code> new_tensor</code> will follow suit.\n"
   ]
  },
  {
   "cell_type": "code",
   "execution_count": 19,
   "id": "f2aedcf7-c132-41bc-b3dd-aacdcafd6dab",
   "metadata": {},
   "outputs": [
    {
     "name": "stdout",
     "output_type": "stream",
     "text": [
      "The new tensor points to numpy_array :  tensor([0., 0., 0., 0., 0.], dtype=torch.float64)\n",
      "and back to numpy array points to the tensor:  [0. 0. 0. 0. 0.]\n"
     ]
    }
   ],
   "source": [
    "# Set all elements in numpy array to zero \n",
    "numpy_array[:] = 0\n",
    "print(\"The new tensor points to numpy_array : \", new_tensor)\n",
    "print(\"and back to numpy array points to the tensor: \", back_to_numpy)"
   ]
  },
  {
   "cell_type": "markdown",
   "id": "fb2c7566-8685-4604-8abe-4c9570885e28",
   "metadata": {},
   "source": [
    "<!--Empty Space for separating topics-->\n"
   ]
  },
  {
   "cell_type": "markdown",
   "id": "c9006a32-44a2-4cc0-bf09-7c1c7b7f9365",
   "metadata": {},
   "source": [
    "<b>Pandas Series</b> can also be converted by using the numpy array that is stored in <code>pandas_series.values</code>. Note that <code>pandas_series</code> can be any pandas_series object. \n"
   ]
  },
  {
   "cell_type": "code",
   "execution_count": 20,
   "id": "2410b3f3-39a3-4d2f-bfc7-8db0ab506b6e",
   "metadata": {},
   "outputs": [
    {
     "name": "stdout",
     "output_type": "stream",
     "text": [
      "The new tensor from numpy array:  tensor([ 0.1000,  2.0000,  0.3000, 10.1000], dtype=torch.float64)\n",
      "The dtype of new tensor:  torch.float64\n",
      "The type of new tensor:  torch.DoubleTensor\n"
     ]
    }
   ],
   "source": [
    "# Convert a panda series to a tensor\n",
    "\n",
    "pandas_series=pd.Series([0.1, 2, 0.3, 10.1])\n",
    "new_tensor=torch.from_numpy(pandas_series.values)\n",
    "print(\"The new tensor from numpy array: \", new_tensor)\n",
    "print(\"The dtype of new tensor: \", new_tensor.dtype)\n",
    "print(\"The type of new tensor: \", new_tensor.type())"
   ]
  },
  {
   "cell_type": "markdown",
   "id": "8becccfa-2dac-42cd-be71-443b4b2dee66",
   "metadata": {},
   "source": [
    "consider the following tensor \n"
   ]
  },
  {
   "cell_type": "code",
   "execution_count": 21,
   "id": "6f234749-21db-47ab-b88b-7f18618761f2",
   "metadata": {},
   "outputs": [],
   "source": [
    "this_tensor=torch.tensor([0,1, 2,3]) "
   ]
  },
  {
   "cell_type": "markdown",
   "id": "adc63a75-c45d-4239-adb4-adddf9dd6b5f",
   "metadata": {},
   "source": [
    "The method <code>item()</code> returns the value of this tensor as a standard Python number. This only works for one element. \n"
   ]
  },
  {
   "cell_type": "code",
   "execution_count": 22,
   "id": "4a0cb690-a9c8-4b21-98af-d3a740627d8e",
   "metadata": {},
   "outputs": [
    {
     "name": "stdout",
     "output_type": "stream",
     "text": [
      "the first item is given by 0 the first tensor value is given by  tensor(0)\n",
      "the second item is given by 1 the second tensor value is given by  tensor(1)\n",
      "the third  item is given by 2 the third tensor value is given by  tensor(2)\n"
     ]
    }
   ],
   "source": [
    "this_tensor=torch.tensor([0,1, 2,3]) \n",
    "\n",
    "print(\"the first item is given by\",this_tensor[0].item(),\"the first tensor value is given by \",this_tensor[0])\n",
    "print(\"the second item is given by\",this_tensor[1].item(),\"the second tensor value is given by \",this_tensor[1])\n",
    "print(\"the third  item is given by\",this_tensor[2].item(),\"the third tensor value is given by \",this_tensor[2])"
   ]
  },
  {
   "cell_type": "markdown",
   "id": "ba68068c-6c20-43d6-acf7-0a1ae79f90ad",
   "metadata": {},
   "source": [
    "we can use the method <code> tolist()</code> to return a list \n"
   ]
  },
  {
   "cell_type": "code",
   "execution_count": 23,
   "id": "5ff5be0a-a7c1-4072-8cfe-7d9a0db874d8",
   "metadata": {},
   "outputs": [
    {
     "name": "stdout",
     "output_type": "stream",
     "text": [
      "tensor: tensor([0, 1, 2, 3]) \n",
      "list: [0, 1, 2, 3]\n"
     ]
    }
   ],
   "source": [
    "torch_to_list=this_tensor.tolist()\n",
    "\n",
    "print('tensor:', this_tensor,\"\\nlist:\",torch_to_list)"
   ]
  },
  {
   "cell_type": "markdown",
   "id": "71bdb7a7-a796-44b8-8ccb-a22b53b1361e",
   "metadata": {},
   "source": [
    "<!--Empty Space for separating topics-->\n"
   ]
  },
  {
   "cell_type": "markdown",
   "id": "4f273681-b80c-4aa0-b380-1d7f95a61eef",
   "metadata": {},
   "source": [
    "<h3>Practice</h3>\n"
   ]
  },
  {
   "cell_type": "markdown",
   "id": "d75dbc74-c0ee-4550-8f78-4151f3affdf8",
   "metadata": {},
   "source": [
    "Try to convert <code>your_tensor</code> to a 1X5 tensor.\n"
   ]
  },
  {
   "cell_type": "code",
   "execution_count": 24,
   "id": "aa7eff52-2184-4554-a6c5-e7d5139e37b5",
   "metadata": {},
   "outputs": [],
   "source": [
    "# Practice: convert the following tensor to a tensor object with 1 row and 5 columns\n",
    "\n",
    "your_tensor = torch.tensor([1, 2, 3, 4, 5])"
   ]
  },
  {
   "cell_type": "markdown",
   "id": "52daa611-9991-4a7d-97f0-d3b93450c0c5",
   "metadata": {},
   "source": [
    "Double-click <b>here</b> for the solution.\n",
    "<!-- \n",
    "your_new_tensor = your_tensor.view(1, 5)\n",
    "print(\"Original Size: \",  your_tensor.size())\n",
    "print(\"Size after view method\", your_new_tensor.size())\n",
    "-->\n"
   ]
  },
  {
   "cell_type": "markdown",
   "id": "8188c33c-f42f-4744-b711-ad170e7d471e",
   "metadata": {},
   "source": [
    "<!--Empty Space for separating topics-->\n"
   ]
  },
  {
   "cell_type": "markdown",
   "id": "3fbfe08b-ef52-4cff-8103-3031e6856df7",
   "metadata": {},
   "source": [
    "<h2 id=\"Index_Slice\">Indexing and Slicing</h2>\n"
   ]
  },
  {
   "cell_type": "markdown",
   "id": "56022d98-f7dd-4778-b11a-63284336c167",
   "metadata": {},
   "source": [
    "In Python, <b>the index starts with 0</b>. Therefore, the last index will always be 1 less than the length of the tensor object.\n",
    "You can access the value on a certain index by using the square bracket, for example:\n"
   ]
  },
  {
   "cell_type": "code",
   "execution_count": 25,
   "id": "237dccc9-0f57-48c4-a0f2-4edd612a6eea",
   "metadata": {},
   "outputs": [
    {
     "name": "stdout",
     "output_type": "stream",
     "text": [
      "The value on index 0: tensor(0)\n",
      "The value on index 1: tensor(1)\n",
      "The value on index 2: tensor(2)\n",
      "The value on index 3: tensor(3)\n",
      "The value on index 4: tensor(4)\n"
     ]
    }
   ],
   "source": [
    "# A tensor for showing how the indexs work on tensors\n",
    "\n",
    "index_tensor = torch.tensor([0, 1, 2, 3, 4])\n",
    "print(\"The value on index 0:\",index_tensor[0])\n",
    "print(\"The value on index 1:\",index_tensor[1])\n",
    "print(\"The value on index 2:\",index_tensor[2])\n",
    "print(\"The value on index 3:\",index_tensor[3])\n",
    "print(\"The value on index 4:\",index_tensor[4])"
   ]
  },
  {
   "cell_type": "markdown",
   "id": "70ee590a-b748-4342-a639-907f065b3a80",
   "metadata": {},
   "source": [
    "<b>Note that the <code>index_tensor[5]</code> will create an error.</b>\n"
   ]
  },
  {
   "cell_type": "markdown",
   "id": "08d0ca2a-0087-4e01-bbf2-997af037b8e0",
   "metadata": {},
   "source": [
    "<!--Empty Space for separating topics-->\n"
   ]
  },
  {
   "cell_type": "markdown",
   "id": "b0407580-9651-482d-9de9-7e48b6694e6d",
   "metadata": {},
   "source": [
    "The index is shown in the following figure: \n"
   ]
  },
  {
   "cell_type": "markdown",
   "id": "0211d13d-9da6-40fe-931e-bc8913fa51e6",
   "metadata": {},
   "source": [
    "<img src=\"https://s3-api.us-geo.objectstorage.softlayer.net/cf-courses-data/CognitiveClass/DL0110EN/notebook_images%20/chapter%201/idex_1.png\" width=\"500\" alt=\"Python Index\">\n"
   ]
  },
  {
   "cell_type": "markdown",
   "id": "14a8361f-54bf-4ac2-aae3-c26a8f884b33",
   "metadata": {},
   "source": [
    "<!--Empty Space for separating topics-->\n"
   ]
  },
  {
   "cell_type": "markdown",
   "id": "0b94b809-f9c0-4dd0-8f6a-0e6dcffdc8d4",
   "metadata": {},
   "source": [
    "Now, you'll see how to change the values on certain indexes.\n"
   ]
  },
  {
   "cell_type": "markdown",
   "id": "ad987356-5e17-4f35-a157-bdeec1f95774",
   "metadata": {},
   "source": [
    "Suppose you have a tensor as shown here: \n"
   ]
  },
  {
   "cell_type": "code",
   "execution_count": 26,
   "id": "acba0427-c338-4d34-85bf-c334ca7dd53c",
   "metadata": {},
   "outputs": [],
   "source": [
    "# A tensor for showing how to change value according to the index\n",
    "\n",
    "tensor_sample = torch.tensor([20, 1, 2, 3, 4])"
   ]
  },
  {
   "cell_type": "markdown",
   "id": "d20a30fa-f131-49bd-b2d6-60ad0075f3aa",
   "metadata": {},
   "source": [
    "Assign the value on index 0 as 100:\n"
   ]
  },
  {
   "cell_type": "code",
   "execution_count": 27,
   "id": "9a9acaa7-b81f-4c8c-96fb-1e70191e97b0",
   "metadata": {},
   "outputs": [
    {
     "name": "stdout",
     "output_type": "stream",
     "text": [
      "Inital value on index 0: tensor(20)\n",
      "Modified tensor: tensor([100,   1,   2,   3,   4])\n"
     ]
    }
   ],
   "source": [
    "# Change the value on the index 0 to 100\n",
    "\n",
    "print(\"Inital value on index 0:\", tensor_sample[0])\n",
    "tensor_sample[0] = 100\n",
    "print(\"Modified tensor:\", tensor_sample)"
   ]
  },
  {
   "cell_type": "markdown",
   "id": "a526a289-a656-430d-bd3d-40eeb174aab3",
   "metadata": {},
   "source": [
    "As you can see, the value on index 0 changes. Change the value on index 4 to 0:\n"
   ]
  },
  {
   "cell_type": "code",
   "execution_count": 28,
   "id": "ce66cd32-f01c-4b5e-99dd-5f4192ee27a9",
   "metadata": {},
   "outputs": [
    {
     "name": "stdout",
     "output_type": "stream",
     "text": [
      "Inital value on index 4: tensor(4)\n",
      "Modified tensor: tensor([100,   1,   2,   3,   0])\n"
     ]
    }
   ],
   "source": [
    "# Change the value on the index 4 to 0\n",
    "\n",
    "print(\"Inital value on index 4:\", tensor_sample[4])\n",
    "tensor_sample[4] = 0\n",
    "print(\"Modified tensor:\", tensor_sample)"
   ]
  },
  {
   "cell_type": "markdown",
   "id": "39823b0d-ef21-4da6-a0a2-bc36854bf2f4",
   "metadata": {},
   "source": [
    "The value on index 4 turns to 0.\n"
   ]
  },
  {
   "cell_type": "markdown",
   "id": "fca0e09c-e234-429e-84fc-d662f93f6dbf",
   "metadata": {},
   "source": [
    "<!--Empty Space for separating topics-->\n"
   ]
  },
  {
   "cell_type": "markdown",
   "id": "90798d45-39bc-48ac-9640-a7c7a4afd1cd",
   "metadata": {},
   "source": [
    "If you are familiar with Python, you know that there is a feature called slicing on a list. Tensors support the same feature. \n"
   ]
  },
  {
   "cell_type": "markdown",
   "id": "4b989ed6-b5eb-412f-a14e-1845dc215a60",
   "metadata": {},
   "source": [
    "Get the subset of <code>tensor_sample</code>. The subset should contain the values in <code>tensor_sample</code> from index 1 to index 3.\n"
   ]
  },
  {
   "cell_type": "code",
   "execution_count": 29,
   "id": "79176aa9-9c25-475c-b248-350cd6271a5c",
   "metadata": {},
   "outputs": [
    {
     "name": "stdout",
     "output_type": "stream",
     "text": [
      "Original tensor sample:  tensor([100,   1,   2,   3,   0])\n",
      "The subset of tensor sample: tensor([1, 2, 3])\n"
     ]
    }
   ],
   "source": [
    "# Slice tensor_sample\n",
    "\n",
    "subset_tensor_sample = tensor_sample[1:4]\n",
    "print(\"Original tensor sample: \", tensor_sample)\n",
    "print(\"The subset of tensor sample:\", subset_tensor_sample)"
   ]
  },
  {
   "cell_type": "markdown",
   "id": "46a5a525-c45e-4a98-bfa9-a8653d6b739f",
   "metadata": {},
   "source": [
    "As a result, the <code>subset_tensor_sample</code> returned only the values on index 1, index 2, and index 3. Then, it stored them in a <code>subset_tensor_sample</code>.\n"
   ]
  },
  {
   "cell_type": "markdown",
   "id": "34bc7087-e787-4d29-a159-ca33a2a89a8c",
   "metadata": {},
   "source": [
    "<b>Note: The number on the left side of the colon represents the index of the first value. The number on the right side of the colon is always 1 larger than the index of the last value. For example, <code>tensor_sample[1:4]</code> means you get values from the index 1 to index 3 <i>(4-1)</i></b>.\n"
   ]
  },
  {
   "cell_type": "markdown",
   "id": "9a2723c0-6096-45f8-922f-41d4136e8cc9",
   "metadata": {},
   "source": [
    "<!--Empty Space for separating topics-->\n"
   ]
  },
  {
   "cell_type": "markdown",
   "id": "d9473a70-68a5-4e97-ba78-e39fb5e6b74d",
   "metadata": {},
   "source": [
    "As for assigning values to the certain index, you can also assign the value to the slices:\n"
   ]
  },
  {
   "cell_type": "markdown",
   "id": "c9d332e9-659b-48ae-a3b7-ee2861af983e",
   "metadata": {},
   "source": [
    "Change the value of <code>tensor_sample</code> from index 3 to index 4:\n"
   ]
  },
  {
   "cell_type": "code",
   "execution_count": 30,
   "id": "1581e29f-8c67-44b0-9c8e-3f8a91e91d9b",
   "metadata": {},
   "outputs": [
    {
     "name": "stdout",
     "output_type": "stream",
     "text": [
      "Inital value on index 3 and index 4: tensor([3, 0])\n",
      "Modified tensor: tensor([100,   1,   2, 300, 400])\n"
     ]
    }
   ],
   "source": [
    "# Change the values on index 3 and index 4\n",
    "\n",
    "print(\"Inital value on index 3 and index 4:\", tensor_sample[3:5])\n",
    "tensor_sample[3:5] = torch.tensor([300.0, 400.0])\n",
    "print(\"Modified tensor:\", tensor_sample)"
   ]
  },
  {
   "cell_type": "markdown",
   "id": "c8b993ec-2bba-4013-8506-9be80bc387c1",
   "metadata": {},
   "source": [
    "The values on both index 3 and index 4 were changed. The values on other indexes remain the same.\n"
   ]
  },
  {
   "cell_type": "markdown",
   "id": "40d48c1c-93aa-420d-9872-dfb136a672a3",
   "metadata": {},
   "source": [
    "<!--Empty Space for separating topics-->\n"
   ]
  },
  {
   "cell_type": "markdown",
   "id": "87c97394-fbfe-45a0-aa0e-97821b765560",
   "metadata": {},
   "source": [
    "You can also use a variable to contain the selected indexes and pass that variable to a tensor slice operation as a parameter, for example:  \n"
   ]
  },
  {
   "cell_type": "code",
   "execution_count": 31,
   "id": "9b54317b-f1e6-4647-8cf6-54cd870526d3",
   "metadata": {},
   "outputs": [
    {
     "name": "stdout",
     "output_type": "stream",
     "text": [
      "The inital tensor_sample tensor([100,   1,   2, 300, 400])\n",
      "The subset of tensor_sample with the values on index 3 and 4:  tensor([300, 400])\n"
     ]
    }
   ],
   "source": [
    "# Using variable to contain the selected index, and pass it to slice operation\n",
    "\n",
    "selected_indexes = [3, 4]\n",
    "subset_tensor_sample = tensor_sample[selected_indexes]\n",
    "print(\"The inital tensor_sample\", tensor_sample)\n",
    "print(\"The subset of tensor_sample with the values on index 3 and 4: \", subset_tensor_sample)"
   ]
  },
  {
   "cell_type": "markdown",
   "id": "4b45f090-0d8a-4a75-b103-3573f5e9028a",
   "metadata": {},
   "source": [
    "<!--Empty Space for separating topics-->\n"
   ]
  },
  {
   "cell_type": "markdown",
   "id": "68044716-f1c5-4f3f-911d-18b5dde9079e",
   "metadata": {},
   "source": [
    "You can also assign one value to the selected indexes by using the variable. For example, assign 100,000 to all the <code>selected_indexes</code>:\n"
   ]
  },
  {
   "cell_type": "code",
   "execution_count": 32,
   "id": "61a8ce6e-2e42-47c1-b286-d91d08f6214c",
   "metadata": {},
   "outputs": [
    {
     "name": "stdout",
     "output_type": "stream",
     "text": [
      "The inital tensor_sample tensor([100,   1,   2, 300, 400])\n",
      "Modified tensor with one value:  tensor([   100, 100000,      2, 100000,    400])\n"
     ]
    }
   ],
   "source": [
    "#Using variable to assign the value to the selected indexes\n",
    "\n",
    "print(\"The inital tensor_sample\", tensor_sample)\n",
    "selected_indexes = [1, 3]\n",
    "tensor_sample[selected_indexes] = 100000\n",
    "print(\"Modified tensor with one value: \", tensor_sample)"
   ]
  },
  {
   "cell_type": "markdown",
   "id": "00ec158e-3eab-4865-8580-5e81f950b6a2",
   "metadata": {},
   "source": [
    "The values on index 1 and index 3 were changed to 100,000. Others remain the same.\n"
   ]
  },
  {
   "cell_type": "markdown",
   "id": "619e9d56-3c05-470d-b0ce-50da685a0454",
   "metadata": {},
   "source": [
    "<b>Note: You can use only one value for the assignment.</b>\n"
   ]
  },
  {
   "cell_type": "markdown",
   "id": "8c5a2871-fbf3-4881-b916-6a63b0c7f3fa",
   "metadata": {},
   "source": [
    "<!--Empty Space for separating topics-->\n"
   ]
  },
  {
   "cell_type": "markdown",
   "id": "606df22e-0246-4dbe-84f1-f0dc53ca37fa",
   "metadata": {},
   "source": [
    "<h3>Practice</h3>\n"
   ]
  },
  {
   "cell_type": "markdown",
   "id": "f1fe8290-cffe-4bd8-b6ed-1375d7830cb9",
   "metadata": {},
   "source": [
    "Try to change the values on index 3, 4, 7 of the following tensor to 0.\n"
   ]
  },
  {
   "cell_type": "code",
   "execution_count": 33,
   "id": "7231b219-0e31-433f-b17c-c26e0d3d6e16",
   "metadata": {},
   "outputs": [],
   "source": [
    "# Practice: Change the values on index 3, 4, 7 to 0\n",
    "\n",
    "practice_tensor = torch.tensor([2, 7, 3, 4, 6, 2, 3, 1, 2])"
   ]
  },
  {
   "cell_type": "markdown",
   "id": "417a6eb6-7720-406f-8fdc-5df6ec462fc6",
   "metadata": {},
   "source": [
    "Double-click <b>here</b> for the solution.\n",
    "<!-- \n",
    "selected_indexes = [3, 4, 7]\n",
    "practice_tensor[selected_indexes] = 0\n",
    "print(\"New Practice Tensor: \", practice_tensor)\n",
    "-->\n"
   ]
  },
  {
   "cell_type": "markdown",
   "id": "5c6fa4d3-8bb0-4ba9-aaff-c43a69da1068",
   "metadata": {},
   "source": [
    "<!--Empty Space for separating topics-->\n"
   ]
  },
  {
   "cell_type": "markdown",
   "id": "6d5bd17e-7961-4b21-990c-d82c2ec6db32",
   "metadata": {},
   "source": [
    "<!-- <h2 id=\"Tensor_Func\">Tensor Functions</h2>\n",
    " -->\n",
    " ## Tensor Functions\n"
   ]
  },
  {
   "cell_type": "markdown",
   "id": "983f97ad-7fd8-49b4-8c1f-c760879706d3",
   "metadata": {},
   "source": [
    "For this section, you'll work with some methods that you can apply to tensor objects.\n"
   ]
  },
  {
   "cell_type": "markdown",
   "id": "ee41595b-dbce-4fcb-a5a0-63cc406eac69",
   "metadata": {},
   "source": [
    "<h3>Mean and Standard Deviation</h3>\n"
   ]
  },
  {
   "cell_type": "markdown",
   "id": "16fbc593-b67f-4b5a-83e2-8325e5794c1d",
   "metadata": {},
   "source": [
    "You'll review the mean and standard deviation methods first. They are two basic statistical methods.\n"
   ]
  },
  {
   "cell_type": "markdown",
   "id": "a0faa5e2-a37f-4369-aa2b-6b79059bf815",
   "metadata": {},
   "source": [
    "<!--Empty Space for separating topics-->\n"
   ]
  },
  {
   "cell_type": "markdown",
   "id": "9cde9280-6f54-4acf-8c9a-c15985bccbcf",
   "metadata": {},
   "source": [
    "Create a tensor with values <i>[1.0, -1, 1, -1]</i>:\n"
   ]
  },
  {
   "cell_type": "code",
   "execution_count": 34,
   "id": "9de4d40c-1a41-4563-b31e-62782b973dc6",
   "metadata": {},
   "outputs": [
    {
     "name": "stdout",
     "output_type": "stream",
     "text": [
      "Tensor example:  tensor([ 1., -1.,  1., -1.])\n"
     ]
    }
   ],
   "source": [
    "# Sample tensor for mathmatic calculation methods on tensor\n",
    "\n",
    "math_tensor = torch.tensor([1.0, -1.0, 1, -1])\n",
    "print(\"Tensor example: \", math_tensor)"
   ]
  },
  {
   "cell_type": "markdown",
   "id": "6d549b74-6ac2-4f49-bd46-7e16e54be641",
   "metadata": {},
   "source": [
    "<!--Empty Space for separating topics-->\n"
   ]
  },
  {
   "cell_type": "markdown",
   "id": "c60b04b0-71ed-46af-879d-917117d12456",
   "metadata": {},
   "source": [
    "Here is the mean method:  \n"
   ]
  },
  {
   "cell_type": "code",
   "execution_count": 35,
   "id": "fc279f9f-c863-4d7e-84c1-28ac49ffed6c",
   "metadata": {},
   "outputs": [
    {
     "name": "stdout",
     "output_type": "stream",
     "text": [
      "The mean of math_tensor:  tensor(0.)\n"
     ]
    }
   ],
   "source": [
    "#Calculate the mean for math_tensor\n",
    "\n",
    "mean = math_tensor.mean()\n",
    "print(\"The mean of math_tensor: \", mean)"
   ]
  },
  {
   "cell_type": "markdown",
   "id": "cfef80b1-262f-4ea7-afb6-24869c7b4010",
   "metadata": {},
   "source": [
    "<!--Empty Space for separating topics-->\n"
   ]
  },
  {
   "cell_type": "markdown",
   "id": "1d701cc5-b1cf-4fc8-a1d9-0295f193ab50",
   "metadata": {},
   "source": [
    "The standard deviation can also be calculated by using <code><i>tensor_obj</i>.std()</code>:\n"
   ]
  },
  {
   "cell_type": "code",
   "execution_count": 36,
   "id": "411b3a87-1829-4d2a-a344-f59a937ff639",
   "metadata": {},
   "outputs": [
    {
     "name": "stdout",
     "output_type": "stream",
     "text": [
      "The standard deviation of math_tensor:  tensor(1.1547)\n"
     ]
    }
   ],
   "source": [
    "#Calculate the standard deviation for math_tensor\n",
    "\n",
    "standard_deviation = math_tensor.std()\n",
    "print(\"The standard deviation of math_tensor: \", standard_deviation)"
   ]
  },
  {
   "cell_type": "markdown",
   "id": "3597d7ea-12d0-4199-b82c-115202df10ff",
   "metadata": {},
   "source": [
    "<!--Empty Space for separating topics-->\n"
   ]
  },
  {
   "cell_type": "markdown",
   "id": "512dbb04-5d2e-47cc-85f7-65f53101785f",
   "metadata": {},
   "source": [
    "<h3>Max and Min</h3>\n"
   ]
  },
  {
   "cell_type": "markdown",
   "id": "8b0aadcf-cc6c-4dcc-b84e-8868cfa1fe5b",
   "metadata": {},
   "source": [
    "Now, you'll review another two useful methods: <code><i>tensor_obj</i>.max()</code> and <code><i>tensor_obj</i>.min()</code>. These two methods are used for finding the maximum value and the minimum value in the tensor.\n"
   ]
  },
  {
   "cell_type": "markdown",
   "id": "cacab936-1d92-4e50-a04c-10336a30dae3",
   "metadata": {},
   "source": [
    "<!--Empty Space for separating topics-->\n"
   ]
  },
  {
   "cell_type": "markdown",
   "id": "6a502c66-c000-4413-9482-808a751e0b1b",
   "metadata": {},
   "source": [
    "Create a <code>max_min_tensor</code>: \n"
   ]
  },
  {
   "cell_type": "code",
   "execution_count": 37,
   "id": "7f0f11cf-3ca9-408c-9d25-5ff5ed7a2b96",
   "metadata": {},
   "outputs": [
    {
     "name": "stdout",
     "output_type": "stream",
     "text": [
      "Tensor example:  tensor([1, 1, 3, 5, 5])\n"
     ]
    }
   ],
   "source": [
    "# Sample for introducing max and min methods\n",
    "\n",
    "max_min_tensor = torch.tensor([1, 1, 3, 5, 5])\n",
    "print(\"Tensor example: \", max_min_tensor)"
   ]
  },
  {
   "cell_type": "markdown",
   "id": "afd3612d-4757-4aa9-85c4-7f0e62468d69",
   "metadata": {},
   "source": [
    "<b>Note: There are two minimum numbers as 1 and two maximum numbers as 5 in the tensor. Can you guess how PyTorch is going to deal with the duplicates?</b>\n"
   ]
  },
  {
   "cell_type": "markdown",
   "id": "84a3c512-b6d6-4c7b-9d1f-d0748d7af037",
   "metadata": {},
   "source": [
    "<!--Empty Space for separating topics-->\n"
   ]
  },
  {
   "cell_type": "markdown",
   "id": "ed748be6-7b67-4eff-b0a7-0a4cdd414dc1",
   "metadata": {},
   "source": [
    "Apply <code><i>tensor_obj</i>.max()</code> on <code>max_min_tensor</code>:\n"
   ]
  },
  {
   "cell_type": "code",
   "execution_count": 38,
   "id": "7b3f021b-1641-44be-b026-f2bfd75a9bcc",
   "metadata": {},
   "outputs": [
    {
     "name": "stdout",
     "output_type": "stream",
     "text": [
      "Maximum number in the tensor:  tensor(5)\n"
     ]
    }
   ],
   "source": [
    "# Method for finding the maximum value in the tensor\n",
    "\n",
    "max_val = max_min_tensor.max()\n",
    "print(\"Maximum number in the tensor: \", max_val)"
   ]
  },
  {
   "cell_type": "markdown",
   "id": "8523c573-dd49-4203-8d0e-dcb3c6866f88",
   "metadata": {},
   "source": [
    "The answer is <code>tensor(5)</code>. Therefore, the method <code><i>tensor_obj</i>.max()</code> is grabbing the maximum value but not the elements that contain the maximum value in the tensor.\n"
   ]
  },
  {
   "cell_type": "code",
   "execution_count": 39,
   "id": "3d2d92e7-e585-412e-a759-ae9501ca4bb9",
   "metadata": {},
   "outputs": [
    {
     "data": {
      "text/plain": [
       "tensor(5)"
      ]
     },
     "execution_count": 39,
     "metadata": {},
     "output_type": "execute_result"
    }
   ],
   "source": [
    " max_min_tensor.max()"
   ]
  },
  {
   "cell_type": "markdown",
   "id": "e4aa2c81-442a-4e10-8737-90215026ba47",
   "metadata": {},
   "source": [
    "<!--Empty Space for separating topics-->\n"
   ]
  },
  {
   "cell_type": "markdown",
   "id": "fa47f317-4bfb-4e39-8510-33ff8a9de969",
   "metadata": {},
   "source": [
    "Use <code><i>tensor_obj</i>.min()</code> on <code>max_min_tensor</code>:\n"
   ]
  },
  {
   "cell_type": "code",
   "execution_count": 40,
   "id": "2efb34f1-8acf-42a4-831a-f61d35811a25",
   "metadata": {},
   "outputs": [
    {
     "name": "stdout",
     "output_type": "stream",
     "text": [
      "Minimum number in the tensor:  tensor(1)\n"
     ]
    }
   ],
   "source": [
    "# Method for finding the minimum value in the tensor\n",
    "\n",
    "min_val = max_min_tensor.min()\n",
    "print(\"Minimum number in the tensor: \", min_val)"
   ]
  },
  {
   "cell_type": "markdown",
   "id": "b7d04fbc-b143-44b9-9168-f28e185d7dda",
   "metadata": {},
   "source": [
    "The answer is <code>tensor(1)</code>. Therefore, the method <code><i>tensor_obj</i>.min()</code> is grabbing the minimum value but not the elements that contain the minimum value in the tensor.\n"
   ]
  },
  {
   "cell_type": "markdown",
   "id": "894797e7-ec6d-42d3-82f4-50f81310adb4",
   "metadata": {},
   "source": [
    "<!--Empty Space for separating topics-->\n"
   ]
  },
  {
   "cell_type": "markdown",
   "id": "7565c291-7935-487e-8261-a98013b56cea",
   "metadata": {},
   "source": [
    "<h3>Sin</h3>\n"
   ]
  },
  {
   "cell_type": "markdown",
   "id": "870584f3-61d1-4dcc-99ea-8315c622a198",
   "metadata": {},
   "source": [
    "Sin is the trigonometric function of an angle. Again, you will not be introducedvto any mathematic functions. You'll focus on Python.\n"
   ]
  },
  {
   "cell_type": "markdown",
   "id": "5723ae5e-24da-4964-b3d3-e329bb3bdcaf",
   "metadata": {},
   "source": [
    "<!--Empty Space for separating topics-->\n"
   ]
  },
  {
   "cell_type": "markdown",
   "id": "fa04b84f-a180-4c0c-9e96-54e602c50f20",
   "metadata": {},
   "source": [
    "Create a tensor with 0, π/2 and π. Then, apply the sin function on the tensor. Notice here that the <code>sin()</code> is not a method of tensor object but is a function of torch:\n"
   ]
  },
  {
   "cell_type": "code",
   "execution_count": 41,
   "id": "8a8614a1-3fff-4745-8fbc-b69b22d24881",
   "metadata": {},
   "outputs": [
    {
     "name": "stdout",
     "output_type": "stream",
     "text": [
      "The sin result of pi_tensor:  tensor([ 0.0000e+00,  1.0000e+00, -8.7423e-08])\n"
     ]
    }
   ],
   "source": [
    "# Method for calculating the sin result of each element in the tensor\n",
    "\n",
    "pi_tensor = torch.tensor([0, np.pi/2, np.pi])\n",
    "sin = torch.sin(pi_tensor)\n",
    "print(\"The sin result of pi_tensor: \", sin)"
   ]
  },
  {
   "cell_type": "markdown",
   "id": "65f2515a-7cec-4a63-a100-35244ac50f7b",
   "metadata": {},
   "source": [
    "The resultant tensor <code>sin</code> contains the result of the <code>sin</code> function applied to each element in the <code>pi_tensor</code>.<br>\n",
    "This is different from the previous methods. For <code><i>tensor_obj</i>.mean()</code>, <code><i>tensor_obj</i>.std()</code>, <code><i>tensor_obj</i>.max()</code>, and <code><i>tensor_obj</i>.min()</code>, the result is a tensor with only one number because these are aggregate methods.<br>\n",
    "However, the <code>torch.sin()</code> is not. Therefore, the resultant tensors have the same length as the input tensor.\n"
   ]
  },
  {
   "cell_type": "markdown",
   "id": "68e34907-dc44-4a0f-a3d5-1f4921cb1c69",
   "metadata": {},
   "source": [
    "<!--Empty Space for separating topics-->\n"
   ]
  },
  {
   "cell_type": "markdown",
   "id": "b89316c0-79ba-41e7-9f52-521e6028d2ca",
   "metadata": {},
   "source": [
    "<h3>Create Tensor by <code>torch.linspace()</code></h3>\n"
   ]
  },
  {
   "cell_type": "markdown",
   "id": "e75d3727-34ca-46eb-8172-eab63026924d",
   "metadata": {},
   "source": [
    "A useful function for plotting mathematical functions is <code>torch.linspace()</code>. <code>torch.linspace()</code> returns evenly spaced numbers over a specified interval. You specify the starting point of the sequence and the ending point of the sequence. The parameter <code>steps</code> indicates the number of samples to generate. Now, you'll work with <code>steps = 5</code>.\n"
   ]
  },
  {
   "cell_type": "code",
   "execution_count": 42,
   "id": "9bbe2cda-684f-4700-8176-71123bff8942",
   "metadata": {},
   "outputs": [
    {
     "name": "stdout",
     "output_type": "stream",
     "text": [
      "First Try on linspace tensor([-2., -1.,  0.,  1.,  2.])\n"
     ]
    }
   ],
   "source": [
    "# First try on using linspace to create tensor\n",
    "\n",
    "len_5_tensor = torch.linspace(-2, 2, steps = 5)\n",
    "print (\"First Try on linspace\", len_5_tensor)"
   ]
  },
  {
   "cell_type": "markdown",
   "id": "98e1af7d-1784-466a-82f0-6b56229da4c9",
   "metadata": {},
   "source": [
    "<!--Empty Space for separating topics-->\n"
   ]
  },
  {
   "cell_type": "markdown",
   "id": "239524c8-9c6c-4e3f-ab91-a89324c6317e",
   "metadata": {},
   "source": [
    "Assign <code>steps</code> with 9:\n"
   ]
  },
  {
   "cell_type": "code",
   "execution_count": 43,
   "id": "7c04510d-3b15-4956-a976-dc7d7557c219",
   "metadata": {},
   "outputs": [
    {
     "name": "stdout",
     "output_type": "stream",
     "text": [
      "Second Try on linspace tensor([-2.0000, -1.5000, -1.0000, -0.5000,  0.0000,  0.5000,  1.0000,  1.5000,\n",
      "         2.0000])\n"
     ]
    }
   ],
   "source": [
    "# Second try on using linspace to create tensor\n",
    "\n",
    "len_9_tensor = torch.linspace(-2, 2, steps = 9)\n",
    "print (\"Second Try on linspace\", len_9_tensor)"
   ]
  },
  {
   "cell_type": "markdown",
   "id": "611c9299-94ce-4e1c-a265-a14c0b758c7d",
   "metadata": {},
   "source": [
    "<!--Empty Space for separating topics-->\n"
   ]
  },
  {
   "cell_type": "markdown",
   "id": "2242fb3e-8b0c-4ed1-8fba-23cd2f86d1ad",
   "metadata": {},
   "source": [
    "Use both <code>torch.linspace()</code> and <code>torch.sin()</code> to construct a tensor that contains the 100 sin result in range from 0 (0 degree) to 2π (360 degree): \n"
   ]
  },
  {
   "cell_type": "code",
   "execution_count": 44,
   "id": "32c032f3-2ed7-4f97-97c2-bee6ac44a5f8",
   "metadata": {},
   "outputs": [],
   "source": [
    "# Construct the tensor within 0 to 360 degree\n",
    "\n",
    "pi_tensor = torch.linspace(0, 2*np.pi, 100)\n",
    "sin_result = torch.sin(pi_tensor)"
   ]
  },
  {
   "cell_type": "markdown",
   "id": "4d52e3f5-cc82-448b-8aac-e391d025d89e",
   "metadata": {},
   "source": [
    "Plot the result to get a clearer picture. You must cast the tensor to a numpy array before plotting it.\n"
   ]
  },
  {
   "cell_type": "code",
   "execution_count": 45,
   "id": "4a49447e-de58-469f-8b33-752e287edcfd",
   "metadata": {},
   "outputs": [
    {
     "data": {
      "text/plain": [
       "[<matplotlib.lines.Line2D at 0x77a870e33550>]"
      ]
     },
     "execution_count": 45,
     "metadata": {},
     "output_type": "execute_result"
    },
    {
     "data": {
      "image/png": "[encoded data removed]",
      "text/plain": [
       "<Figure size 640x480 with 1 Axes>"
      ]
     },
     "metadata": {},
     "output_type": "display_data"
    }
   ],
   "source": [
    "# Plot sin_result\n",
    "\n",
    "plt.plot(pi_tensor.numpy(), sin_result.numpy())"
   ]
  },
  {
   "cell_type": "markdown",
   "id": "899226de-a1f4-467f-a7d0-b1a834456a04",
   "metadata": {},
   "source": [
    "If you know the trigonometric function, you will notice this is the diagram of the sin result in the range 0 to 360 degrees.\n"
   ]
  },
  {
   "cell_type": "markdown",
   "id": "27e96d26-c824-4e9c-92e2-f02e8e520e27",
   "metadata": {},
   "source": [
    "<!--Empty Space for separating topics-->\n"
   ]
  },
  {
   "cell_type": "markdown",
   "id": "4e8391d9-8a59-4c21-a663-4fbea884d6ff",
   "metadata": {},
   "source": [
    "<h3>Practice</h3>\n"
   ]
  },
  {
   "cell_type": "markdown",
   "id": "8b595bec-1f01-47f3-997a-edad60a4e033",
   "metadata": {},
   "source": [
    "Construct a tensor with 25 steps in the range 0 to π/2. Print out the Maximum and Minimum number. Also, plot  a graph showing the diagram that shows the result.\n"
   ]
  },
  {
   "cell_type": "code",
   "execution_count": 46,
   "id": "84cd7f8e-b617-4d78-9219-ccf8a3757868",
   "metadata": {},
   "outputs": [],
   "source": [
    "# Practice: Create your tensor, print max and min number, plot the sin result diagram\n",
    "\n",
    "# Type your code here"
   ]
  },
  {
   "cell_type": "markdown",
   "id": "55525a46-7ab3-4d3b-90e9-ceb9f8c014f9",
   "metadata": {},
   "source": [
    "Double-click <b>here</b> for the solution.\n",
    "<!-- \n",
    "pi_tensor = torch.linspace(0, np.pi/2, 100)\n",
    "print(\"Max Number: \", pi_tensor.max())\n",
    "print(\"Min Number\", pi_tensor.min())\n",
    "sin_result = torch.sin(pi_tensor)\n",
    "plt.plot(pi_tensor.numpy(), sin_result.numpy())\n",
    "-->\n"
   ]
  },
  {
   "cell_type": "markdown",
   "id": "cb81ba0f-65e2-415c-adbe-faa52d6aa05c",
   "metadata": {},
   "source": [
    "<!--Empty Space for separating topics-->\n"
   ]
  },
  {
   "cell_type": "markdown",
   "id": "b750b90a-6e1f-4f47-a201-b68d0fcc590a",
   "metadata": {},
   "source": [
    "<!-- <h2 id=\"Tensor_Op\">Tensor Operations</h2>\n",
    " -->\n",
    " ## Tensor Operations\n"
   ]
  },
  {
   "cell_type": "markdown",
   "id": "1580f072-09ed-44e9-ae36-3d8271842402",
   "metadata": {},
   "source": [
    "In the following section, you'll work with operations that you can apply to a tensor.\n"
   ]
  },
  {
   "cell_type": "markdown",
   "id": "e83544ef-e0cb-4f74-a0da-cf28f37426ef",
   "metadata": {},
   "source": [
    "<!--Empty Space for separating topics-->\n"
   ]
  },
  {
   "cell_type": "markdown",
   "id": "44b5bd0f-79e6-4b25-9e47-a460f5bc7e8c",
   "metadata": {},
   "source": [
    "<h3>Tensor Addition</h3>\n"
   ]
  },
  {
   "cell_type": "markdown",
   "id": "148c4375-5973-4124-abd5-5b0426e79fba",
   "metadata": {},
   "source": [
    "You can perform addition between two tensors.\n"
   ]
  },
  {
   "cell_type": "markdown",
   "id": "e4b36047-3cd1-4f91-b9cd-0acfc66d1497",
   "metadata": {},
   "source": [
    "Create a tensor <code>u</code> with 1 dimension and 2 elements. Then, create another tensor <code>v</code> with the same number of dimensions and the same number of elements:\n"
   ]
  },
  {
   "cell_type": "code",
   "execution_count": 47,
   "id": "3650e022-23ca-47d0-af3e-777ec98332ef",
   "metadata": {},
   "outputs": [],
   "source": [
    "# Create two sample tensors\n",
    "\n",
    "u = torch.tensor([1, 0])\n",
    "v = torch.tensor([0, 1])"
   ]
  },
  {
   "cell_type": "markdown",
   "id": "c8d90879-142b-4876-beba-461834952904",
   "metadata": {},
   "source": [
    "Add <code>u</code> and <code>v</code> together:\n"
   ]
  },
  {
   "cell_type": "code",
   "execution_count": 48,
   "id": "b5a76539-137c-4bb8-b7f0-526518da1238",
   "metadata": {},
   "outputs": [
    {
     "name": "stdout",
     "output_type": "stream",
     "text": [
      "The result tensor:  tensor([1, 1])\n"
     ]
    }
   ],
   "source": [
    "# Add u and v\n",
    "\n",
    "w = u + v\n",
    "print(\"The result tensor: \", w)"
   ]
  },
  {
   "cell_type": "markdown",
   "id": "9e8c6f98-e66f-4cb1-99a9-08b65f0eb705",
   "metadata": {},
   "source": [
    "The result is <code>tensor([1, 1])</code>. The behavior is <i>[1 + 0, 0 + 1]</i>.\n"
   ]
  },
  {
   "cell_type": "markdown",
   "id": "586af865-6a05-4f61-9365-0fa2b19a582c",
   "metadata": {},
   "source": [
    "Plot the result to to get a clearer picture.\n"
   ]
  },
  {
   "cell_type": "code",
   "execution_count": 49,
   "id": "63306dfe-0e8b-4815-9f05-eef27872f818",
   "metadata": {},
   "outputs": [
    {
     "data": {
      "image/png": "[encoded data removed]",
      "text/plain": [
       "<Figure size 640x480 with 1 Axes>"
      ]
     },
     "metadata": {},
     "output_type": "display_data"
    }
   ],
   "source": [
    "# Plot u, v, w\n",
    "\n",
    "plotVec([\n",
    "    {\"vector\": u.numpy(), \"name\": 'u', \"color\": 'r'},\n",
    "    {\"vector\": v.numpy(), \"name\": 'v', \"color\": 'b'},\n",
    "    {\"vector\": w.numpy(), \"name\": 'w', \"color\": 'g'}\n",
    "])"
   ]
  },
  {
   "cell_type": "markdown",
   "id": "8bb465be-3cf3-4da0-a401-bd16972f74c2",
   "metadata": {},
   "source": [
    "<!--Empty Space for separating topics-->\n"
   ]
  },
  {
   "cell_type": "markdown",
   "id": "a4552313-2a7b-42f1-8f8e-6243ddd5358a",
   "metadata": {},
   "source": [
    "<h3>Try</h3> \n"
   ]
  },
  {
   "cell_type": "markdown",
   "id": "afc6e72f-8286-4657-a4db-37f6f3337516",
   "metadata": {},
   "source": [
    "Implement the tensor subtraction with <code>u</code> and <code>v</code> as u-v.\n"
   ]
  },
  {
   "cell_type": "code",
   "execution_count": 50,
   "id": "84c86dea-0ffd-45ae-bc11-726d452b5b47",
   "metadata": {},
   "outputs": [],
   "source": [
    "# Try by yourself to get a result of u-v\n",
    "\n",
    "u = torch.tensor([1, 0])\n",
    "v = torch.tensor([0, 1])"
   ]
  },
  {
   "cell_type": "markdown",
   "id": "e9846ba1-cc7e-4905-adf5-85c6fe83ab65",
   "metadata": {},
   "source": [
    "Double-click <b>here</b> for the solution.\n",
    "<!--\n",
    "print(\"The result tensor: \", u-v)\n",
    "-->\n"
   ]
  },
  {
   "cell_type": "markdown",
   "id": "dbacccb1-ad51-4c96-8d66-dffb7fda4072",
   "metadata": {},
   "source": [
    "Tensors must be of the same data type to perform addition as well as other operations.If you uncomment the  following code and try to run it you will get an error as the two tensors are of two different data types. **NOTE This lab was created on a older PyTorch version so in the current version we are using this is possible and will produce a float64 tensor.**\n"
   ]
  },
  {
   "cell_type": "code",
   "execution_count": 51,
   "id": "20049e2e-6c90-434f-b665-a463927a0779",
   "metadata": {},
   "outputs": [],
   "source": [
    "#torch.tensor([1,2,3],dtype=torch.int64)+torch.tensor([1,2,3],dtype=torch.float64)"
   ]
  },
  {
   "cell_type": "markdown",
   "id": "3a10ac2b-6991-49d4-9a62-a34ae4afc367",
   "metadata": {},
   "source": [
    "<!--Empty Space for separating topics-->\n"
   ]
  },
  {
   "cell_type": "markdown",
   "id": "0f180d5c-a3fc-412d-a32b-8e096105c7e6",
   "metadata": {},
   "source": [
    "You can add a scalar to the tensor. Use <code>u</code> as the sample tensor:\n"
   ]
  },
  {
   "cell_type": "code",
   "execution_count": 52,
   "id": "682d00f6-6375-4392-ad63-a353d928020e",
   "metadata": {},
   "outputs": [
    {
     "name": "stdout",
     "output_type": "stream",
     "text": [
      "Addition Result:  tensor([2, 3, 4, 0])\n"
     ]
    }
   ],
   "source": [
    "# tensor + scalar\n",
    "\n",
    "u = torch.tensor([1, 2, 3, -1])\n",
    "v = u + 1\n",
    "print (\"Addition Result: \", v)"
   ]
  },
  {
   "cell_type": "markdown",
   "id": "7ae56ffe-8d93-43bc-8fca-6c61ba5352a4",
   "metadata": {},
   "source": [
    "The result is simply adding 1 to each element in tensor <code>u</code> as shown in the following image:\n"
   ]
  },
  {
   "cell_type": "markdown",
   "id": "1d03f277-4d8c-4d77-9c0e-d847310924e7",
   "metadata": {},
   "source": [
    "<img src=\"https://s3-api.us-geo.objectstorage.softlayer.net/cf-courses-data/CognitiveClass/DL0110EN/notebook_images%20/chapter%201/brodcasting.gif\" width=\"500\" alt=\"tensor addition\">\n"
   ]
  },
  {
   "cell_type": "markdown",
   "id": "c479a87f-3564-4d81-a997-6a7f554a4060",
   "metadata": {},
   "source": [
    "<!--Empty Space for separating topics-->\n"
   ]
  },
  {
   "cell_type": "markdown",
   "id": "25eb0eff-c128-400e-b955-262d299d5de5",
   "metadata": {},
   "source": [
    "<h3>Tensor Multiplication </h3>\n"
   ]
  },
  {
   "cell_type": "markdown",
   "id": "487bd7ff-acd7-45b8-b989-37f565474299",
   "metadata": {},
   "source": [
    "Now, you'll review the multiplication between a tensor and a scalar.\n"
   ]
  },
  {
   "cell_type": "markdown",
   "id": "9cf08c89-cacd-4eb3-b918-4194508f1c10",
   "metadata": {},
   "source": [
    "Create a tensor with value <code>[1, 2]</code> and then multiply it by 2:\n"
   ]
  },
  {
   "cell_type": "code",
   "execution_count": 53,
   "id": "09dfe6c5-5306-4158-adc9-4603eca00d29",
   "metadata": {},
   "outputs": [
    {
     "name": "stdout",
     "output_type": "stream",
     "text": [
      "The result of 2 * u:  tensor([2, 4])\n"
     ]
    }
   ],
   "source": [
    "# tensor * scalar\n",
    "\n",
    "u = torch.tensor([1, 2])\n",
    "v = 2 * u\n",
    "print(\"The result of 2 * u: \", v)"
   ]
  },
  {
   "cell_type": "markdown",
   "id": "85734032-efc4-4f44-aa19-e2342df9915b",
   "metadata": {},
   "source": [
    "The result is <code>tensor([2, 4])</code>, so the code <code>2 * u</code> multiplies each element in the tensor by 2. This is how you get the product between a vector or matrix and a scalar in linear algebra.\n"
   ]
  },
  {
   "cell_type": "markdown",
   "id": "940ba801-142b-4d9a-a5b0-5bfd20e176af",
   "metadata": {},
   "source": [
    "<!--Empty Space for separating topics-->\n"
   ]
  },
  {
   "cell_type": "markdown",
   "id": "19e51a46-2382-4d58-8b0b-9801a777b5d9",
   "metadata": {},
   "source": [
    "You can use multiplication between two tensors.\n"
   ]
  },
  {
   "cell_type": "markdown",
   "id": "ee72e613-72cf-4c91-9d0d-e4fb8a98ef8e",
   "metadata": {},
   "source": [
    "Create two tensors <code>u</code> and <code>v</code> and then multiply them together:\n"
   ]
  },
  {
   "cell_type": "code",
   "execution_count": 54,
   "id": "182c5b5a-9e4d-4f1a-9384-23ba611f2017",
   "metadata": {},
   "outputs": [
    {
     "name": "stdout",
     "output_type": "stream",
     "text": [
      "The result of u * v tensor([3, 4])\n"
     ]
    }
   ],
   "source": [
    "# tensor * tensor\n",
    "\n",
    "u = torch.tensor([1, 2])\n",
    "v = torch.tensor([3, 2])\n",
    "w = u * v\n",
    "print (\"The result of u * v\", w)"
   ]
  },
  {
   "cell_type": "markdown",
   "id": "4550fc64-316c-4ea2-9e56-ba1acd5e7701",
   "metadata": {},
   "source": [
    "The result is simply <code>tensor([3, 4])</code>. This result is achieved by multiplying every element in <code>u</code> with the corresponding element in the same position <code>v</code>, which is similar to <i>[1 * 3, 2 * 2]</i>.\n"
   ]
  },
  {
   "cell_type": "markdown",
   "id": "9076d8b0-f669-4dac-88cb-e8036ed5bf20",
   "metadata": {},
   "source": [
    "<!--Empty Space for separating topics-->\n"
   ]
  },
  {
   "cell_type": "markdown",
   "id": "b6ebcb4a-ecfb-4770-af87-ca522a317bca",
   "metadata": {},
   "source": [
    "<h3>Dot Product</h3>\n"
   ]
  },
  {
   "cell_type": "markdown",
   "id": "2a1962f7-1e14-48a2-90a4-734ec24940b6",
   "metadata": {},
   "source": [
    "The dot product is a special operation for a vector that you can use in Torch.\n"
   ]
  },
  {
   "cell_type": "markdown",
   "id": "36758e7e-9546-45ff-aa02-8827d15d5c1c",
   "metadata": {},
   "source": [
    "Here is the dot product of the two tensors <code>u</code> and <code>v</code>:\n"
   ]
  },
  {
   "cell_type": "code",
   "execution_count": 55,
   "id": "450039f3-f03d-4547-9f51-9db310b34cf7",
   "metadata": {},
   "outputs": [
    {
     "name": "stdout",
     "output_type": "stream",
     "text": [
      "Dot Product of u, v: tensor(7)\n"
     ]
    }
   ],
   "source": [
    "# Calculate dot product of u, v\n",
    "\n",
    "u = torch.tensor([1, 2])\n",
    "v = torch.tensor([3, 2])\n",
    "\n",
    "print(\"Dot Product of u, v:\", torch.dot(u,v))"
   ]
  },
  {
   "cell_type": "markdown",
   "id": "7f5cf498-9d1e-417a-ac66-f44093f16872",
   "metadata": {},
   "source": [
    "The result is <code>tensor(7)</code>. The function is <i>1 x 3 + 2 x 2 = 7</i>.\n"
   ]
  },
  {
   "cell_type": "markdown",
   "id": "17ac0d5a-d6dd-4a29-8494-66fb1f67a59a",
   "metadata": {},
   "source": [
    "# 2D Tensor"
   ]
  },
  {
   "cell_type": "code",
   "execution_count": null,
   "id": "21a01564-9129-42a9-b329-959c0930d110",
   "metadata": {},
   "outputs": [],
   "source": []
  },
  {
   "cell_type": "markdown",
   "id": "d2681da6-f970-4ae8-b230-5689a4642795",
   "metadata": {},
   "source": [
    "<h2 id=\"Types_Shape\">Types and Shape</h2>\n"
   ]
  },
  {
   "cell_type": "markdown",
   "id": "01d3f15b-c9c0-4b1a-9868-4ba27699200a",
   "metadata": {},
   "source": [
    "The methods and types for 2D tensors is similar to the methods and types for 1D tensors which has been introduced in <i>Previous Lab</i>.\n"
   ]
  },
  {
   "cell_type": "markdown",
   "id": "a86e64c1-19a9-4401-a1c4-d59659d76279",
   "metadata": {},
   "source": [
    "Let us see how to convert a 2D list to a 2D tensor. First, let us create a 3X3 2D tensor. Then let us try to use <code>torch.tensor()</code> which we used for converting a 1D list to 1D tensor. Is it going to work?\n"
   ]
  },
  {
   "cell_type": "code",
   "execution_count": 56,
   "id": "1b1bc5d4-7238-40b2-a6b1-7b6993da65e3",
   "metadata": {},
   "outputs": [
    {
     "name": "stdout",
     "output_type": "stream",
     "text": [
      "The New 2D Tensor:  tensor([[11, 12, 13],\n",
      "        [21, 22, 23],\n",
      "        [31, 32, 33]])\n"
     ]
    }
   ],
   "source": [
    "# Convert 2D List to 2D Tensor\n",
    "\n",
    "twoD_list = [[11, 12, 13], [21, 22, 23], [31, 32, 33]]\n",
    "twoD_tensor = torch.tensor(twoD_list)\n",
    "print(\"The New 2D Tensor: \", twoD_tensor)"
   ]
  },
  {
   "cell_type": "markdown",
   "id": "9a781290-8cfc-4cf3-9819-54799cd96844",
   "metadata": {},
   "source": [
    "Bravo! The method <code>torch.tensor()</code> works perfectly.Now, let us try other functions we studied in the <i>Previous Lab</i>.\n"
   ]
  },
  {
   "cell_type": "markdown",
   "id": "63b0a27f-348d-42af-80f0-62d1e5cadc6a",
   "metadata": {},
   "source": [
    "<!--Empty Space for separating topics-->\n"
   ]
  },
  {
   "cell_type": "markdown",
   "id": "29d85bcf-f51e-4a74-ae62-7e6c662a1ab9",
   "metadata": {},
   "source": [
    "Let us try <code><i>tensor_obj</i>.ndimension()</code> (<code>tensor_obj</code>: This can be any tensor object), <code><i>tensor_obj</i>.shape</code>, and <code><i>tensor_obj</i>.size()</code>\n"
   ]
  },
  {
   "cell_type": "code",
   "execution_count": 57,
   "id": "93a4b510-c21c-4ccc-b20d-6d2970649e03",
   "metadata": {},
   "outputs": [
    {
     "name": "stdout",
     "output_type": "stream",
     "text": [
      "The dimension of twoD_tensor:  2\n",
      "The shape of twoD_tensor:  torch.Size([3, 3])\n",
      "The shape of twoD_tensor:  torch.Size([3, 3])\n",
      "The number of elements in twoD_tensor:  9\n"
     ]
    }
   ],
   "source": [
    "# Try tensor_obj.ndimension(), tensor_obj.shape, tensor_obj.size()\n",
    "\n",
    "print(\"The dimension of twoD_tensor: \", twoD_tensor.ndimension())\n",
    "print(\"The shape of twoD_tensor: \", twoD_tensor.shape)\n",
    "print(\"The shape of twoD_tensor: \", twoD_tensor.size())\n",
    "print(\"The number of elements in twoD_tensor: \", twoD_tensor.numel())"
   ]
  },
  {
   "cell_type": "markdown",
   "id": "5777f14d-a94f-442d-a2d6-cf65a9568f76",
   "metadata": {},
   "source": [
    "Because it is a 2D 3X3 tensor,  the outputs are correct.\n"
   ]
  },
  {
   "cell_type": "markdown",
   "id": "52ef9741-6dc7-40d7-8624-1b44d50fb764",
   "metadata": {},
   "source": [
    "<!--Empty Space for separating topics-->\n"
   ]
  },
  {
   "cell_type": "markdown",
   "id": "1b3be0ce-e0af-43fb-88b9-76982022eaf3",
   "metadata": {},
   "source": [
    "Now, let us try converting the tensor to a numpy array and convert the numpy array back to a tensor.\n"
   ]
  },
  {
   "cell_type": "code",
   "execution_count": 58,
   "id": "b33a7a23-4ec4-4916-be71-1d7751d7bb40",
   "metadata": {},
   "outputs": [
    {
     "name": "stdout",
     "output_type": "stream",
     "text": [
      "Tensor -> Numpy Array:\n",
      "The numpy array after converting:  [[11 12 13]\n",
      " [21 22 23]\n",
      " [31 32 33]]\n",
      "Type after converting:  int64\n",
      "================================================\n",
      "Numpy Array -> Tensor:\n",
      "The tensor after converting: tensor([[11, 12, 13],\n",
      "        [21, 22, 23],\n",
      "        [31, 32, 33]])\n",
      "Type after converting:  torch.int64\n"
     ]
    }
   ],
   "source": [
    "# Convert tensor to numpy array; Convert numpy array to tensor\n",
    "\n",
    "twoD_numpy = twoD_tensor.numpy()\n",
    "print(\"Tensor -> Numpy Array:\")\n",
    "print(\"The numpy array after converting: \", twoD_numpy)\n",
    "print(\"Type after converting: \", twoD_numpy.dtype)\n",
    "\n",
    "print(\"================================================\")\n",
    "\n",
    "new_twoD_tensor = torch.from_numpy(twoD_numpy)\n",
    "print(\"Numpy Array -> Tensor:\")\n",
    "print(\"The tensor after converting:\", new_twoD_tensor)\n",
    "print(\"Type after converting: \", new_twoD_tensor.dtype)"
   ]
  },
  {
   "cell_type": "markdown",
   "id": "cccc2bd7-ccd9-429c-8c9a-20d86ad1d25a",
   "metadata": {},
   "source": [
    "The result shows the tensor has successfully been converted to a numpy array and then converted back to a tensor.\n"
   ]
  },
  {
   "cell_type": "markdown",
   "id": "482ec359-fe5c-4486-ab17-86a47211e96b",
   "metadata": {},
   "source": [
    "<!--Empty Space for separating topics-->\n"
   ]
  },
  {
   "cell_type": "markdown",
   "id": "d0185c56-7ebc-40ba-a5c1-26df8fe27bf5",
   "metadata": {},
   "source": [
    "Now let us try to convert a Pandas Dataframe to a tensor. The process is the  Same as the 1D conversion, we can obtain the numpy array via the attribute <code>values</code>. Then, we can use <code>torch.from_numpy()</code> to convert the value of the Pandas Series to a tensor.\n"
   ]
  },
  {
   "cell_type": "code",
   "execution_count": 59,
   "id": "59363dde-6c38-4354-9466-9e1d663d8988",
   "metadata": {},
   "outputs": [
    {
     "name": "stdout",
     "output_type": "stream",
     "text": [
      "Pandas Dataframe to numpy:  [[ 11  12]\n",
      " [ 21  22]\n",
      " [ 31 312]]\n",
      "Type BEFORE converting:  int64\n",
      "================================================\n",
      "Tensor AFTER converting:  tensor([[ 11,  12],\n",
      "        [ 21,  22],\n",
      "        [ 31, 312]])\n",
      "Type AFTER converting:  torch.int64\n"
     ]
    }
   ],
   "source": [
    "# Try to convert the Panda Dataframe to tensor\n",
    "\n",
    "df = pd.DataFrame({'a':[11,21,31],'b':[12,22,312]})\n",
    "\n",
    "print(\"Pandas Dataframe to numpy: \", df.values)\n",
    "print(\"Type BEFORE converting: \", df.values.dtype)\n",
    "\n",
    "print(\"================================================\")\n",
    "\n",
    "new_tensor = torch.from_numpy(df.values)\n",
    "print(\"Tensor AFTER converting: \", new_tensor)\n",
    "print(\"Type AFTER converting: \", new_tensor.dtype)"
   ]
  },
  {
   "cell_type": "markdown",
   "id": "e1834bf5-f1a1-45fc-9062-d8a698f7488d",
   "metadata": {},
   "source": [
    "<!--Empty Space for separating topics-->\n"
   ]
  },
  {
   "cell_type": "markdown",
   "id": "03ec40b7-38ba-4d07-ac93-3564cef40c67",
   "metadata": {},
   "source": [
    "<!--Empty Space for separating topics-->\n"
   ]
  },
  {
   "cell_type": "markdown",
   "id": "6d0f732e-f971-4990-95a8-0e19b18e0415",
   "metadata": {},
   "source": [
    "<h3>Practice</h3>\n"
   ]
  },
  {
   "cell_type": "markdown",
   "id": "c0ca2334-b2ae-4b2c-bf6c-e9d895b31c9e",
   "metadata": {},
   "source": [
    "Try to convert the following Pandas Dataframe  to a tensor\n"
   ]
  },
  {
   "cell_type": "code",
   "execution_count": 60,
   "id": "096c4c11-9c6e-4ea2-8aec-2331eb515ed8",
   "metadata": {},
   "outputs": [],
   "source": [
    "# Practice: try to convert Pandas Series to tensor\n",
    "\n",
    "df = pd.DataFrame({'A':[11, 33, 22],'B':[3, 3, 2]})"
   ]
  },
  {
   "cell_type": "markdown",
   "id": "2474d71c-1a85-492b-9040-22dfc3a77123",
   "metadata": {},
   "source": [
    "Double-click <b>here</b> for the solution.\n",
    "\n",
    "<!--\n",
    "converted_tensor = torch.tensor(df.values)\n",
    "print (\"Tensor: \", converted_tensor)\n",
    "-->\n"
   ]
  },
  {
   "cell_type": "markdown",
   "id": "3f0ad503-fec3-400c-8115-75dd4dd09027",
   "metadata": {},
   "source": [
    "<h2 id=\"Index_Slice\">Indexing and Slicing</h2>\n"
   ]
  },
  {
   "cell_type": "markdown",
   "id": "dd3dbffb-f43a-4a12-bc43-7a23acf769ab",
   "metadata": {},
   "source": [
    "You can use rectangular brackets to access the different elements of the tensor. The correspondence between the rectangular brackets and the list and the rectangular representation is shown in the following figure for a 3X3 tensor:  \n"
   ]
  },
  {
   "cell_type": "markdown",
   "id": "1bfa0ed8-f369-492b-af71-8c60f472eea3",
   "metadata": {},
   "source": [
    "<img src=\"https://s3-api.us-geo.objectstorage.softlayer.net/cf-courses-data/CognitiveClass/DL0110EN/notebook_images%20/chapter%201/1.2index1.png\" width=\"500\" alt=\"Matrix Structure Introduce\">\n"
   ]
  },
  {
   "cell_type": "markdown",
   "id": "c078496a-613c-44ce-900d-9f1414ceaea7",
   "metadata": {},
   "source": [
    "You can access the 2nd-row 3rd-column as shown in the following figure:\n"
   ]
  },
  {
   "cell_type": "markdown",
   "id": "8026bf2d-b413-48d1-87a1-e64e53cbba4c",
   "metadata": {},
   "source": [
    "<img src=\"https://s3-api.us-geo.objectstorage.softlayer.net/cf-courses-data/CognitiveClass/DL0110EN/notebook_images%20/chapter%201/1.2index.png\" width=\"500\" alt=\"Example of Matrix Index\">\n"
   ]
  },
  {
   "cell_type": "markdown",
   "id": "88b0fa04-c6ed-49bd-bd63-93ddc3f1a491",
   "metadata": {},
   "source": [
    "You simply use the square brackets and the indices corresponding to the element that you want.\n"
   ]
  },
  {
   "cell_type": "markdown",
   "id": "d1952488-59b3-45aa-831b-c5e1f1f25b6c",
   "metadata": {},
   "source": [
    "Now, let us try to access the value on position 2nd-row 3rd-column. Remember that the index is always 1 less than how we count rows and columns. There are two ways to access the certain value of a tensor. The example in code will be the same as the example picture above.\n"
   ]
  },
  {
   "cell_type": "code",
   "execution_count": 61,
   "id": "493657f5-86fe-4a40-b85c-207c40d950d2",
   "metadata": {},
   "outputs": [
    {
     "name": "stdout",
     "output_type": "stream",
     "text": [
      "What is the value on 2nd-row 3rd-column?  tensor(23)\n",
      "What is the value on 2nd-row 3rd-column?  tensor(23)\n"
     ]
    }
   ],
   "source": [
    "# Use tensor_obj[row, column] and tensor_obj[row][column] to access certain position\n",
    "\n",
    "tensor_example = torch.tensor([[11, 12, 13], [21, 22, 23], [31, 32, 33]])\n",
    "print(\"What is the value on 2nd-row 3rd-column? \", tensor_example[1, 2])\n",
    "print(\"What is the value on 2nd-row 3rd-column? \", tensor_example[1][2])"
   ]
  },
  {
   "cell_type": "markdown",
   "id": "51ea4e6b-f89e-43a0-b4c8-4985667506ac",
   "metadata": {},
   "source": [
    "As we can see, both methods return the true value (the same value as the picture above). Therefore, both of the methods work.\n"
   ]
  },
  {
   "cell_type": "markdown",
   "id": "acfff474-6520-4488-b0a8-80045532bedf",
   "metadata": {},
   "source": [
    "<!--Empty Space for separating topics-->\n"
   ]
  },
  {
   "cell_type": "markdown",
   "id": "90f22ddf-190b-497c-8b2d-b3b742548b8a",
   "metadata": {},
   "source": [
    "Consider the elements shown in the following figure: \n"
   ]
  },
  {
   "cell_type": "markdown",
   "id": "a46f3582-3cf0-4564-9d5e-c5868b0f451e",
   "metadata": {},
   "source": [
    "<img src=\"https://s3-api.us-geo.objectstorage.softlayer.net/cf-courses-data/CognitiveClass/DL0110EN/notebook_images%20/chapter%201/1.2_index2.png\" width=\"500\" alt=\"Example of Matrix Index\">\n"
   ]
  },
  {
   "cell_type": "markdown",
   "id": "7d794ce9-7e4c-4052-b518-440e08d1ab51",
   "metadata": {},
   "source": [
    "Use the method above, we can access the 1st-row 1st-column by <code>tensor_example[0][0]</code>\n"
   ]
  },
  {
   "cell_type": "code",
   "execution_count": 62,
   "id": "02f389c9-e8a6-434c-af6f-bbe3684ebb70",
   "metadata": {},
   "outputs": [
    {
     "data": {
      "text/plain": [
       "tensor(11)"
      ]
     },
     "execution_count": 62,
     "metadata": {},
     "output_type": "execute_result"
    }
   ],
   "source": [
    "tensor_example[0][0]"
   ]
  },
  {
   "cell_type": "markdown",
   "id": "9bc462ff-0e26-4e97-b390-de9cf4fd885b",
   "metadata": {},
   "source": [
    "But what if we want to get the value on both 1st-row 1st-column and 1st-row 2nd-column?\n"
   ]
  },
  {
   "cell_type": "markdown",
   "id": "3584d0f3-b0ae-493d-93ca-ba0f0492873b",
   "metadata": {},
   "source": [
    "You can also use slicing in a tensor. Consider the following figure. You want to obtain the 1st two columns in the 1st row:  \n"
   ]
  },
  {
   "cell_type": "markdown",
   "id": "a970ed05-20c1-4ee5-8590-94d4c23a92c8",
   "metadata": {},
   "source": [
    "<img src=\"https://s3-api.us-geo.objectstorage.softlayer.net/cf-courses-data/CognitiveClass/DL0110EN/notebook_images%20/chapter%201/1.2sliceing.png\" width=\"500\" alt=\"Example of Matrix Index and Slicing\">\n"
   ]
  },
  {
   "cell_type": "markdown",
   "id": "70a3b132-c535-48cd-b033-c8f0e34f55ec",
   "metadata": {},
   "source": [
    "## Let us see how  we use slicing with 2D tensors to get the values in the above picture.\n"
   ]
  },
  {
   "cell_type": "code",
   "execution_count": 63,
   "id": "9266f9dc-2999-499e-b834-07df367a28b5",
   "metadata": {},
   "outputs": [
    {
     "name": "stdout",
     "output_type": "stream",
     "text": [
      "What is the value on 1st-row first two columns?  tensor([11, 12])\n",
      "What is the value on 1st-row first two columns?  tensor([11, 12])\n"
     ]
    }
   ],
   "source": [
    "# Use tensor_obj[begin_row_number: end_row_number, begin_column_number: end_column number] \n",
    "# and tensor_obj[row][begin_column_number: end_column number] to do the slicing\n",
    "\n",
    "tensor_example = torch.tensor([[11, 12, 13], [21, 22, 23], [31, 32, 33]])\n",
    "print(\"What is the value on 1st-row first two columns? \", tensor_example[0, 0:2])\n",
    "print(\"What is the value on 1st-row first two columns? \", tensor_example[0][0:2])"
   ]
  },
  {
   "cell_type": "markdown",
   "id": "8ce81f11-037d-4278-992b-18722177113b",
   "metadata": {},
   "source": [
    "We get the result as <code>tensor([11, 12])</code> successfully.\n"
   ]
  },
  {
   "cell_type": "markdown",
   "id": "c0e13b50-afd6-4b41-a64f-8cffcdcc8533",
   "metadata": {},
   "source": [
    "<!--Empty Space for separating topics-->\n"
   ]
  },
  {
   "cell_type": "markdown",
   "id": "562025ec-d21a-478d-8d4a-04876839056b",
   "metadata": {},
   "source": [
    "But we <b>can't</b> combine using slicing on row and pick one column by using the code <code>tensor_obj[begin_row_number: end_row_number][begin_column_number: end_column number]</code>. The reason is that the slicing will be applied on the tensor first. The result type will be a two dimension again. The second bracket will no longer represent the index of the column it will be the index of the row at that time. Let us see an example. \n"
   ]
  },
  {
   "cell_type": "code",
   "execution_count": 64,
   "id": "9f89ca15-3f7f-4eaa-af1c-75d6caedc0cd",
   "metadata": {},
   "outputs": [
    {
     "name": "stdout",
     "output_type": "stream",
     "text": [
      "1. Slicing step on tensor_example: \n",
      "Result after tensor_example[1:3]:  tensor([[21, 22, 23],\n",
      "        [31, 32, 33]])\n",
      "Dimension after tensor_example[1:3]:  2\n",
      "================================================\n",
      "2. Pick an index on sliced_tensor_example: \n",
      "Result after sliced_tensor_example[1]:  tensor([31, 32, 33])\n",
      "Dimension after sliced_tensor_example[1]:  1\n",
      "================================================\n",
      "3. Combine these step together:\n",
      "Result:  tensor([31, 32, 33])\n",
      "Dimension:  1\n"
     ]
    }
   ],
   "source": [
    "# Give an idea on tensor_obj[number: number][number]\n",
    "\n",
    "tensor_example = torch.tensor([[11, 12, 13], [21, 22, 23], [31, 32, 33]])\n",
    "sliced_tensor_example = tensor_example[1:3]\n",
    "print(\"1. Slicing step on tensor_example: \")\n",
    "print(\"Result after tensor_example[1:3]: \", sliced_tensor_example)\n",
    "print(\"Dimension after tensor_example[1:3]: \", sliced_tensor_example.ndimension())\n",
    "print(\"================================================\")\n",
    "print(\"2. Pick an index on sliced_tensor_example: \")\n",
    "print(\"Result after sliced_tensor_example[1]: \", sliced_tensor_example[1])\n",
    "print(\"Dimension after sliced_tensor_example[1]: \", sliced_tensor_example[1].ndimension())\n",
    "print(\"================================================\")\n",
    "print(\"3. Combine these step together:\")\n",
    "print(\"Result: \", tensor_example[1:3][1])\n",
    "print(\"Dimension: \", tensor_example[1:3][1].ndimension())"
   ]
  },
  {
   "cell_type": "markdown",
   "id": "9d2b177b-e256-4fe8-885f-beae68392444",
   "metadata": {},
   "source": [
    "See the results and dimensions in 2 and 3 are the same. Both of them contains the 3rd row in the <code>tensor_example</code>, but not the last two values in the 3rd column.\n"
   ]
  },
  {
   "cell_type": "markdown",
   "id": "3ea74e15-c315-4278-80e1-120847db6ea1",
   "metadata": {},
   "source": [
    "<!--Empty Space for separating topics-->\n"
   ]
  },
  {
   "cell_type": "markdown",
   "id": "1cd8520d-9213-41b6-ad97-50abf282414f",
   "metadata": {},
   "source": [
    "So how can we get the elements in the 3rd column with the last two rows? As the below picture.\n"
   ]
  },
  {
   "cell_type": "markdown",
   "id": "41ec0f54-62ae-40de-8803-3903c7c19998",
   "metadata": {},
   "source": [
    "<img src=\"https://s3-api.us-geo.objectstorage.softlayer.net/cf-courses-data/CognitiveClass/DL0110EN/notebook_images%20/chapter%201/1.2slicing2.png\" width=\"500\" alt=\"Example of Matrix Index and Slicing\">\n"
   ]
  },
  {
   "cell_type": "markdown",
   "id": "8275cf39-cd26-4b60-919b-0c17452ec01c",
   "metadata": {},
   "source": [
    "Let's see the code below.\n"
   ]
  },
  {
   "cell_type": "code",
   "execution_count": 65,
   "id": "1ae19fe3-65a5-4018-912e-757b56b568d2",
   "metadata": {},
   "outputs": [
    {
     "name": "stdout",
     "output_type": "stream",
     "text": [
      "What is the value on 3rd-column last two rows?  tensor([23, 33])\n"
     ]
    }
   ],
   "source": [
    "# Use tensor_obj[begin_row_number: end_row_number, begin_column_number: end_column number] \n",
    "\n",
    "tensor_example = torch.tensor([[11, 12, 13], [21, 22, 23], [31, 32, 33]])\n",
    "print(\"What is the value on 3rd-column last two rows? \", tensor_example[1:3, 2])"
   ]
  },
  {
   "cell_type": "markdown",
   "id": "6bb8bc6f-bd87-4986-8458-74fc98295fed",
   "metadata": {},
   "source": [
    "Fortunately, the code <code>tensor_obj[begin_row_number: end_row_number, begin_column_number: end_column number]</code> is still works.\n"
   ]
  },
  {
   "cell_type": "markdown",
   "id": "eaa51746-842e-4c2b-9669-d920d4d7217b",
   "metadata": {},
   "source": [
    "<!--Empty Space for separating topics-->\n"
   ]
  },
  {
   "cell_type": "markdown",
   "id": "21928b1e-fd03-4da7-9791-e10ae83a7cf6",
   "metadata": {},
   "source": [
    "<h3>Practice</h3>\n"
   ]
  },
  {
   "cell_type": "markdown",
   "id": "a2b77799-b498-4e50-9962-3ba1bd7ff889",
   "metadata": {},
   "source": [
    "Try to change the values on the second column and the last two rows to 0. Basically, change the values on <code>tensor_ques[1][1]</code> and <code>tensor_ques[2][1]</code> to 0.\n"
   ]
  },
  {
   "cell_type": "code",
   "execution_count": 66,
   "id": "b80d9a09-bfca-489e-a7b4-f3e09e12838b",
   "metadata": {},
   "outputs": [],
   "source": [
    "# Practice: Use slice and index to change the values on the matrix tensor_ques.\n",
    "\n",
    "tensor_ques = torch.tensor([[11, 12, 13], [21, 22, 23], [31, 32, 33]])\n"
   ]
  },
  {
   "cell_type": "markdown",
   "id": "321fceec-925a-4b29-8c9a-d723fcf748e6",
   "metadata": {},
   "source": [
    "Double-click <b>here</b> for the solution.\n",
    "\n",
    "<!--\n",
    "tensor_ques[1:3, 1] = 0\n",
    "print(\"The result: \", tensor_ques)\n",
    "-->\n"
   ]
  },
  {
   "cell_type": "markdown",
   "id": "a965f848-d55b-48a6-9115-bbe1af51e6af",
   "metadata": {},
   "source": [
    "<!--Empty Space for separating topics-->\n"
   ]
  },
  {
   "cell_type": "markdown",
   "id": "21d2dd04-245f-4205-82b6-964e1facddfc",
   "metadata": {},
   "source": [
    "<h2 id=\"Tensor_Op\">Tensor Operations</h2> \n"
   ]
  },
  {
   "cell_type": "markdown",
   "id": "92e85bef-d8f1-4013-82eb-35a5141018ac",
   "metadata": {},
   "source": [
    "We can also do some calculations on 2D tensors.\n"
   ]
  },
  {
   "cell_type": "markdown",
   "id": "c4011a0b-395d-40ea-89fb-c53bc6367f13",
   "metadata": {},
   "source": [
    "<!--Empty Space for separating topics-->\n"
   ]
  },
  {
   "cell_type": "markdown",
   "id": "ffae945e-dc04-4995-bc55-81aea46e3cc6",
   "metadata": {},
   "source": [
    "<h3>Tensor Addition</h3>\n"
   ]
  },
  {
   "cell_type": "markdown",
   "id": "264fbf76-c55d-4d7a-9019-a0a7d2df2b3f",
   "metadata": {},
   "source": [
    "You can also add tensors; the process is identical to matrix addition. Matrix addition of <b>X</b> and <b>Y</b> is shown in the following figure:\n"
   ]
  },
  {
   "cell_type": "markdown",
   "id": "39f876f7-cfde-448a-aae5-5f93f606ab35",
   "metadata": {},
   "source": [
    "<img src=\"https://s3-api.us-geo.objectstorage.softlayer.net/cf-courses-data/CognitiveClass/DL0110EN/notebook_images%20/chapter%201/1.2add.png\" width=\"500\" alt=\"Tensor Addition in 2D\">\n"
   ]
  },
  {
   "cell_type": "markdown",
   "id": "7761f909-b435-461d-970d-61992db58d4e",
   "metadata": {},
   "source": [
    "Let us see how tensor addition works with <code>X</code> and <code>Y</code>.\n"
   ]
  },
  {
   "cell_type": "code",
   "execution_count": 67,
   "id": "18509642-f9a5-498c-9905-2059477390f0",
   "metadata": {},
   "outputs": [
    {
     "name": "stdout",
     "output_type": "stream",
     "text": [
      "The result of X + Y:  tensor([[3, 1],\n",
      "        [1, 3]])\n"
     ]
    }
   ],
   "source": [
    "# Calculate [[1, 0], [0, 1]] + [[2, 1], [1, 2]]\n",
    "\n",
    "X = torch.tensor([[1, 0],[0, 1]]) \n",
    "Y = torch.tensor([[2, 1],[1, 2]])\n",
    "X_plus_Y = X + Y\n",
    "print(\"The result of X + Y: \", X_plus_Y)"
   ]
  },
  {
   "cell_type": "markdown",
   "id": "1dca51f9-3af3-4b94-839b-41af9436b067",
   "metadata": {},
   "source": [
    "Like the result shown in the picture above. The result is <code>[[3, 1], [1, 3]]</code>\n"
   ]
  },
  {
   "cell_type": "markdown",
   "id": "ab59e71b-f8d4-4c76-8633-2a3a13b9c53c",
   "metadata": {},
   "source": [
    "<!--Empty Space for separating topics-->\n"
   ]
  },
  {
   "cell_type": "markdown",
   "id": "bd68c00c-930c-40ad-bd0c-ef354e576f5e",
   "metadata": {},
   "source": [
    "<h3> Scalar Multiplication </h3>\n"
   ]
  },
  {
   "cell_type": "markdown",
   "id": "c4dfe5cf-a1df-4958-abd1-e904bcdfedab",
   "metadata": {},
   "source": [
    "Multiplying a tensor by a scalar is identical to multiplying a matrix by a scaler. If you multiply the matrix <b>Y</b> by the scalar 2, you simply multiply every element in the matrix by 2 as shown in the figure:\n"
   ]
  },
  {
   "cell_type": "markdown",
   "id": "92e04f2c-a975-4aab-abcc-c209656abbca",
   "metadata": {},
   "source": [
    "<img src=\"https://s3-api.us-geo.objectstorage.softlayer.net/cf-courses-data/CognitiveClass/DL0110EN/notebook_images%20/chapter%201/1.2scaller_mult.png\" width=\"500\" alt=\"The product of tensor and scalar\">\n"
   ]
  },
  {
   "cell_type": "markdown",
   "id": "1dee3f7c-6a7a-4877-9fac-b29b0137d5ba",
   "metadata": {},
   "source": [
    "Let us try to calculate the product of <b>2Y</b>.\n"
   ]
  },
  {
   "cell_type": "code",
   "execution_count": 68,
   "id": "a9439410-7433-4e09-a82e-9a098d7fb916",
   "metadata": {},
   "outputs": [
    {
     "name": "stdout",
     "output_type": "stream",
     "text": [
      "The result of 2Y:  tensor([[4, 2],\n",
      "        [2, 4]])\n"
     ]
    }
   ],
   "source": [
    "# Calculate 2 * [[2, 1], [1, 2]]\n",
    "\n",
    "Y = torch.tensor([[2, 1], [1, 2]]) \n",
    "two_Y = 2 * Y\n",
    "print(\"The result of 2Y: \", two_Y)"
   ]
  },
  {
   "cell_type": "markdown",
   "id": "8c49ab04-590a-450d-8900-e0de54082b84",
   "metadata": {},
   "source": [
    "<!--Empty Space for separating topics-->\n"
   ]
  },
  {
   "cell_type": "markdown",
   "id": "01c8a790-80fe-4302-9f36-1d5a6e277da8",
   "metadata": {},
   "source": [
    "<h3>Element-wise Product/Hadamard Product</h3>\n"
   ]
  },
  {
   "cell_type": "markdown",
   "id": "04f281e6-ed03-41da-b8d0-fe41c7d5da4b",
   "metadata": {},
   "source": [
    "Multiplication of two tensors corresponds to an element-wise product or Hadamard product.  Consider matrix the <b>X</b> and <b>Y</b> with the same size. The Hadamard product corresponds to multiplying each of the elements at the same position, that is, multiplying elements with the same color together. The result is a new matrix that is the same size as matrix <b>X</b> and <b>Y</b> as shown in the following figure:\n"
   ]
  },
  {
   "cell_type": "markdown",
   "id": "0579e9b2-7608-4832-a16f-763ddf0849a9",
   "metadata": {},
   "source": [
    " <a><img src=\"https://s3-api.us-geo.objectstorage.softlayer.net/cf-courses-data/CognitiveClass/DL0110EN/notebook_images%20/chapter%201/1.2tensor_pruduct.png\" width=\"500\" align=\"center\"> </a>\n"
   ]
  },
  {
   "cell_type": "markdown",
   "id": "c06fe9d8-6cfc-416c-ac10-86a3015c103f",
   "metadata": {},
   "source": [
    "The code below calculates the element-wise product of the tensor <strong>X</strong> and <strong>Y</strong>:\n"
   ]
  },
  {
   "cell_type": "code",
   "execution_count": 69,
   "id": "05a4b825-8118-4bd4-81ea-4b467cb8a6ad",
   "metadata": {},
   "outputs": [
    {
     "name": "stdout",
     "output_type": "stream",
     "text": [
      "The result of X * Y:  tensor([[2, 0],\n",
      "        [0, 2]])\n"
     ]
    }
   ],
   "source": [
    "# Calculate [[1, 0], [0, 1]] * [[2, 1], [1, 2]]\n",
    "\n",
    "X = torch.tensor([[1, 0], [0, 1]])\n",
    "Y = torch.tensor([[2, 1], [1, 2]]) \n",
    "X_times_Y = X * Y\n",
    "print(\"The result of X * Y: \", X_times_Y)"
   ]
  },
  {
   "cell_type": "markdown",
   "id": "6746ad93-a14f-468f-9509-895a5648cca9",
   "metadata": {},
   "source": [
    "This is a simple calculation. The result from the code matches the result shown in the picture.\n"
   ]
  },
  {
   "cell_type": "markdown",
   "id": "84cbd16d-fb20-4394-a038-61c60ea0c812",
   "metadata": {},
   "source": [
    "<!--Empty Space for separating topics-->\n"
   ]
  },
  {
   "cell_type": "markdown",
   "id": "c593fe9f-d65b-45f2-859b-03ed0cc09dc2",
   "metadata": {},
   "source": [
    "<h3>Matrix Multiplication </h3>\n"
   ]
  },
  {
   "cell_type": "markdown",
   "id": "2cc46270-8b48-405e-a248-bcf0decc1f21",
   "metadata": {},
   "source": [
    "We can also apply matrix multiplication to two tensors, if you have learned linear algebra, you should know that in the multiplication of two matrices order matters. This means if <i>X * Y</i> is valid, it does not mean <i>Y * X</i> is valid. The number of columns of the matrix on the left side of the multiplication sign must equal to the number of rows of the matrix on the right side.\n"
   ]
  },
  {
   "cell_type": "markdown",
   "id": "86bb024e-9d62-4b4f-8e2a-90b6becbc566",
   "metadata": {},
   "source": [
    "First, let us create a tensor <code>X</code> with size 2X3. Then, let us create another tensor <code>Y</code> with size 3X2. Since the number of columns of <code>X</code> is equal to the number of rows of <code>Y</code>. We are able to perform the multiplication.\n"
   ]
  },
  {
   "cell_type": "markdown",
   "id": "1e982197-82a6-4d5e-813a-19c2f84971c7",
   "metadata": {},
   "source": [
    "We use <code>torch.mm()</code> for calculating the multiplication between tensors with different sizes.\n"
   ]
  },
  {
   "cell_type": "code",
   "execution_count": 70,
   "id": "c495ab29-a08e-4ba2-ae30-8c963fc82e7a",
   "metadata": {},
   "outputs": [
    {
     "name": "stdout",
     "output_type": "stream",
     "text": [
      "The result of A * B:  tensor([[0, 2],\n",
      "        [0, 2]])\n"
     ]
    }
   ],
   "source": [
    "# Calculate [[0, 1, 1], [1, 0, 1]] * [[1, 1], [1, 1], [-1, 1]]\n",
    "\n",
    "A = torch.tensor([[0, 1, 1], [1, 0, 1]])\n",
    "B = torch.tensor([[1, 1], [1, 1], [-1, 1]])\n",
    "A_times_B = torch.mm(A,B)\n",
    "print(\"The result of A * B: \", A_times_B)"
   ]
  },
  {
   "cell_type": "markdown",
   "id": "42d32810-18f1-4db2-a7fb-58f610a0c9d2",
   "metadata": {},
   "source": [
    "<a name=\"Derivative\"><h1 id=\"Derivative\">Derivatives</h1></a>\n"
   ]
  },
  {
   "cell_type": "markdown",
   "id": "54ddec98-29af-4d30-87f9-f2cee111b01f",
   "metadata": {},
   "source": [
    "Let us create the tensor <code>x</code> and set the parameter <code>requires_grad</code> to true because you are going to take the derivative of the tensor.\n"
   ]
  },
  {
   "cell_type": "code",
   "execution_count": 71,
   "id": "32debdfe-4c66-4992-8bb5-477bd1271c89",
   "metadata": {},
   "outputs": [
    {
     "name": "stdout",
     "output_type": "stream",
     "text": [
      "The tensor x:  tensor(2., requires_grad=True)\n"
     ]
    }
   ],
   "source": [
    "# Create a tensor x\n",
    "\n",
    "x = torch.tensor(2.0, requires_grad = True)\n",
    "print(\"The tensor x: \", x)"
   ]
  },
  {
   "cell_type": "markdown",
   "id": "3a0b8071-b380-4257-a148-5480778da077",
   "metadata": {},
   "source": [
    "Then let us create a tensor according to the equation $ y=x^2 $.\n"
   ]
  },
  {
   "cell_type": "code",
   "execution_count": 72,
   "id": "062aeefa-deb2-4c26-ba84-4bafb6a7ca5a",
   "metadata": {},
   "outputs": [
    {
     "name": "stdout",
     "output_type": "stream",
     "text": [
      "The result of y = x^2:  tensor(4., grad_fn=<PowBackward0>)\n"
     ]
    }
   ],
   "source": [
    "# Create a tensor y according to y = x^2\n",
    "\n",
    "y = x ** 2\n",
    "print(\"The result of y = x^2: \", y)"
   ]
  },
  {
   "cell_type": "markdown",
   "id": "1ad62f0b-d4ab-4feb-a03f-4ea12d3a4a4e",
   "metadata": {},
   "source": [
    "Then let us take the derivative with respect x at x = 2\n"
   ]
  },
  {
   "cell_type": "code",
   "execution_count": 73,
   "id": "75002aad-fd2c-4e95-8f96-2d93656ddfc1",
   "metadata": {},
   "outputs": [
    {
     "name": "stdout",
     "output_type": "stream",
     "text": [
      "The dervative at x = 2:  tensor(4.)\n"
     ]
    }
   ],
   "source": [
    "# Take the derivative. Try to print out the derivative at the value x = 2\n",
    "\n",
    "y.backward()\n",
    "print(\"The dervative at x = 2: \", x.grad)"
   ]
  },
  {
   "cell_type": "markdown",
   "id": "7923926d-2eef-4119-b1e6-c05fe5891b44",
   "metadata": {},
   "source": [
    "The preceding lines perform the following operation: \n"
   ]
  },
  {
   "cell_type": "markdown",
   "id": "c86a1699-b759-44cb-a721-3e7d181f9bd9",
   "metadata": {},
   "source": [
    "$\\frac{\\mathrm{dy(x)}}{\\mathrm{dx}}=2x$\n"
   ]
  },
  {
   "cell_type": "markdown",
   "id": "c112d4c8-e731-40b4-b39e-82f558a77ed9",
   "metadata": {},
   "source": [
    "$\\frac{\\mathrm{dy(x=2)}}{\\mathrm{dx}}=2(2)=4$\n"
   ]
  },
  {
   "cell_type": "code",
   "execution_count": 74,
   "id": "9d850ad1-b8a0-4ec8-b8dc-6b4ca68bc24f",
   "metadata": {},
   "outputs": [
    {
     "name": "stdout",
     "output_type": "stream",
     "text": [
      "data: tensor(2.)\n",
      "grad_fn: None\n",
      "grad: tensor(4.)\n",
      "is_leaf: True\n",
      "requires_grad: True\n"
     ]
    }
   ],
   "source": [
    "print('data:',x.data)\n",
    "print('grad_fn:',x.grad_fn)\n",
    "print('grad:',x.grad)\n",
    "print(\"is_leaf:\",x.is_leaf)\n",
    "print(\"requires_grad:\",x.requires_grad)"
   ]
  },
  {
   "cell_type": "code",
   "execution_count": 75,
   "id": "b9f669f9-482d-4a45-8832-ba5d410af68d",
   "metadata": {},
   "outputs": [
    {
     "name": "stdout",
     "output_type": "stream",
     "text": [
      "data: tensor(4.)\n",
      "grad_fn: <PowBackward0 object at 0x77a870da6850>\n",
      "grad: None\n",
      "is_leaf: False\n",
      "requires_grad: True\n"
     ]
    },
    {
     "name": "stderr",
     "output_type": "stream",
     "text": [
      "/tmp/ipykernel_314297/1355624623.py:3: UserWarning: The .grad attribute of a Tensor that is not a leaf Tensor is being accessed. Its .grad attribute won't be populated during autograd.backward(). If you indeed want the .grad field to be populated for a non-leaf Tensor, use .retain_grad() on the non-leaf Tensor. If you access the non-leaf Tensor by mistake, make sure you access the leaf Tensor instead. See github.com/pytorch/pytorch/pull/30531 for more informations. (Triggered internally at aten/src/ATen/core/TensorBody.h:489.)\n",
      "  print('grad:',y.grad)\n"
     ]
    }
   ],
   "source": [
    "print('data:',y.data)\n",
    "print('grad_fn:',y.grad_fn)\n",
    "print('grad:',y.grad)\n",
    "print(\"is_leaf:\",y.is_leaf)\n",
    "print(\"requires_grad:\",y.requires_grad)"
   ]
  },
  {
   "cell_type": "markdown",
   "id": "08ffbd22-234f-4dce-ad1d-249d27f75f07",
   "metadata": {},
   "source": [
    "Let us try to calculate the derivative for a more complicated function. \n"
   ]
  },
  {
   "cell_type": "code",
   "execution_count": 76,
   "id": "1ba63770-444e-4b2c-9575-bdbc5cf4d369",
   "metadata": {},
   "outputs": [
    {
     "name": "stdout",
     "output_type": "stream",
     "text": [
      "The result of y = x^2 + 2x + 1:  tensor(9., grad_fn=<AddBackward0>)\n",
      "The dervative at x = 2:  tensor(6.)\n"
     ]
    }
   ],
   "source": [
    "# Calculate the y = x^2 + 2x + 1, then find the derivative \n",
    "\n",
    "x = torch.tensor(2.0, requires_grad = True)\n",
    "y = x ** 2 + 2 * x + 1\n",
    "print(\"The result of y = x^2 + 2x + 1: \", y)\n",
    "y.backward()\n",
    "print(\"The dervative at x = 2: \", x.grad)"
   ]
  },
  {
   "cell_type": "markdown",
   "id": "d20c32f3-c607-4dd4-a9e1-eabbf8522375",
   "metadata": {},
   "source": [
    "The function is in the following form:\n",
    "$y=x^{2}+2x+1$\n"
   ]
  },
  {
   "cell_type": "markdown",
   "id": "071a6a1c-8782-47bc-8909-e82ef9a01aa1",
   "metadata": {},
   "source": [
    "The derivative is given by:\n"
   ]
  },
  {
   "cell_type": "markdown",
   "id": "dba03735-49c2-47ee-ae37-a6907249bbc7",
   "metadata": {},
   "source": [
    "$\\frac{\\mathrm{dy(x)}}{\\mathrm{dx}}=2x+2$\n",
    "\n",
    "$\\frac{\\mathrm{dy(x=2)}}{\\mathrm{dx}}=2(2)+2=6$\n"
   ]
  },
  {
   "cell_type": "markdown",
   "id": "d65d0fbb-8c07-4bc2-a141-df727cc0f20f",
   "metadata": {},
   "source": [
    "<!--Empty Space for separating topics-->\n"
   ]
  },
  {
   "cell_type": "markdown",
   "id": "47d96416-f1dc-40e8-8c49-6cc20734f5bc",
   "metadata": {},
   "source": [
    "<h3>Practice</h3>\n"
   ]
  },
  {
   "cell_type": "markdown",
   "id": "6566c205-dee1-46bb-941a-976777221f51",
   "metadata": {},
   "source": [
    "Determine the derivative of $ y = 2x^3+x $ at $x=1$\n"
   ]
  },
  {
   "cell_type": "code",
   "execution_count": 77,
   "id": "51359f62-29f1-47e8-a7dd-37605f482a6f",
   "metadata": {},
   "outputs": [],
   "source": [
    "# Practice: Calculate the derivative of y = 2x^3 + x at x = 1\n",
    "\n",
    "# Type your code here"
   ]
  },
  {
   "cell_type": "markdown",
   "id": "bbc5db7c-d47b-47b5-a0f1-e1526c29ded0",
   "metadata": {},
   "source": [
    "Double-click <b>here</b> for the solution.\n",
    "<!-- \n",
    "x = torch.tensor(1.0, requires_grad=True)\n",
    "y = 2 * x ** 3 + x\n",
    "y.backward()\n",
    "print(\"The derivative result: \", x.grad)\n",
    " -->\n"
   ]
  },
  {
   "cell_type": "markdown",
   "id": "9e80496f-dd00-49b6-9e35-359135a92947",
   "metadata": {},
   "source": [
    "<!--Empty Space for separating topics-->\n"
   ]
  },
  {
   "cell_type": "markdown",
   "id": "47a9fbab-a66f-477e-8be8-5b97dc42810f",
   "metadata": {},
   "source": [
    " We can implement our own custom autograd Functions by subclassing\n",
    "    torch.autograd.Function and implementing the forward and backward passes\n",
    "    which operate on Tensors\n"
   ]
  },
  {
   "cell_type": "code",
   "execution_count": 78,
   "id": "e1892eb2-1e54-494d-8e2f-28278c0372e3",
   "metadata": {},
   "outputs": [],
   "source": [
    "class SQ(torch.autograd.Function):\n",
    "\n",
    "\n",
    "    @staticmethod\n",
    "    def forward(ctx,i):\n",
    "        \"\"\"\n",
    "        In the forward pass we receive a Tensor containing the input and return\n",
    "        a Tensor containing the output. ctx is a context object that can be used\n",
    "        to stash information for backward computation. You can cache arbitrary\n",
    "        objects for use in the backward pass using the ctx.save_for_backward method.\n",
    "        \"\"\"\n",
    "        result=i**2\n",
    "        ctx.save_for_backward(i)\n",
    "        return result\n",
    "\n",
    "    @staticmethod\n",
    "    def backward(ctx, grad_output):\n",
    "        \"\"\"\n",
    "        In the backward pass we receive a Tensor containing the gradient of the loss\n",
    "        with respect to the output, and we need to compute the gradient of the loss\n",
    "        with respect to the input.\n",
    "        \"\"\"\n",
    "        i, = ctx.saved_tensors\n",
    "        grad_output = 2*i\n",
    "        return grad_output"
   ]
  },
  {
   "cell_type": "markdown",
   "id": "84791e74-1ee5-4a58-b340-12beb09356f4",
   "metadata": {},
   "source": [
    "We can apply it the function  \n"
   ]
  },
  {
   "cell_type": "code",
   "execution_count": 79,
   "id": "a791aed7-2368-4120-b966-e43d41f8ccaa",
   "metadata": {},
   "outputs": [
    {
     "name": "stdout",
     "output_type": "stream",
     "text": [
      "<torch.autograd.function.SQBackward object at 0x77a964198d00>\n"
     ]
    },
    {
     "data": {
      "text/plain": [
       "tensor(4.)"
      ]
     },
     "execution_count": 79,
     "metadata": {},
     "output_type": "execute_result"
    }
   ],
   "source": [
    "x=torch.tensor(2.0,requires_grad=True )\n",
    "sq=SQ.apply\n",
    "\n",
    "y=sq(x)\n",
    "y\n",
    "print(y.grad_fn)\n",
    "y.backward()\n",
    "x.grad"
   ]
  },
  {
   "cell_type": "markdown",
   "id": "44e09aef-bc4f-4cfc-861a-bd1162c2a413",
   "metadata": {},
   "source": [
    "<a name=\"Partial_Derivative\"><h2 id=\"Partial_Derivative\">Partial Derivatives</h2></a>\n"
   ]
  },
  {
   "cell_type": "markdown",
   "id": "723bce9c-95fd-4e80-b80b-4efe75c11452",
   "metadata": {},
   "source": [
    "We can also calculate <b>Partial Derivatives</b>. Consider the function: $f(u,v)=vu+u^{2}$\n"
   ]
  },
  {
   "cell_type": "markdown",
   "id": "b8fadbc5-9f24-4b2d-ac78-48d8f6187716",
   "metadata": {},
   "source": [
    "Let us create <code>u</code> tensor, <code>v</code> tensor and  <code>f</code> tensor\n"
   ]
  },
  {
   "cell_type": "code",
   "execution_count": 80,
   "id": "0b1d6fe7-90ad-4207-824d-77ef57a62aea",
   "metadata": {},
   "outputs": [
    {
     "name": "stdout",
     "output_type": "stream",
     "text": [
      "The result of v * u + u^2:  tensor(3., grad_fn=<AddBackward0>)\n"
     ]
    }
   ],
   "source": [
    "# Calculate f(u, v) = v * u + u^2 at u = 1, v = 2\n",
    "\n",
    "u = torch.tensor(1.0,requires_grad=True)\n",
    "v = torch.tensor(2.0,requires_grad=True)\n",
    "f = u * v + u ** 2\n",
    "print(\"The result of v * u + u^2: \", f)"
   ]
  },
  {
   "cell_type": "markdown",
   "id": "ae6d2f6b-fde6-4b1e-8b46-940af62d52ed",
   "metadata": {},
   "source": [
    "This is equivalent to the following: \n"
   ]
  },
  {
   "cell_type": "markdown",
   "id": "99de97b1-a91b-4dad-92b5-58b9cf288cc9",
   "metadata": {},
   "source": [
    "$f(u=1,v=2)=(2)(1)+1^{2}=3$\n"
   ]
  },
  {
   "cell_type": "markdown",
   "id": "d4185468-6560-4084-8a98-e47f77d9e58c",
   "metadata": {},
   "source": [
    "<!--Empty Space for separating topics-->\n"
   ]
  },
  {
   "cell_type": "markdown",
   "id": "c1848603-91e5-4256-971a-05cf5c8d920f",
   "metadata": {},
   "source": [
    "Now let us take the derivative with respect to <code>u</code>:\n"
   ]
  },
  {
   "cell_type": "code",
   "execution_count": 81,
   "id": "5aa9fe8f-17ba-4599-9de2-e0b53bdb5661",
   "metadata": {},
   "outputs": [
    {
     "name": "stdout",
     "output_type": "stream",
     "text": [
      "The partial derivative with respect to u:  tensor(4.)\n"
     ]
    }
   ],
   "source": [
    "# Calculate the derivative with respect to u\n",
    "\n",
    "f.backward()\n",
    "print(\"The partial derivative with respect to u: \", u.grad)"
   ]
  },
  {
   "cell_type": "markdown",
   "id": "82ab5f0f-c626-485d-a2b5-694a789d85b8",
   "metadata": {},
   "source": [
    "the expression is given by:\n"
   ]
  },
  {
   "cell_type": "markdown",
   "id": "acb20ee6-7341-4c2d-a911-2c6d467bada1",
   "metadata": {},
   "source": [
    "$\\frac{\\mathrm{\\partial f(u,v)}}{\\partial {u}}=v+2u$\n",
    "\n",
    "$\\frac{\\mathrm{\\partial f(u=1,v=2)}}{\\partial {u}}=2+2(1)=4$\n"
   ]
  },
  {
   "cell_type": "markdown",
   "id": "747cd428-e640-4f97-891f-d2f8f6ddbbd2",
   "metadata": {},
   "source": [
    "<!--Empty Space for separating topics-->\n"
   ]
  },
  {
   "cell_type": "markdown",
   "id": "9c6b44c5-83e6-424f-88f2-32796a61bd51",
   "metadata": {},
   "source": [
    "Now, take the derivative with respect to <code>v</code>:\n"
   ]
  },
  {
   "cell_type": "code",
   "execution_count": 82,
   "id": "994af710-2a43-476f-8af3-1bda192c66f7",
   "metadata": {},
   "outputs": [
    {
     "name": "stdout",
     "output_type": "stream",
     "text": [
      "The partial derivative with respect to u:  tensor(1.)\n"
     ]
    }
   ],
   "source": [
    "# Calculate the derivative with respect to v\n",
    "\n",
    "print(\"The partial derivative with respect to u: \", v.grad)"
   ]
  },
  {
   "cell_type": "markdown",
   "id": "c2eb54e6-823e-4b35-ac29-8b991ac90464",
   "metadata": {},
   "source": [
    "The equation is given by:\n"
   ]
  },
  {
   "cell_type": "markdown",
   "id": "918b2478-231c-4135-b990-fad6f76bfb99",
   "metadata": {},
   "source": [
    "$\\frac{\\mathrm{\\partial f(u,v)}}{\\partial {v}}=u$\n",
    "\n",
    "$\\frac{\\mathrm{\\partial f(u=1,v=2)}}{\\partial {v}}=1$\n"
   ]
  },
  {
   "cell_type": "markdown",
   "id": "7fa9521d-9e5f-426f-ace1-5cb8e4fe2e60",
   "metadata": {},
   "source": [
    "<!--Empty Space for separating topics-->\n"
   ]
  },
  {
   "cell_type": "markdown",
   "id": "78f854e0-44a7-49e8-87a9-d12cfcae3956",
   "metadata": {},
   "source": [
    "Calculate the derivative with respect to a function with multiple values as follows. You use the sum trick to produce a scalar valued function and then take the gradient: \n"
   ]
  },
  {
   "cell_type": "code",
   "execution_count": 83,
   "id": "bfc4a561-a482-4bd6-a9ea-c0fe2b0ebfed",
   "metadata": {},
   "outputs": [],
   "source": [
    "# Calculate the derivative with multiple values\n",
    "\n",
    "x = torch.linspace(-10, 10, 10, requires_grad = True)\n",
    "Y = x ** 2\n",
    "y = torch.sum(x ** 2)"
   ]
  },
  {
   "cell_type": "markdown",
   "id": "639f36b1-f6db-4062-88ce-d581192e29b8",
   "metadata": {},
   "source": [
    "We can plot the function  and its derivative \n"
   ]
  },
  {
   "cell_type": "code",
   "execution_count": 84,
   "id": "ca4bb268-e3a0-488c-8d7d-a19893cb4e7f",
   "metadata": {},
   "outputs": [
    {
     "data": {
      "image/png": "[encoded data removed]",
      "text/plain": [
       "<Figure size 640x480 with 1 Axes>"
      ]
     },
     "metadata": {},
     "output_type": "display_data"
    }
   ],
   "source": [
    "# Take the derivative with respect to multiple value. Plot out the function and its derivative\n",
    "\n",
    "y.backward()\n",
    "\n",
    "plt.plot(x.detach().numpy(), Y.detach().numpy(), label = 'function')\n",
    "plt.plot(x.detach().numpy(), x.grad.detach().numpy(), label = 'derivative')\n",
    "plt.xlabel('x')\n",
    "plt.legend()\n",
    "plt.show()"
   ]
  },
  {
   "cell_type": "markdown",
   "id": "83bf38f5-196c-48d4-bc10-df1fc2eb7408",
   "metadata": {},
   "source": [
    "The orange line is the slope of the blue line at the intersection point, which is the derivative of the blue line.\n"
   ]
  },
  {
   "cell_type": "markdown",
   "id": "793f8bde-47c4-4db6-a643-2d2d052a5e32",
   "metadata": {},
   "source": [
    "The  method <code> detach()</code>  excludes further tracking of operations in the graph, and therefore the subgraph will not record operations. This allows us to then convert the tensor to a numpy array. To understand the sum operation  <a href=\"https://pytorch.org/tutorials/beginner/blitz/autograd_tutorial.html\">Click Here</a>\n",
    "\n"
   ]
  },
  {
   "cell_type": "markdown",
   "id": "6a81502c-688a-4660-987b-672997eca28c",
   "metadata": {},
   "source": [
    "<!--Empty Space for separating topics-->\n"
   ]
  },
  {
   "cell_type": "markdown",
   "id": "8e1be620-a82e-4d48-8080-f021070df73a",
   "metadata": {},
   "source": [
    "The <b>relu</b> activation function is an essential function in neural networks. We can take the derivative as follows: \n"
   ]
  },
  {
   "cell_type": "code",
   "execution_count": null,
   "id": "69679854-d6a7-4648-8751-a18acdf4906f",
   "metadata": {},
   "outputs": [],
   "source": []
  },
  {
   "cell_type": "code",
   "execution_count": 85,
   "id": "0f448c5e-9886-4ee1-ba6c-9c7553718a32",
   "metadata": {},
   "outputs": [
    {
     "data": {
      "image/png": "[encoded data removed]",
      "text/plain": [
       "<Figure size 640x480 with 1 Axes>"
      ]
     },
     "metadata": {},
     "output_type": "display_data"
    }
   ],
   "source": [
    "# Take the derivative of Relu with respect to multiple value. Plot out the function and its derivative\n",
    "\n",
    "x = torch.linspace(-10, 10, 1000, requires_grad = True)\n",
    "Y = torch.relu(x)\n",
    "y = Y.sum()\n",
    "y.backward()\n",
    "plt.plot(x.detach().numpy(), Y.detach().numpy(), label = 'function')\n",
    "plt.plot(x.detach().numpy(), x.grad.detach().numpy(), label = 'derivative')\n",
    "plt.xlabel('x')\n",
    "plt.legend()\n",
    "plt.show()"
   ]
  },
  {
   "cell_type": "markdown",
   "id": "0871928e-7df1-4803-ba06-1c6ca460fb61",
   "metadata": {},
   "source": [
    "<!--Empty Space for separating topics-->\n"
   ]
  },
  {
   "cell_type": "code",
   "execution_count": 86,
   "id": "ad506ad9-8aed-4a0b-a5e1-f781a7858509",
   "metadata": {},
   "outputs": [
    {
     "data": {
      "text/plain": [
       "<SumBackward0 at 0x77a870c91af0>"
      ]
     },
     "execution_count": 86,
     "metadata": {},
     "output_type": "execute_result"
    }
   ],
   "source": [
    "y.grad_fn"
   ]
  },
  {
   "cell_type": "markdown",
   "id": "bd73b09f-ef04-4c19-a79a-4c79e0081821",
   "metadata": {},
   "source": [
    "# Pytorch Datasets"
   ]
  },
  {
   "cell_type": "markdown",
   "id": "d302e6ac-e01e-4f7f-b2ea-64633a21dddc",
   "metadata": {},
   "source": [
    "<h2 id=\"Simple-dataset\">Simple dataset</h2>\n"
   ]
  },
  {
   "cell_type": "markdown",
   "id": "4cf1792b-1aa2-40ac-9e9c-c0b70e737b63",
   "metadata": {},
   "source": [
    "Let us try to create our own dataset class.\n"
   ]
  },
  {
   "cell_type": "code",
   "execution_count": 3,
   "id": "a79dfff3-c630-42ce-bdd8-a85fbde5b925",
   "metadata": {},
   "outputs": [
    {
     "data": {
      "text/plain": [
       "<torch._C.Generator at 0x73f678050750>"
      ]
     },
     "execution_count": 3,
     "metadata": {},
     "output_type": "execute_result"
    }
   ],
   "source": [
    "# These are the libraries will be used for this lab.\n",
    "\n",
    "import torch\n",
    "from torch.utils.data import Dataset\n",
    "torch.manual_seed(1)"
   ]
  },
  {
   "cell_type": "code",
   "execution_count": 4,
   "id": "99d20aec-94d6-46ee-8bc7-8f4277ff3bc2",
   "metadata": {},
   "outputs": [],
   "source": [
    "# Define class for dataset\n",
    "\n",
    "class toy_set(Dataset):\n",
    "    \n",
    "    # Constructor with defult values \n",
    "    def __init__(self, length = 100, transform = None):\n",
    "        self.len = length\n",
    "        self.x = 2 * torch.ones(length, 2)\n",
    "        self.y = torch.ones(length, 1)\n",
    "        self.transform = transform\n",
    "     \n",
    "    # Getter\n",
    "    def __getitem__(self, index):\n",
    "        sample = self.x[index], self.y[index]\n",
    "        if self.transform:\n",
    "            sample = self.transform(sample)     \n",
    "        return sample\n",
    "    \n",
    "    # Get Length\n",
    "    def __len__(self):\n",
    "        return self.len"
   ]
  },
  {
   "cell_type": "markdown",
   "id": "83398580-e504-4e28-8f4a-e2ae46e5f041",
   "metadata": {},
   "source": [
    "Now, let us create our <code>toy_set</code> object, and find out the value on index 1 and the length of the inital dataset\n"
   ]
  },
  {
   "cell_type": "code",
   "execution_count": 5,
   "id": "2e0ae54c-d490-43db-b16d-eb6c7e78a558",
   "metadata": {},
   "outputs": [
    {
     "name": "stdout",
     "output_type": "stream",
     "text": [
      "Our toy_set object:  <__main__.toy_set object at 0x73f67a40e280>\n",
      "Value on index 0 of our toy_set object:  (tensor([2., 2.]), tensor([1.]))\n",
      "Our toy_set length:  100\n"
     ]
    }
   ],
   "source": [
    "# Create Dataset Object. Find out the value on index 1. Find out the length of Dataset Object.\n",
    "\n",
    "our_dataset = toy_set()\n",
    "print(\"Our toy_set object: \", our_dataset)\n",
    "print(\"Value on index 0 of our toy_set object: \", our_dataset[0])\n",
    "print(\"Our toy_set length: \", len(our_dataset))"
   ]
  },
  {
   "cell_type": "markdown",
   "id": "37d7e346-002c-495e-851a-8c6af54eeee8",
   "metadata": {},
   "source": [
    "As a result, we can apply the same indexing convention as a <code>list</code>,\n",
    "and apply the fuction <code>len</code> on the <code>toy_set</code> object. We are able to customize the indexing and length method by <code>def &#95;&#95;getitem&#95;&#95;(self, index)</code> and <code>def &#95;&#95;len&#95;&#95;(self)</code>.\n"
   ]
  },
  {
   "cell_type": "markdown",
   "id": "a7e4656c-1155-400e-8250-a7d46c7acbfa",
   "metadata": {},
   "source": [
    "Now, let us print out the first 3 elements and assign them to x and y:\n"
   ]
  },
  {
   "cell_type": "code",
   "execution_count": 6,
   "id": "f590a7ad-8c6e-4692-b3ec-4c3dd456fdae",
   "metadata": {},
   "outputs": [
    {
     "name": "stdout",
     "output_type": "stream",
     "text": [
      "index:  0 ; x: tensor([2., 2.]) ; y: tensor([1.])\n",
      "index:  1 ; x: tensor([2., 2.]) ; y: tensor([1.])\n",
      "index:  2 ; x: tensor([2., 2.]) ; y: tensor([1.])\n"
     ]
    }
   ],
   "source": [
    "# Use loop to print out first 3 elements in dataset\n",
    "\n",
    "for i in range(3):\n",
    "    x, y=our_dataset[i]\n",
    "    print(\"index: \", i, '; x:', x, '; y:', y)"
   ]
  },
  {
   "cell_type": "markdown",
   "id": "43dd3ea2-c4be-47d3-86eb-e8f7705f644b",
   "metadata": {},
   "source": [
    "The dataset object is an Iterable; as a result, we  apply the loop directly on the dataset object \n"
   ]
  },
  {
   "cell_type": "code",
   "execution_count": 7,
   "id": "e8070a6e-066e-415d-bf6a-796264dae6bf",
   "metadata": {},
   "outputs": [
    {
     "name": "stdout",
     "output_type": "stream",
     "text": [
      " x: tensor([2., 2.]) y: tensor([1.])\n",
      " x: tensor([2., 2.]) y: tensor([1.])\n",
      " x: tensor([2., 2.]) y: tensor([1.])\n",
      " x: tensor([2., 2.]) y: tensor([1.])\n",
      " x: tensor([2., 2.]) y: tensor([1.])\n",
      " x: tensor([2., 2.]) y: tensor([1.])\n",
      " x: tensor([2., 2.]) y: tensor([1.])\n",
      " x: tensor([2., 2.]) y: tensor([1.])\n",
      " x: tensor([2., 2.]) y: tensor([1.])\n",
      " x: tensor([2., 2.]) y: tensor([1.])\n",
      " x: tensor([2., 2.]) y: tensor([1.])\n",
      " x: tensor([2., 2.]) y: tensor([1.])\n",
      " x: tensor([2., 2.]) y: tensor([1.])\n",
      " x: tensor([2., 2.]) y: tensor([1.])\n",
      " x: tensor([2., 2.]) y: tensor([1.])\n",
      " x: tensor([2., 2.]) y: tensor([1.])\n",
      " x: tensor([2., 2.]) y: tensor([1.])\n",
      " x: tensor([2., 2.]) y: tensor([1.])\n",
      " x: tensor([2., 2.]) y: tensor([1.])\n",
      " x: tensor([2., 2.]) y: tensor([1.])\n",
      " x: tensor([2., 2.]) y: tensor([1.])\n",
      " x: tensor([2., 2.]) y: tensor([1.])\n",
      " x: tensor([2., 2.]) y: tensor([1.])\n",
      " x: tensor([2., 2.]) y: tensor([1.])\n",
      " x: tensor([2., 2.]) y: tensor([1.])\n",
      " x: tensor([2., 2.]) y: tensor([1.])\n",
      " x: tensor([2., 2.]) y: tensor([1.])\n",
      " x: tensor([2., 2.]) y: tensor([1.])\n",
      " x: tensor([2., 2.]) y: tensor([1.])\n",
      " x: tensor([2., 2.]) y: tensor([1.])\n",
      " x: tensor([2., 2.]) y: tensor([1.])\n",
      " x: tensor([2., 2.]) y: tensor([1.])\n",
      " x: tensor([2., 2.]) y: tensor([1.])\n",
      " x: tensor([2., 2.]) y: tensor([1.])\n",
      " x: tensor([2., 2.]) y: tensor([1.])\n",
      " x: tensor([2., 2.]) y: tensor([1.])\n",
      " x: tensor([2., 2.]) y: tensor([1.])\n",
      " x: tensor([2., 2.]) y: tensor([1.])\n",
      " x: tensor([2., 2.]) y: tensor([1.])\n",
      " x: tensor([2., 2.]) y: tensor([1.])\n",
      " x: tensor([2., 2.]) y: tensor([1.])\n",
      " x: tensor([2., 2.]) y: tensor([1.])\n",
      " x: tensor([2., 2.]) y: tensor([1.])\n",
      " x: tensor([2., 2.]) y: tensor([1.])\n",
      " x: tensor([2., 2.]) y: tensor([1.])\n",
      " x: tensor([2., 2.]) y: tensor([1.])\n",
      " x: tensor([2., 2.]) y: tensor([1.])\n",
      " x: tensor([2., 2.]) y: tensor([1.])\n",
      " x: tensor([2., 2.]) y: tensor([1.])\n",
      " x: tensor([2., 2.]) y: tensor([1.])\n",
      " x: tensor([2., 2.]) y: tensor([1.])\n",
      " x: tensor([2., 2.]) y: tensor([1.])\n",
      " x: tensor([2., 2.]) y: tensor([1.])\n",
      " x: tensor([2., 2.]) y: tensor([1.])\n",
      " x: tensor([2., 2.]) y: tensor([1.])\n",
      " x: tensor([2., 2.]) y: tensor([1.])\n",
      " x: tensor([2., 2.]) y: tensor([1.])\n",
      " x: tensor([2., 2.]) y: tensor([1.])\n",
      " x: tensor([2., 2.]) y: tensor([1.])\n",
      " x: tensor([2., 2.]) y: tensor([1.])\n",
      " x: tensor([2., 2.]) y: tensor([1.])\n",
      " x: tensor([2., 2.]) y: tensor([1.])\n",
      " x: tensor([2., 2.]) y: tensor([1.])\n",
      " x: tensor([2., 2.]) y: tensor([1.])\n",
      " x: tensor([2., 2.]) y: tensor([1.])\n",
      " x: tensor([2., 2.]) y: tensor([1.])\n",
      " x: tensor([2., 2.]) y: tensor([1.])\n",
      " x: tensor([2., 2.]) y: tensor([1.])\n",
      " x: tensor([2., 2.]) y: tensor([1.])\n",
      " x: tensor([2., 2.]) y: tensor([1.])\n",
      " x: tensor([2., 2.]) y: tensor([1.])\n",
      " x: tensor([2., 2.]) y: tensor([1.])\n",
      " x: tensor([2., 2.]) y: tensor([1.])\n",
      " x: tensor([2., 2.]) y: tensor([1.])\n",
      " x: tensor([2., 2.]) y: tensor([1.])\n",
      " x: tensor([2., 2.]) y: tensor([1.])\n",
      " x: tensor([2., 2.]) y: tensor([1.])\n",
      " x: tensor([2., 2.]) y: tensor([1.])\n",
      " x: tensor([2., 2.]) y: tensor([1.])\n",
      " x: tensor([2., 2.]) y: tensor([1.])\n",
      " x: tensor([2., 2.]) y: tensor([1.])\n",
      " x: tensor([2., 2.]) y: tensor([1.])\n",
      " x: tensor([2., 2.]) y: tensor([1.])\n",
      " x: tensor([2., 2.]) y: tensor([1.])\n",
      " x: tensor([2., 2.]) y: tensor([1.])\n",
      " x: tensor([2., 2.]) y: tensor([1.])\n",
      " x: tensor([2., 2.]) y: tensor([1.])\n",
      " x: tensor([2., 2.]) y: tensor([1.])\n",
      " x: tensor([2., 2.]) y: tensor([1.])\n",
      " x: tensor([2., 2.]) y: tensor([1.])\n",
      " x: tensor([2., 2.]) y: tensor([1.])\n",
      " x: tensor([2., 2.]) y: tensor([1.])\n",
      " x: tensor([2., 2.]) y: tensor([1.])\n",
      " x: tensor([2., 2.]) y: tensor([1.])\n",
      " x: tensor([2., 2.]) y: tensor([1.])\n",
      " x: tensor([2., 2.]) y: tensor([1.])\n",
      " x: tensor([2., 2.]) y: tensor([1.])\n",
      " x: tensor([2., 2.]) y: tensor([1.])\n",
      " x: tensor([2., 2.]) y: tensor([1.])\n",
      " x: tensor([2., 2.]) y: tensor([1.])\n"
     ]
    }
   ],
   "source": [
    "for x,y in our_dataset:\n",
    "    print(' x:', x, 'y:', y)"
   ]
  },
  {
   "cell_type": "markdown",
   "id": "87be2b2a-32e0-46e8-8dfc-971fcad7800b",
   "metadata": {},
   "source": [
    "<h2 id=\"Transforms\">Transforms</h2>\n"
   ]
  },
  {
   "cell_type": "markdown",
   "id": "01d4fcae-396a-4e22-8b46-6ac3932baaee",
   "metadata": {},
   "source": [
    "You can also create a class for transforming the data. In this case, we will try to add 1 to x and multiply y by 2:\n"
   ]
  },
  {
   "cell_type": "code",
   "execution_count": 8,
   "id": "36e5de78-ead9-4263-b809-14bd9e73a6f6",
   "metadata": {},
   "outputs": [],
   "source": [
    "# Create tranform class add_mult\n",
    "\n",
    "class add_mult(object):\n",
    "    \n",
    "    # Constructor\n",
    "    def __init__(self, addx = 1, muly = 2):\n",
    "        self.addx = addx\n",
    "        self.muly = muly\n",
    "    \n",
    "    # Executor\n",
    "    def __call__(self, sample):\n",
    "        x = sample[0]\n",
    "        y = sample[1]\n",
    "        x = x + self.addx\n",
    "        y = y * self.muly\n",
    "        sample = x, y\n",
    "        return sample"
   ]
  },
  {
   "cell_type": "markdown",
   "id": "4aa602ff-d74c-44c6-97af-bc3e4103d4a6",
   "metadata": {},
   "source": [
    "<!--Empty Space for separating topics-->\n"
   ]
  },
  {
   "cell_type": "markdown",
   "id": "d373a767-3ad7-4528-8005-69cd40b9f910",
   "metadata": {},
   "source": [
    "Now, create a transform object:.\n"
   ]
  },
  {
   "cell_type": "code",
   "execution_count": 9,
   "id": "98a5df3b-68c9-434d-a2aa-7a54f1cf3860",
   "metadata": {},
   "outputs": [],
   "source": [
    "# Create an add_mult transform object, and an toy_set object\n",
    "\n",
    "a_m = add_mult()\n",
    "data_set = toy_set()"
   ]
  },
  {
   "cell_type": "markdown",
   "id": "123da7cc-09d4-475f-b6f0-a913bb8d65e2",
   "metadata": {},
   "source": [
    "Assign the outputs of the original dataset to <code>x</code> and <code>y</code>. Then, apply the transform <code>add_mult</code> to the dataset and output the values as <code>x_</code> and <code>y_</code>, respectively: \n"
   ]
  },
  {
   "cell_type": "code",
   "execution_count": 10,
   "id": "8d60ff98-e49a-4169-80ad-66796df0352c",
   "metadata": {},
   "outputs": [
    {
     "name": "stdout",
     "output_type": "stream",
     "text": [
      "Index:  0 Original x:  tensor([2., 2.]) Original y:  tensor([1.])\n",
      "Index:  0 Transformed x_: tensor([3., 3.]) Transformed y_: tensor([2.])\n",
      "Index:  1 Original x:  tensor([2., 2.]) Original y:  tensor([1.])\n",
      "Index:  1 Transformed x_: tensor([3., 3.]) Transformed y_: tensor([2.])\n",
      "Index:  2 Original x:  tensor([2., 2.]) Original y:  tensor([1.])\n",
      "Index:  2 Transformed x_: tensor([3., 3.]) Transformed y_: tensor([2.])\n",
      "Index:  3 Original x:  tensor([2., 2.]) Original y:  tensor([1.])\n",
      "Index:  3 Transformed x_: tensor([3., 3.]) Transformed y_: tensor([2.])\n",
      "Index:  4 Original x:  tensor([2., 2.]) Original y:  tensor([1.])\n",
      "Index:  4 Transformed x_: tensor([3., 3.]) Transformed y_: tensor([2.])\n",
      "Index:  5 Original x:  tensor([2., 2.]) Original y:  tensor([1.])\n",
      "Index:  5 Transformed x_: tensor([3., 3.]) Transformed y_: tensor([2.])\n",
      "Index:  6 Original x:  tensor([2., 2.]) Original y:  tensor([1.])\n",
      "Index:  6 Transformed x_: tensor([3., 3.]) Transformed y_: tensor([2.])\n",
      "Index:  7 Original x:  tensor([2., 2.]) Original y:  tensor([1.])\n",
      "Index:  7 Transformed x_: tensor([3., 3.]) Transformed y_: tensor([2.])\n",
      "Index:  8 Original x:  tensor([2., 2.]) Original y:  tensor([1.])\n",
      "Index:  8 Transformed x_: tensor([3., 3.]) Transformed y_: tensor([2.])\n",
      "Index:  9 Original x:  tensor([2., 2.]) Original y:  tensor([1.])\n",
      "Index:  9 Transformed x_: tensor([3., 3.]) Transformed y_: tensor([2.])\n"
     ]
    }
   ],
   "source": [
    "# Use loop to print out first 10 elements in dataset\n",
    "\n",
    "for i in range(10):\n",
    "    x, y = data_set[i]\n",
    "    print('Index: ', i, 'Original x: ', x, 'Original y: ', y)\n",
    "    x_, y_ = a_m(data_set[i])\n",
    "    print('Index: ', i, 'Transformed x_:', x_, 'Transformed y_:', y_)"
   ]
  },
  {
   "cell_type": "markdown",
   "id": "f4287b84-aa73-4e21-a04d-a371e2b475ac",
   "metadata": {},
   "source": [
    "As the result, <code>x</code> has been added by 1 and y has been multiplied by 2, as <i>[2, 2] + 1 = [3, 3]</i> and <i>[1] x 2 = [2]</i>\n"
   ]
  },
  {
   "cell_type": "markdown",
   "id": "35e7c62f-b911-4b01-8654-daeb557cf321",
   "metadata": {},
   "source": [
    "<!--Empty Space for separating topics-->\n"
   ]
  },
  {
   "cell_type": "markdown",
   "id": "8d5f84c5-64f6-4fda-8c16-9568026ce9f6",
   "metadata": {},
   "source": [
    "We can apply the transform object every time we create a new <code>toy_set object</code>? Remember, we have the constructor in toy_set class with the parameter <code>transform = None</code>.\n",
    "When we create a new object using the constructor, we can assign the transform object to the parameter transform, as the following code demonstrates.\n"
   ]
  },
  {
   "cell_type": "code",
   "execution_count": 11,
   "id": "b991e726-fa97-4638-963e-0693a91b0073",
   "metadata": {},
   "outputs": [],
   "source": [
    "# Create a new data_set object with add_mult object as transform\n",
    "\n",
    "cust_data_set = toy_set(transform = a_m)"
   ]
  },
  {
   "cell_type": "markdown",
   "id": "409f551d-3061-4fa3-ac08-1a1dd153e750",
   "metadata": {},
   "source": [
    "This applied <code>a_m</code> object (a transform method) to every element in <code>cust_data_set</code> as initialized. Let us print out the first 10 elements in <code>cust_data_set</code> in order to see whether the <code>a_m</code> applied on <code>cust_data_set</code>\n"
   ]
  },
  {
   "cell_type": "code",
   "execution_count": 12,
   "id": "8f9ba491-3cd6-46b4-af88-c2fae00d8b41",
   "metadata": {},
   "outputs": [
    {
     "name": "stdout",
     "output_type": "stream",
     "text": [
      "Index:  0 Original x:  tensor([2., 2.]) Original y:  tensor([1.])\n",
      "Index:  0 Transformed x_: tensor([3., 3.]) Transformed y_: tensor([2.])\n",
      "Index:  1 Original x:  tensor([2., 2.]) Original y:  tensor([1.])\n",
      "Index:  1 Transformed x_: tensor([3., 3.]) Transformed y_: tensor([2.])\n",
      "Index:  2 Original x:  tensor([2., 2.]) Original y:  tensor([1.])\n",
      "Index:  2 Transformed x_: tensor([3., 3.]) Transformed y_: tensor([2.])\n",
      "Index:  3 Original x:  tensor([2., 2.]) Original y:  tensor([1.])\n",
      "Index:  3 Transformed x_: tensor([3., 3.]) Transformed y_: tensor([2.])\n",
      "Index:  4 Original x:  tensor([2., 2.]) Original y:  tensor([1.])\n",
      "Index:  4 Transformed x_: tensor([3., 3.]) Transformed y_: tensor([2.])\n",
      "Index:  5 Original x:  tensor([2., 2.]) Original y:  tensor([1.])\n",
      "Index:  5 Transformed x_: tensor([3., 3.]) Transformed y_: tensor([2.])\n",
      "Index:  6 Original x:  tensor([2., 2.]) Original y:  tensor([1.])\n",
      "Index:  6 Transformed x_: tensor([3., 3.]) Transformed y_: tensor([2.])\n",
      "Index:  7 Original x:  tensor([2., 2.]) Original y:  tensor([1.])\n",
      "Index:  7 Transformed x_: tensor([3., 3.]) Transformed y_: tensor([2.])\n",
      "Index:  8 Original x:  tensor([2., 2.]) Original y:  tensor([1.])\n",
      "Index:  8 Transformed x_: tensor([3., 3.]) Transformed y_: tensor([2.])\n",
      "Index:  9 Original x:  tensor([2., 2.]) Original y:  tensor([1.])\n",
      "Index:  9 Transformed x_: tensor([3., 3.]) Transformed y_: tensor([2.])\n"
     ]
    }
   ],
   "source": [
    "# Use loop to print out first 10 elements in dataset\n",
    "\n",
    "for i in range(10):\n",
    "    x, y = data_set[i]\n",
    "    print('Index: ', i, 'Original x: ', x, 'Original y: ', y)\n",
    "    x_, y_ = cust_data_set[i]\n",
    "    print('Index: ', i, 'Transformed x_:', x_, 'Transformed y_:', y_)"
   ]
  },
  {
   "cell_type": "markdown",
   "id": "b1bff675-684d-4555-ba34-6831586d1716",
   "metadata": {},
   "source": [
    "The result is the same as the previous method.\n"
   ]
  },
  {
   "cell_type": "markdown",
   "id": "268d7465-a9b1-462c-9fa4-70e98a32cb9d",
   "metadata": {},
   "source": [
    "<!--Empty Space for separating topics-->\n"
   ]
  },
  {
   "cell_type": "markdown",
   "id": "79fdd440-f68b-4cfb-a432-028bc318da97",
   "metadata": {},
   "source": [
    "<h2 id=\"Compose\">Compose</h2>\n"
   ]
  },
  {
   "cell_type": "markdown",
   "id": "5938e791-7500-49a2-958a-9abf87e580b3",
   "metadata": {},
   "source": [
    "You can compose multiple transforms on the dataset object. First, import <code>transforms</code> from <code>torchvision</code>:\n"
   ]
  },
  {
   "cell_type": "code",
   "execution_count": 15,
   "id": "5a31a0d4-60b6-4f5c-9ebd-071a0ae56c0c",
   "metadata": {},
   "outputs": [],
   "source": [
    "from torchvision import transforms"
   ]
  },
  {
   "cell_type": "markdown",
   "id": "8a469f19-b49a-46af-adbf-931511eb44bf",
   "metadata": {},
   "source": [
    "Then, create a new transform class that multiplies each of the elements by 100: \n"
   ]
  },
  {
   "cell_type": "code",
   "execution_count": 16,
   "id": "7221c1e4-0b6c-43b6-829a-72616d6edd59",
   "metadata": {},
   "outputs": [],
   "source": [
    "# Create tranform class mult\n",
    "\n",
    "class mult(object):\n",
    "    \n",
    "    # Constructor\n",
    "    def __init__(self, mult = 100):\n",
    "        self.mult = mult\n",
    "        \n",
    "    # Executor\n",
    "    def __call__(self, sample):\n",
    "        x = sample[0]\n",
    "        y = sample[1]\n",
    "        x = x * self.mult\n",
    "        y = y * self.mult\n",
    "        sample = x, y\n",
    "        return sample"
   ]
  },
  {
   "cell_type": "markdown",
   "id": "ba97c401-2343-4686-ac81-addd08bedcbb",
   "metadata": {},
   "source": [
    "Now let us try to combine the transforms <code>add_mult</code> and <code>mult</code>\n"
   ]
  },
  {
   "cell_type": "code",
   "execution_count": 17,
   "id": "5e1bfab9-75ca-4999-af7b-13ec8be21d7d",
   "metadata": {},
   "outputs": [
    {
     "name": "stdout",
     "output_type": "stream",
     "text": [
      "The combination of transforms (Compose):  Compose(\n",
      "    <__main__.add_mult object at 0x73f5929d6c40>\n",
      "    <__main__.mult object at 0x73f5929d6d60>\n",
      ")\n"
     ]
    }
   ],
   "source": [
    "# Combine the add_mult() and mult()\n",
    "\n",
    "data_transform = transforms.Compose([add_mult(), mult()])\n",
    "print(\"The combination of transforms (Compose): \", data_transform)\n"
   ]
  },
  {
   "cell_type": "markdown",
   "id": "cd8a9163-eccb-4637-a3ab-d4aacb99eaf5",
   "metadata": {},
   "source": [
    "The new <code>Compose</code> object will perform each transform concurrently as shown in this figure:\n"
   ]
  },
  {
   "cell_type": "markdown",
   "id": "95a84515-1637-4fdd-9da2-b0a5837dae53",
   "metadata": {},
   "source": [
    "<img src=\"https://s3-api.us-geo.objectstorage.softlayer.net/cf-courses-data/CognitiveClass/DL0110EN/notebook_images%20/chapter%201/1.3.1_trasform.png\" width=\"500\" alt=\"Compose PyTorch\">\n"
   ]
  },
  {
   "cell_type": "code",
   "execution_count": 18,
   "id": "31bd9f94-3ae5-4659-b7d4-40a82b257cf8",
   "metadata": {},
   "outputs": [
    {
     "data": {
      "text/plain": [
       "(tensor([300., 300.]), tensor([200.]))"
      ]
     },
     "execution_count": 18,
     "metadata": {},
     "output_type": "execute_result"
    }
   ],
   "source": [
    "data_transform(data_set[0])"
   ]
  },
  {
   "cell_type": "code",
   "execution_count": 19,
   "id": "f92bdfec-10e6-4464-b70d-595d02b2d5bf",
   "metadata": {},
   "outputs": [
    {
     "name": "stdout",
     "output_type": "stream",
     "text": [
      "Original x:  tensor([2., 2.]) Original y:  tensor([1.])\n",
      "Transformed x_: tensor([300., 300.]) Transformed y_: tensor([200.])\n"
     ]
    }
   ],
   "source": [
    "x,y=data_set[0]\n",
    "x_,y_=data_transform(data_set[0])\n",
    "print( 'Original x: ', x, 'Original y: ', y)\n",
    "\n",
    "print( 'Transformed x_:', x_, 'Transformed y_:', y_)"
   ]
  },
  {
   "cell_type": "markdown",
   "id": "ebfa1054-4c71-4be9-a1e6-944f57db749f",
   "metadata": {},
   "source": [
    "Now we can pass the new <code>Compose</code> object (The combination of methods <code>add_mult()</code> and <code>mult</code>) to the constructor for creating <code>toy_set</code> object.\n"
   ]
  },
  {
   "cell_type": "code",
   "execution_count": 20,
   "id": "2a613f38-30a3-4431-8830-8667637527ba",
   "metadata": {},
   "outputs": [],
   "source": [
    "# Create a new toy_set object with compose object as transform\n",
    "\n",
    "compose_data_set = toy_set(transform = data_transform)"
   ]
  },
  {
   "cell_type": "markdown",
   "id": "99b8d755-4822-437f-a6ce-5288b3e88109",
   "metadata": {},
   "source": [
    "Let us print out the first 3 elements in different <code>toy_set</code> datasets in order to compare the output after different transforms have been applied: \n"
   ]
  },
  {
   "cell_type": "code",
   "execution_count": 21,
   "id": "c879efb2-0c3b-4ef4-99ce-726a3b2dcd96",
   "metadata": {},
   "outputs": [
    {
     "name": "stdout",
     "output_type": "stream",
     "text": [
      "Index:  0 Original x:  tensor([2., 2.]) Original y:  tensor([1.])\n",
      "Index:  0 Transformed x_: tensor([3., 3.]) Transformed y_: tensor([2.])\n",
      "Index:  0 Compose Transformed x_co:  tensor([300., 300.]) Compose Transformed y_co:  tensor([200.])\n",
      "Index:  1 Original x:  tensor([2., 2.]) Original y:  tensor([1.])\n",
      "Index:  1 Transformed x_: tensor([3., 3.]) Transformed y_: tensor([2.])\n",
      "Index:  1 Compose Transformed x_co:  tensor([300., 300.]) Compose Transformed y_co:  tensor([200.])\n",
      "Index:  2 Original x:  tensor([2., 2.]) Original y:  tensor([1.])\n",
      "Index:  2 Transformed x_: tensor([3., 3.]) Transformed y_: tensor([2.])\n",
      "Index:  2 Compose Transformed x_co:  tensor([300., 300.]) Compose Transformed y_co:  tensor([200.])\n"
     ]
    }
   ],
   "source": [
    "# Use loop to print out first 3 elements in dataset\n",
    "\n",
    "for i in range(3):\n",
    "    x, y = data_set[i]\n",
    "    print('Index: ', i, 'Original x: ', x, 'Original y: ', y)\n",
    "    x_, y_ = cust_data_set[i]\n",
    "    print('Index: ', i, 'Transformed x_:', x_, 'Transformed y_:', y_)\n",
    "    x_co, y_co = compose_data_set[i]\n",
    "    print('Index: ', i, 'Compose Transformed x_co: ', x_co ,'Compose Transformed y_co: ',y_co)"
   ]
  },
  {
   "cell_type": "markdown",
   "id": "4d17ad05-178e-4a0a-b46e-b6c4e6cf96e4",
   "metadata": {},
   "source": [
    "Let us see what happened on index 0. The original value of <code>x</code> is <i>[2, 2]</i>, and the original value of <code>y</code> is [1]. If we only applied <code>add_mult()</code> on the original dataset, then the <code>x</code> became <i>[3, 3]</i> and y became <i>[2]</i>. Now let us see what is the value after applied both <code>add_mult()</code> and <code>mult()</code>. The result of x is <i>[300, 300]</i> and y is <i>[200]</i>. The calculation which is equavalent to the compose is <i> x = ([2, 2] + 1) x 100 = [300, 300], y = ([1] x 2) x 100 = 200</i>\n"
   ]
  },
  {
   "cell_type": "markdown",
   "id": "92f691dc-8a0b-4d5d-b254-f3fe7de1c4a5",
   "metadata": {},
   "source": [
    "## Image Dataset\n"
   ]
  },
  {
   "cell_type": "markdown",
   "id": "73ba5bae-c8ed-4fdd-9e80-7c317b03d437",
   "metadata": {},
   "source": [
    "Download the dataset and unzip the files in your data directory, **to download faster this dataset has only 100 samples**:\n"
   ]
  },
  {
   "cell_type": "code",
   "execution_count": 22,
   "id": "6cb53239-b2fc-4f1f-8e33-4e8197ab29c5",
   "metadata": {},
   "outputs": [
    {
     "name": "stdout",
     "output_type": "stream",
     "text": [
      "--2024-12-25 14:49:38--  https://cf-courses-data.s3.us.cloud-object-storage.appdomain.cloud/IBMDeveloperSkillsNetwork-DL0110EN-SkillsNetwork/labs/Week1/data/img.tar.gz\n",
      "Loaded CA certificate '/etc/ssl/certs/ca-certificates.crt'\n",
      "Resolving cf-courses-data.s3.us.cloud-object-storage.appdomain.cloud (cf-courses-data.s3.us.cloud-object-storage.appdomain.cloud)... 198.23.119.245\n",
      "Connecting to cf-courses-data.s3.us.cloud-object-storage.appdomain.cloud (cf-courses-data.s3.us.cloud-object-storage.appdomain.cloud)|198.23.119.245|:443... connected.\n",
      "HTTP request sent, awaiting response... 200 OK\n",
      "Length: 50460 (49K) [application/x-tar]\n",
      "Saving to: ‘./data/img.tar.gz’\n",
      "\n",
      "img.tar.gz          100%[===================>]  49.28K  53.5KB/s    in 0.9s    \n",
      "\n",
      "2024-12-25 14:49:41 (53.5 KB/s) - ‘./data/img.tar.gz’ saved [50460/50460]\n",
      "\n"
     ]
    }
   ],
   "source": [
    "! wget https://cf-courses-data.s3.us.cloud-object-storage.appdomain.cloud/IBMDeveloperSkillsNetwork-DL0110EN-SkillsNetwork/labs/Week1/data/img.tar.gz -P ./data\n"
   ]
  },
  {
   "cell_type": "code",
   "execution_count": 23,
   "id": "b53db579-2ed7-457b-85d9-6e0da41de826",
   "metadata": {},
   "outputs": [],
   "source": [
    "!tar -xf ./data/img.tar.gz "
   ]
  },
  {
   "cell_type": "code",
   "execution_count": 24,
   "id": "fa8a9a95-79dd-4952-bf0d-070a27740645",
   "metadata": {},
   "outputs": [
    {
     "name": "stdout",
     "output_type": "stream",
     "text": [
      "--2024-12-25 14:50:17--  https://cf-courses-data.s3.us.cloud-object-storage.appdomain.cloud/IBMDeveloperSkillsNetwork-DL0110EN-SkillsNetwork/labs/Week1/data/index.csv\n",
      "Loaded CA certificate '/etc/ssl/certs/ca-certificates.crt'\n",
      "Resolving cf-courses-data.s3.us.cloud-object-storage.appdomain.cloud (cf-courses-data.s3.us.cloud-object-storage.appdomain.cloud)... 169.63.118.104\n",
      "Connecting to cf-courses-data.s3.us.cloud-object-storage.appdomain.cloud (cf-courses-data.s3.us.cloud-object-storage.appdomain.cloud)|169.63.118.104|:443... connected.\n",
      "HTTP request sent, awaiting response... 200 OK\n",
      "Length: 1680905 (1.6M) [text/csv]\n",
      "Saving to: ‘index.csv’\n",
      "\n",
      "index.csv           100%[===================>]   1.60M   701KB/s    in 2.3s    \n",
      "\n",
      "2024-12-25 14:50:22 (701 KB/s) - ‘index.csv’ saved [1680905/1680905]\n",
      "\n"
     ]
    }
   ],
   "source": [
    "!wget https://cf-courses-data.s3.us.cloud-object-storage.appdomain.cloud/IBMDeveloperSkillsNetwork-DL0110EN-SkillsNetwork/labs/Week1/data/index.csv "
   ]
  },
  {
   "cell_type": "markdown",
   "id": "526670e7-2dc0-4301-88f4-3ce12c6b7227",
   "metadata": {},
   "source": [
    "We will use this function in the lab:\n"
   ]
  },
  {
   "cell_type": "code",
   "execution_count": 25,
   "id": "5a6c3bae-73b5-45ca-9d74-f0b6586408c7",
   "metadata": {},
   "outputs": [],
   "source": [
    "def show_data(data_sample, shape = (28, 28)):\n",
    "    plt.imshow(data_sample[0].numpy().reshape(shape), cmap='gray')\n",
    "    plt.title('y = ' + data_sample[1])"
   ]
  },
  {
   "cell_type": "markdown",
   "id": "aa9e79e3-153f-4f3c-ac39-d182fbea4496",
   "metadata": {},
   "source": [
    "The following are the libraries we are going to use for this lab. The <code>torch.manual_seed()</code> is for forcing the random function to give the same number every time we try to recompile it.\n"
   ]
  },
  {
   "cell_type": "code",
   "execution_count": 26,
   "id": "e7eee68a-00e2-45a1-99e5-a8a244b61f5f",
   "metadata": {},
   "outputs": [
    {
     "data": {
      "text/plain": [
       "<torch._C.Generator at 0x73f678050750>"
      ]
     },
     "execution_count": 26,
     "metadata": {},
     "output_type": "execute_result"
    }
   ],
   "source": [
    "# These are the libraries will be used for this lab.\n",
    "\n",
    "import torch \n",
    "import matplotlib.pylab as plt\n",
    "import numpy as np\n",
    "from torch.utils.data import Dataset, DataLoader\n",
    "torch.manual_seed(0)"
   ]
  },
  {
   "cell_type": "code",
   "execution_count": 27,
   "id": "83582e05-a946-42d6-bcf7-37bfcc881bdb",
   "metadata": {},
   "outputs": [],
   "source": [
    "from matplotlib.pyplot import imshow\n",
    "import matplotlib.pylab as plt\n",
    "from PIL import Image\n",
    "import pandas as pd\n",
    "import os"
   ]
  },
  {
   "cell_type": "markdown",
   "id": "a87db091-ef54-48e7-8b6f-a9b4786ea4ac",
   "metadata": {},
   "source": [
    "<!--Empty Space for separating topics-->\n"
   ]
  },
  {
   "cell_type": "markdown",
   "id": "3119d278-a3f6-4bda-8dc7-3c43b5707f7b",
   "metadata": {},
   "source": [
    "<h2 id=\"auxiliary\">Auxiliary Functions</h2>\n"
   ]
  },
  {
   "cell_type": "markdown",
   "id": "1083c572-1310-4944-bc6e-b7577a02e62a",
   "metadata": {},
   "source": [
    "You will use the following function as components of a dataset object, in this section, you will review each of the components independently.\n"
   ]
  },
  {
   "cell_type": "markdown",
   "id": "a31b2292-66eb-4259-b175-40202535f44a",
   "metadata": {},
   "source": [
    " The path to the csv file with the labels for each image.\n"
   ]
  },
  {
   "cell_type": "code",
   "execution_count": 30,
   "id": "3ddc31e3-5812-4f73-bab5-bdb3664a7233",
   "metadata": {},
   "outputs": [],
   "source": [
    "# Read CSV file from the URL and print out the first five samples\n",
    "directory=\"./data/\"\n",
    "csv_file ='index.csv'\n",
    "csv_path=os.path.join(directory,csv_file)"
   ]
  },
  {
   "cell_type": "markdown",
   "id": "0aa3df38-cb71-4e2f-a37d-255fb471da48",
   "metadata": {},
   "source": [
    "You can load the CSV file and convert it into a dataframe , using the Pandas function <code>read_csv()</code> . You can view the dataframe using the method head.\n"
   ]
  },
  {
   "cell_type": "code",
   "execution_count": 31,
   "id": "aee4b3c6-887f-4c42-9f05-9cf38579f58a",
   "metadata": {},
   "outputs": [
    {
     "data": {
      "text/html": [
       "<div>\n",
       "<style scoped>\n",
       "    .dataframe tbody tr th:only-of-type {\n",
       "        vertical-align: middle;\n",
       "    }\n",
       "\n",
       "    .dataframe tbody tr th {\n",
       "        vertical-align: top;\n",
       "    }\n",
       "\n",
       "    .dataframe thead th {\n",
       "        text-align: right;\n",
       "    }\n",
       "</style>\n",
       "<table border=\"1\" class=\"dataframe\">\n",
       "  <thead>\n",
       "    <tr style=\"text-align: right;\">\n",
       "      <th></th>\n",
       "      <th>category</th>\n",
       "      <th>image</th>\n",
       "    </tr>\n",
       "  </thead>\n",
       "  <tbody>\n",
       "    <tr>\n",
       "      <th>0</th>\n",
       "      <td>Ankle boot</td>\n",
       "      <td>img/fashion0.png</td>\n",
       "    </tr>\n",
       "    <tr>\n",
       "      <th>1</th>\n",
       "      <td>T-shirt</td>\n",
       "      <td>img/fashion1.png</td>\n",
       "    </tr>\n",
       "    <tr>\n",
       "      <th>2</th>\n",
       "      <td>T-shirt</td>\n",
       "      <td>img/fashion2.png</td>\n",
       "    </tr>\n",
       "    <tr>\n",
       "      <th>3</th>\n",
       "      <td>Dress</td>\n",
       "      <td>img/fashion3.png</td>\n",
       "    </tr>\n",
       "    <tr>\n",
       "      <th>4</th>\n",
       "      <td>T-shirt</td>\n",
       "      <td>img/fashion4.png</td>\n",
       "    </tr>\n",
       "  </tbody>\n",
       "</table>\n",
       "</div>"
      ],
      "text/plain": [
       "     category             image\n",
       "0  Ankle boot  img/fashion0.png\n",
       "1     T-shirt  img/fashion1.png\n",
       "2     T-shirt  img/fashion2.png\n",
       "3       Dress  img/fashion3.png\n",
       "4     T-shirt  img/fashion4.png"
      ]
     },
     "execution_count": 31,
     "metadata": {},
     "output_type": "execute_result"
    }
   ],
   "source": [
    "data_name = pd.read_csv(csv_path)\n",
    "data_name.head()"
   ]
  },
  {
   "cell_type": "markdown",
   "id": "b7cc711b-97a1-41fb-ab95-58b215f4df52",
   "metadata": {},
   "source": [
    "The first column of the dataframe corresponds to the type of clothing. The second column is the name of the image file corresponding to the clothing. You can obtain the path of the first file by using the method  <code> <i>DATAFRAME</i>.iloc[0, 1]</code>. The first argument corresponds to the sample number, and the second input corresponds to the column index. \n"
   ]
  },
  {
   "cell_type": "code",
   "execution_count": 32,
   "id": "be47f110-ed71-4901-bc50-c796d1114c8f",
   "metadata": {},
   "outputs": [
    {
     "name": "stdout",
     "output_type": "stream",
     "text": [
      "File name: img/fashion0.png\n"
     ]
    }
   ],
   "source": [
    "# Get the value on location row 0, column 1 (Notice that index starts at 0)\n",
    "#rember this dataset has only 100 samples to make the download faster  \n",
    "print('File name:', data_name.iloc[0, 1])"
   ]
  },
  {
   "cell_type": "markdown",
   "id": "46994878-ced2-49ed-b5f2-efacd18aa413",
   "metadata": {},
   "source": [
    "As the class of the sample is in the first column, you can also obtain the class value as follows.\n"
   ]
  },
  {
   "cell_type": "code",
   "execution_count": 33,
   "id": "66023e5f-7464-4e1b-8fdf-383741db0442",
   "metadata": {},
   "outputs": [
    {
     "name": "stdout",
     "output_type": "stream",
     "text": [
      "y: Ankle boot\n"
     ]
    }
   ],
   "source": [
    "# Get the value on location row 0, column 0 (Notice that index starts at 0.)\n",
    "\n",
    "print('y:', data_name.iloc[0, 0])"
   ]
  },
  {
   "cell_type": "markdown",
   "id": "216256a4-0ff8-4b08-9d97-80a90356b158",
   "metadata": {},
   "source": [
    "Similarly, You can obtain the file name of the second image file and class type:\n"
   ]
  },
  {
   "cell_type": "code",
   "execution_count": 34,
   "id": "713b3911-2e5b-4c38-8441-97e7eac4a431",
   "metadata": {},
   "outputs": [
    {
     "name": "stdout",
     "output_type": "stream",
     "text": [
      "File name: img/fashion1.png\n",
      "class or y: T-shirt\n"
     ]
    }
   ],
   "source": [
    "# Print out the file name and the class number of the element on row 1 (the second row)\n",
    "\n",
    "print('File name:', data_name.iloc[1, 1])\n",
    "print('class or y:', data_name.iloc[1, 0])"
   ]
  },
  {
   "cell_type": "markdown",
   "id": "59e20937-a40f-4d7b-a8e9-22fcd0c092a8",
   "metadata": {},
   "source": [
    "The number of samples corresponds to the number of rows in a dataframe. You can obtain the number of rows using the following lines of code. This will correspond the data attribute <code>len</code>.\n"
   ]
  },
  {
   "cell_type": "code",
   "execution_count": 35,
   "id": "2024239f-0fc6-4b29-8d2c-4fbeb27c90e0",
   "metadata": {},
   "outputs": [
    {
     "name": "stdout",
     "output_type": "stream",
     "text": [
      "The number of rows:  60000\n"
     ]
    }
   ],
   "source": [
    "# Print out the total number of rows in traing dataset\n",
    "\n",
    "print('The number of rows: ', data_name.shape[0])"
   ]
  },
  {
   "cell_type": "markdown",
   "id": "fc9d54d1-0930-429b-8890-c984853ca7a8",
   "metadata": {},
   "source": [
    "<h2 id=\"load_image\">Load Image</h2>\n"
   ]
  },
  {
   "cell_type": "markdown",
   "id": "0c129023-0ec2-4a3f-a7d1-d8512e1bd888",
   "metadata": {},
   "source": [
    "To load the image, you need the directory and the image name. You can concatenate the variable <code>train_data_dir</code> with the name of the image stored in a Dataframe. Finally, you will store the result in the variable <code>image_name</code>\n"
   ]
  },
  {
   "cell_type": "code",
   "execution_count": 36,
   "id": "7575bd21-fc60-4b04-9fec-2a924749e453",
   "metadata": {},
   "outputs": [
    {
     "data": {
      "text/plain": [
       "'img/fashion1.png'"
      ]
     },
     "execution_count": 36,
     "metadata": {},
     "output_type": "execute_result"
    }
   ],
   "source": [
    "# Combine the directory path with file name\n",
    "\n",
    "image_name =data_name.iloc[1, 1]\n",
    "image_name"
   ]
  },
  {
   "cell_type": "markdown",
   "id": "b184f188-360e-487e-9d51-20532d5027ae",
   "metadata": {},
   "source": [
    "we can find the image path:\n"
   ]
  },
  {
   "cell_type": "code",
   "execution_count": 37,
   "id": "fb4644e8-c512-4edf-98c5-e54cc9e984fb",
   "metadata": {},
   "outputs": [
    {
     "data": {
      "text/plain": [
       "'./data/img/fashion1.png'"
      ]
     },
     "execution_count": 37,
     "metadata": {},
     "output_type": "execute_result"
    }
   ],
   "source": [
    "image_path=os.path.join(directory,image_name)\n",
    "image_path"
   ]
  },
  {
   "cell_type": "markdown",
   "id": "571c6058-c36b-4ff6-9a98-a2b66f5f526c",
   "metadata": {},
   "source": [
    "You can then use the function <code>Image.open</code> to store the image to the variable <code>image</code> and display the image and class .\n"
   ]
  },
  {
   "cell_type": "code",
   "execution_count": 38,
   "id": "507f4c1e-498c-456a-a48d-28ebd85f1c3b",
   "metadata": {},
   "outputs": [
    {
     "data": {
      "image/png": "[encoded data removed]",
      "text/plain": [
       "<Figure size 640x480 with 1 Axes>"
      ]
     },
     "metadata": {},
     "output_type": "display_data"
    }
   ],
   "source": [
    "# Plot the second training image\n",
    "\n",
    "image = Image.open(image_path)\n",
    "plt.imshow(image,cmap='gray', vmin=0, vmax=255)\n",
    "plt.title(data_name.iloc[1, 0])\n",
    "plt.show()"
   ]
  },
  {
   "cell_type": "markdown",
   "id": "b5f0176c-5f1a-4325-96c7-32f1ddb7b6f0",
   "metadata": {},
   "source": [
    "You can repeat the process for the 20th image.\n"
   ]
  },
  {
   "cell_type": "code",
   "execution_count": 39,
   "id": "3e6612ce-a331-480d-a269-eec83d1fde14",
   "metadata": {},
   "outputs": [
    {
     "data": {
      "image/png": "[encoded data removed]",
      "text/plain": [
       "<Figure size 640x480 with 1 Axes>"
      ]
     },
     "metadata": {},
     "output_type": "display_data"
    }
   ],
   "source": [
    "# Plot the 20th image\n",
    "\n",
    "image_name = data_name.iloc[19, 1]\n",
    "image_path=os.path.join(directory,image_name)\n",
    "image = Image.open(image_path)\n",
    "plt.imshow(image,cmap='gray', vmin=0, vmax=255)\n",
    "plt.title(data_name.iloc[19, 0])\n",
    "plt.show()"
   ]
  },
  {
   "cell_type": "markdown",
   "id": "faefa7d3-4424-4e33-abd3-087414732e10",
   "metadata": {},
   "source": [
    "<hr>\n"
   ]
  },
  {
   "cell_type": "markdown",
   "id": "5907ed53-426a-457a-8e6c-76630c725b41",
   "metadata": {},
   "source": [
    " Create the dataset object.\n"
   ]
  },
  {
   "cell_type": "markdown",
   "id": "f08e5f88-6bd6-4fa3-a587-28ab4db428e2",
   "metadata": {},
   "source": [
    "<h2 id=\"data_class\">Create a Dataset Class</h2>\n"
   ]
  },
  {
   "cell_type": "markdown",
   "id": "385c84a8-f36e-41e9-a414-76c0733ae06d",
   "metadata": {},
   "source": [
    "In this section, we will use the components in the last section to build a dataset class and then create an object.\n"
   ]
  },
  {
   "cell_type": "code",
   "execution_count": 40,
   "id": "ba8d36d1-10bb-42b2-8f85-615cbe58ca78",
   "metadata": {},
   "outputs": [],
   "source": [
    "# Create your own dataset object\n",
    "\n",
    "class Dataset(Dataset):\n",
    "\n",
    "    # Constructor\n",
    "    def __init__(self, csv_file, data_dir, transform=None):\n",
    "        \n",
    "        # Image directory\n",
    "        self.data_dir=data_dir\n",
    "        \n",
    "        # The transform is goint to be used on image\n",
    "        self.transform = transform\n",
    "        data_dircsv_file=os.path.join(self.data_dir,csv_file)\n",
    "        # Load the CSV file contians image info\n",
    "        self.data_name= pd.read_csv(data_dircsv_file)\n",
    "        \n",
    "        # Number of images in dataset\n",
    "        self.len=self.data_name.shape[0] \n",
    "    \n",
    "    # Get the length\n",
    "    def __len__(self):\n",
    "        return self.len\n",
    "    \n",
    "    # Getter\n",
    "    def __getitem__(self, idx):\n",
    "        \n",
    "        # Image file path\n",
    "        img_name=os.path.join(self.data_dir,self.data_name.iloc[idx, 1])\n",
    "        # Open image file\n",
    "        image = Image.open(img_name)\n",
    "        \n",
    "        # The class label for the image\n",
    "        y = self.data_name.iloc[idx, 0]\n",
    "        \n",
    "        # If there is any transform method, apply it onto the image\n",
    "        if self.transform:\n",
    "            image = self.transform(image)\n",
    "\n",
    "        return image, y"
   ]
  },
  {
   "cell_type": "code",
   "execution_count": 41,
   "id": "35789cc5-8a31-4577-bd6b-f49e7121795e",
   "metadata": {},
   "outputs": [],
   "source": [
    "# Create the dataset objects\n",
    "dataset = Dataset(csv_file=csv_file, data_dir=directory)"
   ]
  },
  {
   "cell_type": "markdown",
   "id": "21e2c1ae-f05c-404c-83af-0fb469d36740",
   "metadata": {},
   "source": [
    "Each sample of the image and the class y is stored in a tuple <code> dataset[sample]</code> . The image is the first element in the tuple <code> dataset[sample][0]</code> the label or class is the second element in the tuple <code> dataset[sample][1]</code>. For example you can plot the first image and class.\n"
   ]
  },
  {
   "cell_type": "code",
   "execution_count": 42,
   "id": "2c7025ba-462c-417a-ad92-97ff457308e1",
   "metadata": {},
   "outputs": [
    {
     "data": {
      "image/png": "[encoded data removed]",
      "text/plain": [
       "<Figure size 640x480 with 1 Axes>"
      ]
     },
     "metadata": {},
     "output_type": "display_data"
    }
   ],
   "source": [
    "image=dataset[0][0]\n",
    "y=dataset[0][1]\n",
    "\n",
    "plt.imshow(image,cmap='gray', vmin=0, vmax=255)\n",
    "plt.title(y)\n",
    "plt.show()"
   ]
  },
  {
   "cell_type": "code",
   "execution_count": 43,
   "id": "64df1d23-e9df-4e6d-8c31-acb645992c6d",
   "metadata": {},
   "outputs": [
    {
     "data": {
      "text/plain": [
       "'Ankle boot'"
      ]
     },
     "execution_count": 43,
     "metadata": {},
     "output_type": "execute_result"
    }
   ],
   "source": [
    "y"
   ]
  },
  {
   "cell_type": "markdown",
   "id": "090774c4-b2e4-4d82-b0f6-aff044d227b1",
   "metadata": {},
   "source": [
    "Similarly, you can plot the second image: \n"
   ]
  },
  {
   "cell_type": "code",
   "execution_count": 44,
   "id": "d0f7139a-671b-4e0a-8079-5de2e63ce860",
   "metadata": {},
   "outputs": [
    {
     "data": {
      "image/png": "[encoded data removed]",
      "text/plain": [
       "<Figure size 640x480 with 1 Axes>"
      ]
     },
     "metadata": {},
     "output_type": "display_data"
    }
   ],
   "source": [
    "image=dataset[9][0]\n",
    "y=dataset[9][1]\n",
    "\n",
    "plt.imshow(image,cmap='gray', vmin=0, vmax=255)\n",
    "plt.title(y)\n",
    "plt.show()"
   ]
  },
  {
   "cell_type": "markdown",
   "id": "3657688f-540e-466a-a98f-1544c42bff1e",
   "metadata": {},
   "source": [
    "<h2 id=\"Torchvision\"> Torchvision Transforms  </h2>\n"
   ]
  },
  {
   "cell_type": "markdown",
   "id": "0c5d2dec-da54-4fe7-8676-e4ca368ad7f1",
   "metadata": {},
   "source": [
    " \n",
    "You will focus on the following libraries:\n"
   ]
  },
  {
   "cell_type": "code",
   "execution_count": 45,
   "id": "09bc3f13-f4ed-432a-abd3-ec7d95d2274d",
   "metadata": {},
   "outputs": [],
   "source": [
    "import torchvision.transforms as transforms"
   ]
  },
  {
   "cell_type": "markdown",
   "id": "5394af2b-132c-410b-98d3-d4e1c57fdcfc",
   "metadata": {},
   "source": [
    "We can apply some image transform functions on the dataset object. The iamge can be cropped and converted to a tensor. We can use <code>transform.Compose</code> we learned from the previous lab to combine the two transform functions.\n"
   ]
  },
  {
   "cell_type": "code",
   "execution_count": 46,
   "id": "2c601dd4-e099-4a33-b120-8e2d0b2281c6",
   "metadata": {},
   "outputs": [
    {
     "name": "stdout",
     "output_type": "stream",
     "text": [
      "The shape of the first element tensor:  torch.Size([1, 20, 20])\n"
     ]
    }
   ],
   "source": [
    "# Combine two transforms: crop and convert to tensor. Apply the compose to MNIST dataset\n",
    "\n",
    "croptensor_data_transform = transforms.Compose([transforms.CenterCrop(20), transforms.ToTensor()])\n",
    "dataset = Dataset(csv_file=csv_file , data_dir=directory,transform=croptensor_data_transform )\n",
    "print(\"The shape of the first element tensor: \", dataset[0][0].shape)\n"
   ]
  },
  {
   "cell_type": "markdown",
   "id": "26ab27e7-7450-44d1-9f92-43938499893c",
   "metadata": {},
   "source": [
    "We can see the image is now 20 x 20\n"
   ]
  },
  {
   "cell_type": "markdown",
   "id": "08cc80c2-eae9-4e35-a7ad-3eabf143ec3a",
   "metadata": {},
   "source": [
    "<!--Empty Space for separating topics-->\n"
   ]
  },
  {
   "cell_type": "markdown",
   "id": "9993b877-1430-4f7d-b5e2-45026834ac3f",
   "metadata": {},
   "source": [
    "Let us plot the first image again. Notice we see less of the shoe.\n"
   ]
  },
  {
   "cell_type": "code",
   "execution_count": 47,
   "id": "dc2da6c5-8af9-4019-8395-6cb59cdf886a",
   "metadata": {},
   "outputs": [
    {
     "data": {
      "image/png": "[encoded data removed]",
      "text/plain": [
       "<Figure size 640x480 with 1 Axes>"
      ]
     },
     "metadata": {},
     "output_type": "display_data"
    }
   ],
   "source": [
    "# Plot the first element in the dataset\n",
    "\n",
    "show_data(dataset[0],shape = (20, 20))"
   ]
  },
  {
   "cell_type": "code",
   "execution_count": 48,
   "id": "7c645a63-f5df-4b54-863e-59a23c14e1ec",
   "metadata": {},
   "outputs": [
    {
     "data": {
      "image/png": "[encoded data removed]",
      "text/plain": [
       "<Figure size 640x480 with 1 Axes>"
      ]
     },
     "metadata": {},
     "output_type": "display_data"
    }
   ],
   "source": [
    "# Plot the second element in the dataset\n",
    "\n",
    "show_data(dataset[1],shape = (20, 20))"
   ]
  },
  {
   "cell_type": "markdown",
   "id": "3020b081-8b50-49ac-9a86-dca1cca4bf98",
   "metadata": {},
   "source": [
    "In the below example, we Vertically flip the image, and then convert it to a tensor. Use <code>transforms.Compose()</code> to combine these two transform functions. Plot the flipped image.\n"
   ]
  },
  {
   "cell_type": "code",
   "execution_count": 49,
   "id": "d5e09376-d106-4d76-a2e6-a31fce93b9da",
   "metadata": {},
   "outputs": [
    {
     "data": {
      "image/png": "[encoded data removed]",
      "text/plain": [
       "<Figure size 640x480 with 1 Axes>"
      ]
     },
     "metadata": {},
     "output_type": "display_data"
    }
   ],
   "source": [
    "# Construct the compose. Apply it on MNIST dataset. Plot the image out.\n",
    "\n",
    "fliptensor_data_transform = transforms.Compose([transforms.RandomVerticalFlip(p=1),transforms.ToTensor()])\n",
    "dataset = Dataset(csv_file=csv_file , data_dir=directory,transform=fliptensor_data_transform )\n",
    "show_data(dataset[1])"
   ]
  },
  {
   "cell_type": "markdown",
   "id": "27ec00d1-c3f9-4977-a9cb-294ae03caa0b",
   "metadata": {},
   "source": [
    "## Prebuilt Datasets in Torch Vision"
   ]
  },
  {
   "cell_type": "markdown",
   "id": "8f60e64f-4060-421c-b6c0-7b6e6898f442",
   "metadata": {},
   "source": [
    "The following are the libraries we are going to use for this lab. The <code>torch.manual_seed()</code> is for forcing the random function to give the same number every time we try to recompile it.\n"
   ]
  },
  {
   "cell_type": "code",
   "execution_count": 50,
   "id": "6572a87a-8aa7-4a1b-9ad0-121b30b5adf7",
   "metadata": {},
   "outputs": [
    {
     "data": {
      "text/plain": [
       "<torch._C.Generator at 0x73f678050750>"
      ]
     },
     "execution_count": 50,
     "metadata": {},
     "output_type": "execute_result"
    }
   ],
   "source": [
    "# These are the libraries will be used for this lab.\n",
    "import torch \n",
    "import matplotlib.pylab as plt\n",
    "import numpy as np\n",
    "torch.manual_seed(0)"
   ]
  },
  {
   "cell_type": "markdown",
   "id": "95a58fa6-1b51-4e78-a1b7-2ed63d473297",
   "metadata": {},
   "source": [
    "This is the function for displaying images.\n"
   ]
  },
  {
   "cell_type": "code",
   "execution_count": 51,
   "id": "38f3f8ab-5586-4b96-b7cf-7d73b77ca944",
   "metadata": {},
   "outputs": [],
   "source": [
    "# Show data by diagram\n",
    "\n",
    "def show_data(data_sample, shape = (28, 28)):\n",
    "    plt.imshow(data_sample[0].numpy().reshape(shape), cmap='gray')\n",
    "    plt.title('y = ' + str(data_sample[1]))"
   ]
  },
  {
   "cell_type": "markdown",
   "id": "7a42c85e-2400-468b-a2fb-bd556f259e59",
   "metadata": {},
   "source": [
    "<!--Empty Space for separating topics-->\n"
   ]
  },
  {
   "cell_type": "markdown",
   "id": "36648fc5-a6d2-47d0-bd72-d40d7b01436b",
   "metadata": {},
   "source": [
    "<a name=\"Prebuilt_Dataset\"><h2 id=\"Prebuilt_Dataset\">Prebuilt Datasets</h2></a>\n"
   ]
  },
  {
   "cell_type": "markdown",
   "id": "2b7b0f63-b17f-4004-83e4-00c3ca63e474",
   "metadata": {},
   "source": [
    "You will focus on the following libraries: \n"
   ]
  },
  {
   "cell_type": "code",
   "execution_count": 52,
   "id": "f23f5ba9-72d5-4f36-9d85-95956921db86",
   "metadata": {},
   "outputs": [],
   "source": [
    "# Run the command below when you do not have torchvision installed\n",
    "# !mamba install -y torchvision\n",
    "\n",
    "import torchvision.transforms as transforms\n",
    "import torchvision.datasets as dsets"
   ]
  },
  {
   "cell_type": "markdown",
   "id": "ccc3dddd-707f-4024-aae6-d848975336a4",
   "metadata": {},
   "source": [
    "We can import a prebuilt dataset. In this case, use MNIST. You'll work with several of these parameters later by placing a transform object in the argument <code>transform</code>.\n"
   ]
  },
  {
   "cell_type": "code",
   "execution_count": 54,
   "id": "fea1e515-d4e8-4200-9f6a-bac30df73bc6",
   "metadata": {},
   "outputs": [
    {
     "name": "stdout",
     "output_type": "stream",
     "text": [
      "Downloading http://yann.lecun.com/exdb/mnist/train-images-idx3-ubyte.gz\n",
      "Failed to download (trying next):\n",
      "HTTP Error 403: Forbidden\n",
      "\n",
      "Downloading https://ossci-datasets.s3.amazonaws.com/mnist/train-images-idx3-ubyte.gz\n",
      "Downloading https://ossci-datasets.s3.amazonaws.com/mnist/train-images-idx3-ubyte.gz to ./data/MNIST/raw/train-images-idx3-ubyte.gz\n"
     ]
    },
    {
     "name": "stderr",
     "output_type": "stream",
     "text": [
      "100%|██████████████████████████████████████████████████████████████████████████████████████| 9.91M/9.91M [02:11<00:00, 75.6kB/s]\n"
     ]
    },
    {
     "name": "stdout",
     "output_type": "stream",
     "text": [
      "Extracting ./data/MNIST/raw/train-images-idx3-ubyte.gz to ./data/MNIST/raw\n",
      "\n",
      "Downloading http://yann.lecun.com/exdb/mnist/train-labels-idx1-ubyte.gz\n",
      "Failed to download (trying next):\n",
      "HTTP Error 403: Forbidden\n",
      "\n",
      "Downloading https://ossci-datasets.s3.amazonaws.com/mnist/train-labels-idx1-ubyte.gz\n",
      "Downloading https://ossci-datasets.s3.amazonaws.com/mnist/train-labels-idx1-ubyte.gz to ./data/MNIST/raw/train-labels-idx1-ubyte.gz\n"
     ]
    },
    {
     "name": "stderr",
     "output_type": "stream",
     "text": [
      "100%|██████████████████████████████████████████████████████████████████████████████████████| 28.9k/28.9k [00:01<00:00, 28.2kB/s]\n"
     ]
    },
    {
     "name": "stdout",
     "output_type": "stream",
     "text": [
      "Extracting ./data/MNIST/raw/train-labels-idx1-ubyte.gz to ./data/MNIST/raw\n",
      "\n",
      "Downloading http://yann.lecun.com/exdb/mnist/t10k-images-idx3-ubyte.gz\n",
      "Failed to download (trying next):\n",
      "HTTP Error 403: Forbidden\n",
      "\n",
      "Downloading https://ossci-datasets.s3.amazonaws.com/mnist/t10k-images-idx3-ubyte.gz\n",
      "Downloading https://ossci-datasets.s3.amazonaws.com/mnist/t10k-images-idx3-ubyte.gz to ./data/MNIST/raw/t10k-images-idx3-ubyte.gz\n"
     ]
    },
    {
     "name": "stderr",
     "output_type": "stream",
     "text": [
      "100%|██████████████████████████████████████████████████████████████████████████████████████| 1.65M/1.65M [00:01<00:00, 1.30MB/s]\n"
     ]
    },
    {
     "name": "stdout",
     "output_type": "stream",
     "text": [
      "Extracting ./data/MNIST/raw/t10k-images-idx3-ubyte.gz to ./data/MNIST/raw\n",
      "\n",
      "Downloading http://yann.lecun.com/exdb/mnist/t10k-labels-idx1-ubyte.gz\n",
      "Failed to download (trying next):\n",
      "HTTP Error 403: Forbidden\n",
      "\n",
      "Downloading https://ossci-datasets.s3.amazonaws.com/mnist/t10k-labels-idx1-ubyte.gz\n",
      "Downloading https://ossci-datasets.s3.amazonaws.com/mnist/t10k-labels-idx1-ubyte.gz to ./data/MNIST/raw/t10k-labels-idx1-ubyte.gz\n"
     ]
    },
    {
     "name": "stderr",
     "output_type": "stream",
     "text": [
      "100%|██████████████████████████████████████████████████████████████████████████████████████| 4.54k/4.54k [00:00<00:00, 3.45MB/s]"
     ]
    },
    {
     "name": "stdout",
     "output_type": "stream",
     "text": [
      "Extracting ./data/MNIST/raw/t10k-labels-idx1-ubyte.gz to ./data/MNIST/raw\n",
      "\n"
     ]
    },
    {
     "name": "stderr",
     "output_type": "stream",
     "text": [
      "\n"
     ]
    }
   ],
   "source": [
    "# Import the prebuilt dataset into variable dataset\n",
    "\n",
    "\n",
    "dataset = dsets.MNIST(\n",
    "    root = './data',  \n",
    "    download = True, \n",
    "    transform = transforms.ToTensor()\n",
    ")"
   ]
  },
  {
   "cell_type": "markdown",
   "id": "c780ba6a-85f3-4858-a2b2-0a5fea007967",
   "metadata": {},
   "source": [
    "Each element of the dataset object contains a tuple. Let us see whether the first element in the dataset is a tuple and what is in it.\n"
   ]
  },
  {
   "cell_type": "code",
   "execution_count": 55,
   "id": "f0f73c20-1b03-4156-860f-7e3057d825ec",
   "metadata": {},
   "outputs": [
    {
     "name": "stdout",
     "output_type": "stream",
     "text": [
      "Type of the first element:  <class 'tuple'>\n",
      "The length of the tuple:  2\n",
      "The shape of the first element in the tuple:  torch.Size([1, 28, 28])\n",
      "The type of the first element in the tuple <class 'torch.Tensor'>\n",
      "The second element in the tuple:  5\n",
      "The type of the second element in the tuple:  <class 'int'>\n",
      "As the result, the structure of the first element in the dataset is (tensor([1, 28, 28]), tensor(7)).\n"
     ]
    }
   ],
   "source": [
    "# Examine whether the elements in dataset MNIST are tuples, and what is in the tuple?\n",
    "\n",
    "print(\"Type of the first element: \", type(dataset[0]))\n",
    "print(\"The length of the tuple: \", len(dataset[0]))\n",
    "print(\"The shape of the first element in the tuple: \", dataset[0][0].shape)\n",
    "print(\"The type of the first element in the tuple\", type(dataset[0][0]))\n",
    "print(\"The second element in the tuple: \", dataset[0][1])\n",
    "print(\"The type of the second element in the tuple: \", type(dataset[0][1]))\n",
    "print(\"As the result, the structure of the first element in the dataset is (tensor([1, 28, 28]), tensor(7)).\")"
   ]
  },
  {
   "cell_type": "markdown",
   "id": "dc640904-1ec7-4790-adbb-f9574578adf3",
   "metadata": {},
   "source": [
    "As shown in the output, the first element in the tuple is a cuboid tensor. As you can see, there is a dimension with only size 1, so basically, it is a rectangular tensor.<br>\n",
    "The second element in the tuple is a number tensor, which indicate the real number the image shows. As the second element in the tuple is <code>tensor(7)</code>, the image should show a hand-written 7.\n"
   ]
  },
  {
   "cell_type": "markdown",
   "id": "b23737b2-b2ed-4b54-91ab-fd006d7444b2",
   "metadata": {},
   "source": [
    "<!--Empty Space for separating topics-->\n"
   ]
  },
  {
   "cell_type": "markdown",
   "id": "fea18d02-c752-4d63-a5e6-541d09a8d282",
   "metadata": {},
   "source": [
    "Let us plot the first element in the dataset:\n"
   ]
  },
  {
   "cell_type": "code",
   "execution_count": 56,
   "id": "1d265379-b571-4a57-adcc-498f5583bc51",
   "metadata": {},
   "outputs": [
    {
     "data": {
      "image/png": "[encoded data removed]",
      "text/plain": [
       "<Figure size 640x480 with 1 Axes>"
      ]
     },
     "metadata": {},
     "output_type": "display_data"
    }
   ],
   "source": [
    "# Plot the first element in the dataset\n",
    "\n",
    "show_data(dataset[0])"
   ]
  },
  {
   "cell_type": "markdown",
   "id": "207373e3-a43f-4dc7-847c-f479013f36e5",
   "metadata": {},
   "source": [
    "As we can see, it is a 7.\n"
   ]
  },
  {
   "cell_type": "markdown",
   "id": "cfc659e9-8a59-4b8e-adbb-fbf4ecf60fc5",
   "metadata": {},
   "source": [
    "Plot the second sample:   \n"
   ]
  },
  {
   "cell_type": "code",
   "execution_count": 57,
   "id": "44e95e07-8954-4163-9209-9a7b6a199e30",
   "metadata": {},
   "outputs": [
    {
     "data": {
      "image/png": "[encoded data removed]",
      "text/plain": [
       "<Figure size 640x480 with 1 Axes>"
      ]
     },
     "metadata": {},
     "output_type": "display_data"
    }
   ],
   "source": [
    "# Plot the second element in the dataset\n",
    "\n",
    "show_data(dataset[1])"
   ]
  },
  {
   "cell_type": "markdown",
   "id": "d08351ef-d0a4-41cf-9121-44f181e29fcb",
   "metadata": {},
   "source": [
    "<!--Empty Space for separating topics-->\n"
   ]
  },
  {
   "cell_type": "markdown",
   "id": "a86b45a2-d545-41be-bdda-2eef811947b2",
   "metadata": {},
   "source": [
    "<a name=\"Torchvision\"><h2 id=\"Torchvision\"> Torchvision Transforms  </h2></a>\n"
   ]
  },
  {
   "cell_type": "markdown",
   "id": "ceb9be3d-caab-4f1b-8d34-fa48a75d96e1",
   "metadata": {},
   "source": [
    "We can apply some image transform functions on the MNIST dataset.\n"
   ]
  },
  {
   "cell_type": "markdown",
   "id": "eaf2c20a-80d5-46c3-a695-46b90e52f035",
   "metadata": {},
   "source": [
    "As an example, the images in the MNIST dataset can be cropped and converted to a tensor. We can use <code>transform.Compose</code> we learned from the previous lab to combine the two transform functions.\n"
   ]
  },
  {
   "cell_type": "code",
   "execution_count": 58,
   "id": "2762ba3d-112e-4fce-8d5d-30f0e3b60dbf",
   "metadata": {},
   "outputs": [
    {
     "name": "stdout",
     "output_type": "stream",
     "text": [
      "The shape of the first element in the first tuple:  torch.Size([1, 20, 20])\n"
     ]
    }
   ],
   "source": [
    "# Combine two transforms: crop and convert to tensor. Apply the compose to MNIST dataset\n",
    "\n",
    "croptensor_data_transform = transforms.Compose([transforms.CenterCrop(20), transforms.ToTensor()])\n",
    "dataset = dsets.MNIST(root = './data', download = True, transform = croptensor_data_transform)\n",
    "print(\"The shape of the first element in the first tuple: \", dataset[0][0].shape)"
   ]
  },
  {
   "cell_type": "markdown",
   "id": "3147a965-abee-40aa-9d01-658026b440cf",
   "metadata": {},
   "source": [
    "We can see the image is now 20 x 20 instead of 28 x 28.\n"
   ]
  },
  {
   "cell_type": "markdown",
   "id": "a9ad7f8f-cee2-4b0f-82bc-b15700ea8b21",
   "metadata": {},
   "source": [
    "<!--Empty Space for separating topics-->\n"
   ]
  },
  {
   "cell_type": "markdown",
   "id": "7f25d877-4cc1-477c-a5a5-c046f0bb6298",
   "metadata": {},
   "source": [
    "Let us plot the first image again. Notice that the black space around the <b>7</b> become less apparent.\n"
   ]
  },
  {
   "cell_type": "code",
   "execution_count": 59,
   "id": "7c17f0a0-5365-46ce-9c1e-bb9554b03840",
   "metadata": {},
   "outputs": [
    {
     "data": {
      "image/png": "[encoded data removed]",
      "text/plain": [
       "<Figure size 640x480 with 1 Axes>"
      ]
     },
     "metadata": {},
     "output_type": "display_data"
    }
   ],
   "source": [
    "# Plot the first element in the dataset\n",
    "\n",
    "show_data(dataset[0],shape = (20, 20))"
   ]
  },
  {
   "cell_type": "code",
   "execution_count": 60,
   "id": "acd21525-120b-479b-b2c2-c702d17816a6",
   "metadata": {},
   "outputs": [
    {
     "data": {
      "image/png": "[encoded data removed]",
      "text/plain": [
       "<Figure size 640x480 with 1 Axes>"
      ]
     },
     "metadata": {},
     "output_type": "display_data"
    }
   ],
   "source": [
    "# Plot the second element in the dataset\n",
    "\n",
    "show_data(dataset[1],shape = (20, 20))"
   ]
  },
  {
   "cell_type": "markdown",
   "id": "6d61799b-f5bc-488c-889b-0ddd4f244aa6",
   "metadata": {},
   "source": [
    "In the below example, we horizontally flip the image, and then convert it to a tensor. Use <code>transforms.Compose()</code> to combine these two transform functions. Plot the flipped image.\n"
   ]
  },
  {
   "cell_type": "code",
   "execution_count": 61,
   "id": "3febd123-e918-4ccf-81cf-16ddbfd000a8",
   "metadata": {},
   "outputs": [
    {
     "data": {
      "image/png": "[encoded data removed]",
      "text/plain": [
       "<Figure size 640x480 with 1 Axes>"
      ]
     },
     "metadata": {},
     "output_type": "display_data"
    }
   ],
   "source": [
    "# Construct the compose. Apply it on MNIST dataset. Plot the image out.\n",
    "\n",
    "fliptensor_data_transform = transforms.Compose([transforms.RandomHorizontalFlip(p = 1),transforms.ToTensor()])\n",
    "dataset = dsets.MNIST(root = './data', download = True, transform = fliptensor_data_transform)\n",
    "show_data(dataset[1])"
   ]
  }
 ],
 "metadata": {
  "kernelspec": {
   "display_name": "Python 3 (ipykernel)",
   "language": "python",
   "name": "python3"
  },
  "language_info": {
   "codemirror_mode": {
    "name": "ipython",
    "version": 3
   },
   "file_extension": ".py",
   "mimetype": "text/x-python",
   "name": "python",
   "nbconvert_exporter": "python",
   "pygments_lexer": "ipython3",
   "version": "3.9.19"
  }
 },
 "nbformat": 4,
 "nbformat_minor": 5
}
