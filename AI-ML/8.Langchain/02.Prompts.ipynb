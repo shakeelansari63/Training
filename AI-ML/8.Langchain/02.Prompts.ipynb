{
 "cells": [
  {
   "cell_type": "markdown",
   "id": "adfe4a99-ce96-4de9-9b8f-d8396bc51463",
   "metadata": {},
   "source": [
    "### Propmts in LLM"
   ]
  },
  {
   "cell_type": "markdown",
   "id": "71afc6cb-2c75-4cde-a417-18f55cff7f57",
   "metadata": {},
   "source": [
    "It is better to customize the prompts before sending to LLM Model. With help of prompts we can give more detail instruction to LLM model"
   ]
  },
  {
   "cell_type": "markdown",
   "id": "d275f7c4-6226-4105-b18b-fb405bebd82e",
   "metadata": {},
   "source": [
    "#### Setup LLM Model"
   ]
  },
  {
   "cell_type": "code",
   "execution_count": null,
   "id": "1aec100b-5aeb-432e-b9e6-adea9fbd348e",
   "metadata": {},
   "outputs": [],
   "source": [
    "from langchain_ollama.chat_models import ChatOllama\n",
    "from langchain.schema import AIMessage, SystemMessage, HumanMessage\n",
    "\n",
    "# Create chat ollama class to interact with ollama models\n",
    "llm = ChatOllama(\n",
    "    base_url = 'http://localhost:11434',\n",
    "    model = 'qwen2.5:0.5b'\n",
    ")"
   ]
  },
  {
   "cell_type": "markdown",
   "id": "db9fe4b3-87f7-4b27-9da9-952683f148fb",
   "metadata": {},
   "source": [
    "#### Create Prompt"
   ]
  },
  {
   "cell_type": "code",
   "execution_count": 13,
   "id": "eb707dab-2741-4f52-9dfc-fa66b2292986",
   "metadata": {},
   "outputs": [],
   "source": [
    "from langchain.prompts import PromptTemplate\n",
    "\n",
    "# This is simple Prompt template\n",
    "prompt = PromptTemplate(template = \"\"\"You are a super helpful health expert AI assistant. You can answer questions on health related topic.\n",
    "                                    Answer the health related questions.\n",
    "                                    If the question is not related to health, tell user that you can't answer this question.\n",
    "                                    Keep the answer concise and maximum 3 sentences.\n",
    "                                    Question: {question}\n",
    "                                    Answer: \"\"\",\n",
    "                       input_variables=['question'])"
   ]
  },
  {
   "cell_type": "markdown",
   "id": "72326211-808c-4712-b9ac-ef217dc3430a",
   "metadata": {},
   "source": [
    "#### Answer question"
   ]
  },
  {
   "cell_type": "code",
   "execution_count": 16,
   "id": "8fd28e02-ba5f-4c51-8b0a-30d47210ccc9",
   "metadata": {},
   "outputs": [
    {
     "name": "stdin",
     "output_type": "stream",
     "text": [
      "Ask Question on Health:  what are steroids?\n"
     ]
    },
    {
     "name": "stdout",
     "output_type": "stream",
     "text": [
      "Steroids are synthetic drugs intended for treating various conditions such as diabetes, pain management, and skin disorders. They mimic the effects of natural hormones to improve bodily functions like weight loss and muscle recovery. However, their use is closely monitored by healthcare professionals due to potential side effects and interactions with other medications.\n"
     ]
    }
   ],
   "source": [
    "# Set Messages\n",
    "question = input(\"Ask Question on Health: \").strip().strip('\\n')\n",
    "\n",
    "prompt_question = prompt.invoke({'question': question})\n",
    "\n",
    "answer = llm.invoke(prompt_question).content\n",
    "print(answer)"
   ]
  },
  {
   "cell_type": "markdown",
   "id": "47fba848-d73f-4a77-b683-375ec2c29ff6",
   "metadata": {},
   "source": [
    "## Few shot prompt template"
   ]
  },
  {
   "cell_type": "markdown",
   "id": "ae61c05e-d9e3-4477-89c8-4cfeaf6bbeee",
   "metadata": {},
   "source": [
    "Few shot prompt template is prompt engineering technique where were give some examples to the LLM along with prompt. The examples help LLM model to understand teh context better and answer the questions with higher accuracy"
   ]
  },
  {
   "cell_type": "code",
   "execution_count": 25,
   "id": "ad11bb93-0c60-441a-9e72-6c5f022e5208",
   "metadata": {},
   "outputs": [],
   "source": [
    "from langchain.prompts import FewShotPromptTemplate, PromptTemplate\n",
    "\n",
    "# Lets say we have few examples\n",
    "examples = [\n",
    "    {\n",
    "        \"review\": \"I Love this product\",\n",
    "        \"sentiment\": \"Positive\",\n",
    "    },\n",
    "    {\n",
    "        \"review\": \"It's not a good product\",\n",
    "        \"sentiment\": \"Negative\",\n",
    "    },\n",
    "    {\n",
    "        \"review\": \"This product is fine but not the best. It gets the work done.\",\n",
    "        \"sentiment\": \"Neutral\",\n",
    "    }\n",
    "]\n",
    "\n",
    "# So we can Create Prompt Template as follow - \n",
    "prompt = FewShotPromptTemplate(\n",
    "    examples = examples,\n",
    "    example_prompt = PromptTemplate(\n",
    "        template=\"User: {review}\\nAI: {sentiment}\", input_variables=['review', 'sentiment']\n",
    "    ),\n",
    "    prefix = \"Given user reviews, identify the review sentiments. Here are some examples - \",\n",
    "    suffix = \"User: {review}\\nAI:\",\n",
    "    input_variables = ['review'],\n",
    "    example_separator = '\\n\\n'\n",
    ")"
   ]
  },
  {
   "cell_type": "markdown",
   "id": "a6fdbc11-fe0b-43aa-bf11-e1fc15fe7e81",
   "metadata": {},
   "source": [
    "#### Answer question"
   ]
  },
  {
   "cell_type": "code",
   "execution_count": 27,
   "id": "92761972-c90a-4aa3-bdfb-fbf462741c1c",
   "metadata": {},
   "outputs": [
    {
     "name": "stdin",
     "output_type": "stream",
     "text": [
      "Enter your review about product:  I don't understand why is this product so popular\n"
     ]
    },
    {
     "name": "stdout",
     "output_type": "stream",
     "text": [
      "Positive\n"
     ]
    }
   ],
   "source": [
    "# Set Messages\n",
    "review = input(\"Enter your review about product: \").strip().strip('\\n')\n",
    "\n",
    "prompt_review = prompt.invoke({'review': review})\n",
    "\n",
    "answer = llm.invoke(prompt_review).content\n",
    "print(answer)"
   ]
  }
 ],
 "metadata": {
  "kernelspec": {
   "display_name": "Python 3 (ipykernel)",
   "language": "python",
   "name": "python3"
  },
  "language_info": {
   "codemirror_mode": {
    "name": "ipython",
    "version": 3
   },
   "file_extension": ".py",
   "mimetype": "text/x-python",
   "name": "python",
   "nbconvert_exporter": "python",
   "pygments_lexer": "ipython3",
   "version": "3.12.9"
  }
 },
 "nbformat": 4,
 "nbformat_minor": 5
}
