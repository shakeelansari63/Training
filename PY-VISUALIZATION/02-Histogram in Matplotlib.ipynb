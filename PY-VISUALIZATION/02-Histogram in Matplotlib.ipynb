{
 "cells": [
  {
   "cell_type": "markdown",
   "id": "27391d0f-aefd-4944-a392-395032aee584",
   "metadata": {},
   "source": [
    "## Histogram show the distribution of data\n",
    "### Problem: From given countries.csv compart Per Capita GDP of Asia and Europe in year 2007"
   ]
  },
  {
   "cell_type": "code",
   "execution_count": 1,
   "id": "eb71dd8f-af06-4ae0-8d9d-525dede7eaba",
   "metadata": {},
   "outputs": [],
   "source": [
    "from matplotlib import pyplot as plt\n",
    "import pandas as pd"
   ]
  },
  {
   "cell_type": "code",
   "execution_count": 2,
   "id": "7394b47c-24a8-456e-b1d1-25563f3c14b6",
   "metadata": {},
   "outputs": [
    {
     "data": {
      "text/html": [
       "<div>\n",
       "<style scoped>\n",
       "    .dataframe tbody tr th:only-of-type {\n",
       "        vertical-align: middle;\n",
       "    }\n",
       "\n",
       "    .dataframe tbody tr th {\n",
       "        vertical-align: top;\n",
       "    }\n",
       "\n",
       "    .dataframe thead th {\n",
       "        text-align: right;\n",
       "    }\n",
       "</style>\n",
       "<table border=\"1\" class=\"dataframe\">\n",
       "  <thead>\n",
       "    <tr style=\"text-align: right;\">\n",
       "      <th></th>\n",
       "      <th>country</th>\n",
       "      <th>continent</th>\n",
       "      <th>year</th>\n",
       "      <th>lifeExpectancy</th>\n",
       "      <th>population</th>\n",
       "      <th>gdpPerCapita</th>\n",
       "    </tr>\n",
       "  </thead>\n",
       "  <tbody>\n",
       "    <tr>\n",
       "      <th>0</th>\n",
       "      <td>Afghanistan</td>\n",
       "      <td>Asia</td>\n",
       "      <td>1952</td>\n",
       "      <td>28.801</td>\n",
       "      <td>8425333</td>\n",
       "      <td>779.445314</td>\n",
       "    </tr>\n",
       "    <tr>\n",
       "      <th>1</th>\n",
       "      <td>Afghanistan</td>\n",
       "      <td>Asia</td>\n",
       "      <td>1957</td>\n",
       "      <td>30.332</td>\n",
       "      <td>9240934</td>\n",
       "      <td>820.853030</td>\n",
       "    </tr>\n",
       "    <tr>\n",
       "      <th>2</th>\n",
       "      <td>Afghanistan</td>\n",
       "      <td>Asia</td>\n",
       "      <td>1962</td>\n",
       "      <td>31.997</td>\n",
       "      <td>10267083</td>\n",
       "      <td>853.100710</td>\n",
       "    </tr>\n",
       "    <tr>\n",
       "      <th>3</th>\n",
       "      <td>Afghanistan</td>\n",
       "      <td>Asia</td>\n",
       "      <td>1967</td>\n",
       "      <td>34.020</td>\n",
       "      <td>11537966</td>\n",
       "      <td>836.197138</td>\n",
       "    </tr>\n",
       "    <tr>\n",
       "      <th>4</th>\n",
       "      <td>Afghanistan</td>\n",
       "      <td>Asia</td>\n",
       "      <td>1972</td>\n",
       "      <td>36.088</td>\n",
       "      <td>13079460</td>\n",
       "      <td>739.981106</td>\n",
       "    </tr>\n",
       "  </tbody>\n",
       "</table>\n",
       "</div>"
      ],
      "text/plain": [
       "       country continent  year  lifeExpectancy  population  gdpPerCapita\n",
       "0  Afghanistan      Asia  1952          28.801     8425333    779.445314\n",
       "1  Afghanistan      Asia  1957          30.332     9240934    820.853030\n",
       "2  Afghanistan      Asia  1962          31.997    10267083    853.100710\n",
       "3  Afghanistan      Asia  1967          34.020    11537966    836.197138\n",
       "4  Afghanistan      Asia  1972          36.088    13079460    739.981106"
      ]
     },
     "execution_count": 2,
     "metadata": {},
     "output_type": "execute_result"
    }
   ],
   "source": [
    "# Load file\n",
    "data = pd.read_csv('datasets/countries.csv')\n",
    "data.head()"
   ]
  },
  {
   "cell_type": "markdown",
   "id": "ce6e3381-5af4-460e-a517-e274b383d3c8",
   "metadata": {},
   "source": [
    "### Lets see all continents"
   ]
  },
  {
   "cell_type": "code",
   "execution_count": 3,
   "id": "b9e608a6-d6dc-4488-854e-b230d06e0f4c",
   "metadata": {},
   "outputs": [
    {
     "data": {
      "text/plain": [
       "{'Africa', 'Americas', 'Asia', 'Europe', 'Oceania'}"
      ]
     },
     "execution_count": 3,
     "metadata": {},
     "output_type": "execute_result"
    }
   ],
   "source": [
    "set(data.continent)"
   ]
  },
  {
   "cell_type": "markdown",
   "id": "af864440-a820-44bb-a05a-cbf8c3826e7b",
   "metadata": {},
   "source": [
    "### Extract rows for Year 2007"
   ]
  },
  {
   "cell_type": "code",
   "execution_count": 4,
   "id": "962f5ba9-bd2d-44d4-936a-6912b39bf2f2",
   "metadata": {},
   "outputs": [],
   "source": [
    "data_2007 = data[data.year == 2007]"
   ]
  },
  {
   "cell_type": "markdown",
   "id": "fe3f708b-45a9-41ce-8722-4e9de8674eea",
   "metadata": {},
   "source": [
    "### Extract data for Asia and Europe"
   ]
  },
  {
   "cell_type": "code",
   "execution_count": 5,
   "id": "2c0c6ab8-e9fc-48ce-8329-c255aba903ca",
   "metadata": {},
   "outputs": [],
   "source": [
    "asia_2007 = data_2007[data_2007.continent == 'Asia']\n",
    "europe_2007 = data_2007[data_2007.continent == 'Europe']"
   ]
  },
  {
   "cell_type": "code",
   "execution_count": 6,
   "id": "9e3a50e9-6c2c-4722-b0bb-57548780ab3a",
   "metadata": {},
   "outputs": [
    {
     "data": {
      "text/html": [
       "<div>\n",
       "<style scoped>\n",
       "    .dataframe tbody tr th:only-of-type {\n",
       "        vertical-align: middle;\n",
       "    }\n",
       "\n",
       "    .dataframe tbody tr th {\n",
       "        vertical-align: top;\n",
       "    }\n",
       "\n",
       "    .dataframe thead th {\n",
       "        text-align: right;\n",
       "    }\n",
       "</style>\n",
       "<table border=\"1\" class=\"dataframe\">\n",
       "  <thead>\n",
       "    <tr style=\"text-align: right;\">\n",
       "      <th></th>\n",
       "      <th>country</th>\n",
       "      <th>continent</th>\n",
       "      <th>year</th>\n",
       "      <th>lifeExpectancy</th>\n",
       "      <th>population</th>\n",
       "      <th>gdpPerCapita</th>\n",
       "    </tr>\n",
       "  </thead>\n",
       "  <tbody>\n",
       "    <tr>\n",
       "      <th>11</th>\n",
       "      <td>Afghanistan</td>\n",
       "      <td>Asia</td>\n",
       "      <td>2007</td>\n",
       "      <td>43.828</td>\n",
       "      <td>31889923</td>\n",
       "      <td>974.580338</td>\n",
       "    </tr>\n",
       "    <tr>\n",
       "      <th>95</th>\n",
       "      <td>Bahrain</td>\n",
       "      <td>Asia</td>\n",
       "      <td>2007</td>\n",
       "      <td>75.635</td>\n",
       "      <td>708573</td>\n",
       "      <td>29796.048340</td>\n",
       "    </tr>\n",
       "    <tr>\n",
       "      <th>107</th>\n",
       "      <td>Bangladesh</td>\n",
       "      <td>Asia</td>\n",
       "      <td>2007</td>\n",
       "      <td>64.062</td>\n",
       "      <td>150448339</td>\n",
       "      <td>1391.253792</td>\n",
       "    </tr>\n",
       "    <tr>\n",
       "      <th>227</th>\n",
       "      <td>Cambodia</td>\n",
       "      <td>Asia</td>\n",
       "      <td>2007</td>\n",
       "      <td>59.723</td>\n",
       "      <td>14131858</td>\n",
       "      <td>1713.778686</td>\n",
       "    </tr>\n",
       "    <tr>\n",
       "      <th>299</th>\n",
       "      <td>China</td>\n",
       "      <td>Asia</td>\n",
       "      <td>2007</td>\n",
       "      <td>72.961</td>\n",
       "      <td>1318683096</td>\n",
       "      <td>4959.114854</td>\n",
       "    </tr>\n",
       "  </tbody>\n",
       "</table>\n",
       "</div>"
      ],
      "text/plain": [
       "         country continent  year  lifeExpectancy  population  gdpPerCapita\n",
       "11   Afghanistan      Asia  2007          43.828    31889923    974.580338\n",
       "95       Bahrain      Asia  2007          75.635      708573  29796.048340\n",
       "107   Bangladesh      Asia  2007          64.062   150448339   1391.253792\n",
       "227     Cambodia      Asia  2007          59.723    14131858   1713.778686\n",
       "299        China      Asia  2007          72.961  1318683096   4959.114854"
      ]
     },
     "execution_count": 6,
     "metadata": {},
     "output_type": "execute_result"
    }
   ],
   "source": [
    "asia_2007.head()"
   ]
  },
  {
   "cell_type": "code",
   "execution_count": 7,
   "id": "90557df8-f62a-43a7-b1a2-9077d27e2d85",
   "metadata": {},
   "outputs": [
    {
     "data": {
      "text/html": [
       "<div>\n",
       "<style scoped>\n",
       "    .dataframe tbody tr th:only-of-type {\n",
       "        vertical-align: middle;\n",
       "    }\n",
       "\n",
       "    .dataframe tbody tr th {\n",
       "        vertical-align: top;\n",
       "    }\n",
       "\n",
       "    .dataframe thead th {\n",
       "        text-align: right;\n",
       "    }\n",
       "</style>\n",
       "<table border=\"1\" class=\"dataframe\">\n",
       "  <thead>\n",
       "    <tr style=\"text-align: right;\">\n",
       "      <th></th>\n",
       "      <th>country</th>\n",
       "      <th>continent</th>\n",
       "      <th>year</th>\n",
       "      <th>lifeExpectancy</th>\n",
       "      <th>population</th>\n",
       "      <th>gdpPerCapita</th>\n",
       "    </tr>\n",
       "  </thead>\n",
       "  <tbody>\n",
       "    <tr>\n",
       "      <th>23</th>\n",
       "      <td>Albania</td>\n",
       "      <td>Europe</td>\n",
       "      <td>2007</td>\n",
       "      <td>76.423</td>\n",
       "      <td>3600523</td>\n",
       "      <td>5937.029526</td>\n",
       "    </tr>\n",
       "    <tr>\n",
       "      <th>83</th>\n",
       "      <td>Austria</td>\n",
       "      <td>Europe</td>\n",
       "      <td>2007</td>\n",
       "      <td>79.829</td>\n",
       "      <td>8199783</td>\n",
       "      <td>36126.492700</td>\n",
       "    </tr>\n",
       "    <tr>\n",
       "      <th>119</th>\n",
       "      <td>Belgium</td>\n",
       "      <td>Europe</td>\n",
       "      <td>2007</td>\n",
       "      <td>79.441</td>\n",
       "      <td>10392226</td>\n",
       "      <td>33692.605080</td>\n",
       "    </tr>\n",
       "    <tr>\n",
       "      <th>155</th>\n",
       "      <td>Bosnia and Herzegovina</td>\n",
       "      <td>Europe</td>\n",
       "      <td>2007</td>\n",
       "      <td>74.852</td>\n",
       "      <td>4552198</td>\n",
       "      <td>7446.298803</td>\n",
       "    </tr>\n",
       "    <tr>\n",
       "      <th>191</th>\n",
       "      <td>Bulgaria</td>\n",
       "      <td>Europe</td>\n",
       "      <td>2007</td>\n",
       "      <td>73.005</td>\n",
       "      <td>7322858</td>\n",
       "      <td>10680.792820</td>\n",
       "    </tr>\n",
       "  </tbody>\n",
       "</table>\n",
       "</div>"
      ],
      "text/plain": [
       "                    country continent  year  lifeExpectancy  population  \\\n",
       "23                  Albania    Europe  2007          76.423     3600523   \n",
       "83                  Austria    Europe  2007          79.829     8199783   \n",
       "119                 Belgium    Europe  2007          79.441    10392226   \n",
       "155  Bosnia and Herzegovina    Europe  2007          74.852     4552198   \n",
       "191                Bulgaria    Europe  2007          73.005     7322858   \n",
       "\n",
       "     gdpPerCapita  \n",
       "23    5937.029526  \n",
       "83   36126.492700  \n",
       "119  33692.605080  \n",
       "155   7446.298803  \n",
       "191  10680.792820  "
      ]
     },
     "execution_count": 7,
     "metadata": {},
     "output_type": "execute_result"
    }
   ],
   "source": [
    "europe_2007.head()"
   ]
  },
  {
   "cell_type": "code",
   "execution_count": 8,
   "id": "de680b10-bc9a-426f-9703-70715a5fea7b",
   "metadata": {},
   "outputs": [
    {
     "data": {
      "image/png": "[encoded data removed]",
      "text/plain": [
       "<Figure size 640x480 with 1 Axes>"
      ]
     },
     "metadata": {},
     "output_type": "display_data"
    }
   ],
   "source": [
    "### Lets plot Histogram for Asia\n",
    "plt.hist(asia_2007.gdpPerCapita, edgecolor='black')\n",
    "plt.title('GDP Per capita for Asia')\n",
    "plt.show()"
   ]
  },
  {
   "cell_type": "code",
   "execution_count": 9,
   "id": "d5ea66c8-496c-4c80-ac8f-f42f1fe65904",
   "metadata": {},
   "outputs": [
    {
     "data": {
      "image/png": "[encoded data removed]",
      "text/plain": [
       "<Figure size 640x480 with 1 Axes>"
      ]
     },
     "metadata": {},
     "output_type": "display_data"
    }
   ],
   "source": [
    "### Lets plot Histogram for Europe\n",
    "plt.hist(europe_2007.gdpPerCapita, edgecolor='black')\n",
    "plt.title('GDP Per capita for Europe')\n",
    "plt.show()"
   ]
  },
  {
   "cell_type": "markdown",
   "id": "4d264bd0-f255-4358-9ae5-f7bc6db116f6",
   "metadata": {},
   "source": [
    "### There few things to notice\n",
    "#### There are different number of bins in both histograms\n",
    "#### The x axix range in both is different since matplotlib tries to adjust the range"
   ]
  },
  {
   "cell_type": "markdown",
   "id": "744e4a63-c4d4-4c28-b528-729d8efeade9",
   "metadata": {},
   "source": [
    "### Lets create a single plot with both plots with same number of bins and same range on X axis"
   ]
  },
  {
   "cell_type": "code",
   "execution_count": 10,
   "id": "395fd75c-c52e-433a-b8bb-9d18b45256de",
   "metadata": {},
   "outputs": [
    {
     "data": {
      "image/png": "[encoded data removed]",
      "text/plain": [
       "<Figure size 640x480 with 2 Axes>"
      ]
     },
     "metadata": {},
     "output_type": "display_data"
    }
   ],
   "source": [
    "plt.subplot(2, 1, 1) # 2 rows, 1 columns, select first. Can also be written as plt.subplot(211)\n",
    "plt.title('GDP Per capita for Asia and Europe')\n",
    "plt.hist(asia_2007.gdpPerCapita, edgecolor='black', range=(0, 50000), bins=20)\n",
    "plt.ylabel(\"Asia\")\n",
    "plt.subplot(2, 1, 2) # 2 rows, 1 columns, select second. Can also be written as plt.subplot(212)\n",
    "plt.hist(europe_2007.gdpPerCapita, edgecolor='black', range=(0, 50000), bins=20)\n",
    "plt.ylabel(\"Europe\")\n",
    "plt.show()"
   ]
  },
  {
   "cell_type": "markdown",
   "id": "b774768e-72e5-4ecb-9473-f216127975de",
   "metadata": {},
   "source": [
    "## Conclusion: \n",
    "We can see there are higher number of countries in Aisa where Per capita GDP is less that 10000 compared to Europe."
   ]
  },
  {
   "cell_type": "code",
   "execution_count": null,
   "id": "9f5423f1-5fde-49e5-9032-80697a0ac2f7",
   "metadata": {},
   "outputs": [],
   "source": []
  }
 ],
 "metadata": {
  "kernelspec": {
   "display_name": "Python 3 (ipykernel)",
   "language": "python",
   "name": "python3"
  },
  "language_info": {
   "codemirror_mode": {
    "name": "ipython",
    "version": 3
   },
   "file_extension": ".py",
   "mimetype": "text/x-python",
   "name": "python",
   "nbconvert_exporter": "python",
   "pygments_lexer": "ipython3",
   "version": "3.9.19"
  }
 },
 "nbformat": 4,
 "nbformat_minor": 5
}
