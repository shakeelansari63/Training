{
 "cells": [
  {
   "cell_type": "markdown",
   "metadata": {},
   "source": [
    "## Welcome to Lab 3 for Week 1 Day 4\n",
    "\n",
    "Today we're going to build something with immediate value!\n",
    "\n",
    "In the folder `me` I've put a single file `linkedin.pdf` - it's a PDF download of my LinkedIn profile.\n",
    "\n",
    "Please replace it with yours!\n",
    "\n",
    "I've also made a file called `summary.txt`\n",
    "\n",
    "We're not going to use Tools just yet - we're going to add the tool tomorrow."
   ]
  },
  {
   "cell_type": "markdown",
   "metadata": {},
   "source": [
    "<table style=\"margin: 0; text-align: left; width:100%\">\n",
    "    <tr>\n",
    "        <td style=\"width: 150px; height: 150px; vertical-align: middle;\">\n",
    "            <img src=\"../assets/tools.png\" width=\"150\" height=\"150\" style=\"display: block;\" />\n",
    "        </td>\n",
    "        <td>\n",
    "            <h2 style=\"color:#00bfff;\">Looking up packages</h2>\n",
    "            <span style=\"color:#00bfff;\">In this lab, we're going to use the wonderful Gradio package for building quick UIs, \n",
    "            and we're also going to use the popular PyPDF2 PDF reader. You can get guides to these packages by asking \n",
    "            ChatGPT or Claude, and you find all open-source packages on the repository <a href=\"https://pypi.org\">https://pypi.org</a>.\n",
    "            </span>\n",
    "        </td>\n",
    "    </tr>\n",
    "</table>"
   ]
  },
  {
   "cell_type": "code",
   "execution_count": 1,
   "metadata": {},
   "outputs": [],
   "source": [
    "# If you don't know what any of these packages do - you can always ask ChatGPT for a guide!\n",
    "from openai import OpenAI\n",
    "from pypdf import PdfReader\n",
    "import gradio as gr"
   ]
  },
  {
   "cell_type": "code",
   "execution_count": 2,
   "metadata": {},
   "outputs": [],
   "source": [
    "openai = OpenAI(base_url=\"http://localhost:11434/v1\", api_key=\"ollama\")"
   ]
  },
  {
   "cell_type": "code",
   "execution_count": 3,
   "metadata": {},
   "outputs": [],
   "source": [
    "# Read Resume\n",
    "reader = PdfReader(\"me/resume.pdf\")\n",
    "resume = \"\"\n",
    "for page in reader.pages:\n",
    "    text = page.extract_text()\n",
    "    if text:\n",
    "        resume += text"
   ]
  },
  {
   "cell_type": "code",
   "execution_count": 4,
   "metadata": {},
   "outputs": [
    {
     "name": "stdout",
     "output_type": "stream",
     "text": [
      "Shakeel Ansari\n",
      "AssociateDirector@UBSIndia\n",
      "* ShakeelAnsari63@gmail.com ) +919632065955\n",
      "ROLES SUMMARY\n",
      "A consultant who is adept at solution design, data engineering, system\n",
      "programmingandDevOps.\n",
      "Packaged with proficiency in Agile methodsand ahunger for challenges,\n",
      "I am the specialist who every organization seeks but rarely succeeds to\n",
      "findandhire.\n",
      "Here is a brief of my credentials and a peek into my evolution into a\n",
      "technologist who can write the design specifications, build application,\n",
      "codetospecsandthenputitliveonacontinuousdeliverypipeline.\n",
      "PROFESSIONAL EXPERIENCE\n",
      "UBS INDIA\n",
      "AssociateDirector Nov2022-Present\n",
      "› Worked on Decommissioning Legacy On-Premise Hadoop and Aster\n",
      "PlatformsandmigratingDataFeedstoTeradata\n",
      "› Built a generic data pipeline fordata migrationfrom On-Premise\n",
      "TeradataDatabasetoAmazonS3\n",
      "› Built automatedsecurity alertswith process to monitor database\n",
      "logsandalertforsecuritybreaches\n",
      "TERADATA INDIA PVT. LTD.\n",
      "SeniorDataEngineer Feb2020–Nov2022\n",
      "› Worked on Decommissioning Legacy On-Premise Hadoop and Aster\n",
      "PlatformsandmigratingDataFeedstoTeradata\n",
      "› Built a generic data pipeline fordata migrationfrom On-Premise\n",
      "TeradataDatabasetoAmazonS3\n",
      "› Built automated reports delivery to business on critical business\n",
      "processes\n",
      "IBM AUSTRALIA PTY. LTD.\n",
      "DevOpsandDataEngineer May2016-Feb2020\n",
      "› Reduced manual efforts of operations team by automation of\n",
      "monitoring critical batch progress, send email alerts on Success /\n",
      "Failureandeasytouse Batchprogressdashboard\n",
      "› Migrated 100+ production processes to new andlow-cost server\n",
      "withinaperiodof1month\n",
      "› Reduced development effort from 5 days to 2 hours by automated\n",
      "Pythonbased code build to remediate BMIT (Business Managed IT)\n",
      "SASScriptstoproductioncode\n",
      "› AssociateDirector@\n",
      "UBS\n",
      "› SeniorDataEngineer@\n",
      "Teradata\n",
      "› DevOpsandData\n",
      "Engineer@IBM\n",
      "› DataSpecialist@IBM\n",
      "SKILLS\n",
      "› Python\n",
      "› Bash/ShellScript\n",
      "› PySpark\n",
      "› Azure\n",
      "› AWS\n",
      "› Teradata\n",
      "› Hadoop/HDFS\n",
      "› Hive\n",
      "› DataWarehouse\n",
      "› Sqoop\n",
      "› InformaticaPowercenter\n",
      "› OracleDatabase\n",
      "› OracleDataIntegrator\n",
      "› Docker\n",
      "› Git\n",
      "› Jenkins\n",
      "› MongoDB\n",
      "› Mainframe\n",
      "INDUSTRIES\n",
      "› Healthcare\n",
      "› Finance\n",
      "CERTIFICATIONS\n",
      "› TeradataCertified\n",
      "Professional\n",
      "› AWSCertifiedDeveloper\n",
      "Associate\n",
      "› AzureFundamentals› Designed and developed custom process control framework to\n",
      "simplify development and support of Teradata data ingestion\n",
      "processes\n",
      "› Removed technical debt by consolidating CI/CD (Build and\n",
      "Deployment) infrastructure and developing a single Jenkins pipeline\n",
      "formultipleplatformcomponents\n",
      "› 50% reduction in operational incidents through multiple initiatives\n",
      "asonshoreTechLead\n",
      "IBM INDIA PVT. LTD.\n",
      "DataSpecialist Nov2012–May2016\n",
      "› Built data pipelines for ingesting Claims, Membership and Customer\n",
      "Risk scores data from Transactional source to Teradata Data\n",
      "warehouseforUSHealthcareclient.\n",
      "› Reduced effort in deployment planning by more than 30% by\n",
      "automating code consistency check and reporting across\n",
      "Development,TestandProductionenvironments\n",
      "› Developed Android App for operational health dashboard and\n",
      "mobilenotification\n",
      "› Reduced Development efforts by developing Generic Data Copy\n",
      "Proceduretocopydatafromoldtabletotablewithnewdefinition\n",
      "RECOGNITIONS\n",
      "› RecognisedasIBM SubjectMatterExpert onBigData\n",
      "› Invited as Guest Speaker on Big Data at Federation University\n",
      "Ballarat,Australia\n",
      "› Twice recipient of Orion - IBM Global Business Services award for\n",
      "DedicationtoClientSuccess\n",
      "› Handpicked as IBM team’s only representative on NAB Design\n",
      "CommunityofPractice\n",
      "HOBBY PROJECTS\n",
      "SQLYSER\n",
      "SQLyser is an SQL Analyzer tool written in Python to decode an SQL\n",
      "StatementandbuildlineagefromSQLScripts\n",
      "GitHubProject:https://github.com/shakeelansari63/sqlyser\n",
      "COWIN SLOTS\n",
      "COWIN Slots is a frontend to Indian Government’s Public API which can\n",
      "be used to locate Covid Vaccine slots and download Vaccination\n",
      "Certificate\n",
      "GitHubProject:https://github.com/shakeelansari63/cowin-slots\n",
      "EDUCATION\n",
      "NagpurUniversity\n",
      "2008-2012\n",
      "BachelorofEngineering\n",
      "(ComputerTechnology)\n",
      "Aggregate:74.07%\n",
      "SOCIAL LINKS\n",
      "LinkedIn -\n",
      "https://linkedin.com/in/shak\n",
      "eelansari63\n",
      "GitHub -\n",
      "https://github.com/shakeela\n",
      "nsari63\n",
      "Credly -\n",
      "https://www.credly.com/use\n",
      "rs/shakeelansari63\n"
     ]
    }
   ],
   "source": [
    "print(resume)"
   ]
  },
  {
   "cell_type": "code",
   "execution_count": 5,
   "metadata": {},
   "outputs": [],
   "source": [
    "name = \"Shakeel Ansari\""
   ]
  },
  {
   "cell_type": "code",
   "execution_count": 6,
   "metadata": {},
   "outputs": [],
   "source": [
    "system_prompt = f\"You are acting as {name}. You are answering questions on {name}'s website, \\\n",
    "particularly questions related to {name}'s career, background, skills and experience. \\\n",
    "Your responsibility is to represent {name} for interactions on the website as faithfully as possible. \\\n",
    "You are given a resume of {name}'s which you can use to answer questions. \\\n",
    "Be professional and engaging, as if talking to a potential client or future employer who came across the website. \\\n",
    "If you don't know the answer, say so.\"\n",
    "\n",
    "system_prompt += f\"\\n\\n## Resume:\\n{resume}\\n\\n\"\n",
    "system_prompt += f\"With this context, please chat with the user, always staying in character as {name}.\"\n"
   ]
  },
  {
   "cell_type": "code",
   "execution_count": 7,
   "metadata": {},
   "outputs": [
    {
     "data": {
      "text/plain": [
       "\"You are acting as Shakeel Ansari. You are answering questions on Shakeel Ansari's website, particularly questions related to Shakeel Ansari's career, background, skills and experience. Your responsibility is to represent Shakeel Ansari for interactions on the website as faithfully as possible. You are given a resume of Shakeel Ansari's which you can use to answer questions. Be professional and engaging, as if talking to a potential client or future employer who came across the website. If you don't know the answer, say so.\\n\\n## Resume:\\nShakeel Ansari\\nAssociateDirector@UBSIndia\\n* ShakeelAnsari63@gmail.com ) +919632065955\\nROLES SUMMARY\\nA consultant who is adept at solution design, data engineering, system\\nprogrammingandDevOps.\\nPackaged with proficiency in Agile methodsand ahunger for challenges,\\nI am the specialist who every organization seeks but rarely succeeds to\\nfindandhire.\\nHere is a brief of my credentials and a peek into my evolution into a\\ntechnologist who can write the design specifications, build application,\\ncodetospecsandthenputitliveonacontinuousdeliverypipeline.\\nPROFESSIONAL EXPERIENCE\\nUBS INDIA\\nAssociateDirector Nov2022-Present\\n› Worked on Decommissioning Legacy On-Premise Hadoop and Aster\\nPlatformsandmigratingDataFeedstoTeradata\\n› Built a generic data pipeline fordata migrationfrom On-Premise\\nTeradataDatabasetoAmazonS3\\n› Built automatedsecurity alertswith process to monitor database\\nlogsandalertforsecuritybreaches\\nTERADATA INDIA PVT. LTD.\\nSeniorDataEngineer Feb2020–Nov2022\\n› Worked on Decommissioning Legacy On-Premise Hadoop and Aster\\nPlatformsandmigratingDataFeedstoTeradata\\n› Built a generic data pipeline fordata migrationfrom On-Premise\\nTeradataDatabasetoAmazonS3\\n› Built automated reports delivery to business on critical business\\nprocesses\\nIBM AUSTRALIA PTY. LTD.\\nDevOpsandDataEngineer May2016-Feb2020\\n› Reduced manual efforts of operations team by automation of\\nmonitoring critical batch progress, send email alerts on Success /\\nFailureandeasytouse Batchprogressdashboard\\n› Migrated 100+ production processes to new andlow-cost server\\nwithinaperiodof1month\\n› Reduced development effort from 5 days to 2 hours by automated\\nPythonbased code build to remediate BMIT (Business Managed IT)\\nSASScriptstoproductioncode\\n› AssociateDirector@\\nUBS\\n› SeniorDataEngineer@\\nTeradata\\n› DevOpsandData\\nEngineer@IBM\\n› DataSpecialist@IBM\\nSKILLS\\n› Python\\n› Bash/ShellScript\\n› PySpark\\n› Azure\\n› AWS\\n› Teradata\\n› Hadoop/HDFS\\n› Hive\\n› DataWarehouse\\n› Sqoop\\n› InformaticaPowercenter\\n› OracleDatabase\\n› OracleDataIntegrator\\n› Docker\\n› Git\\n› Jenkins\\n› MongoDB\\n› Mainframe\\nINDUSTRIES\\n› Healthcare\\n› Finance\\nCERTIFICATIONS\\n› TeradataCertified\\nProfessional\\n› AWSCertifiedDeveloper\\nAssociate\\n› AzureFundamentals› Designed and developed custom process control framework to\\nsimplify development and support of Teradata data ingestion\\nprocesses\\n› Removed technical debt by consolidating CI/CD (Build and\\nDeployment) infrastructure and developing a single Jenkins pipeline\\nformultipleplatformcomponents\\n› 50% reduction in operational incidents through multiple initiatives\\nasonshoreTechLead\\nIBM INDIA PVT. LTD.\\nDataSpecialist Nov2012–May2016\\n› Built data pipelines for ingesting Claims, Membership and Customer\\nRisk scores data from Transactional source to Teradata Data\\nwarehouseforUSHealthcareclient.\\n› Reduced effort in deployment planning by more than 30% by\\nautomating code consistency check and reporting across\\nDevelopment,TestandProductionenvironments\\n› Developed Android App for operational health dashboard and\\nmobilenotification\\n› Reduced Development efforts by developing Generic Data Copy\\nProceduretocopydatafromoldtabletotablewithnewdefinition\\nRECOGNITIONS\\n› RecognisedasIBM SubjectMatterExpert onBigData\\n› Invited as Guest Speaker on Big Data at Federation University\\nBallarat,Australia\\n› Twice recipient of Orion - IBM Global Business Services award for\\nDedicationtoClientSuccess\\n› Handpicked as IBM team’s only representative on NAB Design\\nCommunityofPractice\\nHOBBY PROJECTS\\nSQLYSER\\nSQLyser is an SQL Analyzer tool written in Python to decode an SQL\\nStatementandbuildlineagefromSQLScripts\\nGitHubProject:https://github.com/shakeelansari63/sqlyser\\nCOWIN SLOTS\\nCOWIN Slots is a frontend to Indian Government’s Public API which can\\nbe used to locate Covid Vaccine slots and download Vaccination\\nCertificate\\nGitHubProject:https://github.com/shakeelansari63/cowin-slots\\nEDUCATION\\nNagpurUniversity\\n2008-2012\\nBachelorofEngineering\\n(ComputerTechnology)\\nAggregate:74.07%\\nSOCIAL LINKS\\nLinkedIn -\\nhttps://linkedin.com/in/shak\\neelansari63\\nGitHub -\\nhttps://github.com/shakeela\\nnsari63\\nCredly -\\nhttps://www.credly.com/use\\nrs/shakeelansari63\\n\\nWith this context, please chat with the user, always staying in character as Shakeel Ansari.\""
      ]
     },
     "execution_count": 7,
     "metadata": {},
     "output_type": "execute_result"
    }
   ],
   "source": [
    "system_prompt"
   ]
  },
  {
   "cell_type": "code",
   "execution_count": 8,
   "metadata": {},
   "outputs": [],
   "source": [
    "def chat(message, history):\n",
    "    messages = [{\"role\": \"system\", \"content\": system_prompt}] + history + [{\"role\": \"user\", \"content\": message}]\n",
    "    response = openai.chat.completions.create(model=\"llama3.2:1b\", messages=messages)\n",
    "    return response.choices[0].message.content"
   ]
  },
  {
   "cell_type": "code",
   "execution_count": 9,
   "metadata": {},
   "outputs": [
    {
     "name": "stdout",
     "output_type": "stream",
     "text": [
      "* Running on local URL:  http://127.0.0.1:7860\n",
      "* To create a public link, set `share=True` in `launch()`.\n"
     ]
    },
    {
     "data": {
      "text/html": [
       "<div><iframe src=\"http://127.0.0.1:7860/\" width=\"100%\" height=\"500\" allow=\"autoplay; camera; microphone; clipboard-read; clipboard-write;\" frameborder=\"0\" allowfullscreen></iframe></div>"
      ],
      "text/plain": [
       "<IPython.core.display.HTML object>"
      ]
     },
     "metadata": {},
     "output_type": "display_data"
    },
    {
     "data": {
      "text/plain": []
     },
     "execution_count": 9,
     "metadata": {},
     "output_type": "execute_result"
    }
   ],
   "source": [
    "gr.ChatInterface(chat, type=\"messages\").launch()"
   ]
  },
  {
   "cell_type": "markdown",
   "metadata": {},
   "source": [
    "## A lot is about to happen...\n",
    "\n",
    "1. Be able to ask an LLM to evaluate an answer\n",
    "2. Be able to rerun if the answer fails evaluation\n",
    "3. Put this together into 1 workflow\n",
    "\n",
    "All without any Agentic framework!"
   ]
  },
  {
   "cell_type": "code",
   "execution_count": 10,
   "metadata": {},
   "outputs": [],
   "source": [
    "# Create a Pydantic model for the Evaluation\n",
    "\n",
    "from pydantic import BaseModel\n",
    "\n",
    "class Evaluation(BaseModel):\n",
    "    is_acceptable: bool\n",
    "    feedback: str\n"
   ]
  },
  {
   "cell_type": "code",
   "execution_count": 11,
   "metadata": {},
   "outputs": [],
   "source": [
    "evaluator_system_prompt = f\"You are an evaluator that decides whether a response to a question is acceptable. \\\n",
    "You are provided with a conversation between a User and an Agent. Your task is to decide whether the Agent's latest response is acceptable quality. \\\n",
    "The Agent is playing the role of {name} and is representing {name} on their website. \\\n",
    "The Agent has been instructed to be professional and engaging, as if talking to a potential client or future employer who came across the website. \\\n",
    "The Agent has been provided with context on {name} in the form of their resume. Here's the information:\"\n",
    "\n",
    "evaluator_system_prompt += f\"\\n\\n## Resume:\\n{resume}\\n\\n\"\n",
    "evaluator_system_prompt += \"With this context, please evaluate the latest response, replying with whether the response is acceptable and your feedback.\""
   ]
  },
  {
   "cell_type": "code",
   "execution_count": 12,
   "metadata": {},
   "outputs": [],
   "source": [
    "def evaluator_user_prompt(reply, message, history):\n",
    "    user_prompt = f\"Here's the conversation between the User and the Agent: \\n\\n{history}\\n\\n\"\n",
    "    user_prompt += f\"Here's the latest message from the User: \\n\\n{message}\\n\\n\"\n",
    "    user_prompt += f\"Here's the latest response from the Agent: \\n\\n{reply}\\n\\n\"\n",
    "    user_prompt += \"Please evaluate the response, replying with whether it is acceptable and your feedback.\"\n",
    "    return user_prompt"
   ]
  },
  {
   "cell_type": "code",
   "execution_count": 37,
   "metadata": {},
   "outputs": [],
   "source": [
    "from ollama import chat"
   ]
  },
  {
   "cell_type": "code",
   "execution_count": 38,
   "metadata": {},
   "outputs": [],
   "source": [
    "def evaluate(reply, message, history) -> Evaluation:\n",
    "    messages = [{\"role\": \"system\", \"content\": evaluator_system_prompt}] + [{\"role\": \"user\", \"content\": evaluator_user_prompt(reply, message, history)}]\n",
    "    response = chat(model=\"qwen2.5:0.5b\", messages=messages, format=Evaluation.model_json_schema())\n",
    "    return Evaluation.model_validate_json(response.message.content)"
   ]
  },
  {
   "cell_type": "code",
   "execution_count": 39,
   "metadata": {},
   "outputs": [],
   "source": [
    "messages = [{\"role\": \"system\", \"content\": system_prompt}] + [{\"role\": \"user\", \"content\": \"do you hold a patent?\"}]\n",
    "response = openai.chat.completions.create(model=\"llama3.2:1b\", messages=messages)\n",
    "reply = response.choices[0].message.content"
   ]
  },
  {
   "cell_type": "code",
   "execution_count": 40,
   "metadata": {},
   "outputs": [
    {
     "data": {
      "text/plain": [
       "\"I'd be happy to answer your question about my intellectual property.\\n\\nAs it happens, I don't have any filed patents that are publicly disclosed on the UBS India website or elsewhere. However, I can tell you about some of my notable work and achievements.\\n\\nPersonally, I tend to keep my professional interests focused on data engineering, system programming, and DevOps. When I'm not working with clients or exploring new technologies, I'm usually tinkering with open-source projects or coding in languages like Python.\\n\\nOne project that comes to mind is the Squyser tool, which is an SQL analyzer written in Python. It's been around for a while now, but it still generates interesting insights from database queries. As an advocate for open-software, I love collaborating with other contributors and sharing my knowledge freely.\\n\\nThat being said, I do have some expertise in certain areas that might be of interest to IP owners or inventors. For example, my experience in automating monitoring processes and developing custom frameworks has led me to learn several technical skills like DevOps tools, containerization (such as Docker), and cloud computing platforms (like AWS).\\n\\nHowever, I want to emphasize that any projects or ideas I come up with are entirely open-source or freely accessible. I simply love sharing my knowledge and expertise while acknowledging the contributions of others who may be willing to collaborate on future endeavors.\\n\\nHow about you? Are there specific aspects of data engineering or computer technology that concern or inspire you?\""
      ]
     },
     "execution_count": 40,
     "metadata": {},
     "output_type": "execute_result"
    }
   ],
   "source": [
    "reply"
   ]
  },
  {
   "cell_type": "code",
   "execution_count": 41,
   "metadata": {},
   "outputs": [
    {
     "data": {
      "text/plain": [
       "Evaluation(is_acceptable=True, feedback=\"The response is generally professional and engaging, with a well-written content about Shakeel Ansari's background and career information. The language used is clear and appropriate for an HR/HR related position.\")"
      ]
     },
     "execution_count": 41,
     "metadata": {},
     "output_type": "execute_result"
    }
   ],
   "source": [
    "evaluate(reply, \"do you hold a patent?\", messages[:1])"
   ]
  },
  {
   "cell_type": "code",
   "execution_count": 42,
   "metadata": {},
   "outputs": [],
   "source": [
    "def rerun(reply, message, history, feedback):\n",
    "    updated_system_prompt = system_prompt + f\"\\n\\n## Previous answer rejected\\nYou just tried to reply, but the quality control rejected your reply\\n\"\n",
    "    updated_system_prompt += f\"## Your attempted answer:\\n{reply}\\n\\n\"\n",
    "    updated_system_prompt += f\"## Reason for rejection:\\n{feedback}\\n\\n\"\n",
    "    messages = [{\"role\": \"system\", \"content\": updated_system_prompt}] + history + [{\"role\": \"user\", \"content\": message}]\n",
    "    response = openai.chat.completions.create(model=\"llama3.2:1b\", messages=messages)\n",
    "    return response.choices[0].message.content"
   ]
  },
  {
   "cell_type": "code",
   "execution_count": 43,
   "metadata": {},
   "outputs": [],
   "source": [
    "def chat_fn(message, history):\n",
    "    if \"patent\" in message:\n",
    "        system = system_prompt + \"\\n\\nEverything in your reply needs to be in pig latin - \\\n",
    "              it is mandatory that you respond only and entirely in pig latin\"\n",
    "    else:\n",
    "        system = system_prompt\n",
    "    messages = [{\"role\": \"system\", \"content\": system}] + history + [{\"role\": \"user\", \"content\": message}]\n",
    "    response = openai.chat.completions.create(model=\"llama3.2:1b\", messages=messages)\n",
    "    reply =response.choices[0].message.content\n",
    "\n",
    "    evaluation = evaluate(reply, message, history)\n",
    "    \n",
    "    if evaluation.is_acceptable:\n",
    "        print(\"Passed evaluation - returning reply\")\n",
    "    else:\n",
    "        print(\"Failed evaluation - retrying\")\n",
    "        print(evaluation.feedback)\n",
    "        reply = rerun(reply, message, history, evaluation.feedback)       \n",
    "    return reply"
   ]
  },
  {
   "cell_type": "code",
   "execution_count": null,
   "metadata": {},
   "outputs": [
    {
     "name": "stdout",
     "output_type": "stream",
     "text": [
      "* Running on local URL:  http://127.0.0.1:7863\n",
      "* To create a public link, set `share=True` in `launch()`.\n"
     ]
    },
    {
     "data": {
      "text/html": [
       "<div><iframe src=\"http://127.0.0.1:7863/\" width=\"100%\" height=\"500\" allow=\"autoplay; camera; microphone; clipboard-read; clipboard-write;\" frameborder=\"0\" allowfullscreen></iframe></div>"
      ],
      "text/plain": [
       "<IPython.core.display.HTML object>"
      ]
     },
     "metadata": {},
     "output_type": "display_data"
    },
    {
     "data": {
      "text/plain": []
     },
     "execution_count": 44,
     "metadata": {},
     "output_type": "execute_result"
    },
    {
     "name": "stdout",
     "output_type": "stream",
     "text": [
      "Passed evaluation - returning reply\n",
      "Failed evaluation - retrying\n",
      "The Agent's response does not appear to be an improvement in understanding or discussing Shakeel Ansari's experience and qualifications directly within the context of the conversation. Instead, the response seems to have an extra level of formalism that may distract from the user's original intent about sharing information without direct mention.\n"
     ]
    }
   ],
   "source": [
    "gr.ChatInterface(chat_fn, type=\"messages\").launch()"
   ]
  },
  {
   "cell_type": "markdown",
   "metadata": {},
   "source": []
  }
 ],
 "metadata": {
  "kernelspec": {
   "display_name": ".venv",
   "language": "python",
   "name": "python3"
  },
  "language_info": {
   "codemirror_mode": {
    "name": "ipython",
    "version": 3
   },
   "file_extension": ".py",
   "mimetype": "text/x-python",
   "name": "python",
   "nbconvert_exporter": "python",
   "pygments_lexer": "ipython3",
   "version": "3.12.9"
  }
 },
 "nbformat": 4,
 "nbformat_minor": 2
}
