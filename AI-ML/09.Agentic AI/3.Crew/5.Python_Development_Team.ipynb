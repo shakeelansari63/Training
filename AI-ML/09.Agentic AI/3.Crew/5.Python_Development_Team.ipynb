{
 "cells": [
  {
   "cell_type": "markdown",
   "id": "b7e68d4d",
   "metadata": {},
   "source": [
    "## Install Crew"
   ]
  },
  {
   "cell_type": "code",
   "execution_count": 7,
   "id": "21c1c5ea",
   "metadata": {},
   "outputs": [
    {
     "name": "stdout",
     "output_type": "stream",
     "text": [
      "\n",
      "  \u001b[m\u001b[1m\u001b[32m  █████\u001b[m\u001b[1m\u001b[31m▒██▀███ \u001b[m\u001b[1m\u001b[33m ▓█████ \u001b[m\u001b[1m\u001b[36m▄▄▄  \u001b[m\u001b[1m\u001b[35m     ██ ▄█▀    \u001b[m\u001b[1m\u001b[32m Hostname: Freak-PC \u001b[m\n",
      "  \u001b[m\u001b[1m\u001b[32m▓██   \u001b[m\u001b[1m\u001b[31m▒▓██ ▒ ██\u001b[m\u001b[1m\u001b[33m▒▓█   ▀\u001b[m\u001b[1m\u001b[36m▒████▄   \u001b[m\u001b[1m\u001b[35m  ██▄█▒     \u001b[m\n",
      "  \u001b[m\u001b[1m\u001b[32m▒████ \u001b[m\u001b[1m\u001b[31m░▓██ ░▄█\u001b[m\u001b[1m\u001b[33m ▒▒███  \u001b[m\u001b[1m\u001b[36m▒██  ▀█▄ \u001b[m\u001b[1m\u001b[35m ▓███▄░     \u001b[m\u001b[1m\u001b[31m OS: EndeavourOS \u001b[m\n",
      "  \u001b[m\u001b[1m\u001b[32m░▓█▒  \u001b[m\u001b[1m\u001b[31m░▒██▀▀█▄\u001b[m\u001b[1m\u001b[33m  ▒▓█  ▄\u001b[m\u001b[1m\u001b[36m░██▄▄▄▄██ \u001b[m\u001b[1m\u001b[35m▓██ █▄     \u001b[m\n",
      "  \u001b[m\u001b[1m\u001b[32m░▒█░ \u001b[m\u001b[1m\u001b[31m  ░██▓ ▒██▒\u001b[m\u001b[1m\u001b[33m░▒████\u001b[m\u001b[1m\u001b[36m▒▓█   ▓██\u001b[m\u001b[1m\u001b[35m▒▒██▒ █▄    \u001b[m\u001b[1m\u001b[33m User: Freak \u001b[m\n",
      "  \u001b[m\u001b[1m\u001b[32m▒ ░   \u001b[m\u001b[1m\u001b[31m░ ▒▓ ░▒▓░░\u001b[m\u001b[1m\u001b[33m░ ▒░ ░\u001b[m\u001b[1m\u001b[36m▒▒   ▓▒█░\u001b[m\u001b[1m\u001b[35m▒ ▒▒ ▓▒     \u001b[m\n",
      "  \u001b[m\u001b[1m\u001b[32m ░       \u001b[m\u001b[1m\u001b[31m░▒ ░ ▒░ \u001b[m\u001b[1m\u001b[33m░ ░  \u001b[m\u001b[1m\u001b[36m░ ▒   ▒▒ \u001b[m\u001b[1m\u001b[35m░░ ░▒ ▒░    \u001b[m\u001b[1m\u001b[36m Date: 10 June 2025 \u001b[m\n",
      "  \u001b[m\u001b[1m\u001b[32m ░ ░    \u001b[m\u001b[1m\u001b[31m ░░   ░    \u001b[m\u001b[1m\u001b[33m░    \u001b[m\u001b[1m\u001b[36m░   ▒   \u001b[m\u001b[1m\u001b[35m░ ░░ ░     \u001b[m\n",
      "  \u001b[m\u001b[1m\u001b[32m        \u001b[m\u001b[1m\u001b[31m  ░        \u001b[m\u001b[1m\u001b[33m░  \u001b[m\u001b[1m\u001b[36m░     ░  \u001b[m\u001b[1m\u001b[35m░░  ░       \u001b[m\n",
      "\n"
     ]
    },
    {
     "name": "stderr",
     "output_type": "stream",
     "text": [
      "/home/freak/Freak/Dev/Uv/Python/cpython-3.12.9-linux-x86_64-gnu/lib/python3.12/pty.py:95: DeprecationWarning: This process (pid=517388) is multi-threaded, use of forkpty() may lead to deadlocks in the child.\n",
      "  pid, fd = os.forkpty()\n"
     ]
    },
    {
     "name": "stdout",
     "output_type": "stream",
     "text": [
      "\u001b[2mResolved \u001b[1m305 packages\u001b[0m \u001b[2min 0.75ms\u001b[0m\u001b[0m\n",
      "\u001b[2mAudited \u001b[1m293 packages\u001b[0m \u001b[2min 0.14ms\u001b[0m\u001b[0m\n"
     ]
    }
   ],
   "source": [
    "!uv add crewai 'crewai-tools>0.40.0' 'langchain-openai>=0.2.1' embedchain"
   ]
  },
  {
   "cell_type": "markdown",
   "id": "58ccca03",
   "metadata": {},
   "source": [
    "### Import Required"
   ]
  },
  {
   "cell_type": "code",
   "execution_count": 8,
   "id": "409341bd",
   "metadata": {},
   "outputs": [],
   "source": [
    "from crewai import Agent, Crew, Process, Task, LLM"
   ]
  },
  {
   "cell_type": "markdown",
   "id": "43da02c1",
   "metadata": {},
   "source": [
    "### Create Agents"
   ]
  },
  {
   "cell_type": "code",
   "execution_count": 9,
   "id": "1363e0e8",
   "metadata": {},
   "outputs": [],
   "source": [
    "coder = Agent(\n",
    "        role=\"Python Developer\",\n",
    "        goal=\"\"\"You write python code to achieve this assignment: {assignment}\n",
    "            First you plan how the code will work, then you write the code, then you run it and check the output.\n",
    "            You will always run the generated code to find the output. Do you gues the output of code.\"\"\",\n",
    "        backstory=\"\"\"You're a seasoned python developer with a knack for writing clean, efficient code.\"\"\",\n",
    "        verbose=True,\n",
    "        llm=LLM(model=\"ollama/qwen3:1.7b\", base_url=\"http://localhost:11434\"),\n",
    "        allow_code_execution=True,\n",
    "        code_execution_mode=\"safe\",\n",
    "        max_execution_time=300,\n",
    "        max_retry_limit=5,\n",
    "    )"
   ]
  },
  {
   "cell_type": "markdown",
   "id": "84c8ff15",
   "metadata": {},
   "source": [
    "### Create Task"
   ]
  },
  {
   "cell_type": "code",
   "execution_count": 10,
   "id": "174309ae",
   "metadata": {},
   "outputs": [],
   "source": [
    "coding_task = Task(\n",
    "        description=\"\"\"Write python code to achieve this: {assignment}\"\"\",\n",
    "        expected_output=\"A text file that includes the code itself, along with the output of the code.\",\n",
    "        agent=coder,\n",
    "        output_file=\"output/code_and_output.txt\"\n",
    "    )\n"
   ]
  },
  {
   "cell_type": "markdown",
   "id": "16694d76",
   "metadata": {},
   "source": [
    "### Create Crew "
   ]
  },
  {
   "cell_type": "code",
   "execution_count": 11,
   "id": "265a7c15",
   "metadata": {},
   "outputs": [],
   "source": [
    "crew =  Crew(\n",
    "        agents=[coder],\n",
    "        tasks=[coding_task],\n",
    "        process=Process.sequential,\n",
    "        verbose=True,\n",
    "    )"
   ]
  },
  {
   "cell_type": "markdown",
   "id": "bc01784f",
   "metadata": {},
   "source": [
    "### Run Crew"
   ]
  },
  {
   "cell_type": "code",
   "execution_count": 12,
   "id": "8b95d6ac",
   "metadata": {},
   "outputs": [
    {
     "data": {
      "text/html": [
       "<pre style=\"white-space:pre;overflow-x:auto;line-height:normal;font-family:Menlo,'DejaVu Sans Mono',consolas,'Courier New',monospace\"><span style=\"color: #008080; text-decoration-color: #008080\">╭──────────────────────────────────────────── Crew Execution Started ─────────────────────────────────────────────╮</span>\n",
       "<span style=\"color: #008080; text-decoration-color: #008080\">│</span>                                                                                                                 <span style=\"color: #008080; text-decoration-color: #008080\">│</span>\n",
       "<span style=\"color: #008080; text-decoration-color: #008080\">│</span>  <span style=\"color: #008080; text-decoration-color: #008080; font-weight: bold\">Crew Execution Started</span>                                                                                         <span style=\"color: #008080; text-decoration-color: #008080\">│</span>\n",
       "<span style=\"color: #008080; text-decoration-color: #008080\">│</span>  <span style=\"color: #c0c0c0; text-decoration-color: #c0c0c0\">Name: </span><span style=\"color: #008080; text-decoration-color: #008080\">crew</span>                                                                                                     <span style=\"color: #008080; text-decoration-color: #008080\">│</span>\n",
       "<span style=\"color: #008080; text-decoration-color: #008080\">│</span>  <span style=\"color: #c0c0c0; text-decoration-color: #c0c0c0\">ID: </span><span style=\"color: #008080; text-decoration-color: #008080\">f04d7207-8bf5-49b6-9fa1-b2efc133d8cc</span>                                                                       <span style=\"color: #008080; text-decoration-color: #008080\">│</span>\n",
       "<span style=\"color: #008080; text-decoration-color: #008080\">│</span>                                                                                                                 <span style=\"color: #008080; text-decoration-color: #008080\">│</span>\n",
       "<span style=\"color: #008080; text-decoration-color: #008080\">│</span>                                                                                                                 <span style=\"color: #008080; text-decoration-color: #008080\">│</span>\n",
       "<span style=\"color: #008080; text-decoration-color: #008080\">╰─────────────────────────────────────────────────────────────────────────────────────────────────────────────────╯</span>\n",
       "</pre>\n"
      ],
      "text/plain": [
       "\u001b[36m╭─\u001b[0m\u001b[36m───────────────────────────────────────────\u001b[0m\u001b[36m Crew Execution Started \u001b[0m\u001b[36m────────────────────────────────────────────\u001b[0m\u001b[36m─╮\u001b[0m\n",
       "\u001b[36m│\u001b[0m                                                                                                                 \u001b[36m│\u001b[0m\n",
       "\u001b[36m│\u001b[0m  \u001b[1;36mCrew Execution Started\u001b[0m                                                                                         \u001b[36m│\u001b[0m\n",
       "\u001b[36m│\u001b[0m  \u001b[37mName: \u001b[0m\u001b[36mcrew\u001b[0m                                                                                                     \u001b[36m│\u001b[0m\n",
       "\u001b[36m│\u001b[0m  \u001b[37mID: \u001b[0m\u001b[36mf04d7207-8bf5-49b6-9fa1-b2efc133d8cc\u001b[0m                                                                       \u001b[36m│\u001b[0m\n",
       "\u001b[36m│\u001b[0m                                                                                                                 \u001b[36m│\u001b[0m\n",
       "\u001b[36m│\u001b[0m                                                                                                                 \u001b[36m│\u001b[0m\n",
       "\u001b[36m╰─────────────────────────────────────────────────────────────────────────────────────────────────────────────────╯\u001b[0m\n"
      ]
     },
     "metadata": {},
     "output_type": "display_data"
    },
    {
     "data": {
      "text/html": [
       "<pre style=\"white-space:pre;overflow-x:auto;line-height:normal;font-family:Menlo,'DejaVu Sans Mono',consolas,'Courier New',monospace\">\n",
       "</pre>\n"
      ],
      "text/plain": [
       "\n"
      ]
     },
     "metadata": {},
     "output_type": "display_data"
    },
    {
     "data": {
      "text/html": [
       "<pre style=\"white-space:pre;overflow-x:auto;line-height:normal;font-family:Menlo,'DejaVu Sans Mono',consolas,'Courier New',monospace\"><span style=\"color: #008080; text-decoration-color: #008080; font-weight: bold\">🚀 Crew: crew</span>\n",
       "└── <span style=\"color: #808000; text-decoration-color: #808000; font-weight: bold\">📋 Task: b42f2dbe-ef41-4d2a-83f4-a8fb6468ca0b</span>\n",
       "    <span style=\"color: #c0c0c0; text-decoration-color: #c0c0c0\">   Status: </span><span style=\"color: #bfbf7f; text-decoration-color: #bfbf7f\">Executing Task...</span>\n",
       "</pre>\n"
      ],
      "text/plain": [
       "\u001b[1;36m🚀 Crew: \u001b[0m\u001b[1;36mcrew\u001b[0m\n",
       "└── \u001b[1;33m📋 Task: b42f2dbe-ef41-4d2a-83f4-a8fb6468ca0b\u001b[0m\n",
       "    \u001b[37m   Status: \u001b[0m\u001b[2;33mExecuting Task...\u001b[0m\n"
      ]
     },
     "metadata": {},
     "output_type": "display_data"
    },
    {
     "data": {
      "text/html": [
       "<pre style=\"white-space:pre;overflow-x:auto;line-height:normal;font-family:Menlo,'DejaVu Sans Mono',consolas,'Courier New',monospace\">\n",
       "</pre>\n"
      ],
      "text/plain": [
       "\n"
      ]
     },
     "metadata": {},
     "output_type": "display_data"
    },
    {
     "data": {
      "text/html": [
       "<pre style=\"white-space:pre;overflow-x:auto;line-height:normal;font-family:Menlo,'DejaVu Sans Mono',consolas,'Courier New',monospace\"><span style=\"color: #008080; text-decoration-color: #008080; font-weight: bold\">🚀 Crew: crew</span>\n",
       "└── <span style=\"color: #808000; text-decoration-color: #808000; font-weight: bold\">📋 Task: b42f2dbe-ef41-4d2a-83f4-a8fb6468ca0b</span>\n",
       "    <span style=\"color: #c0c0c0; text-decoration-color: #c0c0c0\">   Status: </span><span style=\"color: #bfbf7f; text-decoration-color: #bfbf7f\">Executing Task...</span>\n",
       "    └── <span style=\"color: #008000; text-decoration-color: #008000; font-weight: bold\">🤖 Agent: </span><span style=\"color: #008000; text-decoration-color: #008000\">Python Developer</span>\n",
       "        <span style=\"color: #c0c0c0; text-decoration-color: #c0c0c0\">    Status: </span><span style=\"color: #008000; text-decoration-color: #008000; font-weight: bold\">In Progress</span>\n",
       "</pre>\n"
      ],
      "text/plain": [
       "\u001b[1;36m🚀 Crew: \u001b[0m\u001b[1;36mcrew\u001b[0m\n",
       "└── \u001b[1;33m📋 Task: b42f2dbe-ef41-4d2a-83f4-a8fb6468ca0b\u001b[0m\n",
       "    \u001b[37m   Status: \u001b[0m\u001b[2;33mExecuting Task...\u001b[0m\n",
       "    └── \u001b[1;32m🤖 Agent: \u001b[0m\u001b[32mPython Developer\u001b[0m\n",
       "        \u001b[37m    Status: \u001b[0m\u001b[1;32mIn Progress\u001b[0m\n"
      ]
     },
     "metadata": {},
     "output_type": "display_data"
    },
    {
     "data": {
      "text/html": [
       "<pre style=\"white-space:pre;overflow-x:auto;line-height:normal;font-family:Menlo,'DejaVu Sans Mono',consolas,'Courier New',monospace\">\n",
       "</pre>\n"
      ],
      "text/plain": [
       "\n"
      ]
     },
     "metadata": {},
     "output_type": "display_data"
    },
    {
     "name": "stdout",
     "output_type": "stream",
     "text": [
      "\u001b[1m\u001b[95m# Agent:\u001b[00m \u001b[1m\u001b[92mPython Developer\u001b[00m\n",
      "\u001b[95m## Task:\u001b[00m \u001b[92mWrite python code to achieve this: Write a python program to calculate the value of derivative d/dx((x + 3)^2) \n",
      "        and evaluate the result at x = 2\u001b[00m\n"
     ]
    },
    {
     "data": {
      "text/html": [
       "<pre style=\"white-space:pre;overflow-x:auto;line-height:normal;font-family:Menlo,'DejaVu Sans Mono',consolas,'Courier New',monospace\"><span style=\"color: #008000; text-decoration-color: #008000; font-weight: bold\">🤖 Agent: </span><span style=\"color: #008000; text-decoration-color: #008000\">Python Developer</span>\n",
       "<span style=\"color: #c0c0c0; text-decoration-color: #c0c0c0\">    Status: </span><span style=\"color: #008000; text-decoration-color: #008000; font-weight: bold\">In Progress</span>\n",
       "</pre>\n"
      ],
      "text/plain": [
       "\u001b[1;32m🤖 Agent: \u001b[0m\u001b[32mPython Developer\u001b[0m\n",
       "\u001b[37m    Status: \u001b[0m\u001b[1;32mIn Progress\u001b[0m\n"
      ]
     },
     "metadata": {},
     "output_type": "display_data"
    },
    {
     "data": {
      "text/html": [
       "<pre style=\"white-space:pre;overflow-x:auto;line-height:normal;font-family:Menlo,'DejaVu Sans Mono',consolas,'Courier New',monospace\">\n",
       "</pre>\n"
      ],
      "text/plain": [
       "\n"
      ]
     },
     "metadata": {},
     "output_type": "display_data"
    },
    {
     "name": "stdout",
     "output_type": "stream",
     "text": [
      "\u001b[1m\u001b[94m Running code in Docker environment\u001b[00m\n",
      "\n",
      "\n",
      "\u001b[1m\u001b[95m# Agent:\u001b[00m \u001b[1m\u001b[92mPython Developer\u001b[00m\n",
      "\u001b[95m## Thought:\u001b[00m \u001b[92m<think>\n",
      "Okay, I need to write a Python program to calculate the derivative of (x + 3)^2 with respect to x and evaluate it at x = 2. Let me think about how to approach this.\n",
      "First, the derivative of (x + 3)^2. Using the chain rule, the derivative should be 2(x + 3)*1, right? Because the outer function is squared, so derivative is 2*(inside)*derivative of inside. The inside is x + 3, whose derivative is 1. So the derivative is 2(x + 3).\n",
      "Now, evaluating at x = 2: substitute 2 into the derivative. So 2*(2 + 3) = 2*5 = 10. So the answer should be 10.\n",
      "But how to code this in Python. Since the user wants the code to be written, I can use the sympy library for symbolic mathematics. Alternatively, maybe using a numerical approach with a small h. But since the derivative is straightforward, using sympy is easier.\n",
      "So the code would import sympy, define x as a symbol, define the function f = (x + 3)**2, then compute the derivative f'. Then substitute x=2.\n",
      "Wait, but the user might not have installed sympy. But since the tools available include Code Interpreter, which can run code, I can assume that the code can be written with sympy.\n",
      "So the code steps:\n",
      "1. Import sympy and define x as a symbol.\n",
      "2. Define the function f = (x + 3)**2.\n",
      "3. Compute the derivative f'.\n",
      "4. Substitute x=2 into the derivative.\n",
      "5. Print the result.\n",
      "So the code would be:\n",
      "import sympy as sp\n",
      "x = sp.symbols('x')\n",
      "f = (x + 3)**2\n",
      "df = sp.diff(f, x)\n",
      "result = df.subs(x, 2)\n",
      "print(result)\n",
      "That should output 10.\n",
      "But I need to make sure that the code is correct. Let me check. The derivative of (x + 3)^2 is 2(x + 3), which at x=2 is 2*(5) = 10. Yes.\n",
      "So the code should work. Then run it using the Code Interpreter tool. The output should be 10.\n",
      "</think>\n",
      "Thought: I will write the Python code to calculate the derivative of (x + 3)^2 and evaluate it at x=2 using sympy.\u001b[00m\n",
      "\u001b[95m## Using tool:\u001b[00m \u001b[92mCode Interpreter\u001b[00m\n",
      "\u001b[95m## Tool Input:\u001b[00m \u001b[92m\n",
      "\"{\\\"code\\\": \\\"import sympy as sp\\\\nx = sp.symbols('x')\\\\nf = (x + 3)**2\\\\ndf = sp.diff(f, x)\\\\nresult = df.subs(x, 2)\\\\nprint(result)\\\", \\\"libraries_used\\\": [\\\"sympy\\\"]}\"\u001b[00m\n",
      "\u001b[95m## Tool Output:\u001b[00m \u001b[92m\n",
      "10\n",
      "\u001b[00m\n"
     ]
    },
    {
     "data": {
      "text/html": [
       "<pre style=\"white-space:pre;overflow-x:auto;line-height:normal;font-family:Menlo,'DejaVu Sans Mono',consolas,'Courier New',monospace\"><span style=\"color: #008000; text-decoration-color: #008000; font-weight: bold\">🤖 Agent: </span><span style=\"color: #008000; text-decoration-color: #008000\">Python Developer</span>\n",
       "<span style=\"color: #c0c0c0; text-decoration-color: #c0c0c0\">    Status: </span><span style=\"color: #008000; text-decoration-color: #008000; font-weight: bold\">In Progress</span>\n",
       "└── <span style=\"color: #000080; text-decoration-color: #000080; font-weight: bold\">🧠 </span><span style=\"color: #000080; text-decoration-color: #000080\">Thinking...</span>\n",
       "</pre>\n"
      ],
      "text/plain": [
       "\u001b[1;32m🤖 Agent: \u001b[0m\u001b[32mPython Developer\u001b[0m\n",
       "\u001b[37m    Status: \u001b[0m\u001b[1;32mIn Progress\u001b[0m\n",
       "└── \u001b[1;34m🧠 \u001b[0m\u001b[34mThinking...\u001b[0m\n"
      ]
     },
     "metadata": {},
     "output_type": "display_data"
    },
    {
     "data": {
      "text/html": [
       "<pre style=\"white-space:pre;overflow-x:auto;line-height:normal;font-family:Menlo,'DejaVu Sans Mono',consolas,'Courier New',monospace\">\n",
       "</pre>\n"
      ],
      "text/plain": [
       "\n"
      ]
     },
     "metadata": {},
     "output_type": "display_data"
    },
    {
     "data": {
      "text/html": [
       "<pre style=\"white-space:pre;overflow-x:auto;line-height:normal;font-family:Menlo,'DejaVu Sans Mono',consolas,'Courier New',monospace\"><span style=\"color: #008000; text-decoration-color: #008000; font-weight: bold\">🤖 Agent: </span><span style=\"color: #008000; text-decoration-color: #008000\">Python Developer</span>\n",
       "<span style=\"color: #c0c0c0; text-decoration-color: #c0c0c0\">    Status: </span><span style=\"color: #008000; text-decoration-color: #008000; font-weight: bold\">In Progress</span>\n",
       "</pre>\n"
      ],
      "text/plain": [
       "\u001b[1;32m🤖 Agent: \u001b[0m\u001b[32mPython Developer\u001b[0m\n",
       "\u001b[37m    Status: \u001b[0m\u001b[1;32mIn Progress\u001b[0m\n"
      ]
     },
     "metadata": {},
     "output_type": "display_data"
    },
    {
     "data": {
      "text/html": [
       "<pre style=\"white-space:pre;overflow-x:auto;line-height:normal;font-family:Menlo,'DejaVu Sans Mono',consolas,'Courier New',monospace\">\n",
       "</pre>\n"
      ],
      "text/plain": [
       "\n"
      ]
     },
     "metadata": {},
     "output_type": "display_data"
    },
    {
     "name": "stdout",
     "output_type": "stream",
     "text": [
      "\n",
      "\n",
      "\u001b[1m\u001b[95m# Agent:\u001b[00m \u001b[1m\u001b[92mPython Developer\u001b[00m\n",
      "\u001b[95m## Final Answer:\u001b[00m \u001b[92m\n",
      "10\u001b[00m\n",
      "\n",
      "\n"
     ]
    },
    {
     "data": {
      "text/html": [
       "<pre style=\"white-space:pre;overflow-x:auto;line-height:normal;font-family:Menlo,'DejaVu Sans Mono',consolas,'Courier New',monospace\"><span style=\"color: #008080; text-decoration-color: #008080; font-weight: bold\">🚀 Crew: crew</span>\n",
       "└── <span style=\"color: #808000; text-decoration-color: #808000; font-weight: bold\">📋 Task: b42f2dbe-ef41-4d2a-83f4-a8fb6468ca0b</span>\n",
       "    <span style=\"color: #c0c0c0; text-decoration-color: #c0c0c0\">   Status: </span><span style=\"color: #bfbf7f; text-decoration-color: #bfbf7f\">Executing Task...</span>\n",
       "    └── <span style=\"color: #008000; text-decoration-color: #008000; font-weight: bold\">🤖 Agent: </span><span style=\"color: #008000; text-decoration-color: #008000\">Python Developer</span>\n",
       "        <span style=\"color: #c0c0c0; text-decoration-color: #c0c0c0\">    Status: </span><span style=\"color: #008000; text-decoration-color: #008000; font-weight: bold\">✅ Completed</span>\n",
       "</pre>\n"
      ],
      "text/plain": [
       "\u001b[1;36m🚀 Crew: \u001b[0m\u001b[1;36mcrew\u001b[0m\n",
       "└── \u001b[1;33m📋 Task: b42f2dbe-ef41-4d2a-83f4-a8fb6468ca0b\u001b[0m\n",
       "    \u001b[37m   Status: \u001b[0m\u001b[2;33mExecuting Task...\u001b[0m\n",
       "    └── \u001b[1;32m🤖 Agent: \u001b[0m\u001b[32mPython Developer\u001b[0m\n",
       "        \u001b[37m    Status: \u001b[0m\u001b[1;32m✅ Completed\u001b[0m\n"
      ]
     },
     "metadata": {},
     "output_type": "display_data"
    },
    {
     "data": {
      "text/html": [
       "<pre style=\"white-space:pre;overflow-x:auto;line-height:normal;font-family:Menlo,'DejaVu Sans Mono',consolas,'Courier New',monospace\">\n",
       "</pre>\n"
      ],
      "text/plain": [
       "\n"
      ]
     },
     "metadata": {},
     "output_type": "display_data"
    },
    {
     "data": {
      "text/html": [
       "<pre style=\"white-space:pre;overflow-x:auto;line-height:normal;font-family:Menlo,'DejaVu Sans Mono',consolas,'Courier New',monospace\"><span style=\"color: #008080; text-decoration-color: #008080; font-weight: bold\">🚀 Crew: crew</span>\n",
       "└── <span style=\"color: #008000; text-decoration-color: #008000; font-weight: bold\">📋 Task: b42f2dbe-ef41-4d2a-83f4-a8fb6468ca0b</span>\n",
       "    <span style=\"color: #c0c0c0; text-decoration-color: #c0c0c0\">   Assigned to: </span><span style=\"color: #008000; text-decoration-color: #008000\">Python Developer</span>\n",
       "    <span style=\"color: #c0c0c0; text-decoration-color: #c0c0c0\">   Status: </span><span style=\"color: #008000; text-decoration-color: #008000; font-weight: bold\">✅ Completed</span>\n",
       "    └── <span style=\"color: #008000; text-decoration-color: #008000; font-weight: bold\">🤖 Agent: </span><span style=\"color: #008000; text-decoration-color: #008000\">Python Developer</span>\n",
       "        <span style=\"color: #c0c0c0; text-decoration-color: #c0c0c0\">    Status: </span><span style=\"color: #008000; text-decoration-color: #008000; font-weight: bold\">✅ Completed</span>\n",
       "</pre>\n"
      ],
      "text/plain": [
       "\u001b[1;36m🚀 Crew: \u001b[0m\u001b[1;36mcrew\u001b[0m\n",
       "└── \u001b[1;32m📋 Task: b42f2dbe-ef41-4d2a-83f4-a8fb6468ca0b\u001b[0m\n",
       "    \u001b[37m   Assigned to: \u001b[0m\u001b[32mPython Developer\u001b[0m\n",
       "    \u001b[37m   Status: \u001b[0m\u001b[1;32m✅ Completed\u001b[0m\n",
       "    └── \u001b[1;32m🤖 Agent: \u001b[0m\u001b[32mPython Developer\u001b[0m\n",
       "        \u001b[37m    Status: \u001b[0m\u001b[1;32m✅ Completed\u001b[0m\n"
      ]
     },
     "metadata": {},
     "output_type": "display_data"
    },
    {
     "data": {
      "text/html": [
       "<pre style=\"white-space:pre;overflow-x:auto;line-height:normal;font-family:Menlo,'DejaVu Sans Mono',consolas,'Courier New',monospace\"><span style=\"color: #008000; text-decoration-color: #008000\">╭──────────────────────────────────────────────── Task Completion ────────────────────────────────────────────────╮</span>\n",
       "<span style=\"color: #008000; text-decoration-color: #008000\">│</span>                                                                                                                 <span style=\"color: #008000; text-decoration-color: #008000\">│</span>\n",
       "<span style=\"color: #008000; text-decoration-color: #008000\">│</span>  <span style=\"color: #008000; text-decoration-color: #008000; font-weight: bold\">Task Completed</span>                                                                                                 <span style=\"color: #008000; text-decoration-color: #008000\">│</span>\n",
       "<span style=\"color: #008000; text-decoration-color: #008000\">│</span>  <span style=\"color: #c0c0c0; text-decoration-color: #c0c0c0\">Name: </span><span style=\"color: #008000; text-decoration-color: #008000\">b42f2dbe-ef41-4d2a-83f4-a8fb6468ca0b</span>                                                                     <span style=\"color: #008000; text-decoration-color: #008000\">│</span>\n",
       "<span style=\"color: #008000; text-decoration-color: #008000\">│</span>  <span style=\"color: #c0c0c0; text-decoration-color: #c0c0c0\">Agent: </span><span style=\"color: #008000; text-decoration-color: #008000\">Python Developer</span>                                                                                        <span style=\"color: #008000; text-decoration-color: #008000\">│</span>\n",
       "<span style=\"color: #008000; text-decoration-color: #008000\">│</span>                                                                                                                 <span style=\"color: #008000; text-decoration-color: #008000\">│</span>\n",
       "<span style=\"color: #008000; text-decoration-color: #008000\">│</span>                                                                                                                 <span style=\"color: #008000; text-decoration-color: #008000\">│</span>\n",
       "<span style=\"color: #008000; text-decoration-color: #008000\">╰─────────────────────────────────────────────────────────────────────────────────────────────────────────────────╯</span>\n",
       "</pre>\n"
      ],
      "text/plain": [
       "\u001b[32m╭─\u001b[0m\u001b[32m───────────────────────────────────────────────\u001b[0m\u001b[32m Task Completion \u001b[0m\u001b[32m───────────────────────────────────────────────\u001b[0m\u001b[32m─╮\u001b[0m\n",
       "\u001b[32m│\u001b[0m                                                                                                                 \u001b[32m│\u001b[0m\n",
       "\u001b[32m│\u001b[0m  \u001b[1;32mTask Completed\u001b[0m                                                                                                 \u001b[32m│\u001b[0m\n",
       "\u001b[32m│\u001b[0m  \u001b[37mName: \u001b[0m\u001b[32mb42f2dbe-ef41-4d2a-83f4-a8fb6468ca0b\u001b[0m                                                                     \u001b[32m│\u001b[0m\n",
       "\u001b[32m│\u001b[0m  \u001b[37mAgent: \u001b[0m\u001b[32mPython Developer\u001b[0m                                                                                        \u001b[32m│\u001b[0m\n",
       "\u001b[32m│\u001b[0m                                                                                                                 \u001b[32m│\u001b[0m\n",
       "\u001b[32m│\u001b[0m                                                                                                                 \u001b[32m│\u001b[0m\n",
       "\u001b[32m╰─────────────────────────────────────────────────────────────────────────────────────────────────────────────────╯\u001b[0m\n"
      ]
     },
     "metadata": {},
     "output_type": "display_data"
    },
    {
     "data": {
      "text/html": [
       "<pre style=\"white-space:pre;overflow-x:auto;line-height:normal;font-family:Menlo,'DejaVu Sans Mono',consolas,'Courier New',monospace\">\n",
       "</pre>\n"
      ],
      "text/plain": [
       "\n"
      ]
     },
     "metadata": {},
     "output_type": "display_data"
    },
    {
     "data": {
      "text/html": [
       "<pre style=\"white-space:pre;overflow-x:auto;line-height:normal;font-family:Menlo,'DejaVu Sans Mono',consolas,'Courier New',monospace\"><span style=\"color: #008000; text-decoration-color: #008000\">╭──────────────────────────────────────────────── Crew Completion ────────────────────────────────────────────────╮</span>\n",
       "<span style=\"color: #008000; text-decoration-color: #008000\">│</span>                                                                                                                 <span style=\"color: #008000; text-decoration-color: #008000\">│</span>\n",
       "<span style=\"color: #008000; text-decoration-color: #008000\">│</span>  <span style=\"color: #008000; text-decoration-color: #008000; font-weight: bold\">Crew Execution Completed</span>                                                                                       <span style=\"color: #008000; text-decoration-color: #008000\">│</span>\n",
       "<span style=\"color: #008000; text-decoration-color: #008000\">│</span>  <span style=\"color: #c0c0c0; text-decoration-color: #c0c0c0\">Name: </span><span style=\"color: #008000; text-decoration-color: #008000\">crew</span>                                                                                                     <span style=\"color: #008000; text-decoration-color: #008000\">│</span>\n",
       "<span style=\"color: #008000; text-decoration-color: #008000\">│</span>  <span style=\"color: #c0c0c0; text-decoration-color: #c0c0c0\">ID: </span><span style=\"color: #008000; text-decoration-color: #008000\">f04d7207-8bf5-49b6-9fa1-b2efc133d8cc</span>                                                                       <span style=\"color: #008000; text-decoration-color: #008000\">│</span>\n",
       "<span style=\"color: #008000; text-decoration-color: #008000\">│</span>                                                                                                                 <span style=\"color: #008000; text-decoration-color: #008000\">│</span>\n",
       "<span style=\"color: #008000; text-decoration-color: #008000\">│</span>                                                                                                                 <span style=\"color: #008000; text-decoration-color: #008000\">│</span>\n",
       "<span style=\"color: #008000; text-decoration-color: #008000\">╰─────────────────────────────────────────────────────────────────────────────────────────────────────────────────╯</span>\n",
       "</pre>\n"
      ],
      "text/plain": [
       "\u001b[32m╭─\u001b[0m\u001b[32m───────────────────────────────────────────────\u001b[0m\u001b[32m Crew Completion \u001b[0m\u001b[32m───────────────────────────────────────────────\u001b[0m\u001b[32m─╮\u001b[0m\n",
       "\u001b[32m│\u001b[0m                                                                                                                 \u001b[32m│\u001b[0m\n",
       "\u001b[32m│\u001b[0m  \u001b[1;32mCrew Execution Completed\u001b[0m                                                                                       \u001b[32m│\u001b[0m\n",
       "\u001b[32m│\u001b[0m  \u001b[37mName: \u001b[0m\u001b[32mcrew\u001b[0m                                                                                                     \u001b[32m│\u001b[0m\n",
       "\u001b[32m│\u001b[0m  \u001b[37mID: \u001b[0m\u001b[32mf04d7207-8bf5-49b6-9fa1-b2efc133d8cc\u001b[0m                                                                       \u001b[32m│\u001b[0m\n",
       "\u001b[32m│\u001b[0m                                                                                                                 \u001b[32m│\u001b[0m\n",
       "\u001b[32m│\u001b[0m                                                                                                                 \u001b[32m│\u001b[0m\n",
       "\u001b[32m╰─────────────────────────────────────────────────────────────────────────────────────────────────────────────────╯\u001b[0m\n"
      ]
     },
     "metadata": {},
     "output_type": "display_data"
    },
    {
     "data": {
      "text/html": [
       "<pre style=\"white-space:pre;overflow-x:auto;line-height:normal;font-family:Menlo,'DejaVu Sans Mono',consolas,'Courier New',monospace\">\n",
       "</pre>\n"
      ],
      "text/plain": [
       "\n"
      ]
     },
     "metadata": {},
     "output_type": "display_data"
    },
    {
     "data": {
      "text/markdown": [
       "10"
      ],
      "text/plain": [
       "<IPython.core.display.Markdown object>"
      ]
     },
     "execution_count": 12,
     "metadata": {},
     "output_type": "execute_result"
    }
   ],
   "source": [
    "from IPython.display import Markdown\n",
    "inputs = {\n",
    "    \"assignment\": \"\"\"Write a python program to calculate the value of derivative d/dx((x + 3)^2) \n",
    "        and evaluate the result at x = 2\"\"\",\n",
    "}\n",
    "\n",
    "result = crew.kickoff(inputs=inputs)\n",
    "Markdown(result.raw)\n"
   ]
  }
 ],
 "metadata": {
  "kernelspec": {
   "display_name": ".venv",
   "language": "python",
   "name": "python3"
  },
  "language_info": {
   "codemirror_mode": {
    "name": "ipython",
    "version": 3
   },
   "file_extension": ".py",
   "mimetype": "text/x-python",
   "name": "python",
   "nbconvert_exporter": "python",
   "pygments_lexer": "ipython3",
   "version": "3.12.9"
  }
 },
 "nbformat": 4,
 "nbformat_minor": 5
}
