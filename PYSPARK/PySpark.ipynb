{
 "cells": [
  {
   "cell_type": "code",
   "execution_count": 1,
   "id": "55f9199d",
   "metadata": {},
   "outputs": [],
   "source": [
    "import pyspark"
   ]
  },
  {
   "cell_type": "code",
   "execution_count": 2,
   "id": "e51b169f",
   "metadata": {},
   "outputs": [],
   "source": [
    "# import Spark Sessiom\n",
    "from pyspark.sql import SparkSession\n",
    "from pyspark.conf import SparkConf"
   ]
  },
  {
   "cell_type": "code",
   "execution_count": 3,
   "id": "1437103b",
   "metadata": {},
   "outputs": [],
   "source": [
    "# Create Spark Session\n",
    "spark = SparkSession.builder.appName(\"TestSpark\").getOrCreate()"
   ]
  },
  {
   "cell_type": "code",
   "execution_count": 4,
   "id": "6bb80073",
   "metadata": {},
   "outputs": [
    {
     "data": {
      "text/html": [
       "\n",
       "            <div>\n",
       "                <p><b>SparkSession - in-memory</b></p>\n",
       "                \n",
       "        <div>\n",
       "            <p><b>SparkContext</b></p>\n",
       "\n",
       "            <p><a href=\"http://7332fc1c460b:4040\">Spark UI</a></p>\n",
       "\n",
       "            <dl>\n",
       "              <dt>Version</dt>\n",
       "                <dd><code>v3.2.0</code></dd>\n",
       "              <dt>Master</dt>\n",
       "                <dd><code>local[*]</code></dd>\n",
       "              <dt>AppName</dt>\n",
       "                <dd><code>TestSpark</code></dd>\n",
       "            </dl>\n",
       "        </div>\n",
       "        \n",
       "            </div>\n",
       "        "
      ],
      "text/plain": [
       "<pyspark.sql.session.SparkSession at 0x7efd6c0ad850>"
      ]
     },
     "execution_count": 4,
     "metadata": {},
     "output_type": "execute_result"
    }
   ],
   "source": [
    "spark"
   ]
  },
  {
   "cell_type": "code",
   "execution_count": 10,
   "id": "887084db",
   "metadata": {},
   "outputs": [],
   "source": [
    "df = spark.read.csv('fakefriends.csv')"
   ]
  },
  {
   "cell_type": "code",
   "execution_count": 11,
   "id": "58527d77-65be-4361-83fb-31948525e879",
   "metadata": {},
   "outputs": [
    {
     "name": "stdout",
     "output_type": "stream",
     "text": [
      "+---+--------+---+------+\n",
      "|_c0|     _c1|_c2|   _c3|\n",
      "+---+--------+---+------+\n",
      "| Id|    Name|Age|Salary|\n",
      "|  0|    Will| 33|   385|\n",
      "|  1|Jean-Luc| 26|     2|\n",
      "|  2|    Hugh| 55|   221|\n",
      "|  3|  Deanna| 40|   465|\n",
      "|  4|   Quark| 68|    21|\n",
      "|  5|  Weyoun| 59|   318|\n",
      "|  6|  Gowron| 37|   220|\n",
      "|  7|    Will| 54|   307|\n",
      "|  8|  Jadzia| 38|   380|\n",
      "|  9|    Hugh| 27|   181|\n",
      "| 10|     Odo| 53|   191|\n",
      "| 11|     Ben| 57|   372|\n",
      "| 12|   Keiko| 54|   253|\n",
      "| 13|Jean-Luc| 56|   444|\n",
      "| 14|    Hugh| 43|    49|\n",
      "| 15|     Rom| 36|    49|\n",
      "| 16|  Weyoun| 22|   323|\n",
      "| 17|     Odo| 35|    13|\n",
      "| 18|Jean-Luc| 45|   455|\n",
      "+---+--------+---+------+\n",
      "only showing top 20 rows\n",
      "\n"
     ]
    }
   ],
   "source": [
    "# Show data\n",
    "df.show()"
   ]
  },
  {
   "cell_type": "code",
   "execution_count": 13,
   "id": "99efa2fb-67d6-4a51-b84f-f8b60ddb9f3c",
   "metadata": {},
   "outputs": [],
   "source": [
    "# Take header in account\n",
    "df = spark.read.option('header', 'true').csv('fakefriends.csv')"
   ]
  },
  {
   "cell_type": "code",
   "execution_count": 14,
   "id": "360b4e8a-1b75-4851-bcfb-1bb60ce4e44a",
   "metadata": {},
   "outputs": [
    {
     "data": {
      "text/plain": [
       "[Row(Id='0', Name='Will', Age='33', Salary='385'),\n",
       " Row(Id='1', Name='Jean-Luc', Age='26', Salary='2'),\n",
       " Row(Id='2', Name='Hugh', Age='55', Salary='221')]"
      ]
     },
     "execution_count": 14,
     "metadata": {},
     "output_type": "execute_result"
    }
   ],
   "source": [
    "df.head(3)"
   ]
  },
  {
   "cell_type": "code",
   "execution_count": 15,
   "id": "94df983d-863d-4b64-953e-61348d10a71d",
   "metadata": {},
   "outputs": [
    {
     "name": "stdout",
     "output_type": "stream",
     "text": [
      "root\n",
      " |-- Id: string (nullable = true)\n",
      " |-- Name: string (nullable = true)\n",
      " |-- Age: string (nullable = true)\n",
      " |-- Salary: string (nullable = true)\n",
      "\n"
     ]
    }
   ],
   "source": [
    "# See Schema\n",
    "# You will notice by default all are string.\n",
    "df.printSchema()"
   ]
  },
  {
   "cell_type": "code",
   "execution_count": 17,
   "id": "da25ef2e-1827-48d5-a049-7935ea17133a",
   "metadata": {},
   "outputs": [
    {
     "name": "stdout",
     "output_type": "stream",
     "text": [
      "root\n",
      " |-- Id: integer (nullable = true)\n",
      " |-- Name: string (nullable = true)\n",
      " |-- Age: integer (nullable = true)\n",
      " |-- NumberOfFriends: integer (nullable = true)\n",
      "\n"
     ]
    }
   ],
   "source": [
    "# Infer Schema based on Data\n",
    "df = spark.read.option('header', 'true').csv('fakefriends.csv', inferSchema=True)\n",
    "df.printSchema()"
   ]
  },
  {
   "cell_type": "code",
   "execution_count": 18,
   "id": "d09d14ba-0f75-4440-bb4d-7a19f2a18db9",
   "metadata": {},
   "outputs": [
    {
     "data": {
      "text/plain": [
       "[Row(Id=0, Name='Will', Age=33, NumberOfFriends=385),\n",
       " Row(Id=1, Name='Jean-Luc', Age=26, NumberOfFriends=2),\n",
       " Row(Id=2, Name='Hugh', Age=55, NumberOfFriends=221)]"
      ]
     },
     "execution_count": 18,
     "metadata": {},
     "output_type": "execute_result"
    }
   ],
   "source": [
    "df.head(3)"
   ]
  },
  {
   "cell_type": "code",
   "execution_count": 20,
   "id": "abe6eb3f-0d12-4d36-9476-e7340b5c94b3",
   "metadata": {},
   "outputs": [
    {
     "name": "stdout",
     "output_type": "stream",
     "text": [
      "root\n",
      " |-- Id: integer (nullable = true)\n",
      " |-- Name: string (nullable = true)\n",
      " |-- Age: integer (nullable = true)\n",
      " |-- NumberOfFriends: integer (nullable = true)\n",
      "\n"
     ]
    },
    {
     "data": {
      "text/plain": [
       "[Row(Id=0, Name='Will', Age=33, NumberOfFriends=385),\n",
       " Row(Id=1, Name='Jean-Luc', Age=26, NumberOfFriends=2),\n",
       " Row(Id=2, Name='Hugh', Age=55, NumberOfFriends=221)]"
      ]
     },
     "execution_count": 20,
     "metadata": {},
     "output_type": "execute_result"
    }
   ],
   "source": [
    "# Header and InferSchema\n",
    "df = spark.read.csv('fakefriends.csv', header=True, inferSchema=True)\n",
    "df.printSchema()\n",
    "df.head(3)"
   ]
  },
  {
   "cell_type": "code",
   "execution_count": 22,
   "id": "b8a6ca90-761a-4b23-a668-c72b29910be7",
   "metadata": {},
   "outputs": [
    {
     "data": {
      "text/plain": [
       "['Id', 'Name', 'Age', 'NumberOfFriends']"
      ]
     },
     "execution_count": 22,
     "metadata": {},
     "output_type": "execute_result"
    }
   ],
   "source": [
    "# get column names\n",
    "df.columns"
   ]
  },
  {
   "cell_type": "code",
   "execution_count": 24,
   "id": "bf680636-9a1b-4b04-9eca-7d20049cc617",
   "metadata": {},
   "outputs": [
    {
     "data": {
      "text/plain": [
       "[Row(Name='Will', Age=33),\n",
       " Row(Name='Jean-Luc', Age=26),\n",
       " Row(Name='Hugh', Age=55)]"
      ]
     },
     "execution_count": 24,
     "metadata": {},
     "output_type": "execute_result"
    }
   ],
   "source": [
    "# Select only specific column\n",
    "# Select method returns a new data frame\n",
    "df.select(['Name', 'Age']).head(3)"
   ]
  },
  {
   "cell_type": "code",
   "execution_count": 25,
   "id": "cbe958d7-ae34-4ffa-b8a5-7bb1c2470b58",
   "metadata": {},
   "outputs": [
    {
     "data": {
      "text/plain": [
       "[('Id', 'int'), ('Name', 'string'), ('Age', 'int'), ('NumberOfFriends', 'int')]"
      ]
     },
     "execution_count": 25,
     "metadata": {},
     "output_type": "execute_result"
    }
   ],
   "source": [
    "# Check Column data types\n",
    "df.dtypes"
   ]
  },
  {
   "cell_type": "code",
   "execution_count": 27,
   "id": "7427f136-6c78-40c2-9345-d5ff1dfcfb5b",
   "metadata": {},
   "outputs": [
    {
     "name": "stdout",
     "output_type": "stream",
     "text": [
      "+-------+-----------------+----+------------------+-----------------+\n",
      "|summary|               Id|Name|               Age|  NumberOfFriends|\n",
      "+-------+-----------------+----+------------------+-----------------+\n",
      "|  count|              500| 500|               500|              500|\n",
      "|   mean|            249.5|null|            43.708|          248.532|\n",
      "| stddev|144.4818327679989|null|14.864340996711995|147.2217288680643|\n",
      "|    min|                0| Ben|                18|                1|\n",
      "|    max|              499|Worf|                69|              499|\n",
      "+-------+-----------------+----+------------------+-----------------+\n",
      "\n"
     ]
    }
   ],
   "source": [
    "# Describe Dataframe stats\n",
    "df.describe()\n",
    "\n",
    "# describe method return another dataframe which can be used for show\n",
    "df.describe().show()"
   ]
  },
  {
   "cell_type": "code",
   "execution_count": 30,
   "id": "98b55864-723b-489b-9e1d-ff67169e3b83",
   "metadata": {},
   "outputs": [
    {
     "data": {
      "text/plain": [
       "[Row(Id=0, Name='Will', Age=33, NumberOfFriends=385, Age after 2 years=35),\n",
       " Row(Id=1, Name='Jean-Luc', Age=26, NumberOfFriends=2, Age after 2 years=28),\n",
       " Row(Id=2, Name='Hugh', Age=55, NumberOfFriends=221, Age after 2 years=57)]"
      ]
     },
     "execution_count": 30,
     "metadata": {},
     "output_type": "execute_result"
    }
   ],
   "source": [
    "# Add a column - use WithColumn method\n",
    "df = df.withColumn('Age after 2 years', df['Age'] + 2)\n",
    "df.head(3)"
   ]
  },
  {
   "cell_type": "code",
   "execution_count": 34,
   "id": "6ffe817e-98cd-4a24-986e-f5cd0580fb11",
   "metadata": {},
   "outputs": [
    {
     "data": {
      "text/plain": [
       "[Row(Id=0, Name='Will', Age=33, NumberOfFriends=385),\n",
       " Row(Id=1, Name='Jean-Luc', Age=26, NumberOfFriends=2),\n",
       " Row(Id=2, Name='Hugh', Age=55, NumberOfFriends=221)]"
      ]
     },
     "execution_count": 34,
     "metadata": {},
     "output_type": "execute_result"
    }
   ],
   "source": [
    "# Drop the column using drop\n",
    "df = df.drop('Age after 2 years')\n",
    "df.head(3)"
   ]
  },
  {
   "cell_type": "code",
   "execution_count": 36,
   "id": "d2eb859f-084d-4517-8e24-9cb2432ba831",
   "metadata": {},
   "outputs": [
    {
     "data": {
      "text/plain": [
       "[Row(Id=0, User Name='Will', Age=33, NumberOfFriends=385),\n",
       " Row(Id=1, User Name='Jean-Luc', Age=26, NumberOfFriends=2),\n",
       " Row(Id=2, User Name='Hugh', Age=55, NumberOfFriends=221)]"
      ]
     },
     "execution_count": 36,
     "metadata": {},
     "output_type": "execute_result"
    }
   ],
   "source": [
    "# Rename Column\n",
    "df.withColumnRenamed('Name', 'User Name').head(3)"
   ]
  },
  {
   "cell_type": "code",
   "execution_count": null,
   "id": "f9d03c07-2f59-4b52-8ab4-c1db7062f1a2",
   "metadata": {},
   "outputs": [],
   "source": []
  }
 ],
 "metadata": {
  "kernelspec": {
   "display_name": "Python 3 (ipykernel)",
   "language": "python",
   "name": "python3"
  },
  "language_info": {
   "codemirror_mode": {
    "name": "ipython",
    "version": 3
   },
   "file_extension": ".py",
   "mimetype": "text/x-python",
   "name": "python",
   "nbconvert_exporter": "python",
   "pygments_lexer": "ipython3",
   "version": "3.9.7"
  }
 },
 "nbformat": 4,
 "nbformat_minor": 5
}
