{
 "cells": [
  {
   "cell_type": "markdown",
   "id": "21fd0b18-2081-4808-8c6b-ced70f2017b7",
   "metadata": {},
   "source": [
    "## Runnables"
   ]
  },
  {
   "cell_type": "markdown",
   "id": "bd7a2020-a309-47da-bbb4-f7f536832a14",
   "metadata": {},
   "source": [
    "There are many Runnable classes for simplifying the tasks in Langchain chains  \n",
    " - **RunnablePassthrogh**: Return Input as output as is\n",
    " - **RunnbaleLambda**: Run a function and return result of function. Lambda functions can be used here.\n",
    " - **RunnableParallel**: Run multiple chains/runnables in parallel"
   ]
  },
  {
   "cell_type": "markdown",
   "id": "51bdb409-b412-4b67-9557-a0976d744abf",
   "metadata": {},
   "source": [
    "#### Lets Create 2 LLMs which we will use for testing"
   ]
  },
  {
   "cell_type": "code",
   "execution_count": 17,
   "id": "08c2194c-a0ff-41f2-a4ec-5a42f07c7778",
   "metadata": {},
   "outputs": [],
   "source": [
    "from langchain_ollama.chat_models import ChatOllama\n",
    "\n",
    "llm1 = ChatOllama(\n",
    "    base_url = 'http://localhost:11434',\n",
    "    model = 'qwen2.5:0.5b'\n",
    ")\n",
    "\n",
    "llm2 = ChatOllama(\n",
    "    base_url = 'http://localhost:11434',\n",
    "    model = 'llama3.2:1b'\n",
    ")"
   ]
  },
  {
   "cell_type": "markdown",
   "id": "697ff762-4bcf-460f-8772-62083297934b",
   "metadata": {},
   "source": [
    "#### Runnable Passthrough"
   ]
  },
  {
   "cell_type": "code",
   "execution_count": 9,
   "id": "3393a91f-c717-4a5e-b73e-eb778912169d",
   "metadata": {},
   "outputs": [
    {
     "name": "stdout",
     "output_type": "stream",
     "text": [
      "Hello\n"
     ]
    }
   ],
   "source": [
    "from langchain_core.runnables import RunnablePassthrough\n",
    "r1 = RunnablePassthrough()\n",
    "print(r1.invoke(\"Hello\"))"
   ]
  },
  {
   "cell_type": "markdown",
   "id": "52cf5b9d-0b48-45cb-8919-8f843135690e",
   "metadata": {},
   "source": [
    "#### Runnable Lambda"
   ]
  },
  {
   "cell_type": "code",
   "execution_count": 10,
   "id": "b0ff4b7c-c60c-43aa-b91f-90dd0f939b3f",
   "metadata": {},
   "outputs": [
    {
     "name": "stdout",
     "output_type": "stream",
     "text": [
      "Hello Sam\n"
     ]
    }
   ],
   "source": [
    "from langchain_core.runnables import RunnableLambda\n",
    "\n",
    "# Create some function\n",
    "def some_func(input: str) -> str:\n",
    "    return f\"Hello {input}\"\n",
    "\n",
    "r2 = RunnableLambda(some_func)\n",
    "print(r2.invoke(\"Sam\"))"
   ]
  },
  {
   "cell_type": "markdown",
   "id": "771e26f9-9456-4690-b3bf-8bbd860c7258",
   "metadata": {},
   "source": [
    "#### Runnable Parallel"
   ]
  },
  {
   "cell_type": "code",
   "execution_count": 12,
   "id": "d81f8bef-9fce-4302-ae66-d4b79a5fc0b5",
   "metadata": {},
   "outputs": [
    {
     "name": "stdout",
     "output_type": "stream",
     "text": [
      "{'out1': 'John', 'out2': 'Hello John'}\n"
     ]
    }
   ],
   "source": [
    "from langchain_core.runnables import RunnableParallel\n",
    "\n",
    "r3 = RunnableParallel(out1=r1, out2=r2)\n",
    "print(r3.invoke(\"John\"))"
   ]
  },
  {
   "cell_type": "markdown",
   "id": "be364bc3-bd3d-42e3-8dc6-ce6cfe3cf207",
   "metadata": {},
   "source": [
    "#### Lets try to make some useful app from these learned runnables\n",
    "We will give 1 topic to 2 LLMs and ask them to explain the topic to a 10 year old child.  \n",
    "And then We will, evaluate which explanation is better using one of the LLM model"
   ]
  },
  {
   "cell_type": "markdown",
   "id": "5fe3d2df-65cb-48ed-84e1-51c90f5b3585",
   "metadata": {},
   "source": [
    "#### Prompt"
   ]
  },
  {
   "cell_type": "code",
   "execution_count": 14,
   "id": "c8b870d5-58fd-4f01-bce8-e049ac033bce",
   "metadata": {},
   "outputs": [],
   "source": [
    "from langchain.prompts import PromptTemplate\n",
    "prompt = PromptTemplate(\n",
    "    template=\"\"\"\n",
    "    User will give a topic, your task is to explain the topic to a 10 year old child. \n",
    "    The explanation must not contain complex sentence structure as it may confuse the kid. \n",
    "    Generate explanation in simple words with few examples to explain the topic clearly. \n",
    "\n",
    "    Topic: {topic}\n",
    "    \"\"\",\n",
    "    input_variables = ['topic']\n",
    ")"
   ]
  },
  {
   "cell_type": "markdown",
   "id": "b1d7d7b9-a651-4873-b1cd-f2f553fbfad8",
   "metadata": {},
   "source": [
    "#### First Chain from 1st LLM to generate explanation"
   ]
  },
  {
   "cell_type": "code",
   "execution_count": 18,
   "id": "16d7d034-1d5d-41a7-8fa0-c83b7608f6d4",
   "metadata": {},
   "outputs": [
    {
     "data": {
      "text/plain": [
       "\"Gravity is like a strong invisible force that pulls objects towards the Earth, similar to how you can pull on your friend's backpack or toy cars and they fall down. It’s what makes the sky, sun, and moon stay up in our world. We can lift things with gravity too – like when you put toys under the table to keep them from falling off. But remember, if you drop an object, it will hurt! Gravity is super important for us because without it, we couldn't make tall buildings or use the stars as a guide for travel. Isn’t that neat?\""
      ]
     },
     "execution_count": 18,
     "metadata": {},
     "output_type": "execute_result"
    }
   ],
   "source": [
    "from langchain_core.output_parsers import StrOutputParser\n",
    "ch1 = prompt | llm1 | StrOutputParser()\n",
    "\n",
    "# Test\n",
    "ch1.invoke({\"topic\": \"Gravity\"})"
   ]
  },
  {
   "cell_type": "markdown",
   "id": "a10036ab-059d-4792-9508-ee4bcf042e8c",
   "metadata": {},
   "source": [
    "#### Second chain from other LLM model to generate explanation"
   ]
  },
  {
   "cell_type": "code",
   "execution_count": 21,
   "id": "d8a7a099-53ab-43ac-a953-acff1f757c1d",
   "metadata": {},
   "outputs": [
    {
     "data": {
      "text/plain": [
       "\"Hey there, kiddo! Let's talk about gravity.\\n\\nGravity is like a strong hug from the Earth. It's what keeps you on the ground and what makes things fall down instead of flying up into space.\\n\\nImagine you're playing with a ball. You throw it up in the air, right? What happens to it? It comes back down to the ground, right?\\n\\nThat's because the Earth is giving the ball a big hug, pulling it towards itself. This is called gravity. The more massive something is, like the Earth or a planet, the stronger its gravity is.\\n\\nBut why does that happen? Well, imagine you're on a merry-go-round. If you spin really fast, you'll want to keep going in a circle because it's hard to stop spinning. That's kind of like what's happening with gravity and objects near the Earth.\\n\\nThe Earth is so massive that its gravity is pulling everything towards it. This includes not just planets but also stars, even other galaxies! So when an object falls down from space, it comes back down to the Earth because we're all stuck together by gravity.\\n\\nGravity is what keeps us on our feet and what makes things fall down instead of flying off into space. Pretty cool, huh?\""
      ]
     },
     "execution_count": 21,
     "metadata": {},
     "output_type": "execute_result"
    }
   ],
   "source": [
    "ch2 = prompt | llm2 | StrOutputParser()\n",
    "\n",
    "# Test\n",
    "ch2.invoke({\"topic\": \"Gravity\"})"
   ]
  },
  {
   "cell_type": "markdown",
   "id": "fdbd08ed-499b-49a6-8aec-3eef9d3b8c16",
   "metadata": {},
   "source": [
    "#### So both the Explanations work, lets try to evaluate which explanation if better"
   ]
  },
  {
   "cell_type": "code",
   "execution_count": 22,
   "id": "230e1781-3715-49aa-ae4c-1b334c27ca9a",
   "metadata": {},
   "outputs": [],
   "source": [
    "eval_prompt = PromptTemplate(\n",
    "    template=\"\"\"\n",
    "    You are an evaluator who will evaluate the 2 explanations provided by 2 LLM models and tell which explanation is better and why. \n",
    "    There is a topic for which 2 LLM models have generated an explanation for 10 year old kid. Evaluate both the explanations and \n",
    "    in response tell which explanation is better suitable for 10 year old kid and why.\n",
    "    -------------------------------------------------\n",
    "    Topic: {topic}\n",
    "    -------------------------------------------------\n",
    "    Explanation 1: {explanation_1}\n",
    "    -------------------------------------------------\n",
    "    Explanation 2: {explanation_2}\n",
    "    -------------------------------------------------\n",
    "    Evaluation:\n",
    "    \"\"\",\n",
    "    input_variables = ['topic', 'explanation_1', 'explanation_2']\n",
    ")"
   ]
  },
  {
   "cell_type": "code",
   "execution_count": 26,
   "id": "3c0674e7-f574-4fb2-8e97-a82f11823835",
   "metadata": {},
   "outputs": [
    {
     "name": "stdout",
     "output_type": "stream",
     "text": [
      "I'll evaluate both explanations provided by two LLM models and identify which one is better suitable for a 10-year-old kid.\n",
      "\n",
      "**Explanation 1**\n",
      "\n",
      "This explanation uses simple and relatable analogies to explain gravity, such as comparing it to a \"big hug from the Earth.\" It also uses examples that are easy to understand, like rolling a ball down a hill or throwing a toy car up in the air. The language is clear and concise, making it accessible to 10-year-olds.\n",
      "\n",
      "However, there are some minor issues with this explanation:\n",
      "\n",
      "* It assumes that the child has already learned about gravity before reading this explanation.\n",
      "* It uses a bit of a simplification by saying \"we can't move the ball by ourselves\" - in real life, people can still move objects even if they have to work hard.\n",
      "\n",
      "**Explanation 2**\n",
      "\n",
      "This explanation also tries to use relatable analogies to explain gravity. However, it takes some creative liberties with the analogy, such as comparing gravity to a marble rolling down a hill. This might not be as clear or intuitive for young children.\n",
      "\n",
      "Additionally, the language is still somewhat simplistic, and the explanations could benefit from more detail and depth. For example, what exactly does the Earth do to keep objects on it?\n",
      "\n",
      "**Comparison**\n",
      "\n",
      "While both explanations are easy to understand, I think Explanation 2 is better suited for a 10-year-old kid. Here's why:\n",
      "\n",
      "* It uses more detailed analogies that help to explain complex concepts in simpler terms.\n",
      "* It provides more context about how gravity works and what it does to objects on the Earth.\n",
      "* The language is still clear and concise, but it's more nuanced and thoughtful.\n",
      "\n",
      "In contrast, Explanation 1 assumes a certain level of prior knowledge and may not provide as much depth or detail. While it's easy to understand, it might not be as engaging or accessible for young children.\n",
      "\n",
      "**Rating**\n",
      "\n",
      "Based on my evaluation, I would rate the explanations as follows:\n",
      "\n",
      "* Explanation 2: 8/10\n",
      "* Explanation 1: 6/10\n"
     ]
    }
   ],
   "source": [
    "eval_chain = RunnableParallel(explanation_1=ch1, explanation_2=ch2, topic=RunnablePassthrough()) | eval_prompt | llm2 | StrOutputParser()\n",
    "ev = eval_chain.invoke({\"topic\": \"Gravity\"})\n",
    "print(ev)"
   ]
  },
  {
   "cell_type": "markdown",
   "id": "d70e6b90-0840-491f-9811-be0b70d0d9a8",
   "metadata": {},
   "source": [
    "#### The Evaluation is Good, But can't see what explanation was geenrated by Each LLM Model.\n",
    "In order provide send the Output of Models, we can use RunParallel, Send output of LLMs as passthrough in Parallel with Evaluations"
   ]
  },
  {
   "cell_type": "code",
   "execution_count": 29,
   "id": "6fba1e3a-f3a3-4413-8db8-9bf66000a961",
   "metadata": {},
   "outputs": [
    {
     "name": "stdout",
     "output_type": "stream",
     "text": [
      "Explanation 1:  Hey there, kiddo! Let's talk about something cool called gravity.\n",
      "\n",
      "You know how things fall down when you drop them? Like a ball or a toy? That's because of something called gravity. It's like an invisible force that pulls everything towards each other!\n",
      "\n",
      "Imagine you have two friends, one on the playground and one on another part of the playground. If they're close to each other, they'll stick together, right? That's kind of like what gravity does with things on Earth.\n",
      "\n",
      "When something is near the ground, it gets pulled down by this invisible force. It's like the Earth is saying, \"Hey, I want you to come closer!\" And because of that, things don't just float away into space.\n",
      "\n",
      "For example, if you drop a toy on the ground, it will fall down towards the Earth. That's gravity doing its thing! And we're all stuck to the ground because of gravity too.\n",
      "\n",
      "So, gravity is like a big hug from the Earth, keeping everything in place. It's really cool and helps us live on this amazing planet we call home!\n",
      "\n",
      "Explanation 2:  Gravity is something that keeps you on the ground. You know how sometimes you throw a ball up high, and it comes back down? That's because of gravity.\n",
      "\n",
      "Imagine you have a big magnet under your floor. It pulls everything towards itself, right? That's kind of like what gravity does. The Earth is like a huge magnet, and it pulls everything towards its center.\n",
      "\n",
      "When you're on the playground, you can swing high up in the air with your arms stretched out far away from your body. That's because the ground is pulling you down gently, keeping you safe and sound on the floor.\n",
      "\n",
      "But gravity isn't just for the Earth. Everything in the world has gravity, even you! The moon, which orbits around the Earth, also feels gravity. And that's why we don't float off into space when we're standing on it.\n",
      "\n",
      "Gravity is like a big hug from the Earth, keeping everything attached to its surface. Isn't that cool?\n",
      "\n",
      "Final Evaluation:  I'll evaluate both explanations and provide my assessment of which one is better suitable for 10-year-olds.\n",
      "\n",
      "\n",
      "Explanation 1:\n",
      "\n",
      "Strengths:\n",
      "\n",
      "* Uses simple language that's easy to understand\n",
      "* Provides a clear analogy (an invisible force \"pulling\" everything towards each other)\n",
      "* Includes a relatable example (a ball falling down) to help illustrate the concept\n",
      "\n",
      "Weaknesses:\n",
      "\n",
      "* May not provide enough depth or explanation of gravity, such as its origin and how it works\n",
      "* Could be more accurate in describing the type of force involved\n",
      "\n",
      "\n",
      "Explanation 2:\n",
      "\n",
      "Strengths:\n",
      "\n",
      "* Uses simple language that's easy to understand\n",
      "* Provides a clear analogy (a magnet pulling everything towards itself)\n",
      "* Includes an example that's relevant to everyday life (swinging high up in the air)\n",
      "\n",
      "Weaknesses:\n",
      "\n",
      "* May not provide enough explanation of gravity, such as its origin and how it works\n",
      "* Could be more accurate in describing the type of force involved\n",
      "\n",
      "\n",
      "Evaluation:\n",
      "\n",
      "After carefully evaluating both explanations, I would say that Explanation 1 is better suitable for a 10-year-old. Here's why:\n",
      "\n",
      "\n",
      "* It provides a clearer explanation of gravity, including its source (the Earth), which is essential for kids to understand this complex concept.\n",
      "* The analogy is more accurate in describing the type of force involved (an invisible force \"pulling\" everything towards each other).\n",
      "* The example provided (a ball falling down) is relatable and easy to visualize.\n",
      "\n",
      "\n",
      "Explanation 2, while clear and engaging, lacks depth and accuracy in its explanation. It also relies on a specific example (swinging high up in the air), which may not be as relevant or helpful for kids who are just starting to learn about gravity.\n",
      "\n",
      "\n",
      "Overall, Explanation 1 is more comprehensive and accurate, making it a better choice for 10-year-olds.\n"
     ]
    }
   ],
   "source": [
    "eval_chain_logic = eval_prompt | llm2 | StrOutputParser()\n",
    "\n",
    "eval_chain2 = RunnableParallel(explanation_1=ch1, explanation_2=ch2, topic=RunnablePassthrough()) | \\\n",
    "                RunnableParallel(evaluation=eval_chain_logic, inputs=RunnablePassthrough())\n",
    "\n",
    "ev2 = eval_chain2.invoke({\"topic\": \"Gravity\"})\n",
    "\n",
    "print(\"Explanation 1: \", ev2[\"inputs\"][\"explanation_1\"], end=\"\\n\\n\")\n",
    "print(\"Explanation 2: \", ev2[\"inputs\"][\"explanation_2\"], end=\"\\n\\n\")\n",
    "print(\"Final Evaluation: \", ev2[\"evaluation\"])"
   ]
  },
  {
   "cell_type": "code",
   "execution_count": null,
   "id": "a6a8102c-9e1b-44b9-ba05-4706c2874228",
   "metadata": {},
   "outputs": [],
   "source": []
  }
 ],
 "metadata": {
  "kernelspec": {
   "display_name": "Python 3 (ipykernel)",
   "language": "python",
   "name": "python3"
  },
  "language_info": {
   "codemirror_mode": {
    "name": "ipython",
    "version": 3
   },
   "file_extension": ".py",
   "mimetype": "text/x-python",
   "name": "python",
   "nbconvert_exporter": "python",
   "pygments_lexer": "ipython3",
   "version": "3.12.9"
  }
 },
 "nbformat": 4,
 "nbformat_minor": 5
}
