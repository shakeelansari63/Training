{
 "cells": [
  {
   "cell_type": "markdown",
   "id": "fd59617b-4253-4bb5-97a7-4351d67c814d",
   "metadata": {},
   "source": [
    "### Seaborn provide lots of methods to customize plots"
   ]
  },
  {
   "cell_type": "markdown",
   "id": "31ef026c-60eb-4f1c-a588-a9388d110eac",
   "metadata": {},
   "source": [
    "#### Lets load some data forst"
   ]
  },
  {
   "cell_type": "code",
   "execution_count": 1,
   "id": "d593a0b4-04d6-4955-b494-d63183ab7065",
   "metadata": {},
   "outputs": [
    {
     "data": {
      "text/html": [
       "<div>\n",
       "<style scoped>\n",
       "    .dataframe tbody tr th:only-of-type {\n",
       "        vertical-align: middle;\n",
       "    }\n",
       "\n",
       "    .dataframe tbody tr th {\n",
       "        vertical-align: top;\n",
       "    }\n",
       "\n",
       "    .dataframe thead th {\n",
       "        text-align: right;\n",
       "    }\n",
       "</style>\n",
       "<table border=\"1\" class=\"dataframe\">\n",
       "  <thead>\n",
       "    <tr style=\"text-align: right;\">\n",
       "      <th></th>\n",
       "      <th>Page total likes</th>\n",
       "      <th>Type</th>\n",
       "      <th>Category</th>\n",
       "      <th>Post Month</th>\n",
       "      <th>Post Weekday</th>\n",
       "      <th>Post Hour</th>\n",
       "      <th>Paid</th>\n",
       "      <th>Lifetime Post Total Reach</th>\n",
       "      <th>Lifetime Post Total Impressions</th>\n",
       "      <th>Lifetime Engaged Users</th>\n",
       "      <th>Lifetime Post Consumers</th>\n",
       "      <th>Lifetime Post Consumptions</th>\n",
       "      <th>Lifetime Post Impressions by people who have liked your Page</th>\n",
       "      <th>Lifetime Post reach by people who like your Page</th>\n",
       "      <th>Lifetime People who have liked your Page and engaged with your post</th>\n",
       "      <th>comment</th>\n",
       "      <th>like</th>\n",
       "      <th>share</th>\n",
       "      <th>Total Interactions</th>\n",
       "    </tr>\n",
       "  </thead>\n",
       "  <tbody>\n",
       "    <tr>\n",
       "      <th>0</th>\n",
       "      <td>139441</td>\n",
       "      <td>Photo</td>\n",
       "      <td>2</td>\n",
       "      <td>12</td>\n",
       "      <td>4</td>\n",
       "      <td>3</td>\n",
       "      <td>0.0</td>\n",
       "      <td>2752</td>\n",
       "      <td>5091</td>\n",
       "      <td>178</td>\n",
       "      <td>109</td>\n",
       "      <td>159</td>\n",
       "      <td>3078</td>\n",
       "      <td>1640</td>\n",
       "      <td>119</td>\n",
       "      <td>4</td>\n",
       "      <td>79.0</td>\n",
       "      <td>17.0</td>\n",
       "      <td>100</td>\n",
       "    </tr>\n",
       "    <tr>\n",
       "      <th>1</th>\n",
       "      <td>139441</td>\n",
       "      <td>Status</td>\n",
       "      <td>2</td>\n",
       "      <td>12</td>\n",
       "      <td>3</td>\n",
       "      <td>10</td>\n",
       "      <td>0.0</td>\n",
       "      <td>10460</td>\n",
       "      <td>19057</td>\n",
       "      <td>1457</td>\n",
       "      <td>1361</td>\n",
       "      <td>1674</td>\n",
       "      <td>11710</td>\n",
       "      <td>6112</td>\n",
       "      <td>1108</td>\n",
       "      <td>5</td>\n",
       "      <td>130.0</td>\n",
       "      <td>29.0</td>\n",
       "      <td>164</td>\n",
       "    </tr>\n",
       "    <tr>\n",
       "      <th>2</th>\n",
       "      <td>139441</td>\n",
       "      <td>Photo</td>\n",
       "      <td>3</td>\n",
       "      <td>12</td>\n",
       "      <td>3</td>\n",
       "      <td>3</td>\n",
       "      <td>0.0</td>\n",
       "      <td>2413</td>\n",
       "      <td>4373</td>\n",
       "      <td>177</td>\n",
       "      <td>113</td>\n",
       "      <td>154</td>\n",
       "      <td>2812</td>\n",
       "      <td>1503</td>\n",
       "      <td>132</td>\n",
       "      <td>0</td>\n",
       "      <td>66.0</td>\n",
       "      <td>14.0</td>\n",
       "      <td>80</td>\n",
       "    </tr>\n",
       "    <tr>\n",
       "      <th>3</th>\n",
       "      <td>139441</td>\n",
       "      <td>Photo</td>\n",
       "      <td>2</td>\n",
       "      <td>12</td>\n",
       "      <td>2</td>\n",
       "      <td>10</td>\n",
       "      <td>1.0</td>\n",
       "      <td>50128</td>\n",
       "      <td>87991</td>\n",
       "      <td>2211</td>\n",
       "      <td>790</td>\n",
       "      <td>1119</td>\n",
       "      <td>61027</td>\n",
       "      <td>32048</td>\n",
       "      <td>1386</td>\n",
       "      <td>58</td>\n",
       "      <td>1572.0</td>\n",
       "      <td>147.0</td>\n",
       "      <td>1777</td>\n",
       "    </tr>\n",
       "    <tr>\n",
       "      <th>4</th>\n",
       "      <td>139441</td>\n",
       "      <td>Photo</td>\n",
       "      <td>2</td>\n",
       "      <td>12</td>\n",
       "      <td>2</td>\n",
       "      <td>3</td>\n",
       "      <td>0.0</td>\n",
       "      <td>7244</td>\n",
       "      <td>13594</td>\n",
       "      <td>671</td>\n",
       "      <td>410</td>\n",
       "      <td>580</td>\n",
       "      <td>6228</td>\n",
       "      <td>3200</td>\n",
       "      <td>396</td>\n",
       "      <td>19</td>\n",
       "      <td>325.0</td>\n",
       "      <td>49.0</td>\n",
       "      <td>393</td>\n",
       "    </tr>\n",
       "  </tbody>\n",
       "</table>\n",
       "</div>"
      ],
      "text/plain": [
       "   Page total likes    Type  Category  Post Month  Post Weekday  Post Hour  \\\n",
       "0            139441   Photo         2          12             4          3   \n",
       "1            139441  Status         2          12             3         10   \n",
       "2            139441   Photo         3          12             3          3   \n",
       "3            139441   Photo         2          12             2         10   \n",
       "4            139441   Photo         2          12             2          3   \n",
       "\n",
       "   Paid  Lifetime Post Total Reach  Lifetime Post Total Impressions  \\\n",
       "0   0.0                       2752                             5091   \n",
       "1   0.0                      10460                            19057   \n",
       "2   0.0                       2413                             4373   \n",
       "3   1.0                      50128                            87991   \n",
       "4   0.0                       7244                            13594   \n",
       "\n",
       "   Lifetime Engaged Users  Lifetime Post Consumers  \\\n",
       "0                     178                      109   \n",
       "1                    1457                     1361   \n",
       "2                     177                      113   \n",
       "3                    2211                      790   \n",
       "4                     671                      410   \n",
       "\n",
       "   Lifetime Post Consumptions  \\\n",
       "0                         159   \n",
       "1                        1674   \n",
       "2                         154   \n",
       "3                        1119   \n",
       "4                         580   \n",
       "\n",
       "   Lifetime Post Impressions by people who have liked your Page  \\\n",
       "0                                               3078              \n",
       "1                                              11710              \n",
       "2                                               2812              \n",
       "3                                              61027              \n",
       "4                                               6228              \n",
       "\n",
       "   Lifetime Post reach by people who like your Page  \\\n",
       "0                                              1640   \n",
       "1                                              6112   \n",
       "2                                              1503   \n",
       "3                                             32048   \n",
       "4                                              3200   \n",
       "\n",
       "   Lifetime People who have liked your Page and engaged with your post  \\\n",
       "0                                                119                     \n",
       "1                                               1108                     \n",
       "2                                                132                     \n",
       "3                                               1386                     \n",
       "4                                                396                     \n",
       "\n",
       "   comment    like  share  Total Interactions  \n",
       "0        4    79.0   17.0                 100  \n",
       "1        5   130.0   29.0                 164  \n",
       "2        0    66.0   14.0                  80  \n",
       "3       58  1572.0  147.0                1777  \n",
       "4       19   325.0   49.0                 393  "
      ]
     },
     "execution_count": 1,
     "metadata": {},
     "output_type": "execute_result"
    }
   ],
   "source": [
    "import pandas as pd\n",
    "import matplotlib.pyplot as plt\n",
    "import seaborn as sns\n",
    "\n",
    "data = pd.read_csv('datasets/facebook-dataset.csv', sep=r\"\\s*;\\s*\", engine='python')\n",
    "data.head()"
   ]
  },
  {
   "cell_type": "markdown",
   "id": "f9f82d91-1034-44a5-b1de-79c0d5137bcb",
   "metadata": {},
   "source": [
    "### Reset any styling to default"
   ]
  },
  {
   "cell_type": "code",
   "execution_count": 2,
   "id": "979adcfd-7efd-4180-86f9-3882626ca37e",
   "metadata": {},
   "outputs": [],
   "source": [
    "sns.set()"
   ]
  },
  {
   "cell_type": "markdown",
   "id": "60a5dc36-1623-404f-beab-9dbbc4916686",
   "metadata": {},
   "source": [
    "#### Seaborn has majorly 4 styles\n",
    "##### white (default)\n",
    "##### dark\n",
    "##### whitegrid\n",
    "##### darkgrid"
   ]
  },
  {
   "cell_type": "code",
   "execution_count": 3,
   "id": "b8374e89-ca70-4576-8dfd-f86c51b7791a",
   "metadata": {},
   "outputs": [
    {
     "data": {
      "image/png": "[encoded data removed]",
      "text/plain": [
       "<Figure size 500x500 with 1 Axes>"
      ]
     },
     "metadata": {},
     "output_type": "display_data"
    }
   ],
   "source": [
    "sns.set_style('dark')\n",
    "sns.displot(data=data[\"Total Interactions\"], kde=True)\n",
    "plt.show()"
   ]
  },
  {
   "cell_type": "code",
   "execution_count": 4,
   "id": "d52dbcbc-2f08-48f5-8608-aca9c0937610",
   "metadata": {},
   "outputs": [
    {
     "data": {
      "image/png": "[encoded data removed]",
      "text/plain": [
       "<Figure size 500x500 with 1 Axes>"
      ]
     },
     "metadata": {},
     "output_type": "display_data"
    }
   ],
   "source": [
    "sns.set_style('darkgrid')\n",
    "sns.displot(data=data[\"Total Interactions\"], kde=True)\n",
    "plt.show()"
   ]
  },
  {
   "cell_type": "markdown",
   "id": "ed28d9ac-c68c-4ce5-8c11-853897e45ecf",
   "metadata": {},
   "source": [
    "#### To show ticks on x and y axis"
   ]
  },
  {
   "cell_type": "code",
   "execution_count": 5,
   "id": "448031e0-4f3d-46ce-8ac2-0b93c7ef5a0c",
   "metadata": {},
   "outputs": [
    {
     "data": {
      "image/png": "[encoded data removed]",
      "text/plain": [
       "<Figure size 500x500 with 1 Axes>"
      ]
     },
     "metadata": {},
     "output_type": "display_data"
    }
   ],
   "source": [
    "sns.set_style('ticks')\n",
    "sns.displot(data=data[\"Total Interactions\"], kde=True)\n",
    "plt.show()"
   ]
  },
  {
   "cell_type": "code",
   "execution_count": 6,
   "id": "f4c8baa4-7eef-4d5f-ad04-83411623310c",
   "metadata": {},
   "outputs": [
    {
     "data": {
      "image/png": "[encoded data removed]",
      "text/plain": [
       "<Figure size 500x500 with 1 Axes>"
      ]
     },
     "metadata": {},
     "output_type": "display_data"
    }
   ],
   "source": [
    "#### we can romeve axes lines using despine\n",
    "sns.displot(data=data[\"Total Interactions\"], kde=True)\n",
    "sns.despine(top=True, bottom=True, left=True, right=False)\n",
    "plt.show()"
   ]
  },
  {
   "cell_type": "markdown",
   "id": "4c67e32e-967d-4271-b25a-d883662a9841",
   "metadata": {},
   "source": [
    "# Color palette\n",
    "## There are multiple types of color palettes\n",
    "### Qualiatative\n",
    "Each color in this color palette is different and easily distinguishable, hence usually used for Categorical values. \n",
    "\n",
    "### Sequential\n",
    "These are shades of one color which gets darker or lighter. This makes it suitable for quantitavie data.\n",
    "\n",
    "#### Cubehelix\n",
    "Cubehelix are special type of sequential palette which doesn't just change brightness, but also hue. This means if you print a plot generated in cubehelix in grayscale, we will still be able to distinguish in different colors. Whereas it may not happen for normal sequential palette.\n",
    "\n",
    "### Diverging\n",
    "Diverging palettes are color palettes with 2 base colors where one color fades and other color emerges. This is usefull in visualizing data where low values and high values both are important. "
   ]
  },
  {
   "cell_type": "markdown",
   "id": "c034e3dd-d0ae-4705-9bce-b1b37670efec",
   "metadata": {},
   "source": [
    "## Qualitative"
   ]
  },
  {
   "cell_type": "markdown",
   "id": "32203c1e-80f1-40be-a7e4-e376fa788d2b",
   "metadata": {},
   "source": [
    "### To see current color palette"
   ]
  },
  {
   "cell_type": "code",
   "execution_count": 7,
   "id": "e4cb88db-0b76-4e18-bdc2-2555e87dc418",
   "metadata": {},
   "outputs": [
    {
     "data": {
      "image/png": "[encoded data removed]",
      "text/plain": [
       "<Figure size 1000x100 with 1 Axes>"
      ]
     },
     "metadata": {},
     "output_type": "display_data"
    }
   ],
   "source": [
    "sns.set()\n",
    "sns.palplot(sns.color_palette())"
   ]
  },
  {
   "cell_type": "markdown",
   "id": "f13e5ad7-c16c-497b-b889-450735a0d125",
   "metadata": {},
   "source": [
    "#### See available Color palettes"
   ]
  },
  {
   "cell_type": "code",
   "execution_count": 8,
   "id": "335cc66a-1624-4a2f-a7ae-938d7743af25",
   "metadata": {},
   "outputs": [
    {
     "data": {
      "application/vnd.jupyter.widget-view+json": {
       "model_id": "014164279f0643ee9beee4091d5c2e47",
       "version_major": 2,
       "version_minor": 0
      },
      "text/plain": [
       "interactive(children=(Dropdown(description='name', options=('Set1', 'Set2', 'Set3', 'Paired', 'Accent', 'Paste…"
      ]
     },
     "metadata": {},
     "output_type": "display_data"
    },
    {
     "data": {
      "text/plain": [
       "[(0.8941176470588236, 0.10196078431372549, 0.10980392156862745),\n",
       " (0.21568627450980393, 0.49411764705882355, 0.7215686274509804),\n",
       " (0.30196078431372547, 0.6862745098039216, 0.2901960784313726),\n",
       " (0.596078431372549, 0.3058823529411765, 0.6392156862745098),\n",
       " (1.0, 0.4980392156862745, 0.0),\n",
       " (1.0, 1.0, 0.2),\n",
       " (0.6509803921568628, 0.33725490196078434, 0.1568627450980392),\n",
       " (0.9686274509803922, 0.5058823529411764, 0.7490196078431373),\n",
       " (0.6, 0.6, 0.6)]"
      ]
     },
     "execution_count": 8,
     "metadata": {},
     "output_type": "execute_result"
    }
   ],
   "source": [
    "sns.choose_colorbrewer_palette('qualitative')"
   ]
  },
  {
   "cell_type": "markdown",
   "id": "10095edd-634c-44d3-a937-bf882c499c61",
   "metadata": {},
   "source": [
    "## Sequential"
   ]
  },
  {
   "cell_type": "code",
   "execution_count": 9,
   "id": "ef3eeb65-f953-4125-b504-67d2c8a30779",
   "metadata": {},
   "outputs": [
    {
     "data": {
      "image/png": "[encoded data removed]",
      "text/plain": [
       "<Figure size 600x100 with 1 Axes>"
      ]
     },
     "metadata": {},
     "output_type": "display_data"
    }
   ],
   "source": [
    "sns.set()\n",
    "sns.palplot(sns.color_palette(\"Blues\"))"
   ]
  },
  {
   "cell_type": "code",
   "execution_count": 10,
   "id": "4b29eda8-fd4c-4f8f-bae0-c88b0f389c31",
   "metadata": {},
   "outputs": [
    {
     "data": {
      "application/vnd.jupyter.widget-view+json": {
       "model_id": "af3005f1d5f2475d81b5822801e5a6f6",
       "version_major": 2,
       "version_minor": 0
      },
      "text/plain": [
       "interactive(children=(Dropdown(description='name', options=('Greys', 'Reds', 'Greens', 'Blues', 'Oranges', 'Pu…"
      ]
     },
     "metadata": {},
     "output_type": "display_data"
    },
    {
     "data": {
      "text/plain": [
       "[(0.9575547866205305, 0.9575547866205305, 0.9575547866205305),\n",
       " (0.9012072279892349, 0.9012072279892349, 0.9012072279892349),\n",
       " (0.8328950403690888, 0.8328950403690888, 0.8328950403690888),\n",
       " (0.7502191464821223, 0.7502191464821223, 0.7502191464821223),\n",
       " (0.6434140715109573, 0.6434140715109573, 0.6434140715109573),\n",
       " (0.5387158785082661, 0.5387158785082661, 0.5387158785082661),\n",
       " (0.440322952710496, 0.440322952710496, 0.440322952710496),\n",
       " (0.342883506343714, 0.342883506343714, 0.342883506343714),\n",
       " (0.22329873125720878, 0.22329873125720878, 0.22329873125720878),\n",
       " (0.10469819300269129, 0.10469819300269129, 0.10469819300269129)]"
      ]
     },
     "execution_count": 10,
     "metadata": {},
     "output_type": "execute_result"
    }
   ],
   "source": [
    "sns.choose_colorbrewer_palette('sequential')"
   ]
  },
  {
   "cell_type": "markdown",
   "id": "1c26a1b1-340e-4c26-91c7-4f70081f800f",
   "metadata": {},
   "source": [
    "## Diverging"
   ]
  },
  {
   "cell_type": "code",
   "execution_count": 11,
   "id": "b9385296-3edb-4138-841c-f98d5ebc4acb",
   "metadata": {},
   "outputs": [
    {
     "data": {
      "image/png": "[encoded data removed]",
      "text/plain": [
       "<Figure size 600x100 with 1 Axes>"
      ]
     },
     "metadata": {},
     "output_type": "display_data"
    }
   ],
   "source": [
    "sns.set()\n",
    "sns.palplot(sns.color_palette(\"coolwarm\"))"
   ]
  },
  {
   "cell_type": "code",
   "execution_count": 12,
   "id": "91c11e76-8938-4ea8-943a-c3de0c8c98b4",
   "metadata": {},
   "outputs": [
    {
     "data": {
      "application/vnd.jupyter.widget-view+json": {
       "model_id": "90908d7cd2354fb184ca4314e90bcd3c",
       "version_major": 2,
       "version_minor": 0
      },
      "text/plain": [
       "interactive(children=(Dropdown(description='name', options=('RdBu', 'RdGy', 'PRGn', 'PiYG', 'BrBG', 'RdYlBu', …"
      ]
     },
     "metadata": {},
     "output_type": "display_data"
    },
    {
     "data": {
      "text/plain": [
       "[(0.6922722029988466, 0.09227220299884659, 0.1677047289504037),\n",
       " (0.8392156862745098, 0.3764705882352941, 0.30196078431372547),\n",
       " (0.954555940023068, 0.641753171856978, 0.5057285659361782),\n",
       " (0.9921568627450981, 0.8588235294117647, 0.7803921568627451),\n",
       " (0.9657054978854287, 0.9672433679354094, 0.9680891964628989),\n",
       " (0.8196078431372551, 0.8980392156862746, 0.9411764705882353),\n",
       " (0.5664744329104193, 0.7687043444828915, 0.8685121107266437),\n",
       " (0.2627450980392157, 0.5764705882352941, 0.7647058823529411),\n",
       " (0.12725874663590928, 0.3958477508650519, 0.6687427912341407)]"
      ]
     },
     "execution_count": 12,
     "metadata": {},
     "output_type": "execute_result"
    }
   ],
   "source": [
    "sns.choose_colorbrewer_palette('diverging')"
   ]
  },
  {
   "cell_type": "markdown",
   "id": "70945dfd-7c3d-4bf1-88f8-3b6991c01bc2",
   "metadata": {},
   "source": [
    "# Styles\n",
    "We can see all the available styles in Seaborn using `axes_style` method and can change them individually."
   ]
  },
  {
   "cell_type": "code",
   "execution_count": 13,
   "id": "3d3745a7-6fdd-4d9a-b3af-27a7a521733f",
   "metadata": {},
   "outputs": [
    {
     "data": {
      "text/plain": [
       "{'axes.facecolor': '#EAEAF2',\n",
       " 'axes.edgecolor': 'white',\n",
       " 'axes.grid': True,\n",
       " 'axes.axisbelow': True,\n",
       " 'axes.labelcolor': '.15',\n",
       " 'figure.facecolor': 'white',\n",
       " 'grid.color': 'white',\n",
       " 'grid.linestyle': '-',\n",
       " 'text.color': '.15',\n",
       " 'xtick.color': '.15',\n",
       " 'ytick.color': '.15',\n",
       " 'xtick.direction': 'out',\n",
       " 'ytick.direction': 'out',\n",
       " 'lines.solid_capstyle': <CapStyle.round: 'round'>,\n",
       " 'patch.edgecolor': 'w',\n",
       " 'patch.force_edgecolor': True,\n",
       " 'image.cmap': 'rocket',\n",
       " 'font.family': ['sans-serif'],\n",
       " 'font.sans-serif': ['Arial',\n",
       "  'DejaVu Sans',\n",
       "  'Liberation Sans',\n",
       "  'Bitstream Vera Sans',\n",
       "  'sans-serif'],\n",
       " 'xtick.bottom': False,\n",
       " 'xtick.top': False,\n",
       " 'ytick.left': False,\n",
       " 'ytick.right': False,\n",
       " 'axes.spines.left': True,\n",
       " 'axes.spines.bottom': True,\n",
       " 'axes.spines.right': True,\n",
       " 'axes.spines.top': True}"
      ]
     },
     "execution_count": 13,
     "metadata": {},
     "output_type": "execute_result"
    }
   ],
   "source": [
    "sns.axes_style()"
   ]
  },
  {
   "cell_type": "markdown",
   "id": "79c7a73b-036c-4c56-8f43-91b4a44d095c",
   "metadata": {},
   "source": [
    "### e.g."
   ]
  },
  {
   "cell_type": "code",
   "execution_count": 14,
   "id": "3ea94d66-486c-4842-8cb0-e9705e924301",
   "metadata": {},
   "outputs": [
    {
     "name": "stderr",
     "output_type": "stream",
     "text": [
      "/tmp/ipykernel_542372/361700473.py:8: UserWarning: Ignoring `palette` because no `hue` variable has been assigned.\n",
      "  sns.displot(data=data[\"Total Interactions\"], kde=True, palette='coolwarm')\n"
     ]
    },
    {
     "data": {
      "image/png": "[encoded data removed]",
      "text/plain": [
       "<Figure size 500x500 with 1 Axes>"
      ]
     },
     "metadata": {},
     "output_type": "display_data"
    }
   ],
   "source": [
    "sns.set_style('ticks', {\n",
    "    'xtick.color': 'red',\n",
    "    'ytick.color': 'green',\n",
    "    'axes.grid': True,\n",
    "    'axes.facecolor': '#99ff66',\n",
    "    'grid.linestyle': ':',\n",
    "})\n",
    "sns.displot(data=data[\"Total Interactions\"], kde=True, palette='coolwarm')\n",
    "plt.show()"
   ]
  },
  {
   "cell_type": "code",
   "execution_count": null,
   "id": "e72e8785-d57d-4e69-816a-eb1fcfdcd1ed",
   "metadata": {},
   "outputs": [],
   "source": []
  }
 ],
 "metadata": {
  "kernelspec": {
   "display_name": "Python 3 (ipykernel)",
   "language": "python",
   "name": "python3"
  },
  "language_info": {
   "codemirror_mode": {
    "name": "ipython",
    "version": 3
   },
   "file_extension": ".py",
   "mimetype": "text/x-python",
   "name": "python",
   "nbconvert_exporter": "python",
   "pygments_lexer": "ipython3",
   "version": "3.9.19"
  }
 },
 "nbformat": 4,
 "nbformat_minor": 5
}
