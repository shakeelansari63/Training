{
 "cells": [
  {
   "cell_type": "markdown",
   "id": "b8db35b9-2d6d-4d44-a630-f301d67b6759",
   "metadata": {},
   "source": [
    "## Linear Regression is technique to predict the future value based \n",
    "### In this exercise lets read home prices based on area in sq ft. and then predict some home prices"
   ]
  },
  {
   "cell_type": "markdown",
   "id": "9700d7c3-3d42-460d-8013-9799931a337b",
   "metadata": {},
   "source": [
    "## Linear Regression Formula\n",
    "### $y = mx + b$\n",
    "![Linear regression](img/lin_r.png)"
   ]
  },
  {
   "cell_type": "markdown",
   "id": "a9708b84-cbda-48df-938d-0e4276e4a8b6",
   "metadata": {},
   "source": [
    "#### Read the File"
   ]
  },
  {
   "cell_type": "code",
   "execution_count": 1,
   "id": "ffc0a540-a064-4c7e-936b-094bda8b6131",
   "metadata": {},
   "outputs": [
    {
     "data": {
      "text/html": [
       "<div>\n",
       "<style scoped>\n",
       "    .dataframe tbody tr th:only-of-type {\n",
       "        vertical-align: middle;\n",
       "    }\n",
       "\n",
       "    .dataframe tbody tr th {\n",
       "        vertical-align: top;\n",
       "    }\n",
       "\n",
       "    .dataframe thead th {\n",
       "        text-align: right;\n",
       "    }\n",
       "</style>\n",
       "<table border=\"1\" class=\"dataframe\">\n",
       "  <thead>\n",
       "    <tr style=\"text-align: right;\">\n",
       "      <th></th>\n",
       "      <th>area</th>\n",
       "      <th>price</th>\n",
       "    </tr>\n",
       "  </thead>\n",
       "  <tbody>\n",
       "    <tr>\n",
       "      <th>0</th>\n",
       "      <td>2600</td>\n",
       "      <td>550000</td>\n",
       "    </tr>\n",
       "    <tr>\n",
       "      <th>1</th>\n",
       "      <td>3000</td>\n",
       "      <td>565000</td>\n",
       "    </tr>\n",
       "    <tr>\n",
       "      <th>2</th>\n",
       "      <td>3200</td>\n",
       "      <td>610000</td>\n",
       "    </tr>\n",
       "    <tr>\n",
       "      <th>3</th>\n",
       "      <td>3600</td>\n",
       "      <td>680000</td>\n",
       "    </tr>\n",
       "    <tr>\n",
       "      <th>4</th>\n",
       "      <td>4000</td>\n",
       "      <td>725000</td>\n",
       "    </tr>\n",
       "    <tr>\n",
       "      <th>5</th>\n",
       "      <td>5000</td>\n",
       "      <td>823000</td>\n",
       "    </tr>\n",
       "    <tr>\n",
       "      <th>6</th>\n",
       "      <td>5500</td>\n",
       "      <td>890000</td>\n",
       "    </tr>\n",
       "    <tr>\n",
       "      <th>7</th>\n",
       "      <td>6000</td>\n",
       "      <td>940000</td>\n",
       "    </tr>\n",
       "    <tr>\n",
       "      <th>8</th>\n",
       "      <td>6200</td>\n",
       "      <td>970000</td>\n",
       "    </tr>\n",
       "    <tr>\n",
       "      <th>9</th>\n",
       "      <td>7000</td>\n",
       "      <td>1000000</td>\n",
       "    </tr>\n",
       "    <tr>\n",
       "      <th>10</th>\n",
       "      <td>7200</td>\n",
       "      <td>1200000</td>\n",
       "    </tr>\n",
       "    <tr>\n",
       "      <th>11</th>\n",
       "      <td>7600</td>\n",
       "      <td>1290000</td>\n",
       "    </tr>\n",
       "    <tr>\n",
       "      <th>12</th>\n",
       "      <td>8000</td>\n",
       "      <td>1320000</td>\n",
       "    </tr>\n",
       "  </tbody>\n",
       "</table>\n",
       "</div>"
      ],
      "text/plain": [
       "    area    price\n",
       "0   2600   550000\n",
       "1   3000   565000\n",
       "2   3200   610000\n",
       "3   3600   680000\n",
       "4   4000   725000\n",
       "5   5000   823000\n",
       "6   5500   890000\n",
       "7   6000   940000\n",
       "8   6200   970000\n",
       "9   7000  1000000\n",
       "10  7200  1200000\n",
       "11  7600  1290000\n",
       "12  8000  1320000"
      ]
     },
     "execution_count": 1,
     "metadata": {},
     "output_type": "execute_result"
    }
   ],
   "source": [
    "import pandas as pd\n",
    "df = pd.read_csv('homeprices.csv')\n",
    "df"
   ]
  },
  {
   "cell_type": "markdown",
   "id": "0ff57456-5d84-4a0b-9287-c993289eec22",
   "metadata": {},
   "source": [
    "#### Lets now plot this on a graph"
   ]
  },
  {
   "cell_type": "code",
   "execution_count": 2,
   "id": "09147538-dd20-4017-8074-a4bbf3e54ed5",
   "metadata": {},
   "outputs": [
    {
     "data": {
      "image/png": "[encoded data removed]",
      "text/plain": [
       "<Figure size 640x480 with 1 Axes>"
      ]
     },
     "metadata": {},
     "output_type": "display_data"
    }
   ],
   "source": [
    "%matplotlib inline\n",
    "from matplotlib import pyplot as plt\n",
    "plt.xlabel(\"Area (sq ft)\")\n",
    "plt.ylabel(\"Price (USD)\")\n",
    "plt.scatter(df.area, df.price, color=\"red\", marker=\"x\")\n",
    "plt.show()"
   ]
  },
  {
   "cell_type": "markdown",
   "id": "812bae45-975c-411c-a537-ba4de6445bb1",
   "metadata": {},
   "source": [
    "#### Now Lets Split data for Train and Test Set"
   ]
  },
  {
   "cell_type": "code",
   "execution_count": 3,
   "id": "647a4a07-799a-463b-8da1-f6890155be2a",
   "metadata": {},
   "outputs": [],
   "source": [
    "from sklearn.model_selection import train_test_split\n",
    "\n",
    "## Seperate 80% Train and 20% test\n",
    "## Here our data has only 1 column to fit feature, but we need 2d Array, so we provide it in 2d array form d[[\"area\"]]\n",
    "train_feature, tests_feature, train_label, tests_label = train_test_split(df[[\"area\"]], df.price, test_size = 0.2)"
   ]
  },
  {
   "cell_type": "markdown",
   "id": "60996b23-5155-4385-becb-108d44254d84",
   "metadata": {},
   "source": [
    "#### Now that we have seen the data, lets create Linear regression model"
   ]
  },
  {
   "cell_type": "code",
   "execution_count": 4,
   "id": "934572ad-fe8b-458f-9e15-712a2a774e04",
   "metadata": {},
   "outputs": [
    {
     "data": {
      "text/html": [
       "<style>#sk-container-id-1 {color: black;background-color: white;}#sk-container-id-1 pre{padding: 0;}#sk-container-id-1 div.sk-toggleable {background-color: white;}#sk-container-id-1 label.sk-toggleable__label {cursor: pointer;display: block;width: 100%;margin-bottom: 0;padding: 0.3em;box-sizing: border-box;text-align: center;}#sk-container-id-1 label.sk-toggleable__label-arrow:before {content: \"▸\";float: left;margin-right: 0.25em;color: #696969;}#sk-container-id-1 label.sk-toggleable__label-arrow:hover:before {color: black;}#sk-container-id-1 div.sk-estimator:hover label.sk-toggleable__label-arrow:before {color: black;}#sk-container-id-1 div.sk-toggleable__content {max-height: 0;max-width: 0;overflow: hidden;text-align: left;background-color: #f0f8ff;}#sk-container-id-1 div.sk-toggleable__content pre {margin: 0.2em;color: black;border-radius: 0.25em;background-color: #f0f8ff;}#sk-container-id-1 input.sk-toggleable__control:checked~div.sk-toggleable__content {max-height: 200px;max-width: 100%;overflow: auto;}#sk-container-id-1 input.sk-toggleable__control:checked~label.sk-toggleable__label-arrow:before {content: \"▾\";}#sk-container-id-1 div.sk-estimator input.sk-toggleable__control:checked~label.sk-toggleable__label {background-color: #d4ebff;}#sk-container-id-1 div.sk-label input.sk-toggleable__control:checked~label.sk-toggleable__label {background-color: #d4ebff;}#sk-container-id-1 input.sk-hidden--visually {border: 0;clip: rect(1px 1px 1px 1px);clip: rect(1px, 1px, 1px, 1px);height: 1px;margin: -1px;overflow: hidden;padding: 0;position: absolute;width: 1px;}#sk-container-id-1 div.sk-estimator {font-family: monospace;background-color: #f0f8ff;border: 1px dotted black;border-radius: 0.25em;box-sizing: border-box;margin-bottom: 0.5em;}#sk-container-id-1 div.sk-estimator:hover {background-color: #d4ebff;}#sk-container-id-1 div.sk-parallel-item::after {content: \"\";width: 100%;border-bottom: 1px solid gray;flex-grow: 1;}#sk-container-id-1 div.sk-label:hover label.sk-toggleable__label {background-color: #d4ebff;}#sk-container-id-1 div.sk-serial::before {content: \"\";position: absolute;border-left: 1px solid gray;box-sizing: border-box;top: 0;bottom: 0;left: 50%;z-index: 0;}#sk-container-id-1 div.sk-serial {display: flex;flex-direction: column;align-items: center;background-color: white;padding-right: 0.2em;padding-left: 0.2em;position: relative;}#sk-container-id-1 div.sk-item {position: relative;z-index: 1;}#sk-container-id-1 div.sk-parallel {display: flex;align-items: stretch;justify-content: center;background-color: white;position: relative;}#sk-container-id-1 div.sk-item::before, #sk-container-id-1 div.sk-parallel-item::before {content: \"\";position: absolute;border-left: 1px solid gray;box-sizing: border-box;top: 0;bottom: 0;left: 50%;z-index: -1;}#sk-container-id-1 div.sk-parallel-item {display: flex;flex-direction: column;z-index: 1;position: relative;background-color: white;}#sk-container-id-1 div.sk-parallel-item:first-child::after {align-self: flex-end;width: 50%;}#sk-container-id-1 div.sk-parallel-item:last-child::after {align-self: flex-start;width: 50%;}#sk-container-id-1 div.sk-parallel-item:only-child::after {width: 0;}#sk-container-id-1 div.sk-dashed-wrapped {border: 1px dashed gray;margin: 0 0.4em 0.5em 0.4em;box-sizing: border-box;padding-bottom: 0.4em;background-color: white;}#sk-container-id-1 div.sk-label label {font-family: monospace;font-weight: bold;display: inline-block;line-height: 1.2em;}#sk-container-id-1 div.sk-label-container {text-align: center;}#sk-container-id-1 div.sk-container {/* jupyter's `normalize.less` sets `[hidden] { display: none; }` but bootstrap.min.css set `[hidden] { display: none !important; }` so we also need the `!important` here to be able to override the default hidden behavior on the sphinx rendered scikit-learn.org. See: https://github.com/scikit-learn/scikit-learn/issues/21755 */display: inline-block !important;position: relative;}#sk-container-id-1 div.sk-text-repr-fallback {display: none;}</style><div id=\"sk-container-id-1\" class=\"sk-top-container\"><div class=\"sk-text-repr-fallback\"><pre>LinearRegression()</pre><b>In a Jupyter environment, please rerun this cell to show the HTML representation or trust the notebook. <br />On GitHub, the HTML representation is unable to render, please try loading this page with nbviewer.org.</b></div><div class=\"sk-container\" hidden><div class=\"sk-item\"><div class=\"sk-estimator sk-toggleable\"><input class=\"sk-toggleable__control sk-hidden--visually\" id=\"sk-estimator-id-1\" type=\"checkbox\" checked><label for=\"sk-estimator-id-1\" class=\"sk-toggleable__label sk-toggleable__label-arrow\">LinearRegression</label><div class=\"sk-toggleable__content\"><pre>LinearRegression()</pre></div></div></div></div></div>"
      ],
      "text/plain": [
       "LinearRegression()"
      ]
     },
     "execution_count": 4,
     "metadata": {},
     "output_type": "execute_result"
    }
   ],
   "source": [
    "from sklearn.linear_model import LinearRegression\n",
    "\n",
    "reg = LinearRegression()\n",
    "\n",
    "## Fit data to our model\n",
    "reg.fit(train_feature, train_label.values.ravel())"
   ]
  },
  {
   "cell_type": "markdown",
   "id": "3beda8dd-111c-43b7-a8b1-75681047d009",
   "metadata": {},
   "source": [
    "#### Lets See the parameters"
   ]
  },
  {
   "cell_type": "code",
   "execution_count": 5,
   "id": "bac573af-d9d3-4cf5-8b13-3bbc55a20462",
   "metadata": {},
   "outputs": [
    {
     "name": "stdout",
     "output_type": "stream",
     "text": [
      "Slope: 111.11126887216619, Intercept: 263077.05049931386 \n",
      "\n"
     ]
    },
    {
     "data": {
      "image/png": "[encoded data removed]",
      "text/plain": [
       "<Figure size 640x480 with 1 Axes>"
      ]
     },
     "metadata": {},
     "output_type": "display_data"
    }
   ],
   "source": [
    "from matplotlib import lines as mlines\n",
    "from matplotlib import transforms as mtransform\n",
    "\n",
    "# This is slope for model\n",
    "m = reg.coef_[0]\n",
    "\n",
    "# This is Intercept\n",
    "b = reg.intercept_\n",
    "print(f\"Slope: {m}, Intercept: {b} \\n\")\n",
    "\n",
    "\n",
    "line_start_x = df.area.min()\n",
    "line_start_y = df.area.min()* m + b\n",
    "line_end_x = df.area.max()\n",
    "line_end_y = df.area.max() * m + b\n",
    "\n",
    "plt.xlabel(\"Area (sq ft)\")\n",
    "plt.ylabel(\"Price (USD)\")\n",
    "plt.scatter(df.area, df.price, color=\"red\", marker=\"x\")\n",
    "plt.plot([line_start_x, line_end_x], [line_start_y, line_end_y], color = 'blue')\n",
    "plt.show()"
   ]
  },
  {
   "cell_type": "markdown",
   "id": "c16f37ce-b85b-4a0d-9c37-fe46e988adea",
   "metadata": {},
   "source": [
    "#### Lets Predict some Values"
   ]
  },
  {
   "cell_type": "code",
   "execution_count": 6,
   "id": "ea43ff29-6e92-4932-a3df-cf72cee60676",
   "metadata": {},
   "outputs": [
    {
     "name": "stdout",
     "output_type": "stream",
     "text": [
      "[(1063078.1863789104, 1200000), (1151967.2014766433, 1320000), (1107522.693927777, 1290000)]\n"
     ]
    }
   ],
   "source": [
    "prediction = reg.predict(tests_feature)\n",
    "actuals = tests_label.values.ravel()\n",
    "\n",
    "print(list(zip(prediction, actuals)))"
   ]
  },
  {
   "cell_type": "markdown",
   "id": "cdfe15ec-1fa8-4b73-84b3-de0099665da3",
   "metadata": {},
   "source": [
    "### Lets store the model to a file"
   ]
  },
  {
   "cell_type": "code",
   "execution_count": 7,
   "id": "fa372d63-583f-4a0a-81b2-9d157a829a42",
   "metadata": {},
   "outputs": [
    {
     "data": {
      "text/plain": [
       "['joblib/LinearRegression_Model.pkl']"
      ]
     },
     "execution_count": 7,
     "metadata": {},
     "output_type": "execute_result"
    }
   ],
   "source": [
    "import joblib\n",
    "joblib.dump(reg, 'joblib/LinearRegression_Model.pkl')"
   ]
  },
  {
   "cell_type": "markdown",
   "id": "2e7d40d0-4670-44dc-85c9-67b3499871d6",
   "metadata": {},
   "source": [
    "#### For testing, we will load the model to new variable and run prediction using new variable"
   ]
  },
  {
   "cell_type": "code",
   "execution_count": 8,
   "id": "4354e2d5-a33c-45ef-a6c3-3274d5bc8b78",
   "metadata": {},
   "outputs": [
    {
     "name": "stdout",
     "output_type": "stream",
     "text": [
      "[(1063078.1863789104, 1200000), (1151967.2014766433, 1320000), (1107522.693927777, 1290000)]\n"
     ]
    }
   ],
   "source": [
    "reg2 = joblib.load('joblib/LinearRegression_Model.pkl')\n",
    "prediction = reg2.predict(tests_feature)\n",
    "actuals = tests_label.values.ravel()\n",
    "\n",
    "print(list(zip(prediction, actuals)))"
   ]
  },
  {
   "cell_type": "code",
   "execution_count": null,
   "id": "8d201afb-ed63-429b-84bc-54093a2f9a20",
   "metadata": {},
   "outputs": [],
   "source": []
  }
 ],
 "metadata": {
  "kernelspec": {
   "display_name": "Python 3 (ipykernel)",
   "language": "python",
   "name": "python3"
  },
  "language_info": {
   "codemirror_mode": {
    "name": "ipython",
    "version": 3
   },
   "file_extension": ".py",
   "mimetype": "text/x-python",
   "name": "python",
   "nbconvert_exporter": "python",
   "pygments_lexer": "ipython3",
   "version": "3.10.10"
  }
 },
 "nbformat": 4,
 "nbformat_minor": 5
}
