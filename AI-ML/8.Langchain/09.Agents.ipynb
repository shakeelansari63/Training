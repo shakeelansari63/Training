{
 "cells": [
  {
   "cell_type": "markdown",
   "id": "923325df-4cc6-4473-adff-d5ca307b9a37",
   "metadata": {},
   "source": [
    "# Agents"
   ]
  },
  {
   "cell_type": "markdown",
   "id": "7597cd4b-1b08-4b5f-8ff2-c5d838ad5afe",
   "metadata": {},
   "source": [
    "An Agent is combination of an LLM model and some tools. The LLM act as brain of the Agent and Tools work as it's arms. "
   ]
  },
  {
   "cell_type": "code",
   "execution_count": 5,
   "id": "c3d4bec9-39c6-4afe-8267-861ae503d17b",
   "metadata": {},
   "outputs": [],
   "source": [
    "## Setup LLM which we will use\n",
    "from langchain_ollama.chat_models import ChatOllama\n",
    "llm = ChatOllama(\n",
    "    base_url = 'http://localhost:11434',\n",
    "    model = 'qwen2.5:0.5b'\n",
    ")"
   ]
  },
  {
   "cell_type": "markdown",
   "id": "38fe46c7-4b4b-48cd-80f5-a67dc4e4787a",
   "metadata": {},
   "source": [
    "### Tools\n",
    "Tools are like Python functions which can perform some action. \n",
    "  \n",
    "**Note: LLM models cannot invoke a tool and give result. It is your responsibility to call tools. LLM can onlt tell which tools to be called**"
   ]
  },
  {
   "cell_type": "code",
   "execution_count": 4,
   "id": "2f43e9b6-a073-4f5a-aebe-d2059f7418a1",
   "metadata": {},
   "outputs": [
    {
     "name": "stdout",
     "output_type": "stream",
     "text": [
      "my_first_tool.name='my_first_tool'\n",
      "my_first_tool.description='This is description of Tool. And it is mandatory so that LLM can know what is purpose of the tool'\n",
      "my_first_tool.args={'my_tool_arg': {'title': 'My Tool Arg', 'type': 'string'}}\n"
     ]
    }
   ],
   "source": [
    "### Lets try to create a simple Tool\n",
    "from langchain.tools import tool\n",
    "\n",
    "@tool\n",
    "def my_first_tool(my_tool_arg: str) -> str:\n",
    "    \"\"\"This is description of Tool. And it is mandatory so that LLM can know what is purpose of the tool\"\"\"\n",
    "    return \"Some Output\"\n",
    "\n",
    "# Lets see information about these tools\n",
    "print(f\"{my_first_tool.name=}\")\n",
    "print(f\"{my_first_tool.description=}\")\n",
    "print(f\"{my_first_tool.args=}\")"
   ]
  },
  {
   "cell_type": "markdown",
   "id": "b1c289d2-7f25-41ef-bf9a-9ee79b8b049f",
   "metadata": {},
   "source": [
    "#### Lets try to create a sample tool"
   ]
  },
  {
   "cell_type": "code",
   "execution_count": 6,
   "id": "782ab3b6-27af-42cd-b818-f05c9796cfda",
   "metadata": {},
   "outputs": [],
   "source": [
    "@tool\n",
    "def big_crypto_coin(usd: float) -> float:\n",
    "    \"This tool converts the USD value to value for cyrpto currency names BIG and returns the amount in BIG currency\"\n",
    "    return 123.56*float(usd)"
   ]
  },
  {
   "cell_type": "markdown",
   "id": "ec14d13b-e24c-4198-bf4b-8a76dd61dbb6",
   "metadata": {},
   "source": [
    "#### Lets bind the Tool with Our LLM"
   ]
  },
  {
   "cell_type": "code",
   "execution_count": 7,
   "id": "a8e07120-c85b-425c-9030-bd500c376039",
   "metadata": {},
   "outputs": [],
   "source": [
    "llm_with_crypto_tool = llm.bind_tools([big_crypto_coin])"
   ]
  },
  {
   "cell_type": "code",
   "execution_count": 10,
   "id": "fac895c2-90f0-4309-913f-6a1e2fe3ac34",
   "metadata": {},
   "outputs": [
    {
     "name": "stdout",
     "output_type": "stream",
     "text": [
      "content='' additional_kwargs={} response_metadata={'model': 'qwen2.5:0.5b', 'created_at': '2025-05-22T15:57:43.766979053Z', 'done': True, 'done_reason': 'stop', 'total_duration': 405886742, 'load_duration': 15507290, 'prompt_eval_count': 185, 'prompt_eval_duration': 24054447, 'eval_count': 25, 'eval_duration': 361269271, 'model_name': 'qwen2.5:0.5b'} id='run--0ea15f71-c9cc-4499-984a-aef7840592e0-0' tool_calls=[{'name': 'big_crypto_coin', 'args': {'usd': 12}, 'id': '3906e7d6-1ab1-42b4-8992-f1c7d0c39b09', 'type': 'tool_call'}] usage_metadata={'input_tokens': 185, 'output_tokens': 25, 'total_tokens': 210}\n"
     ]
    }
   ],
   "source": [
    "# Lets ask the question and see what we get\n",
    "result = llm_with_crypto_tool.invoke(\"How much BIG crypto can I get in 12 USD?\")\n",
    "print(result)"
   ]
  },
  {
   "cell_type": "markdown",
   "id": "4385bfeb-3eb6-4f9c-b636-67f9d3ddb625",
   "metadata": {},
   "source": [
    "As you can see, the LLM does not give us the answer. It provides a Tool call which we can use to get answer."
   ]
  },
  {
   "cell_type": "code",
   "execution_count": 12,
   "id": "558172a6-6537-4547-a618-e67f3bfe8e14",
   "metadata": {},
   "outputs": [
    {
     "data": {
      "text/plain": [
       "[{'name': 'big_crypto_coin',\n",
       "  'args': {'usd': 12},\n",
       "  'id': '3906e7d6-1ab1-42b4-8992-f1c7d0c39b09',\n",
       "  'type': 'tool_call'}]"
      ]
     },
     "execution_count": 12,
     "metadata": {},
     "output_type": "execute_result"
    }
   ],
   "source": [
    "# And LLM suggest to make this Tool call\n",
    "result.tool_calls"
   ]
  },
  {
   "cell_type": "markdown",
   "id": "ebccd611-44b7-47fd-87bb-517eb8839f5e",
   "metadata": {},
   "source": [
    "##### Lets try to make an automated way to make the tool calls. Since Tools calls is a list, we can loop over it and use the tool name and tool args to call tool"
   ]
  },
  {
   "cell_type": "code",
   "execution_count": 16,
   "id": "00945544-7fc2-47b7-a655-3327920e42b4",
   "metadata": {},
   "outputs": [
    {
     "name": "stdout",
     "output_type": "stream",
     "text": [
      "1482.72\n"
     ]
    }
   ],
   "source": [
    "# First we need a mapping of Tool name with Tool's actual function so that we can call the function\n",
    "# Followiung function can have more that 1 tool mapping, but we have only 1 right now. \n",
    "tool_map = {\n",
    "    \"big_crypto_coin\": big_crypto_coin\n",
    "}\n",
    "\n",
    "for tool_info in result.tool_calls:\n",
    "    tool = tool_map[tool_info['name']]\n",
    "    tool_arg = tool_info['args']\n",
    "\n",
    "    # Call the tool\n",
    "    output = tool.invoke(tool_arg)\n",
    "    print(output)"
   ]
  }
 ],
 "metadata": {
  "kernelspec": {
   "display_name": "Python 3 (ipykernel)",
   "language": "python",
   "name": "python3"
  },
  "language_info": {
   "codemirror_mode": {
    "name": "ipython",
    "version": 3
   },
   "file_extension": ".py",
   "mimetype": "text/x-python",
   "name": "python",
   "nbconvert_exporter": "python",
   "pygments_lexer": "ipython3",
   "version": "3.12.9"
  }
 },
 "nbformat": 4,
 "nbformat_minor": 5
}
