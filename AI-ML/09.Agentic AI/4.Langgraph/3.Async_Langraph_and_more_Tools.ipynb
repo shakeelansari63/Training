{
 "cells": [
  {
   "cell_type": "markdown",
   "metadata": {},
   "source": [
    "## Welcome to Week 4, Day 4\n",
    "\n",
    "This is the start of an AWESOME project! Really simple and very effective."
   ]
  },
  {
   "cell_type": "markdown",
   "metadata": {},
   "source": [
    "### First - a heads up for Windows PC users\n",
    "\n",
    "While executing this notebook, you might hit a problem with the Playwright browser raising a NotImplementedError.\n",
    "\n",
    "This should work when we move to python modules, but it can cause problems in Windows in a notebook.\n",
    "\n",
    "If you it this error and would like to run the notebook, you need to make a small change which seems quite hacky!\n",
    "\n",
    "1. Right click in `.venv` in the File Explorer on the left and select \"Find in folder\"\n",
    "2. Search for `asyncio.set_event_loop_policy(WindowsSelectorEventLoopPolicy())`  \n",
    "3. That code should be found in a line of code in a file called `kernelapp.py`\n",
    "4. Comment out that line of code in that file! And save the file.\n",
    "5. Restart the kernel by pressing the \"Restart\" button above\n",
    "\n",
    "Thank you to student Nicolas for finding this, and to Yaki, Zibin and Bhaskar for confirming that this worked for them!"
   ]
  },
  {
   "cell_type": "code",
   "execution_count": 1,
   "metadata": {},
   "outputs": [],
   "source": [
    "from typing import Annotated\n",
    "from typing_extensions import TypedDict\n",
    "from langgraph.graph import StateGraph, START\n",
    "from langgraph.graph.message import add_messages\n",
    "from dotenv import load_dotenv\n",
    "from IPython.display import Image, display\n",
    "import gradio as gr\n",
    "from langgraph.prebuilt import ToolNode, tools_condition\n",
    "from langchain.agents import Tool\n",
    "from langchain_openai import ChatOpenAI\n",
    "from langgraph.checkpoint.memory import MemorySaver"
   ]
  },
  {
   "cell_type": "code",
   "execution_count": 2,
   "metadata": {},
   "outputs": [
    {
     "data": {
      "text/plain": [
       "True"
      ]
     },
     "execution_count": 2,
     "metadata": {},
     "output_type": "execute_result"
    }
   ],
   "source": [
    "load_dotenv(override=True)"
   ]
  },
  {
   "cell_type": "markdown",
   "metadata": {},
   "source": [
    "### Asynchronous LangGraph\n",
    "\n",
    "To run a tool:  \n",
    "Sync: `tool.run(inputs)`  \n",
    "Async: `await tool.arun(inputs)`\n",
    "\n",
    "To invoke the graph:  \n",
    "Sync: `graph.invoke(state)`  \n",
    "Async: `await graph.ainvoke(state)`"
   ]
  },
  {
   "cell_type": "code",
   "execution_count": 3,
   "metadata": {},
   "outputs": [],
   "source": [
    "class State(TypedDict):\n",
    "    messages: Annotated[list, add_messages]\n",
    "\n",
    "\n",
    "graph_builder = StateGraph(State)"
   ]
  },
  {
   "cell_type": "code",
   "execution_count": 4,
   "metadata": {},
   "outputs": [],
   "source": [
    "def push(text: str):\n",
    "    \"\"\"Send a push notification to the user\"\"\"\n",
    "    print(f\"Sent NOtification Message '{text}'\")\n",
    "    return {\"success\": True}\n",
    "\n",
    "tool_push = Tool(\n",
    "        name=\"send_push_notification\",\n",
    "        func=push,\n",
    "        description=\"useful for when you want to send a push notification\"\n",
    "    )"
   ]
  },
  {
   "cell_type": "markdown",
   "metadata": {},
   "source": [
    "### Next: Install Playwright\n",
    "\n",
    "On Windows and MacOS:  \n",
    "`playwright install`\n",
    "\n",
    "On Linux:  \n",
    "`playwright install —with-reps chromium`"
   ]
  },
  {
   "cell_type": "code",
   "execution_count": 5,
   "metadata": {},
   "outputs": [
    {
     "name": "stdout",
     "output_type": "stream",
     "text": [
      "\n",
      "  \u001b[m\u001b[1m\u001b[32m  █████\u001b[m\u001b[1m\u001b[31m▒██▀███ \u001b[m\u001b[1m\u001b[33m ▓█████ \u001b[m\u001b[1m\u001b[36m▄▄▄  \u001b[m\u001b[1m\u001b[35m     ██ ▄█▀    \u001b[m\u001b[1m\u001b[32m Hostname: Freak-PC \u001b[m\n",
      "  \u001b[m\u001b[1m\u001b[32m▓██   \u001b[m\u001b[1m\u001b[31m▒▓██ ▒ ██\u001b[m\u001b[1m\u001b[33m▒▓█   ▀\u001b[m\u001b[1m\u001b[36m▒████▄   \u001b[m\u001b[1m\u001b[35m  ██▄█▒     \u001b[m\n",
      "  \u001b[m\u001b[1m\u001b[32m▒████ \u001b[m\u001b[1m\u001b[31m░▓██ ░▄█\u001b[m\u001b[1m\u001b[33m ▒▒███  \u001b[m\u001b[1m\u001b[36m▒██  ▀█▄ \u001b[m\u001b[1m\u001b[35m ▓███▄░     \u001b[m\u001b[1m\u001b[31m OS: EndeavourOS \u001b[m\n",
      "  \u001b[m\u001b[1m\u001b[32m░▓█▒  \u001b[m\u001b[1m\u001b[31m░▒██▀▀█▄\u001b[m\u001b[1m\u001b[33m  ▒▓█  ▄\u001b[m\u001b[1m\u001b[36m░██▄▄▄▄██ \u001b[m\u001b[1m\u001b[35m▓██ █▄     \u001b[m\n",
      "  \u001b[m\u001b[1m\u001b[32m░▒█░ \u001b[m\u001b[1m\u001b[31m  ░██▓ ▒██▒\u001b[m\u001b[1m\u001b[33m░▒████\u001b[m\u001b[1m\u001b[36m▒▓█   ▓██\u001b[m\u001b[1m\u001b[35m▒▒██▒ █▄    \u001b[m\u001b[1m\u001b[33m User: Freak \u001b[m\n",
      "  \u001b[m\u001b[1m\u001b[32m▒ ░   \u001b[m\u001b[1m\u001b[31m░ ▒▓ ░▒▓░░\u001b[m\u001b[1m\u001b[33m░ ▒░ ░\u001b[m\u001b[1m\u001b[36m▒▒   ▓▒█░\u001b[m\u001b[1m\u001b[35m▒ ▒▒ ▓▒     \u001b[m\n",
      "  \u001b[m\u001b[1m\u001b[32m ░       \u001b[m\u001b[1m\u001b[31m░▒ ░ ▒░ \u001b[m\u001b[1m\u001b[33m░ ░  \u001b[m\u001b[1m\u001b[36m░ ▒   ▒▒ \u001b[m\u001b[1m\u001b[35m░░ ░▒ ▒░    \u001b[m\u001b[1m\u001b[36m Date: 14 June 2025 \u001b[m\n",
      "  \u001b[m\u001b[1m\u001b[32m ░ ░    \u001b[m\u001b[1m\u001b[31m ░░   ░    \u001b[m\u001b[1m\u001b[33m░    \u001b[m\u001b[1m\u001b[36m░   ▒   \u001b[m\u001b[1m\u001b[35m░ ░░ ░     \u001b[m\n",
      "  \u001b[m\u001b[1m\u001b[32m        \u001b[m\u001b[1m\u001b[31m  ░        \u001b[m\u001b[1m\u001b[33m░  \u001b[m\u001b[1m\u001b[36m░     ░  \u001b[m\u001b[1m\u001b[35m░░  ░       \u001b[m\n",
      "\n",
      "BEWARE: your OS is not officially supported by Playwright; downloading fallback build for ubuntu20.04-x64.\n",
      "BEWARE: your OS is not officially supported by Playwright; downloading fallback build for ubuntu20.04-x64.\n",
      "BEWARE: your OS is not officially supported by Playwright; downloading fallback build for ubuntu20.04-x64.\n"
     ]
    }
   ],
   "source": [
    "!playwright install chromium"
   ]
  },
  {
   "cell_type": "markdown",
   "metadata": {},
   "source": [
    "### Introducing nest_asyncio\n",
    "\n",
    "Python async code only allows for one \"event loop\" processing aynchronous events.\n",
    "\n",
    "The `nest_asyncio` library patches this, and is used for special situations, if you need to run a nested event loop.\n",
    "\n"
   ]
  },
  {
   "cell_type": "code",
   "execution_count": 6,
   "metadata": {},
   "outputs": [],
   "source": [
    "import nest_asyncio\n",
    "nest_asyncio.apply()"
   ]
  },
  {
   "cell_type": "markdown",
   "metadata": {},
   "source": [
    "### The LangChain community\n",
    "\n",
    "One of the remarkable things about LangChain is the rich community around it.\n",
    "\n",
    "Check this out:\n"
   ]
  },
  {
   "cell_type": "code",
   "execution_count": 7,
   "metadata": {},
   "outputs": [],
   "source": [
    "from langchain_community.agent_toolkits import PlayWrightBrowserToolkit\n",
    "from langchain_community.tools.playwright.utils import create_async_playwright_browser\n",
    "\n",
    "async_browser =  create_async_playwright_browser(headless=False)  # headful mode\n",
    "toolkit = PlayWrightBrowserToolkit.from_browser(async_browser=async_browser)\n",
    "tools = toolkit.get_tools()"
   ]
  },
  {
   "cell_type": "code",
   "execution_count": 8,
   "metadata": {},
   "outputs": [
    {
     "name": "stdout",
     "output_type": "stream",
     "text": [
      "click_element=async_browser=<Browser type=<BrowserType name=chromium executable_path=/home/freak/.cache/ms-playwright/chromium-1169/chrome-linux/chrome> version=136.0.7103.25>\n",
      "navigate_browser=async_browser=<Browser type=<BrowserType name=chromium executable_path=/home/freak/.cache/ms-playwright/chromium-1169/chrome-linux/chrome> version=136.0.7103.25>\n",
      "previous_webpage=async_browser=<Browser type=<BrowserType name=chromium executable_path=/home/freak/.cache/ms-playwright/chromium-1169/chrome-linux/chrome> version=136.0.7103.25>\n",
      "extract_text=async_browser=<Browser type=<BrowserType name=chromium executable_path=/home/freak/.cache/ms-playwright/chromium-1169/chrome-linux/chrome> version=136.0.7103.25>\n",
      "extract_hyperlinks=async_browser=<Browser type=<BrowserType name=chromium executable_path=/home/freak/.cache/ms-playwright/chromium-1169/chrome-linux/chrome> version=136.0.7103.25>\n",
      "get_elements=async_browser=<Browser type=<BrowserType name=chromium executable_path=/home/freak/.cache/ms-playwright/chromium-1169/chrome-linux/chrome> version=136.0.7103.25>\n",
      "current_webpage=async_browser=<Browser type=<BrowserType name=chromium executable_path=/home/freak/.cache/ms-playwright/chromium-1169/chrome-linux/chrome> version=136.0.7103.25>\n"
     ]
    }
   ],
   "source": [
    "for tool in tools:\n",
    "    print(f\"{tool.name}={tool}\")"
   ]
  },
  {
   "cell_type": "code",
   "execution_count": 12,
   "metadata": {},
   "outputs": [],
   "source": [
    "tool_dict = {tool.name:tool for tool in tools}\n",
    "\n",
    "navigate_tool = tool_dict.get(\"navigate_browser\")\n",
    "extract_text_tool = tool_dict.get(\"extract_text\")\n",
    "\n",
    "    \n",
    "await navigate_tool.arun({\"url\": \"https://www.cnn.com\", \"timeout\": 300})\n",
    "text = await extract_text_tool.arun({})"
   ]
  },
  {
   "cell_type": "code",
   "execution_count": null,
   "metadata": {},
   "outputs": [
    {
     "name": "stdout",
     "output_type": "stream",
     "text": [
      "Breaking News, Latest News and Videos | CNN CNN values your feedback\n",
      "1. How relevant is this ad to you? 2. Did you encounter any technical\n",
      "issues? No Video player was slow to load content Video content never\n",
      "loaded Ad froze or did not finish loading Video content did not start\n",
      "after ad Audio on ad was too loud Other issues Ad never loaded Ad\n",
      "prevented/slowed the page from loading Content moved around while ad\n",
      "loaded Ad was repetitive to ads I've seen previously Other issues\n",
      "Cancel Submit Thank You! Your effort and contribution in providing\n",
      "this feedback is much\n",
      "appreciated. Close Ad Feedback Close icon US World Politics Business\n",
      "Health Entertainment Style Travel Sports Science Climate Weather\n",
      "Ukraine-Russia War Israel-Hamas War Games More US World Politics\n",
      "Business Health Entertainment Style Travel Sports Science Climate\n",
      "Weather Ukraine-Russia War Israel-Hamas War Games Watch Listen Live TV\n",
      "Subscribe Sign in My Account Settings Newsletters Topics you follow\n",
      "Sign out Your CNN account Sign in to your CNN account Sign in My\n",
      "Account Settings Newsletters Topics you follow Sign out Your CNN\n",
      "account Sign in to your CNN account Live TV Listen Watch Edition US\n",
      "International Arabic Español Edition US International Arabic Español\n",
      "World Africa Americas Asia Australia China Europe India Middle East\n",
      "United Kingdom US Politics Trump Facts First CNN Polls 2025 Elections\n",
      "Business Tech Media Calculators Videos Markets Pre-markets After-Hours\n",
      "Fear & Greed Investing Markets Now Nightcap Health Life, But Better\n",
      "Fitness Food Sleep Mindfulness Relationships Entertainment Movies\n",
      "Television Celebrity Tech Innovate Foreseeable Future Mission: Ahead\n",
      "Work Transformed Innovative Cities Style Arts Design Fashion\n",
      "Architecture Luxury Beauty Video Travel Destinations Food & Drink Stay\n",
      "News Videos Sports Football Tennis Golf Motorsport US Sports Olympics\n",
      "Climbing Esports Hockey Science Space Life Unearthed Climate Solutions\n",
      "Weather Weather Video Climate Ukraine-Russia War Israel-Hamas War\n",
      "Features As Equals Call to Earth Freedom Project Impact Your World\n",
      "Inside Africa CNN Heroes Watch Live TV CNN Fast Shows A-Z CNN10 CNN\n",
      "Max CNN TV Schedules Listen CNN 5 Things Chasing Life with Dr. Sanjay\n",
      "Gupta The Assignment with Audie Cornish One Thing Tug of War CNN\n",
      "Political Briefing The Axe Files All There Is with Anderson Cooper All\n",
      "CNN Audio podcasts Games Daily Crossword Jumble Crossword Sudoblock\n",
      "Sudoku 5 Things Quiz About CNN Photos Investigations CNN Profiles CNN\n",
      "Leadership CNN Newsletters Work for CNN Follow CNN Watch CNN Iran and\n",
      "Israel exchange strikes as conflict escalates Iran-Israel conflict US\n",
      "Steel-Nippon Steel partnership Air India’s black boxes Schwarzenegger\n",
      "on ICE raids Wes Anderson First millennial saint 688-year-old murder\n",
      "case Israel warns 'Tehran will burn' if Iranian strikes continue Live\n",
      "Updates 1 min ago Israeli security forces inspect destroyed\n",
      "residential buildings that were hit by a missile fired from Iran, in\n",
      "Ramat Gan, near Tel Aviv, Israel, on Saturday, June 14, 2025. (AP\n",
      "Photo/Ariel Schalit) Ariel Schalit/AP Explosions heard over Jerusalem\n",
      "as Israel and Iran trade deadly missile attacks 1 min ago Israel warns\n",
      "there's more to come after fresh wave of missile strikes. Here's what\n",
      "to know 40 min ago “An eye for an eye.” Tehran residents express anger\n",
      "after deadly Israeli strikes 1 hr 49 min ago Israel killed nine\n",
      "Iranian nuclear experts, military says 2 hr 11 min ago Iran Taekwondo\n",
      "Federation says three members killed in Israeli strike, including a\n",
      "teenager 2 hr 21 min ago New round of Israeli strikes target several\n",
      "Iranian provinces, Iranian media reports 2 hr 26 min ago Iran’s atomic\n",
      "energy agency says damage to nuclear facilities in Fordow and Isfahan\n",
      "is limited 2 hr 39 min ago Iran’s airspace closed until Sunday,\n",
      "aviation authority says 2 hr 21 min ago Israeli defense minister says\n",
      "‘Tehran will burn’ if attacks continue 3 hr 26 min ago Two rockets\n",
      "launched from Gaza towards Israel hit open land 2 hr 16 min ago Sixty\n",
      "people, including 20 children, killed after Israeli strike on\n",
      "residential building in Tehran, state media reporter says 3 hr 19 min\n",
      "ago Israel to resume airstrikes on Tehran, military chief says 4 hr 10\n",
      "min ago No damage to runways and main buildings at Tehran’s domestic\n",
      "airport, state media says 4 hr 56 min ago Two civilians injured in\n",
      "Jordan from a falling “explosive object,” official media says 4 hr 57\n",
      "min ago Iran’s foreign ministry says still unclear whether negotiators\n",
      "will attend Sunday talks with US 5 hr 10 min ago Three Palestinian\n",
      "children wounded in occupied West Bank by fallen missile from Yemen,\n",
      "Israel says 5 hr 30 min ago Iran shot down Israeli drones on northern\n",
      "Salmas border, its state media claims 5 hr 32 min ago Israel says it\n",
      "carried out a wave of strikes on Tehran overnight 5 hr 49 min ago\n",
      "Search efforts continue after deadly strike near Israeli residential\n",
      "area, authorities say 5 hr 46 min ago Video captures moment missile\n",
      "strikes near key military facility in Tel Aviv 6 hr 23 min ago US\n",
      "ambassador to Israel headed to shelter five times overnight, he says 6\n",
      "hr 28 min ago In pictures: Missile damage across Israel 7 hr ago\n",
      "Iranian drones heading for Israel, IDF says 7 hr 2 min ago Death toll\n",
      "from Iranian strikes on Israel rises to three 6 hr 32 min ago New wave\n",
      "of Iranian missiles as morning breaks in Tel Aviv and Tehran. Here’s\n",
      "what to know 7 hr 33 min ago One dead and more than 20 wounded after\n",
      "missile hits central Israel 8 hr 9 min ago CNN team in southern Israel\n",
      "observes smoking rocket downed during latest assault from Iran 8 hr 9\n",
      "min ago Explosions heard over Jerusalem amid new wave of Iranian\n",
      "missiles 8 hr 9 min ago Rare footage released by Israeli spy agency\n",
      "Mossad unveils the sophisticated intelligence operation in Iran 8 hr\n",
      "10 min ago What to know about the Iranian leaders killed in Israeli\n",
      "strikes 8 hr 10 min ago How Israel’s campaign to wipe out Iran’s\n",
      "nuclear program unfolded 8 hr 10 min ago What you need to know about\n",
      "Iran’s nuclear program 8 hr 10 min ago Iran-Israel strikes add\n",
      "uncertainty to US effort to reach a nuclear deal with Tehran See all\n",
      "updates ( 32 +) • Analysis Analysis Majid Asgaripour/WANA/Reuters What\n",
      "Israel’s kitchen-sink operation against Iran tells us so far •\n",
      "Analysis 2:25 CNN Why Israel attacked Iran at this time 2:25 • Live\n",
      "Updates Live Updates Getty Images/Reuters Live Updates Iran and Israel\n",
      "traded deadly missile attacks overnight as Netanyahu says 'more is on\n",
      "the way' Iran was a ‘playground’ for Israeli spy agency Mossad ahead\n",
      "of unprecedented attack ‘We fight or we die’: How days of frantic\n",
      "diplomacy and dire warnings culminated with Israel’s attack on Iran\n",
      "Israel hit Iran’s nuclear program – and Iran hit back. Here’s what we\n",
      "know • CNN Investigates CNN Investigates Majid Saeedi/Getty Images CNN\n",
      "Investigates How Israel’s campaign to wipe out Iran’s nuclear program\n",
      "unfolded Getty Images Three of Iran’s most powerful men were killed in\n",
      "Israel’s attack CNN Everything you need to know about Iran’s nuclear\n",
      "program • Video 0:30 CNN CNN reporter encounters downed projectile in\n",
      "Israel 0:30 • Video 1:02 Reuters Watch footage of strikes exchanged\n",
      "overnight in Israel and Iran 1:02 • Video 1:59 Mossad` Israel’s spy\n",
      "agency shows how they attacked Iran from within 1:59 Ad Feedback MORE\n",
      "TOP STORIES • Live Updates Live Updates Leah Millis/Reuters Live\n",
      "Updates Protests planned nationwide ahead of Trump’s military parade\n",
      "On his 79th birthday, President Trump is getting a military parade –\n",
      "and millions of expected protesters These are the key witnesses who\n",
      "testified against Sean ‘Diddy’ Combs so far Black boxes will give\n",
      "investigators more certainty of what happened on Air India flight,\n",
      "experts say Google, Meta and Snap think this tech is the next big\n",
      "thing Video ‘We will kill you’: Florida sheriff issues stern warning\n",
      "to protestors 0:33 Featured Charly Triballeau/AFP/Getty Images Shacks!\n",
      "Rats! Regulations! New York City’s outdoor dining scene has been on a\n",
      "wild ride FIFA Club World Cup: What to know as the most revolutionary\n",
      "soccer tournament of this century kicks off ‘You look hot,’ she told\n",
      "the Italian stranger. For both of them, it was love at first sight As\n",
      "the US Army celebrates its 250th birthday, officials say the\n",
      "military’s apolitical nature is at risk Are luxury brands still worth\n",
      "the price? Ad Feedback Amit Dave/Reuters India launches inspection of\n",
      "Boeing 787s after Air India crash Jun 14, 2025 CNN ‘Luigi the Musical’\n",
      "creators say the play is not what you expect Jun 14, 2025 Getty Images\n",
      "David Beckham, Gary Oldman and Roger Daltrey knighted in King’s\n",
      "Birthday Honours Jun 13, 2025 CNN Video Kanye West makes brief\n",
      "appearance at Diddy trial courthouse 0:28 Jun 13, 2025 Ad Feedback\n",
      "Play Catch up on today's global news - Source: CNN Video Catch up on\n",
      "today’s news Branden Eastwood/AFP/Getty Images/File US Steel and\n",
      "Nippon Steel say Trump has approved their partnership Jun 14, 2025\n",
      "Cassia Davis/J. Paul Getty Trust Painting damaged by the Beirut blast\n",
      "has been restored — and credited to one of the most famous female\n",
      "artists in history Jun 12, 2025 Dan Campisi / CNN Video Japan has more\n",
      "7-Eleven stores than anywhere, and we sat in on their epic snack-\n",
      "making process 1:49 Jun 11, 2025 Mario Anzuoni/Reuters Cosmetic\n",
      "surgery is no longer a secret. Stars are sharing new looks and\n",
      "shouting out their surgeons Gregory Shamus/Getty Images Fever dream:\n",
      "Caitlin Clark and her teammates are still shocked – and inspired – by\n",
      "the circus following their team World History Archive/Alamy Stock\n",
      "Photo Reopening a 688-year-old murder case reveals tangled web of\n",
      "adultery and extortion in England Scott A Garfitt/Invision/AP Wes\n",
      "Anderson on the secrets and struggles behind his impeccably stylish\n",
      "men Simone Padovani/Awakening/Getty Images This prominent historian\n",
      "says we need 'moral ambition' to fight tyranny and help the poor\n",
      "Patrick Smith/Getty Images Sam Burns is playing free at Oakmont’s\n",
      "treacherous course. It’s put him atop the US Open leaderboard going\n",
      "into the weekend Francois Nel/FIFA/Getty Images Meet the amateur New\n",
      "Zealand team aiming to topple soccer’s biggest names at the FIFA Club\n",
      "World Cup Ad Feedback Featured Sections Space and science Bryce Van\n",
      "Laanen/Northeastern University Glow-in-the-dark axolotls reveal a clue\n",
      "in the mystery of limb regeneration ‘Dragon prince’ dinosaur discovery\n",
      "is changing how scientists understand T. rex 6,000-year-old skeletons\n",
      "found in Colombia have unique DNA Accidental find in planetarium show\n",
      "could shift scientists’ understanding of our solar system Global\n",
      "Travel Show all Roger Bamber/Alamy Stock Photo British pubs have their\n",
      "own set of rules. Here’s what you need to know 25 of the world’s best\n",
      "sandwiches ‘It was a form of healing’: How traveling to every country\n",
      "helped this American cope with a mental health disorder Once home to\n",
      "the CIA, this tiny Southeast Asia runway was considered ‘the most\n",
      "secret place on Earth’ Ad Feedback Global Business Branden\n",
      "Eastwood/AFP/Getty Images/File US Steel and Nippon Steel say Trump has\n",
      "approved their partnership Oil prices surge and stocks drop after\n",
      "Israel attacks Iran America’s migrant workers are terrified to work\n",
      "but unable to stay home Analysis Musk fires up the robotaxi hype\n",
      "machine as his MAGA spotlight dims Style • Look of the Week Look of\n",
      "the Week Neil Mockford/GC Images/Getty Images Look of the Week Haim\n",
      "sisters make the case for the return of the skinny jean At $3,000 a\n",
      "night, luxury farm resorts are the next glamorous getaway A family\n",
      "thought the sculpture on their piano was a ‘fake’ Rodin. Now it’s sold\n",
      "for nearly $1 million What if your house changed color with the\n",
      "seasons? This ‘climate-responsive’ paint could make it happen SPORT\n",
      "Show all Ross Kinnaird/Getty Images ‘This course is too tough for me’:\n",
      "Why Oakmont is so hard for the world’s best golfers Meet the amateur\n",
      "New Zealand team aiming to topple soccer’s biggest names at the FIFA\n",
      "Club World Cup Australian Olympic dressage rider suspended after video\n",
      "appears to show him repeatedly whipping horse Ad Feedback US Politics\n",
      "Reba Saldanha/AP Federal judge blocks Trump executive order that\n",
      "requires proof of US citizenship to vote and limits mail-in ballots\n",
      "Analysis Americans aren’t yet sure what to make of Trump’s immigration\n",
      "crackdown DHS posted an image calling for help locating ‘all foreign\n",
      "invaders.’ It was previously circulated by far-right accounts Shouts\n",
      "of ‘felon’ and ‘we love you’: Inside Trump’s charged visit to the\n",
      "Kennedy Center health and wellness AndreyPopov/iStockphoto/Getty\n",
      "Images/File Feeling antsy in your legs at bedtime? This condition may\n",
      "be to blame Humans aren’t built to remember everything. 5 tips to\n",
      "remember the important stuff New to the ‘Dirty Dozen’ list:\n",
      "Blackberries and potatoes Want to live to a healthy old age? Here’s\n",
      "what a top doctor does based on hard science Tech Drew Angerer/Getty\n",
      "Images Disney and Universal team up to sue AI photo generator\n",
      "Midjourney, claiming copyright infringement Meta sues maker of\n",
      "explicit deepfake app for dodging its rules to advertise AI\n",
      "‘nudifying’ tech Nintendo Switch 2 sales set a record in four days\n",
      "Mark Zuckerberg is reportedly recruiting a team to build a\n",
      "‘superintelligence’ Photos You Should See • Gallery Gallery David\n",
      "Swanson/Reuters Gallery The week in 38 photos • Gallery Gallery Ariel\n",
      "Schalit/AP Gallery In pictures: The escalating conflict between Israel\n",
      "and Iran • Gallery Gallery Gina Ferazzi/Los Angeles Times/Getty Images\n",
      "Gallery In pictures: Protests in LA after immigration raids • Gallery\n",
      "Gallery John Atashian/Getty Images Gallery People we’ve lost in 2025 •\n",
      "Gallery Gallery Adnan Abidi/Reuters Gallery In pictures: Passenger\n",
      "plane crashes in India • Gallery Gallery Lisa Michele Burns Gallery\n",
      "Australia’s most jaw-dropping landscapes Ad Feedback In Case You\n",
      "Missed It Getty Images Justin Baldoni and Blake Lively’s legal fight\n",
      "isn’t over Analysis What exactly does Donald Trump think the federal\n",
      "government is supposed to do? Rare earths shortage could cause\n",
      "pandemic-era disruptions, experts say Sports betting is legal and\n",
      "growing more popular. Harassment of athletes by angry gamblers is\n",
      "rising too Brother of AG Pam Bondi and a former Ed Martin aide lose\n",
      "their bids to take over DC Bar London’s newest and most exclusive\n",
      "hotel penthouses start at $50,000 a night Heavyweight boxing champion\n",
      "Usyk pleads with Trump, inviting him to spend a week in Ukraine: ‘Open\n",
      "your eyes, help my people’ Satellite images show damaged North Korean\n",
      "warship moved to drydock near Russian border Subscribe Sign in My\n",
      "Account Settings Newsletters Topics you follow Sign out Your CNN\n",
      "account Sign in to your CNN account Live TV Listen Watch World Africa\n",
      "Americas Asia Australia China Europe India Middle East United Kingdom\n",
      "US Politics Trump Facts First CNN Polls 2025 Elections Business Tech\n",
      "Media Calculators Videos Markets Pre-markets After-Hours Fear & Greed\n",
      "Investing Markets Now Nightcap Health Life, But Better Fitness Food\n",
      "Sleep Mindfulness Relationships Entertainment Movies Television\n",
      "Celebrity Tech Innovate Foreseeable Future Mission: Ahead Work\n",
      "Transformed Innovative Cities Style Arts Design Fashion Architecture\n",
      "Luxury Beauty Video Travel Destinations Food & Drink Stay News Videos\n",
      "Sports Football Tennis Golf Motorsport US Sports Olympics Climbing\n",
      "Esports Hockey Science Space Life Unearthed Climate Solutions Weather\n",
      "Weather Video Climate Ukraine-Russia War Israel-Hamas War Features As\n",
      "Equals Call to Earth Freedom Project Impact Your World Inside Africa\n",
      "CNN Heroes Watch Live TV CNN Fast Shows A-Z CNN10 CNN Max CNN TV\n",
      "Schedules Listen CNN 5 Things Chasing Life with Dr. Sanjay Gupta The\n",
      "Assignment with Audie Cornish One Thing Tug of War CNN Political\n",
      "Briefing The Axe Files All There Is with Anderson Cooper All CNN Audio\n",
      "podcasts Games Daily Crossword Jumble Crossword Sudoblock Sudoku 5\n",
      "Things Quiz About CNN Photos Investigations CNN Profiles CNN\n",
      "Leadership CNN Newsletters Work for CNN Watch Listen Live TV Follow\n",
      "CNN Subscribe Sign in My Account Settings Newsletters Topics you\n",
      "follow Sign out Your CNN account Sign in to your CNN account Terms of\n",
      "Use Privacy Policy Cookie Settings Ad Choices Accessibility & CC About\n",
      "Newsletters Transcripts © 2025 Cable News Network. A Warner Bros.\n",
      "Discovery Company. All Rights Reserved. CNN Sans ™ & © 2016 Cable News\n",
      "Network. Privacy Policy For privacy options, please see our privacy\n",
      "policy: https://www.cnn.com/privacy . Back Button Cookie List Search\n",
      "Icon Filter Icon Clear checkbox label label Apply Cancel Consent\n",
      "Leg.Interest checkbox label label checkbox label label checkbox label\n",
      "label Close\n"
     ]
    }
   ],
   "source": [
    "import textwrap\n",
    "print(textwrap.fill(text))"
   ]
  },
  {
   "cell_type": "code",
   "execution_count": 13,
   "metadata": {},
   "outputs": [],
   "source": [
    "all_tools = tools + [tool_push]"
   ]
  },
  {
   "cell_type": "code",
   "execution_count": 14,
   "metadata": {},
   "outputs": [],
   "source": [
    "\n",
    "llm = ChatOpenAI(base_url=\"http://localhost:11434/v1\", model=\"llama3.2:1b\", api_key=\"ollama\")\n",
    "llm_with_tools = llm.bind_tools(all_tools)\n",
    "\n",
    "\n",
    "def chatbot(state: State):\n",
    "    return {\"messages\": [llm_with_tools.invoke(state[\"messages\"])]}\n"
   ]
  },
  {
   "cell_type": "code",
   "execution_count": 15,
   "metadata": {},
   "outputs": [
    {
     "data": {
      "image/png": "[encoded data removed]",
      "text/plain": [
       "<IPython.core.display.Image object>"
      ]
     },
     "metadata": {},
     "output_type": "display_data"
    }
   ],
   "source": [
    "\n",
    "graph_builder = StateGraph(State)\n",
    "graph_builder.add_node(\"chatbot\", chatbot)\n",
    "graph_builder.add_node(\"tools\", ToolNode(tools=all_tools))\n",
    "graph_builder.add_conditional_edges( \"chatbot\", tools_condition, \"tools\")\n",
    "graph_builder.add_edge(\"tools\", \"chatbot\")\n",
    "graph_builder.add_edge(START, \"chatbot\")\n",
    "\n",
    "memory = MemorySaver()\n",
    "graph = graph_builder.compile(checkpointer=memory)\n",
    "display(Image(graph.get_graph().draw_mermaid_png()))"
   ]
  },
  {
   "cell_type": "code",
   "execution_count": 16,
   "metadata": {},
   "outputs": [
    {
     "name": "stderr",
     "output_type": "stream",
     "text": [
      "Exception in thread Thread-8 (run):\n",
      "Traceback (most recent call last):\n",
      "  File \"/home/freak/Freak/Dev/Uv/Python/cpython-3.12.9-linux-x86_64-gnu/lib/python3.12/threading.py\", line 1075, in _bootstrap_inner\n",
      "    self.run()\n",
      "  File \"/home/freak/Trainings/AI-ML/09.Agentic AI/.venv/lib/python3.12/site-packages/ipykernel/ipkernel.py\", line 766, in run_closure\n",
      "    _threading_Thread_run(self)\n",
      "  File \"/home/freak/Freak/Dev/Uv/Python/cpython-3.12.9-linux-x86_64-gnu/lib/python3.12/threading.py\", line 1012, in run\n",
      "    self._target(*self._args, **self._kwargs)\n",
      "  File \"/home/freak/Trainings/AI-ML/09.Agentic AI/.venv/lib/python3.12/site-packages/uvicorn/server.py\", line 66, in run\n",
      "    return asyncio.run(self.serve(sockets=sockets))\n",
      "           ^^^^^^^^^^^^^^^^^^^^^^^^^^^^^^^^^^^^^^^^\n",
      "  File \"/home/freak/Trainings/AI-ML/09.Agentic AI/.venv/lib/python3.12/site-packages/nest_asyncio.py\", line 26, in run\n",
      "    loop = asyncio.get_event_loop()\n",
      "           ^^^^^^^^^^^^^^^^^^^^^^^^\n",
      "  File \"/home/freak/Trainings/AI-ML/09.Agentic AI/.venv/lib/python3.12/site-packages/nest_asyncio.py\", line 40, in _get_event_loop\n",
      "    loop = events.get_event_loop_policy().get_event_loop()\n",
      "           ^^^^^^^^^^^^^^^^^^^^^^^^^^^^^^^^^^^^^^^^^^^^^^^\n",
      "  File \"/home/freak/Freak/Dev/Uv/Python/cpython-3.12.9-linux-x86_64-gnu/lib/python3.12/asyncio/events.py\", line 702, in get_event_loop\n",
      "    raise RuntimeError('There is no current event loop in thread %r.'\n",
      "RuntimeError: There is no current event loop in thread 'Thread-8 (run)'.\n",
      "/home/freak/Freak/Dev/Uv/Python/cpython-3.12.9-linux-x86_64-gnu/lib/python3.12/threading.py:1077: RuntimeWarning: coroutine 'Server.serve' was never awaited\n",
      "  self._invoke_excepthook(self)\n",
      "RuntimeWarning: Enable tracemalloc to get the object allocation traceback\n",
      "Exception in thread Thread-9 (run):\n",
      "Traceback (most recent call last):\n",
      "  File \"/home/freak/Freak/Dev/Uv/Python/cpython-3.12.9-linux-x86_64-gnu/lib/python3.12/threading.py\", line 1075, in _bootstrap_inner\n",
      "    self.run()\n",
      "  File \"/home/freak/Trainings/AI-ML/09.Agentic AI/.venv/lib/python3.12/site-packages/ipykernel/ipkernel.py\", line 766, in run_closure\n",
      "    _threading_Thread_run(self)\n",
      "  File \"/home/freak/Freak/Dev/Uv/Python/cpython-3.12.9-linux-x86_64-gnu/lib/python3.12/threading.py\", line 1012, in run\n",
      "    self._target(*self._args, **self._kwargs)\n",
      "  File \"/home/freak/Trainings/AI-ML/09.Agentic AI/.venv/lib/python3.12/site-packages/uvicorn/server.py\", line 66, in run\n",
      "    return asyncio.run(self.serve(sockets=sockets))\n",
      "           ^^^^^^^^^^^^^^^^^^^^^^^^^^^^^^^^^^^^^^^^\n",
      "  File \"/home/freak/Trainings/AI-ML/09.Agentic AI/.venv/lib/python3.12/site-packages/nest_asyncio.py\", line 26, in run\n",
      "    loop = asyncio.get_event_loop()\n",
      "           ^^^^^^^^^^^^^^^^^^^^^^^^\n",
      "  File \"/home/freak/Trainings/AI-ML/09.Agentic AI/.venv/lib/python3.12/site-packages/nest_asyncio.py\", line 40, in _get_event_loop\n",
      "    loop = events.get_event_loop_policy().get_event_loop()\n",
      "           ^^^^^^^^^^^^^^^^^^^^^^^^^^^^^^^^^^^^^^^^^^^^^^^\n",
      "  File \"/home/freak/Freak/Dev/Uv/Python/cpython-3.12.9-linux-x86_64-gnu/lib/python3.12/asyncio/events.py\", line 702, in get_event_loop\n",
      "    raise RuntimeError('There is no current event loop in thread %r.'\n",
      "RuntimeError: There is no current event loop in thread 'Thread-9 (run)'.\n"
     ]
    },
    {
     "ename": "KeyboardInterrupt",
     "evalue": "",
     "output_type": "error",
     "traceback": [
      "\u001b[31m---------------------------------------------------------------------------\u001b[39m",
      "\u001b[31mKeyboardInterrupt\u001b[39m                         Traceback (most recent call last)",
      "\u001b[36mCell\u001b[39m\u001b[36m \u001b[39m\u001b[32mIn[16]\u001b[39m\u001b[32m, line 8\u001b[39m\n\u001b[32m      4\u001b[39m     result = \u001b[38;5;28;01mawait\u001b[39;00m graph.ainvoke({\u001b[33m\"\u001b[39m\u001b[33mmessages\u001b[39m\u001b[33m\"\u001b[39m: [{\u001b[33m\"\u001b[39m\u001b[33mrole\u001b[39m\u001b[33m\"\u001b[39m: \u001b[33m\"\u001b[39m\u001b[33muser\u001b[39m\u001b[33m\"\u001b[39m, \u001b[33m\"\u001b[39m\u001b[33mcontent\u001b[39m\u001b[33m\"\u001b[39m: user_input}]}, config=config)\n\u001b[32m      5\u001b[39m     \u001b[38;5;28;01mreturn\u001b[39;00m result[\u001b[33m\"\u001b[39m\u001b[33mmessages\u001b[39m\u001b[33m\"\u001b[39m][-\u001b[32m1\u001b[39m].content\n\u001b[32m----> \u001b[39m\u001b[32m8\u001b[39m \u001b[43mgr\u001b[49m\u001b[43m.\u001b[49m\u001b[43mChatInterface\u001b[49m\u001b[43m(\u001b[49m\u001b[43mchat\u001b[49m\u001b[43m,\u001b[49m\u001b[43m \u001b[49m\u001b[38;5;28;43mtype\u001b[39;49m\u001b[43m=\u001b[49m\u001b[33;43m\"\u001b[39;49m\u001b[33;43mmessages\u001b[39;49m\u001b[33;43m\"\u001b[39;49m\u001b[43m)\u001b[49m\u001b[43m.\u001b[49m\u001b[43mlaunch\u001b[49m\u001b[43m(\u001b[49m\u001b[43m)\u001b[49m\n",
      "\u001b[36mFile \u001b[39m\u001b[32m~/Trainings/AI-ML/09.Agentic AI/.venv/lib/python3.12/site-packages/gradio/blocks.py:2724\u001b[39m, in \u001b[36mBlocks.launch\u001b[39m\u001b[34m(self, inline, inbrowser, share, debug, max_threads, auth, auth_message, prevent_thread_lock, show_error, server_name, server_port, height, width, favicon_path, ssl_keyfile, ssl_certfile, ssl_keyfile_password, ssl_verify, quiet, show_api, allowed_paths, blocked_paths, root_path, app_kwargs, state_session_capacity, share_server_address, share_server_protocol, share_server_tls_certificate, auth_dependency, max_file_size, enable_monitoring, strict_cors, node_server_name, node_port, ssr_mode, pwa, mcp_server, _frontend, i18n)\u001b[39m\n\u001b[32m   2716\u001b[39m \u001b[38;5;28;01melse\u001b[39;00m:\n\u001b[32m   2717\u001b[39m     \u001b[38;5;28;01mfrom\u001b[39;00m\u001b[38;5;250m \u001b[39m\u001b[34;01mgradio\u001b[39;00m\u001b[38;5;250m \u001b[39m\u001b[38;5;28;01mimport\u001b[39;00m http_server\n\u001b[32m   2719\u001b[39m     (\n\u001b[32m   2720\u001b[39m         server_name,\n\u001b[32m   2721\u001b[39m         server_port,\n\u001b[32m   2722\u001b[39m         local_url,\n\u001b[32m   2723\u001b[39m         server,\n\u001b[32m-> \u001b[39m\u001b[32m2724\u001b[39m     ) = \u001b[43mhttp_server\u001b[49m\u001b[43m.\u001b[49m\u001b[43mstart_server\u001b[49m\u001b[43m(\u001b[49m\n\u001b[32m   2725\u001b[39m \u001b[43m        \u001b[49m\u001b[43mapp\u001b[49m\u001b[43m=\u001b[49m\u001b[38;5;28;43mself\u001b[39;49m\u001b[43m.\u001b[49m\u001b[43mapp\u001b[49m\u001b[43m,\u001b[49m\n\u001b[32m   2726\u001b[39m \u001b[43m        \u001b[49m\u001b[43mserver_name\u001b[49m\u001b[43m=\u001b[49m\u001b[43mserver_name\u001b[49m\u001b[43m,\u001b[49m\n\u001b[32m   2727\u001b[39m \u001b[43m        \u001b[49m\u001b[43mserver_port\u001b[49m\u001b[43m=\u001b[49m\u001b[43mserver_port\u001b[49m\u001b[43m,\u001b[49m\n\u001b[32m   2728\u001b[39m \u001b[43m        \u001b[49m\u001b[43mssl_keyfile\u001b[49m\u001b[43m=\u001b[49m\u001b[43mssl_keyfile\u001b[49m\u001b[43m,\u001b[49m\n\u001b[32m   2729\u001b[39m \u001b[43m        \u001b[49m\u001b[43mssl_certfile\u001b[49m\u001b[43m=\u001b[49m\u001b[43mssl_certfile\u001b[49m\u001b[43m,\u001b[49m\n\u001b[32m   2730\u001b[39m \u001b[43m        \u001b[49m\u001b[43mssl_keyfile_password\u001b[49m\u001b[43m=\u001b[49m\u001b[43mssl_keyfile_password\u001b[49m\u001b[43m,\u001b[49m\n\u001b[32m   2731\u001b[39m \u001b[43m    \u001b[49m\u001b[43m)\u001b[49m\n\u001b[32m   2732\u001b[39m \u001b[38;5;28mself\u001b[39m.server_name = server_name\n\u001b[32m   2733\u001b[39m \u001b[38;5;28mself\u001b[39m.local_url = local_url\n",
      "\u001b[36mFile \u001b[39m\u001b[32m~/Trainings/AI-ML/09.Agentic AI/.venv/lib/python3.12/site-packages/gradio/http_server.py:151\u001b[39m, in \u001b[36mstart_server\u001b[39m\u001b[34m(app, server_name, server_port, ssl_keyfile, ssl_certfile, ssl_keyfile_password)\u001b[39m\n\u001b[32m    141\u001b[39m         reloader = SourceFileReloader(\n\u001b[32m    142\u001b[39m             app=app,\n\u001b[32m    143\u001b[39m             watch_dirs=GRADIO_WATCH_DIRS,\n\u001b[32m   (...)\u001b[39m\u001b[32m    148\u001b[39m             watch_module=sys.modules[\u001b[33m\"\u001b[39m\u001b[33m__main__\u001b[39m\u001b[33m\"\u001b[39m],\n\u001b[32m    149\u001b[39m         )\n\u001b[32m    150\u001b[39m     server = Server(config=config, reloader=reloader)\n\u001b[32m--> \u001b[39m\u001b[32m151\u001b[39m     \u001b[43mserver\u001b[49m\u001b[43m.\u001b[49m\u001b[43mrun_in_thread\u001b[49m\u001b[43m(\u001b[49m\u001b[43m)\u001b[49m\n\u001b[32m    152\u001b[39m     \u001b[38;5;28;01mbreak\u001b[39;00m\n\u001b[32m    153\u001b[39m \u001b[38;5;28;01mexcept\u001b[39;00m (\u001b[38;5;167;01mOSError\u001b[39;00m, ServerFailedToStartError):\n",
      "\u001b[36mFile \u001b[39m\u001b[32m~/Trainings/AI-ML/09.Agentic AI/.venv/lib/python3.12/site-packages/gradio/http_server.py:58\u001b[39m, in \u001b[36mServer.run_in_thread\u001b[39m\u001b[34m(self)\u001b[39m\n\u001b[32m     56\u001b[39m start = time.time()\n\u001b[32m     57\u001b[39m \u001b[38;5;28;01mwhile\u001b[39;00m \u001b[38;5;129;01mnot\u001b[39;00m \u001b[38;5;28mself\u001b[39m.started:\n\u001b[32m---> \u001b[39m\u001b[32m58\u001b[39m     \u001b[43mtime\u001b[49m\u001b[43m.\u001b[49m\u001b[43msleep\u001b[49m\u001b[43m(\u001b[49m\u001b[32;43m1e-3\u001b[39;49m\u001b[43m)\u001b[49m\n\u001b[32m     59\u001b[39m     \u001b[38;5;28;01mif\u001b[39;00m time.time() - start > \u001b[32m5\u001b[39m:\n\u001b[32m     60\u001b[39m         \u001b[38;5;28;01mraise\u001b[39;00m ServerFailedToStartError(\n\u001b[32m     61\u001b[39m             \u001b[33m\"\u001b[39m\u001b[33mServer failed to start. Please check that the port is available.\u001b[39m\u001b[33m\"\u001b[39m\n\u001b[32m     62\u001b[39m         )\n",
      "\u001b[31mKeyboardInterrupt\u001b[39m: "
     ]
    }
   ],
   "source": [
    "config = {\"configurable\": {\"thread_id\": \"10\"}}\n",
    "\n",
    "async def chat(user_input: str, history):\n",
    "    result = await graph.ainvoke({\"messages\": [{\"role\": \"user\", \"content\": user_input}]}, config=config)\n",
    "    return result[\"messages\"][-1].content\n",
    "\n",
    "\n",
    "gr.ChatInterface(chat, type=\"messages\").launch()"
   ]
  },
  {
   "cell_type": "code",
   "execution_count": null,
   "metadata": {},
   "outputs": [],
   "source": []
  }
 ],
 "metadata": {
  "kernelspec": {
   "display_name": ".venv",
   "language": "python",
   "name": "python3"
  },
  "language_info": {
   "codemirror_mode": {
    "name": "ipython",
    "version": 3
   },
   "file_extension": ".py",
   "mimetype": "text/x-python",
   "name": "python",
   "nbconvert_exporter": "python",
   "pygments_lexer": "ipython3",
   "version": "3.12.9"
  }
 },
 "nbformat": 4,
 "nbformat_minor": 2
}
