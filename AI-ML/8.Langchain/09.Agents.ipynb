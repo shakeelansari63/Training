{
 "cells": [
  {
   "cell_type": "markdown",
   "id": "923325df-4cc6-4473-adff-d5ca307b9a37",
   "metadata": {},
   "source": [
    "# Agents"
   ]
  },
  {
   "cell_type": "markdown",
   "id": "7597cd4b-1b08-4b5f-8ff2-c5d838ad5afe",
   "metadata": {},
   "source": [
    "An Agent is combination of an LLM model and some tools. The LLM act as brain of the Agent and Tools work as it's arms. "
   ]
  },
  {
   "cell_type": "code",
   "execution_count": 1,
   "id": "c3d4bec9-39c6-4afe-8267-861ae503d17b",
   "metadata": {},
   "outputs": [],
   "source": [
    "## Setup LLM which we will use\n",
    "from langchain_ollama.chat_models import ChatOllama\n",
    "llm = ChatOllama(\n",
    "    base_url = 'http://localhost:11434',\n",
    "    model = 'qwen2.5:0.5b'\n",
    ")"
   ]
  },
  {
   "cell_type": "markdown",
   "id": "38fe46c7-4b4b-48cd-80f5-a67dc4e4787a",
   "metadata": {},
   "source": [
    "### Tools\n",
    "Tools are like Python functions which can perform some action. \n",
    "  \n",
    "**Note: LLM models cannot invoke a tool and give result. It is your responsibility to call tools. LLM can onlt tell which tools to be called**"
   ]
  },
  {
   "cell_type": "code",
   "execution_count": 4,
   "id": "2f43e9b6-a073-4f5a-aebe-d2059f7418a1",
   "metadata": {},
   "outputs": [
    {
     "name": "stdout",
     "output_type": "stream",
     "text": [
      "my_first_tool.name='my_first_tool'\n",
      "my_first_tool.description='This is description of Tool. And it is mandatory so that LLM can know what is purpose of the tool'\n",
      "my_first_tool.args={'my_tool_arg': {'title': 'My Tool Arg', 'type': 'string'}}\n"
     ]
    }
   ],
   "source": [
    "### Lets try to create a simple Tool\n",
    "from langchain.tools import tool\n",
    "\n",
    "@tool\n",
    "def my_first_tool(my_tool_arg: str) -> str:\n",
    "    \"\"\"This is description of Tool. And it is mandatory so that LLM can know what is purpose of the tool\"\"\"\n",
    "    return \"Some Output\"\n",
    "\n",
    "# Lets see information about these tools\n",
    "print(f\"{my_first_tool.name=}\")\n",
    "print(f\"{my_first_tool.description=}\")\n",
    "print(f\"{my_first_tool.args=}\")"
   ]
  },
  {
   "cell_type": "markdown",
   "id": "b1c289d2-7f25-41ef-bf9a-9ee79b8b049f",
   "metadata": {},
   "source": [
    "#### Lets try to create a sample tool"
   ]
  },
  {
   "cell_type": "code",
   "execution_count": 6,
   "id": "782ab3b6-27af-42cd-b818-f05c9796cfda",
   "metadata": {},
   "outputs": [],
   "source": [
    "@tool\n",
    "def big_crypto_coin(usd: float) -> float:\n",
    "    \"This tool converts the USD value to value for cyrpto currency names BIG and returns the amount in BIG currency\"\n",
    "    return 123.56*float(usd)"
   ]
  },
  {
   "cell_type": "markdown",
   "id": "ec14d13b-e24c-4198-bf4b-8a76dd61dbb6",
   "metadata": {},
   "source": [
    "#### Lets bind the Tool with Our LLM"
   ]
  },
  {
   "cell_type": "code",
   "execution_count": 7,
   "id": "a8e07120-c85b-425c-9030-bd500c376039",
   "metadata": {},
   "outputs": [],
   "source": [
    "llm_with_crypto_tool = llm.bind_tools([big_crypto_coin])"
   ]
  },
  {
   "cell_type": "code",
   "execution_count": 10,
   "id": "fac895c2-90f0-4309-913f-6a1e2fe3ac34",
   "metadata": {},
   "outputs": [
    {
     "name": "stdout",
     "output_type": "stream",
     "text": [
      "content='' additional_kwargs={} response_metadata={'model': 'qwen2.5:0.5b', 'created_at': '2025-05-22T15:57:43.766979053Z', 'done': True, 'done_reason': 'stop', 'total_duration': 405886742, 'load_duration': 15507290, 'prompt_eval_count': 185, 'prompt_eval_duration': 24054447, 'eval_count': 25, 'eval_duration': 361269271, 'model_name': 'qwen2.5:0.5b'} id='run--0ea15f71-c9cc-4499-984a-aef7840592e0-0' tool_calls=[{'name': 'big_crypto_coin', 'args': {'usd': 12}, 'id': '3906e7d6-1ab1-42b4-8992-f1c7d0c39b09', 'type': 'tool_call'}] usage_metadata={'input_tokens': 185, 'output_tokens': 25, 'total_tokens': 210}\n"
     ]
    }
   ],
   "source": [
    "# Lets ask the question and see what we get\n",
    "result = llm_with_crypto_tool.invoke(\"How much BIG crypto can I get in 12 USD?\")\n",
    "print(result)"
   ]
  },
  {
   "cell_type": "markdown",
   "id": "4385bfeb-3eb6-4f9c-b636-67f9d3ddb625",
   "metadata": {},
   "source": [
    "As you can see, the LLM does not give us the answer. It provides a Tool call which we can use to get answer."
   ]
  },
  {
   "cell_type": "code",
   "execution_count": 12,
   "id": "558172a6-6537-4547-a618-e67f3bfe8e14",
   "metadata": {},
   "outputs": [
    {
     "data": {
      "text/plain": [
       "[{'name': 'big_crypto_coin',\n",
       "  'args': {'usd': 12},\n",
       "  'id': '3906e7d6-1ab1-42b4-8992-f1c7d0c39b09',\n",
       "  'type': 'tool_call'}]"
      ]
     },
     "execution_count": 12,
     "metadata": {},
     "output_type": "execute_result"
    }
   ],
   "source": [
    "# And LLM suggest to make this Tool call\n",
    "result.tool_calls"
   ]
  },
  {
   "cell_type": "markdown",
   "id": "ebccd611-44b7-47fd-87bb-517eb8839f5e",
   "metadata": {},
   "source": [
    "##### Lets try to make an automated way to make the tool calls. Since Tools calls is a list, we can loop over it and use the tool name and tool args to call tool"
   ]
  },
  {
   "cell_type": "code",
   "execution_count": 16,
   "id": "00945544-7fc2-47b7-a655-3327920e42b4",
   "metadata": {},
   "outputs": [
    {
     "name": "stdout",
     "output_type": "stream",
     "text": [
      "1482.72\n"
     ]
    }
   ],
   "source": [
    "# First we need a mapping of Tool name with Tool's actual function so that we can call the function\n",
    "# Followiung function can have more that 1 tool mapping, but we have only 1 right now. \n",
    "tool_map = {\n",
    "    \"big_crypto_coin\": big_crypto_coin\n",
    "}\n",
    "\n",
    "for tool_info in result.tool_calls:\n",
    "    tool = tool_map[tool_info['name']]\n",
    "    tool_arg = tool_info['args']\n",
    "\n",
    "    # Call the tool\n",
    "    output = tool.invoke(tool_arg)\n",
    "    print(output)"
   ]
  },
  {
   "cell_type": "markdown",
   "id": "b065925b-1c31-4ad2-a2b3-d740418e3813",
   "metadata": {},
   "source": [
    "### Langchain Builtin Tools"
   ]
  },
  {
   "cell_type": "markdown",
   "id": "7a009450-f705-4d8c-827d-00da670b50dc",
   "metadata": {},
   "source": [
    "###### Langchain provides integration with wide variety of tools\n",
    "[Check here - https://python.langchain.com/docs/integrations/tools/](https://python.langchain.com/docs/integrations/tools/)"
   ]
  },
  {
   "cell_type": "markdown",
   "id": "f7d0f9a2-b66d-4aea-8df0-12c8ce09328c",
   "metadata": {},
   "source": [
    "For this learning, we will only use Wikipedia Tool"
   ]
  },
  {
   "cell_type": "code",
   "execution_count": null,
   "id": "79bfc6fa-0835-40f4-9ab6-3851ed8b31f9",
   "metadata": {},
   "outputs": [],
   "source": [
    "!uv pip install wikipedia"
   ]
  },
  {
   "cell_type": "code",
   "execution_count": 8,
   "id": "9ab30035-31d4-4cd3-bebf-4bf6566091fe",
   "metadata": {},
   "outputs": [
    {
     "name": "stdout",
     "output_type": "stream",
     "text": [
      "wikipedia\n",
      "A wrapper around Wikipedia. Useful for when you need to answer general questions about people, places, companies, facts, historical events, or other subjects. Input should be a search query.\n",
      "{'query': {'description': 'query to look up on wikipedia', 'title': 'Query', 'type': 'string'}}\n"
     ]
    }
   ],
   "source": [
    "# Lets see How wikipedia tool works\n",
    "from langchain.tools import WikipediaQueryRun\n",
    "from langchain.utilities import WikipediaAPIWrapper\n",
    "\n",
    "# This is a wikipedia tool which can be given to an LLM\n",
    "wiki = WikipediaQueryRun(api_wrapper=WikipediaAPIWrapper())\n",
    "\n",
    "# As we can see, it has these details\n",
    "print(wiki.name)\n",
    "print(wiki.description)\n",
    "print(wiki.args)"
   ]
  },
  {
   "cell_type": "code",
   "execution_count": 9,
   "id": "0712fe93-31da-4a9b-b955-f3a5f30cb8fd",
   "metadata": {},
   "outputs": [
    {
     "data": {
      "text/plain": [
       "\"Page: Avengers: Infinity War\\nSummary: Avengers: Infinity War is a 2018 American superhero film based on the Marvel Comics superhero team the Avengers. Produced by Marvel Studios and distributed by Walt Disney Studios Motion Pictures, it is the sequel to The Avengers (2012) and Avengers: Age of Ultron (2015), and the 19th film in the Marvel Cinematic Universe (MCU). Directed by Anthony and Joe Russo and written by Christopher Markus and Stephen McFeely, the film features an ensemble cast including Robert Downey Jr., Chris Hemsworth, Mark Ruffalo, Chris Evans, Scarlett Johansson, Benedict Cumberbatch, Don Cheadle, Tom Holland, Chadwick Boseman, Paul Bettany, Elizabeth Olsen, Anthony Mackie, Sebastian Stan, Danai Gurira, Letitia Wright, Dave Bautista, Zoe Saldaña, Josh Brolin, and Chris Pratt. In the film, the Avengers and the Guardians of the Galaxy attempt to stop Thanos from collecting the six powerful Infinity Stones as part of his quest to kill half of all life in the universe.\\nThe film was announced in October 2014 as Avengers: Infinity War – Part 1. The Russo brothers came on board to direct in April 2015, and a month later, Markus and McFeely signed on to write the script for the film, which draws inspiration from Jim Starlin's 1991 comic book The Infinity Gauntlet and Jonathan Hickman's 2013 comic book Infinity. In 2016, Marvel shortened the title to Avengers: Infinity War. Filming began in January 2017 at Pinewood Atlanta Studios in Fayette County, Georgia, with a large cast consisting mostly of actors reprising their roles from previous MCU films, including Brolin as Thanos. The production lasted until July 2017, shooting back-to-back with a direct sequel, Avengers: Endgame (2019). Additional filming took place in Scotland, the Downtown Atlanta area, and New York City. With an estimated budget of $325–400 million, the film is one of the most expensive films ever made.\\nAvengers: Infinity War premiered at the Dolby Theatre in Hollywood, Los Angeles, on April 23, 2018, and was released in the United States on April 27 as part of Phase Three of the MCU. The film received praise for Brolin's performance and the Russo brothers' direction, as well as the visual effects, action sequences, dark tone, and musical score. It was a major box-office success, becoming the fourth film and the first superhero film to gross over $2 billion worldwide, breaking numerous box office records, and becoming the highest-grossing film of 2018 and the fourth-highest-grossing film at the time of its release both worldwide and in the United States and Canada. It received a nomination for Best Visual Effects at the 91st Academy Awards, among numerous other accolades. The sequel, Avengers: Endgame, was released in April 2019.\\n\\nPage: Avengers: Endgame\\nSummary: Avengers: Endgame is a 2019 American superhero film based on the Marvel Comics superhero team the Avengers. Produced by Marvel Studios and distributed by Walt Disney Studios Motion Pictures, it is the direct sequel to Avengers: Infinity War (2018) and the 22nd film in the Marvel Cinematic Universe (MCU). Directed by Anthony and Joe Russo and written by Christopher Markus and Stephen McFeely, the film features an ensemble cast which includes Robert Downey Jr., Chris Evans, Mark Ruffalo, Chris Hemsworth, Scarlett Johansson, Jeremy Renner, Don Cheadle, Paul Rudd, Brie Larson, Karen Gillan, Danai Gurira, Benedict Wong, Jon Favreau, Bradley Cooper, Gwyneth Paltrow, and Josh Brolin. In the film, the surviving members of the Avengers and their allies attempt to reverse Thanos's actions in Infinity War which erased half of all life in the universe.\\nThe film was announced in October 2014 as Avengers: Infinity War – Part 2, but Marvel Studios later removed this title. The Russo brothers joined as directors in April 2015, with Markus and McFeely signing on to write the script a month later. It is a conclusion to the story of the MCU up to that point, ending the story arcs of several main characters. The fi\""
      ]
     },
     "execution_count": 9,
     "metadata": {},
     "output_type": "execute_result"
    }
   ],
   "source": [
    "# Lets try to run the tool\n",
    "wiki.run(\"Avengers Infinity War\")"
   ]
  },
  {
   "cell_type": "markdown",
   "id": "ae338090-d881-42dd-9e09-057e5ea88e97",
   "metadata": {},
   "source": [
    "### Agents\n",
    "We know that LLM cannot run a tool. It can only give details for invoking the tool.   \n",
    "Agents bridge this gap. They get the info from LLM and invoke the Tool to generate the results.  \n",
    "Lets create an agent which will call tools for us"
   ]
  },
  {
   "cell_type": "code",
   "execution_count": 5,
   "id": "27f0ce6c-3c25-4e9a-ba6d-5a4d301d5f8c",
   "metadata": {},
   "outputs": [],
   "source": [
    "from langchain.agents import create_tool_calling_agent, AgentExecutor\n",
    "from langchain_core.prompts import (ChatPromptTemplate, MessagesPlaceholder, HumanMessagePromptTemplate)\n",
    "from langchain.schema import SystemMessage\n",
    "from langchain_ollama.chat_models import ChatOllama\n",
    "from langchain.tools import WikipediaQueryRun\n",
    "from langchain.utilities import WikipediaAPIWrapper\n",
    "\n",
    "# LLM Instance\n",
    "llm = ChatOllama(\n",
    "    base_url = 'http://localhost:11434',\n",
    "    model = 'qwen2.5:0.5b'\n",
    ")\n",
    "\n",
    "# Propmpt template\n",
    "# We have 1 extra prompt at end which is agnet scratchpad for information coming from agent\n",
    "prompt = ChatPromptTemplate.from_messages([\n",
    "    SystemMessage(\"You are a question answering LLM with access to Wikipedia Tool. Before answering the question, use Wikipedia to get latest information and use this information to answer the question\"),\n",
    "    MessagesPlaceholder(variable_name=\"chat_history\"),\n",
    "    HumanMessagePromptTemplate.from_template(\"Question: {question}\"),\n",
    "    MessagesPlaceholder(variable_name=\"agent_scratchpad\"),\n",
    "])\n",
    "\n",
    "# Set of Tools \n",
    "wikipedia = WikipediaQueryRun(api_wrapper=WikipediaAPIWrapper())\n",
    "tools = [wikipedia]"
   ]
  },
  {
   "cell_type": "code",
   "execution_count": 6,
   "id": "78ff16cf-2c3c-4a30-9482-eef3baf18d2b",
   "metadata": {},
   "outputs": [],
   "source": [
    "# Lest create an agnent\n",
    "agent = create_tool_calling_agent(llm=llm, tools=tools, prompt=prompt)\n",
    "\n",
    "# This is just an agent, but we need an Agent executor to execute the agent correctly\n",
    "agent_executor = AgentExecutor(agent=agent, tools=tools, verbose=True)"
   ]
  },
  {
   "cell_type": "code",
   "execution_count": 15,
   "id": "52f0bc4a-4561-4828-a494-c15eae38b61e",
   "metadata": {},
   "outputs": [
    {
     "name": "stdout",
     "output_type": "stream",
     "text": [
      "\n",
      "\n",
      "\u001b[1m> Entering new AgentExecutor chain...\u001b[0m\n",
      "\u001b[32;1m\u001b[1;3m\n",
      "Invoking: `wikipedia` with `{'query': 'Food specialities, Indore'}`\n",
      "\n",
      "\n",
      "\u001b[36;1m\u001b[1;3mPage: Indore\n",
      "Summary: Indore ( ; ISO: Indaura, Hindi: [ɪn̪d̪ɔːr]) is the largest and most populous city in the Indian state of Madhya Pradesh. It is the commercial hub of Madhya Pradesh. It is consistently ranked as the cleanest city in India. It serves as the headquarters of both the Indore District and the Indore Division. It is also considered the state education hub and houses campuses of both the Indian Institute of Technology and the Indian Institute of Management. Located on the southern edge of Malwa Plateau, at an average altitude of 553 metres (1,814 ft) above sea level, it has the highest elevation among major cities of Central India. The city is 220 km (137 mi) west of the state capital of Bhopal. Indore had a census-estimated 2011 population of 1,994,397 (municipal corporation) and 3,570,295 (urban agglomeration). The city is distributed over a land area of just 530 square kilometres (200 sq mi), making Indore the most densely populated major city in the central province.\n",
      "Modern-day Indore traces its roots to its 16th-century founding as a trading hub between the Deccan and Delhi. It was founded on the banks of the Kanh and Saraswati rivers. The city came under the Maratha Empire, on 18 May 1724, after Peshwa Baji Rao I assumed the full control of Malwa. During the days of the British Raj, Indore State was a 19 Gun Salute (21 locally) princely state (a rare high rank) ruled by the Maratha Holkar dynasty, until they acceded to the Union of India.\n",
      "Indore functions as the financial capital of Madhya Pradesh and was home to the Madhya Pradesh Stock Exchange till its derecognition in 2015.\n",
      "Indore has been selected as one of the 100 Indian cities to be developed as a smart city under the Smart Cities Mission. It also qualified in the first round of Smart Cities Mission and was selected as one of the first twenty cities to be developed as Smart Cities. Indore has been part of the Swachh Survekshan since its inception and had ranked 25th in 2016. It has been ranked as India's cleanest city seven years in a row as per the Swachh Survekshan for the years 2017, 2018, 2019, 2020, 2021, 2022 and 2023. Meanwhile, Indore has also been declared as India's first 'water plus' city under the Swachhta Survekshan 2021. Indore became the only Indian city to be selected for International Clean Air Catalyst Programme. The project, with cooperation of the Indore Municipal Corporation and the Madhya Pradesh Pollution Control Board, will be operated for a period of five years to purify the air in the city. Indore will penalise anyone giving alms to beggars starting 1 January 2025, expanding a previous ban on giving to child beggars. This initiative aims to eradicate begging, with officials claiming it disrupts the begging cycle.\n",
      "\n",
      "\n",
      "\n",
      "Page: Indian cuisine\n",
      "Summary: Indian cuisine consists of a variety of regional and traditional cuisines native to the Indian subcontinent. Given the diversity in soil, climate, culture, ethnic groups, and occupations, these cuisines vary substantially and use locally available spices, herbs, vegetables, and fruits.\n",
      "Indian food is also heavily influenced by religion, in particular Hinduism and Islam, cultural choices and traditions. Historical events such as invasions, trade relations, and colonialism have played a role in introducing certain foods to India. The Columbian discovery of the New World brought a number of new vegetables and fruits. A number of these such as potatoes, tomatoes, chillies, peanuts, and guava have become staples in many regions of India.\n",
      "\u001b[32;1m\u001b[1;3mIndore is a major city located in Madhya Pradesh, India. Some of its specialties include:rope was the primary catalyst for Europe's Age of Discovery. Spices were bought from India and traded around Europe and Asia. Indian cuisine has influenced other cuisines across the world, especially those from Europe (Britain in particular), the Middle East, Southern African, East Africa, Southeast Asia, North America, Mauritius, Fiji, Oceania, and the C\u001b[0m\n",
      "\n",
      "1. [Samosa] - A dish consisting of a flattened pastry filled with ground meat or nuts.\n",
      "2. [Kachori] - A type of rice porridge flavored with spices and eggs.\n",
      "3. [Ladoo] - Traditional sweets made by coating a dough ball in various ingredients like sugar, milk, and colorful powder.\n",
      "4. [Rajma] - A soft and crispy snack made from fried cauliflower or potatoes.\n",
      "5. [Chana Masala] - A dish made with chickpeas, curry leaves, and a blend of spices.\n",
      "6. [Dal Bajorese] - A creamy soup consisting of ground meat, vegetables, and rice.\n",
      "\n",
      "These are just a few examples; Indore has many other dishes that reflect its culinary heritage in the state of Madhya Pradesh.\u001b[0m\n",
      "\n",
      "\u001b[1m> Finished chain.\u001b[0m\n",
      "Indore is a major city located in Madhya Pradesh, India. Some of its specialties include:\n",
      "\n",
      "1. [Samosa] - A dish consisting of a flattened pastry filled with ground meat or nuts.\n",
      "2. [Kachori] - A type of rice porridge flavored with spices and eggs.\n",
      "3. [Ladoo] - Traditional sweets made by coating a dough ball in various ingredients like sugar, milk, and colorful powder.\n",
      "4. [Rajma] - A soft and crispy snack made from fried cauliflower or potatoes.\n",
      "5. [Chana Masala] - A dish made with chickpeas, curry leaves, and a blend of spices.\n",
      "6. [Dal Bajorese] - A creamy soup consisting of ground meat, vegetables, and rice.\n",
      "\n",
      "These are just a few examples; Indore has many other dishes that reflect its culinary heritage in the state of Madhya Pradesh.\n"
     ]
    }
   ],
   "source": [
    "# Lets use the agent to ask some questions\n",
    "from langchain_core.output_parsers import StrOutputParser\n",
    "\n",
    "result = agent_executor.invoke({'question': \"What are Food specialities in Indore\", 'chat_history': []})\n",
    "\n",
    "print(result['output'])"
   ]
  }
 ],
 "metadata": {
  "kernelspec": {
   "display_name": "Python 3 (ipykernel)",
   "language": "python",
   "name": "python3"
  },
  "language_info": {
   "codemirror_mode": {
    "name": "ipython",
    "version": 3
   },
   "file_extension": ".py",
   "mimetype": "text/x-python",
   "name": "python",
   "nbconvert_exporter": "python",
   "pygments_lexer": "ipython3",
   "version": "3.12.9"
  }
 },
 "nbformat": 4,
 "nbformat_minor": 5
}
