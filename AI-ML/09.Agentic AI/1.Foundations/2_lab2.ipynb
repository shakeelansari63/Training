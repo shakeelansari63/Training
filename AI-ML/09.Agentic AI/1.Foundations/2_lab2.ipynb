{
 "cells": [
  {
   "cell_type": "markdown",
   "metadata": {},
   "source": [
    "## Welcome to the Second Lab - Week 1, Day 3\n",
    "\n",
    "Today we will work with lots of models! This is a way to get comfortable with APIs."
   ]
  },
  {
   "cell_type": "markdown",
   "metadata": {},
   "source": [
    "<table style=\"margin: 0; text-align: left; width:100%\">\n",
    "    <tr>\n",
    "        <td style=\"width: 150px; height: 150px; vertical-align: middle;\">\n",
    "            <img src=\"../assets/stop.png\" width=\"150\" height=\"150\" style=\"display: block;\" />\n",
    "        </td>\n",
    "        <td>\n",
    "            <h2 style=\"color:#ff7800;\">Important point - please read</h2>\n",
    "            <span style=\"color:#ff7800;\">The way I collaborate with you may be different to other courses you've taken. I prefer not to type code while you watch. Rather, I execute Jupyter Labs, like this, and give you an intuition for what's going on. My suggestion is that you carefully execute this yourself, <b>after</b> watching the lecture. Add print statements to understand what's going on, and then come up with your own variations.<br/><br/>If you have time, I'd love it if you submit a PR for changes in the community_contributions folder - instructions in the resources. Also, if you have a Github account, use this to showcase your variations. Not only is this essential practice, but it demonstrates your skills to others, including perhaps future clients or employers...\n",
    "            </span>\n",
    "        </td>\n",
    "    </tr>\n",
    "</table>"
   ]
  },
  {
   "cell_type": "code",
   "execution_count": 1,
   "metadata": {},
   "outputs": [],
   "source": [
    "# Start with imports - ask ChatGPT to explain any package that you don't know\n",
    "\n",
    "import os\n",
    "import json\n",
    "from dotenv import load_dotenv\n",
    "from openai import OpenAI\n",
    "from anthropic import Anthropic\n",
    "from IPython.display import Markdown, display"
   ]
  },
  {
   "cell_type": "code",
   "execution_count": null,
   "metadata": {},
   "outputs": [],
   "source": [
    "# Always remember to do this!\n",
    "load_dotenv(override=True)"
   ]
  },
  {
   "cell_type": "code",
   "execution_count": null,
   "metadata": {},
   "outputs": [],
   "source": [
    "# Print the key prefixes to help with any debugging\n",
    "\n",
    "openai_api_key = os.getenv('OPENAI_API_KEY')\n",
    "anthropic_api_key = os.getenv('ANTHROPIC_API_KEY')\n",
    "google_api_key = os.getenv('GOOGLE_API_KEY')\n",
    "deepseek_api_key = os.getenv('DEEPSEEK_API_KEY')\n",
    "groq_api_key = os.getenv('GROQ_API_KEY')\n",
    "\n",
    "if openai_api_key:\n",
    "    print(f\"OpenAI API Key exists and begins {openai_api_key[:8]}\")\n",
    "else:\n",
    "    print(\"OpenAI API Key not set\")\n",
    "    \n",
    "if anthropic_api_key:\n",
    "    print(f\"Anthropic API Key exists and begins {anthropic_api_key[:7]}\")\n",
    "else:\n",
    "    print(\"Anthropic API Key not set (and this is optional)\")\n",
    "\n",
    "if google_api_key:\n",
    "    print(f\"Google API Key exists and begins {google_api_key[:2]}\")\n",
    "else:\n",
    "    print(\"Google API Key not set (and this is optional)\")\n",
    "\n",
    "if deepseek_api_key:\n",
    "    print(f\"DeepSeek API Key exists and begins {deepseek_api_key[:3]}\")\n",
    "else:\n",
    "    print(\"DeepSeek API Key not set (and this is optional)\")\n",
    "\n",
    "if groq_api_key:\n",
    "    print(f\"Groq API Key exists and begins {groq_api_key[:4]}\")\n",
    "else:\n",
    "    print(\"Groq API Key not set (and this is optional)\")"
   ]
  },
  {
   "cell_type": "code",
   "execution_count": 4,
   "metadata": {},
   "outputs": [],
   "source": [
    "request = \"Please come up with a challenging, nuanced question that I can ask a number of LLMs to evaluate their intelligence. \"\n",
    "request += \"Answer only with the question, no explanation.\"\n",
    "messages = [{\"role\": \"user\", \"content\": request}]"
   ]
  },
  {
   "cell_type": "code",
   "execution_count": null,
   "metadata": {},
   "outputs": [],
   "source": [
    "messages"
   ]
  },
  {
   "cell_type": "code",
   "execution_count": null,
   "metadata": {},
   "outputs": [],
   "source": [
    "openai = OpenAI()\n",
    "response = openai.chat.completions.create(\n",
    "    model=\"gpt-4o-mini\",\n",
    "    messages=messages,\n",
    ")\n",
    "question = response.choices[0].message.content\n",
    "print(question)\n"
   ]
  },
  {
   "cell_type": "code",
   "execution_count": 7,
   "metadata": {},
   "outputs": [],
   "source": [
    "competitors = []\n",
    "answers = []\n",
    "messages = [{\"role\": \"user\", \"content\": question}]"
   ]
  },
  {
   "cell_type": "code",
   "execution_count": null,
   "metadata": {},
   "outputs": [],
   "source": [
    "# The API we know well\n",
    "\n",
    "model_name = \"gpt-4o-mini\"\n",
    "\n",
    "response = openai.chat.completions.create(model=model_name, messages=messages)\n",
    "answer = response.choices[0].message.content\n",
    "\n",
    "display(Markdown(answer))\n",
    "competitors.append(model_name)\n",
    "answers.append(answer)"
   ]
  },
  {
   "cell_type": "code",
   "execution_count": null,
   "metadata": {},
   "outputs": [],
   "source": [
    "# Anthropic has a slightly different API, and Max Tokens is required\n",
    "\n",
    "model_name = \"claude-3-7-sonnet-latest\"\n",
    "\n",
    "claude = Anthropic()\n",
    "response = claude.messages.create(model=model_name, messages=messages, max_tokens=1000)\n",
    "answer = response.content[0].text\n",
    "\n",
    "display(Markdown(answer))\n",
    "competitors.append(model_name)\n",
    "answers.append(answer)"
   ]
  },
  {
   "cell_type": "code",
   "execution_count": null,
   "metadata": {},
   "outputs": [],
   "source": [
    "gemini = OpenAI(api_key=google_api_key, base_url=\"https://generativelanguage.googleapis.com/v1beta/openai/\")\n",
    "model_name = \"gemini-2.0-flash\"\n",
    "\n",
    "response = gemini.chat.completions.create(model=model_name, messages=messages)\n",
    "answer = response.choices[0].message.content\n",
    "\n",
    "display(Markdown(answer))\n",
    "competitors.append(model_name)\n",
    "answers.append(answer)"
   ]
  },
  {
   "cell_type": "code",
   "execution_count": null,
   "metadata": {},
   "outputs": [],
   "source": [
    "deepseek = OpenAI(api_key=deepseek_api_key, base_url=\"https://api.deepseek.com/v1\")\n",
    "model_name = \"deepseek-chat\"\n",
    "\n",
    "response = deepseek.chat.completions.create(model=model_name, messages=messages)\n",
    "answer = response.choices[0].message.content\n",
    "\n",
    "display(Markdown(answer))\n",
    "competitors.append(model_name)\n",
    "answers.append(answer)"
   ]
  },
  {
   "cell_type": "code",
   "execution_count": null,
   "metadata": {},
   "outputs": [],
   "source": [
    "groq = OpenAI(api_key=groq_api_key, base_url=\"https://api.groq.com/openai/v1\")\n",
    "model_name = \"llama-3.3-70b-versatile\"\n",
    "\n",
    "response = groq.chat.completions.create(model=model_name, messages=messages)\n",
    "answer = response.choices[0].message.content\n",
    "\n",
    "display(Markdown(answer))\n",
    "competitors.append(model_name)\n",
    "answers.append(answer)\n"
   ]
  },
  {
   "cell_type": "markdown",
   "metadata": {},
   "source": [
    "## For the next cell, we will use Ollama\n",
    "\n",
    "Ollama runs a local web service that gives an OpenAI compatible endpoint,  \n",
    "and runs models locally using high performance C++ code.\n",
    "\n",
    "If you don't have Ollama, install it here by visiting https://ollama.com then pressing Download and following the instructions.\n",
    "\n",
    "After it's installed, you should be able to visit here: http://localhost:11434 and see the message \"Ollama is running\"\n",
    "\n",
    "You might need to restart Cursor (and maybe reboot). Then open a Terminal (control+\\`) and run `ollama serve`\n",
    "\n",
    "Useful Ollama commands (run these in the terminal, or with an exclamation mark in this notebook):\n",
    "\n",
    "`ollama pull <model_name>` downloads a model locally  \n",
    "`ollama ls` lists all the models you've downloaded  \n",
    "`ollama rm <model_name>` deletes the specified model from your downloads"
   ]
  },
  {
   "cell_type": "markdown",
   "metadata": {},
   "source": [
    "<table style=\"margin: 0; text-align: left; width:100%\">\n",
    "    <tr>\n",
    "        <td style=\"width: 150px; height: 150px; vertical-align: middle;\">\n",
    "            <img src=\"../assets/stop.png\" width=\"150\" height=\"150\" style=\"display: block;\" />\n",
    "        </td>\n",
    "        <td>\n",
    "            <h2 style=\"color:#ff7800;\">Super important - ignore me at your peril!</h2>\n",
    "            <span style=\"color:#ff7800;\">The model called <b>llama3.3</b> is FAR too large for home computers - it's not intended for personal computing and will consume all your resources! Stick with the nicely sized <b>llama3.2</b> or <b>llama3.2:1b</b> and if you want larger, try llama3.1 or smaller variants of Qwen, Gemma, Phi or DeepSeek. See the <A href=\"https://ollama.com/models\">the Ollama models page</a> for a full list of models and sizes.\n",
    "            </span>\n",
    "        </td>\n",
    "    </tr>\n",
    "</table>"
   ]
  },
  {
   "cell_type": "code",
   "execution_count": 2,
   "metadata": {},
   "outputs": [],
   "source": [
    "from openai import OpenAI\n",
    "from IPython.display import Markdown, display\n",
    "import json"
   ]
  },
  {
   "cell_type": "code",
   "execution_count": 3,
   "metadata": {},
   "outputs": [],
   "source": [
    "request = \"Please come up with a challenging, nuanced question that I can ask a number of LLMs to evaluate their intelligence. \"\n",
    "request += \"Answer only with the question, no explanation.\"\n",
    "messages = [{\"role\": \"user\", \"content\": request}]"
   ]
  },
  {
   "cell_type": "code",
   "execution_count": 4,
   "metadata": {},
   "outputs": [
    {
     "data": {
      "text/markdown": [
       "Can you explain why the sentence \"The quick brown fox jumps over the lazy dog\" is an ungrammatical instance of modalized modality while still conveying a valid propositional meaning?"
      ],
      "text/plain": [
       "<IPython.core.display.Markdown object>"
      ]
     },
     "metadata": {},
     "output_type": "display_data"
    }
   ],
   "source": [
    "# Generate a question\n",
    "ollama = OpenAI(base_url='http://localhost:11434/v1', api_key='ollama')\n",
    "model_name = \"llama3.2:1b\"\n",
    "\n",
    "response = ollama.chat.completions.create(model=model_name, messages=messages)\n",
    "question = response.choices[0].message.content\n",
    "display(Markdown(question))"
   ]
  },
  {
   "cell_type": "code",
   "execution_count": 5,
   "metadata": {},
   "outputs": [],
   "source": [
    "# Prompt for Answers\n",
    "competitors= []\n",
    "answers = []\n",
    "messages = [{\"role\": \"user\", \"content\": question}]"
   ]
  },
  {
   "cell_type": "code",
   "execution_count": 6,
   "metadata": {},
   "outputs": [
    {
     "data": {
      "text/markdown": [
       "A classic example from logic and linguistics.\n",
       "\n",
       "The phrase \"the quick brown fox jumps over the lazy dog\" is indeed an ungrammatical sentence that conveys a valid propositional meaning. However, it can be considered an instance of modalized modality because it expresses a hypothetical situation or possibility.\n",
       "\n",
       "Here's a breakdown:\n",
       "\n",
       "* The word \"quick,\" which denotes the color, has a proposition associated with it: \"brown.\" This part of speech is often referred to as a \"predicate.\"\n",
       "* Similarly, the words \"lazy\" and \"jumps over\" are predicates, which express verbs or actions.\n",
       "* Now, consider the sentence structure:\n",
       "\"The quick brown fox jumps over the lazy dog\"\n",
       "\n",
       "This sentence can be rephrased in two ways:\n",
       "\n",
       "1. It doesn't assert an existing state of affairs; instead, it expresses a hypothetical possibility: \"May a quick brown fox jump over a lazy dog.\"\n",
       "2. Or, it could be argued that it's not actually possible for a quick brown fox to jump over a lazy dog.\n",
       "\n",
       "In these rephrasings, we are not using modal verbs (e.g., \"it is likely\" or \"it must\") like in other sentences involving possibility or obligation. Instead, the focus is on representing the proposition associated with the predicates (\"quick,\" \"brown\", \"lazy\"). This representation of a hypothetical situation or possibility allows us to express that a particular action may take place in certain circumstances.\n",
       "\n",
       "The sentence as a whole can be seen as an expression of the modalized modality:\n",
       "\n",
       "**Proposition: May (or Must) X Z, where X is a predicate and Z is a concept.**\n",
       "\n",
       "In this case, **X = \"jumps\"**, **Z = \"over the lazy dog,\"** and is associated with predicates in the proposition (\"quick\" for brown).\n",
       "\n",
       "So, while the sentence itself is ungrammatical due to its specific syntax, it effectively conveys a valid propositional meaning by representing a hypothetical situation or possibility."
      ],
      "text/plain": [
       "<IPython.core.display.Markdown object>"
      ]
     },
     "metadata": {},
     "output_type": "display_data"
    }
   ],
   "source": [
    "# Ask Llama 3.2\n",
    "ollama = OpenAI(base_url='http://localhost:11434/v1', api_key='ollama')\n",
    "model_name = \"llama3.2:1b\"\n",
    "\n",
    "response = ollama.chat.completions.create(model=model_name, messages=messages)\n",
    "answer = response.choices[0].message.content\n",
    "\n",
    "display(Markdown(answer))\n",
    "competitors.append(model_name)\n",
    "answers.append(answer)"
   ]
  },
  {
   "cell_type": "code",
   "execution_count": 7,
   "metadata": {},
   "outputs": [
    {
     "data": {
      "text/markdown": [
       "Yes, I can answer your question.\n",
       "In this case, \"The quick brown fox jumps over the lazy dog\" isn't a grammatically perfect sentence. However, as a linguistic phenomenon, it's often seen as ungrammatical in certain contexts. This is because while it expresses an overall sense of motion or movement (\"The quick brown fox\"), there are several factors that make it non-grammatical:\n",
       "\n",
       "1. **Syntax**: Modifiers and other elements within the sentence should not be used to modify parts outside of them, which is known as \"syntax error.\" In this case, \"lazy dog\" can't function as part of the main clause or modify any other words in a way that would make it legitimate.\n",
       "\n",
       "2. **Pedants' point**: Some people argue for keeping word order consistent and applying a grammar rule, but there's a debate between these viewpoints since they don't address syntax errors directly; they might suggest \"lazy fox jumps over.\"\n",
       "\n",
       "3. **Semantic issues**: The sentence could be ungrammatical because the structure is inconsistent with standard English rules for verbs in second-person singular, as indicated by \"The.\" However, it follows English orthographic conventions (usually).\n",
       "\n",
       "4. **Word usage**: It's possible to interpret this more as a poetic or colloquial usage rather than a proper sentence.\n",
       "\n",
       "**Grammatically incorrect but semantically valid**\n",
       "\n",
       "If one considers the linguistic structure and potential misuse within certain contexts but maintains that it is ungrammatical per strict rules, we could consider it grammatically imperfect in a sense:\n",
       "\n",
       "\"It seems to suggest multiple parts being part of an entity without any logical connection outside these parts. It's like trying to say 'The cat chased the dog' when this specific statement doesn't adhere to common rules.\"\n",
       "\n",
       "This form can be seen as a semantic alternative that maintains structural integrity while still conveying meaningful meaning about the entities involved, particularly \"cat\" and \"dog.\"\n",
       "\n",
       "**Conclusion**: This sentence isn't ungrammatical per standard English rules but rather in a non-standard context where its parts are connected without logical adherence to conventional language structures."
      ],
      "text/plain": [
       "<IPython.core.display.Markdown object>"
      ]
     },
     "metadata": {},
     "output_type": "display_data"
    }
   ],
   "source": [
    "# Ask Qwen 2.5\n",
    "ollama = OpenAI(base_url='http://localhost:11434/v1', api_key='ollama')\n",
    "model_name = \"qwen2.5:0.5b\"\n",
    "\n",
    "response = ollama.chat.completions.create(model=model_name, messages=messages)\n",
    "answer = response.choices[0].message.content\n",
    "\n",
    "display(Markdown(answer))\n",
    "competitors.append(model_name)\n",
    "answers.append(answer)"
   ]
  },
  {
   "cell_type": "code",
   "execution_count": 8,
   "metadata": {},
   "outputs": [
    {
     "data": {
      "text/markdown": [
       "Yes, I can help with that. In this case, it's important to remember what we mean by 'ungrammatical.' Grammatically speaking (syntax), sentences must follow rules and structures laid out in linguistic conventions for them be deemed grammatically viable within their language context.\n",
       "\n",
       "The sentence \"The quick brown fox jumps over the lazy dog\" follows those conventional structural requirements. It's syntactically correct: noun phrases ('the quick brown fox', 'the lazy dog') are properly constructed, as is it conjunction with a verb phrase ('jumps over'). No parts of speech or rules related to subject-verb agreement seem violated.\n",
       "\n",
       "However, in terms of modalized modality (which can involve expressions like *can*, must), this sentence appears ungrammatical because there's no explicit expression indicating necessity/reliability/fact/potentiality. These words (\"can't\", \"mustn't\") are typically used when expressing certain shades or flavors to a proposition.\n",
       "\n",
       "\n",
       "Nonetheless - it conveys propositional meaning, as expected from the syntax: it's about an action ('jumps over') being performed by 'the quick brown fox' onto/in regards/to/from/within/later/the time-space of 'the lazy dog'. In this sense, even though modality isn't expressed in explicit terms here (no adverbs), we're clearly aware that a jumping act is taking place between two distinct agents or actors - the subjects.\n",
       "\n",
       "\n",
       "In sum: there's no violation against syntactic rules. It's just an instance where propositional statements convey inherent modal flavors without requiring overt 'must', 'can' etc., expressions -- thus, in this context deemed ungrammatical for its lack of visible modality indicators despite accurate representation as per usual sentence building criteria."
      ],
      "text/plain": [
       "<IPython.core.display.Markdown object>"
      ]
     },
     "metadata": {},
     "output_type": "display_data"
    }
   ],
   "source": [
    "# Ask Phi 4\n",
    "ollama = OpenAI(base_url='http://localhost:11434/v1', api_key='ollama')\n",
    "model_name = \"phi4-mini:3.8b\"\n",
    "\n",
    "response = ollama.chat.completions.create(model=model_name, messages=messages)\n",
    "answer = response.choices[0].message.content\n",
    "\n",
    "display(Markdown(answer))\n",
    "competitors.append(model_name)\n",
    "answers.append(answer)"
   ]
  },
  {
   "cell_type": "code",
   "execution_count": 9,
   "metadata": {},
   "outputs": [
    {
     "name": "stdout",
     "output_type": "stream",
     "text": [
      "['llama3.2:1b', 'qwen2.5:0.5b', 'phi4-mini:3.8b']\n",
      "['A classic example from logic and linguistics.\\n\\nThe phrase \"the quick brown fox jumps over the lazy dog\" is indeed an ungrammatical sentence that conveys a valid propositional meaning. However, it can be considered an instance of modalized modality because it expresses a hypothetical situation or possibility.\\n\\nHere\\'s a breakdown:\\n\\n* The word \"quick,\" which denotes the color, has a proposition associated with it: \"brown.\" This part of speech is often referred to as a \"predicate.\"\\n* Similarly, the words \"lazy\" and \"jumps over\" are predicates, which express verbs or actions.\\n* Now, consider the sentence structure:\\n\"The quick brown fox jumps over the lazy dog\"\\n\\nThis sentence can be rephrased in two ways:\\n\\n1. It doesn\\'t assert an existing state of affairs; instead, it expresses a hypothetical possibility: \"May a quick brown fox jump over a lazy dog.\"\\n2. Or, it could be argued that it\\'s not actually possible for a quick brown fox to jump over a lazy dog.\\n\\nIn these rephrasings, we are not using modal verbs (e.g., \"it is likely\" or \"it must\") like in other sentences involving possibility or obligation. Instead, the focus is on representing the proposition associated with the predicates (\"quick,\" \"brown\", \"lazy\"). This representation of a hypothetical situation or possibility allows us to express that a particular action may take place in certain circumstances.\\n\\nThe sentence as a whole can be seen as an expression of the modalized modality:\\n\\n**Proposition: May (or Must) X Z, where X is a predicate and Z is a concept.**\\n\\nIn this case, **X = \"jumps\"**, **Z = \"over the lazy dog,\"** and is associated with predicates in the proposition (\"quick\" for brown).\\n\\nSo, while the sentence itself is ungrammatical due to its specific syntax, it effectively conveys a valid propositional meaning by representing a hypothetical situation or possibility.', 'Yes, I can answer your question.\\nIn this case, \"The quick brown fox jumps over the lazy dog\" isn\\'t a grammatically perfect sentence. However, as a linguistic phenomenon, it\\'s often seen as ungrammatical in certain contexts. This is because while it expresses an overall sense of motion or movement (\"The quick brown fox\"), there are several factors that make it non-grammatical:\\n\\n1. **Syntax**: Modifiers and other elements within the sentence should not be used to modify parts outside of them, which is known as \"syntax error.\" In this case, \"lazy dog\" can\\'t function as part of the main clause or modify any other words in a way that would make it legitimate.\\n\\n2. **Pedants\\' point**: Some people argue for keeping word order consistent and applying a grammar rule, but there\\'s a debate between these viewpoints since they don\\'t address syntax errors directly; they might suggest \"lazy fox jumps over.\"\\n\\n3. **Semantic issues**: The sentence could be ungrammatical because the structure is inconsistent with standard English rules for verbs in second-person singular, as indicated by \"The.\" However, it follows English orthographic conventions (usually).\\n\\n4. **Word usage**: It\\'s possible to interpret this more as a poetic or colloquial usage rather than a proper sentence.\\n\\n**Grammatically incorrect but semantically valid**\\n\\nIf one considers the linguistic structure and potential misuse within certain contexts but maintains that it is ungrammatical per strict rules, we could consider it grammatically imperfect in a sense:\\n\\n\"It seems to suggest multiple parts being part of an entity without any logical connection outside these parts. It\\'s like trying to say \\'The cat chased the dog\\' when this specific statement doesn\\'t adhere to common rules.\"\\n\\nThis form can be seen as a semantic alternative that maintains structural integrity while still conveying meaningful meaning about the entities involved, particularly \"cat\" and \"dog.\"\\n\\n**Conclusion**: This sentence isn\\'t ungrammatical per standard English rules but rather in a non-standard context where its parts are connected without logical adherence to conventional language structures.', 'Yes, I can help with that. In this case, it\\'s important to remember what we mean by \\'ungrammatical.\\' Grammatically speaking (syntax), sentences must follow rules and structures laid out in linguistic conventions for them be deemed grammatically viable within their language context.\\n\\nThe sentence \"The quick brown fox jumps over the lazy dog\" follows those conventional structural requirements. It\\'s syntactically correct: noun phrases (\\'the quick brown fox\\', \\'the lazy dog\\') are properly constructed, as is it conjunction with a verb phrase (\\'jumps over\\'). No parts of speech or rules related to subject-verb agreement seem violated.\\n\\nHowever, in terms of modalized modality (which can involve expressions like *can*, must), this sentence appears ungrammatical because there\\'s no explicit expression indicating necessity/reliability/fact/potentiality. These words (\"can\\'t\", \"mustn\\'t\") are typically used when expressing certain shades or flavors to a proposition.\\n\\n\\nNonetheless - it conveys propositional meaning, as expected from the syntax: it\\'s about an action (\\'jumps over\\') being performed by \\'the quick brown fox\\' onto/in regards/to/from/within/later/the time-space of \\'the lazy dog\\'. In this sense, even though modality isn\\'t expressed in explicit terms here (no adverbs), we\\'re clearly aware that a jumping act is taking place between two distinct agents or actors - the subjects.\\n\\n\\nIn sum: there\\'s no violation against syntactic rules. It\\'s just an instance where propositional statements convey inherent modal flavors without requiring overt \\'must\\', \\'can\\' etc., expressions -- thus, in this context deemed ungrammatical for its lack of visible modality indicators despite accurate representation as per usual sentence building criteria.']\n"
     ]
    }
   ],
   "source": [
    "# So where are we?\n",
    "print(competitors)\n",
    "print(answers)"
   ]
  },
  {
   "cell_type": "code",
   "execution_count": 10,
   "metadata": {},
   "outputs": [
    {
     "name": "stdout",
     "output_type": "stream",
     "text": [
      "Competitor: llama3.2:1b\n",
      "\n",
      "A classic example from logic and linguistics.\n",
      "\n",
      "The phrase \"the quick brown fox jumps over the lazy dog\" is indeed an ungrammatical sentence that conveys a valid propositional meaning. However, it can be considered an instance of modalized modality because it expresses a hypothetical situation or possibility.\n",
      "\n",
      "Here's a breakdown:\n",
      "\n",
      "* The word \"quick,\" which denotes the color, has a proposition associated with it: \"brown.\" This part of speech is often referred to as a \"predicate.\"\n",
      "* Similarly, the words \"lazy\" and \"jumps over\" are predicates, which express verbs or actions.\n",
      "* Now, consider the sentence structure:\n",
      "\"The quick brown fox jumps over the lazy dog\"\n",
      "\n",
      "This sentence can be rephrased in two ways:\n",
      "\n",
      "1. It doesn't assert an existing state of affairs; instead, it expresses a hypothetical possibility: \"May a quick brown fox jump over a lazy dog.\"\n",
      "2. Or, it could be argued that it's not actually possible for a quick brown fox to jump over a lazy dog.\n",
      "\n",
      "In these rephrasings, we are not using modal verbs (e.g., \"it is likely\" or \"it must\") like in other sentences involving possibility or obligation. Instead, the focus is on representing the proposition associated with the predicates (\"quick,\" \"brown\", \"lazy\"). This representation of a hypothetical situation or possibility allows us to express that a particular action may take place in certain circumstances.\n",
      "\n",
      "The sentence as a whole can be seen as an expression of the modalized modality:\n",
      "\n",
      "**Proposition: May (or Must) X Z, where X is a predicate and Z is a concept.**\n",
      "\n",
      "In this case, **X = \"jumps\"**, **Z = \"over the lazy dog,\"** and is associated with predicates in the proposition (\"quick\" for brown).\n",
      "\n",
      "So, while the sentence itself is ungrammatical due to its specific syntax, it effectively conveys a valid propositional meaning by representing a hypothetical situation or possibility.\n",
      "Competitor: qwen2.5:0.5b\n",
      "\n",
      "Yes, I can answer your question.\n",
      "In this case, \"The quick brown fox jumps over the lazy dog\" isn't a grammatically perfect sentence. However, as a linguistic phenomenon, it's often seen as ungrammatical in certain contexts. This is because while it expresses an overall sense of motion or movement (\"The quick brown fox\"), there are several factors that make it non-grammatical:\n",
      "\n",
      "1. **Syntax**: Modifiers and other elements within the sentence should not be used to modify parts outside of them, which is known as \"syntax error.\" In this case, \"lazy dog\" can't function as part of the main clause or modify any other words in a way that would make it legitimate.\n",
      "\n",
      "2. **Pedants' point**: Some people argue for keeping word order consistent and applying a grammar rule, but there's a debate between these viewpoints since they don't address syntax errors directly; they might suggest \"lazy fox jumps over.\"\n",
      "\n",
      "3. **Semantic issues**: The sentence could be ungrammatical because the structure is inconsistent with standard English rules for verbs in second-person singular, as indicated by \"The.\" However, it follows English orthographic conventions (usually).\n",
      "\n",
      "4. **Word usage**: It's possible to interpret this more as a poetic or colloquial usage rather than a proper sentence.\n",
      "\n",
      "**Grammatically incorrect but semantically valid**\n",
      "\n",
      "If one considers the linguistic structure and potential misuse within certain contexts but maintains that it is ungrammatical per strict rules, we could consider it grammatically imperfect in a sense:\n",
      "\n",
      "\"It seems to suggest multiple parts being part of an entity without any logical connection outside these parts. It's like trying to say 'The cat chased the dog' when this specific statement doesn't adhere to common rules.\"\n",
      "\n",
      "This form can be seen as a semantic alternative that maintains structural integrity while still conveying meaningful meaning about the entities involved, particularly \"cat\" and \"dog.\"\n",
      "\n",
      "**Conclusion**: This sentence isn't ungrammatical per standard English rules but rather in a non-standard context where its parts are connected without logical adherence to conventional language structures.\n",
      "Competitor: phi4-mini:3.8b\n",
      "\n",
      "Yes, I can help with that. In this case, it's important to remember what we mean by 'ungrammatical.' Grammatically speaking (syntax), sentences must follow rules and structures laid out in linguistic conventions for them be deemed grammatically viable within their language context.\n",
      "\n",
      "The sentence \"The quick brown fox jumps over the lazy dog\" follows those conventional structural requirements. It's syntactically correct: noun phrases ('the quick brown fox', 'the lazy dog') are properly constructed, as is it conjunction with a verb phrase ('jumps over'). No parts of speech or rules related to subject-verb agreement seem violated.\n",
      "\n",
      "However, in terms of modalized modality (which can involve expressions like *can*, must), this sentence appears ungrammatical because there's no explicit expression indicating necessity/reliability/fact/potentiality. These words (\"can't\", \"mustn't\") are typically used when expressing certain shades or flavors to a proposition.\n",
      "\n",
      "\n",
      "Nonetheless - it conveys propositional meaning, as expected from the syntax: it's about an action ('jumps over') being performed by 'the quick brown fox' onto/in regards/to/from/within/later/the time-space of 'the lazy dog'. In this sense, even though modality isn't expressed in explicit terms here (no adverbs), we're clearly aware that a jumping act is taking place between two distinct agents or actors - the subjects.\n",
      "\n",
      "\n",
      "In sum: there's no violation against syntactic rules. It's just an instance where propositional statements convey inherent modal flavors without requiring overt 'must', 'can' etc., expressions -- thus, in this context deemed ungrammatical for its lack of visible modality indicators despite accurate representation as per usual sentence building criteria.\n"
     ]
    }
   ],
   "source": [
    "# It's nice to know how to use \"zip\"\n",
    "for competitor, answer in zip(competitors, answers):\n",
    "    print(f\"Competitor: {competitor}\\n\\n{answer}\")\n"
   ]
  },
  {
   "cell_type": "code",
   "execution_count": 11,
   "metadata": {},
   "outputs": [],
   "source": [
    "# Let's bring this together - note the use of \"enumerate\"\n",
    "\n",
    "together = \"\"\n",
    "for index, answer in enumerate(answers):\n",
    "    together += f\"# Response from competitor {index+1}\\n\\n\"\n",
    "    together += answer + \"\\n\\n\""
   ]
  },
  {
   "cell_type": "code",
   "execution_count": 12,
   "metadata": {},
   "outputs": [
    {
     "name": "stdout",
     "output_type": "stream",
     "text": [
      "# Response from competitor 1\n",
      "\n",
      "A classic example from logic and linguistics.\n",
      "\n",
      "The phrase \"the quick brown fox jumps over the lazy dog\" is indeed an ungrammatical sentence that conveys a valid propositional meaning. However, it can be considered an instance of modalized modality because it expresses a hypothetical situation or possibility.\n",
      "\n",
      "Here's a breakdown:\n",
      "\n",
      "* The word \"quick,\" which denotes the color, has a proposition associated with it: \"brown.\" This part of speech is often referred to as a \"predicate.\"\n",
      "* Similarly, the words \"lazy\" and \"jumps over\" are predicates, which express verbs or actions.\n",
      "* Now, consider the sentence structure:\n",
      "\"The quick brown fox jumps over the lazy dog\"\n",
      "\n",
      "This sentence can be rephrased in two ways:\n",
      "\n",
      "1. It doesn't assert an existing state of affairs; instead, it expresses a hypothetical possibility: \"May a quick brown fox jump over a lazy dog.\"\n",
      "2. Or, it could be argued that it's not actually possible for a quick brown fox to jump over a lazy dog.\n",
      "\n",
      "In these rephrasings, we are not using modal verbs (e.g., \"it is likely\" or \"it must\") like in other sentences involving possibility or obligation. Instead, the focus is on representing the proposition associated with the predicates (\"quick,\" \"brown\", \"lazy\"). This representation of a hypothetical situation or possibility allows us to express that a particular action may take place in certain circumstances.\n",
      "\n",
      "The sentence as a whole can be seen as an expression of the modalized modality:\n",
      "\n",
      "**Proposition: May (or Must) X Z, where X is a predicate and Z is a concept.**\n",
      "\n",
      "In this case, **X = \"jumps\"**, **Z = \"over the lazy dog,\"** and is associated with predicates in the proposition (\"quick\" for brown).\n",
      "\n",
      "So, while the sentence itself is ungrammatical due to its specific syntax, it effectively conveys a valid propositional meaning by representing a hypothetical situation or possibility.\n",
      "\n",
      "# Response from competitor 2\n",
      "\n",
      "Yes, I can answer your question.\n",
      "In this case, \"The quick brown fox jumps over the lazy dog\" isn't a grammatically perfect sentence. However, as a linguistic phenomenon, it's often seen as ungrammatical in certain contexts. This is because while it expresses an overall sense of motion or movement (\"The quick brown fox\"), there are several factors that make it non-grammatical:\n",
      "\n",
      "1. **Syntax**: Modifiers and other elements within the sentence should not be used to modify parts outside of them, which is known as \"syntax error.\" In this case, \"lazy dog\" can't function as part of the main clause or modify any other words in a way that would make it legitimate.\n",
      "\n",
      "2. **Pedants' point**: Some people argue for keeping word order consistent and applying a grammar rule, but there's a debate between these viewpoints since they don't address syntax errors directly; they might suggest \"lazy fox jumps over.\"\n",
      "\n",
      "3. **Semantic issues**: The sentence could be ungrammatical because the structure is inconsistent with standard English rules for verbs in second-person singular, as indicated by \"The.\" However, it follows English orthographic conventions (usually).\n",
      "\n",
      "4. **Word usage**: It's possible to interpret this more as a poetic or colloquial usage rather than a proper sentence.\n",
      "\n",
      "**Grammatically incorrect but semantically valid**\n",
      "\n",
      "If one considers the linguistic structure and potential misuse within certain contexts but maintains that it is ungrammatical per strict rules, we could consider it grammatically imperfect in a sense:\n",
      "\n",
      "\"It seems to suggest multiple parts being part of an entity without any logical connection outside these parts. It's like trying to say 'The cat chased the dog' when this specific statement doesn't adhere to common rules.\"\n",
      "\n",
      "This form can be seen as a semantic alternative that maintains structural integrity while still conveying meaningful meaning about the entities involved, particularly \"cat\" and \"dog.\"\n",
      "\n",
      "**Conclusion**: This sentence isn't ungrammatical per standard English rules but rather in a non-standard context where its parts are connected without logical adherence to conventional language structures.\n",
      "\n",
      "# Response from competitor 3\n",
      "\n",
      "Yes, I can help with that. In this case, it's important to remember what we mean by 'ungrammatical.' Grammatically speaking (syntax), sentences must follow rules and structures laid out in linguistic conventions for them be deemed grammatically viable within their language context.\n",
      "\n",
      "The sentence \"The quick brown fox jumps over the lazy dog\" follows those conventional structural requirements. It's syntactically correct: noun phrases ('the quick brown fox', 'the lazy dog') are properly constructed, as is it conjunction with a verb phrase ('jumps over'). No parts of speech or rules related to subject-verb agreement seem violated.\n",
      "\n",
      "However, in terms of modalized modality (which can involve expressions like *can*, must), this sentence appears ungrammatical because there's no explicit expression indicating necessity/reliability/fact/potentiality. These words (\"can't\", \"mustn't\") are typically used when expressing certain shades or flavors to a proposition.\n",
      "\n",
      "\n",
      "Nonetheless - it conveys propositional meaning, as expected from the syntax: it's about an action ('jumps over') being performed by 'the quick brown fox' onto/in regards/to/from/within/later/the time-space of 'the lazy dog'. In this sense, even though modality isn't expressed in explicit terms here (no adverbs), we're clearly aware that a jumping act is taking place between two distinct agents or actors - the subjects.\n",
      "\n",
      "\n",
      "In sum: there's no violation against syntactic rules. It's just an instance where propositional statements convey inherent modal flavors without requiring overt 'must', 'can' etc., expressions -- thus, in this context deemed ungrammatical for its lack of visible modality indicators despite accurate representation as per usual sentence building criteria.\n",
      "\n",
      "\n"
     ]
    }
   ],
   "source": [
    "print(together)"
   ]
  },
  {
   "cell_type": "code",
   "execution_count": 13,
   "metadata": {},
   "outputs": [],
   "source": [
    "judge = f\"\"\"You are judging a competition between {len(competitors)} competitors.\n",
    "Each model has been given this question:\n",
    "\n",
    "{request}\n",
    "\n",
    "Your job is to evaluate each response for clarity and strength of argument, and rank them in order of best to worst.\n",
    "Respond with JSON, and only JSON, with the following format:\n",
    "{{\"results\": [\"best competitor number\", \"second best competitor number\", \"third best competitor number\", ...]}}\n",
    "\n",
    "Here are the responses from each competitor:\n",
    "\n",
    "{together}\n",
    "\n",
    "Now respond with the JSON with the ranked order of the competitors, nothing else. Do not include markdown formatting or code blocks.\"\"\"\n"
   ]
  },
  {
   "cell_type": "code",
   "execution_count": 14,
   "metadata": {},
   "outputs": [
    {
     "name": "stdout",
     "output_type": "stream",
     "text": [
      "You are judging a competition between 3 competitors.\n",
      "Each model has been given this question:\n",
      "\n",
      "Please come up with a challenging, nuanced question that I can ask a number of LLMs to evaluate their intelligence. Answer only with the question, no explanation.\n",
      "\n",
      "Your job is to evaluate each response for clarity and strength of argument, and rank them in order of best to worst.\n",
      "Respond with JSON, and only JSON, with the following format:\n",
      "{\"results\": [\"best competitor number\", \"second best competitor number\", \"third best competitor number\", ...]}\n",
      "\n",
      "Here are the responses from each competitor:\n",
      "\n",
      "# Response from competitor 1\n",
      "\n",
      "A classic example from logic and linguistics.\n",
      "\n",
      "The phrase \"the quick brown fox jumps over the lazy dog\" is indeed an ungrammatical sentence that conveys a valid propositional meaning. However, it can be considered an instance of modalized modality because it expresses a hypothetical situation or possibility.\n",
      "\n",
      "Here's a breakdown:\n",
      "\n",
      "* The word \"quick,\" which denotes the color, has a proposition associated with it: \"brown.\" This part of speech is often referred to as a \"predicate.\"\n",
      "* Similarly, the words \"lazy\" and \"jumps over\" are predicates, which express verbs or actions.\n",
      "* Now, consider the sentence structure:\n",
      "\"The quick brown fox jumps over the lazy dog\"\n",
      "\n",
      "This sentence can be rephrased in two ways:\n",
      "\n",
      "1. It doesn't assert an existing state of affairs; instead, it expresses a hypothetical possibility: \"May a quick brown fox jump over a lazy dog.\"\n",
      "2. Or, it could be argued that it's not actually possible for a quick brown fox to jump over a lazy dog.\n",
      "\n",
      "In these rephrasings, we are not using modal verbs (e.g., \"it is likely\" or \"it must\") like in other sentences involving possibility or obligation. Instead, the focus is on representing the proposition associated with the predicates (\"quick,\" \"brown\", \"lazy\"). This representation of a hypothetical situation or possibility allows us to express that a particular action may take place in certain circumstances.\n",
      "\n",
      "The sentence as a whole can be seen as an expression of the modalized modality:\n",
      "\n",
      "**Proposition: May (or Must) X Z, where X is a predicate and Z is a concept.**\n",
      "\n",
      "In this case, **X = \"jumps\"**, **Z = \"over the lazy dog,\"** and is associated with predicates in the proposition (\"quick\" for brown).\n",
      "\n",
      "So, while the sentence itself is ungrammatical due to its specific syntax, it effectively conveys a valid propositional meaning by representing a hypothetical situation or possibility.\n",
      "\n",
      "# Response from competitor 2\n",
      "\n",
      "Yes, I can answer your question.\n",
      "In this case, \"The quick brown fox jumps over the lazy dog\" isn't a grammatically perfect sentence. However, as a linguistic phenomenon, it's often seen as ungrammatical in certain contexts. This is because while it expresses an overall sense of motion or movement (\"The quick brown fox\"), there are several factors that make it non-grammatical:\n",
      "\n",
      "1. **Syntax**: Modifiers and other elements within the sentence should not be used to modify parts outside of them, which is known as \"syntax error.\" In this case, \"lazy dog\" can't function as part of the main clause or modify any other words in a way that would make it legitimate.\n",
      "\n",
      "2. **Pedants' point**: Some people argue for keeping word order consistent and applying a grammar rule, but there's a debate between these viewpoints since they don't address syntax errors directly; they might suggest \"lazy fox jumps over.\"\n",
      "\n",
      "3. **Semantic issues**: The sentence could be ungrammatical because the structure is inconsistent with standard English rules for verbs in second-person singular, as indicated by \"The.\" However, it follows English orthographic conventions (usually).\n",
      "\n",
      "4. **Word usage**: It's possible to interpret this more as a poetic or colloquial usage rather than a proper sentence.\n",
      "\n",
      "**Grammatically incorrect but semantically valid**\n",
      "\n",
      "If one considers the linguistic structure and potential misuse within certain contexts but maintains that it is ungrammatical per strict rules, we could consider it grammatically imperfect in a sense:\n",
      "\n",
      "\"It seems to suggest multiple parts being part of an entity without any logical connection outside these parts. It's like trying to say 'The cat chased the dog' when this specific statement doesn't adhere to common rules.\"\n",
      "\n",
      "This form can be seen as a semantic alternative that maintains structural integrity while still conveying meaningful meaning about the entities involved, particularly \"cat\" and \"dog.\"\n",
      "\n",
      "**Conclusion**: This sentence isn't ungrammatical per standard English rules but rather in a non-standard context where its parts are connected without logical adherence to conventional language structures.\n",
      "\n",
      "# Response from competitor 3\n",
      "\n",
      "Yes, I can help with that. In this case, it's important to remember what we mean by 'ungrammatical.' Grammatically speaking (syntax), sentences must follow rules and structures laid out in linguistic conventions for them be deemed grammatically viable within their language context.\n",
      "\n",
      "The sentence \"The quick brown fox jumps over the lazy dog\" follows those conventional structural requirements. It's syntactically correct: noun phrases ('the quick brown fox', 'the lazy dog') are properly constructed, as is it conjunction with a verb phrase ('jumps over'). No parts of speech or rules related to subject-verb agreement seem violated.\n",
      "\n",
      "However, in terms of modalized modality (which can involve expressions like *can*, must), this sentence appears ungrammatical because there's no explicit expression indicating necessity/reliability/fact/potentiality. These words (\"can't\", \"mustn't\") are typically used when expressing certain shades or flavors to a proposition.\n",
      "\n",
      "\n",
      "Nonetheless - it conveys propositional meaning, as expected from the syntax: it's about an action ('jumps over') being performed by 'the quick brown fox' onto/in regards/to/from/within/later/the time-space of 'the lazy dog'. In this sense, even though modality isn't expressed in explicit terms here (no adverbs), we're clearly aware that a jumping act is taking place between two distinct agents or actors - the subjects.\n",
      "\n",
      "\n",
      "In sum: there's no violation against syntactic rules. It's just an instance where propositional statements convey inherent modal flavors without requiring overt 'must', 'can' etc., expressions -- thus, in this context deemed ungrammatical for its lack of visible modality indicators despite accurate representation as per usual sentence building criteria.\n",
      "\n",
      "\n",
      "\n",
      "Now respond with the JSON with the ranked order of the competitors, nothing else. Do not include markdown formatting or code blocks.\n"
     ]
    }
   ],
   "source": [
    "print(judge)"
   ]
  },
  {
   "cell_type": "code",
   "execution_count": 15,
   "metadata": {},
   "outputs": [],
   "source": [
    "judge_messages = [{\"role\": \"user\", \"content\": judge}]"
   ]
  },
  {
   "cell_type": "code",
   "execution_count": 20,
   "metadata": {},
   "outputs": [
    {
     "name": "stdout",
     "output_type": "stream",
     "text": [
      "{\"results\": [\"3\", \"1\", \"2\"]}\n"
     ]
    }
   ],
   "source": [
    "# Judgement time!\n",
    "\n",
    "openai = OpenAI(base_url='http://localhost:11434/v1', api_key='ollama')\n",
    "response = openai.chat.completions.create(\n",
    "    model=\"llama3.2:1b\",\n",
    "    messages=judge_messages,\n",
    ")\n",
    "results = response.choices[0].message.content\n",
    "print(results)\n"
   ]
  },
  {
   "cell_type": "code",
   "execution_count": 21,
   "metadata": {},
   "outputs": [
    {
     "name": "stdout",
     "output_type": "stream",
     "text": [
      "Rank 1: phi4-mini:3.8b\n",
      "Rank 2: llama3.2:1b\n",
      "Rank 3: qwen2.5:0.5b\n"
     ]
    }
   ],
   "source": [
    "# OK let's turn this into results!\n",
    "\n",
    "results_dict = json.loads(results)\n",
    "ranks = results_dict[\"results\"]\n",
    "for index, result in enumerate(ranks):\n",
    "    competitor = competitors[int(result)-1]\n",
    "    print(f\"Rank {index+1}: {competitor}\")"
   ]
  },
  {
   "cell_type": "markdown",
   "metadata": {},
   "source": [
    "<table style=\"margin: 0; text-align: left; width:100%\">\n",
    "    <tr>\n",
    "        <td style=\"width: 150px; height: 150px; vertical-align: middle;\">\n",
    "            <img src=\"../assets/exercise.png\" width=\"150\" height=\"150\" style=\"display: block;\" />\n",
    "        </td>\n",
    "        <td>\n",
    "            <h2 style=\"color:#ff7800;\">Exercise</h2>\n",
    "            <span style=\"color:#ff7800;\">Which pattern(s) did this use? Try updating this to add another Agentic design pattern.\n",
    "            </span>\n",
    "        </td>\n",
    "    </tr>\n",
    "</table>"
   ]
  },
  {
   "cell_type": "markdown",
   "metadata": {},
   "source": [
    "<table style=\"margin: 0; text-align: left; width:100%\">\n",
    "    <tr>\n",
    "        <td style=\"width: 150px; height: 150px; vertical-align: middle;\">\n",
    "            <img src=\"../assets/business.png\" width=\"150\" height=\"150\" style=\"display: block;\" />\n",
    "        </td>\n",
    "        <td>\n",
    "            <h2 style=\"color:#00bfff;\">Commercial implications</h2>\n",
    "            <span style=\"color:#00bfff;\">These kinds of patterns - to send a task to multiple models, and evaluate results,\n",
    "            are common where you need to improve the quality of your LLM response. This approach can be universally applied\n",
    "            to business projects where accuracy is critical.\n",
    "            </span>\n",
    "        </td>\n",
    "    </tr>\n",
    "</table>"
   ]
  }
 ],
 "metadata": {
  "kernelspec": {
   "display_name": ".venv",
   "language": "python",
   "name": "python3"
  },
  "language_info": {
   "codemirror_mode": {
    "name": "ipython",
    "version": 3
   },
   "file_extension": ".py",
   "mimetype": "text/x-python",
   "name": "python",
   "nbconvert_exporter": "python",
   "pygments_lexer": "ipython3",
   "version": "3.12.9"
  }
 },
 "nbformat": 4,
 "nbformat_minor": 2
}
